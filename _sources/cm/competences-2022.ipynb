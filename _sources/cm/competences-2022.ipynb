{
 "cells": [
  {
   "cell_type": "markdown",
   "metadata": {},
   "source": [
    "# Compétences \n",
    "\n",
    "version 2022, PhL.\n",
    "\n",
    "Les compétences de cet enseignement sont rassemblées dans ce fichier pour vous aider à contrôler votre apprentissage tout au long du semestre.\n"
   ]
  },
  {
   "cell_type": "code",
   "execution_count": 1,
   "metadata": {},
   "outputs": [],
   "source": [
    "# -*- coding : utf8 -*-\n",
    "from typing import List"
   ]
  },
  {
   "cell_type": "markdown",
   "metadata": {
    "slideshow": {
     "slide_type": "skip"
    }
   },
   "source": [
    "## Savoir faire et pré-requis technique\n",
    "\n",
    "Dans/avec un notebook jupyter :\n",
    "\n",
    "- savoir mettre en oeuvre de la programmation simple en python (niveau semestre 1) dans un notebook jupyter \n",
    "- savoir documenter cette programmation (énoncés, descriptions, ...) avec markdown"
   ]
  },
  {
   "cell_type": "markdown",
   "metadata": {
    "slideshow": {
     "slide_type": "skip"
    }
   },
   "source": [
    "## Fonctions\n",
    "\n",
    "### Avoir les idées claires\n",
    "\n",
    "- reconnaître et utiliser une fonction prédéfinie ou existante\n",
    "- reconnaître et distinguer :\n",
    "    - définition et paramètres formels _vs._ appel et paramètres effectifs\n",
    "    - spécification, en-tête, signature : spécifier pour utiliser, pour vérifier  _vs._ corps : implémentation du traitement  \n",
    "- comprendre que appel = changement de contexte  \n",
    "    - trace de l'exécution _vs._ séquentialité des instructions écrites \n",
    "    - dynamique vs. statique  \n",
    "- distinguer appelant _vs._ appelé : \n",
    "    - le rôle de l'appel, \n",
    "    - le rôle du `return` \n",
    "- identifier la portée des variables : \n",
    "    - variables locales _vs._ variables plus globales  \n",
    "- se souvenir que l'effet de bord est indésirable  \n",
    "\n",
    "\n",
    "### Ce qu'il faut savoir faire \n",
    "\n",
    "**Cadre** : en/pour python \n",
    "\n",
    "- utiliser une fonction prédéfinie ou existante\n",
    "- définir et écrire la spécification d'une fonction qui réalise un traitement décrit en français, ou qui résoud un problème (simple) décrit en français  \n",
    "- définir et écrire des appels simples (tests unitaires) \n",
    "- définir et écrire l'implémentation d'une fonction associée à une spécification "
   ]
  },
  {
   "cell_type": "markdown",
   "metadata": {
    "slideshow": {
     "slide_type": "skip"
    }
   },
   "source": [
    "## Boucles avancées\n",
    "\n",
    "### Avoir les idées claires\n",
    "\n",
    "- Structure de données : représentation d'un tableau multidimensionnel comme une liste de listes  \n",
    "- Structure de contrôle de type boucles imbriquées indépendantes et dépendantes : \n",
    "    - intérêt et exemples simples, \n",
    "    - dénombrer les itérations de ces constructions.\n",
    "\n",
    "### Ce qu'il faut savoir faire \n",
    "\n",
    "**Cadre** : en/pour python \n",
    "\n",
    "- Définir et écrire un traitement classique de tableau multidimensionnel  : parcours simple, parcours conditionnel \n",
    "- Ecrire une initialisation de tableau multidimensionnel en python (représenté par des listes)\n",
    "- Définir et écrire une spécification de fonction avec des paramètres de type tableau  \n",
    "- Identifier les cas particuliers liés à la structure de tableau : tableau de dimension 0, tableau vide"
   ]
  },
  {
   "cell_type": "markdown",
   "metadata": {},
   "source": [
    "## Entrées-Sorties : fichiers\n",
    "\n",
    "### Avoir les idées claires\n",
    "\n",
    "- Distinguer fichier logique _vs._ physique, texte _vs._ binaire, mode lecture _vs._ écriture (_vs._ lecture-écriture) \n",
    "- Connaître les étapes de manipulation d'un fichier : association/ouverture/lecture-écriture/fermeture\n",
    "- Distinguer valeur (numérique) et sa représentation textuelle \n",
    "\n",
    "### Savoir-faire\n",
    "\n",
    "- Savoir écrire les lectures-écritures simples de fichier texte avec les instructions python adaptées  \n",
    "- Comprendre et gérer l'effet des caractères spéciaux "
   ]
  },
  {
   "cell_type": "markdown",
   "metadata": {},
   "source": [
    "## Complexité\n",
    "\n",
    "### Avoir les idées claires\n",
    "\n",
    "- Principes de l'analyse de la complexité en temps : modèle de calcul RAM, paramètres de complexité, meilleur et pire cas\n",
    "- Complexité asymptotique : notations de Landau, principales classes de complexité des algorithmes, interprétation pratique de ces classes\n",
    "- Complexité, pires et meilleurs cas des algorithmes vus ce semestre\n",
    "- Savoir établir la complexité d'algorithmes itératifs simples ou récursifs terminaux.\n",
    "\n",
    "\n",
    "### Savoir-faire\n",
    "\n",
    "- Exemples d'algorithme des principales classes de complexité \n",
    "- Savoir identifier (sans nécessairement le prouver) la complexité, les meilleur-pire cas d'un algorithme  "
   ]
  },
  {
   "cell_type": "markdown",
   "metadata": {},
   "source": [
    "## Types composés\n",
    "\n",
    "### Avoir les idées claires\n",
    "\n",
    "voir cours \n",
    "\n",
    "### Savoir-faire\n",
    "\n",
    "voir cours"
   ]
  },
  {
   "cell_type": "markdown",
   "metadata": {},
   "source": [
    "## Récursivité\n",
    "\n",
    "### Avoir les idées claires\n",
    "\n",
    "- Savoir conduire une approche diviser pour régner et en déduire une solution récursive : application à des exemples calculatoires simples (factorielles, exponentiation entière, exponentiation rapide)\n",
    "- Savoir identifier la (ou les) terminaison, la récursions et l'initialisation d'un traitement avec un algorithme récursif : application à des exemples simples (factorielles, exponentiation entière, exponentiation rapide)\n",
    "- \n",
    "\n",
    "### Savoir-faire\n",
    "\n",
    "- Savoir écrire sous la forme d'une fonction de même signature les versions itérative et récursive d'un traitement calculatoire simple\n",
    "- Construire la pile des appels et son évolution lors d'un traitement récursif\n",
    "\n"
   ]
  },
  {
   "cell_type": "markdown",
   "metadata": {},
   "source": [
    "## Entrées-Sorties : aspects avancés\n",
    "\n",
    "### Avoir les idées claires\n",
    "\n",
    "- Connaitre les principes du formatage des données pour pouvoir retrouver rapidement dans la documentation (de cours ou de référence) les commandes pour effectuer ce traitement.\n",
    "\n",
    "### Savoir-faire\n",
    "\n",
    "- Utiliser les formatages de base des types `int` et `float` de python\n",
    "- En s'appuyant sur les documents de cours ou de référence, définir et appliquer des formatages évolués et adaptés aux données manipulées avec python"
   ]
  },
  {
   "cell_type": "markdown",
   "metadata": {},
   "source": [
    "## Rechercher\n",
    "\n",
    "### Avoir les idées claires\n",
    "\n",
    "- Connaître les principes des formes itératives et récursives des algorithmes de recherche fondamentaux (recherche séquentielle, recherche dichotomique) \n",
    "- Savoir conduire une approche diviser pour régner et en déduire une solution récursive pour le problème de la recherche d'une valeur dans un ensemble ou des problèmes similaires.\n",
    "- Savoir identifier la (ou les) terminaison, la récursions et l'initialisation d'une recherche de valeur (ou problème similaire) avec un algorithme récursif\n",
    "- \n",
    "\n",
    "### Savoir-faire\n",
    "\n",
    "- Savoir écrire sous la forme d'une fonction de même signature les versions itérative et récursive d'un algorithme de recherche de valeur dans un ensemble\n",
    "- Savoir écrire des tests unitaires pertinents pour ces traitements  "
   ]
  },
  {
   "cell_type": "markdown",
   "metadata": {
    "slideshow": {
     "slide_type": "skip"
    }
   },
   "source": [
    "## Des QCM et autres sites à exploiter\n",
    "\n",
    "Le net est riche de ressources à exploiter. \n",
    "En voici quelques-unes sélectionnées et à exploiter en plus de ceux proposés à chaque fin de chapitre.\n",
    "\n",
    "- [Site](https://www.bernon.fr/index.php?page=exercice-banque-e3c-thème-a) de M. Bernon : QCMs interactifs issus de la banque de données des E3C  \n",
    "\n",
    "- [Site](http://fabrice.sincere.free.fr/qcm/qcm.php?nom=qcm_python_function) de Fabrice Sincere (lien sur le qcm sur les fonctions) \n",
    "\n",
    "- Fonctions, Objectif 20 : [France IOI]\n",
    "(http://www.france-ioi.org/algo/chapter.php?idChapter=509)\n"
   ]
  },
  {
   "cell_type": "code",
   "execution_count": null,
   "metadata": {},
   "outputs": [],
   "source": []
  }
 ],
 "metadata": {
  "kernelspec": {
   "display_name": "Python 3 (ipykernel)",
   "language": "python",
   "name": "python3"
  },
  "language_info": {
   "codemirror_mode": {
    "name": "ipython",
    "version": 3
   },
   "file_extension": ".py",
   "mimetype": "text/x-python",
   "name": "python",
   "nbconvert_exporter": "python",
   "pygments_lexer": "ipython3",
   "version": "3.9.6"
  },
  "latex_envs": {
   "LaTeX_envs_menu_present": true,
   "autoclose": false,
   "autocomplete": true,
   "bibliofile": "biblio.bib",
   "cite_by": "apalike",
   "current_citInitial": 1,
   "eqLabelWithNumbers": true,
   "eqNumInitial": 1,
   "hotkeys": {
    "equation": "Ctrl-E",
    "itemize": "Ctrl-I"
   },
   "labels_anchors": false,
   "latex_user_defs": false,
   "report_style_numbering": true,
   "user_envs_cfg": false
  },
  "toc": {
   "nav_menu": {},
   "number_sections": true,
   "sideBar": false,
   "skip_h1_title": false,
   "title_cell": "Table des matières",
   "title_sidebar": "TdM",
   "toc_cell": true,
   "toc_position": {},
   "toc_section_display": true,
   "toc_window_display": false
  }
 },
 "nbformat": 4,
 "nbformat_minor": 4
}
