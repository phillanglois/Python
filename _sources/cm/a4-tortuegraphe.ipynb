{
 "cells": [
  {
   "cell_type": "markdown",
   "metadata": {
    "slideshow": {
     "slide_type": "slide"
    }
   },
   "source": [
    "(ann:turtledot)=\n",
    "# Tortue et graphes\n",
    "\n",
    "Mis à jour : {sub-ref}`today`, lecture : {sub-ref}`wordcount-minutes`\n",
    "minutes minimum, PhL."
   ]
  },
  {
   "cell_type": "markdown",
   "metadata": {
    "slideshow": {
     "slide_type": "subslide"
    }
   },
   "source": [
    "### A venir\n",
    "\n",
    "1. Autres algorithmes récursifs importants\n",
    "    - recherche séquentielle et dichotomique : voir chapitre \"Rechercher\"    \n",
    "    - trier : tri fusion, tri rapide : voir chapitre \"Trier\"  \n",
    "2. Etablir la complexité d'algos récursifs\n",
    "    - La fonction de complexité est une suite récursive : la complexité de la résolution récursive d'un problème de taille n est fonction de la complexité de la résolution (récursive) du problème de taille réduite.\n",
    "    - exemple : $C(n) = 2 \\times C(n/2) + 1$ et $C(1) = 1$\n",
    "    - autre exemple : $C(n) = p \\times C(n/p) + f(p)$ et $C(1) = 1$\n",
    "    - ...\n",
    "    - est traité en dernière partie du chapitre \"Complexités\"  \n",
    "3. Prouver la terminaison et la correction de ces algos récursifs\n",
    "    - est traité dans le chapitre \"Prouver\"  \n",
    "4. Dé-récursifier : récursif -> itératif (quand on peut)\n",
    "    - voir les slides du cours de 2016 : http://perso.univ-perp.fr/langlois/images/pdf/ens/L1/s7-sl4.pdf "
   ]
  },
  {
   "cell_type": "markdown",
   "metadata": {
    "slideshow": {
     "slide_type": "slide"
    },
    "tags": []
   },
   "source": [
    "(ann:traceVK)=\n",
    "## Pour tracer des segments de Von Koch avec turtle !\n",
    "\n",
    "Turtle utilise un affichage dans une fenêtre extérieure via tcl-tk.  \n",
    "Il est possible que cet affichage cohabite mal avec le notebook jupyter.  \n",
    "Il est préférable d'exécuter ces séquences de code python hors du notebook (idle, terminal, ...).  "
   ]
  },
  {
   "cell_type": "code",
   "execution_count": 30,
   "metadata": {
    "slideshow": {
     "slide_type": "subslide"
    }
   },
   "outputs": [],
   "source": [
    "import turtle as t\n",
    "#help(t)"
   ]
  },
  {
   "cell_type": "markdown",
   "metadata": {
    "slideshow": {
     "slide_type": "subslide"
    }
   },
   "source": [
    "```python\n",
    "\"\"\"Turtle : mouvements elementaires\"\"\"\n",
    "\n",
    "# init : taille ecran en pixels, clear ecran, reset des variablesm\n",
    "t.screensize(500,500)\n",
    "t.reset()\n",
    "t.hideturtle() # pour aller plus vite\n",
    "t.degrees() # angles en deg\n",
    "```"
   ]
  },
  {
   "cell_type": "markdown",
   "metadata": {
    "slideshow": {
     "slide_type": "subslide"
    }
   },
   "source": [
    "```python\n",
    "'''Utilise le module turtle \n",
    "Ouvre une fenêtre \n",
    "et trace 3 segments de VK\n",
    "'''\n",
    "\n",
    "def segment(d, n, color=\"black\"):\n",
    "    \"\"\"segment de von Koch\n",
    "    recursion sur n pour decouper le segment de longueur d et\n",
    "    tracer d (longueur du segment) pixels si n==0\"\"\"\n",
    "    t.pencolor(color)        \n",
    "\n",
    "    if n==0:\n",
    "        t.forward(d)\n",
    "    else:\n",
    "        dsur3 = d//3\n",
    "        segment(dsur3, n-1)\n",
    "        t.left(60)\n",
    "        segment(dsur3, n-1)\n",
    "        t.right(120)\n",
    "        segment(dsur3, n-1)\n",
    "        t.left(60)\n",
    "        segment(dsur3, n-1)\n",
    "\n",
    "# init        \n",
    "t.screensize(500,500)\n",
    "t.reset()\n",
    "t.hideturtle() # pour aller plus vite\n",
    "t.degrees() # angles en deg\n",
    "\n",
    "# taille\n",
    "d = 300\n",
    "#nbiter = input(\"nombre d'iterations = \")\n",
    "nbiter = 1\n",
    "h = 150 # espace vertical entre 2 traces\n",
    "\n",
    "# point de depart\n",
    "a = (-200, 400)\n",
    "\n",
    "# trace et changement point de depart\n",
    "for i in range(nbiter):\n",
    "    # deplacement au point de depart\n",
    "    t.up()\n",
    "    t.goto(a)\n",
    "    t.down()\n",
    "\n",
    "    # trace \n",
    "    segment(d, i)\n",
    "    \n",
    "    # maj point de depart\n",
    "    a = (a[0], a[1] - h)\n",
    "\n",
    "# pour attendre avant d'effacer la fenetre turtle\n",
    "v = input(\"OK ?\")\n",
    "t.reset()\n",
    "\n",
    "# pour que le trace reste a l ecran\n",
    "t. mainloop()\n",
    "```"
   ]
  },
  {
   "cell_type": "markdown",
   "metadata": {
    "slideshow": {
     "slide_type": "subslide"
    }
   },
   "source": [
    "```python\n",
    "'''trace (nbiter) flocons de VK'''\n",
    "def flocon(d, n, color=\"black\"):\n",
    "    ''' trace flocon de VK en utilisant segment'''\n",
    "    segment(d, n, color)\n",
    "    t.right(120)\n",
    "    segment(d, n, color)\n",
    "    t.right(120)\n",
    "    segment(d, n, color)\n",
    "    t.right(120)\n",
    "\n",
    "#nbiter = input(\"nombre d'iterations = \")\n",
    "nbiter = 3\n",
    "h = 150 # espace vertical entre 2 traces\n",
    "a = (-200, 200) # point de depart\n",
    "d = 84  # taille\n",
    "\n",
    "# trace et changement point de depart\n",
    "for i in range(nbiter):\n",
    "    # deplacement au point de depart\n",
    "    t.up()\n",
    "    t.goto(a)\n",
    "    t.down()\n",
    "\n",
    "    # trace \n",
    "    flocon(d, i)\n",
    "    \n",
    "    # maj point de depart\n",
    "    a = (a[0], a[1] - h)\n",
    "\n",
    "# pour attendre avant d'effacer la fenetre turtle\n",
    "v = input(\"OK ?\")\n",
    "t.reset()\n",
    " ```  "
   ]
  },
  {
   "cell_type": "markdown",
   "metadata": {},
   "source": [
    "(ann:graphviz)=\n",
    "### Pour tracer des graphes\n",
    "\n",
    "Un arbre est un graphe.\n",
    "Commençons avec une première construction simple de l'arbre des appels de `fact(4)`."
   ]
  },
  {
   "cell_type": "code",
   "execution_count": 31,
   "metadata": {
    "slideshow": {
     "slide_type": "notes"
    }
   },
   "outputs": [],
   "source": [
    "import graphviz as gvz\n",
    "import functools\n",
    "\n",
    "#help(gvz)"
   ]
  },
  {
   "cell_type": "code",
   "execution_count": 32,
   "metadata": {
    "slideshow": {
     "slide_type": "notes"
    }
   },
   "outputs": [],
   "source": [
    "''' arbre des appels du calcul de fact(4) : construction simple'''\n",
    "fact4 = gvz.Digraph(format='jpg')\n",
    "fact4.node('f4', label='fact(4)')\n",
    "fact4.node('f3', label='fact(3)')\n",
    "fact4.node('f2', label='fact(2)')\n",
    "fact4.node('f1', label='fact(1)', color='red')\n",
    "fact4.edge('f4', 'f3')\n",
    "fact4.edge('f3', 'f2')\n",
    "fact4.edge('f2', 'f1')\n",
    "\n",
    "file_out = fact4.render('fig/fact4_dot')"
   ]
  },
  {
   "cell_type": "code",
   "execution_count": 33,
   "metadata": {
    "slideshow": {
     "slide_type": "notes"
    }
   },
   "outputs": [
    {
     "name": "stdout",
     "output_type": "stream",
     "text": [
      "Affichage arbre construit avec le code précédent\n"
     ]
    },
    {
     "data": {
      "image/jpeg": "[encoded data removed]",
      "text/plain": [
       "<IPython.core.display.Image object>"
      ]
     },
     "metadata": {},
     "output_type": "display_data"
    }
   ],
   "source": [
    "'''Affichage arbre construit avec le code précédent'''\n",
    "from IPython.display import display, Image\n",
    "print(__doc__)\n",
    "display(Image('fig/fact4_dot.jpg'))"
   ]
  },
  {
   "cell_type": "markdown",
   "metadata": {},
   "source": [
    "Arbre des appels du calcul de fact(4) : construction plus complète"
   ]
  },
  {
   "cell_type": "code",
   "execution_count": 34,
   "metadata": {
    "slideshow": {
     "slide_type": "notes"
    }
   },
   "outputs": [],
   "source": [
    "''' arbre des appels du calcul de fact(4) : construction plus complète'''\n",
    "\n",
    "digraph = functools.partial(gvz.Digraph, format='jpg')\n",
    "\n",
    "def add_nodes(graph, nodes):\n",
    "    for n in nodes:\n",
    "        if isinstance(n, tuple):\n",
    "            graph.node(n[0], **n[1])\n",
    "        else:\n",
    "            graph.node(n)\n",
    "    return graph\n",
    "\n",
    "def add_edges(graph, edges):\n",
    "    for e in edges:\n",
    "        if isinstance(e[0], tuple):\n",
    "            graph.edge(*e[0], **e[1])\n",
    "        else:\n",
    "            graph.edge(*e)\n",
    "    return graph\n",
    "\n",
    "''' arbre complet de l'évaluation fact(4)'''\n",
    "fact4_complet = add_edges(\n",
    "    add_nodes(digraph(), [\n",
    "        ('4'), ('3'), ('2'),\n",
    "        ('f4', {'label': 'fact(4)'}),\n",
    "        ('f3', {'label': 'fact(3)'}),\n",
    "        ('f2', {'label': 'fact(2)'}),\n",
    "        ('f1', {'label': 'fact(1)', 'color':'red'}),\n",
    "    ]),\n",
    "    [\n",
    "        ('f4', '4'),\n",
    "        ('f3', '3'),\n",
    "        ('f2', '2'),\n",
    "        ('f4', 'f3'),\n",
    "        ('f3', 'f2'),\n",
    "        ('f2', 'f1')\n",
    "    ]\n",
    ").render('fig/fact4_complet')"
   ]
  },
  {
   "cell_type": "code",
   "execution_count": 35,
   "metadata": {
    "slideshow": {
     "slide_type": "notes"
    }
   },
   "outputs": [
    {
     "name": "stdout",
     "output_type": "stream",
     "text": [
      "Affichage arbre\n"
     ]
    },
    {
     "data": {
      "image/jpeg": "[encoded data removed]",
      "text/plain": [
       "<IPython.core.display.Image object>"
      ]
     },
     "metadata": {},
     "output_type": "display_data"
    }
   ],
   "source": [
    "'''Affichage arbre'''\n",
    "from IPython.display import display, Image\n",
    "print(__doc__)\n",
    "display(Image('fig/fact4_complet.jpg'))"
   ]
  },
  {
   "cell_type": "code",
   "execution_count": null,
   "metadata": {},
   "outputs": [],
   "source": []
  }
 ],
 "metadata": {
  "celltoolbar": "Diaporama",
  "kernelspec": {
   "display_name": "Python 3 (ipykernel)",
   "language": "python",
   "name": "python3"
  },
  "language_info": {
   "codemirror_mode": {
    "name": "ipython",
    "version": 3
   },
   "file_extension": ".py",
   "mimetype": "text/x-python",
   "name": "python",
   "nbconvert_exporter": "python",
   "pygments_lexer": "ipython3",
   "version": "3.9.6"
  },
  "latex_envs": {
   "LaTeX_envs_menu_present": true,
   "autoclose": false,
   "autocomplete": true,
   "bibliofile": "biblio.bib",
   "cite_by": "apalike",
   "current_citInitial": 1,
   "eqLabelWithNumbers": true,
   "eqNumInitial": 1,
   "hotkeys": {
    "equation": "Ctrl-E",
    "itemize": "Ctrl-I"
   },
   "labels_anchors": false,
   "latex_user_defs": false,
   "report_style_numbering": false,
   "user_envs_cfg": false
  },
  "toc": {
   "nav_menu": {
    "height": "503px",
    "width": "521px"
   },
   "number_sections": true,
   "sideBar": false,
   "skip_h1_title": false,
   "title_cell": "Table of Contents",
   "title_sidebar": "Contents",
   "toc_cell": true,
   "toc_position": {
    "height": "49.3125px",
    "left": "1215px",
    "right": "20px",
    "top": "47.458343505859375px",
    "width": "593px"
   },
   "toc_section_display": false,
   "toc_window_display": true
  }
 },
 "nbformat": 4,
 "nbformat_minor": 4
}
