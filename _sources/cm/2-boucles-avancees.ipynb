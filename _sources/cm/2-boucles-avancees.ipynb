{
 "cells": [
  {
   "cell_type": "markdown",
   "metadata": {
    "slideshow": {
     "slide_type": "slide"
    }
   },
   "source": [
    "(ch:boucles)=\n",
    "# Boucles, tableaux et fonctions "
   ]
  },
  {
   "cell_type": "markdown",
   "metadata": {
    "slideshow": {
     "slide_type": "slide"
    }
   },
   "source": [
    "Mis à jour : {sub-ref}`today`, lecture : {sub-ref}`wordcount-minutes` minutes minimum, PhL."
   ]
  },
  {
   "cell_type": "markdown",
   "metadata": {
    "slideshow": {
     "slide_type": "slide"
    }
   },
   "source": [
    "Dans ce chapitre, nous revisitons trois notions déjà connues :\n",
    "- les structures de données de type tableau, \n",
    "- les structures de contrôle de répétition (les boucles) et\n",
    "- les fonctions,\n",
    "\n",
    "avec des compléments algorithmiques sur:\n",
    "- les tableaux multidimensionnels, \n",
    "- les boucles imbriquées, indépendantes ou dépendantes, et\n",
    "\n",
    "et de programmation sur :\n",
    "- la représentation de tableaux multidimensionnels en python,\n",
    "- la spécification des fonctions avec paramètre de type tableau.\n"
   ]
  },
  {
   "cell_type": "markdown",
   "metadata": {
    "slideshow": {
     "slide_type": "slide"
    }
   },
   "source": [
    "## Tableaux"
   ]
  },
  {
   "cell_type": "markdown",
   "metadata": {
    "slideshow": {
     "slide_type": "fragment"
    }
   },
   "source": [
    "### Vocabulaire"
   ]
  },
  {
   "cell_type": "markdown",
   "metadata": {
    "slideshow": {
     "slide_type": "slide"
    }
   },
   "source": [
    "<div class=\"alert alert-block alert-info\">\n",
    "<b>Vocabulaire.</b> distinguer la dimension d'un tableau <em>vs.</em> la taille d'un tableau\n",
    "</div>"
   ]
  },
  {
   "cell_type": "markdown",
   "metadata": {
    "slideshow": {
     "slide_type": "fragment"
    }
   },
   "source": [
    "**Dimension.** \n",
    "\n",
    "* Un tableau peut être unidimensionnel (un vecteur), bidimensionnel (une matrice), tridimensionnel (une image 2D en couleurs (R,G,B)), ... \n",
    "* Sa dimension est donc le _nombre d'indices_ nécessaires pour localiser une de ses valeurs.\n",
    "\n",
    "**Taille.**\n",
    "* Chacune des dimensions d'un tableau est composée d'un certain nombre de _valeurs de l'indice de cette dimension_.\n",
    "* La taille de ce tableau est _l'ensemble ordonné_ de chacun de ces nombres pour chacune de ses dimensions."
   ]
  },
  {
   "cell_type": "markdown",
   "metadata": {
    "slideshow": {
     "slide_type": "subslide"
    }
   },
   "source": [
    "**Exemples et conventions.**\n",
    "\n",
    "Le vecteur $(2, 4, 6)$ est de dimension 1 et de taille 3.  \n",
    "\n",
    "La matrice \n",
    "\n",
    "$$\n",
    "\\begin{pmatrix}\n",
    "    1 & 2 & 3 \\\\\n",
    "    1 & 4 & 9 \\\\\n",
    "\\end{pmatrix}\n",
    "$$\n",
    "\n",
    "est de dimension 2 et de taille (2, 3) : \n",
    "elle contient 6 valeurs organisées en 2 lignes et 3 colonnes.  \n",
    "\n",
    "- La première valeur de sa taille est son nombre de lignes.\n",
    "- La seconde valeur de sa taille correspond à son nombre de colonnes.\n",
    "- Ce choix ligne, puis colonne, (puis ...) est arbitraire mais usuel en maths, en algo, ...  \n",
    "\n",
    "\n",
    "Le vecteur colonne \n",
    "\n",
    "$$\n",
    "\\begin{pmatrix}\n",
    "    1 \\\\\n",
    "    0 \\\\\n",
    "    0 \\\\\n",
    "\\end{pmatrix}\n",
    "$$\n",
    "\n",
    "représente souvent le premier vecteur de la base orthonormée $(i, j, k)$ de $\\mathbb{R}^ 3$ est  de taille (3, 1).\n",
    "\n",
    "Excepté le terme _tableau_, ces notions sont indépendantes de tout choix informatique.          "
   ]
  },
  {
   "cell_type": "markdown",
   "metadata": {
    "slideshow": {
     "slide_type": "subslide"
    }
   },
   "source": [
    "### Tableaux en python\n",
    "\n",
    "Il y a différentes façons de représenter et manipuler des tableaux _en python_. \n",
    "Les deux principales sont :\n",
    "\n",
    "- les listes (type natif `list`) comme au semestre 1,  \n",
    "- les `ndarray` fournis par la bibliothèque `numpy` et qui font l'objet d'un chapitre à venir."
   ]
  },
  {
   "cell_type": "markdown",
   "metadata": {
    "slideshow": {
     "slide_type": "fragment"
    }
   },
   "source": [
    "**Tableaux _vs._ listes**\n",
    "\n",
    "- En général, un tableau est une structure de dimension et de taille connue et _fixée_ de façon invariable une fois pour toute, et composé de _valeurs de même type_. Ces deux points techniques (taille fixée et unicité du type de ses valeurs) seront expliqués plus tard. \n",
    "\n",
    "- En algorithmique et en python, une liste  est une structure de données _dynamique_ (sa taille peut varier au fur et à mesure de son existence) de _valeurs de type quelconque_.\n",
    "\n",
    "```{note}\n",
    "Dans la continuité du semestre 1, nous continuons avec **des tableaux représentés avec des listes**.\n",
    "Cependant nous nous forcerons à distinguer cette _représentation_ avec des liste(s)_ de la notion générale de \"liste\".\n",
    "```"
   ]
  },
  {
   "cell_type": "markdown",
   "metadata": {
    "slideshow": {
     "slide_type": "subslide"
    }
   },
   "source": [
    "### Tableaux multidimensionnels représentés avec des listes"
   ]
  },
  {
   "cell_type": "markdown",
   "metadata": {
    "slideshow": {
     "slide_type": "fragment"
    }
   },
   "source": [
    "Un tableau 2D peut-être défini en python par une liste de listes.\n",
    "Dans ce cas, une matrice n'est pas exactement un bloc de valeurs, de forme rectangulaire ou carrée, mais **une liste de lignes**, chacune accessible comme une tableau 1D : chaque ligne est représentée par la liste des ses valeurs.\n",
    "\n",
    "Dans les 2 cas, il faut bien 2 indices `[ligne][colonne]` pour accéder à chaque valeur d'un tel tableau 2D.\n",
    "\n",
    "On rappelle que la convention de numérotation des indices des listes python commencent à 0, et se finit à `len(liste)-1`.  \n",
    "\n",
    "**Exemple.**"
   ]
  },
  {
   "cell_type": "code",
   "execution_count": 1,
   "metadata": {
    "slideshow": {
     "slide_type": "fragment"
    }
   },
   "outputs": [
    {
     "name": "stdout",
     "output_type": "stream",
     "text": [
      "3\n"
     ]
    }
   ],
   "source": [
    "tab = [[1, 2, 3], [4, 5, 6]]\n",
    "print(tab[0][2])"
   ]
  },
  {
   "cell_type": "markdown",
   "metadata": {
    "slideshow": {
     "slide_type": "fragment"
    }
   },
   "source": [
    "**Exercice.**\n",
    "- Quel indice utiliser pour accéder à la valeur `5` dans `tab` ?"
   ]
  },
  {
   "cell_type": "markdown",
   "metadata": {
    "slideshow": {
     "slide_type": "subslide"
    }
   },
   "source": [
    "La représentation des trois tableaux 2D  :\n",
    "\n",
    "```python\n",
    "tab23 = [[1, 2, 3], [4, 5, 6]]\n",
    "tab32 = [[1, 0], [0, 1], [1, 1]]\n",
    "m_id3 = [ [1, 0, 0], [0, 1, 0], [0, 0, 1]]\n",
    "```\n",
    "est illustrée par pythontutor comme :\n",
    "\n",
    "![](./fig/t2d-2.png)"
   ]
  },
  {
   "cell_type": "markdown",
   "metadata": {
    "slideshow": {
     "slide_type": "subslide"
    }
   },
   "source": [
    "**Remarque.** \n",
    "\n",
    "On a une représentation par liste de _lignes_. On aurait tout aussi pu représenter ce tableau 2D comme une liste de colonnes.\n",
    "**Algorithmiquement**, dans l'un ou l'autre de ces choix, un tableau donné aura _les mêmes valeurs_ désignées par _les mêmes indices_ : (numéro de ligne, numéro de colonne).  En revanche, nous verrons que le stockage en mémoire de l'un ou l'autre de ces choix est différent -- ce qui sera source de problèmes car ce choix varie selon _les langages de programmation_.   "
   ]
  },
  {
   "cell_type": "markdown",
   "metadata": {
    "slideshow": {
     "slide_type": "subslide"
    }
   },
   "source": [
    "### Pas de `[ ]*` pour définir une liste multidimensionnelle\n",
    "\n",
    "**Comment définir un tableau multidimensionnel représenté avec une liste de listes de ... ?**"
   ]
  },
  {
   "cell_type": "markdown",
   "metadata": {
    "slideshow": {
     "slide_type": "fragment"
    }
   },
   "source": [
    "**Ce qu'il ne faut pas faire :** on pourrait _être tenté_ d'écrire : \n",
    "\n",
    "```python \n",
    "c = [[0] * n] * n\n",
    "```\n",
    "\n",
    "Cette construction utilise le sens particulier du symbole `*`  appliqué à des listes 1D qui correspond à la répétition de _concaténation de listes_. \n",
    "La concaténation de deux listes peut s'écrire en python avec le symbole `+`."
   ]
  },
  {
   "cell_type": "code",
   "execution_count": 2,
   "metadata": {
    "slideshow": {
     "slide_type": "fragment"
    }
   },
   "outputs": [
    {
     "name": "stdout",
     "output_type": "stream",
     "text": [
      "l= [3, 4, 5]\n",
      "[0, 0, 0]\n",
      "[1, 1, 1]\n",
      "l3= [0, 0, 0, 1, 1, 1]\n"
     ]
    }
   ],
   "source": [
    "l1 = [3]\n",
    "l2 = [4, 5]\n",
    "l = l1 + l2\n",
    "print(\"l=\", l)\n",
    "\n",
    "l3_zeros = [0] * 3\n",
    "print(l3_zeros)\n",
    "\n",
    "l3_uns = [1] * 3\n",
    "print(l3_uns)\n",
    "\n",
    "l3 = l3_zeros + l3_uns \n",
    "print(\"l3=\", l3)"
   ]
  },
  {
   "cell_type": "markdown",
   "metadata": {
    "slideshow": {
     "slide_type": "fragment"
    }
   },
   "source": [
    "Avant d'indiquer pourquoi il ne faut pas utiliser aveuglement cette définition par concaténation, présentons :\n",
    "\n",
    ":::{Admonition} **Ce qu'il faut faire**\n",
    ":class: important\n",
    "Pour définir et initialiser un tableau mono- ou multi-dimensionnel, utiliser systématiquement la _construction d'une liste par compréhension_.\n",
    "\n",
    "```python \n",
    "c = [[0 for i in range(n)] for j in range(n)]\n",
    "```\n",
    ":::"
   ]
  },
  {
   "cell_type": "markdown",
   "metadata": {
    "slideshow": {
     "slide_type": "subslide"
    }
   },
   "source": [
    "($\\star$) **Pourquoi ?** \n",
    "\n",
    "\n",
    "Le code suivant _à éviter_ reprend la construction d'une liste 1D par concaténation et le fait qu'un tableau 2D est une liste de listes.  "
   ]
  },
  {
   "cell_type": "code",
   "execution_count": 3,
   "metadata": {
    "slideshow": {
     "slide_type": "fragment"
    }
   },
   "outputs": [
    {
     "name": "stdout",
     "output_type": "stream",
     "text": [
      "[[0, 0, 0], [0, 0, 0], [0, 0, 0], [0, 0, 0]]\n",
      "[[1, 1, 1], [1, 1, 1], [1, 1, 1], [1, 1, 1]]\n"
     ]
    }
   ],
   "source": [
    "# à ne pas faire\n",
    "l34_zeros = [[0] * 3] * 4\n",
    "print(l34_zeros)\n",
    "\n",
    "# à ne pas faire\n",
    "l34_uns = [l3_uns] * 4\n",
    "print(l34_uns)"
   ]
  },
  {
   "cell_type": "markdown",
   "metadata": {
    "slideshow": {
     "slide_type": "fragment"
    }
   },
   "source": [
    "L'affichage et des tests trop naïfs ne permettent pas d'exhiber pourquoi cette construction est dangereuse."
   ]
  },
  {
   "cell_type": "code",
   "execution_count": 4,
   "metadata": {
    "slideshow": {
     "slide_type": "fragment"
    }
   },
   "outputs": [
    {
     "name": "stdout",
     "output_type": "stream",
     "text": [
      "[[0, 0, 0], [0, 0, 0], [0, 0, 0], [0, 0, 0]]\n",
      "True\n"
     ]
    }
   ],
   "source": [
    "# definition de liste 2D en compréhension\n",
    "oui_comme_ca = [[0 for i in range(3)] for j in range(4)]\n",
    "\n",
    "print(oui_comme_ca)\n",
    "print(oui_comme_ca == l34_zeros)"
   ]
  },
  {
   "cell_type": "markdown",
   "metadata": {
    "slideshow": {
     "slide_type": "subslide"
    }
   },
   "source": [
    "Il y a pourtant danger :"
   ]
  },
  {
   "cell_type": "code",
   "execution_count": 5,
   "metadata": {
    "slideshow": {
     "slide_type": "fragment"
    }
   },
   "outputs": [
    {
     "name": "stdout",
     "output_type": "stream",
     "text": [
      "[[0, 0, 1], [0, 0, 1], [0, 0, 1], [0, 0, 1]]\n",
      "Aie ! \n"
     ]
    }
   ],
   "source": [
    "l34_zeros[1][2] = 1 # je modifie UNE valeur de ce tableau\n",
    "\n",
    "print(l34_zeros)\n",
    "print(\"Aie ! \")"
   ]
  },
  {
   "cell_type": "markdown",
   "metadata": {
    "slideshow": {
     "slide_type": "fragment"
    }
   },
   "source": [
    ":::{danger}\n",
    "Quatre termes de la matrice ont été modifiées alors l'écriture désigne **un seul terme** de cette matrice.\n",
    ":::"
   ]
  },
  {
   "cell_type": "markdown",
   "metadata": {
    "slideshow": {
     "slide_type": "fragment"
    }
   },
   "source": [
    "Ce comportement assez piégeux peut être particulièrement long à identifier lors d'une phase de debug ..."
   ]
  },
  {
   "cell_type": "markdown",
   "metadata": {
    "slideshow": {
     "slide_type": "subslide"
    }
   },
   "source": [
    "**Visualiser pour bien comprendre.** \n",
    "\n",
    "Merci pythontutor !\n",
    "- [tableau 1D](http://pythontutor.com/visualize.html#code=v%20%3D%20%5B1,%202,%203%5D%0Anon%20%3D%20%5B0%5D%20*%203%0Aoui%20%3D%20%5B0%20for%20_%20in%20range%283%29%5D&cumulative=false&heapPrimitives=nevernest&mode=edit&origin=opt-frontend.js&py=3&rawInputLstJSON=%5B%5D&textReferences=false) : OK par concaténation et compréhension.\n",
    "- [tableau 2D](http://pythontutor.com/visualize.html#code=%23%20tableau%202D%0Am%20%3D%20%5B%5B1,%202%5D,%20%5B3,%204%5D,%20%5B5,%206%5D%5D%0A%23%20bien%20regarder%20l'effet%20de%20la%20construction%20suivante%0Anon2%20%3D%20%5B%5B0%5D%20*%202%5D%20*%203%0A%23et%20de%20celle-ci%0Aoui2%20%3D%20%5B%5B0%20for%20i%20in%20range%282%29%5D%20for%20j%20in%20range%283%29%5D&cumulative=false&heapPrimitives=nevernest&mode=edit&origin=opt-frontend.js&py=3&rawInputLstJSON=%5B%5D&textReferences=false) : Oui par compréhension, NON par concaténation de listes !\n",
    "\n"
   ]
  },
  {
   "cell_type": "markdown",
   "metadata": {
    "slideshow": {
     "slide_type": "subslide"
    }
   },
   "source": [
    "**Conclusion**\n",
    "Il vaut mieux s'interdire toute mauvaise habitude -- même pour les listes 1D ou tableaux 1D."
   ]
  },
  {
   "cell_type": "markdown",
   "metadata": {
    "slideshow": {
     "slide_type": "subslide"
    }
   },
   "source": [
    ":::{important}\n",
    "    \n",
    "Utiliser la définition de **listes en compréhension :**\n",
    "\n",
    "- 1D : OUI à `[i for i in range(3)]`\n",
    "- 2D : OUI à `[[0 for i in range(3)] for j in range(5)]`\n",
    "\n",
    "Ne pas utiliser le symbole `*` de concaténation répétée pour créer et initialiser une liste.\n",
    "\n",
    "- ~~`[[0] * 3] * 5`~~\n",
    "\n",
    ":::"
   ]
  },
  {
   "cell_type": "markdown",
   "metadata": {
    "slideshow": {
     "slide_type": "slide"
    }
   },
   "source": [
    "## Spécifications de fonctions avec paramètre `List`  en python\n",
    "\n",
    "La spécification d'une fonction doit comporter le type de ses paramètres formels.  \n",
    "On s'était limité aux paramètres formels de types scalaires `bool`, `int`, `float`, `complex`."
   ]
  },
  {
   "cell_type": "markdown",
   "metadata": {
    "slideshow": {
     "slide_type": "fragment"
    }
   },
   "source": [
    "**Pourquoi introduire cette notion maintenant ?**\n",
    "\n",
    "- la fonction est la construction élémentaire pour regrouper un traitement éventuellement complexe qui dépend de paramètres (d'entrée)\n",
    "- la vérification de la correction d'un traitement (à l'aide de tests unitaires) est facile à mettre en oeuvre lorsqu'il est défini sous la forme d'une fonction \n",
    "    - il suffit d'appeler la fonction pour des paramètres bien choisis -- c-a-d. pour lesquels le traitements attendu est connu.\n",
    "- une fonction doit être décrite par sa spécification (son en-tête, sa signature)\n",
    "\n",
    "Nous allons écrire des traitements un peu complexes sur des tableaux. \n",
    "Donc nous avons besoin de _fonctions_ qui manipulent des _tableaux_, et donc de leur _spécification_."
   ]
  },
  {
   "cell_type": "markdown",
   "metadata": {
    "slideshow": {
     "slide_type": "subslide"
    }
   },
   "source": [
    "### Comment indiquer le type d'un paramètre formel d'une fonction lorsque celui-ci est une liste ?\n",
    "\n",
    "Deux approches sont possibles.\n",
    "\n",
    "- Il est possible d'utiliser le type prédéfini `list` de façon similaire aux autres types scalaires de python. Hélas cette solution ne permet pas d'expliciter le type des _valeurs_ contenues par la liste. Rappelons qu'une liste python, à la différence d'un tableau, peut contenir des valeurs de type quelconque. \n",
    "- **La solution** que nous retiendrons **pour les tableaux représentés avec des listes** s'appuie sur type `List` (avec un L majuscule) importé du module `typing`. Cette solution nous permettra d'expliciter les deux spécificités d'un tableau : l'unicité du type des valeurs qu'il contient et sa dimension fixée une fois pour toute.  "
   ]
  },
  {
   "cell_type": "code",
   "execution_count": 6,
   "metadata": {
    "slideshow": {
     "slide_type": "fragment"
    }
   },
   "outputs": [],
   "source": [
    "from typing import List"
   ]
  },
  {
   "cell_type": "markdown",
   "metadata": {
    "slideshow": {
     "slide_type": "fragment"
    }
   },
   "source": [
    "**Noter le L majuscule** de `List` obligatoire avec le module `typing` avant python3.9)"
   ]
  },
  {
   "cell_type": "markdown",
   "metadata": {
    "slideshow": {
     "slide_type": "fragment"
    }
   },
   "source": [
    "Le type d'un tableau (représenté par une liste) sera décrit avec la syntaxe `List[type_val]` où `type_val` est le type des valeurs du tableau. \n",
    "\n",
    "_Exemples._\n",
    "\n",
    "- `List[int]` : un tableau 1D d'entiers\n",
    "- `List[float]` : un tableau 1D de flottants  \n",
    "- `List[str]` : un tableau 1D de caractères _ou_ de chaîne de caractères.  \n",
    "- `List[List[int]]` : un tableau 2D d'entiers représenté par une liste de listes  \n",
    "\n",
    "\n",
    "Cette syntaxe permet d'expliciter le type (unique) des valeurs contenues dans un tableau.  "
   ]
  },
  {
   "cell_type": "markdown",
   "metadata": {},
   "source": [
    ":::{important} Evolutions des annotations de typage\n",
    "- python $\\ge$ 3.9 : module `typing` plus nécessaire pour définir `List[...]`\n",
    "- python $\\ge$ 3.9 : possibilité d'utiliser le type `list[...]` sans majuscule\n",
    "- python $\\ge$ 3.10 : le symbole `|` pour désigner l'union de types (ex `Union`)\n",
    ":::\n",
    "\n",
    ":::{note}\n",
    "La suite de ce chapitre utilise les possibilités de python 3.9.\n",
    ":::"
   ]
  },
  {
   "cell_type": "markdown",
   "metadata": {
    "slideshow": {
     "slide_type": "fragment"
    }
   },
   "source": [
    "Le paragraphe suivant indique comment préciser la taille (fixe) d'un tableau.   "
   ]
  },
  {
   "cell_type": "markdown",
   "metadata": {
    "slideshow": {
     "slide_type": "subslide"
    }
   },
   "source": [
    "### Comment spécifier une fonction avec des paramètres formels de type tableau ?\n",
    "\n",
    "Pour chaque paramètre formel de type tableau (représenté par une liste python), on _complète_ la spécification de la fonction _avec_ autant de _paramètres_ nécessaires à la définition de _la dimension du tableau_ : un paramètre supplémentaire pour un tableau 1D, deux pour un tableau 2D, ...  "
   ]
  },
  {
   "cell_type": "markdown",
   "metadata": {
    "slideshow": {
     "slide_type": "subslide"
    }
   },
   "source": [
    "**Exemple :**\n",
    "la fonction `min1` doit retourner la valeur minimale d'un tableau 1 D `t`, d'entiers (par exemple) et de taille `n` quelconque. \n",
    "\n",
    "La spécification de cette fonction s'écrira :\n",
    "\n",
    "```python\n",
    "def min1(t: list[int], n: int) -> int:\n",
    "    '''retourne la valeur minimale du tableau d'entiers t de taille n'''\n",
    "\n",
    "```\n",
    "\n",
    "- La taille `n` est définie ici comme second paramètre de cette fonction.\n",
    "    - C'est bien un entier\n",
    "- Ce paramètre supplémentaire n'est pas nécessaire en python mais **il est obligatoire dans cet enseignement** "
   ]
  },
  {
   "cell_type": "markdown",
   "metadata": {
    "slideshow": {
     "slide_type": "subslide"
    }
   },
   "source": [
    "Nous étendons cette pratique aux tableaux multidimensionnels.  \n",
    "\n",
    "Par exemple, la spécification de la fonction qui identifie et retourne la valeur minimale dans un tableau 2D s'écrit par exemple (pour un tableau 2D d'entiers) :\n",
    "\n",
    "```python\n",
    "def min2(t: list[list[int]], n: int, m: int) -> int:\n",
    "    '''retourne la valeur minimale du tableau 2D d'entiers t de taille n x m'''\n",
    "```\n",
    "Remarquons :\n",
    "- l'annotation du type de `t`, paramètre formel de \"type tableau 2D\", comme une liste de listes d'entiers,\n",
    "- et les 2 paramètres de taille `n` et `m`, qui désignent respectivement le nombre de lignes et de colonnes de `t`.  \n"
   ]
  },
  {
   "cell_type": "markdown",
   "metadata": {
    "slideshow": {
     "slide_type": "subslide"
    }
   },
   "source": [
    "<div class=\"alert alert-block alert-info\">\n",
    "    <b>Convention à appliquer dans cet enseignement.</b> \n",
    "\n",
    "Lorsqu'une fonction admet un paramètre formel de type tableau (ou plus d'un), on convient que les paramètres de taille de chaque paramètre tableau suivent sa définition dans la spécification de la fonction.\n",
    "</div>    \n",
    "    "
   ]
  },
  {
   "cell_type": "markdown",
   "metadata": {
    "slideshow": {
     "slide_type": "fragment"
    }
   },
   "source": [
    "**Exemples.** \n",
    "\n",
    "- si il y a 1 paramètre tableau 1D, on écrit dans l'ordre les types de `tab1, taille_de_tab1`  \n",
    "- si il y a 2 paramètres tableaux 1D, on écrit dans l'ordre les types de  `tab1, taille_de_tab1, tab2, taille_de_tab2`  \n",
    "- si il y a 1 paramètre tableau 2D, on écrit dans l'ordre les types de `tab1, nb_lignes_de_tab1, nb_colonnes_de_tab1`,\n",
    "- ...\n",
    "    "
   ]
  },
  {
   "cell_type": "markdown",
   "metadata": {
    "slideshow": {
     "slide_type": "slide"
    }
   },
   "source": [
    "(genericite)=\n",
    "### ($\\star\\star$) Quelle spécification pour une fonction générique ? \n",
    "\n",
    "<div class=\"alert alert-warning\">\n",
    "\n",
    "Objectif 20 : compléments. \n",
    "    \n",
    "Sauter cette section en première lecture.\n",
    "\n",
    "</div>"
   ]
  },
  {
   "cell_type": "markdown",
   "metadata": {
    "slideshow": {
     "slide_type": "subslide"
    }
   },
   "source": [
    "#### Généricité\n",
    "\n",
    "Cette section s'est d'abord appelée : \n",
    "\n",
    "> \"Comment spécifier un traitement générique ?\"\n",
    "\n",
    "Commençons par expliquer cette formulation un peu plus compliquée que le titre actuel.\n",
    "\n",
    "- _spécifier_ : écrire la spécification (d'une fonction)\n",
    "- _spécifier un traitement_ : suppose que le traitement est réalisé par une fonction dont on doit écrire la spécification \n",
    "- _un traitement générique_, ou une fonction générique : un traitement qui **s'applique** de façon similaire à des valeurs de **types différents**."
   ]
  },
  {
   "cell_type": "markdown",
   "metadata": {
    "slideshow": {
     "slide_type": "fragment"
    }
   },
   "source": [
    "Exemple : \n",
    "\n",
    "- les _corps_ des fonctions qui retournent le min de deux entiers ou deux flottants, sont identiques. OK ?\n",
    "- en revanche leurs spécifications sont, jusqu'à présent, différentes :\n",
    "    ```python\n",
    "    def min_int(a : int, b: int) -> int:\n",
    "    def min_float(a : float, b: float) -> float:\n",
    "    ```\n",
    "    "
   ]
  },
  {
   "cell_type": "markdown",
   "metadata": {
    "slideshow": {
     "slide_type": "fragment"
    }
   },
   "source": [
    "En python, on peut écrire une _seule_ fonction `mon_min()` qui accepte indifféremment des paramètres entiers ou flottants.  \n",
    "Cette fonction `mon_min()` est générique.  \n",
    "Il est facile de l'écrire avec une seule fonction _python_ mais sans indication de spécification -- ce qui est _mal_ :) "
   ]
  },
  {
   "cell_type": "markdown",
   "metadata": {
    "slideshow": {
     "slide_type": "subslide"
    }
   },
   "source": [
    "#### `Union` dans le module `typing` \n",
    "\n",
    "**Question.** Comment écrire sa spécification sans perdre d'information par rapport aux deux spécifications ci-dessus ?\n",
    "\n",
    "**Réponse.** \n",
    "On a besoin d'un autre contenu du module `typing`: `Union`, qui a le sens de l'union d'ensembles en mathématique."
   ]
  },
  {
   "cell_type": "code",
   "execution_count": 7,
   "metadata": {
    "slideshow": {
     "slide_type": "fragment"
    }
   },
   "outputs": [],
   "source": [
    "from typing import Union"
   ]
  },
  {
   "cell_type": "markdown",
   "metadata": {
    "slideshow": {
     "slide_type": "fragment"
    }
   },
   "source": [
    "Ainsi `Union[int, str]` permet de désigner toute valeur de type `int`  ou de type `str`.\n",
    "\n",
    "De façon similaire, on peut utiliser `Union[int, float]`  pour spécifier notre fonction  générique `mon_min` qui traite indifféremment des paramètres entiers ou flottants."
   ]
  },
  {
   "cell_type": "code",
   "execution_count": 8,
   "metadata": {
    "slideshow": {
     "slide_type": "subslide"
    }
   },
   "outputs": [
    {
     "name": "stdout",
     "output_type": "stream",
     "text": [
      "2 2.0 2\n"
     ]
    }
   ],
   "source": [
    "def mon_min(a : Union[int, float], b : Union[int, float]) -> Union[int, float]:\n",
    "    if a < b:\n",
    "        return a\n",
    "    else:\n",
    "        return b\n",
    "\n",
    "res1 = mon_min(3, 2)\n",
    "res2 = mon_min(3.0, 2.0)\n",
    "res3 = mon_min(3.0, 2)\n",
    "\n",
    "print(res1, res2, res3)"
   ]
  },
  {
   "cell_type": "markdown",
   "metadata": {
    "slideshow": {
     "slide_type": "subslide"
    }
   },
   "source": [
    "**Syntaxe.** Attention aux `[ ]` --et non pas des `( )`-- dans l'annotation de types --comme pour `List`.\n",
    "\n",
    "**($\\star$) Attention.** \n",
    "- Pourquoi je n'ai pas écrit que `Union[int, float]` avait le sens l'union (mathématique) des ensembles  d'entiers et de flottants ?\n",
    "- Parce qu'en python (et plus généralement en informatique avec _la notion de type_ ) :  \n",
    "```python\n",
    "Union[int, float] != float\n",
    "```\n",
    "On le vérifie :"
   ]
  },
  {
   "cell_type": "code",
   "execution_count": 9,
   "metadata": {
    "slideshow": {
     "slide_type": "fragment"
    }
   },
   "outputs": [
    {
     "name": "stdout",
     "output_type": "stream",
     "text": [
      "False\n"
     ]
    }
   ],
   "source": [
    "print(Union[int, float] == float)"
   ]
  },
  {
   "cell_type": "markdown",
   "metadata": {
    "slideshow": {
     "slide_type": "subslide"
    }
   },
   "source": [
    "#### A lire\n",
    "\n",
    "- Sur les annotations de types : cet [article](https://inventwithpython.com/blog/2019/11/24/type-hints-for-busy-python-programmers/) (déjà mentionné plus haut) est l'un des plus intéressants que j'ai rencontré sur le web en préparant ce cours.  En effet, la documentation de réference sur les [annotations python](https://mypy.readthedocs.io/en/stable/cheat_sheet_py3.html) est assez peu commode à exploiter dans ce cas.   "
   ]
  },
  {
   "cell_type": "markdown",
   "metadata": {
    "slideshow": {
     "slide_type": "slide"
    }
   },
   "source": [
    "## Boucles imbriquées\n",
    "\n",
    "### Le contexte\n",
    "\n",
    "Les boucles sont classiquement utilisées pour parcourir des tableaux de dimension quelconque.  \n",
    "Si le nombre de valeurs à parcourir dans tableau  est connu alors la boucle `for` est la plus naturelle.  \n",
    "Un exemple est le parcours complet d'un tableau de taille connue.  \n",
    "\n",
    "Selon le traitement à effectuer, un ou plusieurs parcours d'un même tableau sont nécessaires."
   ]
  },
  {
   "cell_type": "markdown",
   "metadata": {
    "slideshow": {
     "slide_type": "subslide"
    }
   },
   "source": [
    "**Exemple 1.** \n",
    "\n",
    "> Identifier la valeur minimale dans un tableau _de dimension quelconque_ \n",
    "\n",
    "nécessite de **parcourir toutes ses valeurs une seule fois**. \n",
    "\n",
    "Selon sa dimension, ce parcours complet nécessite _une_ ou _plusieurs boucles imbriquées_ : \n",
    "- une boucle pour un tableau 1D, \n",
    "- mais 2 boucles imbriquées pour un tableau 2D :  \n",
    "    - pour parcourir successivement chaque ligne, \n",
    "    - puis chaque colonne _de chacune de ces lignes_.  \n",
    "\n",
    "Ainsi, **un seul** parcours d'un tableau peut nécessiter **plusieurs boucles imbriquées**."
   ]
  },
  {
   "cell_type": "markdown",
   "metadata": {
    "slideshow": {
     "slide_type": "subslide"
    }
   },
   "source": [
    "**Exemple 2.** On veut maintenant :\n",
    "\n",
    "> (Q) identifier si un tableau 1D contient au moins une valeur répétée ?\n",
    "\n",
    "Remarquons que la réponse à cette question est un booléen. \n",
    "\n",
    "Une telle valeur répétée s'appelle un _doublon_. \n",
    "Notre question s'écrit mathématiquement pour le tableau $t$ :\n",
    "\n",
    "> **(Q) Existe-t-il** deux indices $i$ et $j$ avec $i \\neq j$ tels que $t(i) = t(j)$ ?\n",
    "\n",
    "\n",
    "\n",
    "_Dans certains cas_, il est nécessaire de parcourir plusieurs fois le tableau $t$ (entièrement ou presque) pour pouvoir répondre (oui ou non) à cette question.  \n",
    "- Par exemple pour `t1 = [1, 2, 3, 4, 5]`, mais aussi pour `t2 = [1, 2, 3, 4, 4]`."
   ]
  },
  {
   "cell_type": "markdown",
   "metadata": {
    "slideshow": {
     "slide_type": "subslide"
    }
   },
   "source": [
    "**Exercice.** Expliciter un exemple de tableau où la réponse peut être obtenue sans parcourir plusieurs fois la très grande partie de ses valeurs.  \n",
    "- Quelle réponse : oui ? non ?\n",
    "- Quel exemple de tableau ?"
   ]
  },
  {
   "cell_type": "markdown",
   "metadata": {},
   "source": [
    ":::{dropdown} Réponse\n",
    "\n",
    "Le doublon du tableau \n",
    "`t_rapide = [1, 1, 2, 3, 4, 5]`\n",
    "est identifié au premier parcours de la droite vers la gauche, c-a-d. : \n",
    "`for i in range(len(t_rapide)):`\n",
    "\n",
    ":::"
   ]
  },
  {
   "cell_type": "markdown",
   "metadata": {
    "slideshow": {
     "slide_type": "fragment"
    }
   },
   "source": [
    "Un algorithme _correct_, cad. un algorithme qui répond correctement à cette question _pour n'importe quel tableau_,  devra donc _pouvoir_ effectuer plusieurs parcours.  \n",
    "Pour ce traitement, les parcours du tableau ne sont pas identiques.  \n",
    "Ils sont même _dépendants l'un de l'autre._    \n",
    "Et selon la question ils peuvent même être interrompus en cours de traitement.  \n",
    "Cette dépendance des parcours se traduit par l'imbrication de deux _boucles dépendantes l'une de l'autre._  "
   ]
  },
  {
   "cell_type": "markdown",
   "metadata": {
    "slideshow": {
     "slide_type": "fragment"
    }
   },
   "source": [
    "- Pourquoi ces parcours sont dépendants l'un de l'autre ?\n",
    "- Quand le traitement peut-il être interrompu ?"
   ]
  },
  {
   "cell_type": "markdown",
   "metadata": {},
   "source": [
    ":::{dropdown} Réponse\n",
    "\n",
    "- Il suffit de parcourir le sous-tableau à droite de la valeur dont on cherche un doublon\n",
    "- La recherche peut s'arrêter dès qu'un doublon a été identifié\n",
    "\n",
    ":::"
   ]
  },
  {
   "cell_type": "markdown",
   "metadata": {
    "slideshow": {
     "slide_type": "fragment"
    }
   },
   "source": [
    "**Exercice.** Modifier la question (Q) pour que son traitement demande alors que les parcours du tableau ne soient pas interrompus.   "
   ]
  },
  {
   "cell_type": "markdown",
   "metadata": {},
   "source": [
    ":::{dropdown} Réponse\n",
    "\n",
    "Plusieurs solutions dont :\n",
    "\n",
    "- Combien de doublons sont présents dans le tableau `t` ?\n",
    "- Quel est le plus petit doublon présent dans le tableau `t` ?\n",
    "- Quel est le nombre d'occurrences maximale d'une valeur dans le tableau `t` ?\n",
    "- ...\n",
    "\n",
    ":::"
   ]
  },
  {
   "cell_type": "markdown",
   "metadata": {
    "slideshow": {
     "slide_type": "subslide"
    }
   },
   "source": [
    "On retiendra donc que certains traitements de tableaux 1D peuvent nécessiter plusieurs parcours de ce tableau. Et que ces parcours peuvent être mis en oeuvre avec **plusieurs boucles imbriquées dépendantes**.  \n",
    "\n",
    "Des exemples valent mieux que de longs discours. On commence avec des traitements où un seul parcours du tableau est nécessaire."
   ]
  },
  {
   "cell_type": "markdown",
   "metadata": {
    "slideshow": {
     "slide_type": "subslide"
    }
   },
   "source": [
    "### `min1()`"
   ]
  },
  {
   "cell_type": "markdown",
   "metadata": {
    "slideshow": {
     "slide_type": "fragment"
    }
   },
   "source": [
    "La fonction `min1` qui retourne la valeur minimale d'un tableau 1 D d'entiers (par exemple) et de taille $n$ quelconque. "
   ]
  },
  {
   "cell_type": "code",
   "execution_count": 10,
   "metadata": {
    "slideshow": {
     "slide_type": "fragment"
    }
   },
   "outputs": [],
   "source": [
    "def min1(t: list[int], n: int) -> int:\n",
    "    '''retourne la valeur minimale du tableau d'entiers t de taille n'''\n",
    "    val_min = t[0]\n",
    "    for i in range(1, n):\n",
    "        if t[i] < val_min:\n",
    "            val_min = t[i]\n",
    "    return val_min "
   ]
  },
  {
   "cell_type": "code",
   "execution_count": 11,
   "metadata": {
    "slideshow": {
     "slide_type": "fragment"
    }
   },
   "outputs": [
    {
     "name": "stdout",
     "output_type": "stream",
     "text": [
      "1\n"
     ]
    }
   ],
   "source": [
    "#un appel de test sur un tableau de taille 3\n",
    "u = [3, 1, 2]\n",
    "un = min1(u, 3)\n",
    "print(un)"
   ]
  },
  {
   "cell_type": "markdown",
   "metadata": {
    "slideshow": {
     "slide_type": "subslide"
    }
   },
   "source": [
    "**Obligation _pédagogique_ de définir le(s) paramètre(s) pour la taille d'un paramètre tableau.**\n",
    "\n",
    "python permet en effet de se dégager de cette obligation, entre autres grâce à la fonction prédéfinie `len()`. "
   ]
  },
  {
   "cell_type": "code",
   "execution_count": 12,
   "metadata": {
    "slideshow": {
     "slide_type": "fragment"
    }
   },
   "outputs": [],
   "source": [
    "def min1_bis_moche(t: list[int]) -> int:\n",
    "    '''retourne la valeur minimale du tableau d'entiers t de taille n'''\n",
    "    val_min = t[0]\n",
    "    for i in range(1, len(t)):\n",
    "        if t[i] < val_min:\n",
    "            val_min = t[i]\n",
    "    return val_min "
   ]
  },
  {
   "cell_type": "markdown",
   "metadata": {
    "slideshow": {
     "slide_type": "fragment"
    }
   },
   "source": [
    "Ce qui n'empêche pas de se servir de `len()` _dans l'appel_. Et c'est ce qu'on fera en général."
   ]
  },
  {
   "cell_type": "code",
   "execution_count": 13,
   "metadata": {
    "slideshow": {
     "slide_type": "fragment"
    }
   },
   "outputs": [
    {
     "name": "stdout",
     "output_type": "stream",
     "text": [
      "True\n"
     ]
    }
   ],
   "source": [
    "u = [3, 1, 2]\n",
    "\n",
    "print(min1(u, len(u)) == min1(u, 3))"
   ]
  },
  {
   "cell_type": "markdown",
   "metadata": {
    "slideshow": {
     "slide_type": "subslide"
    }
   },
   "source": [
    "**Exercice.** \n",
    "- Ecrire la spécification et le corps d'une fonction qui retourne la valeur minimale d'un tableau de `float`. \n",
    "- ($\\star$)  Qu'en pensez-vous ?  \n",
    "- ($\\star$) Quelles conditions satisfaire pour une généralisation (correcte) de ce traitement ?\n",
    "    - La [section](#genericite) de ce chapitre aborde cette question.  "
   ]
  },
  {
   "cell_type": "markdown",
   "metadata": {},
   "source": [
    ":::{dropdown} Réponse\n",
    "\n",
    "- Il suffit de remplacer l'indication de type `int` par `float` dans l'en-tête et le corps des fonctions précédentes. \n",
    "- En revanche en python, si on veut distinguer les 2 traitements, il faut que les fonctions aient des noms différents.\n",
    "- Le traitement (chercher le min de ...) est identique dès qu'une relation d'ordre est définie pour le type des valeurs présentes dans le tableau.\n",
    "\n",
    ":::"
   ]
  },
  {
   "cell_type": "markdown",
   "metadata": {
    "slideshow": {
     "slide_type": "subslide"
    }
   },
   "source": [
    "### `min2()` \n",
    "\n",
    "Maintenant, déterminer la valeur minimale d'un tableau 2D illustre l'utilisation de deux boucles imbriquées indépendantes pour réaliser un seul parcours complet d'un tableau 2D."
   ]
  },
  {
   "cell_type": "code",
   "execution_count": 14,
   "metadata": {
    "slideshow": {
     "slide_type": "fragment"
    }
   },
   "outputs": [],
   "source": [
    "def min2(t: list[list[int]], n: int, m: int) -> int:\n",
    "    '''retourne la valeur minimale du tableau 2D d'entiers t de taille n x m'''\n",
    "    val_min = t[0][0]\n",
    "    for i in range(0, n):\n",
    "        for j in range(0, m): \n",
    "            if t[i][j] < val_min:\n",
    "                val_min = t[i][j] \n",
    "    return val_min"
   ]
  },
  {
   "cell_type": "code",
   "execution_count": 15,
   "metadata": {
    "slideshow": {
     "slide_type": "fragment"
    }
   },
   "outputs": [
    {
     "name": "stdout",
     "output_type": "stream",
     "text": [
      "[[1, 2, 3], [4, 5, 6]] 1\n"
     ]
    }
   ],
   "source": [
    "# appel sur un tableau de taille 2 x 3 \n",
    "res = min2(tab, 2, 3)\n",
    "print(tab, res)"
   ]
  },
  {
   "cell_type": "markdown",
   "metadata": {
    "slideshow": {
     "slide_type": "fragment"
    }
   },
   "source": [
    "**Exercice.**\n",
    "- Dans `tab`, remplacer la valeur `6` par une valeur négative et vérifier que `min2()` retourne bien la valeur attendue. "
   ]
  },
  {
   "cell_type": "markdown",
   "metadata": {
    "slideshow": {
     "slide_type": "subslide"
    }
   },
   "source": [
    "**Petite digression.**\n",
    "\n",
    "Remarquons aussi que la syntaxe de deux indices `[ligne][colonne]` est significativement différente d'une syntaxe \"double indice\" `[ligne, colonne]` plus habituelle en mathématiques.  \n",
    "\n",
    "On peut ainsi écrire le code suivant qui manipule chaque ligne de `t` comme un tableau 1D -- pour lequel la fonction `min1()` a un sens. Se souvenir du schéma pythontutor du début de chapitre.   "
   ]
  },
  {
   "cell_type": "code",
   "execution_count": 16,
   "metadata": {
    "slideshow": {
     "slide_type": "fragment"
    }
   },
   "outputs": [
    {
     "name": "stdout",
     "output_type": "stream",
     "text": [
      "True\n"
     ]
    }
   ],
   "source": [
    "min_ligne_0 = min1(tab[0], 3)\n",
    "min_ligne_1 = min1(tab[1], 3)\n",
    "print(min2(tab, 2, 3) == min(min_ligne_0, min_ligne_1))"
   ]
  },
  {
   "cell_type": "markdown",
   "metadata": {
    "slideshow": {
     "slide_type": "subslide"
    }
   },
   "source": [
    "**Manipuler les paramètres de taille avec les fonctions prédéfinis.**\n",
    "\n",
    "Dans le cas 1D, on a vu l'intérêt d'utiliser la fonction prédéfinie `len()` qui retourne la longueur d'un tableau-liste 1D.\n",
    "\n",
    "Compte-tenu de la remarque précédente (tableau 2D représenté par liste de tableaux 1D), on peut utiliser cette fonction comme suit :"
   ]
  },
  {
   "cell_type": "code",
   "execution_count": 17,
   "metadata": {
    "slideshow": {
     "slide_type": "fragment"
    }
   },
   "outputs": [
    {
     "name": "stdout",
     "output_type": "stream",
     "text": [
      "2 3\n",
      "1\n"
     ]
    }
   ],
   "source": [
    "nb_lignes = len(tab) \n",
    "nb_colonnes = len(tab[0])\n",
    "print(nb_lignes, nb_colonnes)\n",
    "\n",
    "# et donc dans l'appel\n",
    "res = min2(tab, len(tab), len(tab[0]))\n",
    "print(res)"
   ]
  },
  {
   "cell_type": "markdown",
   "metadata": {
    "slideshow": {
     "slide_type": "subslide"
    }
   },
   "source": [
    "**Imbriquer 3, 4, ... boucles ?** \n",
    "Des traitements un petit peu plus complexes nécessitent d'imbriquer _plus que deux boucles_. Nous verrons un exemple classique de 3 boucles imbriquées avec le produit matriciel."
   ]
  },
  {
   "cell_type": "markdown",
   "metadata": {
    "slideshow": {
     "slide_type": "subslide"
    }
   },
   "source": [
    "### Comptons  1, 2, 3, ...\n",
    "\n",
    "Il est important de bien se représenter les répétitions \"cachées\" par l'écriture synthétique de boucles imbriquées."
   ]
  },
  {
   "cell_type": "markdown",
   "metadata": {
    "slideshow": {
     "slide_type": "subslide"
    }
   },
   "source": [
    "**Questions.**\n",
    "Combien de fois est exécuté le test de la ligne 5 de `min2()` :\n",
    "- pour `tab = [[1, 2, 3], [4, 5, 6]]` ?\n",
    "- pour un `t` quelconque ?\n",
    "\n",
    "```python\n",
    "def min2(t: list[list[int]], n: int, m: int) -> int:\n",
    "    '''retourne la valeur minimale du tableau 2D d'entiers t de taille n x m'''\n",
    "    val_min = t[0][0]\n",
    "    for i in range(0, n):\n",
    "        for j in range(0, m): \n",
    "            if t[i][j] < val_min:\n",
    "                val_min = t[i][j]\n",
    "    return val_min\n",
    "```"
   ]
  },
  {
   "cell_type": "markdown",
   "metadata": {
    "slideshow": {
     "slide_type": "fragment"
    }
   },
   "source": [
    "La fonction `min2()` possède deux boucles imbriquées **indépendantes**, cad. la boucle interne fait varier l'indice de colonne  `j` pour des valeurs (d'indices) qui ne dépendent pas de la valeur de `i`, l'indice de ligne."
   ]
  },
  {
   "cell_type": "markdown",
   "metadata": {
    "slideshow": {
     "slide_type": "fragment"
    }
   },
   "source": [
    ":::{dropdown} **Réponses.** \n",
    "\n",
    "Respectivement 6 et $m \\times n$ fois.\n",
    "\n",
    ":::"
   ]
  },
  {
   "cell_type": "markdown",
   "metadata": {
    "slideshow": {
     "slide_type": "fragment"
    }
   },
   "source": [
    "**Explications.**\n",
    "Dans le cas général :\n",
    "- `j` prend successivement les `m` valeurs `0, 1, ..., m-1` pour n'importe quelle valeur de l'indice `i` de la boucle extérieure.\n",
    "- Et cet indice `i` prend aussi successivement les `n` valeurs `0, 1, ..., n-1`.\n",
    "- Donc `m x n` couples de valeurs `(i, j)`."
   ]
  },
  {
   "cell_type": "markdown",
   "metadata": {
    "slideshow": {
     "slide_type": "fragment"
    }
   },
   "source": [
    "**Remarque.** Ne pourrait-on pas écrire une version plus \"économique\" de `min2` ?"
   ]
  },
  {
   "cell_type": "markdown",
   "metadata": {
    "slideshow": {
     "slide_type": "slide"
    }
   },
   "source": [
    "### Imbriquons trois boucles !\n",
    "\n",
    "<div class=\"alert alert-warning\">\n",
    "   \n",
    "Sauter cette section en première lecture.\n",
    "\n",
    "</div>\n",
    "\n",
    "Des traitements un petit peu plus complexes nécessitent d'imbriquer _plus que deux boucles_. "
   ]
  },
  {
   "cell_type": "markdown",
   "metadata": {
    "slideshow": {
     "slide_type": "subslide"
    }
   },
   "source": [
    "Un exemple classique est le calcul de la matrice $C$ résultat du produit de deux matrices $A$ et $B$ : $C = A \\times B$.\n",
    "\n",
    "Expliquons d'abord sans formule de maths, pourquoi **on a besoin de 3 boucles imbriquées**.\n",
    "\n",
    "On simplifie le discours en prenant $A$ et $B$ deux matrices carrées de taille $(n, n)$.  \n",
    "On détaille les étapes de l'algorithme en identifiant les répétitions (boucles) et les traitements associés. \n",
    "\n",
    "**Rmq.** \n",
    "- La description en français  qui suit est parfois un peu difficile à suivre (désolé) -- surtout quand on sait que l'algorithme décrit s'écrit en ... 4 lignes !   \n",
    "- Un premier guide de lecture est de distinguer _la répétition_ du _traitement à chaque itération_ de cette répétition, _ie._ : description de la boucle _vs._ le corps de boucle.  "
   ]
  },
  {
   "cell_type": "markdown",
   "metadata": {
    "slideshow": {
     "slide_type": "subslide"
    }
   },
   "source": [
    "- Le schéma suivant aide à comprendre ce traitement.![prod_mat](./fig/prod_mat.png)"
   ]
  },
  {
   "cell_type": "markdown",
   "metadata": {
    "slideshow": {
     "slide_type": "subslide"
    }
   },
   "source": [
    "Allons-y.\n",
    "\n",
    "1. On veut calculer **toutes** les valeurs de la matrice produit $C$,\n",
    "    - il faut donc parcourir _toutes_ les lignes de $C$, \n",
    "        - une boucle 1 : _pour chaque ligne, ..._ \n",
    "    - et  pour _chacune_ de ces lignes \n",
    "        - traitement de la boucle 1 :\n",
    "        - parcourir _toutes_ les colonnes : \n",
    "            - une boucle 2 : _pour chaque colonne, ..._ \n",
    "            - **cette boucle 2 est imbriquée dans la boucle 1**  "
   ]
  },
  {
   "cell_type": "markdown",
   "metadata": {
    "slideshow": {
     "slide_type": "fragment"
    }
   },
   "source": [
    "**Pause 1.** \n",
    "- Ces deux boucles imbriquées permettent de parcourir, une à une, _toutes_ les valeurs de la matrice résultat $C$.\n",
    "- Le traitement de la boucle 1 est \"réduit\" à \"effectuer la boucle 2\".\n",
    "- Traitement de la boucle 2 ?\n",
    "                "
   ]
  },
  {
   "cell_type": "markdown",
   "metadata": {
    "slideshow": {
     "slide_type": "subslide"
    }
   },
   "source": [
    "2. Traitement de la boucle 2 : \n",
    "- calculer _chaque_ valeur de $C$ d'une \"façon coordonnée\".\n",
    "- Cette \"façon coordonnée\" consiste à prendre _certains couples de valeurs_ et effectuer un certain calcul avec _tous ces couples_ de valeurs \n",
    "    - _tous ces couples_ = une boucle 3 \n",
    "    - **cette boucle 3 est imbriquée dans la boucle 2**."
   ]
  },
  {
   "cell_type": "markdown",
   "metadata": {
    "slideshow": {
     "slide_type": "fragment"
    }
   },
   "source": [
    "**Pause 2.** \n",
    "- Le traitement de la boucle 2 est \"réduit\" à \"effectuer la boucle 3\". \n",
    "- Traitement de la boucle 3 ? "
   ]
  },
  {
   "cell_type": "markdown",
   "metadata": {
    "slideshow": {
     "slide_type": "subslide"
    }
   },
   "source": [
    "3. Traitement de la boucle 3 : un _certain_ calcul avec _tout un ensemble de couples_ de valeurs pour _certains_ couples de valeurs \n",
    "    - Ces couples de valeurs sont donnés par le choix d'une ligne de $A$ et d'une colonne de $B$,\n",
    "    - Ce choix (ligne, colonne) est fixé par les boucles 1 (ligne) et 2 (colonne) précédentes ;\n",
    "    - un parcours complet mais unique (la troisième dernière boucle) et simultané de cette ligne de $A$ _et_ cette colonne de $B$ suffit pour effectuer le \"_certain calcul_\".\n",
    "    - ce _certain_ calcul est une multiplication (des valeurs de $A$ et $B$ ainsi choisies) suivie d'une addition cumulative (dans la valeur de $C$ aussi choisie). \n",
    "    - le résultat de ce calcul est le résultat cherché : une certaine valeur de $C$. \n",
    "    "
   ]
  },
  {
   "cell_type": "markdown",
   "metadata": {
    "slideshow": {
     "slide_type": "fragment"
    }
   },
   "source": [
    "**Pause 3.**\n",
    "- Le traitement de la boucle 3 est donc réduit à ce calcul. "
   ]
  },
  {
   "cell_type": "markdown",
   "metadata": {
    "slideshow": {
     "slide_type": "subslide"
    }
   },
   "source": [
    "**Conclusion.**\n",
    "On a identifié :\n",
    "- 3 boucles imbriquées les unes dans les autres,\n",
    "- et un seul traitement (qui n'est pas une boucle) : le calcul dans le corps de la dernière boucle.     "
   ]
  },
  {
   "cell_type": "markdown",
   "metadata": {
    "slideshow": {
     "slide_type": "subslide"
    }
   },
   "source": [
    "Certains mots de ce pseudo-algorithme (pseudo car incomplet) en français permet d'identifier ce qui nous intéresse ici :\n",
    "- _toutes_ = répétition = boucle  \n",
    "- _et pour chacune_ (de ces _toutes_) = répétition (boucle) imbriquée dans la boucle du _toutes_  \n",
    "- _certaines_, _un ensemble_ = choix qui utilise les indices des boucles  "
   ]
  },
  {
   "cell_type": "markdown",
   "metadata": {
    "slideshow": {
     "slide_type": "subslide"
    }
   },
   "source": [
    "On a donc trois boucles imbriquées pour calculer toutes les valeurs de $C$ :\n",
    "- une première boucle (extérieure) pour parcourir ses lignes,\n",
    "    - cette boucle définit donc _l'indice des lignes_;\n",
    "- une deuxième boucle, imbriquée dans la précédente, pour parcourir ses colonnes,\n",
    "    - cette boucle définit donc _l'indice des colonnes_;\n",
    "- une troisième boucle, imbriquée dans la précédente, pour le traitement \"coordonné\" (sur certaines valeurs de $A$ et $B$).\n",
    "    - cette boucle définit donc _l'indice du parcours coordonné de la ligne et de la colonne_."
   ]
  },
  {
   "cell_type": "markdown",
   "metadata": {
    "slideshow": {
     "slide_type": "fragment"
    }
   },
   "source": [
    "Ce qui correspond à l'ecriture mathématique, à la fois explicite et synthétique :\n",
    "\n",
    "$$C(i,j) = \\sum_{k=0}^{n-1} A(i,k) \\times B(k,j), \\text{pour} (i,j) \\in [0, n-1] \\times [0, n-1],$$\n",
    "\n",
    "où les trois indices indiquées précédemment sont, respectivement et comme sur le schéma plus haut : \n",
    "- $i$ : ligne  \n",
    "- $j$ : colonne\n",
    "- $k$ : parcours coordonné  \n",
    "et ils varient (ici) tous entre 0 et $n-1$.  "
   ]
  },
  {
   "cell_type": "markdown",
   "metadata": {
    "slideshow": {
     "slide_type": "subslide"
    }
   },
   "source": [
    "Le code suivant -- pour des matrices entières et carrées de taille `n` par exemple -- explicite donc ce traitement."
   ]
  },
  {
   "cell_type": "code",
   "execution_count": 18,
   "metadata": {
    "slideshow": {
     "slide_type": "fragment"
    }
   },
   "outputs": [],
   "source": [
    "def prod_mat_carrees(a : list[list[int]], b : list[list[int]], n : int) -> list[list[int]]:\n",
    "    '''retourne C = AxB ou A,B,C sont des matrices entières carrees de taille nxn'''\n",
    "    c = [[0 for j in range(n)] for i in range(n)] # bien lire cette ligne\n",
    "    for i in range(n):\n",
    "        for j in range(n):\n",
    "            for k in range(n):\n",
    "                c[i][j] = c[i][j] + (a[i][k] * b[k][j])\n",
    "    return c"
   ]
  },
  {
   "cell_type": "markdown",
   "metadata": {
    "slideshow": {
     "slide_type": "fragment"
    }
   },
   "source": [
    "**Rmq.** Les 4 lignes annoncées pour l'_algorithme_ sont les lignes 4-5-6-7 :) Les lignes supplémentaires sont propres à sa _programmation_.\n",
    "\n",
    "\n",
    ":::{dropdown} Détails\n",
    "\n",
    "- l'en-tête et son `doc-string`\n",
    "- l'initialisation de la matrice résultat `c` (avec une construction en compréhension)\n",
    "- le `return` de la fonction \n",
    "\n",
    ":::\n",
    "\n",
    "\n",
    "Appliquons cette fonction pour `n = 2`."
   ]
  },
  {
   "cell_type": "code",
   "execution_count": 19,
   "metadata": {
    "slideshow": {
     "slide_type": "fragment"
    }
   },
   "outputs": [
    {
     "name": "stdout",
     "output_type": "stream",
     "text": [
      "[[1, 2], [3, 4]]\n"
     ]
    }
   ],
   "source": [
    "m = [[1, 2], [3, 4]]\n",
    "m_id = [[1, 0], [0, 1]] # matrice identité\n",
    "\n",
    "res1 = prod_mat_carrees(m, m_id, 2)\n",
    "#res2 = prod_mat_carrees(m_id, m, 2)\n",
    "\n",
    "print(res1)\n",
    "#print(res2)  "
   ]
  },
  {
   "cell_type": "markdown",
   "metadata": {
    "slideshow": {
     "slide_type": "fragment"
    }
   },
   "source": [
    "**Remarques.**\n",
    "- L'accumulation dans `c[i][j]` de la ligne 7 nécessite l'initialisation à zéro de la matrice résultat `c`.\n",
    "La ligne 2 crée cette matrice `c` et l'initialise à zéro avec une construction par compréhension. D'autres codages ou hypothèses sont possibles à ce sujet.   \n",
    "\n",
    "- Par souci de lisibilité, la spécification de cette fonction ne suit pas les règles indiquées plus haut pour la spécification de paramètre de type tableau.\n",
    "On aurait du écrire 6 paramètres d'entrée car il en faut 3 pour définir chaque matrice : son identifiant, son nombre de lignes, son nombres de colonnes. Ici, on a profité du caractère carré de toutes ces matrices pour uniquement spécifier ce nombre commun $n$."
   ]
  },
  {
   "cell_type": "markdown",
   "metadata": {
    "slideshow": {
     "slide_type": "subslide"
    }
   },
   "source": [
    "**Exercices.**\n",
    "1. - Que cache la ligne 3 de la fonction `prod_mat()` ?\n",
    "   - Proposer d'autres écritures de ce traitement.\n",
    "2. - Combien de fois est exécuté le calcul de la ligne 7 de `prod_mat()` :\n",
    "       - pour obtenir `res1` ?\n",
    "       - pour obtenir une matrice résultat `c` quelconque ?\n",
    "2. - Justifier qu'on peut effectuer la première boucle en parcourant les colonnes (de `c`) ? Comment ?\n",
    "   - ($\\star$) Peut-on effectuer la première boucle avec la boucle sur `k` ? Expliquer."
   ]
  },
  {
   "cell_type": "markdown",
   "metadata": {},
   "source": [
    ":::{dropdown}  Réponses.\n",
    "\n",
    "1. Voir détails ci-dessus\n",
    "2. $n^3$  où $n$ est la taille des matrices ici supposées carrées\n",
    "3. ($\\star$) les 3 boucles sont indépendantes et peuvent être effectuées dans un ordre quelconque. Avec une boucle extérieure sur `k`, la valeur finale des éléments de la matrice résultat ne sera connue qu'à la dernière itération de cette boucle externe. Se convaincre que la triple boucle actuelle fourni une valeurs à chaque itération de la boucle sur `k` (la plus interne).  \n",
    "\n",
    ":::"
   ]
  },
  {
   "cell_type": "markdown",
   "metadata": {
    "slideshow": {
     "slide_type": "slide"
    }
   },
   "source": [
    "## Boucles imbriquées dépendantes\n",
    "\n",
    "\n",
    "Il est classique de devoir utiliser des boucles imbriquées pour certains traitements de tableaux 1D. Nous verrons plusieurs fois le cas avec les _algorithmes de tri_. "
   ]
  },
  {
   "cell_type": "markdown",
   "metadata": {
    "slideshow": {
     "slide_type": "slide"
    }
   },
   "source": [
    "### Valeur répétée dans un tableau 1D\n",
    "\n",
    "Revenons sur l'exemple de la recherche de valeurs en double dans un tableau 1D.\n",
    "On peut imaginer plusieurs variations autour de cette question : \n",
    "- existe-t-il au moins un doublon dans un tableau donné ?\n",
    "- expliciter une valeur présente au moins 2 fois dans un tableau donné\n",
    "- lister toutes les valeurs au moins en double dans un tableau donné\n",
    "- expliciter les indices d'une valeur en double dans un tableau donné\n",
    "- lister les indices des valeurs au moins en double dans un tableau donné\n",
    "- ..."
   ]
  },
  {
   "cell_type": "markdown",
   "metadata": {
    "slideshow": {
     "slide_type": "fragment"
    }
   },
   "source": [
    "**Exercice.**\n",
    "- Qu'est ce qui différencie ces différentes variations autour de la notion de doublon ?"
   ]
  },
  {
   "cell_type": "markdown",
   "metadata": {
    "slideshow": {
     "slide_type": "subslide"
    }
   },
   "source": [
    "Cependant tous ces traitements nécessitent des boucles imbriquées.\n",
    "\n",
    "Intéressons-nous au problème indiqué en début de chapitre :\n",
    "> **(Q)** Existe-t-il au moins un doublon dans un tableau donné  ?\n",
    "\n",
    "On rappelle qu'un doublon est une valeur répétée à deux endroits différents du tableau. \n",
    "Soit pour ce problème et un tableau $t$ :\n",
    "> **(Q)** Existe-t-il 2 indices $i$ et $j$ tels que $i \\neq j$ et $t[i] = t[j]$. \n",
    "\n",
    "**Exercice.**\n",
    "Pour la question de l'existence d'un doublon, écrire un (pseudo-)algorithme en français qui (vous) aide à identifier les répétitions, les imbrications et les éventuelles contraintes sur les indices.  "
   ]
  },
  {
   "cell_type": "markdown",
   "metadata": {
    "slideshow": {
     "slide_type": "subslide"
    }
   },
   "source": [
    "### Une première solution avec deux boucles imbriquées indépendantes"
   ]
  },
  {
   "cell_type": "code",
   "execution_count": 20,
   "metadata": {
    "slideshow": {
     "slide_type": "fragment"
    }
   },
   "outputs": [],
   "source": [
    "def existe_doublon(t : list[int], n : int) -> bool:\n",
    "    res = False \n",
    "    for i in range(n):\n",
    "        for j in range(n):\n",
    "            if i != j and t[i] == t[j]:\n",
    "                res = True\n",
    "    return res"
   ]
  },
  {
   "cell_type": "code",
   "execution_count": 21,
   "metadata": {
    "slideshow": {
     "slide_type": "fragment"
    }
   },
   "outputs": [
    {
     "name": "stdout",
     "output_type": "stream",
     "text": [
      "[0, 1, 2, 3, 0, 1, 2, 3] [0, 1, 2, 3, 4, 5, 6, 7]\n",
      "True False\n"
     ]
    }
   ],
   "source": [
    "petit_tab = [i for i in range(4)]\n",
    "tab1 = petit_tab + petit_tab # concatenation de listes\n",
    "tab2 = [i for i in range(8)]\n",
    "print(tab1, tab2)\n",
    "\n",
    "oui = existe_doublon(tab1, 8)\n",
    "non = existe_doublon(tab2, 8)\n",
    "print(oui, non)"
   ]
  },
  {
   "cell_type": "markdown",
   "metadata": {
    "slideshow": {
     "slide_type": "subslide"
    }
   },
   "source": [
    "**Comptons !**\n",
    "\n",
    "1. Combien de fois le test de la ligne 6 de la fonction `existe_doublon()` est exécuté pour :\n",
    "- l'exemple avec `tab1` ? (ou `tab2` ?)\n",
    "- dans le cas général : pour un tableau `t` quelconque ?\n",
    "\n",
    "2. Qu'en pensez-vous ?\n",
    "3. _Souvenir, souvenir !_ Pourquoi dit-on que l'opérateur `and` (ou `&&`) est paresseux ? Quelles conséquences ici ?  "
   ]
  },
  {
   "cell_type": "markdown",
   "metadata": {},
   "source": [
    ":::{dropdown} Réponses.\n",
    "\n",
    "1. $n^2$\n",
    "2. La moitié au moins de ce travail est inutile.\n",
    "3. Si $i \\neq j$, la comparaison `t[i] == t[j]` n'est pas évaluée.\n",
    "\n",
    ":::"
   ]
  },
  {
   "cell_type": "markdown",
   "metadata": {
    "slideshow": {
     "slide_type": "subslide"
    }
   },
   "source": [
    "### Une solution avec deux boucles imbriquées dépendantes\n",
    "\n",
    "Dans l'exemple précédent, la boucle intérieure peut être limitée au sous-tableau des zones non encore explorées pour la valeur testée avec la boucle extérieure. \n",
    "\n",
    "En l'occurrence, à l'itération `i`, il suffit d'explorer le sous-tableau droit à partir de l'indice `i+1`, cad. pour les indices `i+1, i+2, ..., n-1`. \n",
    "\n",
    "Ainsi le test `i != j` est toujours satisfait donc inutile."
   ]
  },
  {
   "cell_type": "markdown",
   "metadata": {
    "slideshow": {
     "slide_type": "subslide"
    }
   },
   "source": [
    "Voici donc la bonne solution avec _deux boucles imbriquées **dépendantes**_ : l'indice de la boucle intérieure dépend de l'indice de la boucle extérieure."
   ]
  },
  {
   "cell_type": "code",
   "execution_count": 22,
   "metadata": {
    "slideshow": {
     "slide_type": "fragment"
    }
   },
   "outputs": [],
   "source": [
    "def existe_doublon_2(t : list[int], n : int) -> bool:\n",
    "    res = False \n",
    "    for i in range(n):\n",
    "        for j in range(i+1, n):\n",
    "            if t[i] == t[j]:\n",
    "                res = True\n",
    "    return res"
   ]
  },
  {
   "cell_type": "code",
   "execution_count": 23,
   "metadata": {
    "slideshow": {
     "slide_type": "fragment"
    }
   },
   "outputs": [
    {
     "name": "stdout",
     "output_type": "stream",
     "text": [
      "True False\n"
     ]
    }
   ],
   "source": [
    "oui = existe_doublon_2(tab1, 8)\n",
    "non = existe_doublon_2(tab2, 8)\n",
    "print(oui, non)"
   ]
  },
  {
   "cell_type": "markdown",
   "metadata": {
    "slideshow": {
     "slide_type": "fragment"
    }
   },
   "source": [
    "**Exercice.** Comptons !\n",
    "\n",
    "1. Combien de fois le test de la ligne 6 de la fonction `existe_doublon_2()` est exécuté pour :\n",
    "- l'exemple avec `tab1` ? (ou `tab2` ?)\n",
    "- dans le cas général : pour un tableau `t` quelconque ?\n",
    "\n",
    "2. Qu'en pensez-vous ? "
   ]
  },
  {
   "cell_type": "markdown",
   "metadata": {},
   "source": [
    ":::{dropdown} Réponses.\n",
    "\n",
    "1. $n + (n-1) + \\dots + 2 + 1 = n(n + 1)/2$ qui est équivalent à $n^2/2$ quand $n$ est arbitrairement grand -- soit moitié moins que le traitement précédent.\n",
    "2. On continue à \"trop travailler\" dans certains cas.\n",
    "\n",
    ":::"
   ]
  },
  {
   "cell_type": "markdown",
   "metadata": {
    "slideshow": {
     "slide_type": "slide"
    }
   },
   "source": [
    "## Autres imbrications de boucles \n",
    "\n",
    "La boucle `while ... :` est l'autre structure de répétition disponible en python.\n",
    "\n",
    "Il est bien sûr possible d'imbriquer, extérieurement et intérieurement, des boucles `while`.\n",
    "Et aussi des combinaisons de boucles `while` et `for`.\n",
    "\n",
    "L'exemple suivant illustre une telle construction."
   ]
  },
  {
   "cell_type": "code",
   "execution_count": 24,
   "metadata": {
    "slideshow": {
     "slide_type": "subslide"
    }
   },
   "outputs": [
    {
     "name": "stdout",
     "output_type": "stream",
     "text": [
      "0 0 : 1\n",
      "*\n",
      "1 0 : 1\n",
      "1 1 : 2\n",
      "*\n"
     ]
    }
   ],
   "source": [
    "t = [1, 2, 3, 1, 2, 3]\n",
    "\n",
    "i = 0\n",
    "while t[i] < t[i+1]:\n",
    "    for j in range(i+1):\n",
    "        print(i, j, \":\", t[j])\n",
    "    i = i+1\n",
    "    print(\"*\")"
   ]
  },
  {
   "cell_type": "markdown",
   "metadata": {},
   "source": [
    "**Remarque.**\n",
    "\n",
    "L'exemple précédent :\n",
    "\n",
    "- s'exécute comme attendu sur **ce** tableau `t`\n",
    "- mais n'est pas correct en général car aucun arrêt de la boucle `while` n'est prévu si le test   `t[i] < t[i+1]` n'est jamais vérifié. "
   ]
  },
  {
   "cell_type": "markdown",
   "metadata": {
    "slideshow": {
     "slide_type": "subslide"
    }
   },
   "source": [
    "**Exercice.** \n",
    "\n",
    "On continue avec l'existence de doublon dans un tableau 1D. \n",
    "\n",
    "- ($\\star$) Proposez une autre version qui effectue **au plus** le même nombre de tests qu'`existe_doublon_2()`?\n",
    "- Expliciter des cas où le nombre de tests effectué n'est pas amélioré.\n",
    "- Expliciter des cas où le nombre de tests effectué est amélioré.\n",
    "- Expliciter des cas où le nombre de tests effectué est minimal.\n",
    "- Qu'en pensez-vous ?"
   ]
  },
  {
   "cell_type": "markdown",
   "metadata": {},
   "source": [
    ":::{dropdown} Réponses.\n",
    "\n",
    "Cherchez un peu svp ! Ensuite allez vérifier [ici](rep:doublonwhile)\n",
    ":::"
   ]
  },
  {
   "cell_type": "markdown",
   "metadata": {
    "slideshow": {
     "slide_type": "slide"
    }
   },
   "source": [
    "## Synthèse\n",
    "\n",
    "### Ce qui a été vu"
   ]
  },
  {
   "cell_type": "markdown",
   "metadata": {
    "slideshow": {
     "slide_type": "subslide"
    }
   },
   "source": [
    "**Structure de données composée :**  les tableaux et leur représentation\n",
    "\n",
    "- les tableaux de dimension quelconque peuvent être représentés _en python_ par des listes, des listes de listes, des listes de listes de listes ... \n",
    "\n",
    "Avec comme conséquences :\n",
    "- indices `[][]...[]`  \n",
    "- définition-initialisation par compréhension : `[ ... [ 0 for i in range(5)] for j in range(3) ... ]`"
   ]
  },
  {
   "cell_type": "markdown",
   "metadata": {
    "slideshow": {
     "slide_type": "fragment"
    }
   },
   "source": [
    "**Structure de contrôle :** boucles imbriquées\n",
    "- indépendantes _vs._ dépendantes  \n",
    "- un parcours _vs._ plusieurs parcours _vs._ plusieurs parcours dépendants les uns des autres_   \n",
    "- comprendre le déroulement de ces boucles pour compter le nombre de répétitions\n",
    "    "
   ]
  },
  {
   "cell_type": "markdown",
   "metadata": {
    "slideshow": {
     "slide_type": "fragment"
    }
   },
   "source": [
    "**Spécifier pour vérifier** une fonction avec paramètre(s) de type tableau : \n",
    "- avant python 3.9 : `from typing import List`  # avec un `L` majuscule \n",
    "- depuis python 3.9 : `tab2D: [list[list[int]]` # avec un `l` minuscule  \n",
    "- ajouter les paramètres de dimension \n",
    "    - appel avec la fonction préféfinie `len()` "
   ]
  },
  {
   "cell_type": "markdown",
   "metadata": {},
   "source": [
    "### Ce qui n'a pas été vu\n",
    "\n",
    "Les `ndarray` du module `numpy` sont très utilisés en pratique et présentés dans [une annexe dédiée](ann:ndarray)    "
   ]
  },
  {
   "cell_type": "markdown",
   "metadata": {
    "slideshow": {
     "slide_type": "subslide"
    }
   },
   "source": [
    "### Exercice de synthèse\n",
    "\n",
    "Dans un notebook jupyter dédié, s'intéresser aux problèmes de l'égalité, de la similarité et de la comparaison de deux tableaux 1D.  \n",
    "\n",
    "**Définitions**\n",
    "\n",
    "- Deux tableaux sont _égaux_ si ils contiennent les mêmes valeurs aux mêmes positions.  \n",
    "- Deux tableaux sont _similaires_  si ils contiennent les mêmes valeurs avec le même nombre d'occurrences -- indépendamment de leurs positions.  \n",
    "- Deux tableaux sont comparables si ils contiennent les mêmes valeurs   si ils contiennent les mêmes valeurs avec le même nombre d'occurrences -- indépendamment de leurs nombres d'occurrences et de leurs positions.  "
   ]
  },
  {
   "cell_type": "markdown",
   "metadata": {},
   "source": [
    "(rep:doublonwhile)=\n",
    "**Réponse** de l'exercice \"Doublon avec boucle `while`\""
   ]
  },
  {
   "cell_type": "code",
   "execution_count": 25,
   "metadata": {},
   "outputs": [
    {
     "name": "stdout",
     "output_type": "stream",
     "text": [
      "[0, 1, 2, 3, 0, 1, 2, 3] doublon : True\n",
      "[0, 1, 2, 3, 4, 5, 6, 7] doublon : False\n",
      "[1, 1, 2, 3, 4, 5, 6, 7] doublon : True\n"
     ]
    }
   ],
   "source": [
    "def existe_doublon_while(t : list[int], n : int) -> bool:\n",
    "    res = False \n",
    "    i = 0\n",
    "    while i < n and res == False:\n",
    "        j = i + 1\n",
    "        while i != j and j < n:\n",
    "            if t[i] == t[j]:\n",
    "                res = True\n",
    "            j = j + 1\n",
    "        i = i + 1\n",
    "    return res\n",
    "\n",
    "\n",
    "t_ameliore = [i%4 for i in range(8)]\n",
    "oui = existe_doublon_while(t_ameliore, len(t_ameliore))\n",
    "\n",
    "t_non_ameliore = [i for i in range(8)]\n",
    "non = existe_doublon_while(t_non_ameliore, len(t_non_ameliore))\n",
    "\n",
    "t_minimal = [1] + [i for i in range(1,8)]\n",
    "oui2 = existe_doublon_while(t_minimal, len(t_minimal))\n",
    "\n",
    "print(t_ameliore, \"doublon :\", oui)\n",
    "print(t_non_ameliore, \"doublon :\", non)\n",
    "print(t_minimal, \"doublon :\", oui2)"
   ]
  },
  {
   "cell_type": "code",
   "execution_count": null,
   "metadata": {},
   "outputs": [],
   "source": []
  }
 ],
 "metadata": {
  "celltoolbar": "Diaporama",
  "kernelspec": {
   "display_name": "Python 3 (ipykernel)",
   "language": "python",
   "name": "python3"
  },
  "language_info": {
   "codemirror_mode": {
    "name": "ipython",
    "version": 3
   },
   "file_extension": ".py",
   "mimetype": "text/x-python",
   "name": "python",
   "nbconvert_exporter": "python",
   "pygments_lexer": "ipython3",
   "version": "3.9.6"
  },
  "latex_envs": {
   "LaTeX_envs_menu_present": true,
   "autoclose": false,
   "autocomplete": true,
   "bibliofile": "",
   "cite_by": "apalike",
   "current_citInitial": 1,
   "eqLabelWithNumbers": true,
   "eqNumInitial": 1,
   "hotkeys": {
    "equation": "Ctrl-E",
    "itemize": "Ctrl-I"
   },
   "labels_anchors": false,
   "latex_user_defs": false,
   "report_style_numbering": true,
   "user_envs_cfg": false
  },
  "toc": {
   "nav_menu": {},
   "number_sections": true,
   "sideBar": true,
   "skip_h1_title": false,
   "title_cell": "Table des matières",
   "title_sidebar": "TdM",
   "toc_cell": true,
   "toc_position": {
    "height": "calc(100% - 180px)",
    "left": "10px",
    "top": "150px",
    "width": "449.0257263183594px"
   },
   "toc_section_display": true,
   "toc_window_display": false
  }
 },
 "nbformat": 4,
 "nbformat_minor": 4
}
