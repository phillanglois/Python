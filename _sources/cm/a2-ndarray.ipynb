{
 "cells": [
  {
   "cell_type": "markdown",
   "metadata": {
    "slideshow": {
     "slide_type": "slide"
    }
   },
   "source": [
    "(ann:ndarray)=\n",
    "# Les 'ndarray' : de vrais tableaux en python\n",
    "\n",
    "version 2022, PhL."
   ]
  },
  {
   "cell_type": "markdown",
   "metadata": {
    "slideshow": {
     "slide_type": "slide"
    }
   },
   "source": [
    "Chapitre où sont présentés les vrais tableaux en python : les `ndarray` (tableaux) `numpy`.\n",
    "\n",
    "Les sections avec une $\\star$ sont de niveau _Objectif 20_. "
   ]
  },
  {
   "cell_type": "markdown",
   "metadata": {
    "slideshow": {
     "slide_type": "slide"
    }
   },
   "source": [
    "## Les tableaux \n",
    "\n",
    "Les _types scalaires_ permettent de manipuler des valeurs scalaires comme les :  \n",
    "- `bool`  \n",
    "- `int`  \n",
    "- `float`  \n",
    "- `complex`  \n",
    "- les caractères souvent dénotés de type _char_ (absent en python).   \n",
    "\n",
    "Un _type composé_ permet de regrouper plusieurs valeurs, de même type scalaire ou non, dans une seule variable (ou un seul objet).  \n",
    "Il y a plusieurs _familles_ de types composés.\n",
    "Les tableaux sont l'une d'entre elles."
   ]
  },
  {
   "cell_type": "markdown",
   "metadata": {
    "slideshow": {
     "slide_type": "subslide"
    }
   },
   "source": [
    "\n",
    "### La vision classique  \n",
    "\n",
    "**Les tableaux**  sont définis comme des ensembles :  \n",
    "- de valeurs _de même type_  \n",
    "- en nombre connu et fixé \"une fois pour toute\" lors de leur définition  \n",
    "- et dont les valeurs sont _stockées de façon contigüe en mémoire_.  \n",
    "\n",
    "Le nombre de valeurs stockées dans un tableau est la _taille_ ou la _dimension_ de ce tableau. \n",
    "\n",
    "- Un tableau peut être 1D (linéaire) ou multidimensionnel : 2D (matrice), 3D, ...  \n",
    "- Les valeurs du tableau sont repérées par un ou des _indices_ , entiers et consécutifs.  \n",
    "- Il y a autant d'indices que de dimensions du tableau : \n",
    "    - 1D = 1 indice `i` : le numéro `i` de la case qui contient la valeur  \n",
    "    - 2D = 2 indices `i` et `j` : les numéros de _ligne_ et de _colonne_ de la case qui contient la valeur  \n",
    "    - et ainsi de suite ..."
   ]
  },
  {
   "cell_type": "markdown",
   "metadata": {
    "slideshow": {
     "slide_type": "subslide"
    }
   },
   "source": [
    "### En python \n",
    "\n",
    "Jusque-là, les tableaux ont été représentés par des listes python.\n",
    "Au [chapitre \"Types composés\"](ch:typescomposes), on a vu qu'une liste python est très différente de la définition -- la vision classique -- des tableaux.  \n",
    "\n",
    "Voilà pourquoi nous allons étudier les `ndarray`, qui définissent un type composé fourni par le module `numpy` et qui correspondent aux tableaux classiques.\n",
    "    "
   ]
  },
  {
   "cell_type": "markdown",
   "metadata": {
    "slideshow": {
     "slide_type": "slide"
    }
   },
   "source": [
    "## Les `ndarray` de `numpy`\n",
    "\n",
    "Les `ndarray` de `numpy` sont ainsi appelés car :\n",
    "- `array` : tableau in english,  \n",
    "- `nd` : $n$-dimension.  \n",
    "\n",
    "**ATTENTION** : il existe des `array` dans la bibliothèque standard de python.  "
   ]
  },
  {
   "cell_type": "markdown",
   "metadata": {
    "slideshow": {
     "slide_type": "subslide"
    }
   },
   "source": [
    "### Préliminaire nécessaire à l'utilisation de `numpy`\n",
    "Ce qui suit concerne les `ndarray` du module `numpy` utilisables après un `import numpy` ou le classique :  "
   ]
  },
  {
   "cell_type": "code",
   "execution_count": 1,
   "metadata": {
    "slideshow": {
     "slide_type": "fragment"
    }
   },
   "outputs": [],
   "source": [
    "import numpy as np"
   ]
  },
  {
   "cell_type": "markdown",
   "metadata": {
    "slideshow": {
     "slide_type": "slide"
    }
   },
   "source": [
    "### Créer un `ndarray` : fonctions de création \n",
    "\n",
    "La création d'un `ndarray` est un peu pénible au début.\n",
    "Il faut utiliser un des _constructeurs_ définis dans le tableau ci-dessous.\n",
    "Le choix d'un constructeur dépend de la connaissance ou non des valeurs du `ndarray`. Bien sûr, le nombre d'éléments de `ndarray`, ou de façon équivalente le produit de ses dimensions, doit être connu avant la création du `ndarray`. \n",
    "\n",
    "identifiant | Argument | Famille |Rôle  \n",
    "------------| ---------|---------|----  \n",
    "`zeros()` | `tuple` d'`int`| **constructeur** | créé un tableau rempli de _zéros_ et de dimension et de tailles définies comme argument  \n",
    "`ones()` | `tuple` d'`int`| constructeur | créé un tableau rempli de _1_ et de dimension et de tailles définies comme argument  \n",
    "`arange()` | range d'`int` ou de `float`| constructeur | créé un tableau 1D rempli des valeurs du _range_ défini comme argument   \n",
    "\n",
    "\n",
    "On verra aussi un peu plus loin un autre constructeur qui permet de définir un `ndarray` à partir de la liste python `lst` de ses valeurs.  "
   ]
  },
  {
   "cell_type": "code",
   "execution_count": 2,
   "metadata": {
    "slideshow": {
     "slide_type": "fragment"
    }
   },
   "outputs": [
    {
     "name": "stdout",
     "output_type": "stream",
     "text": [
      "Créations de ndarray :\n",
      "[0. 0. 0.]\n",
      "t1 = [1. 1. 1. 1. 1.]\n",
      "t2 = [0 1 2 3 4 5 6 7 8 9]\n",
      "t2D de 3 lignes et 4 colonnes : \n",
      " [[1. 1. 1. 1.]\n",
      " [1. 1. 1. 1.]\n",
      " [1. 1. 1. 1.]]\n",
      "[0 1 2 3 4 5 6 7 8 9]\n"
     ]
    }
   ],
   "source": [
    "t0 = np.zeros(3)\n",
    "t1 = np.ones(5)\n",
    "t2 = np.arange(10)\n",
    "\n",
    "print(\"Créations de ndarray :\")\n",
    "print(t0)\n",
    "print(\"t1 =\", t1)\n",
    "print(\"t2 =\", t2)\n",
    "\n",
    "t34 = np.ones( (3, 4) )\n",
    "print(\"t2D de 3 lignes et 4 colonnes : \\n\", t34)\n",
    "\n",
    "t23 = np.arange(10)\n",
    "print(t23)\n",
    "\n",
    "#help(np.arange)"
   ]
  },
  {
   "cell_type": "markdown",
   "metadata": {
    "slideshow": {
     "slide_type": "slide"
    }
   },
   "source": [
    "### Choisir le type des valeurs à la création\n",
    "\n",
    "Le paramètre `dtype` (_data-type_) permet de définir type des valeurs du `ndarray` lors de sa création.\n",
    "\n",
    "`dtype` :  \n",
    "* est utilisé comme paramètre nommé de certaines fonctions pour définir le type numérique des valeurs  \n",
    "* les valeurs de `dtype` dépendent de l'environnement; les plus classiques sont :   \n",
    "    - ceux de python : `int`, `float`, `complex`  \n",
    "    - et `numpy` en propose d'autres : `uint8`, `int16`, `int32`, `int64`, `float32`, `float64`, ...   "
   ]
  },
  {
   "cell_type": "code",
   "execution_count": 3,
   "metadata": {
    "slideshow": {
     "slide_type": "fragment"
    }
   },
   "outputs": [
    {
     "name": "stdout",
     "output_type": "stream",
     "text": [
      "Création de ndarray :\n",
      "t0 =  [0 0 0]\n",
      "t1 = [1. 1. 1. 1. 1.]\n",
      "t11 = [1. 1. 1. 1. 1.]\n",
      "t2 = [0.+0.j 1.+0.j 2.+0.j 3.+0.j 4.+0.j 5.+0.j 6.+0.j 7.+0.j 8.+0.j 9.+0.j]\n"
     ]
    }
   ],
   "source": [
    "t0 = np.zeros(3, dtype = int)\n",
    "t1 = np.ones(5, dtype = float)\n",
    "t11 = np.ones(5, dtype = np.float32)\n",
    "t2 = np.arange(10, dtype = complex)\n",
    "\n",
    "print(\"Création de ndarray :\")\n",
    "print(\"t0 = \", t0)\n",
    "print(\"t1 =\", t1)\n",
    "print(\"t11 =\", t11)\n",
    "print(\"t2 =\", t2)"
   ]
  },
  {
   "cell_type": "code",
   "execution_count": 4,
   "metadata": {
    "slideshow": {
     "slide_type": "fragment"
    }
   },
   "outputs": [
    {
     "name": "stdout",
     "output_type": "stream",
     "text": [
      "Help on built-in function zeros in module numpy:\n",
      "\n",
      "zeros(...)\n",
      "    zeros(shape, dtype=float, order='C')\n",
      "    \n",
      "    Return a new array of given shape and type, filled with zeros.\n",
      "    \n",
      "    Parameters\n",
      "    ----------\n",
      "    shape : int or tuple of ints\n",
      "        Shape of the new array, e.g., ``(2, 3)`` or ``2``.\n",
      "    dtype : data-type, optional\n",
      "        The desired data-type for the array, e.g., `numpy.int8`.  Default is\n",
      "        `numpy.float64`.\n",
      "    order : {'C', 'F'}, optional, default: 'C'\n",
      "        Whether to store multi-dimensional data in row-major\n",
      "        (C-style) or column-major (Fortran-style) order in\n",
      "        memory.\n",
      "    \n",
      "    Returns\n",
      "    -------\n",
      "    out : ndarray\n",
      "        Array of zeros with the given shape, dtype, and order.\n",
      "    \n",
      "    See Also\n",
      "    --------\n",
      "    zeros_like : Return an array of zeros with shape and type of input.\n",
      "    empty : Return a new uninitialized array.\n",
      "    ones : Return a new array setting values to one.\n",
      "    full : Return a new array of given shape filled with value.\n",
      "    \n",
      "    Examples\n",
      "    --------\n",
      "    >>> np.zeros(5)\n",
      "    array([ 0.,  0.,  0.,  0.,  0.])\n",
      "    \n",
      "    >>> np.zeros((5,), dtype=int)\n",
      "    array([0, 0, 0, 0, 0])\n",
      "    \n",
      "    >>> np.zeros((2, 1))\n",
      "    array([[ 0.],\n",
      "           [ 0.]])\n",
      "    \n",
      "    >>> s = (2,2)\n",
      "    >>> np.zeros(s)\n",
      "    array([[ 0.,  0.],\n",
      "           [ 0.,  0.]])\n",
      "    \n",
      "    >>> np.zeros((2,), dtype=[('x', 'i4'), ('y', 'i4')]) # custom dtype\n",
      "    array([(0, 0), (0, 0)],\n",
      "          dtype=[('x', '<i4'), ('y', '<i4')])\n",
      "\n"
     ]
    }
   ],
   "source": [
    " help(np.zeros)"
   ]
  },
  {
   "cell_type": "markdown",
   "metadata": {
    "slideshow": {
     "slide_type": "slide"
    }
   },
   "source": [
    "### Accéder aux éléments d'un `ndarray`\n",
    "\n",
    "On manipule les élements, les tranches de tableau avec la même syntaxe que les `str` ou les `lst`:   \n",
    "- `t[5]`  \n",
    "- `tab[0:3, :]`  \n",
    "- ...  \n",
    "\n",
    "<div class=\"alert alert-block alert-info\">\n",
    "\n",
    "**Indices de tableaux multi-dimentionnels :** les deux écritures suivantes sont possibles.   \n",
    "- dans `t` un tableau 2D (matrice), l'élément à la ligne i et à la colonne j s'écrit : `t[i, j]` _ou_ `t[i][j]`  \n",
    "\n",
    "On pourra préférer `t[i, j]` qui permet de bien distinguer les `ndarray` des listes (de listes).  \n",
    "</div>"
   ]
  },
  {
   "cell_type": "code",
   "execution_count": 5,
   "metadata": {
    "slideshow": {
     "slide_type": "fragment"
    }
   },
   "outputs": [
    {
     "name": "stdout",
     "output_type": "stream",
     "text": [
      "True\n"
     ]
    }
   ],
   "source": [
    "print(t34[1, 2] == t34[1][2])"
   ]
  },
  {
   "cell_type": "markdown",
   "metadata": {
    "slideshow": {
     "slide_type": "slide"
    }
   },
   "source": [
    "### Afficher un `ndarray`: fonction d'affichage\n",
    "\n",
    "On aura remarqué que la fonction `print()` accepte et traite correctement un argument de type `ndarray`.  \n",
    "Et même sans avoir à préciser :  \n",
    "- les dimensions et les tailles de l'argument  \n",
    "- le type de ces valeurs.  \n",
    "\n",
    "`numpy` propose ainsi une fonction d'affichage d'une utilisation identique au `print()`de python.  \n",
    "Comprendre qu'il y a en fait plusieurs fonctions `print()` mais qu'elles partagent le même nom.\n",
    "\n",
    "**Quizz**\n",
    "- Quelle est la limitation d'une telle fonction `print()`?"
   ]
  },
  {
   "cell_type": "markdown",
   "metadata": {
    "slideshow": {
     "slide_type": "slide"
    }
   },
   "source": [
    "### Méthodes d'introspection    \n",
    "\n",
    "Les méthodes d'introspection sont des fonctions qui retournent des caractéristiques des variables (objets) auxquelles elles s'appliquent.  \n",
    "Ce sont des _méthodes de description_.\n",
    "\n",
    "identifiant | Argument | Famille |Rôle  \n",
    "------------|----------|---------|-----  \n",
    "`.ndim` | `array`| **descripteur** | retourne le nombre de dimensions du tableau argument  \n",
    "`.shape`| `array`| descripteur | retourne, sous la forme d'un t-uple, les dimensions du tableau argument  \n",
    "`.size` | `array`| descripteur | retourne le nombre d'éléments du tableau argument  \n",
    "`.dtype`| `array`| descripteur | retourne le type des éléments du tableau argument  \n",
    "\n",
    "<div class=\"alert alert-block alert-info\">\n",
    "    \n",
    "La **notation pointée** agit comme les parenthèses d'une fonction : elle permet de nommer la variable (l'objet) à laquelle l'introspection s'applique.  \n",
    "    \n",
    "</div>"
   ]
  },
  {
   "cell_type": "code",
   "execution_count": 6,
   "metadata": {
    "slideshow": {
     "slide_type": "subslide"
    }
   },
   "outputs": [
    {
     "name": "stdout",
     "output_type": "stream",
     "text": [
      "Plus de détails : tableau 1D\n",
      "<class 'int'>\n",
      "<class 'numpy.ndarray'>\n",
      "\n",
      "Plus de détails sur le tableau 1D avec des méthodes : \n",
      "t.dim avec t un nd-array: 1 1 1\n",
      "t.shape avec t un nd-array: (3,) (5,) (10,)\n",
      "t.size avec t un nd-array: 3 10 10\n",
      "\n",
      "Et des détails sur les valeurs du tableau 1D :\n",
      "int64\n",
      "8\n",
      "\n"
     ]
    }
   ],
   "source": [
    "print(\"Plus de détails : tableau 1D\")\n",
    "i = 3\n",
    "print(type(i))\n",
    "print(type(t0)) # type() est une fonction python\n",
    "print()\n",
    "\n",
    "print(\"Plus de détails sur le tableau 1D avec des méthodes : \")\n",
    "print(\"t.dim avec t un nd-array:\", t0.ndim, t1.ndim, t2.ndim)\n",
    "print(\"t.shape avec t un nd-array:\", t0.shape, t1.shape, t2.shape)\n",
    "print(\"t.size avec t un nd-array:\", t0.size, t2.size, t2.size)\n",
    "print()\n",
    "\n",
    "print(\"Et des détails sur les valeurs du tableau 1D :\")\n",
    "print(t0.dtype)\n",
    "print(t0.itemsize)\n",
    "print()"
   ]
  },
  {
   "cell_type": "code",
   "execution_count": 7,
   "metadata": {
    "slideshow": {
     "slide_type": "subslide"
    }
   },
   "outputs": [
    {
     "name": "stdout",
     "output_type": "stream",
     "text": [
      "Plus de détails avec tableau 2D :\n",
      "<class 'numpy.ndarray'>\n",
      "t.dim: 2\n",
      "t.shape: (3, 4)\n",
      "t.size: 12\n",
      "Et des détails sur les valeurs du tableau : dtype, itemsize float64 8\n",
      "\n"
     ]
    }
   ],
   "source": [
    "print(\"Plus de détails avec tableau 2D :\")\n",
    "print(type(t34)) \n",
    "\n",
    "print(\"t.dim:\", t34.ndim)\n",
    "print(\"t.shape:\", t34.shape)\n",
    "print(\"t.size:\", t34.size)\n",
    "\n",
    "print(\"Et des détails sur les valeurs du tableau : dtype, itemsize\", t34.dtype, t34.itemsize)\n",
    "print()"
   ]
  },
  {
   "cell_type": "code",
   "execution_count": 8,
   "metadata": {
    "slideshow": {
     "slide_type": "fragment"
    }
   },
   "outputs": [
    {
     "name": "stdout",
     "output_type": "stream",
     "text": [
      "[1. 1. 1. 1. 1. 1. 1. 1. 1. 1. 1. 1. 1. 1. 1. 1. 1.] [[1. 1. 1.]\n",
      " [1. 1. 1.]]\n",
      "np.ones((2,3)): 2 (2, 3) 6\n",
      "\n"
     ]
    }
   ],
   "source": [
    "v = np.ones(17)\n",
    "t1 = np.ones((2,3))\n",
    "print(v, t1)\n",
    "print(\"np.ones((2,3)):\", t1.ndim, t1.shape, t1.size)\n",
    "print() "
   ]
  },
  {
   "cell_type": "code",
   "execution_count": 9,
   "metadata": {
    "slideshow": {
     "slide_type": "subslide"
    }
   },
   "outputs": [
    {
     "name": "stdout",
     "output_type": "stream",
     "text": [
      "t2= [ 2.   2.5  3.   3.5  4.   4.5  5.   5.5  6.   6.5  7.   7.5  8.   8.5\n",
      "  9.   9.5 10.  10.5]\n",
      "size : 18\n",
      "\n",
      "t2f= [0. 1. 2. 3. 4. 5.]\n",
      "size : 6\n",
      "\n"
     ]
    }
   ],
   "source": [
    "t2 = np.arange(2,11,0.5)\n",
    "print(\"t2=\",t2)\n",
    "print(\"size :\", t2.size)\n",
    "print()\n",
    "\n",
    "t2f = np.arange(6.0)\n",
    "print(\"t2f=\",t2f)\n",
    "print(\"size :\", t2f.size)\n",
    "print()"
   ]
  },
  {
   "cell_type": "markdown",
   "metadata": {
    "slideshow": {
     "slide_type": "slide"
    }
   },
   "source": [
    "### Fonctions : élément-par-élément vs. tableau\n",
    "\n",
    "Les `ndarray`bénéficient d'opérations vectorielles et matricielles ainsi que des traitements d'algèbre linéaire :  \n",
    "* `dot()`: produit scalaire (aussi `vdot`),  \n",
    "* `dot()` ou `@` : produit matriciel,   \n",
    "* `transpose()`ou méthode `.T` : transposition   "
   ]
  },
  {
   "cell_type": "markdown",
   "metadata": {
    "slideshow": {
     "slide_type": "subslide"
    }
   },
   "source": [
    "**ATTENTION**  Les autres fonctions travaillent __élément-par-élement__ (_element-wise_) en utilisant la _surcharge_ des opérateurs.\n",
    "\n",
    "Ainsi ces fonctions retournent des `ndarray` de forme induite par celles des opérandes.  \n",
    "\n",
    "* opérateurs arithmétiques (surchargés et s'appliquant element-wise)  : `+`, `-`, `*`, `/`,  `//`, `%`, `divmod()`, `**`, `pow()`  \n",
    "* opérateurs logiques : `&`, `^, `|`, `~`   \n",
    "* comparaisons : `==`, `<`, `>`, `<=`, `>=`, `!=`    \n",
    "* fonctions : `sqrt()`, `exp()`, ...    "
   ]
  },
  {
   "cell_type": "markdown",
   "metadata": {
    "slideshow": {
     "slide_type": "subslide"
    }
   },
   "source": [
    "<div class=\"alert alert-block alert-danger\">\n",
    "\n",
    "**ATTENTION :** Le produit matriciel classique est `A @ B` tandis que `A * B` est le produit élément-par-élement.\n",
    "\n",
    "</div>\n",
    "\n",
    "<div class=\"alert alert-block alert-danger\">\n",
    "\n",
    "**ATTENTION :** La mise en garde précédente s'appuie sur le fait que __seul__ le type __ndarray__ de numpy a été introduit dans ce cours.  \n",
    "En particulier, le terme suivant est utilisé une et une seule fois, ici : matrix!\n",
    "\n",
    "</div>"
   ]
  },
  {
   "cell_type": "markdown",
   "metadata": {
    "slideshow": {
     "slide_type": "slide"
    }
   },
   "source": [
    "### Définir des `ndarray` à partir de listes python (`list`)  \n",
    "\n",
    "L'exemple suivant utilise un autre constructeur, dénoté `np.array()` qui définit un tableau `ndarray` à partir de la _liste_ de ses valeurs (cf. paragraphe suivant)."
   ]
  },
  {
   "cell_type": "code",
   "execution_count": 10,
   "metadata": {
    "slideshow": {
     "slide_type": "fragment"
    }
   },
   "outputs": [
    {
     "name": "stdout",
     "output_type": "stream",
     "text": [
      "[1 0 0]\n",
      "\n",
      "[[1 1 1]\n",
      " [2 2 2]]\n"
     ]
    }
   ],
   "source": [
    "vi = np.array([1,0,0])\n",
    "print(vi)\n",
    "print()\n",
    "\n",
    "m23 = np.array([[1,1,1], [2,2,2]])\n",
    "print(m23)"
   ]
  },
  {
   "cell_type": "code",
   "execution_count": 11,
   "metadata": {
    "slideshow": {
     "slide_type": "subslide"
    }
   },
   "outputs": [
    {
     "name": "stdout",
     "output_type": "stream",
     "text": [
      "[1 0 0] [0 1 0] [0 0 1]\n",
      "comparaison scalaire: True\n",
      "\n",
      "égalité élement-élément: [False False  True]\n",
      "comparaison élement-élément: [ True False False]\n",
      "[0 0 0]\n",
      "comparaison élément-élement: [ True  True  True]\n",
      "\n",
      "I3=\n",
      "[[1 0 0]\n",
      " [0 1 0]\n",
      " [0 0 1]]\n",
      "I2=\n",
      "[[1 0]\n",
      " [0 1]]\n",
      "\n",
      "tranche de tableau: [0 0 1]\n",
      "[ True  True  True]\n"
     ]
    }
   ],
   "source": [
    "vi = np.array([1,0,0])\n",
    "vj = np.array([0,1,0])\n",
    "vk = np.array([0,0,1])\n",
    "print(vi, vj, vk) \n",
    "\n",
    "zero = np.dot(vi, vj)\n",
    "autre_zero = np.vdot(vi, vj)\n",
    "print(\"comparaison scalaire:\", zero == autre_zero)\n",
    "print()\n",
    "\n",
    "print(\"égalité élement-élément:\", vi == vj)\n",
    "print(\"comparaison élement-élément:\", vi > vj)\n",
    "un_autre_vecteur = vi * vj\n",
    "print(un_autre_vecteur)\n",
    "print(\"comparaison élément-élement:\", zero == un_autre_vecteur)\n",
    "print()\n",
    "\n",
    "I3 = np.array([vi, vj, vk])\n",
    "print(\"I3=\"); print(I3)\n",
    "I2 = I3[0:2, 0:2]\n",
    "print(\"I2=\"); print(I2)\n",
    "print()\n",
    "\n",
    "K = I3[2, :]\n",
    "print(\"tranche de tableau:\", K)\n",
    "print(vk == K)\n"
   ]
  },
  {
   "cell_type": "markdown",
   "metadata": {
    "slideshow": {
     "slide_type": "subslide"
    }
   },
   "source": [
    "<div class=\"alert alert-block alert-warning\">\n",
    "    \n",
    "Les opérations composées (avec affectation) `+=` ou `*=` effectuent un traitement _en place_, c-a-d sans créer un nouvel objet.\n",
    "\n",
    "</div>"
   ]
  },
  {
   "cell_type": "markdown",
   "metadata": {
    "slideshow": {
     "slide_type": "slide"
    }
   },
   "source": [
    "## Aspects plus avancés    ($\\star$)\n",
    "\n",
    "### Autres constructeurs et autres descripteurs \n",
    "\n",
    "\n",
    "identifiant | Fonction ou Méthode| Argument | Famille |Rôle\n",
    "------------|--------------------|----------|---------|----\n",
    "`array()`| F | `list` | **constructeur** | créé un tableau à partir d'un argument `list` python  \n",
    "`reshape()` | F | `ndarray`et `tuple`d'`int`| **constructeur** | redimensionne aux dimensions définies dans le tuple argument, un tableau existant (et compatible) passé comme argument \n",
    "`.strides` | M | `array`| descripteur | retourne l'espace, mesuré en octets, entre 2 éléments consécutifs _dans une direction donnée_ de chaque élément du tableau argument ; ces valeurs sont retournées sous la forme d'un tuple\n",
    "`.itemsize` | M | `array`| descripteur | retourne la taille en octets de chaque élément du tableau argument  "
   ]
  },
  {
   "cell_type": "code",
   "execution_count": 12,
   "metadata": {
    "slideshow": {
     "slide_type": "fragment"
    }
   },
   "outputs": [
    {
     "name": "stdout",
     "output_type": "stream",
     "text": [
      "t12= [[0. 0. 0.]\n",
      " [0. 0. 0.]\n",
      " [0. 0. 0.]\n",
      " [0. 0. 0.]]\n",
      "\n",
      "Attention au (no-)reshape : t12.reshape(6,2)\n",
      "(4, 3)\n",
      "t12= [[0. 0. 0.]\n",
      " [0. 0. 0.]\n",
      " [0. 0. 0.]\n",
      " [0. 0. 0.]]\n",
      "\n",
      "t12bis = t12.reshape(6,2)\n",
      "(6, 2)\n",
      "t12bis= [[0. 0.]\n",
      " [0. 0.]\n",
      " [0. 0.]\n",
      " [0. 0.]\n",
      " [0. 0.]\n",
      " [0. 0.]]\n",
      "\n",
      "t12 et t12bis : même tableau en mémoire ? False\n"
     ]
    }
   ],
   "source": [
    "t12 = np.zeros(12).reshape(4,3)\n",
    "print(\"t12=\",t12)\n",
    "print()\n",
    "\n",
    "t12.reshape(6,2)\n",
    "print(\"Attention au (no-)reshape : t12.reshape(6,2)\")\n",
    "print(t12.shape); print(\"t12=\", t12)\n",
    "print()\n",
    "\n",
    "t12bis = np.reshape(t12,(6,2))\n",
    "print(\"t12bis = t12.reshape(6,2)\")\n",
    "print(t12bis.shape); print(\"t12bis=\", t12bis)\n",
    "print()\n",
    "\n",
    "print(\"t12 et t12bis : même tableau en mémoire ?\", id(t12) == id(t12bis))"
   ]
  },
  {
   "cell_type": "markdown",
   "metadata": {
    "slideshow": {
     "slide_type": "subslide"
    }
   },
   "source": [
    "**Attention :** La forme (shape) du tableau est fixée une fois pour toute à sa définition.  \n",
    "`reshape()`, vu comme une fonction, ne modifie pas la forme d'un tableau existant mais permet de construire si besoin un _nouveau_ tableau structuré différemment d'un tableau existant.   \n",
    "Ce nouveau tableau est obtenu lors de l'affectation du résultat (de la fonction) constructeur `reshape()`  \n",
    "\n",
    "\n",
    "**Difficile :** En pratique, cette \"remise en forme\" d'un tableau pose des questions quant à son stockage _contigu_ en mémoire. En effet, la mémoire est linéaire (1D) et ré-organiser un tableau n-D de façon contigue dans un espace 1D peut s'effectuer de façons diverses : ligne après ligne _vs._ colonne après colonne pour un tableau 2D par exemple, ...    "
   ]
  },
  {
   "cell_type": "code",
   "execution_count": 13,
   "metadata": {
    "slideshow": {
     "slide_type": "fragment"
    }
   },
   "outputs": [
    {
     "name": "stdout",
     "output_type": "stream",
     "text": [
      "comparaison : False\n",
      "shapes : (4, 3) (6, 2)\n",
      "id : 4566093216 4566093616\n"
     ]
    },
    {
     "name": "stderr",
     "output_type": "stream",
     "text": [
      "/usr/local/lib/python3.7/site-packages/ipykernel_launcher.py:1: DeprecationWarning: elementwise comparison failed; this will raise an error in the future.\n",
      "  \"\"\"Entry point for launching an IPython kernel.\n"
     ]
    }
   ],
   "source": [
    "print(\"comparaison :\", t12 == t12bis)\n",
    "print(\"shapes :\", t12.shape, t12bis.shape)\n",
    "print(\"id :\", id(t12), id(t12bis))"
   ]
  },
  {
   "cell_type": "code",
   "execution_count": 14,
   "metadata": {
    "scrolled": true,
    "slideshow": {
     "slide_type": "fragment"
    }
   },
   "outputs": [
    {
     "name": "stdout",
     "output_type": "stream",
     "text": [
      "[1 0]\n",
      "<class 'numpy.ndarray'>\n",
      "int64\n",
      "(8,)\n"
     ]
    }
   ],
   "source": [
    "t = np.array([1,0])\n",
    "print(t)\n",
    "print(type(t))\n",
    "print(t.dtype)\n",
    "print(t.strides)"
   ]
  },
  {
   "cell_type": "code",
   "execution_count": 15,
   "metadata": {
    "slideshow": {
     "slide_type": "fragment"
    }
   },
   "outputs": [
    {
     "name": "stdout",
     "output_type": "stream",
     "text": [
      "[[1 0]\n",
      " [0 1]]\n",
      "[[5 6]\n",
      " [7 8]]\n",
      "\n",
      "[[5 6]\n",
      " [7 8]]\n",
      "[[5 0]\n",
      " [0 8]]\n"
     ]
    }
   ],
   "source": [
    "Id = np.array([[1,0],[0,1]])\n",
    "A = np.arange(5,9).reshape(2,2)\n",
    "print(Id)\n",
    "print(A)\n",
    "print()\n",
    "\n",
    "reA = np.dot(Id, A)\n",
    "B = Id * A\n",
    "print(reA)\n",
    "print(B)"
   ]
  },
  {
   "cell_type": "code",
   "execution_count": 16,
   "metadata": {
    "slideshow": {
     "slide_type": "fragment"
    }
   },
   "outputs": [
    {
     "name": "stdout",
     "output_type": "stream",
     "text": [
      "[1.+2.j 3.+4.j] complex128\n",
      "[[1.+0.j 2.+0.j]\n",
      " [3.+0.j 4.+0.j]] complex128\n",
      "[1.+2.j 3.+4.j] complex128\n",
      "[[1 2]\n",
      " [3 4]] int64\n"
     ]
    }
   ],
   "source": [
    "import numpy as np \n",
    "\n",
    "tc = np.array( [complex(1,2), complex(3,4)] , dtype=complex )\n",
    "tc2 = np.array( [ [1,2], [3,4]] , dtype=complex )\n",
    "tc3 = np.array( [ 1+2.j, 3+4.j ] , dtype=complex )\n",
    "\n",
    "t_2d = np.array( [ [1,2], [3,4] ])\n",
    "\n",
    "print(tc, tc.dtype)\n",
    "print(tc2, tc2.dtype)\n",
    "print(tc3, tc3.dtype)\n",
    "\n",
    "print(t_2d, t_2d.dtype)\n"
   ]
  },
  {
   "cell_type": "markdown",
   "metadata": {
    "slideshow": {
     "slide_type": "slide"
    }
   },
   "source": [
    "<div class=\"alert alert-block alert-warning\">\n",
    "\n",
    "**Création $\\neq$ affectation.**   \n",
    "\n",
    "L'affectation entre `ndarray` :`tab2 = tab1` ne créé pas un nouvel `ndarray` `tab2`. \n",
    "    \n",
    "On retrouvera ce comportement avec **types mutables** python : `list` et `dict`.\n",
    "\n",
    "En revanche, les précédentes fonctions de création produisent l'effet attendu. \n",
    "\n",
    "</div>"
   ]
  },
  {
   "cell_type": "markdown",
   "metadata": {
    "slideshow": {
     "slide_type": "slide"
    }
   },
   "source": [
    "### Autres fonctions et méthodes utiles\n",
    "\n",
    "En vrac des fonctions et des méthodes qui manipulent (en entrée et sortie) des `ndarray` :  \n",
    "\n",
    "*  `linspace(a,b,nb)` : fonction qui génère et retourne un tableau `ndarray` de `nb` valeurs régulièrement espacées entre `a` et `b`  \n",
    "* `empty(shape)` génère et retourne un tableau `ndarray` _non initialisé_ et de dimension `shape`   \n",
    "    * *Rmq.* mentionné pour insister sur l'intérêt des constructeurs `zeros()` et `ones()`!!!  \n",
    "* `axis` : notion d'axe   \n",
    "    * `axis= 0, 1, ...` désignent les première, deuxième, ... dimensions du `ndarray`  \n",
    "    * est utilisé comme paramètre nommé de certaines méthodes pour désigner _où s'applique_ le traitement   \n",
    "    * exemple : `a23.sum(x)` retourne les sommes `[ a[0,0]+a[1,0], a[0,1]+a[1,1], a[0,2]+a[1,2] ]`  \n",
    "    * concerne aussi les méthodes :  `.min()`, `.argmin()`, ...,  `.mean()`, `.var()`, `.std()`  \n",
    "\n",
    "Plus de détails [l'initiation](https://docs.scipy.org/doc/numpy-dev/user/quickstart.html) et la documentation de [numpy](https://docs.scipy.org/doc/numpy-dev/reference/index.html).\n"
   ]
  },
  {
   "cell_type": "code",
   "execution_count": 17,
   "metadata": {
    "slideshow": {
     "slide_type": "fragment"
    }
   },
   "outputs": [
    {
     "name": "stdout",
     "output_type": "stream",
     "text": [
      "[[ 0.0000000e+00 -3.6893488e+19  2.1402237e+20]\n",
      " [-1.0844658e-19  7.0064923e-45  0.0000000e+00]] \n",
      " on vous aura prévenu !\n",
      "float32\n",
      "\n",
      "[[257 257 257]\n",
      " [257 257 257]\n",
      " [257 257 257]] \n",
      " on vous aura bien prévenu !\n",
      "int16\n",
      "\n",
      "[[0 0 0]\n",
      " [2 2 2]\n",
      " [4 4 4]]\n",
      "[2. 2. 2.]\n",
      "[0. 2. 4.]\n"
     ]
    }
   ],
   "source": [
    "a23 = np.empty((2,3), dtype=\"float32\")\n",
    "print(a23, \"\\n on vous aura prévenu !\")\n",
    "print(a23.dtype)\n",
    "print()\n",
    "\n",
    "i33 = np.empty((3,3), dtype=\"int16\")\n",
    "print(i33, \"\\n on vous aura bien prévenu !\")\n",
    "print(i33[0,0].dtype)\n",
    "print() \n",
    "\n",
    "for i in range(len(i33[:, 0])):\n",
    "    i33[i, :] = 2*i\n",
    "print(i33)\n",
    "print(i33.mean(axis=0))\n",
    "print(i33.mean(axis=1))\n"
   ]
  },
  {
   "cell_type": "markdown",
   "metadata": {
    "slideshow": {
     "slide_type": "slide"
    }
   },
   "source": [
    "## Synthèse \n",
    "* `ndarray` de `numpy` : des vrais tableaux nD  \n",
    "    - L'espace de stockage en mémoire d'un _vrai_ tableau est _fixé une fois pour toute_ à la création du tableau.   \n",
    "    - Ainsi, la taille d'un tableau ne peut pas changer après sa création. Il faut donc connaitre le nombre maximal de valeurs qu'il doit contenir dès cette création.   \n",
    "* Quand les choisir ?  \n",
    "    - les `ndarray` pour du calcul numérique type algèbre linéaire   \n",
    "    - les `ndarray` pour des tableaux multi-dim plein de valeurs numériques  \n",
    "    - Dans ces deux cas, les préférer aux `lst` python    \n",
    "* `numpy` propose de multiples autres fonctions pour manipuler efficacement des tableaux.   \n",
    "* Se référer à [quickstart numpy](https://docs.scipy.org/doc/numpy-1.15.0/user/quickstart.html)  (en anglais).  "
   ]
  }
 ],
 "metadata": {
  "celltoolbar": "Diaporama",
  "kernelspec": {
   "display_name": "Python 3 (ipykernel)",
   "language": "python",
   "name": "python3"
  },
  "language_info": {
   "codemirror_mode": {
    "name": "ipython",
    "version": 3
   },
   "file_extension": ".py",
   "mimetype": "text/x-python",
   "name": "python",
   "nbconvert_exporter": "python",
   "pygments_lexer": "ipython3",
   "version": "3.9.6"
  },
  "latex_envs": {
   "LaTeX_envs_menu_present": true,
   "autoclose": false,
   "autocomplete": true,
   "bibliofile": "biblio.bib",
   "cite_by": "apalike",
   "current_citInitial": 1,
   "eqLabelWithNumbers": true,
   "eqNumInitial": 1,
   "hotkeys": {
    "equation": "Ctrl-E",
    "itemize": "Ctrl-I"
   },
   "labels_anchors": false,
   "latex_user_defs": false,
   "report_style_numbering": true,
   "user_envs_cfg": false
  },
  "toc": {
   "nav_menu": {},
   "number_sections": true,
   "sideBar": false,
   "skip_h1_title": false,
   "title_cell": "Table of Contents",
   "title_sidebar": "Contents",
   "toc_cell": true,
   "toc_position": {
    "height": "794.3333129882812px",
    "left": "1755px",
    "top": "74px",
    "width": "165px"
   },
   "toc_section_display": false,
   "toc_window_display": false
  }
 },
 "nbformat": 4,
 "nbformat_minor": 4
}
