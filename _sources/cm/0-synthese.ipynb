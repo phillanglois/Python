{
 "cells": [
  {
   "cell_type": "markdown",
   "id": "a5705dad-c218-4cd2-b81f-c4e223bf829a",
   "metadata": {
    "tags": []
   },
   "source": [
    "(ch:synthese)=\n",
    "# Synthèse introductive à Python"
   ]
  },
  {
   "cell_type": "markdown",
   "id": "dfd4c0e0-8b8d-4646-862b-03f975b7245b",
   "metadata": {
    "tags": []
   },
   "source": [
    "*Ce document adapte \n",
    "[ce support](https://github.com/christinaboura/M1-AlgoProg/) \n",
    "aux étudiants du Master CHPS de l'UPVD.*\n",
    "\n",
    "Python est un langage de programmation orienté objet (mais oublions le\n",
    "côté objet pour l'instant). Sa première version a été écrite en 1991 par Guido\n",
    "van Rossum -- qui était un grand fan de Monty Python.\n",
    "\n",
    "Ce mini-tutoriel est une introduction très basique et rapide à la\n",
    "syntaxe et aux règles du langage. Si vous voulez approfondir plus, \n",
    "des tutoriels bien faits existent sur le net, n'hésitez pas à les\n",
    "consulter.\n",
    "\n",
    "Nous travaillerons avez l'environnement `Jupyter Lab` et l'interpréteur\n",
    "`python3`, le tout au sein d'un environnement virtuel géré par `pipenv`.\n",
    "Ce cadre de travail est disponible sur les machines de l'UPVD mais aussi via la\n",
    "distribution\n",
    "[`anaconda`](https://www.anaconda.com/products/distribution) qu'il est\n",
    "conseillé d'installer sur votre machine personnelle.\n",
    "\n",
    "Les détails de ces installations sont précisées dans [ce\n",
    "document](tp:0-installation) qui vous sera utile pour votre première\n",
    "utilisation.\n",
    "\n",
    "Nous verrons plus loin comment utiliser les _notebook_ jupyter qui permettent de rassembler dans un seul document du texte formaté (en markdown et LaTeX), du code python, les résultats de ses exécutions (courbes, graphiques, ...), des images ... \n",
    "\n",
    "Commençons par une prise en main simple."
   ]
  },
  {
   "cell_type": "markdown",
   "id": "b7c2240a-2521-4b5c-884e-837f35da0b16",
   "metadata": {
    "tags": []
   },
   "source": [
    "## Python en mode calculatrice\n",
    "\n",
    "`python3` est accessible directement **dans un terminal** : tapez\n",
    "`python3` pour lancer l'interpréteur.\n",
    "\n",
    "```shell\n",
    "(Python) bash-3.2$  python3\n",
    "```\n",
    "\n",
    "**Remarque**.\n",
    "\n",
    "Comme nous le verrons dans [ce document](tp:0-installation), la forme du prompt de ce shell nous indique que l'exécution par le shell `bash` (ici 3.2) de la commande `python3` s'effectue dans l'_environnement virtuel_ '(Python)'."
   ]
  },
  {
   "cell_type": "markdown",
   "id": "edc735d5-5f82-4e88-94a7-0080f611cb90",
   "metadata": {},
   "source": [
    "La plus simple utilisation de Python est de l'utiliser comme une simple calculatrice. \n",
    "Vous pouvez essayer dans le terminal les calculs suivants."
   ]
  },
  {
   "cell_type": "markdown",
   "id": "68e49d0e-df04-4e48-bb8c-da160a73a9fe",
   "metadata": {},
   "source": [
    "```python\n",
    ">>> 2+6\n",
    "8\n",
    ">>> 10 - 12   # Les espaces sont optionnels\n",
    "-2\n",
    ">>> 13 + 2*4  # La priorité des opérations est comme d'habitude\n",
    "21\n",
    ">>> 21 / 4    # Attention ! En Python 2 cette instruction retourne \n",
    "5.25          # la partie  entière de la division. En Python 3 c'est  \n",
    "              # une division flottante, même entre deux entiers\n",
    ">>> 21 // 4   # Partie entière de la division\n",
    "5\n",
    ">>> 21 % 4    # Reste de la division\n",
    "1\n",
    ">>> 3 ** 4    # Opérateur puissance (3 à la puissance 4)\n",
    "81\n",
    ">>> 10 < 2 * 13  # Comparaison\n",
    "True\n",
    ">>> 10 < 4 or not 10 < 4  # Connecteurs booléens\n",
    "True\n",
    ">>> 1 < 2 == 1 + 1 < 3   # Comparaisons chaînées\n",
    "True\n",
    "```"
   ]
  },
  {
   "cell_type": "markdown",
   "id": "c6c6fe07-196f-4ef0-a238-0d9162658def",
   "metadata": {},
   "source": [
    "### Exercice\n",
    "\n",
    "Calculer dans un terminal, puis dans la cellule suivante de ce notebook:\n",
    "\n",
    "-   $5 \\times (1293 - 390)$,\n",
    "\n",
    "-   La partie entière ainsi que le reste de la division de 1234 par 7,\n",
    "\n",
    "-   $13^{13}$."
   ]
  },
  {
   "cell_type": "markdown",
   "id": "6ce67902-59b3-42d9-9112-22c5fb3ec429",
   "metadata": {},
   "source": [
    "### Exercice\n",
    "\n",
    "Reprendre ces calculs dans la cellule suivante de ce notebook."
   ]
  },
  {
   "cell_type": "code",
   "execution_count": null,
   "id": "3143c59e-b239-4395-b852-2c6c06cedbb8",
   "metadata": {},
   "outputs": [],
   "source": []
  },
  {
   "cell_type": "markdown",
   "id": "d1add586-ccca-4ff3-9d18-d4ae14d77089",
   "metadata": {},
   "source": [
    "## Données et variables\n",
    "\n",
    "Pour pouvoir accéder aux données qu'un programme manipule on fait usage\n",
    "d'un nombre de **variables** de différents types. Une variable apparaît\n",
    "dans un langage de programmation sous son *nom de variable*, mais il ne\n",
    "s'agit de rien d'autre qu'une référence désignant l'adresse mémoire où\n",
    "sont stockées les données.\n",
    "\n",
    "En Python il existe un nombre de règles simples sur les noms de\n",
    "variables qu'il faut respecter :\n",
    "\n",
    "-   Seules les lettres a -\\> z, A -\\> Z, les chiffres 0-9 et le\n",
    "    caractère '`_`' sont autorisés.\n",
    "-   Le nom d'une variable doit toujours commencer par une lettre.\n",
    "-   La casse est significative. Par exemple `vitesse`, `Vitesse` et\n",
    "    `VITESSE` désignent des variables différentes.\n",
    "\n",
    "Une bonne habitude à prendre est d'écrire les noms de variables en\n",
    "minuscules y compris la première lettre. Il s'agit d'une convention qui\n",
    "est largement respectée. N'utilisez les majuscules qu'à l'intérieur du\n",
    "nom afin de faciliter la lisibilité. Par exemple :\n",
    "`matriceDesCoefficients`."
   ]
  },
  {
   "cell_type": "markdown",
   "id": "ee9abab9-76d8-4f81-b497-0ed1c695ce37",
   "metadata": {},
   "source": [
    "Le signe '`=`' est utilisé afin d'affecter une valeur à une variable.\n",
    "\n",
    "``` python\n",
    ">>> n = 5\n",
    ">>> message = 'Bonjour'\n",
    ">>> pi = 3.14\n",
    "```"
   ]
  },
  {
   "cell_type": "markdown",
   "id": "8ce622ce-96b4-4002-9bf8-4429e6a29b24",
   "metadata": {},
   "source": [
    "Les deux constructions suivantes sont très spécifiques à Python. \n",
    "Elles simplifient certaines affectations (la seconde en particulier) mais elle cachent des mécanismes assez sophistiqués sur lesquels nous revenons dans le [chapitre](ch:fonctionsavancees) consacré aux aspects avancés des fonctions.\n",
    "Il est donc important de ne pas limiter la compréhension de ces constructions à leur seul aspect syntaxique.\n",
    "\n",
    "On peut affecter une valeur à **plusieurs variables simultanément**.\n",
    "\n",
    "``` python\n",
    ">>> x = y = z = 1\n",
    ">>> x\n",
    "1\n",
    ">>> y\n",
    "1\n",
    ">>> z\n",
    "1\n",
    "```\n",
    "\n",
    "On peut aussi effectuer des **affectations parallèles**.\n",
    "\n",
    "``` python\n",
    ">>> x, y = 3.5, 7\n",
    ">>> x\n",
    "3.5\n",
    ">>> y\n",
    "7\n",
    "```"
   ]
  },
  {
   "cell_type": "markdown",
   "id": "d322875d-6790-4253-ae70-1e02f493bc02",
   "metadata": {},
   "source": [
    "**Typage dynamique**\n",
    "\n",
    "En Python, contrairement à d'autres langages de programmation, il n'est\n",
    "pas nécessaire d'écrire des lignes de code spécifiques pour définir le\n",
    "type des variables avant de pouvoir les utiliser. Il suffit d'assigner\n",
    "une valeur à un nom de variable pour que celle-ci soit automatiquement\n",
    "créée avec le type qui correspond à la valeur fournie. On dit alors que\n",
    "Python est un langage à **typage dynamique**, contrairement aux langages\n",
    "à **typage statique** comme c'est le cas des langages C ou Java. De\n",
    "plus, les variables peuvent changer de type au gré des affectations. On\n",
    "peut vérifier ceci avec l'opérateur `type`. Nous y reviendrons au [chapitre consacré aux fonctions](ch:fonctions).\n",
    "\n",
    "``` python\n",
    ">>> x = 3\n",
    ">>> type(x)\n",
    "<class 'int'>\n",
    ">>> x = 3.5\n",
    ">>> type(x)\n",
    "<class 'float'>\n",
    ">>> x = 'message'\n",
    ">>> type(x)\n",
    "<class 'str'>\n",
    "```\n",
    "\n",
    "**Annotations de typage** \n",
    "\n",
    "Depuis des versions récentes du langages ($\\ge 3.9$), il est très facile de \"définir\"  le _type_ des paramètres des fonctions et même des variables. \n",
    "\"Définir\" est entre guillemets car il ne s'agit que d'une **annotation** du type de la variable qui ne remet pas en question le typage dynamique de python. L'intérêt de ces annotations est de permettre un contrôle avant l'exécution d'éventuelles incohérences de typage. Par exemple, un paramètre de type entier utilisé par une chaîne de caractères. Ce contrôle est réalisé par des outils extérieur au langage lui-même comme [mypy](http://mypy-lang.org). "
   ]
  },
  {
   "cell_type": "markdown",
   "id": "646d1450-e8a9-4fd4-a5d3-a7f177226621",
   "metadata": {},
   "source": [
    "**Premières entrées-sorties** \n",
    "\n",
    "- _Fonction_ `print()`. Pour afficher une valeur à l'écran, il\n",
    "    existe deux possibilités. Soit, on entre au clavier le nom de la\n",
    "    variable et ensuite on appuie sur *Enter* (comme on a fait jusqu'à\n",
    "    ici), soit on peut utiliser la fonction `print()`.\n",
    "\n",
    "``` python\n",
    ">>> n = 3.5\n",
    ">>> print(n)\n",
    "3.5\n",
    ">>> msg = 'Ça va ?'\n",
    ">>> print(msg)\n",
    "Ça va ?\n",
    "```\n",
    "\n",
    "**Attention** cependant à la différence entre `print a` (Python 2) et\n",
    "`print(a)` (Python 3).\n",
    "\n",
    "On peut combiner texte et variables dans une même fonction `print()`.\n",
    "\n",
    "``` python\n",
    ">>> poids = 3.67\n",
    ">>> print(\"Le poids du nouveau-né est\", poids, \"kilos.\")\n",
    "Le poids du nouveau-né est 3.67 kilos.\n",
    "```"
   ]
  },
  {
   "cell_type": "markdown",
   "id": "ea4311f9-1db7-4d35-bdde-13da7ef31f6c",
   "metadata": {},
   "source": [
    "### Exercice\n",
    "\n",
    "Soient deux points de l'espace $A$ et $B$. Déclarez 4 variables\n",
    "$x_A$, $x_B$, $y_A$ et $y_B$ correspondant aux coordonnées\n",
    "réelles de ces deux points et affectez-leur des valeurs. Calculez la\n",
    "distance euclideienne entre $A$ et $B$, donnée par la formule\n",
    "$\\sqrt{(x_B - x_A)^2 + (y_B - y_A)^2}$, et affichez le résultat à\n",
    "l'écran sous la forme *La distance entre $A$ et $B$ est : .*\n",
    "\n",
    "**Attention !** Vous devez utiliser pour cet exercice la méthode\n",
    "`math.sqrt()`. Pour utiliser cette méthode il faut d'abord importer le\n",
    "module `math`, avec l'instruction `import math`."
   ]
  },
  {
   "cell_type": "markdown",
   "id": "d204ee8d-c889-469e-9eac-b7ff4fb92e97",
   "metadata": {},
   "source": [
    "## Contrôle du flux d'exécution\n",
    "\n",
    "\n",
    "## Choix ou branchement\n",
    "\n",
    "Dans la plupart des programmes que vous allez écrire vous aurez besoin\n",
    "d'utiliser des instructions qui permettront au programme de suivre des\n",
    "chemins différents selon les circonstances. Pour ceci il est nécessaire\n",
    "de disposer d'instructions capables de *tester une certaine condition*\n",
    "et de modifier le comportement du programme en conséquence.\n",
    "\n",
    "L'instruction qui est sans doute la plus utile afin de permettre un tel\n",
    "comportement est l'instruction `if`. Son fonctionnement sous Python est\n",
    "très simple. Si la condition à droite du mot-clé `if` est vraie, alors\n",
    "le bloc d'instructions en dessus est exécuté.\n",
    "\n",
    "``` python\n",
    ">>> if age > 18 :\n",
    "...     print(\"La personne peut voter.\")\n",
    "```"
   ]
  },
  {
   "cell_type": "markdown",
   "id": "92634b57-b4cf-4c0c-9178-3bf32749d5a4",
   "metadata": {},
   "source": [
    "### Indentation\n",
    "\n",
    "En Python, les instructions composées (comme c'est le cas de\n",
    "l'instruction `if`, mais aussi des instructions `while`, `for` et des\n",
    "*fonctions* que nous verrons plus tard) ont toujours la même structure :\n",
    "une *ligne d'en-tête* terminée par un *deux-points*, suivie d'un bloc\n",
    "d'instructions *indenté* sous la ligne d'en-tête. Toutes les instructions\n",
    "de ce bloc **doivent être indentées exactement au même niveau**. Une\n",
    "convention très respectée est d'utiliser un décalage de 4 espaces.\n",
    "\n",
    "Avec une telle convention, il est inutile de marquer le début et la fin\n",
    "d'un bloc par des éléments du langage (comme des accolades { et } en C\n",
    "ou Java , ou les mots réservés `begin` et `end` dans certains autres\n",
    "langages).\n",
    "\n",
    "Pour cette raison, en Python on n'est pas libre d'insérer des retours à\n",
    "la ligne partout comme en C. Les retours à la ligne sont *obligatoires*\n",
    "à la fin d'une instruction, et *permis* à l'intérieur des parenthèses.\n",
    "En effet, ce code n'est pas correct :\n",
    "\n",
    "``` python\n",
    "if a < 1\n",
    "    and b < 2:\n",
    "    print('hello')\n",
    "```\n",
    "\n",
    "alors que celui-ci l'est :\n",
    "\n",
    "``` python\n",
    "if (a < 1\n",
    "    and b < 2):\n",
    "    print('hello')\n",
    "```"
   ]
  },
  {
   "cell_type": "markdown",
   "id": "48d623b5-0365-421e-886f-d5da9e8dd7b9",
   "metadata": {},
   "source": [
    "On peut, si on le souhaite ajouter une instruction `else` pour exécuter\n",
    "un autre bloc si la condition est fausse :\n",
    "\n",
    "``` python\n",
    ">>> if age > 18:\n",
    "...     print(\"La personne peut acheter de l'alcool.\")\n",
    "... else:\n",
    "...     print(\"Trop jeune !\")\n",
    "```\n",
    "\n",
    "Plutôt que d'emboîter des instructions `if`, on peut utiliser une\n",
    "instruction `if` suivie par une ou plusieurs instructions `elif`\n",
    "(raccourci de *else if*):\n",
    "\n",
    "``` python\n",
    ">>> if n == 0:\n",
    "...     print(\"Le nombre est égal à zéro\")\n",
    "... elif n > 0:\n",
    "...     print(\"Le nombre est positif\")\n",
    "... else:\n",
    "...     print(\"Le nombre est négatif\") \n",
    "```"
   ]
  },
  {
   "cell_type": "markdown",
   "id": "71045ebc-4528-45cc-9968-40b681da1b68",
   "metadata": {},
   "source": [
    "### Exercices\n",
    "\n",
    "1.  Déclarez une variable et affectez lui un entier naturel. Testez en\n",
    "    utilisant les instructions `if` et `else` si l'entier est pair ou\n",
    "    impair et affichez le résultat.\n",
    "2.  Déclarez trois variables `a`, `b` et `c` correspondant aux\n",
    "    coefficients de l'équation quadratique $ax^2 + bx + c = 0$.\n",
    "    Calculez le discriminant $\\Delta = b^2 - 4ac$ de l'équation.\n",
    "    Testez en utilisant les instructions `if`, `elif` et `else` la\n",
    "    valeur du déterminant et calculez la ou les solutions de l'équation.\n",
    "    Si le déterminant est négatif, affichez le message “*L'équation n'a\n",
    "    pas de solution réelle*”."
   ]
  },
  {
   "cell_type": "markdown",
   "id": "0c633d0e-8a7c-47a5-96ba-2df9eb2a40bb",
   "metadata": {},
   "source": [
    "### Boucles ou répétitions\n",
    "\n",
    "Très souvent dans nos programmes nous avons besoin de répéter un certain\n",
    "nombre d'instructions plusieurs fois. Python, comme probablement tous\n",
    "les autres langages que vous connaissez, possède dans ce but les\n",
    "instructions `while` et `for`.\n",
    "\n",
    "-   La boucle `while` permet d'itérer un bloc d'instructions tant qu'une\n",
    "    condition reste vraie.\n",
    "\n",
    "``` python\n",
    ">>> a = 0\n",
    ">>> while a < 10: # N'oubliez pas le deux-points !\n",
    "...     print(a)   # N'oubliez pas l'indentation !\n",
    "...     a += 2\n",
    "... \n",
    "0\n",
    "2\n",
    "4\n",
    "6\n",
    "8\n",
    "```"
   ]
  },
  {
   "cell_type": "markdown",
   "id": "3c999172-cbcd-433f-b7ad-5a6d2c422852",
   "metadata": {},
   "source": [
    "**`range`**\n",
    "Avant d'introduire l'instruction `for` parlons un peu de la fonction\n",
    "`range()`. Cette fonction peut nous être très utile lorsque on veut\n",
    "itérer sur une suite de nombres. Elle génère des progressions\n",
    "arithmétiques.\n",
    "\n",
    "``` python\n",
    "range(2, 10) # 2, 3, 4, 5, 6, 7, 8, 9\n",
    "range(0, 15, 2) # 0, 2, 4, 6, 8, 10, 12, 14\n",
    "range(10, -50, -10) # 10, 0, -10, -20, -30, -40\n",
    "```"
   ]
  },
  {
   "cell_type": "markdown",
   "id": "1a17bf36-e9a2-4bcf-86ca-8231f333f7fe",
   "metadata": {},
   "source": [
    "La boucle `for` est très utile lorsque on veut répéter un bloc\n",
    "d'instructions un nombre de fois connu à l'avance. Si on veut par\n",
    "exemple imprimer tous les nombres de 0 à 5, voici comment on peut le\n",
    "faire à l'aide de l'instruction `for` et de la de la fonction `range`.\n",
    "\n",
    "``` python\n",
    ">>> for i in range(6): # N'oubliez pas le deux-points !\n",
    "...     print(i)        # N'oubliez pas l'indentation !\n",
    "...\n",
    "0\n",
    "1\n",
    "2\n",
    "3\n",
    "4\n",
    "5\n",
    "```\n",
    "\n",
    "Comme on va le voir un peu plus tard, la boucle `for` peut être utilisée\n",
    "très facilement pour parcourir les éléments d'une liste."
   ]
  },
  {
   "cell_type": "markdown",
   "id": "13518b85-005f-48e3-a77a-f27ce524456b",
   "metadata": {},
   "source": [
    "### Exercices\n",
    "\n",
    "1. \n",
    "    a. Initialisez deux entiers : `a = 0` et `b = 15`. Ecrivez une boucle qui\n",
    "affiche et incrémente de 1 la valeur de `a` tant qu'elle reste\n",
    "inférieure à celle de `b`.\n",
    "\n",
    "    b. Ecrivez ensuite une autre boucle qui décrémente la valeur de `b` et\n",
    "affiche sa valeur seulement si elle est impaire. Itérez tant que `b` est\n",
    "supérieur à 0.\n",
    "\n",
    "2. Affichez la somme des cubes de tous les multiples de 3 compris entre 0\n",
    "et 99 inclus. Utilisez pour cela l'instruction `for` et la fonction\n",
    "`range()`."
   ]
  },
  {
   "cell_type": "markdown",
   "id": "5b4f3730-1e3d-4057-b630-389c4212e774",
   "metadata": {},
   "source": [
    "## Fonctions\n",
    "\n",
    "### Aspects classiques\n",
    "\n",
    "Pour créer une fonction en Python, on commence par le mot-clé `def`\n",
    "(définition). Il doit être suivi par le nom de la fonction, la liste des\n",
    "paramètres entre parenthèses et un deux-points ‘`:`'. Le corps de la\n",
    "fonction commence à la ligne suivante et doit être écrit avec un retrait\n",
    "de quelques espaces.\n",
    "\n",
    "Voici une fonction qui imprime les `n` premiers termes de la suite *Fibonacci*."
   ]
  },
  {
   "cell_type": "code",
   "execution_count": 1,
   "id": "e37c4533-40c1-4130-aacd-a5d81fd96820",
   "metadata": {},
   "outputs": [],
   "source": [
    "def fibonacci(n):\n",
    "    a, b = 0, 1\n",
    "    for i in range(n):\n",
    "        print(a, end=' ')\n",
    "        a, b = b, a + b\n",
    "    print(a)"
   ]
  },
  {
   "cell_type": "code",
   "execution_count": 7,
   "id": "e2462bd1-229f-46bb-bcd7-d7a009afb748",
   "metadata": {},
   "outputs": [
    {
     "name": "stdout",
     "output_type": "stream",
     "text": [
      "0 1 1 2 3 5 8 13 21 34 55 89 144 233 377 610 987 1597 2584 4181 6765\n"
     ]
    }
   ],
   "source": [
    "fibonacci(20)"
   ]
  },
  {
   "cell_type": "markdown",
   "id": "edcfc2a6-5690-4e0a-90ca-8da1082bbc80",
   "metadata": {},
   "source": [
    "**Rmq.** Cette première fonction n'est pas un \"exemple parfait\" car elle mélange des calculs et des entrées-sorties. Il est préférable de séparer calculs et des entrées-sorties. \n",
    "\n",
    "On peut bien sûr écrire une fonction qui nous renvoie quelque chose.\n",
    "Ceci se fait avec le mot-clé `return`. Voici une fonction qui renvoie la\n",
    "somme des carrés des entiers de 0 à `n`."
   ]
  },
  {
   "cell_type": "code",
   "execution_count": 8,
   "id": "1d15aeb4-036b-4e25-bd07-46092358640d",
   "metadata": {},
   "outputs": [],
   "source": [
    "def sommeCarres(n):\n",
    "     sum = 0\n",
    "     for i in range(n):\n",
    "         sum += i**2\n",
    "     return sum"
   ]
  },
  {
   "cell_type": "code",
   "execution_count": 11,
   "id": "38033d04-dfec-4ff2-befd-4dc2a928a4f7",
   "metadata": {},
   "outputs": [
    {
     "name": "stdout",
     "output_type": "stream",
     "text": [
      "2470\n"
     ]
    }
   ],
   "source": [
    "res = sommeCarres(20)\n",
    "print(res)"
   ]
  },
  {
   "cell_type": "markdown",
   "id": "7587d2b2-51f5-4e1e-b405-79ef9fe79ee1",
   "metadata": {},
   "source": [
    "### Avec annotations de types\n",
    "\n",
    "Comme déjà indiqué, le module `typing` permet de définir des _annotations_ du type des paramètres des fonctions. Les types de base comme `int`, `float`, `str`. Voir plus de détails dans la [PEP 484](https://peps.python.org/pep-0484/).\n",
    "Depuis python 3.9, ces annotations incluent les types natifs génériques (c-a-d. les types paramétrables par d'autres types) comme  `list`, `dict`, `tuple`, `set`, ... ainsi que les structures de données du module `collections` -- voir la [PEP 585](https://peps.python.org/pep-0585/) pour plus de détails. \n",
    "\n",
    "Reprenons les fonctions précédentes avec ces annotations.\n",
    "\n",
    "- le paramètre `n`  de la fonction `fibonacci()` est un entier `int` et cette fonction ne retourne \"rien\".  (Par défaut, toute fonction python retourne la valeur `None`. Dans le contexte des annotations de type, `None` désigne `type(None))`. "
   ]
  },
  {
   "cell_type": "code",
   "execution_count": 17,
   "id": "e2e24b57-55f1-4ffd-bfae-65b3a10d276f",
   "metadata": {},
   "outputs": [],
   "source": [
    "def fibonacci(n: int) -> None:\n",
    "    '''Cette fonction moche calcule et affiche les \n",
    "    n premiers termes de la suite de Fibonacci'''\n",
    "    a, b = 0, 1\n",
    "    for i in range(20):\n",
    "        print(a, end=' ')\n",
    "        a, b = b, a + b\n",
    "    print(a)"
   ]
  },
  {
   "cell_type": "code",
   "execution_count": 19,
   "id": "11c69711-e9d8-4cce-aae3-ec264290d530",
   "metadata": {},
   "outputs": [
    {
     "name": "stdout",
     "output_type": "stream",
     "text": [
      "2.718281828459045\n",
      "Help on built-in function log in module math:\n",
      "\n",
      "log(...)\n",
      "    log(x, [base=math.e])\n",
      "    Return the logarithm of x to the given base.\n",
      "    \n",
      "    If the base not specified, returns the natural logarithm (base e) of x.\n",
      "\n"
     ]
    }
   ],
   "source": [
    "from math import log, e\n",
    "print(e)\n",
    "help(log)"
   ]
  },
  {
   "cell_type": "code",
   "execution_count": 16,
   "id": "885d2dc7-942a-4648-8ff1-2ad6f8296061",
   "metadata": {},
   "outputs": [
    {
     "name": "stdout",
     "output_type": "stream",
     "text": [
      "Help on function fibonacci in module __main__:\n",
      "\n",
      "fibonacci(n: int) -> None\n",
      "    Cette fonction moche calcule et affiche les \n",
      "    n premiers termes de la suite de Fibonacci\n",
      "\n"
     ]
    }
   ],
   "source": [
    "help(fibonacci)"
   ]
  },
  {
   "cell_type": "code",
   "execution_count": 13,
   "id": "ef52b07d-b3d4-400c-bba2-ee1652090586",
   "metadata": {},
   "outputs": [
    {
     "name": "stdout",
     "output_type": "stream",
     "text": [
      "0 1 1 2 3 5 8 13 21 34 55 89 144 233 377 610 987 1597 2584 4181 6765\n"
     ]
    }
   ],
   "source": [
    "fibonacci(10)"
   ]
  },
  {
   "cell_type": "markdown",
   "id": "acd5be91-963b-4201-b08b-fc2d6f1ac665",
   "metadata": {},
   "source": [
    "- la fonction `sommesCarres()` prend et retourne des paramètres de type `int`."
   ]
  },
  {
   "cell_type": "code",
   "execution_count": 20,
   "id": "257439fd-cc6f-4cc4-a672-e0f4cfa77038",
   "metadata": {},
   "outputs": [
    {
     "name": "stdout",
     "output_type": "stream",
     "text": [
      "2470\n"
     ]
    }
   ],
   "source": [
    "def sommeCarres(n: int) -> int:\n",
    "    '''Calcule et retourne la somme des n premiers carrés'''\n",
    "    sum = 0\n",
    "    for i in range(n):\n",
    "        sum += i**2\n",
    "    return sum\n",
    "\n",
    "s = sommeCarres(20)\n",
    "print(s)"
   ]
  },
  {
   "cell_type": "markdown",
   "id": "2dfcafdf-680f-4300-a5b4-8931a6573840",
   "metadata": {},
   "source": [
    "La suite suppose la connaissance de la notion de liste présentée dans cette [section](sec:listes).\n",
    "\n",
    "Imaginons maintenant la fonction `sommeListe()` qui effectue la somme d'une liste  de flottants.\n",
    "\n",
    "Fabriquons une telle liste pour commencer"
   ]
  },
  {
   "cell_type": "code",
   "execution_count": 5,
   "id": "504b110a-aa7b-4718-a0a9-a5d5ac0452fa",
   "metadata": {},
   "outputs": [
    {
     "name": "stdout",
     "output_type": "stream",
     "text": [
      "[0.0, 0.2, 0.4, 0.6000000000000001, 0.8, 1.0]\n"
     ]
    }
   ],
   "source": [
    "d = [0.0]\n",
    "for i in range(5):\n",
    "    d.append(d[-1] + 0.2)\n",
    "    \n",
    "print(d)"
   ]
  },
  {
   "cell_type": "markdown",
   "id": "20673fcf-2c6a-4a9a-b813-edd3160e9177",
   "metadata": {},
   "source": [
    "**Exercice.** Expliquer pourquoi la valeur `0.6` n'est pas calculée exactement. \n",
    "\n",
    "Effectuons sa somme avec `sommeListe()`."
   ]
  },
  {
   "cell_type": "code",
   "execution_count": 6,
   "id": "659ab24c-d649-4715-85cb-b22366311fb6",
   "metadata": {},
   "outputs": [],
   "source": [
    "def sommeListe(data: list[float]) -> float:\n",
    "    s = 0.0\n",
    "    for val in data:\n",
    "        s = s + val\n",
    "    return s"
   ]
  },
  {
   "cell_type": "code",
   "execution_count": 7,
   "id": "f889e0d9-aa87-47a9-806a-ec2b46201a85",
   "metadata": {},
   "outputs": [
    {
     "name": "stdout",
     "output_type": "stream",
     "text": [
      "3.0\n"
     ]
    }
   ],
   "source": [
    "print(sommeListe(d))"
   ]
  },
  {
   "cell_type": "markdown",
   "id": "688c6033-c7ef-4e21-9a72-a421dc2f3f94",
   "metadata": {},
   "source": [
    "Sommer une liste d'entiers ou de complexes ne change pas notre algorithme. \n",
    "Les annotations permettent cependant de décrire ces cas grâce au mécanisme d'`Union[]` de types (à comprendre comme un ensemble de types possibles). La syntaxe `Union[]` est même remplacé par le symbole classiqiue `|` depuis python 3.10."
   ]
  },
  {
   "cell_type": "code",
   "execution_count": 8,
   "id": "a90dd2a6-edc3-4f06-ab60-164dc3776ac9",
   "metadata": {},
   "outputs": [],
   "source": [
    "from typing import Union\n",
    "\n",
    "def sommeListe2(data: Union[list[int], list[float], list[complex]]) \\\n",
    "  -> Union[int, float, complex]:\n",
    "    s = 0\n",
    "    for val in data:\n",
    "        s = s + val\n",
    "    return s"
   ]
  },
  {
   "cell_type": "code",
   "execution_count": 9,
   "id": "0e8634b9-e653-4a9f-9d43-bde47d810d1a",
   "metadata": {},
   "outputs": [
    {
     "name": "stdout",
     "output_type": "stream",
     "text": [
      "[0, 1, 2, 3, 4, 5, 6, 7, 8, 9] 45\n",
      "[(1+1j), (1+2j), (1+3j), (1+4j)] (4+10j)\n"
     ]
    }
   ],
   "source": [
    "d_int = [i for i in range(10)]\n",
    "d_cmplx = [complex(1, y) for y in range(1, 5)]\n",
    "print(d_int, sommeListe2(d_int))\n",
    "print(d_cmplx, sommeListe2(d_cmplx))"
   ]
  },
  {
   "cell_type": "markdown",
   "id": "f595d926-dd14-454e-8f90-cf2ecf2ed5cb",
   "metadata": {},
   "source": [
    "### Exercice\n",
    "\n",
    "Ecrivez une fonction `tableDeMultiplication(base, fin)` qui prend en\n",
    "paramètre un entier `base` et un entier `fin` et affiche à l'écran les\n",
    "`fin` premiers éléments de la table de multiplication de l'entier\n",
    "`base`. Compléter la définition des annotations nécessaires.\n",
    "\n",
    "Par exemple :\n",
    "\n",
    "``` python\n",
    ">>> tableDeMultiplication(3, 10)\n",
    "0 3 6 9 12 15 18 21 24 27\n",
    "```"
   ]
  },
  {
   "cell_type": "markdown",
   "id": "b951dd10-bf20-4fce-9767-e99656868bcb",
   "metadata": {},
   "source": [
    "(sec:listes)=\n",
    "## Listes\n",
    "\n",
    "Les listes sont des structures ordonnées de données. En Python, une\n",
    "liste est définie à l'aide des crochets."
   ]
  },
  {
   "cell_type": "code",
   "execution_count": 21,
   "id": "2c690e7a-0214-4cf6-9fcc-cd35dd71cd74",
   "metadata": {},
   "outputs": [],
   "source": [
    "nombres = [2, 5, 13, -35, 0]\n",
    "fromages = ['roquefort', 'camembert', 'saint-nectaire', 'comté']"
   ]
  },
  {
   "cell_type": "markdown",
   "id": "c60325ef-b00e-47e3-af92-ee1a81988ab4",
   "metadata": {},
   "source": [
    "On peut accéder aux données d'une liste à l'aide de leur indice associé."
   ]
  },
  {
   "cell_type": "code",
   "execution_count": 22,
   "id": "1f41d8e9-da15-444b-85c5-6f3713135c7a",
   "metadata": {},
   "outputs": [
    {
     "name": "stdout",
     "output_type": "stream",
     "text": [
      "13\n"
     ]
    }
   ],
   "source": [
    "print(nombres[2])"
   ]
  },
  {
   "cell_type": "code",
   "execution_count": 23,
   "id": "287a0c3d-923a-4dac-bdd3-0edb59157fed",
   "metadata": {},
   "outputs": [
    {
     "name": "stdout",
     "output_type": "stream",
     "text": [
      "roquefort\n"
     ]
    }
   ],
   "source": [
    "print(fromages[0])"
   ]
  },
  {
   "cell_type": "code",
   "execution_count": 24,
   "id": "7b4f0810-50ca-4a75-b752-f02b27c89b15",
   "metadata": {},
   "outputs": [
    {
     "name": "stdout",
     "output_type": "stream",
     "text": [
      "comté\n"
     ]
    }
   ],
   "source": [
    "print(fromages[-1])"
   ]
  },
  {
   "cell_type": "code",
   "execution_count": 30,
   "id": "1b41a92c-5a36-4678-b732-6909a18b1f25",
   "metadata": {},
   "outputs": [
    {
     "name": "stdout",
     "output_type": "stream",
     "text": [
      "[2, 5, 13]\n"
     ]
    }
   ],
   "source": [
    "print(nombres[0:3])"
   ]
  },
  {
   "cell_type": "markdown",
   "id": "ea22c4a8-3f47-4772-be32-74bd47778688",
   "metadata": {},
   "source": [
    "**Rmq.** La tranche ainsi construite est aussi une liste."
   ]
  },
  {
   "cell_type": "code",
   "execution_count": 28,
   "id": "83682cb5-7fe1-4a52-9a90-8b2cf9249fa4",
   "metadata": {},
   "outputs": [
    {
     "data": {
      "text/plain": [
       "(list, list)"
      ]
     },
     "execution_count": 28,
     "metadata": {},
     "output_type": "execute_result"
    }
   ],
   "source": [
    "type(nombres), type(nombres[0:3])"
   ]
  },
  {
   "cell_type": "markdown",
   "id": "b26a8fe7-93ad-4cce-b9e3-e945690bb827",
   "metadata": {},
   "source": [
    "On peut accéder à la taille d'une liste à l'aide de la fonction `len()`.\n",
    "Elle renvoie le nombre d'éléments présents dans la liste."
   ]
  },
  {
   "cell_type": "code",
   "execution_count": 33,
   "id": "152425e4-9e1d-4e63-9082-538fce108444",
   "metadata": {},
   "outputs": [
    {
     "name": "stdout",
     "output_type": "stream",
     "text": [
      "5 [2, 5, 13, -35, 0]\n"
     ]
    }
   ],
   "source": [
    "print(len(nombres), nombres)"
   ]
  },
  {
   "cell_type": "code",
   "execution_count": 34,
   "id": "cff6d925-39b0-48bf-9b3a-807f85638207",
   "metadata": {},
   "outputs": [
    {
     "data": {
      "text/plain": [
       "4"
      ]
     },
     "execution_count": 34,
     "metadata": {},
     "output_type": "execute_result"
    }
   ],
   "source": [
    "len(fromages)"
   ]
  },
  {
   "cell_type": "markdown",
   "id": "8998563d-f68b-4895-8f58-7399b7215298",
   "metadata": {},
   "source": [
    "Il existe plusieurs manières de créer une liste. Voici quelques unes :\n",
    "\n",
    "-   Liste vide"
   ]
  },
  {
   "cell_type": "code",
   "execution_count": 37,
   "id": "4d9b1ec9-d0c9-4648-99a4-3e629f5c078b",
   "metadata": {},
   "outputs": [],
   "source": [
    "liste1 = []"
   ]
  },
  {
   "cell_type": "code",
   "execution_count": 38,
   "id": "95fe9497-e3e7-4e65-b0fa-916c08ac2095",
   "metadata": {},
   "outputs": [
    {
     "name": "stdout",
     "output_type": "stream",
     "text": [
      "[]\n"
     ]
    }
   ],
   "source": [
    "print(liste1)"
   ]
  },
  {
   "cell_type": "code",
   "execution_count": null,
   "id": "3c887a0e-96c9-4491-8539-825077976149",
   "metadata": {},
   "outputs": [],
   "source": [
    "-   On peut créer une liste en indiquant à la création les éléments\n",
    "    qu'elle doit contenir. Vous pouvez remarquer qu'une liste peut\n",
    "    contenir d'éléments ayant des types variés."
   ]
  },
  {
   "cell_type": "code",
   "execution_count": 43,
   "id": "0075788e-831c-45d4-96cb-efac3daaae55",
   "metadata": {},
   "outputs": [],
   "source": [
    "liste2 = ['ac/dc', 42, 3.14]"
   ]
  },
  {
   "cell_type": "code",
   "execution_count": 44,
   "id": "6a1947fc-0efb-49ee-ab8c-2c6502347840",
   "metadata": {},
   "outputs": [
    {
     "name": "stdout",
     "output_type": "stream",
     "text": [
      "['ac/dc', 42, 3.14]\n"
     ]
    }
   ],
   "source": [
    "print(liste2)"
   ]
  },
  {
   "cell_type": "markdown",
   "id": "0c6de15d-243a-451b-a646-0ea54f23ca0b",
   "metadata": {},
   "source": [
    "-   **Important.** La syntaxe de *compréhension de listes* permet de générer une\n",
    "    liste par une boucle. C'est la forme de création de liste à privilégier en python."
   ]
  },
  {
   "cell_type": "code",
   "execution_count": 45,
   "id": "cc9c3ecc-1aaa-474d-b4c4-cf4c2bb1d908",
   "metadata": {},
   "outputs": [],
   "source": [
    "liste3 = [i for i in range(20)]"
   ]
  },
  {
   "cell_type": "code",
   "execution_count": 46,
   "id": "ec23dec7-cf29-4841-9765-0e4540c4766d",
   "metadata": {},
   "outputs": [
    {
     "name": "stdout",
     "output_type": "stream",
     "text": [
      "[0, 1, 2, 3, 4, 5, 6, 7, 8, 9, 10, 11, 12, 13, 14, 15, 16, 17, 18, 19]\n"
     ]
    }
   ],
   "source": [
    "print(liste3)"
   ]
  },
  {
   "cell_type": "code",
   "execution_count": null,
   "id": "b6b39fee-d0ea-4216-b637-b62db6499978",
   "metadata": {},
   "outputs": [],
   "source": [
    "-   Liste contenant le carré de tous les entiers de 0 à 9."
   ]
  },
  {
   "cell_type": "code",
   "execution_count": 47,
   "id": "303387ee-caba-475e-8e97-6552330f9748",
   "metadata": {},
   "outputs": [],
   "source": [
    "liste4 = [i ** 2 for i in range(10)]"
   ]
  },
  {
   "cell_type": "code",
   "execution_count": 49,
   "id": "d04c972f-6a0d-40e1-8b29-5d77e93f41be",
   "metadata": {},
   "outputs": [
    {
     "name": "stdout",
     "output_type": "stream",
     "text": [
      "[0, 1, 4, 9, 16, 25, 36, 49, 64, 81]\n"
     ]
    }
   ],
   "source": [
    "print(liste4)"
   ]
  },
  {
   "cell_type": "markdown",
   "id": "fbc988b1-a6c1-4e5a-9b03-218134eaeb2f",
   "metadata": {},
   "source": [
    "On peut parcourir une liste à l'aide d'une boucle `for` sur les indices des valeurs de la liste :"
   ]
  },
  {
   "cell_type": "code",
   "execution_count": 55,
   "id": "4ea73902-4f5c-43ef-bd10-7920219c7c3d",
   "metadata": {},
   "outputs": [],
   "source": [
    "nombres = [9, 13, -2, 25, 31, 7, 4]\n",
    "sum = 0\n",
    "for i in range(len(nombres)):  # accès par indices aux valeurs de la liste\n",
    "    sum += nombres[i]"
   ]
  },
  {
   "cell_type": "code",
   "execution_count": 56,
   "id": "8eafc368-3b61-4492-9942-122cfbd13987",
   "metadata": {},
   "outputs": [
    {
     "name": "stdout",
     "output_type": "stream",
     "text": [
      "87\n"
     ]
    }
   ],
   "source": [
    "print(sum)"
   ]
  },
  {
   "cell_type": "markdown",
   "id": "3cc7f248-a062-4fe7-8972-7f5a9911cbcd",
   "metadata": {},
   "source": [
    "Et plus directement (en python) à l'aide d'une boucle `for` sur _les valeurs_ de la liste (on verra plus loin qu'une liste python est un _itérable_) :"
   ]
  },
  {
   "cell_type": "code",
   "execution_count": 57,
   "id": "607d4534-39d3-4e92-b6d3-32ed3b01be6c",
   "metadata": {},
   "outputs": [],
   "source": [
    "nombres = [9, 13, -2, 25, 31, 7, 4]\n",
    "sum = 0\n",
    "for v in nombres:  # accès direct aux valeurs de la liste\n",
    "     sum += v"
   ]
  },
  {
   "cell_type": "code",
   "execution_count": 58,
   "id": "701cc0d7-73b7-48f7-8305-54837f3882d0",
   "metadata": {},
   "outputs": [
    {
     "name": "stdout",
     "output_type": "stream",
     "text": [
      "87\n"
     ]
    }
   ],
   "source": [
    "print(sum)"
   ]
  },
  {
   "cell_type": "markdown",
   "id": "048acb45-a950-4c8f-b005-39f858417c8d",
   "metadata": {},
   "source": [
    "où à l'aide d'une boucle `while` -- pour un calcul qui n'a rien à voir avec les précédents."
   ]
  },
  {
   "cell_type": "code",
   "execution_count": 59,
   "id": "d03d1f66-249a-47f0-a3cf-65eb2d3c3db4",
   "metadata": {},
   "outputs": [],
   "source": [
    "i = 0\n",
    "sum = 0\n",
    "while i < len(nombres):\n",
    "    sum += i\n",
    "    i += 3"
   ]
  },
  {
   "cell_type": "code",
   "execution_count": 60,
   "id": "d98ae533-f222-4e52-82d5-6f4a7fd79c3c",
   "metadata": {},
   "outputs": [
    {
     "name": "stdout",
     "output_type": "stream",
     "text": [
      "9\n"
     ]
    }
   ],
   "source": [
    "print(sum)"
   ]
  },
  {
   "cell_type": "markdown",
   "id": "a1e772b4-7b73-4227-b3eb-28080e613565",
   "metadata": {},
   "source": [
    "On peut tester si un élément est dans la liste à l'aide de l'instruction\n",
    "`in`."
   ]
  },
  {
   "cell_type": "code",
   "execution_count": 61,
   "id": "643a117e-ed0f-43ea-9fda-0b10b43460c9",
   "metadata": {},
   "outputs": [
    {
     "name": "stdout",
     "output_type": "stream",
     "text": [
      "True\n"
     ]
    }
   ],
   "source": [
    "print(-2 in nombres) "
   ]
  },
  {
   "cell_type": "code",
   "execution_count": 62,
   "id": "3f36b380-bcf4-4228-94f5-c8254e2e3660",
   "metadata": {},
   "outputs": [
    {
     "name": "stdout",
     "output_type": "stream",
     "text": [
      "False\n"
     ]
    }
   ],
   "source": [
    "print(8 in nombres) "
   ]
  },
  {
   "cell_type": "markdown",
   "id": "135e1516-eec9-4954-93c9-dae59acc227f",
   "metadata": {},
   "source": [
    "Les listes sont des objets (comme tout autre type en Python). Il existe\n",
    "plusieurs _méthodes_ déjà définies pour la classe `list` de Python, qu'on\n",
    "peut utiliser pour nos listes. Pour utiliser une méthode sur une liste,\n",
    "on écrit le nom de la liste, suivi d'un ‘`.`', suivi du nom de la\n",
    "méthode.\n",
    "\n",
    "**Rmq.** Une méthode est une fonction qui s'applique à un objet.\n",
    "\n",
    "Voici quelques méthodes qui peuvent vous être utiles.\n",
    "\n",
    "-   La méthode `append(x)` qui permet d'ajouter un élément `x` à la fin\n",
    "    d'une liste.\n",
    "\n",
    "``` python\n",
    ">>> liste = [0, 3, 1, 5.0, 6, 4.3]\n",
    ">>> liste.append(7)\n",
    ">>> print(liste)\n",
    "[0, 3, 1, 5.0, 6, 4.3, 7]\n",
    "```\n",
    "\n",
    "-   La méthode `insert(index,x)`qui insère l'élément `x` à la position\n",
    "    `index` de la liste.\n",
    "\n",
    "``` python\n",
    ">>> liste.insert(3, 13.2)\n",
    ">>> liste\n",
    "[0, 3, 1, 13.2, 5.0, 6, 4.3, 7]\n",
    "```\n",
    "\n",
    "-   La méthode `remove(x)` qui supprime de la liste le premier élément\n",
    "    `x` trouvé.\n",
    "\n",
    "``` python\n",
    ">>> liste.remove(13.2)\n",
    ">>> liste\n",
    "[0, 3, 1, 5.0, 6, 4.3, 7]\n",
    "```\n",
    "\n",
    "Cette liste des méthodes est loin d'être exhaustive. \n",
    "Nous donnons plus de détails au [chapitre sur les types composés](ch:typescomposes).\n",
    "Vous pouvez aussi trouver plus d'informations sur la page\n",
    "[docs.python.org](https://docs.python.org/3.9/tutorial/datastructures.html)."
   ]
  },
  {
   "cell_type": "markdown",
   "id": "a0e65ba5-c0fd-49fd-a96e-cc6039978e2e",
   "metadata": {},
   "source": [
    "<div class=\"alert alert-block alert-warning\">\n",
    "    \n",
    "**WARNING.** Ce qui suit est source d'erreur classique.\n",
    "\n",
    "</div>"
   ]
  },
  {
   "cell_type": "markdown",
   "id": "6ac1625b-d241-4300-843f-7b43eff105a9",
   "metadata": {},
   "source": [
    "**Copie d'une liste**: Que fait le code suivant ?"
   ]
  },
  {
   "cell_type": "code",
   "execution_count": 63,
   "id": "dff7a9c2-0d1c-4a01-a84c-e470175e1d13",
   "metadata": {},
   "outputs": [
    {
     "name": "stdout",
     "output_type": "stream",
     "text": [
      "[1, 2, 3, 4, 5, 6]\n",
      "[1, 2, 3, 4, 5, 6, 7]\n",
      "[1, 2, 3, 4, 5, 6, 7]\n"
     ]
    }
   ],
   "source": [
    "L1 = [1, 2, 3, 4, 5, 6]\n",
    "L2 = L1\n",
    "print(L2)\n",
    "\n",
    "L2.append(7)\n",
    "print(L2)\n",
    "print(L1)"
   ]
  },
  {
   "cell_type": "markdown",
   "id": "8de68e9c-a308-4040-99d9-a01d01617307",
   "metadata": {},
   "source": [
    "En modifiant L2, la liste L1 a été modifiée aussi !\n",
    "\n",
    "-   Il ne faut jamais utiliser l'opérateur `=` pour copier une liste.\n",
    "\n",
    "-   Les deux objets L1 et L2 partagent la même zone mémoire. Une\n",
    "    modification de l'un entraîne une modification de l'autre.\n",
    "\n",
    "Nous verrons que les listes sont des **objets mutables**."
   ]
  },
  {
   "cell_type": "markdown",
   "id": "a1e8225b-d42d-4504-ae74-20a9e84d0804",
   "metadata": {},
   "source": [
    "Toutes les méthodes suivantes sont des manières légitimes de\n",
    "correctement copier une liste :"
   ]
  },
  {
   "cell_type": "code",
   "execution_count": 68,
   "id": "98041024-62f8-4088-8d3a-b2cabcb01c3f",
   "metadata": {},
   "outputs": [],
   "source": [
    "L1 = [1, 2, 3, 4, 5, 6]\n",
    "\n",
    "L2 = list(L1)  # instanciation d'un nouvel objet list avec les valeurs de la liste L1\n",
    "L3 = L1.copy() # méthode copy\n",
    "L4 = L1[:]     # affectation de tranche intégarle\n",
    "L5 = [i for i in L1] # compréhension d'une liste existante"
   ]
  },
  {
   "cell_type": "markdown",
   "id": "bcd4a1f0-284a-46d4-81ed-c0bfd4f8344c",
   "metadata": {},
   "source": [
    "On contrôlera l'effet de ces commandes avec [python tutor](pythontutor.com)."
   ]
  },
  {
   "cell_type": "code",
   "execution_count": 67,
   "id": "ecbaed43-e8ca-4600-a0a7-ac90177c432e",
   "metadata": {},
   "outputs": [
    {
     "data": {
      "text/plain": [
       "False"
      ]
     },
     "execution_count": 67,
     "metadata": {},
     "output_type": "execute_result"
    }
   ],
   "source": [
    "id(L1) == id(L2)"
   ]
  },
  {
   "cell_type": "markdown",
   "id": "d15cdfea-055a-4929-bbe7-b91bba7f9473",
   "metadata": {},
   "source": [
    "### Exercice\n",
    "\n",
    "#### 1\n",
    "\n",
    "Définissez la liste `liste = [34, 0, -17, 5, 18, 9]`, puis effectuez les\n",
    "actions suivantes :\n",
    "\n",
    "-   Triez et affichez la liste.\n",
    "\n",
    "-   Ajoutez l'élément 15 à la fin de la liste et affichez la.\n",
    "\n",
    "-   Renversez et affichez la liste.\n",
    "\n",
    "-   Affichez l'indice de l'élément -17.\n",
    "\n",
    "-   Enlevez l'élément 5 et affichez la liste.\n",
    "\n",
    "-   Affichez la sous-liste du $2^e$ au $3^e$ élément.\n",
    "\n",
    "-   Affichez la sous-liste du début au $4^e$ élément.\n",
    "\n",
    "-   Affichez la sous-liste du $3^e$ élément à la fin de la liste.\n",
    "\n",
    "-   Affichez l'avant dernier élément en utilisant un indiçage négatif.\n",
    "\n",
    "#### 2\n",
    "\n",
    "Modifier la fonction `fibonacci(n)` de la Section 5 afin qu'elle renvoie\n",
    "une liste avec les `n` premiers termes de la suite Fibonacci."
   ]
  },
  {
   "cell_type": "markdown",
   "id": "4d99e17a-bcb6-44c0-91e5-c976f816d86d",
   "metadata": {},
   "source": [
    "## Exercices\n",
    "\n",
    "Vous êtes prêts maintenant à écrire par vous mêmes des programmes un peu\n",
    "plus longs et compliqués. \n",
    "\n",
    "- Le notebook est toujours pratique. Utilisez-le.\n",
    "- Le mode terminal lui ne l'est plus. \n",
    "- Une alternative est d'utiliser des *scripts* pour écrire, sauvegarder et modifier vos programmes. \n",
    "\n",
    "Pour écrire un script, il suffit de créer un fichier dont le nom se termine par\n",
    "`.py` afin d'indiquer qu'il s'agit bien d'un script Python. Vous pouvez\n",
    "ensuite l'exécuter dans un terminal en écrivant "
   ]
  },
  {
   "cell_type": "markdown",
   "id": "714917f1-ac81-4e7a-ace5-d50fb504eccb",
   "metadata": {},
   "source": [
    "```shell\n",
    "$ python3 script.py\n",
    "```\n",
    "\n",
    "### Crible d'Eratosthène\n",
    "\n",
    "Le crible d'Eratosthène est un algorithme qui permet de trouver tous les\n",
    "nombres premiers qui sont inférieurs à un certain entier naturel $N$.\n",
    "Cet algorithme est dû au mathématicien grec Eratosthène de Cyrène qui\n",
    "est également connu pour être la première personne à avoir mesuré le\n",
    "méridien terrestre.\n",
    "\n",
    "L'idée du crible est très simple. On commence par écrire la liste de\n",
    "tous les nombres de $2$ jusqu'à $N$. Ensuite on barre (on enlève de\n",
    "la liste) tous les multiples de $2$. On note ensuite le plus petit\n",
    "nombre non-barré de la liste, qui est donc le nombre 3, et on procède de\n",
    "façon similaire en enlevant tous ses multiples. On continue de la même\n",
    "façon jusqu'à atteindre le nombre $N$. Les nombres qui restent à la\n",
    "fin sont exactement les nombres premiers plus petits ou égaux à $N$.\n",
    "\n",
    "Vous pouvez voir une jolie animation de l'exécution de l'algorithme sur\n",
    "[la page wikipedia](https://fr.wikipedia.org/wiki/Crible_d%27Ératosthène).\n",
    "\n",
    "**Remarque**. En réalité, il suffit de tester uniquement les multiples\n",
    "des nombres de 2 à $\\sqrt{N}$, puisque un nombre composé plus petit ou\n",
    "égal à $N$, a forcément un facteur plus petit ou égal à $\\sqrt{N}$.\n",
    "\n",
    "Vous devez maintenant programmer le crible d'Eratosthène en Python.\n",
    "Ecrivez une fonction `eratosthene(N)` qui prend comme paramètre un\n",
    "entier naturel $N$ et qui affiche à l'écran la liste de tous les\n",
    "nombres premiers plus petits ou égaux à $N$. Il existe plusieurs\n",
    "façons de coder cet algorithme en Python, vous êtes libres de faire à\n",
    "votre propre guise."
   ]
  },
  {
   "cell_type": "markdown",
   "id": "0666acbb-e8a8-4fa6-81bf-2770da731422",
   "metadata": {},
   "source": [
    "### Recherche dichotomique\n",
    "\n",
    "La recherche dichotomique est un algorithme très simple et efficace pour\n",
    "rechercher un élément dans une liste **triée**.\n",
    "\n",
    "Imaginez par exemple que nous souhaitons retrouver le numéro de\n",
    "téléphone d'une personne dans un annuaire qui est trié par ordre\n",
    "alphabétique. La recherche séquentielle, c.-à-d. parcourir l'annuaire du\n",
    "début en comparant tous les noms avec celui dont on cherche le numéro de\n",
    "téléphone peut être très longue (surtout si le nom recherché se trouve à\n",
    "la fin de l'annuaire). Une approche bien plus efficace est d'ouvrir\n",
    "l'annuaire au milieu et commencer par regarder si le nom se trouve à\n",
    "cette page. Si ce n'est pas le cas, et si le nom dont on cherche se\n",
    "trouve plus loin, alors on recommence la recherche avec la deuxième\n",
    "moitié de l'annuaire. Si le nom se trouve avant, alors on recommence\n",
    "avec la première moitié.\n",
    "\n",
    "On peut voir qu'avec cette approche, on réduit à chaque étape la taille\n",
    "de l'annuaire à parcourir de la moitié. Cet algorithme fait partie alors\n",
    "des algorithmes dits *diviser pour régner* et a une complexité\n",
    "*logarithmique* en la taille de la liste.\n",
    "\n",
    "Pour cet exercice, on suppose que l'utilisateur possède une liste\n",
    "croissante de nombres et on lui fournit un nombre qu'on suppose être\n",
    "dans la liste. Le but est de retourner l'indice du nombre recherché dans\n",
    "la liste.\n",
    "\n",
    "Si la liste fournie est \\[1,3,4,6,10,14,15\\] et l'élément qu'on cherche\n",
    "est 10, alors le programme doit retourner 4 (souvenez-vous que, dans une\n",
    "liste, les indices sont numérotés à partir de 0).\n",
    "\n",
    "Ecrivez une fonction `rechercheDichotomique(valeur, listeTriee)` qui\n",
    "prend en entrée une liste triée de nombres et une valeur à rechercher\n",
    "dans la liste et renvoie l'indice de la liste correspondant à cette\n",
    "valeur."
   ]
  },
  {
   "cell_type": "code",
   "execution_count": null,
   "id": "3395bc56-1a82-4102-ae41-718fef14a5f2",
   "metadata": {},
   "outputs": [],
   "source": []
  }
 ],
 "metadata": {
  "kernelspec": {
   "display_name": "Python 3 (ipykernel)",
   "language": "python",
   "name": "python3"
  },
  "language_info": {
   "codemirror_mode": {
    "name": "ipython",
    "version": 3
   },
   "file_extension": ".py",
   "mimetype": "text/x-python",
   "name": "python",
   "nbconvert_exporter": "python",
   "pygments_lexer": "ipython3",
   "version": "3.9.6"
  }
 },
 "nbformat": 4,
 "nbformat_minor": 5
}
