{
 "cells": [
  {
   "cell_type": "markdown",
   "metadata": {
    "slideshow": {
     "slide_type": "slide"
    }
   },
   "source": [
    "# Algorithmique et Programmation en 2022"
   ]
  },
  {
   "cell_type": "markdown",
   "metadata": {
    "slideshow": {
     "slide_type": "slide"
    }
   },
   "source": [
    "Mis à jour : {sub-ref}`today`, lecture : {sub-ref}`wordcount-minutes` minutes minimum, PhL."
   ]
  },
  {
   "cell_type": "markdown",
   "metadata": {
    "slideshow": {
     "slide_type": "slide"
    }
   },
   "source": [
    "- Vous : **L1 math-info**  \n",
    "- Moi : **Philippe Langlois**   \n",
    "- Comment me contacter : ![](./fig/mail_phl.png)  \n",
    "- Comment me rencontrer : sur RDV _DEMANDÉ PAR E-MAIL_  \n",
    "- Où me rencontrer : au bâtiment B, étage 1, à gauche (laboratoire DALI)."
   ]
  },
  {
   "cell_type": "markdown",
   "metadata": {
    "slideshow": {
     "slide_type": "subslide"
    }
   },
   "source": [
    "## Algo-Prog : version 2022 \n",
    "\n",
    "\n",
    "- Les [supports du CM](https://phillanglois.github.io/Algo-Prog/) régulièrement mis à jour.\n",
    "- Les autres ressources sont sur l'espace moodle de cet enseignement.\n",
    "\n",
    "### Version 2022\n",
    "\n",
    "- nouvelle offre de formation 2021-2025 : algo + prog = 1 UE\n",
    "- 12 séances de CM : 3h/semaine \n",
    "- 12 séances de TD-TP : 3h/semaine \n",
    "- chargés de TD : Ph. Langlois (2), Vincent Zucca\n",
    "- Démarrage : CM en semaine 3 (`sd`=s3), TD en s4, vacances en s9, s17-s18\n"
   ]
  },
  {
   "cell_type": "markdown",
   "metadata": {
    "slideshow": {
     "slide_type": "slide"
    }
   },
   "source": [
    "### Contrôle de connaissances et dates importantes\n",
    "\n",
    "CC : contrôle \"dit\" continu, CT contôle \"dit\" terminal\n",
    "\n",
    "\n",
    "```{Warning}\n",
    "**Note UE = CC1/2 + CC2/4 + CT/4**\n",
    "```\n",
    "- CC1 : 0.2 * TP1 + 0.8 * TP2 \n",
    "    - mi-parcours : TP1 à rendre en `sd`+7\n",
    "    - fin de semestre : TP2 individuel, en temps limité, sur machine UPVD : 3h à `sd`+14\n",
    "- CC2 : écrit mi-parcours, 2h à `sd`+8\n",
    "- CT : écrit de fin de semestre, 2h pendant semaine examen  "
   ]
  },
  {
   "cell_type": "markdown",
   "metadata": {
    "slideshow": {
     "slide_type": "subslide"
    }
   },
   "source": [
    "**Dates _envisagées_** mais susceptibles d'adaptations mineures\n",
    "\n",
    "- lundi 7 mars 2022 : dead-line rendu du TP1 (pour CC1)\n",
    "- mercredi 16 mars 2022 : écrit mi-parcours (CC2)\n",
    "- mardi 10 mai 2022 : TP en temps limité (pour CC1)\n",
    "- semaines du 16 ou 23 mai 2022 : écrit de fin de semestre (CT) "
   ]
  },
  {
   "cell_type": "markdown",
   "metadata": {
    "slideshow": {
     "slide_type": "slide"
    }
   },
   "source": [
    "## Structure de l'enseignement\n",
    "\n",
    "### Organisation\n",
    "\n",
    "- 11 chapitres, 11 semaines, 11 séances de CM, 11 séances de TD ou TP\n",
    "- \"12ème séance\" : écrit mi-parcours, TP de fin de semestre\n",
    "- Chaque chapitre :\n",
    "    - explicitation des compétences : savoirs, savoir-faires\n",
    "    - un quizz d'aide à la compréhension et la mémorisation de ces compétences\n",
    "    - _l'enseignant_ ... présente et explique des exercices détaillés en CM\n",
    "    - _vous_ ... travaillez sur des exercices de TD et de TP, les contrôles des années précédentes, ..."
   ]
  },
  {
   "cell_type": "markdown",
   "metadata": {
    "slideshow": {
     "slide_type": "subslide"
    }
   },
   "source": [
    "### CM\n",
    "\n",
    "```{warning}\n",
    "Le CM est **essentiel** à la compréhension globale de l'UE issue de l'articulation de toutes les notions traitées.\n",
    "```\n",
    "\n",
    "Alternance de séquence pour séance de 3 heures :\n",
    "\n",
    "- \"matière de cours\" : nouvelles notions (40 min)\n",
    "- d'exercices dirigés et d'interactions : quizz, questions/réponses, ... (10 min)\n",
    "- pause (10 min)"
   ]
  },
  {
   "cell_type": "markdown",
   "metadata": {
    "slideshow": {
     "slide_type": "subslide"
    }
   },
   "source": [
    "### La très grande importance des CM\n",
    "\n",
    "- **Tout** ce qui est nécessaire à votre compréhension est présenté en cours avec des explications orales adaptées, les répétitions nécessaires des points importants, les mises en garde sur les notions difficiles,  ce qui est essentiel _vs._ ce qui est plus secondaire, les compétences à acquérir : savoir, savoir faire et savoir être, ce qui est attendu pour le contrôle de connaissance, ce qui relève de l'objectif 10 _vs._ de l'objectif 20, ...\n",
    "    - les 2/3 du travail de compréhension/mémorisation reposent sur les CM \n",
    "    "
   ]
  },
  {
   "cell_type": "markdown",
   "metadata": {
    "slideshow": {
     "slide_type": "fragment"
    }
   },
   "source": [
    "- **Morale** : ne manquer aucun CM, être attentif, prendre des notes, poser des questions, **se poser** des questions, demander des pauses pour reprendre une attention maximale  \n",
    "    - les notes de cours fournies sont trompeuses : comme un film sans le son"
   ]
  },
  {
   "cell_type": "markdown",
   "metadata": {
    "slideshow": {
     "slide_type": "fragment"
    }
   },
   "source": [
    "- **Méthodologie** : \n",
    "    - relire le cours le soir de l'amphi (15-20 min) \n",
    "    - le reprendre en détail 4-5 jours après en préparant  des exercices de TD ou de TP -- en groupe : ça aide !\n",
    "    - faire une auto-évaluation de ce que _vous_ en avez retenu la veille du cours suivant : le chapitre compétences est utile. \n",
    "    - identifier les questions à poser en séance de TD ou en CM"
   ]
  },
  {
   "cell_type": "markdown",
   "metadata": {
    "slideshow": {
     "slide_type": "subslide"
    }
   },
   "source": [
    "### Les TD pour réfléchir et travailler en petit groupe\n",
    "\n",
    "- séance de 1h25\n",
    "- par groupe de 2 à __4__\n",
    "- **objectif 10** ou **objectif 20**  \n",
    "    - feuilles de TD en 2 parties\n",
    "    - objectif 10 : \n",
    "        - applications basiques du cours, démarche guidée\n",
    "        - pour celles et ceux qui ne veulent pas continuer en informatique au delà du L2 math-info  \n",
    "    - objectif 20 : \n",
    "        - applications plus avancées du cours, démarche plus autonome\n",
    "        - pour celles et ceux qui **veulent continuer** en licence et master informatique, CAPES  informatique (nouveau !), ...\n",
    "    - comment choisir son niveau d'objectif ?\n",
    "        - note algo semestre 1 < 10 --> objectif 10\n",
    "        - le choix n'est pas définitif\n",
    "        - méthodologie : __chaque (groupe) d'étudiants__ définit __son rythme__ en suivant le parcours proposé par le chargé de TD.  "
   ]
  },
  {
   "cell_type": "markdown",
   "metadata": {
    "slideshow": {
     "slide_type": "subslide"
    }
   },
   "source": [
    "### Les TP pour maîtriser les notions et acquérir du savoir-faire personnel  \n",
    "\n",
    "- 1 TP = un _notebook jupyter_   \n",
    "\n",
    "- codage, expérimentation et approfondissement :\n",
    "    - des TD d'algo \n",
    "    - du CM de Programmation  \n",
    "\n",
    "- exemples de TP avec dead-line (pour l'évaluation de CC) :  \n",
    "    - mini base de données  \n",
    "    - traitement d'images  \n",
    "    - cryptographie   \n",
    "\n"
   ]
  },
  {
   "cell_type": "markdown",
   "metadata": {
    "slideshow": {
     "slide_type": "subslide"
    }
   },
   "source": [
    "### Les outils pour mieux comprendre, mieux retenir\n",
    "\n",
    "```{tip}\n",
    "**Pratiquer pour maîtriser**\n",
    "```\n",
    "\n",
    "- un environnement python qui fonctionne"
   ]
  },
  {
   "cell_type": "markdown",
   "metadata": {
    "slideshow": {
     "slide_type": "fragment"
    }
   },
   "source": [
    "- les [notebook jupyter](https://jupyter.org/try)\n",
    "    - sur votre machine : _la solution à privilégier_\n",
    "    - en ligne : [google colab](https://colab.research.google.com), [cocalc](https://cocalc.com)\n",
    "    - _Débuter avec les notebooks_. De Denis Pinsard et disponible sur moodle\n",
    "    - première séance  de TD"
   ]
  },
  {
   "cell_type": "markdown",
   "metadata": {
    "slideshow": {
     "slide_type": "fragment"
    }
   },
   "source": [
    "- [python tutor](http://pythontutor.com) \n",
    "    - permet de visualiser l'effet des instruactions d'un petit code  \n",
    "    - très utile au début pour comprendre des _effets de programmation_, pas d'algorithmique\n",
    "    - complément de l'idle python\n",
    "    - demo "
   ]
  },
  {
   "cell_type": "markdown",
   "metadata": {
    "slideshow": {
     "slide_type": "fragment"
    }
   },
   "source": [
    "- les quizz en ligne (moodle)"
   ]
  },
  {
   "cell_type": "markdown",
   "metadata": {
    "slideshow": {
     "slide_type": "slide"
    }
   },
   "source": [
    "## Savoirs, savoir faire, savoir être\n",
    "\n",
    "- Des connaissances à connaître :)\n",
    "- Des techniques à savoir mettre en oeuvre\n",
    "- Des outils à savoir utiliser\n",
    "- Des ressources à savoir mobiliser"
   ]
  },
  {
   "cell_type": "markdown",
   "metadata": {
    "slideshow": {
     "slide_type": "subslide"
    }
   },
   "source": [
    "### Acquis du semestre 1 et prérequis \n",
    "\n",
    "- Savoir différencier les _types_ de données :  \n",
    "    - type scalaire : booléen, entier, réels, caractères  \n",
    "    - type composés : chaîne de caractères, vecteur, matrice, ...  "
   ]
  },
  {
   "cell_type": "markdown",
   "metadata": {
    "slideshow": {
     "slide_type": "fragment"
    }
   },
   "source": [
    "- Connaître leur _représentation_ dans un langage informatique donné  \n",
    "    - `bool`, `int`, `float`, `str`, `list`  \n",
    "    - et les changement de types associés : `int()`, `float()`, ...  \n",
    "    - (python) : un rappel sur le \"type\" `bool`est proposé en [annexe du cours](./a1-booleens.ipynb)."
   ]
  },
  {
   "cell_type": "markdown",
   "metadata": {
    "slideshow": {
     "slide_type": "fragment"
    }
   },
   "source": [
    "- Bien différencier _valeur_ vs. _variable_ vs. _constante_  \n",
    "    - _évaluation_   \n",
    "    - et comprendre comment le modèle d'exécution en modifie l'état  \n",
    "    - _affectation_ : `=`  "
   ]
  },
  {
   "cell_type": "markdown",
   "metadata": {
    "slideshow": {
     "slide_type": "subslide"
    }
   },
   "source": [
    "- Bien comprendre le modèle _séquentiel_ de l'exécution d'un algorithme   \n",
    "    - _instruction_   \n",
    "    - _expression_ (\"formule\")   \n",
    "\n",
    "- Comprendre que les structures de contrôle permettent de _casser_ la séquentialité de l'exécution d'un algorithme  \n",
    "    - branchement conditionnel  : _choisir_   \n",
    "        - `if ...:`, `elif ...:`,  `else:`  \n",
    "    - répétitions : _répéter_  \n",
    "        - `while`  \n",
    "        - `for . in ...`, (`break`, `continue`)   \n",
    "    "
   ]
  },
  {
   "cell_type": "markdown",
   "metadata": {
    "slideshow": {
     "slide_type": "subslide"
    }
   },
   "source": [
    "- Distinguer : les _entrées_ vs. le _traitement_ vs. la _sortie_  \n",
    "    - `input()`, `print()`  \n",
    "\n",
    "- Spécificités python  \n",
    "    - _indentation_  \n",
    "    - typage dynamique  "
   ]
  },
  {
   "cell_type": "markdown",
   "metadata": {
    "slideshow": {
     "slide_type": "slide"
    }
   },
   "source": [
    "## Programme détaillé : aspects plutôt algorithmique\n",
    "\n",
    "- Utilisation avancée de boucles et de tableaux\n",
    "    - boucles imbriquées, indépendantes ou non\n",
    "    - traitements divers avec des tableaux 1D ou plus \n",
    "    - premières estimations de complexité "
   ]
  },
  {
   "cell_type": "markdown",
   "metadata": {
    "slideshow": {
     "slide_type": "subslide"
    }
   },
   "source": [
    "- Complexité\n",
    "    - combien _coûte_ un algorithme pour résoudre un pb donné ?  \n",
    "    - combien de temps ? combien de place mémoire ?  \n",
    "    - tous les problèmes coûtent pareils ?  \n",
    "    - notions : complexité en temps, pire cas, complexité asymptotique  \n",
    "    - exemples d'algos plutôt numériques et leurs complexités\n",
    "        - différentes évaluations de polynômes "
   ]
  },
  {
   "cell_type": "markdown",
   "metadata": {
    "slideshow": {
     "slide_type": "subslide"
    }
   },
   "source": [
    "- Récursivité : \n",
    "    - **la notion centrale du semestre**\n",
    "    - principes \n",
    "    - applications \n",
    "    - notions : itératif vs. récursif, pile/arbre des appels, complexité\n",
    "\n",
    "```{note} \n",
    "La récursion s'appuie sur la notion de _fonction_ présentée dans les aspects plutôt programmation.\n",
    "```"
   ]
  },
  {
   "cell_type": "markdown",
   "metadata": {
    "slideshow": {
     "slide_type": "subslide"
    }
   },
   "source": [
    "- Rechercher \n",
    "    - recherche séquentielle\n",
    "    - recherche dichotomique \n",
    "    - notions : les algos, leurs complexités, (les preuves)   \n",
    "    - versions itératives ou récursives de ces algorithmes \n",
    "    "
   ]
  },
  {
   "cell_type": "markdown",
   "metadata": {
    "slideshow": {
     "slide_type": "fragment"
    }
   },
   "source": [
    "- Trier \n",
    "    - des algorithmes de tris dits naïfs  : algos, complexité, (preuve)   \n",
    "    - des algorithmes de tris dits rapides : : algos, complexité, (preuve)\n",
    "    - versions itératives ou récursives de ces algorithmes "
   ]
  },
  {
   "cell_type": "markdown",
   "metadata": {
    "slideshow": {
     "slide_type": "subslide"
    }
   },
   "source": [
    "- Compléments si assez de temps : prouver la terminaison et la correction d'un algorithme\n",
    "    - l'algo fournit la/les solution/s en un temps fini\n",
    "    - l'algo résoud bien le pb\n",
    "    - notions : invariant de boucle, preuve de terminaison"
   ]
  },
  {
   "cell_type": "markdown",
   "metadata": {
    "slideshow": {
     "slide_type": "slide"
    }
   },
   "source": [
    "## Programme détaillé : aspects plus programmation \n",
    "\n",
    "- Types de donnnées scalaires\n",
    "    - rappels \n",
    "    - approfondissement : introspection  "
   ]
  },
  {
   "cell_type": "markdown",
   "metadata": {
    "slideshow": {
     "slide_type": "subslide"
    }
   },
   "source": [
    "- Fonctions **une notion centrale** \n",
    "    - fonctions prédéfinies ou existantes\n",
    "    - en-tête, corps, appel, paramètres formels et effectifs. \n",
    "    - portée, visibilité, variables locales vs. paramètres  \n",
    "    - mode de passage des paramètres\n",
    "    - exemples du cours : doubler, permuter  "
   ]
  },
  {
   "cell_type": "markdown",
   "metadata": {
    "slideshow": {
     "slide_type": "subslide"
    }
   },
   "source": [
    "- Tableaux 1D :\n",
    "    - rappel : avec des listes python (`lst`)\n",
    "    - exemples du cours : Lire, stocker, moyenne/min/max d'un tableau (valeurs, indices)\n",
    "    - applications : les vecteurs, les chaînes de caractères "
   ]
  },
  {
   "cell_type": "markdown",
   "metadata": {
    "slideshow": {
     "slide_type": "subslide"
    }
   },
   "source": [
    "- Tableaux 2D, 3D ; application au traitement d'images\n",
    "    - avec des listes (de listes) python  \n",
    "    - images et matrices  \n",
    "    - boucles imbriquées  \n",
    "    - exemples du cours : \n",
    "        - traitement d'images : initialisation niveaux de gris, transformations d'images (miroir, contraste, contours, ...) \n",
    "        - algorithmes sur les matrices : vérification (identité, symétrie), calcul (produit de matrices,...) , génération de formes particulières (transposée, ...)\n",
    "        "
   ]
  },
  {
   "cell_type": "markdown",
   "metadata": {
    "slideshow": {
     "slide_type": "fragment"
    }
   },
   "source": [
    "```{note}\n",
    "Par manque de temps, les `ndarray` de `numpy`, ne sont pas abordés en séance bien que très utiles en pratique.\n",
    "Ces ressources pourront être découvertes de façon autome et utilisées par les étudiants (objectif 20) qui le souhaitent.\n",
    "```"
   ]
  },
  {
   "cell_type": "markdown",
   "metadata": {
    "slideshow": {
     "slide_type": "subslide"
    }
   },
   "source": [
    "- Autres types de données composés\n",
    "    - listes (`lst`) : fonctions et méthodes\n",
    "    - n-uplets (`tuple`), ensembles (`set`), dictionnaires (`dict`)"
   ]
  },
  {
   "cell_type": "markdown",
   "metadata": {
    "slideshow": {
     "slide_type": "fragment"
    }
   },
   "source": [
    "- Entrées/sorties et fichiers\n",
    "    - Très pratique pour tester ses développements : \n",
    "    ```{important}\n",
    "    **Bannir les entrées au clavier !** \n",
    "    Plus d'`input()` à tours de bras SVP !!!\n",
    "    ```\n",
    "    - Chapître traité assez tôt dans le semestre"
   ]
  },
  {
   "cell_type": "markdown",
   "metadata": {
    "slideshow": {
     "slide_type": "fragment"
    }
   },
   "source": [
    "- Modules\n",
    "    - utilisation de modules existants \n",
    "    - exemple d'outils :`numpy`, `scipy`, `matplotlib`, `time` \n",
    "    - définition de ses modules\n",
    "\n",
    "- Exceptions\n",
    "    - En annexe par manque de temps"
   ]
  },
  {
   "cell_type": "markdown",
   "metadata": {
    "slideshow": {
     "slide_type": "slide"
    }
   },
   "source": [
    "## Supports de cours\n",
    "\n",
    "```{note}\n",
    "Excepté les supports de cours cette année, toutes les autres ressources sont sur moodle et sont mises à jour **très** régulièrement\n",
    "```\n",
    "\n",
    "\n",
    "- CM : notebook python (version pdf, html) \n",
    "- TD : feuilles d'exercices (pdf) \n",
    "- TP : notebook python (versions ipynb, pdf, html)  \n",
    "- sujets et correction des CC et CT des années précédentes\n",
    "\n",
    "Au fur et à mesure du semestre :\n",
    "- TD : corrections des exercices objectif 10 \n"
   ]
  },
  {
   "cell_type": "markdown",
   "metadata": {
    "slideshow": {
     "slide_type": "slide"
    }
   },
   "source": [
    "## Travailler en python\n",
    "\n",
    "Il est indispensable :\n",
    "\n",
    "- d'avoir accès à un environnement de programmation python, si possible assez complet,\n",
    "\n",
    "- d'avoir son propre ordinateur configuré de façon complète et selon vos préférences.    \n",
    "\n",
    "Il y a déjà 3 choix d'OS possibles : windows, linux et mac os ; les 2 premiers étant disponibles sur les ordinateurs de l'UPVD.    \n",
    "\n",
    "Ensuite, les [distributions python](#En%20pratique) sont assez variées, et peuvent différer selon les OS .\n",
    "\n",
    "Il est aisé _pour chacun_ de trouver ce qui correspond à ses contraintes matérielles et ses envies.  "
   ]
  },
  {
   "cell_type": "markdown",
   "metadata": {
    "slideshow": {
     "slide_type": "subslide"
    }
   },
   "source": [
    "### IMPORTANT : De quoi a-t-on *absolument* besoin ?\n",
    "Ce qui suit est une liste minimale de composants utiles cette année et les années à venir. \n",
    "Elle peut sembler longue mais en pratique, ces composants \"arrivent\" d'un seul coup avec une distribution -- cf. paragraphe suivant.  \n",
    "\n",
    "\n",
    "- l'`IDLE` python 3  \n",
    "    - éditeur, interpréteur, débugger utilisé en TP au semestre 1"
   ]
  },
  {
   "cell_type": "markdown",
   "metadata": {
    "slideshow": {
     "slide_type": "fragment"
    }
   },
   "source": [
    "- `jupyter notebook`  \n",
    "    - pour intégrer dans _un unique fichier_ du texte, des maths ($\\LaTeX$) et du code python qui s'exécute, les résultats de ces éxecutions (valeurs, courbes, images, ...) et exporter tout ça en `html`ou `pdf` ou en `slide`  \n",
    "    - très utile pour les exercices \n",
    "    - _utilisé pour les TP de programmation à rendre_\n",
    "    - utilisable dans toutes les matières ou presque    \n",
    "    "
   ]
  },
  {
   "cell_type": "markdown",
   "metadata": {
    "slideshow": {
     "slide_type": "fragment"
    }
   },
   "source": [
    "- les gestionnaire de paquets (modules) python pour compléter et mettre à jour son environnement\n",
    "    - `conda`: plus complet si distribution anaconda utilisée (solution recommandée)  \n",
    "    - `pip` : classique   \n",
    "    - Exemple d'utilisation : \n",
    "        - `conda` : `conda list`, `pip install le_module_que_je_veux` et voilà, c'est fini ! \n",
    "        - `pip` : pareil `list`, `update`, `install`  "
   ]
  },
  {
   "cell_type": "markdown",
   "metadata": {
    "slideshow": {
     "slide_type": "fragment"
    }
   },
   "source": [
    "- modules indispensables \n",
    "    - `numpy ` : fournit des _vrais_ tableaux multi-dimentionnels et des tas de fonctions et types numériques pour effectuer du calcul\n",
    "    - `matplotlib`: pour le traitement graphique de données, et en particulier :\n",
    "        -  `matplotlib.pyplot` pour des affichages élaborés\n",
    "        -  `matplotlib.image`  pour le traitement d'images\n",
    "    - `tkinter` : pour réaliser des interfaces graphiques  \n",
    "    \n",
    "- modules utiles mais optionnels cette année  \n",
    "    - `scipy `: scientific python qui rassemble des modules de calcul scientifiques (dont `numpy`) "
   ]
  },
  {
   "cell_type": "markdown",
   "metadata": {
    "slideshow": {
     "slide_type": "subslide"
    }
   },
   "source": [
    "**Pièges**\n",
    "- Ne pas confondre `python 2` et `python 3` \n",
    "\n",
    "**Conseil**\n",
    "- Choisir une distribution la plus complète possible dès le début.   "
   ]
  },
  {
   "cell_type": "markdown",
   "metadata": {
    "slideshow": {
     "slide_type": "subslide"
    }
   },
   "source": [
    "### En pratique\n",
    "\n",
    "#### Installer un environnement python\n",
    "\n",
    "On conseille d'installer la distribution Anaconda.  \n",
    "Dans ce cadre, on peut s'aider des  liens ci-après.\n",
    "Le web est bien sûr plein de tutos et autres sites explicatifs ...\n",
    "\n",
    "- [Un tutoriel](https://zestedesavoir.com/tutoriels/1448/installer-un-environnement-de-developpement-python-avec-conda/)  \n",
    "- [Un autre](https://www.davidculley.com/installing-python-on-a-mac/) pour mac mais/et en anglais, très complet : le début seul devrait vous suffire."
   ]
  },
  {
   "cell_type": "markdown",
   "metadata": {
    "slideshow": {
     "slide_type": "subslide"
    }
   },
   "source": [
    "#### Distributions python classiques  \n",
    "\n",
    "On télécharge, on installe, on travaille !  \n",
    "\n",
    "- [Anaconda](https://www.anaconda.com/products/individual)  : à privilégier (pour son gestionnaire `conda`) sauf choix perso justifié.  \n",
    "- [Enthought Python Distribution](http://www.enthought.com/products/epd.php) : très complet  \n",
    "- [Thonny](https://thonny.org/) Attention : Thonny installe sa propre version de Python par défaut.   \n",
    "- [Pyzo](http://www.pyzo.org)\n",
    "- [SAGEMATH](http://sagemath.org/)  : bcp plus général qu'un simple environnement python. A conseiller pour ceux qui veulent continuer en ... mathématiques."
   ]
  },
  {
   "cell_type": "markdown",
   "metadata": {
    "slideshow": {
     "slide_type": "subslide"
    }
   },
   "source": [
    "#### Environnement de travail en autonomie pour machine étudiant \n",
    "\n",
    "- [edupython](https://edupython.tuxfamily.org) issu d'AmiensPython mais **[pour windows](http://edupython.tuxfamily.org/documentation/index.php?title=Installation_et_Configuration)**\n",
    "    - Moteur Python : version 3.7.6\n",
    "    - Editeur : PyScripteur (version 3.6.3)\n",
    "    - Administration de base de données : SQLite Database Browser (version 3.11.2)\n",
    "    - **Jupiter notebook préinstallé** \n",
    "    - Module lycée\n",
    "    - Calcul numérique: Numpy (version 1.18.3) et Scipy (version 1.4.1)\n",
    "    - Sorties graphiques: Matplotlib (version 3.1.3)\n",
    "    - Calcul formel: Sympy (version 1.5.1)\n",
    "    - Traitement d'images: PIL (Pillow 7.0.0) et Open CV (Version 4.2.0)\n",
    "    - Liaison série: Serial (version 2.7)\n",
    "    - Base de données: SQLite3 (version standard) et mysql (version 8.0.13)\n",
    "    - Traitement de données: Pandas (version 1.0 3)\n",
    "    - Réalisation de jeux: Pygame (version 1.9.4)\n",
    "    - Autres: pyknon (musique), Nanpy (Arduino), Follium (cartes), scikit-learn (IA)... \n",
    " \n",
    " "
   ]
  },
  {
   "cell_type": "markdown",
   "metadata": {
    "slideshow": {
     "slide_type": "subslide"
    }
   },
   "source": [
    "### Monsieur ....\n",
    "\n",
    "**Non : je ne sais pas pourquoi \"_ça ne marche pas quand ..._\" !**\n",
    "\n",
    "```{note}\n",
    "Quand ma voiture/moto est en panne, je m'adresse à un garagiste.  \n",
    "Pourtant je sais la conduire.\n",
    "Pourtant j'ai fait des études qui me permett(rai)ent de participer à sa conception, sa construction, sa mise au point, sa diffusion, ... \n",
    "```"
   ]
  },
  {
   "cell_type": "markdown",
   "metadata": {
    "slideshow": {
     "slide_type": "slide"
    }
   },
   "source": [
    "## Références bibliographiques\n",
    "\n",
    "### Algo et prog\n",
    "- Informatique pour tous en CPGE avec Python et nouveaux programmes 2013 : \n",
    "\n",
    "    - B. Wack _et al._ (Eyrolles)  \n",
    "    - Th. Audibert et A. Oussalah. (Ellipses)   \n",
    "    - E. Le Nagard (Pearson)\n"
   ]
  },
  {
   "cell_type": "markdown",
   "metadata": {
    "slideshow": {
     "slide_type": "subslide"
    }
   },
   "source": [
    "L'introduction de la spécialité NSI (Numérique et Science Informatique) a donné l'opportunité de la publication de nombreux ouvrages de niveau Première ou Terminale. Le programme de ces classes étant assez ambitieux, ces ouvrages sont de bonnes premières références, voire de très bonnes pour les étudiant.e.s Objectif 10. "
   ]
  },
  {
   "cell_type": "markdown",
   "metadata": {
    "slideshow": {
     "slide_type": "subslide"
    }
   },
   "source": [
    "#### Ellipses\n",
    "\n",
    "Titre : Spécialité Numérique et sciences informatiques : 30 leçons avec exercices corrigés - Première - Nouveaux programmes\n",
    "Auteur(s) : Balabonski Thibaut, Conchon Sylvain, Filliâtre Jean-Christophe, Nguyen Kim\n",
    "Editeur : Ellipses\n",
    "ISBN : 9782340033641 (Première)\n",
    "Volume niveau Terminale en préparation.\n",
    "\n",
    "Titre : Spécialité Numérique et sciences informatiques - Première, , Terminale  - nouveaux programmes\n",
    "Auteur(s) : Serge Bays (Auteur) Bertrand Hauchecorne (Direction) \n",
    "Editeur : Ellipses\n",
    "Collection\tPrepas Sciences\n",
    "ISBN : 2340031729 (Première), 2340038448 (Terminale)\n",
    "\n",
    "Titre : Spécialité NSI (numérique et sciences informatiques) - Première - nouveaux programmes\n",
    "Auteur(s) : Legrand David\n",
    "Editeur : Ellipses\n",
    "Collection Parcours et méthodes\n",
    "ISBN : 9782340038578 (Première),\n",
    "\n",
    "Spécialité Numérique et sciences informatiques - Première - nouveaux programmes\n",
    "Cécile Canu (Auteur) \n",
    "Editeur : Ellipses\n",
    "Collection Competences Attendues\n",
    "ISBN : 2340031788 \n",
    "\n",
    "Titre : Spécialité NSI - Numérique et sciences informatiques - Terminale - nouveaux programmes\n",
    "Auteur(s) : Jean-Christophe Bonnefoy (Auteur) Bertrand Petit (Auteur) \n",
    "Editeur : Ellipses\n",
    "Collection Competences Attendues\n",
    "ISBN :  2340038154 "
   ]
  },
  {
   "cell_type": "markdown",
   "metadata": {
    "slideshow": {
     "slide_type": "subslide"
    }
   },
   "source": [
    "#### Hatier\n",
    "\n",
    "Titre : NSI 1ère générale (spécialité) - Prépabac Cours & entraînement. \n",
    "Nouveau programme, nouveau bac (2020-2021)\n",
    "Auteur(s) : Céline Adobet (Auteur) Guillaume Connan (Auteur) Gérard Rozsavolgyi (Auteur) Laurent Signac (Auteur) \n",
    "Nouveau programme de Première (2020-2021) \n",
    "Editeur : Hatier\n",
    "Collection\t: Prepabac Entrainement Progress\n",
    "ISBN : 2401052305\n",
    "Version e-book : 8,99€\n",
    "\n",
    "Titre : NSI Tle générale (spécialité) - Prépabac Cours & entraînement. \n",
    "Nouveau programme, nouveau bac (2020-2021)\n",
    "Auteur(s) : Guillaume Connan (Auteur) Vojislav Petrov (Auteur) Gérard Rozsavolgyi (Auteur) Laurent Signac (Auteur) \n",
    "Editeur : Hatier\n",
    "Collection\t: Prepabac Entrainement Progress\n",
    "ISBN : 2401064613\n",
    "Version e-book : 8,99€"
   ]
  },
  {
   "cell_type": "markdown",
   "metadata": {
    "slideshow": {
     "slide_type": "subslide"
    }
   },
   "source": [
    "#### Nathan\n",
    "\n",
    "Titre : Interros des Lycées Numérique Sciences Informatiques - Première, Terminale\n",
    "Auteur(s) :  Stéphane Pasquet (Auteur) MIKAEL LEOPOLDOFF \n",
    "Editeur : Nathan\n",
    "Collection: Interros des Lycées\n",
    "ISBN : 2091574651 (Première),  2091575437  (Terminale)"
   ]
  },
  {
   "cell_type": "markdown",
   "metadata": {
    "slideshow": {
     "slide_type": "slide"
    }
   },
   "source": [
    "### Approfondisssement en algo\n",
    "\n",
    "- Des petits livres \n",
    "    - Cormen\n",
    "    - Damphousse\n",
    "    \n",
    "- Des gros, voire très gros, livres\n",
    "    - Cormen _et al._\n",
    "    - Knuth"
   ]
  },
  {
   "cell_type": "markdown",
   "metadata": {
    "slideshow": {
     "slide_type": "slide"
    }
   },
   "source": [
    "### Approfondisssement en programmation Python\n",
    "\n",
    "- poly ou bouquin de Cordeau-Pointal (fr)\n",
    "- [ref python 3](https://docs.python.org/3/reference/index.html)  (eng)"
   ]
  },
  {
   "cell_type": "markdown",
   "metadata": {
    "slideshow": {
     "slide_type": "slide"
    }
   },
   "source": [
    "## Conclusion\n",
    "\n",
    "Bon courage et bon travail ce semestre !  "
   ]
  }
 ],
 "metadata": {
  "celltoolbar": "Diaporama",
  "kernelspec": {
   "display_name": "Python 3 (ipykernel)",
   "language": "python",
   "name": "python3"
  },
  "language_info": {
   "codemirror_mode": {
    "name": "ipython",
    "version": 3
   },
   "file_extension": ".py",
   "mimetype": "text/x-python",
   "name": "python",
   "nbconvert_exporter": "python",
   "pygments_lexer": "ipython3",
   "version": "3.9.6"
  },
  "latex_envs": {
   "LaTeX_envs_menu_present": true,
   "autoclose": false,
   "autocomplete": true,
   "bibliofile": "biblio.bib",
   "cite_by": "apalike",
   "current_citInitial": 1,
   "eqLabelWithNumbers": true,
   "eqNumInitial": 1,
   "hotkeys": {
    "equation": "Ctrl-E",
    "itemize": "Ctrl-I"
   },
   "labels_anchors": false,
   "latex_user_defs": false,
   "report_style_numbering": true,
   "user_envs_cfg": false
  },
  "latex_metadata": {
   "affiliation": " DALI. Universite de Perpignan Via Domitia. LIRMM. UMR 5506 : CNRS - Universite de Montpellier",
   "author": "Philippe Langlois",
   "title": "Algo et programmation version 2018"
  },
  "toc": {
   "base_numbering": 1,
   "nav_menu": {
    "height": "138px",
    "width": "252px"
   },
   "number_sections": true,
   "sideBar": true,
   "skip_h1_title": false,
   "title_cell": "Table of Contents",
   "title_sidebar": "Contents",
   "toc_cell": true,
   "toc_position": {
    "height": "calc(100% - 180px)",
    "left": "10px",
    "top": "150px",
    "width": "325.1875px"
   },
   "toc_section_display": "block",
   "toc_window_display": false
  }
 },
 "nbformat": 4,
 "nbformat_minor": 4
}
