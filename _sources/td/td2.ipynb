{
 "cells": [
  {
   "cell_type": "markdown",
   "id": "9d00be8b-09a4-45ae-a762-8ed97fe969a0",
   "metadata": {
    "tags": []
   },
   "source": [
    "(td:td2)=\n",
    "# Feuille 2\n",
    "\n",
    ":::{note}\n",
    "\n",
    "Feuille téléchargeable au format jupyter notebook (`.ipynb`) \n",
    "\n",
    ":::\n",
    "- Le symbole $\\blacksquare$ indique les exercices ou questions obligatoires. Commencez pas ceux-là.\n",
    "- Les symboles $\\star$ et $\\star\\star$ indiquent les exercices ou questions de difficulté relative plus importante."
   ]
  },
  {
   "cell_type": "markdown",
   "id": "796a0620-d0c0-43b9-acb9-e94e897a8522",
   "metadata": {},
   "source": [
    "**Focus**\n",
    "\n",
    "-   tableaux 1D et chaînes de caractères\n",
    "-   Fonctions avec arguments de ces types\n",
    "\n",
    "\n",
    "**Compétences**\n",
    "\n",
    "- utiliser une fonction prédéfinie ou existante\n",
    "- définir et écrire la spécification d'une fonction qui réalise un traitement décrit en français, ou qui résout un problème (simple) décrit en français  \n",
    "- définir et écrire des appels simples (tests unitaires) \n",
    "- définir et écrire l'implémentation d'une fonction associée à une spécification \n",
    "\n",
    "**Rappel de quelques consignes**\n",
    "\n",
    "- Relire celles de la [feuille 1](td:td1)\n",
    "- Les fonctions avec un ou plusieurs arguments de type tableau (`lst`,\n",
    "`str`) doivent expliciter la (ou les) _dimensions_ de chacun de ces\n",
    "arguments tableaux à l'aide des arguments supplémentaires nécessaires.\n",
    "\n",
    "Exemple.\n",
    "```python\n",
    "def sommer(t : List[float], n : int) -> float: \n",
    "    '''retourne la somme les valeurs du tableau t \n",
    "    de valeurs flottantes et de dimension n'''\n",
    "```"
   ]
  },
  {
   "cell_type": "markdown",
   "id": "9f7a824f-b792-4a3a-bb61-b8857cf4dc21",
   "metadata": {
    "tags": []
   },
   "source": [
    "## Objectif 10"
   ]
  },
  {
   "cell_type": "markdown",
   "id": "5920056b-5986-481e-9f94-02ff4052a65e",
   "metadata": {
    "jp-MarkdownHeadingCollapsed": true,
    "tags": []
   },
   "source": [
    "(exo:tablst)=\n",
    "### $\\blacksquare$ Exercice\n",
    "\n",
    "Soit `t` un tableau 1D\n",
    "d'entiers de taille `n` arbitraire. Voici quelques traitements\n",
    "classiques de ces tableaux et les fonctions associées.\n",
    "\n",
    "1.  `max()` qui calcule et retourne la valeur maximale d'un tableau 1D.\n",
    "\n",
    "2.  `max_ind_max()` qui calcule et retourne le plus grand indice de la\n",
    "    valeur maximale d'un tableau 1D.\n",
    "\n",
    "3.  `min_ind_max()` : une modification de la fonction précédente qui\n",
    "    calcule et retourne le plus petit indice de la valeur maximale d'un\n",
    "    tableau 1D.\n",
    "\n",
    "4.  `est_dans()` qui retourne un booléen indiquant si une valeur fournie\n",
    "    en argument est présente ou non dans le tableau.\n",
    "\n",
    "5.  `nb_occ()` qui calcule et retourne le nombre d'occurrences d'une\n",
    "    valeur donnée à partir d'un indice donné.\n",
    "\n",
    "    -   Proposer une fonction unique telle que le nombre d'occurrences\n",
    "        d'une valeur donnée dans le tableau complet soit calculé et\n",
    "        retourné par un appel au nombre minimal de paramètres.\n",
    "\n",
    "6.  `nb_occ_max()` qui calcule et retourne le nombre d'occurrences de la\n",
    "    valeur maximale d'un tableau.\n",
    "\n",
    "Pour chacune de ces fonctions, deux questions.\n",
    "\n",
    "1.   Proposer des solutions itératives alternatives (`for` vs.\n",
    "    `while`) lorsque qu'elles conduisent à des traitements différents.\n",
    "\n",
    "2.  Tests unitaires : expliciter différents tableaux `t` qui\n",
    "    correspondent, le cas échéant, à des cas particuliers de traitement.\n",
    "    Les tester pour valider vos solutions."
   ]
  },
  {
   "cell_type": "markdown",
   "id": "52322269-9e66-425c-9b59-a9d150286d38",
   "metadata": {
    "jp-MarkdownHeadingCollapsed": true,
    "tags": []
   },
   "source": [
    "### Exercice\n",
    "\n",
    "Ecrire un programme qui effectue les traitements\n",
    "successifs suivants :\n",
    "\n",
    "1.  définir les vecteurs de base ($i,j,k$) de taille 2 et 3 ainsi que\n",
    "    les vecteurs unités de même taille ;\n",
    "\n",
    "2.  coder la vérification l'orthogonalité ou non de vecteurs ;\n",
    "    l'appliquer aux vecteurs précédents ;\n",
    "\n",
    "3.  définir un vecteur de taille 5 dont les composantes sont des valeurs\n",
    "    entières aléatoires de l'intervalle $[-10,10]$ (on rappelle que\n",
    "    `import random` permet d'accéder à la fonction `random.randint` et\n",
    "    que la fonction `help` est notre amie);\n",
    "\n",
    "4.  définir les matrices identité en dimension 2 et 3;\n",
    "\n",
    "5.  pour la dimension 3, coder le produit matrice carrée $\\times$\n",
    "    vecteur appliqué aux matrices et vecteurs précédents ;\n",
    "\n",
    "    -   proposer une version où les vecteurs (entrée et résultat) sont\n",
    "        des vecteurs en ligne, puis une version où ces vecteurs sont des\n",
    "        vecteurs en colonne (conformément à la définition mathématique).\n",
    "\n",
    "6.  définir 2 matrices non carrées et compatibles avec leur produit\n",
    "    matriciel ; coder ce produit matriciel et le tester.\n",
    "\n",
    "Prendre soin à écrire des traitements les plus indépendants possibles\n",
    "des dimensions choisies dans l'énoncé."
   ]
  },
  {
   "cell_type": "markdown",
   "id": "7f4a089f-e68e-4153-886c-5e0fddfdbff4",
   "metadata": {
    "jp-MarkdownHeadingCollapsed": true,
    "tags": []
   },
   "source": [
    "### Exercice\n",
    "\n",
    "On reprend le contrôle de la validité du numéro de\n",
    "sécurité social de l'exercice 3, feuille de TP2, semestre 1.\n",
    "\n",
    "1.  Ecrire la vérification de la clé sous la forme d'une fonction\n",
    "    adaptée.\n",
    "\n",
    "2.  Appliquer cette fonction au traitement d'un nombre arbitraire de\n",
    "    numéros entrés au clavier."
   ]
  },
  {
   "cell_type": "markdown",
   "id": "e6de1ef3-ade0-4915-9d41-14c4fd21803b",
   "metadata": {
    "jp-MarkdownHeadingCollapsed": true,
    "tags": []
   },
   "source": [
    "### $\\blacksquare$ Exercice (extrait d'examen 2017 sans machine)\n",
    "\n",
    "1.  Que calcule la fonction `m` suivante ?\n",
    "\n",
    "```python\n",
    "    def m(s : str, n : int, c : str ) -> int: \n",
    "        ''' role : à vous de deviner :) '''\n",
    "        res = 0\n",
    "        for i in range(n): \n",
    "            if s[i] == c: \n",
    "                res = res + 1 \n",
    "        return res\n",
    "```\n",
    "       \n",
    "\n",
    "2.  Quel résultat produit l'exécution du code suivant ?\n",
    "\n",
    "```python\n",
    "    t = \"anticonstitutionnellement\" \n",
    "    nba = m(t, len(t), 'a') \n",
    "    nbe = m(t, len(t), 'e') \n",
    "    nbl = m(t, len(t), 'l') \n",
    "    print(len(t), nba, nbe, nbl)\n",
    "```\n",
    "       \n",
    "(que:mmavecm)=\n",
    "3.  Utiliser la fonction `m` pour écrire une fonction `mm` qui identifie\n",
    "    et retourne la lettre ayant le maximum d'occurrences dans une chaîne\n",
    "    de caractères de longueur `n`. Si plusieurs lettres conviennent,\n",
    "    l'algorithme identifiera celle dont l'occurrence est la plus tardive\n",
    "    dans `s`. Par exemple `'o'` dans `'toto'`.\n",
    "\n",
    "4.  Écrire le code qui utilise `mm` et fournit l'affichage suivant.\n",
    "\n",
    "```python\n",
    "    t est la lettre qui apparaît le plus ( 5 fois) dans anticonstitutionnellement \n",
    "    o est la lettre qui apparaît le plus ( 2 fois) dans toto\n",
    "```\n",
    "       \n",
    "\n",
    "5.  Modifier `mm` pour que dans le cas d'une occurrence maximale\n",
    "    multiple, l'algorithme identifie la lettre de première occurrence.\n",
    "    Par exemple, `'t'` dans `'toto'`.\n",
    "\n",
    "6.  Réécrire la fonction `mm` de la\n",
    "    [question](que:mmavecm)\n",
    "    sans utiliser la fonction `m`."
   ]
  },
  {
   "cell_type": "markdown",
   "id": "caa452b7-ccd2-4925-a7a5-400b223fe915",
   "metadata": {
    "tags": []
   },
   "source": [
    "### $\\blacksquare$ Exercice\n",
    "\n",
    "Un palindrome est un mot, ou un groupe de mots, dont l'ordre des lettres\n",
    "reste le même qu'on le lise de la droite vers la gauche ou inversement.\n",
    "Des exemples bien connus sont \"été\", \"kayak\", \"mon nom\", \"élu par cette\n",
    "crapule\". Ce dernier permet d'illustrer qu'on ne tient pas compte en\n",
    "général des accents, trémas, cédilles, ni des espaces. Dans cet exercice\n",
    ":\n",
    "\n",
    "-   un mot ou un groupe de mots est représenté par une chaîne de\n",
    "    caractères (`str`),\n",
    "\n",
    "-   ces caractères sont sans accent, tréma, ni cédille : \"ete\"\n",
    "\n",
    "-   les espaces sont considérés comme des caractères : ainsi \"elu par\n",
    "    cette crapule\" n'est pas un palindrome ici.\n",
    "\n",
    "1.  Ecrire une fonction qui teste si un argument est ou non un\n",
    "    palindrome et retourne le booléen correspondant.\n",
    "\n",
    "2.  Utiiser cette fonction pour tester un nombre arbitraire de mots\n",
    "    entrés au clavier."
   ]
  },
  {
   "cell_type": "markdown",
   "id": "9d0b7778-6d28-4542-8e4f-b9b6ae5fbac2",
   "metadata": {
    "tags": []
   },
   "source": [
    "### Exercice (Codage ASCII) \n",
    "\n",
    "L'ASCII est un codage de caractères qui\n",
    "définit 128 codes sur 7 bits. Chaque code correspond à un caractère :\n",
    "chiffres, lettres, symboles mathématiques et de ponctuation. En Python,\n",
    "la fonction `ord()` retourne le code ASCII d'un caractère fourni en\n",
    "argument. La fonction `chr()` retourne le caractère associé à un code\n",
    "donné.\n",
    "\n",
    "Ecrire un programme qui affiche la table des 128 codes ASCII."
   ]
  },
  {
   "cell_type": "markdown",
   "id": "22dbf534-a9d2-4103-a0c8-d7c72ca9a6cd",
   "metadata": {
    "tags": []
   },
   "source": [
    "### Exercice \n",
    "\n",
    "Ecrire une fonction qui transforme un tableau de 0 et de\n",
    "1 de longueur arbitraire, en l'entier de base 10 qui est codé par ce\n",
    "tableau en représentation de position en base 2 :\n",
    "\n",
    "$$\n",
    "(b_n b_{n-1} \\cdots b_1 b_0)_2 = (\\sum_{i=0}^n b_i \\times\n",
    "  2^i)_{10} \\text{ avec } b_i \\in \\{0, 1\\}.\n",
    "$$"
   ]
  },
  {
   "cell_type": "markdown",
   "id": "69b65a6f-fc29-4262-b117-dd457b8b971d",
   "metadata": {
    "tags": []
   },
   "source": [
    "## Objectif 20\n",
    "\n",
    "### Exercice\n",
    "\n",
    "Les fonctions suivantes seront définies et utilisées dans\n",
    "un programme (principal) qui définit des tableaux que vous choisirez\n",
    "pour vérifier la validité de vos traitements. Vous choisirez la\n",
    "structure de donnée la plus adaptée à ces traitements.\n",
    "\n",
    "1.  Ecrire une fonction `est_egal()` qui réalise la comparaison entre\n",
    "    deux tableaux de dimension 1 et retourne le booléen correspondant.\n",
    "    On convient que deux tableaux sont égaux si leurs tailles sont\n",
    "    égales et si leurs valeurs sont égales deux à deux.\n",
    "\n",
    "2.  Ecrire une fonction `nb_communs()` qui retourne le nombre de valeurs\n",
    "    communes entre deux tableaux de dimension 1.\n",
    "\n",
    "3.  Reprendre les 2 questions précédentes pour des tableaux 2D.\n",
    "    L'égalité entre tableaux multi-dimensionnels suppose l'égalité des\n",
    "    dimensions, des tailles deux à deux dans chaque dimension, et des\n",
    "    valeurs deux à deux pour toutes les valeurs du tableau."
   ]
  },
  {
   "cell_type": "markdown",
   "id": "cb391fc5-37af-40cf-b808-151d8e76ddee",
   "metadata": {
    "tags": []
   },
   "source": [
    "### Exercice (Algorithme de type Monte-Carlo)\n",
    "\n",
    "On va calculer une approximation de $\\pi$ de façon probabiliste.\n",
    "\n",
    "1.  Ecrire une fonction qui vérifie si un point du plan défini par ses\n",
    "    coordonnées $(x,y)$ appartient à un disque de centre $(a,b)$ et de\n",
    "    rayon $r$.  \n",
    "    Rappel. L'équation du cercle de mêmes caractéristiques est :\n",
    "    $(x-a)^2 + (y-b)^2 = r^2$.\n",
    "\n",
    "2.  Identifier dans la documentation du module python `random` la\n",
    "    fonction adaptée à la génération d'un point aléatoire dans le carré\n",
    "    $[-1, 1] \\times [-1, 1]$.\n",
    "\n",
    "3.  Soit $\\mathcal{C}$ le cercle de centre 0 et de rayon 1. Ecrire une\n",
    "    programme qui génère $n$ points aléatoires situés dans le carré\n",
    "    précédent et calcule le ratio entre les points situés dans le cercle\n",
    "    $\\mathcal{C}$ et $n$.\n",
    "\n",
    "4.  Faire varier $n$ et observer l'évolution de ce ratio.\n",
    "\n",
    "5.  ($\\star$) En déduire une approximation de $\\pi$."
   ]
  },
  {
   "cell_type": "markdown",
   "id": "3e7efb68-c70e-4658-850b-76c0e49f9655",
   "metadata": {
    "tags": []
   },
   "source": [
    "### Exercice (Une première cryptanalyse)\n",
    "\n",
    "*L'analyse fréquentielle, découverte au IXe siècle par Al-Kindi, examine\n",
    "les répétitions des lettres d'un message chiffré afin de trouver la clé.\n",
    "Elle est inefficace contre les chiffrements modernes tels que DES, RSA.\n",
    "Elle est principalement utilisée contre les chiffrements\n",
    "mono-alphabétiques qui substituent chaque lettre par une autre et qui\n",
    "présentent un biais statistique.* (wikipedia).  \n",
    "\n",
    "L'analyse de la fréquence d'apparition des lettres dans les écrits d'une\n",
    "langue donnée permet donc de déchiffrer les messages cryptés par\n",
    "certains chiffrements simples. En se limitant aux textes en francais et\n",
    "écrits en minuscules, nous allons effectuer les deux dernières étapes du\n",
    "processus suivant.\n",
    "\n",
    "-   Etape 1 : Estimer la fréquence moyenne d'apparition en français des\n",
    "    lettres de l'alphabet. Ici nous utiliserons des résultats existants.\n",
    "\n",
    "-   Etape 2 : Appliquer un chiffrement de César pour crypter un message\n",
    "    arbitraire.\n",
    "\n",
    "-   Etape 3 : Effectuer l'analyse fréquentielle du message ainsi chiffré\n",
    "    pour (tenter de) retrouver le message d'origine.\n",
    "\n",
    "1.  Etape 2. Le chiffrement de César est une technique simple de\n",
    "    décalage régulier (permutation circulaire) de chaque lettre de\n",
    "    l'alphabet. La longueur de ce décalage – distance entre la position\n",
    "    d'une lettre décalée et sa position d'origine ($\\le$ 26) – est la\n",
    "    *clé* de ce chiffrement.\n",
    "\n",
    "    1.  Ecrire une fonction `cesar()` qui retourne le chiffré d'un\n",
    "        message arbitraire (chaine de caractères) pour une clé\n",
    "        arbitraire.\n",
    "\n",
    "    2.  Ecrire une fonction `decesar()` qui retourne le message\n",
    "        d'origine connaissant la clé de chiffrement.\n",
    "\n",
    "    (que:cesar)=\n",
    "    3.  Valider vos fonctions avec le chiffrement suivant de clé 5.\n",
    "        Faire d'autres essais et utiliser aussi les ressources\n",
    "        disponibles sur le web.  \n",
    "\n",
    "        |                 |     |                                       |\n",
    "        |:----------------|:---:|:--------------------------------------|\n",
    "        | message clair   |  :  | `UNIVERSITE DE PERPIGNAN VIA DOMITIA` |\n",
    "        | message chiffré |  :  | `ZSNAJWXNYJ IJ UJWUNLSFS ANF ITRNYNF` |\n",
    "\n",
    "2.  Etape 3. Déchiffrement d'un texte chiffré de clé inconnue. La\n",
    "    fréquence moyenne d'apparition des lettres de l'alphabet dans un\n",
    "    texte en français est [par exemple donné dans](https://fr.wikipedia.org/wiki/Analyse_fréquentielle#Fréquence_d'apparition)\n",
    "\n",
    "    1.  Proposer une solution pour déchiffrer un message que l'on sait\n",
    "        crypté par un chiffrement de César mais de clé inconnue.\n",
    "\n",
    "    2.  Coder cette solution et l'appliquer aux messages de [la\n",
    "        question](que:cesar).\n",
    "\n",
    "    3.  Evaluer comment votre solution \"passe à l'échelle\", c'est-à-dire\n",
    "        comment son efficacité évolue pour des textes de tailles qui\n",
    "        augmentent. Proposer des optimisations."
   ]
  },
  {
   "cell_type": "markdown",
   "id": "66b4a9d6-6b36-479f-a01a-15a936714c76",
   "metadata": {
    "tags": []
   },
   "source": [
    "### Exercice ($\\star$) \n",
    "\n",
    "Ecrire un programme qui trouve le plus petit\n",
    "entier non nul tel que les chiffres de ce nombre s'inversent quand on le\n",
    "multiplie par 9."
   ]
  }
 ],
 "metadata": {
  "kernelspec": {
   "display_name": "Python 3 (ipykernel)",
   "language": "python",
   "name": "python3"
  },
  "language_info": {
   "codemirror_mode": {
    "name": "ipython",
    "version": 3
   },
   "file_extension": ".py",
   "mimetype": "text/x-python",
   "name": "python",
   "nbconvert_exporter": "python",
   "pygments_lexer": "ipython3",
   "version": "3.9.6"
  }
 },
 "nbformat": 4,
 "nbformat_minor": 5
}
