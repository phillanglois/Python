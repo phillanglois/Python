{
 "cells": [
  {
   "cell_type": "markdown",
   "id": "606f3dae-00c0-48a2-afe9-ecf31b74ef77",
   "metadata": {},
   "source": [
    "(td:td5)= \n",
    "# Feuille 5\n",
    "\n",
    "-   Le symbole $\\blacksquare$ indique les exercices ou questions\n",
    "    obligatoires. Commencez pas ceux-là.\n",
    "-   Les symboles $\\star$ et $\\star\\star$ indiquent les exercices ou\n",
    "    questions de difficulté relative plus importante.\n",
    "\n",
    "**Focus**\n",
    "\n",
    "-   récursivité et notions associées : arbre et pile des appels,\n",
    "    environnements\n",
    "-   recherche dichotomique\n",
    "\n",
    "**Compétences**\n",
    "\n",
    "-   Savoir conduire une approche diviser pour régner et en déduire une\n",
    "    solution récursive : application à des exemples calculatoires\n",
    "    simples – comme ceux vus en cours, *e.g*. factorielles,\n",
    "    exponentiation entière, exponentiation rapide.\n",
    "-   Savoir identifier la (ou les) terminaison, la récursion et\n",
    "    l'initialisation d'un traitement avec un algorithme récursif :\n",
    "    application à des exemples simples – comme ceux vus en cours, *e.g*.\n",
    "    factorielles, exponentiation entière, exponentiation rapide.\n",
    "-   Savoir exprimer la complexité d'un algorithme récursif\n",
    "-   Savoir écrire sous la forme d'une fonction de même signature les\n",
    "    versions itérative et récursive d'un traitement calculatoire simple\n",
    "-   Construire la pile des appels et son évolution lors d'un traitement\n",
    "    récursif"
   ]
  },
  {
   "cell_type": "markdown",
   "id": "151b6034-e3ae-4af6-ac3b-d3cb9ae76675",
   "metadata": {},
   "source": [
    "## Objectif 10"
   ]
  },
  {
   "cell_type": "markdown",
   "id": "4eab4787-a242-4147-846e-ff4f91264cb7",
   "metadata": {},
   "source": [
    "(exo:fibo)= \n",
    "### $\\blacksquare$ Exercice.\n",
    "\n",
    "On rappelle la suite de Fibonacci :\n",
    "\n",
    "$F(0)=F(1)=1$ et $F(n+1) = F(n)+F(n-1)$.\n",
    "\n",
    "Elle permet entre autres de modéliser l'évolution d'une population de\n",
    "lapins.\n",
    "\n",
    "1.  Ecrire une version itérative du calcul de $F(n)$ et calculer les\n",
    "    premières valeurs de $F$ pour se convaincre qu'elles augmentent\n",
    "    rapidement."
   ]
  },
  {
   "cell_type": "markdown",
   "id": "0c73c913-02f6-445c-8895-0a57246511be",
   "metadata": {},
   "source": [
    "2.  Rappeler l'algorithme récursif du calcul de $F(n)$."
   ]
  },
  {
   "cell_type": "markdown",
   "id": "169387a3-c7db-4bc9-bc9d-b0d41293c326",
   "metadata": {},
   "source": [
    "3.  Expliciter l'arbre des appels récursifs du calcul de $F(4)$ puis de\n",
    "    $F(5)$ — prévoir une feuille A4 en largeur. Dénombrer le nombre des\n",
    "    appels nécessaires dans les 2 cas."
   ]
  },
  {
   "cell_type": "markdown",
   "id": "fff2f0a9-97b8-4bc0-8fce-f04e6c56da0b",
   "metadata": {},
   "source": [
    "4.  Détailler l'exécution du calcul de $F(3)$ en explicitant l'évolution\n",
    "    de la pile des appels.\n",
    "\n",
    "`{image} ./fig/FibonacciRabbit.png :align: center :alt: <https://commons.wikimedia.org/w/index.php?curid=11104228>`"
   ]
  },
  {
   "cell_type": "markdown",
   "id": "5640c188-3c14-43dd-b0ef-c6575528791a",
   "metadata": {},
   "source": [
    "(exo:sumrec)= \n",
    "### $\\blacksquare$ Exercice.\n",
    "\n",
    "1.  Écrire puis coder une version itérative des calculs suivants.\n",
    "    1.  la somme $s(n)$ des $n$ premiers entiers\n",
    "\n",
    "    2.  la valeur $u(n)= 2^n$ pour $n>0$"
   ]
  },
  {
   "cell_type": "markdown",
   "id": "0461b26a-54c3-4bfd-9827-c1bafbbf5170",
   "metadata": {},
   "source": [
    "2.  Écrire puis coder une version récursive des calculs suivants.\n",
    "\n",
    "    1.  la somme $s(n)$ des $n$ premiers entiers\n",
    "\n",
    "    2.  la valeur $u(n)= 2^n$ pour $n>0$"
   ]
  },
  {
   "cell_type": "markdown",
   "id": "57aa4569-7bbe-477f-a2f5-5e94bbfec7fe",
   "metadata": {},
   "source": [
    "3.  Expliciter l'arbre des appels et les calculs associés lors de\n",
    "    l'évaluation de $s(4)$. Combien d'appels récursifs à $s$ sont\n",
    "    nécessaires ?"
   ]
  },
  {
   "cell_type": "markdown",
   "id": "f1006701-cf1d-4795-a5ef-eb8fa69cf1b3",
   "metadata": {},
   "source": [
    "4.  Même question pour $u(5)$."
   ]
  },
  {
   "cell_type": "markdown",
   "id": "19080c3b-df46-4b25-8291-43852d4e4f06",
   "metadata": {},
   "source": [
    "(exo:expo)= ### \n",
    "$\\blacksquare$ Exercice.\n",
    "\n",
    "On souhaite calculer la valeur de $x^n$ où $n$ et un entier positif, et\n",
    "$x$ un flottant. On rappelle que $x^0 = 1.0$.\n",
    "\n",
    "1.  1.  Écrire un algorithme itératif qui calcule $x^n$.\n",
    "\n",
    "    2.  Combien de multiplications sont nécessaires à ce calcul ?"
   ]
  },
  {
   "cell_type": "markdown",
   "id": "57047f54-6905-4052-97f2-6afff5dcc1d5",
   "metadata": {},
   "source": [
    "2.  1.  Utiliser la propriété $x^p = x \\times x^{p-1}$ pour écrire un\n",
    "        algorithme récursif qui calcule $x^n$.\n",
    "\n",
    "    2.  Combien de multiplications sont nécessaires à ce calcul ?"
   ]
  },
  {
   "cell_type": "markdown",
   "id": "7160d11b-b2a7-4f00-890b-253d6a862029",
   "metadata": {},
   "source": [
    "3.  1.  Utiliser la propriété $x^p \\times x^p = x^{2p}$ pour écrire un\n",
    "        algorithme récursif qui calcule $x^n$. On pourra utiliser\n",
    "        l'opérateur python `divmod`.\n",
    "\n",
    "    2.  Combien de multiplications sont nécessaires à ce calcul pour\n",
    "        $n=2, 4, 8, 16, \\dots, 2^p$ ?"
   ]
  },
  {
   "cell_type": "markdown",
   "id": "1bda94b0-b721-462a-90f6-0b90262606b4",
   "metadata": {},
   "source": [
    "4.  Que pensez vous de ces deux versions récursives ?"
   ]
  },
  {
   "cell_type": "markdown",
   "id": "00a5b6d5-044d-4a94-85ce-a2a37e24bba0",
   "metadata": {},
   "source": [
    "5.  Dans ces deux cas, compter le nombre d'appels récursifs pour les\n",
    "    valeurs suivantes de $n = 4, 7, 8, 9, 63, 64, 65$."
   ]
  },
  {
   "cell_type": "markdown",
   "id": "3ac427f9-c6d3-42cd-af2c-2adbba0a9fd7",
   "metadata": {},
   "source": [
    "(exo:forrec)= \n",
    "### $\\blacksquare\\blacksquare$ Exercice. \n",
    "**Si il n'y avait qu'un seul exercice à faire, c'est celui-ci !**.  \n",
    "\n",
    "1.  Donner la forme récursive qui produit le même traitement que celui\n",
    "    d'une boucle for qui (parcourt et) affiche les indices entiers\n",
    "    successifs de 11 à 1."
   ]
  },
  {
   "cell_type": "markdown",
   "id": "d87209dc-a9cc-4cc9-9d94-a55b1309c8bd",
   "metadata": {},
   "source": [
    "2.  Même question pour obtenir l'affichage : 1, 2, …, 10, 11."
   ]
  },
  {
   "cell_type": "markdown",
   "id": "ccc04d99-6ce5-49b8-b6b7-c425dd55a7f5",
   "metadata": {},
   "source": [
    "(exo:dicho)= \n",
    "### $\\blacksquare$ Exercice.\n",
    "\n",
    "1.  Écrire un algorithme itératif qui calcule un booléen indiquant si un\n",
    "    tableau d'entiers **donné trié** par ordre croissant contient une\n",
    "    valeur donnée. La recherche sera effectuée par dichotomie."
   ]
  },
  {
   "cell_type": "markdown",
   "id": "45b295b8-70db-484e-ab8b-3400b8695fb1",
   "metadata": {},
   "source": [
    "2.  Écrire une fonction récursive `trouve` (c'est-à-dire son en-tête,\n",
    "    puis l'appel puis le corps) qui retourne le booléen précédent en\n",
    "    appliquant aussi une recherche par dichotomie."
   ]
  },
  {
   "cell_type": "markdown",
   "id": "a7a5194b-1ca9-413e-a35a-de088af99058",
   "metadata": {},
   "source": [
    "(exo:dicho2)= \n",
    "### $\\blacksquare$ Exercice.\n",
    "\n",
    "1.  Dérouler l'algorithme de recherche dichotomique (version itérative)\n",
    "    pour rechercher la valeur 3 dans la tableau \\[0,1,2,3,4,5,6,7,8,9\\]."
   ]
  },
  {
   "cell_type": "markdown",
   "id": "e02f4790-cc8d-441a-a39f-9c7fe33e3ef1",
   "metadata": {},
   "source": [
    "2.  Donner une valeur à rechercher qui minimise le nombre d'itérations\n",
    "    de la recherche."
   ]
  },
  {
   "cell_type": "markdown",
   "id": "347bf106-75a8-4a11-b377-72ed7778e6d1",
   "metadata": {},
   "source": [
    "3.  Même question pour celle qui maximise ce nombre."
   ]
  },
  {
   "cell_type": "markdown",
   "id": "70737a05-c895-44cb-9a99-2fc4f51451fe",
   "metadata": {},
   "source": [
    "4.  Coder ces traitements et vérifier votre analyse."
   ]
  },
  {
   "cell_type": "markdown",
   "id": "371eaca2-00ea-4384-aabd-6166d4ebb337",
   "metadata": {},
   "source": [
    "## Objectif 20"
   ]
  },
  {
   "cell_type": "markdown",
   "id": "1c4296a9-97bf-44ae-8488-e822afc84789",
   "metadata": {},
   "source": [
    "(exo:fibo2)= \n",
    "### Exercice. Fibonacci (encore).\n",
    "\n",
    "1.  Tracer les appels successifs en ajoutant un `print`."
   ]
  },
  {
   "cell_type": "markdown",
   "id": "d9d0eb60-b4a6-481e-af2c-ec9830633403",
   "metadata": {},
   "source": [
    "2.  Tester pour `fibo(5)`."
   ]
  },
  {
   "cell_type": "markdown",
   "id": "a2d8a468-35a6-41bd-b215-eecc1ccab3e5",
   "metadata": {},
   "source": [
    "(exo:exporapide2)= \n",
    "### Exercice. Exponentiation rapide (encore).\n",
    "\n",
    "1.  Tracer les appels successifs en ajoutant un `print`"
   ]
  },
  {
   "cell_type": "markdown",
   "id": "0d0b1c2a-24bd-4154-b84b-77366bbd167c",
   "metadata": {},
   "source": [
    "2.  Quels sont appels à `expo(x,n)` évités par `expo_rapide(x,n)` ?\n",
    "    Commencer avec des valeurs de $n$ arbitrairement choisies."
   ]
  },
  {
   "cell_type": "markdown",
   "id": "b00f1a6a-b49e-4a26-82b8-78908a45b311",
   "metadata": {},
   "source": [
    "(exo:syracuse)= \n",
    "### $\\star$ Exercice.\n",
    "\n",
    "La suite de Syracuse $s$ d'un nombre $N$ donné est définie de façon\n",
    "récursive comme suit.\n",
    "\n",
    "On commence avec $s(0) = N$, puis :\n",
    "\n",
    "-   $s(n+1) = s(n)/2$, si $s(n)$ est pair,  \n",
    "-   $s(n+1) = 3s(n)+1$, si $s(n)$ est impair.\n",
    "\n",
    "Ainsi définie, $s$ est une suite infinie de valeurs entières construites\n",
    "à partir de la valeur de départ $N$.\n",
    "\n",
    "1.  A la main pour commencer.\n",
    "\n",
    "    1.  Calculer à la main les valeurs de la suite pour les valeurs de\n",
    "        départ $N = 4, 2, 1$. Qu'en déduire ?\n",
    "\n",
    "    2.  Calculer à la main les valeurs de la suite pour les valeurs de\n",
    "        départ $N = 3, 5, 6, 7, 8, 16, 32$. Il peut être utile de\n",
    "        représenter les valeurs obtenues sous la forme d'un tableau où\n",
    "        chaque colonne (ou ligne) à la forme $N u_1 u_2 \\dots u_n \\dots$\n",
    "        où les $u_i$ sont les valeurs de la suite pour la valeur de\n",
    "        départ $N$. Qu'en déduire et en particulier que penser de la\n",
    "        terminaison de cette suite ?"
   ]
  },
  {
   "cell_type": "markdown",
   "id": "c2623820-7227-4d6d-9667-f09cc68a0337",
   "metadata": {},
   "source": [
    "2.  La coder de façon récursive et observer son comportement pour l'une\n",
    "    de ces valeurs de $N$. Attention !!!"
   ]
  },
  {
   "cell_type": "markdown",
   "id": "72403642-a695-4d19-ad08-3e15a97af2a8",
   "metadata": {},
   "source": [
    "3.  Terminaison : on arrête la suite $s(n)$ quand on rencontre $n = 1$\n",
    "    (c'est-à-dire $s(2)$). D'après la conjecture de Collatz, cette\n",
    "    valeur est rencontrée quelque soit le terme de départ $N$.\n",
    "\n",
    "    1.  Compléter votre code précédent avec cette condition d'arrêt.\n",
    "\n",
    "    2.  Compléter votre code précédent avec l'affichage de chaque valeur\n",
    "        calculée avant la terminaison."
   ]
  },
  {
   "cell_type": "markdown",
   "id": "83485ac8-cb8a-41c1-a3aa-e4a1a880e9b6",
   "metadata": {},
   "source": [
    "4.  Écrire des fonctions qui calculent les notions suivantes (source\n",
    "    Wikipédia) :\n",
    "\n",
    "    1.  le temps de vol qui est le plus petit indice $n$ tel que\n",
    "        $s(n) = 1$, *i.e.* jusqu'à la terminaison.\n",
    "\n",
    "    2.  le temps de vol en altitude qui est le plus petit indice $n$ tel\n",
    "        que $s(n) \\le N$.\n",
    "\n",
    "    3.  l'altitude maximale qui est la valeur maximale $s(n)$ de la\n",
    "        suite."
   ]
  },
  {
   "cell_type": "markdown",
   "id": "dc4814c1-96e2-465b-9b16-eafd3fe084ab",
   "metadata": {},
   "source": [
    "5.  Coder ces fonctions et proposer des graphiques instructifs."
   ]
  },
  {
   "cell_type": "markdown",
   "id": "6d584fd1-c45e-47d0-8450-07e1990dd049",
   "metadata": {},
   "source": [
    "6.  Coder ces fonctions et proposer des graphiques instructifs."
   ]
  },
  {
   "cell_type": "markdown",
   "id": "bfcbdf6f-f753-4860-9325-1a6e2bdf6d9a",
   "metadata": {},
   "source": [
    "7.  Coder le calcul avec terminaison de façon itérative."
   ]
  },
  {
   "cell_type": "markdown",
   "id": "43017208-557b-4225-b51c-36f36591cba8",
   "metadata": {},
   "source": [
    "(exo:euclide2)= \n",
    "### $\\star$ Exercice. (Euclide encore)\n",
    "\n",
    "Wikipédia décrit l'algorithme d'Euclide pour calculer le pgcd de deux\n",
    "entiers ($a > b$) comme suit.\n",
    "\n",
    "> *Soient deux entiers naturels a et b, dont on cherche le PGCD. Le cas\n",
    "> où a ou b est nul ne nécessite aucun algorithme ; on l'exclut. Une\n",
    "> suite d'entiers $(a_n)_n$ est définie par récurrence de pas 2, plus\n",
    "> précisément par divisions euclidiennes successives ; la suite est\n",
    "> initialisée par $a_0 = a, a_1 = b$, puis propagée par la règle de\n",
    "> récurrence : tant que $a_{n+1}$ est non nul, $a_{n+2}$ est défini\n",
    "> comme le reste de la division euclidienne de $a_n$ par $a_{n+1}$.*\n",
    ">\n",
    "> On commence donc par calculer le reste de la division de a par b,\n",
    "> qu'on note r ; puis on remplace a par b, puis b par r, et on\n",
    "> ré-applique le procédé depuis le début.\n",
    ">\n",
    "> On obtient ainsi une suite, qui vaut 0 à un certain rang ; le PGCD\n",
    "> cherché est le terme précédent de la suite.\n",
    "\n",
    "1.  Ecrire (à nouveau) un algorithme itératif qui calcule ce pgcd."
   ]
  },
  {
   "cell_type": "markdown",
   "id": "6ec00f72-6ad8-4066-93a6-d320517e26a3",
   "metadata": {},
   "source": [
    "2.  Écrire un algorithme récursif qui calcule ce pgcd."
   ]
  },
  {
   "cell_type": "markdown",
   "id": "3f4b5d93-6b8d-452a-9eb8-0302e832317d",
   "metadata": {},
   "source": [
    "3.  Proposer une formulation synthétique de l'algorithme d'Euclide (qui\n",
    "    remplacerait avantageusement l'extrait de Wikipédia)."
   ]
  },
  {
   "cell_type": "markdown",
   "id": "35190ab5-e017-4c3f-bc07-9221489ecbea",
   "metadata": {},
   "source": [
    "4.  Profiter de la page Wikipédia pour lire comment sont prouvées la\n",
    "    correction et la terminaison l'algorithme d'Euclide, ainsi que sa\n",
    "    complexité (problème beaucoup plus difficile)."
   ]
  },
  {
   "cell_type": "markdown",
   "id": "4dae4aae-0ce5-4701-b8f5-24f16ff834e8",
   "metadata": {},
   "source": [
    "(exo:addint)= \n",
    "### $\\star$ Exercice.\n",
    "\n",
    "On souhaite additionner deux entiers de $p$ chiffres décimaux. On\n",
    "dispose pour cela d'une fonction `add(c1,c2)` qui calcule et retourne un\n",
    "couple `(r,s)` où :\n",
    "\n",
    "-   `c1, c2, s` sont des entiers compris entre 0 et 9,\n",
    "\n",
    "-   `r` est égal à 0 ou à 1, et\n",
    "\n",
    "-   `c1 + c2 = 10 r + c`.\n",
    "\n",
    "Ainsi `r` est la retenue de l'addition des chiffres `c1` et `c2` et `s`\n",
    "est la valeur “des unités” de cette somme. Par exemple : `add(2,3)`\n",
    "retourne `(0,5)` et `add(8,5)` retourne `(1,3)`.\n",
    "\n",
    "On représente un entier $n$ à $p$ chiffres décimaux par un tableau $N$\n",
    "de longueur $p$. On peut choisir par exemple\n",
    "$n = \\sum_{i=0}^{p-1} N[i]\\cdot 10^i$. Dit plus simplement dans ce cas,\n",
    "le dernier chiffre de $n$ (celui des unités) est stocké en position 0\n",
    "dans le tableau $N$, l'avant-dernier (celui des dizaines) en position 1,\n",
    "… — et on notera qu'il est ainsi plaisant que les tableaux soient\n",
    "indicés à partir de 0. Il est aussi possible de choisir une écriture\n",
    "plus classique où les chiffres sont stockés dans l'ordre des puissances\n",
    "décroissantes (numération de position habituelle).\n",
    "\n",
    "1.  Utiliser la fonction `add` pour écrire un algorithme qui calcule la\n",
    "    somme de deux entiers $n1$ et $n2$ respectivement représentés par\n",
    "    les tableaux $N1$ et $N2$. Le résultat $s = n1+n2$ sera aussi\n",
    "    représenté par un tableau adapté."
   ]
  },
  {
   "cell_type": "markdown",
   "id": "b67c6967-5768-4dbd-bfa3-758bfa773f02",
   "metadata": {},
   "source": [
    "2.  Soient $n1 = 1234$, $n2=4567$ et $n3=9876$. Dérouler l'algorithme\n",
    "    pour les deux calculs $n1+n2$ et $n1+n3$."
   ]
  },
  {
   "cell_type": "markdown",
   "id": "9f3108e2-962f-47c7-9b3c-f7e9a2275d29",
   "metadata": {},
   "source": [
    "3.  Coder et valider ces fonctions."
   ]
  },
  {
   "cell_type": "code",
   "execution_count": null,
   "id": "b8e9f327-62f7-4544-8a7f-cfc4228b9c2d",
   "metadata": {},
   "outputs": [],
   "source": []
  }
 ],
 "metadata": {
  "kernelspec": {
   "display_name": "Python 3 (ipykernel)",
   "language": "python",
   "name": "python3"
  },
  "language_info": {
   "codemirror_mode": {
    "name": "ipython",
    "version": 3
   },
   "file_extension": ".py",
   "mimetype": "text/x-python",
   "name": "python",
   "nbconvert_exporter": "python",
   "pygments_lexer": "ipython3",
   "version": "3.9.6"
  }
 },
 "nbformat": 4,
 "nbformat_minor": 5
}
