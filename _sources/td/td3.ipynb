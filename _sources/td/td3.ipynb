{
 "cells": [
  {
   "cell_type": "markdown",
   "id": "5b6e3fa5-2ecb-4d38-9ffc-754f6d81c3bc",
   "metadata": {
    "tags": []
   },
   "source": [
    "(td:td3)=\n",
    "# Feuille 3\n",
    "\n",
    ":::{note}\n",
    "\n",
    "Feuille téléchargeable au format jupyter notebook (`.ipynb`) \n",
    "\n",
    ":::\n",
    "\n",
    "- Le symbole $\\blacksquare$ indique les exercices ou questions obligatoires. Commencez pas ceux-là.\n",
    "- Les symboles $\\star$ et $\\star\\star$ indiquent les exercices ou questions de difficulté relative plus importante."
   ]
  },
  {
   "cell_type": "markdown",
   "id": "9aa3dd44-e43b-4816-8cb5-0398ee0b2c90",
   "metadata": {
    "tags": []
   },
   "source": [
    "**Focus**\n",
    "\n",
    "-   tableaux 2D et traitements associés : images, matrices\n",
    "-   boucles imbriquées\n",
    "-   fonctions avec tableaux multi-dimensionnels\n",
    "\n",
    "**Compétences**\n",
    "\n",
    "- Savoir représenter un tableau multidimensionnel comme une liste de listes : initialisation, accès aux valeurs, à des tranches de valeurs \n",
    "- Savoir exploiter une structure de contrôle composée de type boucles imbriquées indépendantes et dépendantes : intérêt, exemples de parcours simple ou conditionnel, décompte des itérations.\n",
    "- Savoir définir et écrire une spécification de fonction avec des paramètres de type tableau  \n",
    "- Identifier les cas particuliers liés à la structure de tableau : tableau de dimension 0, tableau vide\n",
    "\n",
    "**Rappel de quelques consignes**\n",
    "\n",
    "- Relire celles des [feuille 1](td:td1) et [feuille 2](td:td2)\n",
    "- Les fonctions avec un ou plusieurs arguments de type tableau (`lst`,\n",
    "`str`) doivent expliciter la (ou les) _dimensions_ de chacun de ces\n",
    "arguments tableaux à l'aide des arguments supplémentaires nécessaires."
   ]
  },
  {
   "cell_type": "markdown",
   "id": "1bca01fc-206e-42ef-bf72-3f0f5e791a18",
   "metadata": {},
   "source": [
    "## Objectif 10\n",
    "\n",
    ":::{important}\n",
    "\n",
    "Pour tous les exercices, il est fortement conseillé de suivre les étapes suivantes. \n",
    "\n",
    "1. Ecrire d'_un algorithme_ qui répond à la question. Cette étape peut être optionnelle selon votre niveau.\n",
    "2. Ecrire cette solution sous la forme d'un _appel de fonction_ -- ce qui suppose l'écriture préalable de la fonction.\n",
    "3. Valider la fonction avec quelques _tests unitaires_ bien choisis. Les ES avec des fichiers sont utiles à cet effet.\n",
    "\n",
    ":::"
   ]
  },
  {
   "cell_type": "markdown",
   "id": "7ddcc440-e0dc-4d8c-ae03-6d3650408a97",
   "metadata": {},
   "source": [
    "### $\\blacksquare$ Exercice.\n",
    "\n",
    "1.  Écrire un algorithme qui calcule les tables de multiplications entre\n",
    "    entiers compris en 1 et 10, les stocke dans un tableau 2D puis les\n",
    "    affiche. Ainsi la case $(i,j)$ du tableau contient le résultat de\n",
    "    $i \\times j$."
   ]
  },
  {
   "cell_type": "markdown",
   "id": "f17d3e11-9db9-440f-a329-b56b568a722f",
   "metadata": {},
   "source": [
    "(exo:verif)=\n",
    "### $\\blacksquare$ Exercice.\n",
    "\n",
    "Ecrire les algorithmes de vérification suivants pour une matrice $M$\n",
    "donnée, carrée de taille $n$ et à valeurs flottantes.\n",
    "\n",
    "1.  $M$ est diagonale ?\n",
    "\n",
    "2.  $M$ est symétrique ?\n",
    "\n",
    "3.  $M$ est égale à l'identité ?\n",
    "\n",
    "4.  $M$ est l'inverse d'une autre matrice donnée $N$ ?"
   ]
  },
  {
   "cell_type": "markdown",
   "id": "52c1060a-f1d0-45b4-9572-dfab58b27057",
   "metadata": {},
   "source": [
    "(exo:ttmt)=\n",
    "### $\\blacksquare$ Exercice.\n",
    "\n",
    "1.  Ecrire les algorithmes des traitements suivants pour une\n",
    "    matrice $M$ donnée, carrée de taille $n$ et à valeurs flottantes.\n",
    "\n",
    "    1.  Générer, puis afficher, la matrice transposée de $M$.\n",
    "\n",
    "    2.  Générer la matrice symétrique à partir de la partie triangulaire\n",
    "        supérieure de $M$.\n",
    "\n",
    "    3.  Calculer les opérations matricielles suivantes en veillant à la\n",
    "        cohérence des dimensions :\n",
    "\n",
    "        1.  addition de matrices : $A+B$,\n",
    "\n",
    "        2.  produit matrice-vecteur : $A \\cdot U$,\n",
    "\n",
    "        3.  produit de matrices : $A \\times B$.\n",
    "\n",
    "2.  Compter le nombre d'opérations arithmétiques de ces traitements.\n",
    "    Exprimer ce nombre comme une fonction de $n$. Qu'en déduire si la\n",
    "    taille $n$ est doublée ?"
   ]
  },
  {
   "cell_type": "markdown",
   "id": "44106c7c-c1b2-4301-b805-593660a91c46",
   "metadata": {
    "tags": []
   },
   "source": [
    "(exo:imnb)=\n",
    "### $\\blacksquare$ Exercice \n",
    "\n",
    "**Note.** Cet exercice est inspiré d'un extrait de sujet d'examen.\n",
    "Il comporte des questions Objectifs 10 et Objectif 20.\n",
    "\n",
    "Une image 2D peut être représentée par un tableau 2D de _pixels_.  \n",
    "Une image \"noir et blanc\" de taille $L \\times C$ est ainsi représentée\n",
    "par un tableau de $L$ lignes et $C$ colonnes, de 0 (pixel blanc) ou de\n",
    "1 (pixel noir).  \n",
    "Les images suivantes sont des exemples d'images 3 $\\times$ 4. "
   ]
  },
  {
   "cell_type": "markdown",
   "id": "9c864bed-7e57-4d3b-b843-a7cc186bb514",
   "metadata": {},
   "source": [
    "```{image} fig/3x4-blanc.png\n",
    ":alt: image blanche\n",
    ":height: 20mm\n",
    ":name: 1\n",
    "```\n",
    "```{image} fig/3x4-nb-centre.png\n",
    ":alt: 2 pixels noirs au centre\n",
    ":height: 20mm\n",
    "```\n",
    "```{image} fig/3x4-tri.png\n",
    ":alt: triangle inférieur noir\n",
    ":height: 20mm\n",
    "```"
   ]
  },
  {
   "cell_type": "markdown",
   "id": "9bf09a5a-0505-4e61-96f6-333e6a1898db",
   "metadata": {},
   "source": [
    "L'image blanche (à gauche) est représentée par le tableau de taille $3 \\times\n",
    "4$ (une liste de listes de 0) donné par le code python suivant."
   ]
  },
  {
   "cell_type": "code",
   "execution_count": 3,
   "id": "9f519b65-5cc9-4a42-a341-9eb39217403c",
   "metadata": {},
   "outputs": [
    {
     "name": "stdout",
     "output_type": "stream",
     "text": [
      "[[0, 0, 0, 0], [0, 0, 0, 0], [0, 0, 0, 0]]\n",
      "3 4\n"
     ]
    }
   ],
   "source": [
    "l = 3\n",
    "c = 4\n",
    "t = [[0 for i in range(c)] for j in range(l)]\n",
    "\n",
    "print(t)\n",
    "print(len(t), len(t[0]))"
   ]
  },
  {
   "cell_type": "markdown",
   "id": "129665cf-916d-4d07-92fa-655e23eebe3c",
   "metadata": {},
   "source": [
    "#### Premières transformations d'images 3 $\\times$ 4.\n",
    "  \n",
    "1. Ecrire l'algorithme qui transforme l'image blanche (à gauche) en une image noire 3 $\\times$ 4 sans définir un autre tableau.\n",
    "2. Ecrire l'algorithme qui transforme l'image blanche en l'image du centre.\n",
    "3. Ecrire l'algorithme qui transforme l'image blanche en l'image de droite."
   ]
  },
  {
   "cell_type": "markdown",
   "id": "c586bf7f-db96-434f-afda-50f62eaa1333",
   "metadata": {},
   "source": [
    "#### Fonctions et transformation d'image de taille arbitraire.  \n",
    "\n",
    "On considère la dernière transformation où la partie\n",
    "triangulaire inférieure est noircie. Selon la forme de la matrice, cette\n",
    "partie noircie est un triangle (matrice rectangulaire \"allongée\"\n",
    "horizontalement) ou un trapèze (matrice rectangulaire \"allongée\"\n",
    "verticalement). On va définir cette transformation sous la forme d'une\n",
    "fonction.\n",
    "\n",
    "1. Ecrire l'en-tête de cette fonction `tr()`\n",
    "2. Appliquer cette fonction à l'image blanche de gauche.\n",
    "3. Ecrire le corps de la fonction `tr()`.\n",
    "4. ($\\star$) Définir une image `t2` de taille 4 $\\times$ 8 composée de\n",
    "      lignes alternativement blanche et noire \n",
    "(que:im4)=\n",
    "5.  On applique la fonction `tr()` à cette image. Dessiner \"à la main\" l'image ainsi transformée.\n",
    "6. Ecrire ce traitement à l'aide de la fonction `tr()`\n"
   ]
  },
  {
   "cell_type": "markdown",
   "id": "60825b85-b6bd-44fe-820e-18af2a8e0d42",
   "metadata": {},
   "source": [
    "#### Analyse d'une image de taille arbitraire.\n",
    "\n",
    "1.  Ecrire une fonction `nbpixblc()` qui compte et retourne le\n",
    "    nombre de pixels blanc d'une image de taille arbitraire\n",
    "\n",
    "2.  Que retourne l'application de cette fonction à l'image (4) de la\n",
    "    question <a href=\"#que:im4\" data-reference-type=\"ref\"\n",
    "    data-reference=\"que:im4\">[que:im4]</a>."
   ]
  },
  {
   "cell_type": "markdown",
   "id": "4a409d27-da1d-4568-bad1-5f08ac0b8cf9",
   "metadata": {},
   "source": [
    "#### ($\\star$) Complexité de cette analyse\n",
    "\n",
    "1.  Préciser le paramètre de complexité de `nbpixblc()`,\n",
    "    la mesure de cette complexité et l'expression la plus précise\n",
    "    possible de sa complexité. Justifier votre réponse.\n",
    "\n",
    "2.  Soit $C$ la complexité du traitement par `nbpixblc()`\n",
    "    d'une image donnée $\\mathcal{I}$. On double le nombre de lignes\n",
    "    de $\\mathcal{I}$. Quelle est la complexité $C_1$ du traitement\n",
    "    de cette nouvelle image ?\n",
    "\n",
    "3.  On double le nombre de lignes et de colonnes de\n",
    "    $\\mathcal{I}$. Quelle est la complexité $C_2$ du traitement de\n",
    "    cette nouvelle image.\n",
    "\n",
    "4.  Donner l'expression la plus précise possible de sa\n",
    "    complexité asymptotique."
   ]
  },
  {
   "cell_type": "markdown",
   "id": "dd812334-248f-4dc4-a50e-ea7bea872388",
   "metadata": {},
   "source": [
    "## Objectif 20"
   ]
  },
  {
   "cell_type": "markdown",
   "id": "861e4e9c-ed90-4567-8d57-394fa39bb139",
   "metadata": {},
   "source": [
    "### $\\blacksquare$ Exercice.\n",
    "\n",
    "Calculer, puis afficher, les 15 premières lignes du triangle de\n",
    "Pascal. Veiller à séparer traitement et affichage."
   ]
  },
  {
   "cell_type": "markdown",
   "id": "404bc6ea-33eb-4ee1-b723-cc8c13a3ae95",
   "metadata": {},
   "source": [
    "### $\\blacksquare$ Exercice.\n",
    "\n",
    "On veut résoudre le système linéaire $Tx=b$ où la matrice $T$ est une\n",
    "matrice triangulaire inférieure carrée de taille $n$ et $b$ un vecteur\n",
    "second membre (de taille $n$). La matrice $T$ et et le vecteur $b$ sont\n",
    "supposés donnés (au clavier ou avec une valeur d'initialisation).\n",
    "\n",
    "1. Ecrire l'algorithme qui effectue ce traitement.\n",
    "2. Le transformer en une fonction et un appel équivalent."
   ]
  },
  {
   "cell_type": "markdown",
   "id": "71fb3482-8fb0-43c4-8a6d-87f1e2e56e84",
   "metadata": {},
   "source": [
    "### $\\blacksquare$ Exercice.\n",
    "\n",
    "De façon similaire à l'[exercice](exo:imnb), on définit des images à\n",
    "niveaux de gris par un tableau 2D d'entiers compris en 0 (noir) et 255\n",
    "(blanc). La taille de l'image $L \\times C$ est arbitraire.  \n",
    "Ecrire les algorithmes des traitements suivants. On pourra commencer en\n",
    "introduisant un tableau supplémentaire pour l'image transformée. Selon\n",
    "les cas, on essaiera ensuite une solution “en place” : la transformation\n",
    "s'effectue sur le tableau de l'image d'origine.\n",
    "\n",
    "1.  Générer le négatif (*reverse video*) d'une image NB ou par niveaux\n",
    "    de gris.\n",
    "\n",
    "2.  Générer une image NB à partir d'une image niveau de gris.\n",
    "\n",
    "3.  Augmenter le contraste de la transformation précédente.  \n",
    "    Principe : fixer un seuil et remplacer les pixels plus clairs que le\n",
    "    seuil par des pixels blancs, et inversement les plus sombres que le\n",
    "    seuil par des pixels noirs.\n",
    "\n",
    "4.  Générer une image miroir vertical (le haut se retrouve en bas et\n",
    "    réciproquement) ou horizontal d'une image NB.\n",
    "\n",
    "5.  Augmenter la luminosité (ou luminance) d'une image à niveau de\n",
    "    gris.  \n",
    "    Principe : ajouter ou retrancher une constante de la valeur des\n",
    "    pixels.\n",
    "\n",
    "6.  Générer les contours significatifs d'une image.  \n",
    "    Principe : on remplace par un pixel noir chaque pixel dont la\n",
    "    variation des valeurs de ses 4 voisins varient au delà d'un certain\n",
    "    seuil, sinon on le remplace par un pixel blanc.\n",
    "\n",
    "7.  Réduire par 2 la taille d'une image à niveau de gris.  \n",
    "    Principe : chaque carré de 2x2 pixels est remplacé par 1 pixel de\n",
    "    valeur la moyenne des pixels du carré."
   ]
  },
  {
   "cell_type": "markdown",
   "id": "5ccfafa7-b6a3-4dcd-b815-c3c4a4f1e2ec",
   "metadata": {},
   "source": [
    "### $\\star$ Exercice.\n",
    "\n",
    "**Note.** Les images de cet exercice sont disponibles sous moodle (section TD).  \n",
    "\n",
    "Ecrire les algorithmes qui, à partir de l'image originale suivante :\n",
    "\n",
    "```{image} fig/jap.png\n",
    ":alt: visage original\n",
    ":height: 25mm\n",
    ":align: center\n",
    "```\n",
    "génèrent des images zébrées horizontales ou verticales ou quadrillées. "
   ]
  },
  {
   "cell_type": "markdown",
   "id": "3d915756-96b6-4faf-ad0f-02b954fefaa6",
   "metadata": {},
   "source": [
    "```{image} ./fig/jap-18NBzebreH.png\n",
    ":alt: transformée NB zebrée horizontalement\n",
    ":height: 25mm\n",
    "```\n",
    "```{image} ./fig/jap-NBzebreVert.png\n",
    ":alt: transformée NB zebrée verticalement\n",
    ":height: 25mm\n",
    "```\n",
    "```{image} ./fig/jap-damier15.png\n",
    ":alt: transformée NB damiers\n",
    ":height: 25mm\n",
    "```"
   ]
  },
  {
   "cell_type": "markdown",
   "id": "0c84aba9-363b-4041-b6ba-4d54dacce79a",
   "metadata": {},
   "source": [
    "Le nombre de découpages horizontaux ou verticaux sont des\n",
    "paramètres de l'algorithme. On veillera aux cas où la taille de l'image\n",
    "n'est pas divisible par ces paramètres. "
   ]
  }
 ],
 "metadata": {
  "kernelspec": {
   "display_name": "Python 3 (ipykernel)",
   "language": "python",
   "name": "python3"
  },
  "language_info": {
   "codemirror_mode": {
    "name": "ipython",
    "version": 3
   },
   "file_extension": ".py",
   "mimetype": "text/x-python",
   "name": "python",
   "nbconvert_exporter": "python",
   "pygments_lexer": "ipython3",
   "version": "3.9.6"
  }
 },
 "nbformat": 4,
 "nbformat_minor": 5
}
