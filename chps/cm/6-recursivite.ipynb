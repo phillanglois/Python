{
 "cells": [
  {
   "cell_type": "markdown",
   "metadata": {
    "slideshow": {
     "slide_type": "slide"
    },
    "tags": []
   },
   "source": [
    "(ch:recursivite)=\n",
    "# Récursivité\n",
    "\n",
    "Mis à jour : {sub-ref}`today`, lecture : {sub-ref}`wordcount-minutes`\n",
    "minutes minimum, PhL."
   ]
  },
  {
   "cell_type": "markdown",
   "metadata": {
    "slideshow": {
     "slide_type": "slide"
    }
   },
   "source": [
    "## Définitions et premiers exemples\n",
    "\n",
    "### Définition \n",
    "\n",
    "> Une construction est _récursive_ si elle se définit à partir d'elle même"
   ]
  },
  {
   "cell_type": "markdown",
   "metadata": {
    "slideshow": {
     "slide_type": "subslide"
    }
   },
   "source": [
    "  \n",
    "### Exemples de fonctions récursives\n",
    "\n",
    "* factorielle : $n ! = n \\times (n-1)!$\n",
    "* somme des $n$ premiers entiers : $s(n) = n + s(n-1)$\n",
    "* suite de Fibonaci : $f(n+1) = f(n) + f(n-1)$\n",
    "* suites récurrentes : $u_n = f(u_{n-1})$ ou $u_n = f(u_{n-1},u_{n-2},\\dots)$"
   ]
  },
  {
   "cell_type": "markdown",
   "metadata": {
    "slideshow": {
     "slide_type": "subslide"
    },
    "tags": []
   },
   "source": [
    "### Exemple de géométries récursives\n",
    "\n",
    "* segment et flocon de von Koch\n",
    "\n",
    "[segments]: fig/cinqsegmentsvk.jpg\n",
    "[flocons]: fig/cinqflocons.jpg\n",
    "\n",
    "![][segments]\n",
    "![][flocons]\n"
   ]
  },
  {
   "cell_type": "markdown",
   "metadata": {
    "slideshow": {
     "slide_type": "slide"
    }
   },
   "source": [
    "* triangle de Sierpinsky\n",
    "\n",
    "![sierpinsky](fig/sierpinsky.png)"
   ]
  },
  {
   "cell_type": "markdown",
   "metadata": {},
   "source": [
    "L'[annexe](ann:traceVK) présente comment tracer ces figures à l'aide du module [turtle](https://docs.python.org/fr/3/library/turtle.html)."
   ]
  },
  {
   "cell_type": "markdown",
   "metadata": {
    "slideshow": {
     "slide_type": "slide"
    }
   },
   "source": [
    "### Exemples de structures de données récursives\n",
    "\n",
    "* liste chaînée\n",
    "![liste](fig/listechainee.png)\n",
    "\n",
    "* arbre, arbre binaire\n",
    "![arbrebinaire](fig/arbrebinaire.jpg)"
   ]
  },
  {
   "cell_type": "markdown",
   "metadata": {
    "slideshow": {
     "slide_type": "subslide"
    }
   },
   "source": [
    "* application : arbre du code Morse (point, tiret)\n",
    "  ![codemorse](fig/morse-tree.png)  "
   ]
  },
  {
   "cell_type": "markdown",
   "metadata": {
    "slideshow": {
     "slide_type": "subslide"
    }
   },
   "source": [
    "  \n",
    "* application : représentation d'une expression\n",
    "  ![expression](fig/arbreexpression.jpg)   "
   ]
  },
  {
   "cell_type": "markdown",
   "metadata": {
    "slideshow": {
     "slide_type": "slide"
    }
   },
   "source": [
    "## Intérêts de la récursion\n",
    "\n",
    "### Avantage\n",
    "\n",
    "Une solution _algorithmique récursive_ est souvent plus simple, plus lisible, plus facile à prouver qu'une solution itérative\n",
    "\n",
    "  * exemple caractéristique : les tours de Hanoï (voir exercice de td)\n",
    "    ![](fig/hanoi1.jpg)"
   ]
  },
  {
   "cell_type": "markdown",
   "metadata": {
    "slideshow": {
     "slide_type": "fragment"
    }
   },
   "source": [
    " Animation de résolution :\n",
    " \n",
    " [Tower of Hanoi 4 par André Karwath (wikimediacommons)](https://upload.wikimedia.org/wikipedia/commons/6/60/Tower_of_Hanoi_4.gif)\n",
    "    "
   ]
  },
  {
   "cell_type": "markdown",
   "metadata": {
    "slideshow": {
     "slide_type": "subslide"
    }
   },
   "source": [
    "### Inconvénient\n",
    "\n",
    "L'_exécution_ de la solution récursive est plus compliquée\n",
    " * gestion d'une pile d'appels de fonctions : la pile d'exécution\n",
    "\n",
    "\n",
    "L'exécution de la solution récursive peut provoquer des débordements de la mémoire\n",
    "    "
   ]
  },
  {
   "cell_type": "markdown",
   "metadata": {
    "slideshow": {
     "slide_type": "slide"
    }
   },
   "source": [
    "### Paradigme **diviser pour régner**\n",
    "\n",
    ">  * On divise le problème en des sous-problèmes _similaires, indépendants, de taille moindre_ \n",
    ">  * et ce \"récursivement\" \n",
    ">  * jusqu'à obtenir un problème suffisamment simple ou de taille suffisamment petite pour le résoudre. "
   ]
  },
  {
   "cell_type": "markdown",
   "metadata": {
    "slideshow": {
     "slide_type": "slide"
    }
   },
   "source": [
    "1. Par \"récursivement\", on entend _répéter_ la division de chaque sous-problème\n",
    "    - \"taille moindre\" : la $n$ taille est réduite par _division_ par un entier supérieur ou égal à 2, _ie._ $n \\to n/2$ ou $n \\to n/3$ ou ...  \n",
    "    - \"problèmes indépendants\" : la solution d'un sous-problème issu d'une division ne dépend pas des autres sous-problèmes. \n",
    "2. Le \"problème suffisamment simple ou de taille suffisamment petite\" permet de _terminer_ ces divisions.\n",
    "    - Il fournit la première solution d'un sous-problème similaire\n",
    "    - Cette solution est utilisée pour construire _successivement_ les solutions du problème dont le sous-problème est issu, _ie._ le problème de la division précédente.\n",
    "3. Cette approche _diviser pour régner_ conduit à un algorithme récursif par construction !  \n",
    "    "
   ]
  },
  {
   "cell_type": "markdown",
   "metadata": {
    "slideshow": {
     "slide_type": "slide"
    }
   },
   "source": [
    "Exemples caractéristiques d'algorithmes _diviser pour régner_ dont on connaît déjà des versions itératives.\n",
    "\n",
    "- recherche dichotomique dans un ensemble trié\n",
    "- exponentiation (dite) rapide :  \n",
    "    - $x^{2p} = (x^p)^2$ et \n",
    "    - $x^{2p+1} = x \\times (x^p)^2$\n",
    "    \n",
    "Dans ces 2 exemples, chaque étape découpe en 2 moitiés (ou presque) le problème initial. "
   ]
  },
  {
   "cell_type": "markdown",
   "metadata": {},
   "source": [
    "**Rmq.** La réduction de la taille _par division_ est caractéristique des approches diviser pour régner. Elle permet d'obtenir des complexités meilleures que les solutions récursives où la taille diminue linéairement : $n \\to n-1$ ou $n \\to n-2$ ..."
   ]
  },
  {
   "cell_type": "markdown",
   "metadata": {
    "slideshow": {
     "slide_type": "slide"
    }
   },
   "source": [
    "## Fonctions numériques récursives\n",
    "\n",
    "Une définition, deux écritures équivalentes \n",
    "\n",
    "* **forme itérative**\n",
    "\n",
    "$n ! = 1 \\times 2 \\times \\dots \\times (n-1) \\times n$\n",
    "\n",
    "* **forme récursive**\n",
    "\n",
    "$n ! = n \\times (n-1) ! \\textbf{ avec }  0! = 1$\n",
    "\n",
    "Remarque : ces définitions ont un sens pour $n>0$. La valeur de $0!$ doit être définie de façon supplémentaire. "
   ]
  },
  {
   "cell_type": "markdown",
   "metadata": {},
   "source": [
    "```{warning} \n",
    "Bien différencier en quoi ces 2 écritures sont différentes.\n",
    "```"
   ]
  },
  {
   "cell_type": "markdown",
   "metadata": {
    "slideshow": {
     "slide_type": "slide"
    }
   },
   "source": [
    "### Factorielle : forme itérative"
   ]
  },
  {
   "cell_type": "code",
   "execution_count": 1,
   "metadata": {
    "slideshow": {
     "slide_type": "fragment"
    }
   },
   "outputs": [],
   "source": [
    "def f(n : int) -> int:\n",
    "    \"\"\"Calcul de factorielle n -- version itérative\n",
    "    entrée : n >= 0\n",
    "    sortie n!\n",
    "    \"\"\"\n",
    "    res = 1\n",
    "    for i in range(2,n+1):\n",
    "        res = res * i\n",
    "    return res"
   ]
  },
  {
   "cell_type": "code",
   "execution_count": 2,
   "metadata": {
    "slideshow": {
     "slide_type": "fragment"
    }
   },
   "outputs": [
    {
     "name": "stdout",
     "output_type": "stream",
     "text": [
      "3! = 6\n",
      "1! = 1\n"
     ]
    }
   ],
   "source": [
    "print(\"3! =\", f(3))\n",
    "print(\"1! =\", f(1))"
   ]
  },
  {
   "cell_type": "code",
   "execution_count": 3,
   "metadata": {
    "slideshow": {
     "slide_type": "fragment"
    }
   },
   "outputs": [
    {
     "name": "stdout",
     "output_type": "stream",
     "text": [
      "0! = 1\n",
      "-3! = 1\n"
     ]
    }
   ],
   "source": [
    "# bien que non défini a priori\n",
    "print(\"0! =\", f(0))\n",
    "# et même n'importe quoi !\n",
    "print(\"-3! =\", f(-3))"
   ]
  },
  {
   "cell_type": "markdown",
   "metadata": {
    "slideshow": {
     "slide_type": "fragment"
    }
   },
   "source": [
    "```{warning}\n",
    "ATTENTION : il faudrait **vérifier la validité du paramètre effectif**\n",
    "```"
   ]
  },
  {
   "cell_type": "markdown",
   "metadata": {
    "slideshow": {
     "slide_type": "subslide"
    }
   },
   "source": [
    "#### Exercice\n",
    "\n",
    "* pourquoi ?\n",
    "* comment ?"
   ]
  },
  {
   "cell_type": "markdown",
   "metadata": {
    "slideshow": {
     "slide_type": "subslide"
    }
   },
   "source": [
    "```{dropdown} \n",
    "Une pré-condition exprimée avec un `assert` permet de garantir que l'_appel_ de la fonction s'effectue selon les hypothèses de son écriture : ici $n >= 0$.\n",
    "\n",
    "````python\n",
    "def f(n : int) -> int:\n",
    "    \"\"\"Calcul de factorielle n -- version itérative\n",
    "    entrée : n \n",
    "    sortie n!\n",
    "    \"\"\"\n",
    "    assert n >= 0\n",
    "    res = 1\n",
    "    for i in range(2,n+1):\n",
    "        res = res * i\n",
    "    return res\n",
    "````\n",
    "```"
   ]
  },
  {
   "cell_type": "markdown",
   "metadata": {
    "slideshow": {
     "slide_type": "slide"
    }
   },
   "source": [
    "### Factorielle : forme récursive\n",
    "\n",
    "On applique la définition récursive :\n",
    "$n ! = n \\times (n-1) !$\n",
    "\n",
    "Oui, oui ! On a oublié de définir $0 !$.\n",
    "\n",
    "On l'écrit quand même ..."
   ]
  },
  {
   "cell_type": "markdown",
   "metadata": {
    "slideshow": {
     "slide_type": "subslide"
    }
   },
   "source": [
    "#### Premier essai (qui plante :)"
   ]
  },
  {
   "cell_type": "code",
   "execution_count": 4,
   "metadata": {
    "slideshow": {
     "slide_type": "fragment"
    }
   },
   "outputs": [],
   "source": [
    "def f(n : int) -> int:\n",
    "    \"\"\"Calcul de factorielle n -- version récursive\n",
    "    entrée : n >= 0\n",
    "    sortie n!\n",
    "    \"\"\"\n",
    "    return n * f(n-1) # récursion"
   ]
  },
  {
   "cell_type": "markdown",
   "metadata": {},
   "source": [
    "L'exécution suivante déclenche l'erreur :\n",
    "\n",
    "```python\n",
    "RecursionError: maximum recursion depth exceeded\n",
    "```"
   ]
  },
  {
   "cell_type": "code",
   "execution_count": 5,
   "metadata": {
    "slideshow": {
     "slide_type": "fragment"
    }
   },
   "outputs": [
    {
     "ename": "RecursionError",
     "evalue": "maximum recursion depth exceeded",
     "output_type": "error",
     "traceback": [
      "\u001b[0;31m---------------------------------------------------------------------------\u001b[0m",
      "\u001b[0;31mRecursionError\u001b[0m                            Traceback (most recent call last)",
      "\u001b[0;32m/var/folders/32/9hkmzrf11t38ckpktjnyfsfc0000gn/T/ipykernel_86452/1127868052.py\u001b[0m in \u001b[0;36m<cell line: 1>\u001b[0;34m()\u001b[0m\n\u001b[0;32m----> 1\u001b[0;31m \u001b[0mprint\u001b[0m\u001b[0;34m(\u001b[0m\u001b[0;34m\"1! =\"\u001b[0m\u001b[0;34m,\u001b[0m \u001b[0mf\u001b[0m\u001b[0;34m(\u001b[0m\u001b[0;36m1\u001b[0m\u001b[0;34m)\u001b[0m\u001b[0;34m)\u001b[0m\u001b[0;34m\u001b[0m\u001b[0;34m\u001b[0m\u001b[0m\n\u001b[0m",
      "\u001b[0;32m/var/folders/32/9hkmzrf11t38ckpktjnyfsfc0000gn/T/ipykernel_86452/3422208276.py\u001b[0m in \u001b[0;36mf\u001b[0;34m(n)\u001b[0m\n\u001b[1;32m      4\u001b[0m     \u001b[0msortie\u001b[0m \u001b[0mn\u001b[0m\u001b[0;31m!\u001b[0m\u001b[0;34m\u001b[0m\u001b[0;34m\u001b[0m\u001b[0m\n\u001b[1;32m      5\u001b[0m     \"\"\"\n\u001b[0;32m----> 6\u001b[0;31m     \u001b[0;32mreturn\u001b[0m \u001b[0mn\u001b[0m \u001b[0;34m*\u001b[0m \u001b[0mf\u001b[0m\u001b[0;34m(\u001b[0m\u001b[0mn\u001b[0m\u001b[0;34m-\u001b[0m\u001b[0;36m1\u001b[0m\u001b[0;34m)\u001b[0m \u001b[0;31m# récursion\u001b[0m\u001b[0;34m\u001b[0m\u001b[0;34m\u001b[0m\u001b[0m\n\u001b[0m",
      "... last 1 frames repeated, from the frame below ...\n",
      "\u001b[0;32m/var/folders/32/9hkmzrf11t38ckpktjnyfsfc0000gn/T/ipykernel_86452/3422208276.py\u001b[0m in \u001b[0;36mf\u001b[0;34m(n)\u001b[0m\n\u001b[1;32m      4\u001b[0m     \u001b[0msortie\u001b[0m \u001b[0mn\u001b[0m\u001b[0;31m!\u001b[0m\u001b[0;34m\u001b[0m\u001b[0;34m\u001b[0m\u001b[0m\n\u001b[1;32m      5\u001b[0m     \"\"\"\n\u001b[0;32m----> 6\u001b[0;31m     \u001b[0;32mreturn\u001b[0m \u001b[0mn\u001b[0m \u001b[0;34m*\u001b[0m \u001b[0mf\u001b[0m\u001b[0;34m(\u001b[0m\u001b[0mn\u001b[0m\u001b[0;34m-\u001b[0m\u001b[0;36m1\u001b[0m\u001b[0;34m)\u001b[0m \u001b[0;31m# récursion\u001b[0m\u001b[0;34m\u001b[0m\u001b[0;34m\u001b[0m\u001b[0m\n\u001b[0m",
      "\u001b[0;31mRecursionError\u001b[0m: maximum recursion depth exceeded"
     ]
    }
   ],
   "source": [
    "print(\"1! =\", f(1))"
   ]
  },
  {
   "cell_type": "markdown",
   "metadata": {
    "slideshow": {
     "slide_type": "subslide"
    }
   },
   "source": [
    "```{note}\n",
    "INFO: python limite à 1000 le nombre  d'appels récursifs \n",
    "\n",
    "Heureusement ... ce qui nous sauve ici ! \n",
    "```"
   ]
  },
  {
   "cell_type": "markdown",
   "metadata": {
    "slideshow": {
     "slide_type": "subslide"
    }
   },
   "source": [
    "#### Terminaison : pour arrêter les appels récursifs !!!!"
   ]
  },
  {
   "cell_type": "code",
   "execution_count": 6,
   "metadata": {
    "slideshow": {
     "slide_type": "fragment"
    }
   },
   "outputs": [],
   "source": [
    "def f(n : int) -> int:\n",
    "    \"\"\"Calcul de factorielle n -- version récursive\n",
    "    entrée : n >= 0 \n",
    "    sortie n!\n",
    "    \"\"\"\n",
    "    if n == 0:          # terminaison\n",
    "        return 1\n",
    "    else:\n",
    "        return n * f(n-1) # récursion"
   ]
  },
  {
   "cell_type": "code",
   "execution_count": 7,
   "metadata": {
    "slideshow": {
     "slide_type": "fragment"
    }
   },
   "outputs": [
    {
     "name": "stdout",
     "output_type": "stream",
     "text": [
      "3! = 6\n",
      "1! = 1\n",
      "0! = 1\n"
     ]
    }
   ],
   "source": [
    "print(\"3! =\", f(3))\n",
    "print(\"1! =\", f(1))\n",
    "print(\"0! =\", f(0))"
   ]
  },
  {
   "cell_type": "markdown",
   "metadata": {
    "slideshow": {
     "slide_type": "subslide"
    }
   },
   "source": [
    "**Analyse du code récursif**\n",
    "\n",
    "2 instructions `return` :\n",
    "\n",
    "1. la première retourne une valeur terminale\n",
    "    - c'est la solution d'un problème \"suffisamment simple\" \n",
    "2. la seconde provoque un appel récursif (à elle-même) avant d'effectuer un quelconque calcul !  \n",
    "    - en effet l'opérande de droite dans la multiplication n'est pas encore connu ...\n",
    "    - l'évaluation de l'opérande de droite `f(n-1)` constitue _l'appel récursif_ du traitement\n",
    "    - la multiplication `n * f(n-1)` est la _construction_ du résultat à partir du résultat de l'appel récursif \n",
    "    "
   ]
  },
  {
   "cell_type": "markdown",
   "metadata": {
    "slideshow": {
     "slide_type": "subslide"
    }
   },
   "source": [
    "Autre écriture avec 1 seul `return` :"
   ]
  },
  {
   "cell_type": "code",
   "execution_count": 8,
   "metadata": {
    "slideshow": {
     "slide_type": "subslide"
    }
   },
   "outputs": [],
   "source": [
    "def f(n : int) -> int:\n",
    "    \"\"\"Calcul de factorielle n -- version récursive avec un seul return\n",
    "    entrée : n \n",
    "    sortie n!\n",
    "    \"\"\"\n",
    "    if n == 1:          # terminaison\n",
    "        res = 1\n",
    "    else:\n",
    "        res = n * f(n-1) # récursion\n",
    "    return res"
   ]
  },
  {
   "cell_type": "code",
   "execution_count": 9,
   "metadata": {
    "slideshow": {
     "slide_type": "subslide"
    }
   },
   "outputs": [
    {
     "name": "stdout",
     "output_type": "stream",
     "text": [
      "3! = 6\n",
      "10! = 3628800\n"
     ]
    }
   ],
   "source": [
    "print(\"3! =\", f(3))\n",
    "print(\"10! =\", f(10))  "
   ]
  },
  {
   "cell_type": "markdown",
   "metadata": {},
   "source": [
    "Enfin l'écriture _équivalente_ suivante explicite la récursion et la construction.  "
   ]
  },
  {
   "cell_type": "code",
   "execution_count": 10,
   "metadata": {
    "slideshow": {
     "slide_type": "subslide"
    }
   },
   "outputs": [],
   "source": [
    "def f(n : int) -> int:\n",
    "    \"\"\"Calcul de factorielle n -- version récursive explicite\n",
    "    entrée : n \n",
    "    sortie n!\n",
    "    \"\"\"\n",
    "    if n == 1:             # terminaison sur le problème suffisamment simple\n",
    "        res = 1\n",
    "    else:\n",
    "        app_rec = f(n-1)   # appel récursif sur un problème de taille moindre\n",
    "        res = n *  app_rec # construction de la solution du problème\n",
    "    return res"
   ]
  },
  {
   "cell_type": "code",
   "execution_count": 11,
   "metadata": {
    "slideshow": {
     "slide_type": "subslide"
    }
   },
   "outputs": [
    {
     "name": "stdout",
     "output_type": "stream",
     "text": [
      "3! = 6\n",
      "10! = 3628800\n"
     ]
    }
   ],
   "source": [
    "print(\"3! =\", f(3))\n",
    "print(\"10! =\", f(10))  "
   ]
  },
  {
   "cell_type": "markdown",
   "metadata": {},
   "source": [
    "**Rmq sur la validité de ces 3 écritures récursives.**\n",
    "\n",
    "Même dans ces versions récursives, il faut protéger le traitement des appels avec des arguments invalides. Comme précédemment, on ajoute l'assertion :\n",
    "```assert n >= 0``` avant le début du traitement."
   ]
  },
  {
   "cell_type": "markdown",
   "metadata": {
    "slideshow": {
     "slide_type": "slide"
    }
   },
   "source": [
    "#### Bien comprendre les appels récursifs !\n",
    "\n",
    "Deux solutions :\n",
    "\n",
    "1. Facile : utilisons [pythontutor](https://pythontutor.com/live.html#code=def%20f%28n%20%3A%20int%29%20-%3E%20int%3A%0A%20%20%20%20if%20n%20%3D%3D%200%3A%20%20%20%20%20%20%20%20%20%0A%20%20%20%20%20%20%20%20return%201%0A%20%20%20%20else%3A%0A%20%20%20%20%20%20%20%20return%20n%20*%20f%28n-1%29%20%0Ar%20%3D%20f%285%29&cumulative=false&curInstr=26&heapPrimitives=nevernest&mode=display&origin=opt-live.js&py=3&rawInputLstJSON=%5B%5D&textReferences=false) pour calculer $5 !$\n",
    "\n",
    "2. Plus lourd : on va, de **façon exceptionnelle**, mettre des affichages dans le corps de la fonctions récursive pour bien comprendre.\n",
    "Pour cela, on décortique bien la fonction."
   ]
  },
  {
   "cell_type": "code",
   "execution_count": 12,
   "metadata": {
    "slideshow": {
     "slide_type": "subslide"
    }
   },
   "outputs": [],
   "source": [
    "def f(n: int) -> int:\n",
    "    \"\"\"Calcul de factorielle n -- version récursive\n",
    "    entrée : n >= 0\n",
    "    sortie n!\n",
    "    \"\"\"\n",
    "    # pour compter les imbrications des appels\n",
    "    global nb\n",
    "    # on met a jour indent avant chaque return\n",
    "    \n",
    "    nb = nb + 1 # on ajoute .... à chaque appel\n",
    "    indent = nb * \"....\"\n",
    "    print(indent, \"entrée dans f(\", n, \")\")\n",
    "    \n",
    "    if n == 1:     \n",
    "        print(indent, \"terminaison : on renvoit 1 pour n = \", n)\n",
    "        nb = nb - 1 # on enleve .. avant un return\n",
    "        return 1\n",
    "    \n",
    "    else:\n",
    "        print(indent, n,\"* f(\", n-1,\") = ?\")\n",
    "    \n",
    "        print(indent, \"appel de f(\", n-1,\")\")\n",
    "        r = f(n-1)\n",
    "        print(indent, \"on a calculé f(\", n-1, \")\")\n",
    "\n",
    "        p = n * r\n",
    "        print(indent, \"on a fait le produit \", n,\"* f(\", n-1,\")\")\n",
    "        print(indent, \"Retour de la valeur\", p)\n",
    "\n",
    "        nb = nb - 1 # on enleve .. avant un return\n",
    "        return p # récursion"
   ]
  },
  {
   "cell_type": "code",
   "execution_count": 13,
   "metadata": {
    "slideshow": {
     "slide_type": "subslide"
    }
   },
   "outputs": [
    {
     "name": "stdout",
     "output_type": "stream",
     "text": [
      ".... entrée dans f( 4 )\n",
      ".... 4 * f( 3 ) = ?\n",
      ".... appel de f( 3 )\n",
      "........ entrée dans f( 3 )\n",
      "........ 3 * f( 2 ) = ?\n",
      "........ appel de f( 2 )\n",
      "............ entrée dans f( 2 )\n",
      "............ 2 * f( 1 ) = ?\n",
      "............ appel de f( 1 )\n",
      "................ entrée dans f( 1 )\n",
      "................ terminaison : on renvoit 1 pour n =  1\n",
      "............ on a calculé f( 1 )\n",
      "............ on a fait le produit  2 * f( 1 )\n",
      "............ Retour de la valeur 2\n",
      "........ on a calculé f( 2 )\n",
      "........ on a fait le produit  3 * f( 2 )\n",
      "........ Retour de la valeur 6\n",
      ".... on a calculé f( 3 )\n",
      ".... on a fait le produit  4 * f( 3 )\n",
      ".... Retour de la valeur 24\n",
      "0\n"
     ]
    }
   ],
   "source": [
    "nb = 0\n",
    "f(4)\n",
    "print(nb)"
   ]
  },
  {
   "cell_type": "markdown",
   "metadata": {
    "slideshow": {
     "slide_type": "fragment"
    }
   },
   "source": [
    "```{admonition} Conseil\n",
    "Bien regarder le moment où on effectue la **première** multiplication\n",
    "```"
   ]
  },
  {
   "cell_type": "markdown",
   "metadata": {
    "slideshow": {
     "slide_type": "subslide"
    }
   },
   "source": [
    "Exercice :\n",
    "\n",
    "* Combien de variables _locales_ `r` et `p` ont été utilisées ?\n"
   ]
  },
  {
   "cell_type": "markdown",
   "metadata": {
    "slideshow": {
     "slide_type": "fragment"
    }
   },
   "source": [
    "```{dropdown} Réponse :\n",
    "\n",
    "* Chaque appel à `f()` introduit une nouvelle paire `r` et `p`\n",
    "* Ces variables sont _locales_ à l'appel concerné :\n",
    "    - elles sont introduites et évaluées dans l'_environnement_ (le contexte) de l'appel concerné \n",
    "\n",
    "Ces notions seront approfondies plus loin.\n",
    "```"
   ]
  },
  {
   "cell_type": "markdown",
   "metadata": {
    "slideshow": {
     "slide_type": "slide"
    }
   },
   "source": [
    "## Exponentiation entière (dite) rapide\n",
    "\n",
    "\n",
    "Objectif : calculer $x^n$ où $x$ est un réel et $n$ un entier positif.\n",
    "\n",
    "### Une première récursion\n",
    "\n",
    "Elle est basée sur la relation récursive : $x^n = x \\times x^{n-1}$ pour $n > 0$ et $x^0 = 1$."
   ]
  },
  {
   "cell_type": "code",
   "execution_count": 14,
   "metadata": {
    "slideshow": {
     "slide_type": "fragment"
    }
   },
   "outputs": [],
   "source": [
    "def expo(x: float, n: int) -> float:\n",
    "    '''calcule x**n : version récursive naturelle \n",
    "    entrées : x (float), n (int) >= 0'''\n",
    "    if n == 0:\n",
    "        return 1\n",
    "    else:\n",
    "        return x * expo(x, n-1)"
   ]
  },
  {
   "cell_type": "code",
   "execution_count": 15,
   "metadata": {
    "slideshow": {
     "slide_type": "fragment"
    }
   },
   "outputs": [
    {
     "data": {
      "text/plain": [
       "1.0715086071862673e+301"
      ]
     },
     "execution_count": 15,
     "metadata": {},
     "output_type": "execute_result"
    }
   ],
   "source": [
    "expo(2.0 ,1000)"
   ]
  },
  {
   "cell_type": "markdown",
   "metadata": {
    "slideshow": {
     "slide_type": "subslide"
    }
   },
   "source": [
    "**Exercice :**\n",
    "\n",
    "* Ecrire une version itérative \n",
    "* Ecrire une autre version récursive avec 1 seul `return`\n",
    "* Ecrire une autre version récursive qui exhibe les étapes de récursion et de construction"
   ]
  },
  {
   "cell_type": "markdown",
   "metadata": {
    "slideshow": {
     "slide_type": "slide"
    }
   },
   "source": [
    "### Une seconde récursion rapide, beaucoup plus rapide\n",
    "\n",
    "Autre écriture de $x^n$ avec des airs de dichotomie :) \n",
    "* $x^{2p} = (x^p)^2$ -- c'est simple et récursif !\n",
    "* $x^{2p+1} = x \\times (x^p)^2$ --  c'est simple et aussi récursif, non ?\n",
    "\n",
    "On passe de la puissance $2p$ ou $2p+1$ à la puissance $p$. \n",
    "On divise donc successivement par 2 les tailles des calculs à effectuer.\n",
    "_L'exponentiation rapide_ est un exemple de résolution selon une analyse _diviser pour régner_. \n",
    "\n",
    "On a bien sûr besoin de la terminaison de cette écriture récursive :\n",
    "$x^0 = 1$."
   ]
  },
  {
   "cell_type": "code",
   "execution_count": 16,
   "metadata": {
    "code_folding": [],
    "slideshow": {
     "slide_type": "fragment"
    },
    "tags": []
   },
   "outputs": [],
   "source": [
    "def expo_rapide(x: float, n: int) -> float:\n",
    "    '''calcule x**n : version récursive rapide \n",
    "    entrées : x (float), n (int)'''\n",
    "    if n == 0:\n",
    "        return 1\n",
    "    else:\n",
    "        r =  expo_rapide(x, n//2) # appel recursif sur exposant moitié\n",
    "        \n",
    "        if (n % 2 == 0): # construction si n est pair\n",
    "            res = r * r        \n",
    "        else:            # construction si n est impair\n",
    "            res = x * r * r\n",
    "        \n",
    "        return res"
   ]
  },
  {
   "cell_type": "code",
   "execution_count": 17,
   "metadata": {
    "code_folding": [],
    "slideshow": {
     "slide_type": "fragment"
    }
   },
   "outputs": [
    {
     "data": {
      "text/plain": [
       "1.0715086071862673e+301"
      ]
     },
     "execution_count": 17,
     "metadata": {},
     "output_type": "execute_result"
    }
   ],
   "source": [
    "expo_rapide(2.0, 1000)  "
   ]
  },
  {
   "cell_type": "markdown",
   "metadata": {},
   "source": [
    "**Rmq.** \n",
    "- L'écriture précédente s'appuie sur la division entière de python (`//`). On peut calculer `r` sans ce soucier de sa parité : `n//2` sera toujours le quotient de la division euclidienne de `n` par `2` avec reste nul (cas pair) ou non (cas impair).  \n",
    "- L'écriture suivante est bien sûr possible et conduit au _même_ traitement."
   ]
  },
  {
   "cell_type": "code",
   "execution_count": 18,
   "metadata": {
    "code_folding": [],
    "slideshow": {
     "slide_type": "fragment"
    },
    "tags": []
   },
   "outputs": [],
   "source": [
    "def expo_rapide2(x: float, n: int) -> float:\n",
    "    '''calcule x**n : version récursive rapide \n",
    "    entrées : x (float), n (int)'''\n",
    "    if n == 0:\n",
    "        return 1\n",
    "    else:\n",
    "        if (n % 2 == 0):              # si n est pair\n",
    "            r =  expo_rapide(x, n//2) # appel recursif sur exposant moitié\n",
    "            res = r * r               # calcul du résultat\n",
    "        else:                         # si n est impair\n",
    "            r =  expo_rapide(x, (n-1)//2) # appel recursif sur \"exposant paire\" moitié \n",
    "            res = x * r * r           # calcul du résultat\n",
    "            \n",
    "        return res"
   ]
  },
  {
   "cell_type": "code",
   "execution_count": 19,
   "metadata": {},
   "outputs": [],
   "source": [
    "# une vérification ponctuelle de l'équivalence des 2 versions\n",
    "assert expo_rapide(2.0, 256) == expo_rapide2(2.0, 256)\n",
    "assert expo_rapide(2.0, 257) == expo_rapide2(2.0, 257)"
   ]
  },
  {
   "cell_type": "code",
   "execution_count": 20,
   "metadata": {
    "code_folding": [],
    "slideshow": {
     "slide_type": "fragment"
    }
   },
   "outputs": [],
   "source": [
    "def expo_rapide_aff(x: float, n: int, aff = False) -> float:\n",
    "    '''calcule x**n : version récursive rapide, version avec affichage\n",
    "    entrées : x (float), n (int)'''\n",
    "    if n == 0:\n",
    "        if aff:\n",
    "            print(\"terminaison\")\n",
    "        return 1\n",
    "    else:\n",
    "        if aff:\n",
    "            print(\"appel pour n =\", n)\n",
    "        r =  expo_rapide_aff(x, n//2, aff) # apple récursif\n",
    "        \n",
    "        if aff:\n",
    "            print(\"retour de n//2 :\", r )\n",
    "            \n",
    "        if (n % 2 == 0): # n est pair\n",
    "            res = r * r\n",
    "            if aff:\n",
    "                print(\"cas pair et res =\", res)\n",
    "        else:            # n est impair\n",
    "            res = x * r * r\n",
    "            if aff:\n",
    "                print(\"cas impair et res =\", res)\n",
    "        return res"
   ]
  },
  {
   "cell_type": "markdown",
   "metadata": {},
   "source": [
    "La version avec affichage de la trace du calcul récursif complet exhibe un nombre beaucoup plus faible d'appels récursifs (et donc de calculs) pour cette version (dite) rapide comparée à la version classique."
   ]
  },
  {
   "cell_type": "code",
   "execution_count": 21,
   "metadata": {
    "code_folding": [],
    "slideshow": {
     "slide_type": "fragment"
    }
   },
   "outputs": [
    {
     "name": "stdout",
     "output_type": "stream",
     "text": [
      "appel pour n = 256\n",
      "appel pour n = 128\n",
      "appel pour n = 64\n",
      "appel pour n = 32\n",
      "appel pour n = 16\n",
      "appel pour n = 8\n",
      "appel pour n = 4\n",
      "appel pour n = 2\n",
      "appel pour n = 1\n",
      "terminaison\n",
      "retour de n//2 : 1\n",
      "cas impair et res = 2.0\n",
      "retour de n//2 : 2.0\n",
      "cas pair et res = 4.0\n",
      "retour de n//2 : 4.0\n",
      "cas pair et res = 16.0\n",
      "retour de n//2 : 16.0\n",
      "cas pair et res = 256.0\n",
      "retour de n//2 : 256.0\n",
      "cas pair et res = 65536.0\n",
      "retour de n//2 : 65536.0\n",
      "cas pair et res = 4294967296.0\n",
      "retour de n//2 : 4294967296.0\n",
      "cas pair et res = 1.8446744073709552e+19\n",
      "retour de n//2 : 1.8446744073709552e+19\n",
      "cas pair et res = 3.402823669209385e+38\n",
      "retour de n//2 : 3.402823669209385e+38\n",
      "cas pair et res = 1.157920892373162e+77\n"
     ]
    },
    {
     "data": {
      "text/plain": [
       "1.157920892373162e+77"
      ]
     },
     "execution_count": 21,
     "metadata": {},
     "output_type": "execute_result"
    }
   ],
   "source": [
    "expo_rapide_aff(2.0, 256, True)  "
   ]
  },
  {
   "cell_type": "markdown",
   "metadata": {},
   "source": [
    "**Exercice**\n",
    "\n",
    "- Combien d'appels récursifs ou de multiplications sont effectués dans l'exponentiation entière (classique) ?\n",
    "- Même question dans le cas de cette exponentiation entière rapide ?\n",
    "- Qu'en déduire sur la complexité asymptotique de ces 2 versions ?"
   ]
  },
  {
   "cell_type": "markdown",
   "metadata": {
    "slideshow": {
     "slide_type": "subslide"
    }
   },
   "source": [
    "**($\\star$) Exercice**\n",
    "\n",
    "Exhibons que `expo_rapide()`est effectivement plus rapide que `expo`  \n",
    "\n",
    "On en profite pour utiliser le module [`timeit`](https://docs.python.org/fr/3/library/timeit.html).\n",
    "Ce module complète (et utilise) le module _time_ déjà décrit dans le \n",
    "[chapitre Modules utiles](ch:modulesutiles) pour :\n",
    "* automatiquement répéter la partie de code à mesurer (si elle prend très peu de temps) --> option `-n`\n",
    "* ou automatiquement répéter les mesures et les analyser : garder la meilleure, regarder la moyenne ... --> option `r`\n",
    "\n",
    "`timeit` peut s'utiliser depuis la ligne de commandes ou depuis l'interpréteur python (ici jupyter) par sous la forme d'une \"fonction magique\" reconnaissable à sa syntaxe `%`.\n",
    "\n",
    "*Rmq.* Bien sûr, l'exécution de la cellule suivante n'est pas instantanée."
   ]
  },
  {
   "cell_type": "code",
   "execution_count": 22,
   "metadata": {
    "slideshow": {
     "slide_type": "fragment"
    }
   },
   "outputs": [
    {
     "name": "stdout",
     "output_type": "stream",
     "text": [
      "3.22 µs ± 223 ns per loop (mean ± std. dev. of 7 runs, 100000 loops each)\n",
      "1.17 µs ± 12.7 ns per loop (mean ± std. dev. of 7 runs, 1000000 loops each)\n",
      "\n",
      "2.97 µs ± 15.3 ns per loop (mean ± std. dev. of 7 runs, 100 loops each)\n",
      "1.16 µs ± 6.06 ns per loop (mean ± std. dev. of 7 runs, 100 loops each)\n",
      "\n",
      "2.98 µs ± 14.6 ns per loop (mean ± std. dev. of 5 runs, 100000 loops each)\n",
      "1.23 µs ± 61.1 ns per loop (mean ± std. dev. of 5 runs, 1000000 loops each)\n"
     ]
    }
   ],
   "source": [
    "# timeit plus fiable : répète plusieurs mesures\n",
    "%timeit expo(3,20)\n",
    "%timeit expo_rapide(3,20)\n",
    "print()\n",
    "\n",
    "# répétition de 100 mesures\n",
    "%timeit -n 100 expo(3,20)\n",
    "%timeit -n 100 expo_rapide(3,20)\n",
    "print()\n",
    "\n",
    "# 5 répétitions \n",
    "%timeit -r 5 expo(3,20)\n",
    "%timeit -r 5 expo_rapide(3,20)"
   ]
  },
  {
   "cell_type": "markdown",
   "metadata": {},
   "source": [
    "L'exécution sur ma machine donne un facteur multiplicatif de 3 environ entre ces 2 versions :\n",
    "\n",
    "```shell\n",
    "3.02 µs ± 30.3 ns per loop (mean ± std. dev. of 5 runs, 100000 loops each)\n",
    "1.2 µs ± 30.1 ns per loop (mean ± std. dev. of 5 runs, 1000000 loops each)\n",
    "```"
   ]
  },
  {
   "cell_type": "markdown",
   "metadata": {
    "slideshow": {
     "slide_type": "slide"
    }
   },
   "source": [
    "## Fibonacci ou l'inefficacité de la récursion\n",
    "\n",
    "La suite de Fibonaci est définie par une récurrence _d'ordre 2_ :\n",
    "\n",
    "$$F(n+1) = F(n) + F(n-1).$$\n",
    "\n",
    "Ce qui nécessite de connaître 2 valeurs de départ :\n",
    "$$F(0) = F(1) = 1.$$"
   ]
  },
  {
   "cell_type": "markdown",
   "metadata": {
    "slideshow": {
     "slide_type": "subslide"
    }
   },
   "source": [
    "### Solution récursive\n",
    "\n",
    "L'expression est naturellement récursive donc ..."
   ]
  },
  {
   "cell_type": "code",
   "execution_count": 23,
   "metadata": {
    "slideshow": {
     "slide_type": "fragment"
    }
   },
   "outputs": [],
   "source": [
    "def fibo(n: int) -> int:\n",
    "    '''Fibonacci : solution récursive classique '''\n",
    "    if n == 0 or n == 1:\n",
    "        return 1\n",
    "    else:\n",
    "        return fibo(n-1) + fibo(n-2)"
   ]
  },
  {
   "cell_type": "code",
   "execution_count": 24,
   "metadata": {
    "slideshow": {
     "slide_type": "fragment"
    }
   },
   "outputs": [
    {
     "name": "stdout",
     "output_type": "stream",
     "text": [
      "0 : 1\n",
      "1 : 1\n",
      "2 : 2\n",
      "3 : 3\n",
      "4 : 5\n",
      "5 : 8\n",
      "6 : 13\n",
      "7 : 21\n",
      "8 : 34\n",
      "9 : 55\n"
     ]
    }
   ],
   "source": [
    "for i in range(10):\n",
    "    print(i,\":\", fibo(i))"
   ]
  },
  {
   "cell_type": "markdown",
   "metadata": {},
   "source": [
    "Observons que cette solution récursive est beaucoup plus lente que la solution itérative."
   ]
  },
  {
   "cell_type": "code",
   "execution_count": 31,
   "metadata": {},
   "outputs": [],
   "source": [
    "def fibo_iter(n: int) -> int:\n",
    "    '''Une version itérative de Fibonacci'''\n",
    "    f0 = 1\n",
    "    f1 = 1\n",
    "    for i in range(2, n+1):\n",
    "        f = f0 + f1\n",
    "        f0 = f1\n",
    "        f1 = f  \n",
    "    return f1"
   ]
  },
  {
   "cell_type": "markdown",
   "metadata": {},
   "source": [
    "**Rmq.** Pourquoi ne pas avoir écrit ```return f``` ?"
   ]
  },
  {
   "cell_type": "markdown",
   "metadata": {},
   "source": [
    "```{dropdown} Réponse\n",
    "Pour un traitement correct des cas `n == 0` ou `n == 1` car la variable d'accumulation `f` n'est définie que pour n >= 2. \n",
    "```"
   ]
  },
  {
   "cell_type": "markdown",
   "metadata": {},
   "source": [
    "On s'assure de la correction des 2 traitements."
   ]
  },
  {
   "cell_type": "code",
   "execution_count": 32,
   "metadata": {},
   "outputs": [],
   "source": [
    "for i in range(15):\n",
    "    assert fibo(i) == fibo_iter(i) "
   ]
  },
  {
   "cell_type": "markdown",
   "metadata": {},
   "source": [
    "Et on compare les temps d'exécutions de ces 2 versions."
   ]
  },
  {
   "cell_type": "code",
   "execution_count": 27,
   "metadata": {},
   "outputs": [
    {
     "name": "stdout",
     "output_type": "stream",
     "text": [
      "271 µs ± 18 µs per loop (mean ± std. dev. of 5 runs, 1000 loops each)\n",
      "944 ns ± 2.25 ns per loop (mean ± std. dev. of 5 runs, 1000000 loops each)\n"
     ]
    }
   ],
   "source": [
    "%timeit -r 5 fibo(15)\n",
    "%timeit -r 5 fibo_iter(15)"
   ]
  },
  {
   "cell_type": "markdown",
   "metadata": {},
   "source": [
    "On observe ici un temps de calcul environ 300 fois supérieur avec la version récursive.\n",
    "Pourtant `n = 15` n'est pas une très grande valeur _a priori_.\n",
    "Vous observerez que ce comportement se dégrade de plus de plus significativement quand `n` augmente ...\n",
    "\n",
    "**Rmq.** On remarque que `timeit` a automatiquement adapté sa mesure au temps d'exécution de chacune des versions : la version itérative est mesurée sur une exécution 1000 fois plus importante que la version récursive.  "
   ]
  },
  {
   "cell_type": "markdown",
   "metadata": {
    "slideshow": {
     "slide_type": "subslide"
    }
   },
   "source": [
    "Pour d'abord expliquer pourquoi cette solution récursive est inefficace en pratique, étudions maintenant plus en détail comment s'exécute un appel récursif."
   ]
  },
  {
   "cell_type": "markdown",
   "metadata": {
    "slideshow": {
     "slide_type": "slide"
    }
   },
   "source": [
    "## Appels récursifs : environnement,  pile d'exécution, pile et arbre des appels\n",
    "\n",
    "On s'intéresse à des notions liées _à la mise en oeuvre_ des appels de fonction dans le cadre récursif.  \n",
    "On en restera surtout aux principes, aux _abstractions algorithmiques_.  \n",
    "Les aspects plus détaillés de la mise en oeuvre (implantation du mécanisme d'appel de fonction) sont étudiés en deuxième année.  "
   ]
  },
  {
   "cell_type": "markdown",
   "metadata": {
    "slideshow": {
     "slide_type": "slide"
    }
   },
   "source": [
    "### Environnement\n",
    "\n",
    "On rappelle que l'appel d'une fonction rompt la séquentialité du calcul.\n",
    "- l'appel déplace l'**environnement d'exécution** de _l'appelant_ vers un nouvel environnement dédié à _l'appelé_. \n",
    "- le traitement de l'appel s'effectue dans cet environnement jusqu'à l'exécution d'un `return`.\n",
    "- ce `return` termine l'appel et permet de revenir à l'environnement de _l'appelant_ pour continuer le traitement (en général l'affectation de la valeur retournée par l'appel).\n",
    "- L'environnement de _l'appelé_ n'a plus d'utilité et peut donc être \"détruit\".\n",
    "\n",
    "L'environnement créé par l'appel contient l'information qui répond aux questions suivantes.\n",
    "* Quelles sont les valeurs des paramètres effectifs de l'appel (nécessaires au traitement) ?\n",
    "* Où retourner le résultat de l'appel ? (une ou des adresses de retour)\n",
    "* Où stocker les variables locales nécessaires au traitement de l'appel ?"
   ]
  },
  {
   "cell_type": "markdown",
   "metadata": {
    "slideshow": {
     "slide_type": "slide"
    }
   },
   "source": [
    "**Le cas récursif.**\n",
    "Chaque appel récursif nécessite de construire **dynamiquement** un nouvel environnement. \n",
    "\n",
    "En pratique, on ne connaît pas le nombre de fois où une/des fonctions sont appelées.  \n",
    "Chaque environnement est donc conservé dans une structure de donnée adaptée à son stockage et aux traitements à effectuer : en pratique, ajouter un nouvel environnement (appel), supprimer un environnement (suite au `return`) \n",
    "\n",
    "Cette structure de données est appelée la _pile d'exécution_ ou la _pile des appels_.  "
   ]
  },
  {
   "cell_type": "markdown",
   "metadata": {
    "slideshow": {
     "slide_type": "slide"
    }
   },
   "source": [
    "### Pile d'exécution\n",
    "\n",
    "La **pile d'exécution** est la mémoire associée nécessaire au stockage des paramètres d'appel, des adresses de retour, des variables locales.\n",
    "\n",
    "Elle est gérée par le langage de programmation : une pile LIFO (_last in, first out_) de taille préfixée.\n",
    "Mais il y a un risque de débordement mémoire si les appels imbriqués trop nombreux -- sans libération de la place occupée.\n",
    "- En python : 1000 appels au maximum ou trop volumineux\n",
    "\n",
    "Utile en pratique ? Oui et pas qu'en cas de _bug_ !\n",
    "- Imaginons par exemple, un paramètre tableau de grande taille réduit récursivement de 1 élément par 1 élément ...\n",
    "    - exemple : sommer récursivement les n valeurs d'un tableau.\n",
    "- Qui plus est si la récursion consiste en plusieurs appels : _récursion multiple_.\n",
    "     - exemple : la suite de Fibonacci  $f(n+1) = f(n) + f(n-1)$."
   ]
  },
  {
   "cell_type": "markdown",
   "metadata": {
    "slideshow": {
     "slide_type": "fragment"
    }
   },
   "source": [
    "```{warning}\n",
    "En pratique : `stack overflow !` est le message classique quand ... ça ne va pas !\n",
    "\n",
    "_stack_ se traduit \"pile\" en français.\n",
    "\n",
    "```"
   ]
  },
  {
   "cell_type": "markdown",
   "metadata": {
    "slideshow": {
     "slide_type": "slide"
    }
   },
   "source": [
    "Pour cette année, on va introduire deux vues plus simples de cette pile d'exécution qui aident à mieux comprendre l'exécution d'un traitement récursif.\n",
    "\n",
    "- La pile des appels récursifs\n",
    "- L'arbre des appels récursifs\n",
    "\n",
    "Ces \"vues plus simples\", aussi appelées des _abstractions algorithmiques_, représentent la logique de fonctionnement de la pile d'exécution. Elles permettent de ne pas avoir à détailler pas toutes les caractéristiques de l'environnement de chaque appel.\n",
    "\n",
    "### Pile des appels\n",
    "\n",
    "La **pile des appels** est une _abstraction algorithmique_ qui représente la logique de la pile d'exécution **en se limitant à l'identifiant de chaque appel**. "
   ]
  },
  {
   "cell_type": "markdown",
   "metadata": {
    "slideshow": {
     "slide_type": "subslide"
    }
   },
   "source": [
    "### Arbre des appels récursifs\n",
    "\n",
    "L'**arbre des appels récursifs** est une autre _abstraction algorithmique_ de l'ensemble des appels d'un traitement récursif.  \n",
    "Le parcours des noeuds d'un arbre se représente aussi avec une pile ... d'où la connexion entre ces deux abstractions du traitement de la récursion.  "
   ]
  },
  {
   "cell_type": "markdown",
   "metadata": {
    "slideshow": {
     "slide_type": "slide"
    }
   },
   "source": [
    "### Illustration sur la factorielle récursive\n",
    "\n",
    "Calcul de `fact(4)` \n",
    "\n",
    "![factorielle(4)](./fig/fact4.jpg)"
   ]
  },
  {
   "cell_type": "markdown",
   "metadata": {
    "slideshow": {
     "slide_type": "subslide"
    }
   },
   "source": [
    "#### arbre des appels\n",
    "\n",
    "La représentation suivante exhibe l'_arbre des appels_ récursif de `f`\n",
    "\n",
    "![](./fig/fact4_dot.jpg)"
   ]
  },
  {
   "cell_type": "markdown",
   "metadata": {
    "slideshow": {
     "slide_type": "subslide"
    }
   },
   "source": [
    "Ici, les calculs intermédiaires sont simples (1 multiplication) et on peut compléter cet arbre des appels en exhibant les opérandes de ces calculs. \n",
    "\n",
    "![](./fig/fact4_complet.jpg)"
   ]
  },
  {
   "cell_type": "markdown",
   "metadata": {},
   "source": [
    "**Rmq.** ($\\star$) Ces tracés sont obtenus à partir de petits codes python décrits dans cette [annexe](ann:graphviz)."
   ]
  },
  {
   "cell_type": "markdown",
   "metadata": {
    "slideshow": {
     "slide_type": "slide"
    }
   },
   "source": [
    "#### pile des appels\n",
    "\n",
    "L'évolution de la pile des appels lors du calcule de $4!$ s'obtient en parcourant l'arbre des appels \"en profondeur d'abord\".  \n",
    "On note `fact( )` par `f( )`.  \n",
    "\n",
    "On représente **l'évolution de la pile des appels sur un axe _horizontal_ qui décrit le temps** (de la gauche vers la droite).  \n",
    "La pile est représentée à chacun de ces changements d'_état_ :  \n",
    "- la pile est  vide avant l'appel récursif principal  \n",
    "- chaque appel récursif _empile_ son contexte : on le note par l'appel lui-même \n",
    "    - exemple : `f(4)` est l'appel principal du calcul de $4!$ et dénote aussi l'environnement de cet appel  \n",
    "- chaque retour de valeur à l'appelant a pour effet de _dépiler_ l'environnement de l'appelé  \n",
    "Ainsi la pile redevient vide après le traitement complet de l'appel principal.\n",
    "\n",
    "Dans les affichages successifs :\n",
    "- chaque colonne verticale représente l'état de la pile à un instant donné de l'exécution récursive \n",
    "- le bas de la pile est le bas de la colonne\n",
    "- à chaque _changement d'état_ de la pile, une nouvelle colonne est ajoutée à droite des précédentes \n",
    "    - un nouvel appel est empilé ou un appel terminé est dépilé\n",
    "    - la colonne la plus à droite représente l'état le plus récent de la pile \n",
    "    - le numéro sous la pile aide à suivre l'évolution de la pile dans le temps  \n",
    "\n",
    "Ainsi les tracés successifs peuvent être vus comme une suite de photographies de la pile prises au fur et à mesure du traitement récursif. Le dernier tracé contient \"tout le film\" de l'évolution de la pile pour la totalité du traitement récursif.   \n"
   ]
  },
  {
   "cell_type": "markdown",
   "metadata": {
    "slideshow": {
     "slide_type": "slide"
    }
   },
   "source": [
    "**Construction de la pile des appels du calcul de $4!$ :**\n",
    "\n",
    "- avant l'appel principal :  la pile est vide  \n",
    "```shell\n",
    "      . \n",
    "      0\n",
    "```  "
   ]
  },
  {
   "cell_type": "markdown",
   "metadata": {
    "slideshow": {
     "slide_type": "fragment"
    }
   },
   "source": [
    "- l'appel principal : on empile f(4)  \n",
    "```shell\n",
    "      . f(4)\n",
    "      0  1\n",
    "```"
   ]
  },
  {
   "cell_type": "markdown",
   "metadata": {
    "slideshow": {
     "slide_type": "fragment"
    }
   },
   "source": [
    "- dans f(4), l'appel de f(3) : on empile f(3)  \n",
    "```shell\n",
    "             f(3) \n",
    "      . f(4) f(4)   \n",
    "      0   1   2\n",
    "```"
   ]
  },
  {
   "cell_type": "markdown",
   "metadata": {
    "slideshow": {
     "slide_type": "fragment"
    }
   },
   "source": [
    "- dans f(3), l'appel de f(2) : on empile f(2)  \n",
    "```shell\n",
    "                  f(2) \n",
    "             f(3) f(3) \n",
    "      . f(4) f(4) f(4)   \n",
    "      0   1    2   3\n",
    "```      "
   ]
  },
  {
   "cell_type": "markdown",
   "metadata": {
    "slideshow": {
     "slide_type": "fragment"
    }
   },
   "source": [
    "- dans f(2), l'appel de f(1) : on empile f(1) \n",
    "```shell\n",
    "                       f(1)\n",
    "                  f(2) f(2) \n",
    "             f(3) f(3) f(3) \n",
    "      . f(4) f(4) f(4) f(4)   \n",
    "      0   1    2   3    4\n",
    "```"
   ]
  },
  {
   "cell_type": "markdown",
   "metadata": {
    "slideshow": {
     "slide_type": "fragment"
    }
   },
   "source": [
    "- f(1) est terminal (cet appel renvoie une valeur (1)) : on dépile f(1)\n",
    "```shell\n",
    "                       f(1)\n",
    "                  f(2) f(2) f(2)\n",
    "             f(3) f(3) f(3) f(3)\n",
    "      . f(4) f(4) f(4) f(4) f(4)  \n",
    "      0   1    2   3    4    5\n",
    "```  "
   ]
  },
  {
   "cell_type": "markdown",
   "metadata": {
    "slideshow": {
     "slide_type": "fragment"
    }
   },
   "source": [
    "- f(2) est calculé et cet appel renvoie la valeur 1 x 2 : on dépile f(2)\n",
    "```shell\n",
    "                       f(1)\n",
    "                  f(2) f(2) f(2)\n",
    "             f(3) f(3) f(3) f(3) f(3)\n",
    "      . f(4) f(4) f(4) f(4) f(4) f(4)  \n",
    "      0   1    2   3    4    5    6  \n",
    "```  "
   ]
  },
  {
   "cell_type": "markdown",
   "metadata": {
    "slideshow": {
     "slide_type": "fragment"
    }
   },
   "source": [
    "- f(3) est calculé et cet appel renvoie la valeur 1x2x3 : on dépile f(3)\n",
    "```shell\n",
    "                       f(1)\n",
    "                  f(2) f(2) f(2)\n",
    "             f(3) f(3) f(3) f(3) f(3)\n",
    "      . f(4) f(4) f(4) f(4) f(4) f(4) f(4)  \n",
    "      0   1    2   3    4    5    6    7\n",
    "```"
   ]
  },
  {
   "cell_type": "markdown",
   "metadata": {
    "slideshow": {
     "slide_type": "fragment"
    }
   },
   "source": [
    "- f(4) est calculé et cet appel renvoie la valeur 1x2x3x4 : on dépile f(4)\n",
    "```shell\n",
    "\n",
    "                       f(1)\n",
    "                  f(2) f(2) f(2)\n",
    "             f(3) f(3) f(3) f(3) f(3)\n",
    "      . f(4) f(4) f(4) f(4) f(4) f(4) f(4) .\n",
    "      0   1    2   3    4    5    6    7   8 \n",
    "```   "
   ]
  },
  {
   "cell_type": "markdown",
   "metadata": {
    "slideshow": {
     "slide_type": "fragment"
    }
   },
   "source": [
    "- la pile est vide et on a bien obtenu le résultat attendu (24)."
   ]
  },
  {
   "cell_type": "markdown",
   "metadata": {
    "slideshow": {
     "slide_type": "slide"
    }
   },
   "source": [
    "####  environnements successifs pour factorielle(3) \n",
    "\n",
    "On peut le détailler un peu plus dans ce cas simple.\n",
    "\n",
    "appel = f(3)\n",
    "\n",
    "```python\n",
    "def f(n):\n",
    "    \"\"\"Calcul de factorielle n -- version récursive\n",
    "    entrée : n > 0\n",
    "    sortie n!\n",
    "    \"\"\"\n",
    "    if n == 1:     \n",
    "        return 1   \n",
    "    else:\n",
    "        r = f(n-1) # appel -> changement d'environnement\n",
    "        p = n * r\n",
    "        return p   # return -> retour vers l'environnement de l'appelant \n",
    "\n",
    "```"
   ]
  },
  {
   "cell_type": "markdown",
   "metadata": {
    "slideshow": {
     "slide_type": "fragment"
    }
   },
   "source": [
    "L'environnement de chaque appel est décrit par une colonne du tableau suivant.\n",
    "\n",
    "   . |   0   |  1    |  2    |   3        \n",
    "-----|-------|-------|-------|--------  \n",
    "1    | r=f(3)| n=3   |       |          \n",
    "2    |       | r=f(2)| n=2   |          \n",
    "3    |       |       | r=f(1)| n=1      \n",
    "4    |       |       |       | return 1  \n",
    "5    |       |       | p=2\\*1 |  \n",
    "6    |       |       | return 2|   \n",
    "7    |       | p=3\\*2|       |  \n",
    "8    |       | return 6|     |  \n",
    "9    | r = 6 |       |       | \n",
    "  \n",
    "    "
   ]
  },
  {
   "cell_type": "markdown",
   "metadata": {
    "slideshow": {
     "slide_type": "slide"
    }
   },
   "source": [
    "### Illustration sur le calcul récursif de la suite de Fibonacci.\n",
    "\n",
    "On peut maintenant revenir sur les raisons de l'inefficacité du calcul récursif de la suite de Fibonacci.\n",
    "\n",
    "#### arbre des appels\n",
    "\n",
    "* Le calcul de `fibo(4)` correspond à un parcours \"en profondeur d'abord\" de l'**arbre des appels** suivant.\n",
    "\n",
    "![arbre appels fibo(4)](./fig/arbre-fibo4.jpg)"
   ]
  },
  {
   "cell_type": "markdown",
   "metadata": {
    "slideshow": {
     "slide_type": "subslide"
    }
   },
   "source": [
    "#### pile des appels récursifs\n",
    "\n",
    "On note `fibo()` par `f()`  \n",
    "Les appels récursifs sont empilés (avec leur environnement) dans une _pile d'appels_  \n",
    "Les appels avec terminaison permettent de dépiler l'appelant  \n",
    "L'appel principal est exécuté une fois la pile vidée\n",
    "\n",
    "```shell\n",
    "                   f(1)      f(0)\n",
    "              f(2) f(2) f(2) f(2) f(2)      f(1)                f(1)      f(0)\n",
    "         f(3) f(3) f(3) f(3) f(3) f(3) f(3) f(3) f(3)      f(2) f(2) f(2) f(2) f(2)\n",
    "    f(4) f(4) f(4) f(4) f(4) f(4) f(4) f(4) f(4) f(4) f(4) f(4) f(4) f(4) f(4) f(4) f(4)\n",
    "      0   1    2    3    4    5    6    7    8    9    10   11   12   13   14   15   16\n",
    "```"
   ]
  },
  {
   "cell_type": "markdown",
   "metadata": {},
   "source": [
    "**Rmq.** Une évolution de la pile un peu différente de celle tracée ci-dessus peut aussi être envisagée.  \n",
    "En effet, l'évaluation de `fibo(n-1) + fibo(n-2)` (dans une affectation ou un `return`) provoque l'empilement de `fibo(n-2)` et `fibo(n-1)` avant leur traitement (dans un ordre arbitraire). Ainsi, la pile peut augmenter de 2 niveaux avant de redescendre d'un seul. Le traitement complet reste bien sûr équivalent."
   ]
  },
  {
   "cell_type": "markdown",
   "metadata": {},
   "source": [
    "**Exercice.** Tracer une telle évolution pour `f(4)`."
   ]
  },
  {
   "cell_type": "markdown",
   "metadata": {
    "slideshow": {
     "slide_type": "slide"
    }
   },
   "source": [
    "### Retour sur l'inefficacité du calcul récursif de Fibonacci\n",
    "\n",
    "Exercice : comptons le nombre d'appels à `fibo()` dans l'évaluation de `fibo(4)`."
   ]
  },
  {
   "cell_type": "markdown",
   "metadata": {
    "slideshow": {
     "slide_type": "slide"
    }
   },
   "source": [
    " fibo(4) | nbre d'appels \n",
    "---------|:-------:\n",
    " fibo(0) |  2\n",
    " fibo(1) |  3\n",
    " fibo(2) |  2\n",
    " fibo(3) |  1 \n",
    " **total** |  **8** "
   ]
  },
  {
   "cell_type": "markdown",
   "metadata": {
    "slideshow": {
     "slide_type": "slide"
    }
   },
   "source": [
    "Ces évaluations intermédiaires répétées engendrent des _sur-coûts_ en mémoire et en calcul qui dégradent l'efficacité de l'évaluation récursive de `fibo( )`.   "
   ]
  },
  {
   "cell_type": "markdown",
   "metadata": {
    "slideshow": {
     "slide_type": "slide"
    }
   },
   "source": [
    "**Rmq.**  N'y-a-t-il pas des calculs inutiles ? ($\\star$) Comment les éviter ? "
   ]
  },
  {
   "cell_type": "markdown",
   "metadata": {
    "slideshow": {
     "slide_type": "subslide"
    }
   },
   "source": [
    "\n",
    "#### environnements et pile d'exécution \n",
    "\n",
    "Profitons du python tutor pour visualiser l'enchaînement des appels et l'évolution de l'environnement :\n",
    "\n",
    "https://goo.gl/mHi50H"
   ]
  },
  {
   "cell_type": "markdown",
   "metadata": {
    "slideshow": {
     "slide_type": "slide"
    }
   },
   "source": [
    "### Solution itérative\n",
    "\n",
    "On a déjà montré une solution itérative de ce calcul.\n",
    "\n",
    "**($\\star$) Exercice.**\n",
    "\n",
    "Proposer une solution itérative encore plus efficace que celle présentée."
   ]
  },
  {
   "cell_type": "markdown",
   "metadata": {
    "slideshow": {
     "slide_type": "slide"
    }
   },
   "source": [
    "```{dropdown} Indication  \n",
    "Avancer dans l'itération en stockant toutes les valeurs déjà calculées (par exemple dans un tableau).  \n",
    "La solution itérative est plus efficace car elle évite de re-calculer les termes déjà calculés.  \n",
    "```"
   ]
  },
  {
   "cell_type": "markdown",
   "metadata": {
    "slideshow": {
     "slide_type": "subslide"
    }
   },
   "source": [
    "### Exercice\n",
    "\n",
    "Reprendre ça sous http://pythontutor.com/live.html#mode=edit"
   ]
  },
  {
   "cell_type": "markdown",
   "metadata": {
    "slideshow": {
     "slide_type": "slide"
    }
   },
   "source": [
    "## Les tours de Hanoï\n",
    "\n",
    "### Objectif\n",
    "\n",
    "Déplacer l'empilement de disques du piquet gauche au piquet droit en respectant les règles suivantes :  \n",
    "* déplacer un seul disque à la fois\n",
    "* un disque ne peut être posé que sur un disque de diamètre supérieur\n",
    "On doit utiliser le piquet du milieu.\n",
    "\n",
    "\n",
    "Situation initiale : ![hanoi_debut](fig/hanoi1.jpg)  \n",
    "\n",
    "Situation finale : ![hanoi_fin](fig/hanoi2.jpg)\n"
   ]
  },
  {
   "cell_type": "markdown",
   "metadata": {
    "slideshow": {
     "slide_type": "slide"
    }
   },
   "source": [
    "### Solution récursive\n",
    "\n",
    "#### Analyse\n",
    "* On  note les piquets A, B, C de la gauche vers la droite.  Départ = A, objectif = C\n",
    "* On note $n$ le nombre de disques à déplacer ; ici $n=4$\n",
    "* On veut donc **résoudre le problème des tours de Hanoi de taille 4 en allant de A vers C grâce à l'utilisation de B**\n",
    "    - notons la résolution de ce problème `Hanoi(4, A, C, B)` \n",
    "    - plus généralement : **Hanoi(n, départ, arrivée, intermédiaire)**\n",
    "    "
   ]
  },
  {
   "cell_type": "markdown",
   "metadata": {
    "slideshow": {
     "slide_type": "subslide"
    }
   },
   "source": [
    "**Récursion**  \n",
    "Si on déplace _l'empilement complet avec les 3 disques supérieurs_ de A vers B en utilisant C (dur), ensuite on déplace le dernier (plus grand) disque de A vers C (facile), il ne reste qu'à déplacer l'empilement complet de 3 disques de B vers C en utilisant A (moins dur vu qu'on pu le faire à l'étape 1)\n",
    "* déplacer un empilement complet de 3 disques de A vers B (en utilisant C) = `Hanoi(3, A, B, C)`\n",
    "* déplacer le disque qui reste sur A vers C = `Hanoi(1, A, C, B)` ... oui: B ne sert à rien\n",
    "* déplacer un empilement complet de 3 disques de B vers C (en utilisant A) = `Hanoi(3, B, C, A)`\n",
    "\n",
    "\n",
    "<div class=\"alert alert-success\">\n",
    "    \n",
    "On tient la récursion ! 3 appels à `Hanoi` pour calculer `Hanoi` !!\n",
    "\n",
    "</div>"
   ]
  },
  {
   "cell_type": "markdown",
   "metadata": {
    "slideshow": {
     "slide_type": "subslide"
    }
   },
   "source": [
    "**Avec un graphique**\n",
    "\n",
    "* On part de là : avec un empilement de 4 disques sur A à déplacer vers C\n",
    "![hanoi_rec0](fig/resized/hanoi_rec0.png)"
   ]
  },
  {
   "cell_type": "markdown",
   "metadata": {
    "slideshow": {
     "slide_type": "subslide"
    }
   },
   "source": [
    "* On identifie un empilement de taille inférieure : 3 disques regroupés en rose\n",
    "![hanoi_rec1](fig/resized/hanoi_rec1.png)"
   ]
  },
  {
   "cell_type": "markdown",
   "metadata": {
    "slideshow": {
     "slide_type": "subslide"
    }
   },
   "source": [
    "* On suppose qu'on est capable de déplacer _correctement_ l'empilement rose de A vers B (en utilisant C)\n",
    "![hanoi_rec2](fig/resized/hanoi_rec2.png)"
   ]
  },
  {
   "cell_type": "markdown",
   "metadata": {
    "slideshow": {
     "slide_type": "subslide"
    }
   },
   "source": [
    "* On déplace le dernier disque restant sur A vers C : il est à sa bonne place\n",
    "![hanoi_rec3](fig/resized/hanoi_rec3.png)"
   ]
  },
  {
   "cell_type": "markdown",
   "metadata": {
    "slideshow": {
     "slide_type": "subslide"
    }
   },
   "source": [
    "* Comme deux étapes avant, on suppose qu'on est capable de déplacer _correctement_ l'empilement rose de B vers C (en utilisant A). L'empilement rose est bien placé maintenant\n",
    "![hanoi_rec4](fig/resized/hanoi_rec4.png)"
   ]
  },
  {
   "cell_type": "markdown",
   "metadata": {
    "slideshow": {
     "slide_type": "subslide"
    }
   },
   "source": [
    "* et le problème initial est bien résolu !\n",
    "![hanoi_rec5](fig/resized/hanoi_rec5.png)"
   ]
  },
  {
   "cell_type": "markdown",
   "metadata": {
    "slideshow": {
     "slide_type": "subslide"
    }
   },
   "source": [
    "**Terminaison pour la récursion**\n",
    "* on termine quand on sait résoudre le problème car il est suffisamment simple :\n",
    "    - on déplace **un disque** \n",
    "    - c'est `Hanoi(1, ...)`\n",
    "\n",
    "    \n",
    "_Remarque :_ pour une solution itérative, une terminaison naturelle serait \"quand tous les disques ont été déplacés\", i.e. quand le piquet de départ est vide\n",
    "\n",
    "**Déplacer $(n-1)$ disques : étape dure ?**  \n",
    "* NON : on \"retombe\" sur la résolution de Hanoi pour un nombre de disque diminué de 1 ...  \n",
    "* ce qui devrait à un moment ne plus laisser aucun disque à déplacer :)\n",
    "On formalisera plus tard cette analyse de la _terminaison_ de la solution récursive. "
   ]
  },
  {
   "cell_type": "markdown",
   "metadata": {
    "slideshow": {
     "slide_type": "subslide"
    }
   },
   "source": [
    "#### Codage \n",
    "\n",
    "Yapluka !\n",
    "\n",
    "On commence avec `hanoi0` pour exhiber un détail technique"
   ]
  },
  {
   "cell_type": "code",
   "execution_count": null,
   "metadata": {
    "slideshow": {
     "slide_type": "fragment"
    }
   },
   "outputs": [],
   "source": [
    "def hanoi0(n: int, depart, arrivee, interm) -> None:\n",
    "    '''tours de hanoi :  déplacer n disques de \n",
    "    depart vers arrivee en utilisant interm \n",
    "    (et en respectant les règles de déplacement du pb des tours de Hanoi)\n",
    "    '''\n",
    "    if n > 0:\n",
    "        hanoi0(n-1, depart, interm, arrivee)\n",
    "        hanoi0(1, depart, arrivee, interm)\n",
    "        hanoi0(n-1, interm, arrivee, depart)                "
   ]
  },
  {
   "cell_type": "markdown",
   "metadata": {},
   "source": [
    "L'appel suivant déclenche une erreur."
   ]
  },
  {
   "cell_type": "code",
   "execution_count": 46,
   "metadata": {},
   "outputs": [
    {
     "ename": "NameError",
     "evalue": "name 'A' is not defined",
     "output_type": "error",
     "traceback": [
      "\u001b[0;31m---------------------------------------------------------------------------\u001b[0m",
      "\u001b[0;31mNameError\u001b[0m                                 Traceback (most recent call last)",
      "\u001b[0;32m/var/folders/32/9hkmzrf11t38ckpktjnyfsfc0000gn/T/ipykernel_86300/2035115461.py\u001b[0m in \u001b[0;36m<cell line: 1>\u001b[0;34m()\u001b[0m\n\u001b[0;32m----> 1\u001b[0;31m \u001b[0mhanoi0\u001b[0m\u001b[0;34m(\u001b[0m\u001b[0;36m4\u001b[0m\u001b[0;34m,\u001b[0m \u001b[0mA\u001b[0m\u001b[0;34m,\u001b[0m \u001b[0mC\u001b[0m\u001b[0;34m,\u001b[0m \u001b[0mB\u001b[0m\u001b[0;34m)\u001b[0m\u001b[0;34m\u001b[0m\u001b[0;34m\u001b[0m\u001b[0m\n\u001b[0m",
      "\u001b[0;31mNameError\u001b[0m: name 'A' is not defined"
     ]
    }
   ],
   "source": [
    "hanoi0(4, A, C, B)"
   ]
  },
  {
   "cell_type": "markdown",
   "metadata": {
    "slideshow": {
     "slide_type": "subslide"
    }
   },
   "source": [
    "En effet, les piquets `A, B, C` n'existent pas en tant qu'objet (variable) python.\n",
    "On remarque que l'en-tête de la fonction était silencieuse à ce sujet ...\n",
    "\n",
    "Pour rendre effectif un traitement, \n",
    "* les piquets sont les _caractères_ : `'A'`, `'B'`, `'C'`  \n",
    "* il suffit alors d'indiquer le déplacement `(Hanoi(1, ...)` par un `print`:\n",
    "    -  `hanoi(1, depart, arrivee, interm)` devient  `print(depart -> arrivee)`\n",
    "    - ce qui montre bien qu'interm est inutile quand le nb de disques égal 1\n",
    "    \n",
    "L'exécution de l'algo va donner tous les déplacements _d'1 disque_ à appliquer au pb pour le résoudre  "
   ]
  },
  {
   "cell_type": "code",
   "execution_count": 27,
   "metadata": {
    "slideshow": {
     "slide_type": "subslide"
    }
   },
   "outputs": [
    {
     "name": "stdout",
     "output_type": "stream",
     "text": [
      "A --> B\n",
      "A --> C\n",
      "B --> C\n",
      "A --> B\n",
      "C --> A\n",
      "C --> B\n",
      "A --> B\n",
      "A --> C\n",
      "B --> C\n",
      "B --> A\n",
      "C --> A\n",
      "B --> C\n",
      "A --> B\n",
      "A --> C\n",
      "B --> C\n"
     ]
    }
   ],
   "source": [
    "def hanoi(n: int, depart: str, arrivee: str, interm: str) -> None:\n",
    "    '''affiche les déplacements pour déplacer n disques de \n",
    "    depart vers arrivee en utilisant interm \n",
    "    (et en respectant les règles de déplacement du pb des tours de Hanoi)\n",
    "    '''\n",
    "    if n > 0:\n",
    "        hanoi(n-1, depart, interm, arrivee)\n",
    "        print(depart, '-->', arrivee)\n",
    "        hanoi(n-1, interm, arrivee, depart)        \n",
    "        \n",
    "'''appel'''\n",
    "hanoi(4, 'A', 'C', 'B')"
   ]
  },
  {
   "cell_type": "markdown",
   "metadata": {
    "slideshow": {
     "slide_type": "subslide"
    }
   },
   "source": [
    "<div class=\"alert alert-danger\">\n",
    "\n",
    "ATTENTION : il y a 0 `return` et 1 `print` ... et pourtant l'algorithme termine et (semble) donner les déplacements qui résolvent le pb ... C'est un biais introduit par la _modélisation_ des piquets par des caractères (difficile de faire autre chose que des `print` sur des caractères). Vous reprendrez cette résolution lorsque vous saurez représenter les empilements de disques par ... des piles.\n",
    "\n",
    "</div>"
   ]
  },
  {
   "cell_type": "code",
   "execution_count": 28,
   "metadata": {
    "slideshow": {
     "slide_type": "subslide"
    }
   },
   "outputs": [
    {
     "name": "stdout",
     "output_type": "stream",
     "text": [
      "---------\n",
      "A --> B\n",
      "A --> C\n",
      "B --> C\n",
      "---------\n",
      "A --> C\n",
      "A --> B\n",
      "C --> B\n",
      "A --> C\n",
      "B --> A\n",
      "B --> C\n",
      "A --> C\n"
     ]
    }
   ],
   "source": [
    "''' appels simples pour se convaincre que ça marche et ...'''\n",
    "#hanoi(1, 'A', 'C', 'B')\n",
    "print(\"---------\")\n",
    "hanoi(2, 'A', 'C', 'B')\n",
    "print(\"---------\")\n",
    "hanoi(3, 'A', 'C', 'B')"
   ]
  },
  {
   "cell_type": "markdown",
   "metadata": {
    "slideshow": {
     "slide_type": "subslide"
    }
   },
   "source": [
    "**Exercice**  \n",
    "Exécuter \"à la main\" les déplacements de `hanoi(3)`et `hanoi(4)` en numérotant les disques (1,2,3,...) et les piquets (A,B,C)  \n",
    "et vérifier que les problèmes sont effectivement résolus !"
   ]
  },
  {
   "cell_type": "markdown",
   "metadata": {
    "slideshow": {
     "slide_type": "slide"
    }
   },
   "source": [
    "### Observation ... inquiétante\n",
    "\n",
    "\\# disques | \\# déplacements\n",
    ":----------:|:--------------:\n",
    "2 | 3\n",
    "3 | 7\n",
    "4 | 15\n",
    "\n",
    "Normal ?\n",
    "* $n=1$ : OK pour hanoi(1) = 1 seul déplacement\n",
    "* $n=2$ : 3 appels à hanoi(1) donc $3\\times1 = 3$ \n",
    "* $n=3$ : 2 hanoi(2) + 1 hanoi(1) = $2\\times 3 + 1 \\times 1 = 7$\n",
    "* $n=4$ : 2 hanoi(3) + 1 hanoi(1) = $2\\times 7 + 1 \\times 1 = 15$\n",
    "\n",
    "et ainsi de suite ... \n",
    "Ca augmente assez vite !  \n",
    "On formalise cette observation en notant :\n",
    "* $C(n)$ le nombre de déplacements nécessaires pour résoudre le problème des tours de Hanoi avec $n$ disques. On a :\n",
    "    - $C(1) = 1$\n",
    "    - $C(n) = 2 \\times C(n-1) + 1$\n",
    "* Cette récurrence a un comportement asymptotique exponentiel : on se convainc assez vite que $C(n)$ augmente comme $2^n$. \n",
    "* Se reporter à la dernière section du [chapitre Complexité](ch:complexite) pour plus de détails."
   ]
  },
  {
   "cell_type": "markdown",
   "metadata": {
    "slideshow": {
     "slide_type": "slide"
    }
   },
   "source": [
    "**Exercices**\n",
    "* Coder un algo qui calcule le nombre de déplacements pour $n = 2, 3, \\dots, 12$ et pour plus ensuite \n",
    "* Modifier `hanoi()` pour compter le nombre de déplacements total "
   ]
  },
  {
   "cell_type": "code",
   "execution_count": 29,
   "metadata": {
    "scrolled": true,
    "slideshow": {
     "slide_type": "subslide"
    }
   },
   "outputs": [
    {
     "name": "stdout",
     "output_type": "stream",
     "text": [
      "2 disques  ->  3 déplacements\n",
      "3 disques  ->  7 déplacements\n",
      "4 disques  ->  15 déplacements\n",
      "5 disques  ->  31 déplacements\n",
      "6 disques  ->  63 déplacements\n",
      "7 disques  ->  127 déplacements\n",
      "8 disques  ->  255 déplacements\n",
      "9 disques  ->  511 déplacements\n",
      "10 disques  ->  1023 déplacements\n",
      "11 disques  ->  2047 déplacements\n",
      "12 disques  ->  4095 déplacements\n",
      "13 disques  ->  8191 déplacements\n",
      "Ca vous fait penser à quelque chose :) ?\n"
     ]
    }
   ],
   "source": [
    "a = 1\n",
    "for i in range(1, 13):\n",
    "    c = 2*a + 1\n",
    "    print(i+1, 'disques  -> ', c, 'déplacements')\n",
    "    a = c\n",
    "print(\"Ca vous fait penser à quelque chose :) ?\")"
   ]
  },
  {
   "cell_type": "markdown",
   "metadata": {
    "slideshow": {
     "slide_type": "slide"
    }
   },
   "source": [
    "## Conclusion\n",
    "\n",
    "### Ce qui a été vu\n",
    "\n",
    "- Les solutions récursives sont souvent plus faciles à écrire, à comprendre, à prouver.\n",
    "- Commencer par écrire la terminaison de la solution récursive.\n",
    "- La stratégie diviser pour régner conduit naturellement à une solution récursive -- mais pas que !\n",
    "- Chaque appel récursif augmente l'espace mémoire nécessaire à la résolution.\n",
    "    - Expliciter la pile de ces appels et son évolution lors de l'exécution\n",
    "- Des exemples importants de solutions récursives de problèmes **dont on connaissait déjà des solutions itératives** \n",
    "    - calcul de factorielles, exponentiation entière, exponentiation rapide\n",
    "    - recherche par dichotomie  "
   ]
  },
  {
   "cell_type": "markdown",
   "metadata": {
    "slideshow": {
     "slide_type": "subslide"
    }
   },
   "source": [
    "### Ce qui reste à voir\n",
    "\n",
    "1. Version récursive d'autres algorithmes importants \n",
    "    - algorithmes de tri : tri fusion, tri rapide : voir chapitre \"Trier\"  \n",
    "2. Etablir la complexité d'algos récursifs\n",
    "    - La fonction de complexité est une expression récurrente\n",
    "        - la complexité de la résolution récursive d'un problème de taille $n$ est fonction de la complexité de la résolution (récursive) du problème de taille réduite.\n",
    "    - exemples : \n",
    "        - factorielle, somme $n$ valeurs, exponentiation : $C(n) = C(n-1) + 1$ et $C(1) = 1$\n",
    "        - exponentiation rapide, dichotomie (pour $n=2^p$) : $C(n) = C(n/2) + 1$ et $C(1) = 1$\n",
    "        - diviser pour régner en $p$ problèmes de taille $n/p$ : $C(n) = p \\times C(n/p) + f(p)$ et $C(1) = 1$\n",
    "        - ...\n",
    "    - Traité en dernière partie du chapitre \"Complexités\"  \n",
    "3. $\\star$ Prouver la terminaison et la correction de ces algos récursifs\n",
    "    - Traité dans le chapitre \"Prouver\"  \n",
    "4. $\\star$ Dé-récursifier : récursif -> itératif (quand on peut)\n",
    "    - voir par exemple les slides du cours de 2016 : http://perso.univ-perp.fr/langlois/images/pdf/ens/L1/s7-sl4.pdf "
   ]
  },
  {
   "cell_type": "markdown",
   "metadata": {
    "slideshow": {
     "slide_type": "slide"
    }
   },
   "source": [
    "### Compléments \n",
    "\n",
    "Des ressources utiles :\n",
    "\n",
    "*  sur interstices.info : [hanoi_interstices](https://interstices.info/jcms/p_82121/les-tours-de-hanoi-un-probleme-classique-de-recursion)\n",
    "* un [mooc](https://programmation-recursive-2.appspot.com/coursehttps://programmation-recursive-2.appspot.com/course) sur la récursivité (UPMC)"
   ]
  }
 ],
 "metadata": {
  "celltoolbar": "Diaporama",
  "kernelspec": {
   "display_name": "Python 3 (ipykernel)",
   "language": "python",
   "name": "python3"
  },
  "language_info": {
   "codemirror_mode": {
    "name": "ipython",
    "version": 3
   },
   "file_extension": ".py",
   "mimetype": "text/x-python",
   "name": "python",
   "nbconvert_exporter": "python",
   "pygments_lexer": "ipython3",
   "version": "3.9.6"
  },
  "latex_envs": {
   "LaTeX_envs_menu_present": true,
   "autoclose": false,
   "autocomplete": true,
   "bibliofile": "biblio.bib",
   "cite_by": "apalike",
   "current_citInitial": 1,
   "eqLabelWithNumbers": true,
   "eqNumInitial": 1,
   "hotkeys": {
    "equation": "Ctrl-E",
    "itemize": "Ctrl-I"
   },
   "labels_anchors": false,
   "latex_user_defs": false,
   "report_style_numbering": false,
   "user_envs_cfg": false
  },
  "toc": {
   "nav_menu": {
    "height": "503px",
    "width": "521px"
   },
   "number_sections": true,
   "sideBar": false,
   "skip_h1_title": false,
   "title_cell": "Table of Contents",
   "title_sidebar": "Contents",
   "toc_cell": true,
   "toc_position": {
    "height": "49.3125px",
    "left": "1215px",
    "right": "20px",
    "top": "47.458343505859375px",
    "width": "593px"
   },
   "toc_section_display": false,
   "toc_window_display": true
  }
 },
 "nbformat": 4,
 "nbformat_minor": 4
}
