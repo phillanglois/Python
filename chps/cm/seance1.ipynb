{
 "cells": [
  {
   "cell_type": "markdown",
   "id": "8242560f-21d3-421d-8956-c2fee7bc8da7",
   "metadata": {},
   "source": [
    "# Séance 1\n",
    "\n",
    "## Branchements"
   ]
  },
  {
   "cell_type": "code",
   "execution_count": 3,
   "id": "a121545a-7cc0-4f19-a396-7f1b5a1a8862",
   "metadata": {},
   "outputs": [],
   "source": [
    "from math import sqrt"
   ]
  },
  {
   "cell_type": "code",
   "execution_count": 19,
   "id": "6045cf62-e999-417d-a8ff-6be4cc08267d",
   "metadata": {},
   "outputs": [],
   "source": [
    "a = 1\n",
    "b = 0\n",
    "c = 1"
   ]
  },
  {
   "cell_type": "code",
   "execution_count": 22,
   "id": "48c35c5b-0907-46e7-bb1b-c280b7d2cda3",
   "metadata": {},
   "outputs": [
    {
     "name": "stdout",
     "output_type": "stream",
     "text": [
      "pas de solutions  réelles\n",
      "On a fini\n"
     ]
    }
   ],
   "source": [
    "delta = b*b - 4 * a * c\n",
    "\n",
    "if delta > 0:\n",
    "    x1 = (- b - sqrt(delta)) / 2*a\n",
    "    x2 = (- b + sqrt(delta)) / 2*a\n",
    "    print(\"c'est fait : x1 =\", x1, \"x2 =\", x2)\n",
    "elif delta == 0:\n",
    "    x0 = - b  / 2*a\n",
    "    print(\"c'est fait : x =\", x0)    \n",
    "else:\n",
    "    print(\"pas de solutions  réelles\")\n",
    "print(\"On a fini\")"
   ]
  },
  {
   "cell_type": "code",
   "execution_count": null,
   "id": "b837e868-1850-443d-b6f4-13e0812ad4a8",
   "metadata": {},
   "outputs": [],
   "source": []
  }
 ],
 "metadata": {
  "kernelspec": {
   "display_name": "Python 3 (ipykernel)",
   "language": "python",
   "name": "python3"
  },
  "language_info": {
   "codemirror_mode": {
    "name": "ipython",
    "version": 3
   },
   "file_extension": ".py",
   "mimetype": "text/x-python",
   "name": "python",
   "nbconvert_exporter": "python",
   "pygments_lexer": "ipython3",
   "version": "3.9.6"
  }
 },
 "nbformat": 4,
 "nbformat_minor": 5
}
