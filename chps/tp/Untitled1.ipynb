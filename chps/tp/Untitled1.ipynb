{
 "cells": [
  {
   "cell_type": "code",
   "execution_count": 2,
   "id": "5ecb55f6-dd1b-4715-916d-e349bbb14547",
   "metadata": {},
   "outputs": [],
   "source": [
    "l2 = [[j for j in range(i, i+3)] for i in range(4)]"
   ]
  },
  {
   "cell_type": "code",
   "execution_count": 3,
   "id": "e35a7e59-4fb0-4062-9555-35868fd94080",
   "metadata": {},
   "outputs": [
    {
     "data": {
      "text/plain": [
       "[[0, 1, 2], [1, 2, 3], [2, 3, 4], [3, 4, 5]]"
      ]
     },
     "execution_count": 3,
     "metadata": {},
     "output_type": "execute_result"
    }
   ],
   "source": [
    "l2"
   ]
  },
  {
   "cell_type": "code",
   "execution_count": 4,
   "id": "551f7239-3b28-44e9-aab1-86437452d8c9",
   "metadata": {},
   "outputs": [
    {
     "name": "stdout",
     "output_type": "stream",
     "text": [
      "4597781120 4597786240\n"
     ]
    }
   ],
   "source": [
    "l3 = l2.copy()\n",
    "print(id(l2), id(l3))"
   ]
  },
  {
   "cell_type": "code",
   "execution_count": 5,
   "id": "8ca8197b-f7e4-45b0-88d5-ac57905decb8",
   "metadata": {},
   "outputs": [],
   "source": [
    "l3[1][2] = 7"
   ]
  },
  {
   "cell_type": "code",
   "execution_count": 6,
   "id": "e74d5428-1d81-4dac-99b6-4ac75e276463",
   "metadata": {},
   "outputs": [
    {
     "data": {
      "text/plain": [
       "[[0, 1, 2], [1, 2, 7], [2, 3, 4], [3, 4, 5]]"
      ]
     },
     "execution_count": 6,
     "metadata": {},
     "output_type": "execute_result"
    }
   ],
   "source": [
    "l2"
   ]
  },
  {
   "cell_type": "code",
   "execution_count": 8,
   "id": "957328e5-0137-47e5-84c0-4fe19a63420f",
   "metadata": {},
   "outputs": [],
   "source": [
    "l3[1] = [9, 12, 3]"
   ]
  },
  {
   "cell_type": "code",
   "execution_count": 9,
   "id": "441ede17-fc36-44b4-b5dc-94c69691888b",
   "metadata": {},
   "outputs": [
    {
     "data": {
      "text/plain": [
       "[[0, 1, 2], [1, 2, 7], [2, 3, 4], [3, 4, 5]]"
      ]
     },
     "execution_count": 9,
     "metadata": {},
     "output_type": "execute_result"
    }
   ],
   "source": [
    "l2"
   ]
  },
  {
   "cell_type": "code",
   "execution_count": 13,
   "id": "a0015e4d-5d6a-484c-be41-cb3d78077c5d",
   "metadata": {},
   "outputs": [
    {
     "name": "stdout",
     "output_type": "stream",
     "text": [
      "4597779392\n",
      "4597789568\n",
      "4597779392\n",
      "4597779392\n",
      "4597779392\n"
     ]
    }
   ],
   "source": [
    "l1 = []\n",
    "print(id(l1))\n",
    "l2 = [3*i for i in range(7)]\n",
    "print(id(l2))\n",
    "for i in range(3):\n",
    "    l1.append(2*i)\n",
    "    print(id(l1))\n",
    "    "
   ]
  },
  {
   "cell_type": "code",
   "execution_count": 15,
   "id": "f3dfee4a-0796-4b68-9ff4-c8bb5b713b20",
   "metadata": {},
   "outputs": [
    {
     "name": "stdout",
     "output_type": "stream",
     "text": [
      "4373788832 \n",
      "4597324592 0\n",
      "4597712816 01\n",
      "4597715504 012\n"
     ]
    }
   ],
   "source": [
    "s = \"\"\n",
    "print(id(s), s)\n",
    "for i in range(3):\n",
    "    s = s + str(i)\n",
    "    print(id(s), s)\n"
   ]
  },
  {
   "cell_type": "code",
   "execution_count": null,
   "id": "1f922375-b425-40e1-80e1-874afe557080",
   "metadata": {},
   "outputs": [],
   "source": []
  }
 ],
 "metadata": {
  "kernelspec": {
   "display_name": "Python 3 (ipykernel)",
   "language": "python",
   "name": "python3"
  },
  "language_info": {
   "codemirror_mode": {
    "name": "ipython",
    "version": 3
   },
   "file_extension": ".py",
   "mimetype": "text/x-python",
   "name": "python",
   "nbconvert_exporter": "python",
   "pygments_lexer": "ipython3",
   "version": "3.11.5"
  }
 },
 "nbformat": 4,
 "nbformat_minor": 5
}
