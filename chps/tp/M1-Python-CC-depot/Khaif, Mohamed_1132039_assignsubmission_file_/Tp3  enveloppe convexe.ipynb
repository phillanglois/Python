{
 "cells": [
  {
   "cell_type": "markdown",
   "id": "d20fc212-b181-4b7d-9e28-6a571d2ca7c8",
   "metadata": {},
   "source": [
    "## `points`: points du plan, relation d’ordre\n",
    "\n",
    "Un *point* du plan est un couple $(x, y)$ (de nombres flottants).  \n",
    "On définit la relation d’ordre suivante entre 2 points du plan :  \n",
    "$$(x,y) \\le (x',y') \\iff x < x' \\text{ ou } (x = x' \\text{ et } y \\le y').$$  \n",
    "Un *nuage de points* est un ensemble fini de points.\n",
    "\n",
    "### Question\n",
    "\n",
    "Concevoir et coder un module `points` qui permet de définir des points,\n",
    "de les comparer, d’afficher leurs coordonnées $(x,y)$ à l’écran."
   ]
  },
  {
   "cell_type": "code",
   "execution_count": 1,
   "id": "f9712343-e366-4d5d-bfde-50c114c52eb4",
   "metadata": {},
   "outputs": [
    {
     "data": {
      "text/plain": [
       "True"
      ]
     },
     "execution_count": 1,
     "metadata": {},
     "output_type": "execute_result"
    }
   ],
   "source": [
    "import matplotlib.pyplot as plt\n",
    "from math import sqrt\n",
    "from math import pow\n",
    "\n",
    "def cree_p(x: float, y:float) -> list[float]:\n",
    "    return [x,y]\n",
    "\n",
    "def x(p: list[float]) -> float:\n",
    "    x = p[0] \n",
    "    return x\n",
    "def y(p: list[float]) -> float:\n",
    "    y = p[1] \n",
    "    return y\n",
    "\n",
    "def le(p1: list[int], p2: list[int]) -> bool:  \n",
    "    if x(p1) < x(p2):\n",
    "        return True\n",
    "    elif x(p1) == x(p2) and y(p1) <= y(p2) :\n",
    "        return True\n",
    "    else:\n",
    "        return False\n",
    "    \n",
    "\n",
    "def affiche_p(p: list[float]) -> tuple[float]:\n",
    "    ord_abs = (x(p),y(p))\n",
    "    return ord_abs\n",
    "\n",
    "def distance( p1: list[int], p2: list[int]) -> float:\n",
    "    dist = sqrt(pow((x(p2)-x(p1)),2) + pow((y(p2)-y(p1)),2))\n",
    "    return dist\n",
    "\n",
    "\n",
    "a= [0,1]\n",
    "b= [2,4]\n",
    "le(a,b)"
   ]
  },
  {
   "cell_type": "markdown",
   "id": "605f3cca-45ad-409f-b0f3-57d9d6f8f14e",
   "metadata": {},
   "source": [
    "## `nuage` : nuage de points : générer, trier, afficher, stocker, tracer\n",
    "\n",
    "### Question\n",
    "\n",
    "Ecrire un module `nuage` qui permet de définir un nuage de points de\n",
    "taille paramétrable et de d’afficher les coordonnées de ses points à\n",
    "l’écran."
   ]
  },
  {
   "cell_type": "code",
   "execution_count": 2,
   "id": "78c857be-6fcd-40da-9324-80add38f68af",
   "metadata": {},
   "outputs": [
    {
     "name": "stdout",
     "output_type": "stream",
     "text": [
      "[[10, 7], [5, 5], [3, 6], [9, 8]]\n"
     ]
    },
    {
     "data": {
      "text/plain": [
       "[(10, 7), (5, 5), (3, 6), (9, 8)]"
      ]
     },
     "execution_count": 2,
     "metadata": {},
     "output_type": "execute_result"
    }
   ],
   "source": [
    "def init_nuage(t: list[list[float]], n: int) -> list[list[float]] :\n",
    "    assert 2 == len(t)\n",
    "    for _ in range(2):\n",
    "        assert n == len(t[_])\n",
    "    cords = [0 for s in range(n)]\n",
    "    for i in range(n):\n",
    "            cords[i] = cree_p(t[0][i],t[1][i])\n",
    "    return cords\n",
    "\n",
    "\n",
    "\n",
    "def affiche_nuage(t: list[list[float]], n: int) ->  list[tuple[float]]:\n",
    "    assert n == len(t)\n",
    "    nuage = [(0,0) for v in range(n)]\n",
    "    for i in range(n):\n",
    "        nuage[i] = affiche_p(t[i])\n",
    "    return nuage\n",
    "\n",
    "t = [[10,5,3,9],\n",
    "     [7,5,6,8]\n",
    "    ]\n",
    "t1 = init_nuage(t, 4)\n",
    "print(t1)\n",
    "affiche_nuage(t1, 4)"
   ]
  },
  {
   "cell_type": "markdown",
   "id": "aa9a7198-0054-4d75-b911-c3340d50b004",
   "metadata": {},
   "source": [
    "### Question\n",
    "\n",
    "Compléter ce module de façon à pouvoir générer aléatoirement un nuage de\n",
    "points de taille arbitraire et contenu dans le carré\n",
    "$[0,1] \\times [0,1]$."
   ]
  },
  {
   "cell_type": "code",
   "execution_count": 3,
   "id": "b9785312-3b46-42f5-81f4-10c42c745246",
   "metadata": {},
   "outputs": [],
   "source": [
    "import random\n",
    "\n",
    "def rand_nuage(n: int) -> list[list[float]] :\n",
    "    assert 2 == len(t)\n",
    "    for _ in range(2):\n",
    "        assert n == len(t[_])\n",
    "    rand = [[0 for s in range(n)] for v in range(2)]\n",
    "    for i in range(2):\n",
    "        for j in range(n):\n",
    "            rand[i][j] = random.uniform(0,1)\n",
    "    nuag_rand = init_nuage(rand, n)\n",
    "    return nuag_rand\n"
   ]
  },
  {
   "cell_type": "markdown",
   "id": "fac062d3-d3b4-4ef7-916a-171ee2587b7e",
   "metadata": {},
   "source": [
    "### Question\n",
    "\n",
    "Compléter ce module de façon à pouvoir trier les points d’un nuage donné\n",
    "selon l’ordre croissant défini sur les points du plan."
   ]
  },
  {
   "cell_type": "code",
   "execution_count": 15,
   "id": "accc2fc9-0dcf-434d-9d1e-77d6e3572ade",
   "metadata": {},
   "outputs": [
    {
     "data": {
      "text/plain": [
       "[[3, 6], [5, 5], [9, 8], [10, 7]]"
      ]
     },
     "execution_count": 15,
     "metadata": {},
     "output_type": "execute_result"
    }
   ],
   "source": [
    "def tri_nuage(t: list[list[float]],n: int) -> list[list[float]]:\n",
    "    assert n == len(t)\n",
    "    for i in range(n):\n",
    "        i_min = i\n",
    "        for j in range(i+1,n):\n",
    "            if le(t[j],t[i_min]):\n",
    "                i_min =j\n",
    "        temp = t[i]\n",
    "        t[i] =t[i_min]\n",
    "        t[i_min] = temp\n",
    "    return t\n",
    "tri_nuage(t1,4)                "
   ]
  },
  {
   "cell_type": "markdown",
   "id": "94905896-3ee2-455a-9b66-6ed83487a307",
   "metadata": {},
   "source": [
    "### Question\n",
    "\n",
    "Compléter ce module de façon à pouvoir enregistrer un nuage de points de\n",
    "taille arbitraire dans un fichier de texte. La taille du nuage sera\n",
    "aussi enregistrée dans ce fichier.  \n",
    "Les fichiers `data_nuage_10.txt` et `data_nuage_100.txt` fournis dans\n",
    "l’archive `3-data-nuage.zip` sont des exemples de tels fichiers."
   ]
  },
  {
   "cell_type": "code",
   "execution_count": 5,
   "id": "44e9763c-36e3-4e69-8a57-f409c2b60b17",
   "metadata": {},
   "outputs": [],
   "source": [
    "def enregistre_data( t: list[list[float]],n: int) -> None:\n",
    "    assert n == len(t)\n",
    "    with open(\"./test_write.txt\", \"w\", encoding=\"utf8\") as f:\n",
    "        f.write( str(n) + '\\n' )\n",
    "        for i in range(n):\n",
    "            for j in range(2):\n",
    "                f.write( str(t[i][j]) + '\\t' )\n",
    "            f.write (\"\\n\")\n",
    "        f.close ()\n",
    "enregistre_data(t1,4)"
   ]
  },
  {
   "cell_type": "markdown",
   "id": "305f3818-13dc-43b8-acb4-06800465e176",
   "metadata": {},
   "source": [
    "### Question\n",
    "\n",
    "Compléter ce module de façon à pouvoir lire un nuage de points de taille\n",
    "arbitraire à partir d’un fichier de texte selon le format défini\n",
    "ci-dessus.\n"
   ]
  },
  {
   "cell_type": "code",
   "execution_count": 23,
   "id": "41eea4f0-1ef0-4973-a261-77dce33c036f",
   "metadata": {},
   "outputs": [],
   "source": [
    "def read_nuag(nomDuFichier: str)-> list[list[float]]:\n",
    "    '''lit nomDuFichier au format txt et retourne un tableau 2D'''\n",
    "    res = []\n",
    "    with open(nomDuFichier, 'r' , encoding=\"utf-8\") as f:\n",
    "        for line in f:\n",
    "            stripped_line = line.strip()\n",
    "            line_list = stripped_line.split()\n",
    "            res.append(line_list)\n",
    "        f.close()\n",
    "    return res\n",
    "#PhL read_nuag(r\"C:\\Users\\Med\\Desktop\\Programmation python/test_write.txt\")\n",
    "tttt = read_nuag(r\"./test_write.txt\")"
   ]
  },
  {
   "cell_type": "markdown",
   "id": "268d2258-ca35-4c10-b31e-b8b1a0823366",
   "metadata": {},
   "source": [
    "### Question\n",
    "\n",
    "Compléter ce module de façon à pouvoir tracer graphiquement un nuage de\n",
    "points donné. Le tracé sera effectué à l’écran par défaut. Il permettra\n",
    "aussi de stocker ce tracé dans un fichier `jpeg`.\n"
   ]
  },
  {
   "cell_type": "code",
   "execution_count": 24,
   "id": "ede3a486-b492-44b2-a380-fb1450497288",
   "metadata": {},
   "outputs": [
    {
     "data": {
      "image/png": "[encoded data removed]",
      "text/plain": [
       "<Figure size 640x480 with 1 Axes>"
      ]
     },
     "metadata": {},
     "output_type": "display_data"
    }
   ],
   "source": [
    "def tracer_nuage(t: list[list[int]], n: int) -> None:\n",
    "    assert n == len(t)\n",
    "    for i in range(n):\n",
    "        plt.scatter(x(t[i]),y(t[i]))\n",
    "tracer_nuage(t1,4)"
   ]
  },
  {
   "cell_type": "code",
   "execution_count": 25,
   "id": "09ead63c-b5e0-4b03-a8af-6ae53e9ee4c0",
   "metadata": {},
   "outputs": [
    {
     "ename": "IndexError",
     "evalue": "list index out of range",
     "output_type": "error",
     "traceback": [
      "\u001b[0;31m---------------------------------------------------------------------------\u001b[0m",
      "\u001b[0;31mIndexError\u001b[0m                                Traceback (most recent call last)",
      "\u001b[0;32m/var/folders/32/9hkmzrf11t38ckpktjnyfsfc0000gn/T/ipykernel_36938/1417533255.py\u001b[0m in \u001b[0;36m<cell line: 3>\u001b[0;34m()\u001b[0m\n\u001b[1;32m      1\u001b[0m \u001b[0;31m# PhL\u001b[0m\u001b[0;34m\u001b[0m\u001b[0;34m\u001b[0m\u001b[0;34m\u001b[0m\u001b[0m\n\u001b[1;32m      2\u001b[0m \u001b[0;34m\u001b[0m\u001b[0m\n\u001b[0;32m----> 3\u001b[0;31m \u001b[0mtracer_nuage\u001b[0m\u001b[0;34m(\u001b[0m\u001b[0mtttt\u001b[0m\u001b[0;34m,\u001b[0m \u001b[0mlen\u001b[0m\u001b[0;34m(\u001b[0m\u001b[0mtttt\u001b[0m\u001b[0;34m)\u001b[0m\u001b[0;34m)\u001b[0m\u001b[0;34m\u001b[0m\u001b[0;34m\u001b[0m\u001b[0m\n\u001b[0m",
      "\u001b[0;32m/var/folders/32/9hkmzrf11t38ckpktjnyfsfc0000gn/T/ipykernel_36938/2541795887.py\u001b[0m in \u001b[0;36mtracer_nuage\u001b[0;34m(t, n)\u001b[0m\n\u001b[1;32m      2\u001b[0m     \u001b[0;32massert\u001b[0m \u001b[0mn\u001b[0m \u001b[0;34m==\u001b[0m \u001b[0mlen\u001b[0m\u001b[0;34m(\u001b[0m\u001b[0mt\u001b[0m\u001b[0;34m)\u001b[0m\u001b[0;34m\u001b[0m\u001b[0;34m\u001b[0m\u001b[0m\n\u001b[1;32m      3\u001b[0m     \u001b[0;32mfor\u001b[0m \u001b[0mi\u001b[0m \u001b[0;32min\u001b[0m \u001b[0mrange\u001b[0m\u001b[0;34m(\u001b[0m\u001b[0mn\u001b[0m\u001b[0;34m)\u001b[0m\u001b[0;34m:\u001b[0m\u001b[0;34m\u001b[0m\u001b[0;34m\u001b[0m\u001b[0m\n\u001b[0;32m----> 4\u001b[0;31m         \u001b[0mplt\u001b[0m\u001b[0;34m.\u001b[0m\u001b[0mscatter\u001b[0m\u001b[0;34m(\u001b[0m\u001b[0mx\u001b[0m\u001b[0;34m(\u001b[0m\u001b[0mt\u001b[0m\u001b[0;34m[\u001b[0m\u001b[0mi\u001b[0m\u001b[0;34m]\u001b[0m\u001b[0;34m)\u001b[0m\u001b[0;34m,\u001b[0m\u001b[0my\u001b[0m\u001b[0;34m(\u001b[0m\u001b[0mt\u001b[0m\u001b[0;34m[\u001b[0m\u001b[0mi\u001b[0m\u001b[0;34m]\u001b[0m\u001b[0;34m)\u001b[0m\u001b[0;34m)\u001b[0m\u001b[0;34m\u001b[0m\u001b[0;34m\u001b[0m\u001b[0m\n\u001b[0m\u001b[1;32m      5\u001b[0m \u001b[0mtracer_nuage\u001b[0m\u001b[0;34m(\u001b[0m\u001b[0mt1\u001b[0m\u001b[0;34m,\u001b[0m\u001b[0;36m4\u001b[0m\u001b[0;34m)\u001b[0m\u001b[0;34m\u001b[0m\u001b[0;34m\u001b[0m\u001b[0m\n",
      "\u001b[0;32m/var/folders/32/9hkmzrf11t38ckpktjnyfsfc0000gn/T/ipykernel_36938/1683380298.py\u001b[0m in \u001b[0;36my\u001b[0;34m(p)\u001b[0m\n\u001b[1;32m     10\u001b[0m     \u001b[0;32mreturn\u001b[0m \u001b[0mx\u001b[0m\u001b[0;34m\u001b[0m\u001b[0;34m\u001b[0m\u001b[0m\n\u001b[1;32m     11\u001b[0m \u001b[0;32mdef\u001b[0m \u001b[0my\u001b[0m\u001b[0;34m(\u001b[0m\u001b[0mp\u001b[0m\u001b[0;34m:\u001b[0m \u001b[0mlist\u001b[0m\u001b[0;34m[\u001b[0m\u001b[0mfloat\u001b[0m\u001b[0;34m]\u001b[0m\u001b[0;34m)\u001b[0m \u001b[0;34m->\u001b[0m \u001b[0mfloat\u001b[0m\u001b[0;34m:\u001b[0m\u001b[0;34m\u001b[0m\u001b[0;34m\u001b[0m\u001b[0m\n\u001b[0;32m---> 12\u001b[0;31m     \u001b[0my\u001b[0m \u001b[0;34m=\u001b[0m \u001b[0mp\u001b[0m\u001b[0;34m[\u001b[0m\u001b[0;36m1\u001b[0m\u001b[0;34m]\u001b[0m\u001b[0;34m\u001b[0m\u001b[0;34m\u001b[0m\u001b[0m\n\u001b[0m\u001b[1;32m     13\u001b[0m     \u001b[0;32mreturn\u001b[0m \u001b[0my\u001b[0m\u001b[0;34m\u001b[0m\u001b[0;34m\u001b[0m\u001b[0m\n\u001b[1;32m     14\u001b[0m \u001b[0;34m\u001b[0m\u001b[0m\n",
      "\u001b[0;31mIndexError\u001b[0m: list index out of range"
     ]
    }
   ],
   "source": [
    "# PhL\n",
    "\n",
    "tracer_nuage(tttt, len(tttt))"
   ]
  },
  {
   "cell_type": "markdown",
   "id": "845451d9-0c8a-4348-bd76-a5314185b274",
   "metadata": {},
   "source": [
    "On va développer progressivement un module `geometrie2d`.\n",
    "\n",
    "## `geometrie2d`: orientation de 3 points du plan\n",
    "\n",
    "![Orientations d’un triplet (p,q,r)](attachment:fig/orientation_pqr.png)\n",
    "\n",
    "Un triplet `(p,q,r)` de points *non alignés* du plan est *orienté\n",
    "positivement* si l’angle des vecteurs `(pq, pr)` est dans $]0, \\pi \\ [$\n",
    "(modulo $2\\pi$). Sinon, il est *orienté négativement*.\n",
    "\n",
    "On vérifie l’orientation du triplet `(p,q,r)` en calculant le signe du\n",
    "déterminant 2x2 $det(pq,pr)$ des vecteurs `pq` et `pr`. Signe du\n",
    "déterminant et sens d’orientation coïncident.\n",
    "\n",
    "On rappelle que :\n",
    "$$det(pq,pr) = (x_q - x_p)\\times(y_r - y_p) - (y_q - y_p)\\times(x_r -\n",
    "x_p).$$\n",
    "\n",
    "### Question\n",
    "\n",
    "Commencer le module `geometrie2d` avec une fonction qui calcule\n",
    "l’orientation d’un triplet de points du plan."
   ]
  },
  {
   "cell_type": "code",
   "execution_count": 26,
   "id": "719ae17e-8fe3-4d93-988b-51478884b292",
   "metadata": {},
   "outputs": [],
   "source": [
    "def orientation_triplet( triplet : list[list[int]]) -> int:\n",
    "    for i in range(3):\n",
    "        det1 = (x(triplet[1]) - x(triplet[0]))*(y(triplet[2]) - y(triplet[0])) \n",
    "        det2 = (x(triplet[2]) - x(triplet[0]))*(y(triplet[1]) - y(triplet[0]))\n",
    "        det = det1 - det2\n",
    "    if det >=0:\n",
    "        return 1\n",
    "    if det <0:\n",
    "        return -1"
   ]
  },
  {
   "cell_type": "code",
   "execution_count": 27,
   "id": "9d79771d-af19-4b98-b789-509581b5f5f8",
   "metadata": {},
   "outputs": [
    {
     "data": {
      "text/plain": [
       "1"
      ]
     },
     "execution_count": 27,
     "metadata": {},
     "output_type": "execute_result"
    }
   ],
   "source": [
    "trip = [[3, 6], [5, 5], [9, 8]]\n",
    "orientation_triplet(trip)"
   ]
  },
  {
   "cell_type": "markdown",
   "id": "9a9aca17-be28-414a-a265-871fcf3e705e",
   "metadata": {},
   "source": [
    "## `geometrie2d`: enveloppe convexe supérieure\n",
    "\n",
    "Un ensemble $C$ est *convexe* si le segment \\[p,q\\] qui relie deux\n",
    "points quelconques de $C$ est inclus dans $C$.\n",
    "\n",
    "![exemple d’ensembles convexes et non\n",
    "convexe](attachment:fig/convexes.png)\n",
    "\n",
    "L’*enveloppe convexe* $Conv(N)$ d’un nuage de points $N$ est le plus\n",
    "petit polygone convexe qui contient tous les points de $N$.\n",
    "\n",
    "![L’enveloppe convexe du nuage de points\n",
    "‘data_nuage_10.txt’](attachment:fig/env_conv10.png) ![L’enveloppe\n",
    "convexe du nuage de points\n",
    "‘data_nuage_100.txt’](attachment:fig/env_conv100.png)\n",
    "\n",
    "**Construire l’enveloppe convexe d’un nuage de points.** On construit\n",
    "$Conv(N)$ en balayant de gauche à droite avec une droite verticale le\n",
    "nuage $N$ (préalablement trié par ordre croissant). On convient ainsi\n",
    "que p0 est le plus petit point de N, *ie.* celui le plus à gauche.\n",
    "\n",
    "Chaque point p rencontré par la droite met à jour l’enveloppe convexe du\n",
    "sous-nuage à gauche du point p.  Cette mise à jour s’effectue en\n",
    "distinguant une partie supérieure et une partie inférieure de\n",
    "l’enveloppe convexe.\n",
    "\n",
    "L’*enveloppe supérieure* est au dessus du segment \\[p0, p\\]. Cette\n",
    "enveloppe `ES` est modifiée par l’algorithme suivant qui justifie de\n",
    "stocker `ES` comme une pile de base p0. On ajoute aussi à `ES`, p1 le\n",
    "point immédiatement supérieur à p0 (*ie.* immédiatement à droite de p0).\n",
    "La pile `ES` est ainsi composée d’au moins deux éléments.\n",
    "\n",
    "### Algorithme\n",
    "\n",
    "Soit p le point rencontré par le balayage de N. Notons q et r les deux\n",
    "derniers points ajoutés à `ES` – q est au sommet.\n",
    "\n",
    "-   Si le triplet (p,q,r) est orienté positivement alors p est ajouté à\n",
    "    `ES`. Ce qui termine la mise à jour de `ES`.\n",
    "-   Sinon q est retiré de `ES` et on reprend le test d’orientation et le\n",
    "    traitement précédent pour **un nouveau triplet (p,q,r)** jusqu’à\n",
    "    terminer la mise à jour de `ES` :\n",
    "    -   par l’ajout de p à `ES`  \n",
    "    -   ou parce qu’il ne reste que p0 dans `ES`. Dans ce cas, on\n",
    "        termine en ajoutant p à `ES` – qui est ainsi toujours composée\n",
    "        d’au moins deux éléments.\n",
    "\n",
    "`ES` contient l’enveloppe convexe supérieure du nuage N une fois tous\n",
    "les points p de N balayés.\n",
    "\n",
    "On convient aisément que le point le plus à droite de N est le dernier\n",
    "point ajouté à `ES`.\n",
    "\n",
    "**Illustration graphique.**\n",
    "\n",
    "`ES` = {0,1,5,6}, début du traitement de p = 7\n",
    "\n",
    "![Orientation (7,6,5) négative](attachment:fig/ES-1.png)\n",
    "\n",
    "`ES` = {0,1,5}, p = 7\n",
    "\n",
    "![Orientation (7,5,1) négative](attachment:fig/ES-2.png)\n",
    "\n",
    "`ES` = {0,1}, p = 7\n",
    "\n",
    "![Orientation (7,1,0) positive](attachment:fig/ES-3.png)\n",
    "\n",
    "`ES` = {0,1,7}, fin du traitement de p = 7.\n",
    "\n",
    "### Question\n",
    "\n",
    "Compléter le module précédent avec une fonction `majES(pile, point)` qui\n",
    "effectue la mise à jour de la pile `ES` lors du traitement du point p. \n"
   ]
  },
  {
   "cell_type": "code",
   "execution_count": 10,
   "id": "a8186106-286f-4603-a16e-046282633d32",
   "metadata": {},
   "outputs": [],
   "source": [
    "def init_pile(t: list[list[float]]) -> list[list[float]]:\n",
    "    return t\n",
    "\n",
    "def empiler(t: list[list[float]], val: int) -> None:\n",
    "    t.append(val)\n",
    "\n",
    "def depiler(t: list[list[float]]) -> None:\n",
    "    t.pop()\n",
    "\n",
    "def lang(t: list[list[float]]) -> int:\n",
    "    return len(t)\n",
    "\n",
    "def lireSommet(t: list[list[float]]) -> float:\n",
    "    return t[-1]\n",
    "\n",
    "def estVide(t: list[list[float]]) -> bool:\n",
    "    if lang(t) == 0:\n",
    "        return False\n",
    "    \n"
   ]
  },
  {
   "cell_type": "code",
   "execution_count": 28,
   "id": "29e297ca-f231-4687-a088-fa44e2784cc0",
   "metadata": {},
   "outputs": [],
   "source": [
    "def majES(pile: list[float], point: list[float]) -> list[float]:\n",
    "\n",
    "    k = lang(pile)-1\n",
    "    while (k>0):\n",
    "        triplet=[point, pile[k], pile[k-1]] \n",
    "        if orientation_triplet(triplet) <=0:  # PhL aie si 0\n",
    "            depiler(pile[k])\n",
    "            k -= 1\n",
    "        else:\n",
    "            empiler(pile, point)\n",
    "            break\n",
    "    return pile"
   ]
  },
  {
   "cell_type": "markdown",
   "id": "13c20a1e-3446-4049-8f39-fd63edf42e75",
   "metadata": {},
   "source": [
    "### Question\n",
    "\n",
    "Valider cette fonction sur des nuages de 4 ou 5 points par exemple."
   ]
  },
  {
   "cell_type": "code",
   "execution_count": 29,
   "id": "c4a5ae66-103d-40db-97ad-9fbe0f9b8ad5",
   "metadata": {},
   "outputs": [
    {
     "name": "stdout",
     "output_type": "stream",
     "text": [
      "[[3, 6], [5, 5], [9, 8], [10, 7]]\n"
     ]
    }
   ],
   "source": [
    "t = [[10,5,3,9],\n",
    "     [7,5,6,8]\n",
    "    ]\n",
    "t1 = init_nuage(t, 4)\n",
    "t2 = tri_nuage(t1,4)\n",
    "pi = [[3, 6], [5, 5], [9, 8]]\n",
    "po = [10, 7]\n",
    "\n",
    "pil_mitajour = majES(pi, po)\n",
    "print(pil_mitajour)"
   ]
  },
  {
   "cell_type": "markdown",
   "id": "016c891a-3845-4418-95eb-e6244ff7dfcf",
   "metadata": {},
   "source": [
    "## `geometrie2d`: enveloppe convexe inférieure\n",
    "\n",
    "L’*enveloppe convexe inférieure* est obtenue de façon similaire avec une\n",
    "(autre) pile ‘EI’ et un test d’orientation inverse.\n",
    "\n",
    "### Question\n",
    "\n",
    "Compléter le module précédent avec une fonction `majEI(pile, point)` qui\n",
    "effectue la mise à jour de la pile ‘EI’ lors du traitement du point p. "
   ]
  },
  {
   "cell_type": "code",
   "execution_count": 30,
   "id": "3dd2f60e-dabb-4037-8d96-de9b1d10f78f",
   "metadata": {},
   "outputs": [],
   "source": [
    "def majEI(pile: list[float], point: list[float]) -> list[float]:\n",
    "\n",
    " \n",
    "    k = lang(pile)-1\n",
    "    while (k>0):\n",
    "        triplet=[point, pile[k], pile[k-1]] \n",
    "        if orientation_triplet(triplet) >=0:\n",
    "            depiler(pile[k])\n",
    "            k -= 1\n",
    "        else:\n",
    "            empiler(pile, point)\n",
    "            break\n",
    "    return pile"
   ]
  },
  {
   "cell_type": "markdown",
   "id": "6bc3960f-ca53-49fb-9ea8-0abd7c0327ab",
   "metadata": {},
   "source": [
    "### Question\n",
    "\n",
    "Valider cette fonction sur des nuages de 4 ou 5 points par exemple."
   ]
  },
  {
   "cell_type": "code",
   "execution_count": 31,
   "id": "d32182aa-ae97-4146-93fe-826c274cd442",
   "metadata": {},
   "outputs": [
    {
     "name": "stdout",
     "output_type": "stream",
     "text": [
      "[[0.012651907330708645, 0.46666371355228464], [0.01761795096351637, 0.26033020644100424], [0.26153794892074644], [0.8588962655977074, 0.8518922206904876]]\n"
     ]
    }
   ],
   "source": [
    "t0 = [[0.012651907330708645, 0.46666371355228464], \n",
    "      [0.01761795096351637, 0.26033020644100424], \n",
    "      [0.26153794892074644, 0.663621888961113], \n",
    "      [0.8588962655977074, 0.8518922206904876]\n",
    "     ] \n",
    "\n",
    "\n",
    "pi1 = [[0.012651907330708645, 0.46666371355228464], \n",
    "       [0.01761795096351637, 0.26033020644100424], \n",
    "       [0.26153794892074644, 0.663621888961113]\n",
    "      ]\n",
    "poi = [0.8588962655977074, 0.8518922206904876]\n",
    "pil_mitajour = majEI(pi1, poi)\n",
    "print( pil_mitajour)\n"
   ]
  },
  {
   "cell_type": "code",
   "execution_count": null,
   "id": "3f8312ae-bb40-491a-9076-79d051ab505f",
   "metadata": {},
   "outputs": [],
   "source": []
  },
  {
   "cell_type": "code",
   "execution_count": null,
   "id": "ed39e3cd-fba2-4c84-915e-cbe913282ce2",
   "metadata": {},
   "outputs": [],
   "source": []
  }
 ],
 "metadata": {
  "kernelspec": {
   "display_name": "Python 3 (ipykernel)",
   "language": "python",
   "name": "python3"
  },
  "language_info": {
   "codemirror_mode": {
    "name": "ipython",
    "version": 3
   },
   "file_extension": ".py",
   "mimetype": "text/x-python",
   "name": "python",
   "nbconvert_exporter": "python",
   "pygments_lexer": "ipython3",
   "version": "3.9.6"
  }
 },
 "nbformat": 4,
 "nbformat_minor": 5
}
