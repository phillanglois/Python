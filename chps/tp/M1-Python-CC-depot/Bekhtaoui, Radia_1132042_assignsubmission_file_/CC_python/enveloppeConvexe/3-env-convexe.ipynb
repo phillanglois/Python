{
 "cells": [
  {
   "cell_type": "markdown",
   "id": "1294bc75-ac3c-494e-9cee-9f2389f54c77",
   "metadata": {},
   "source": [
    "# Feuille 3\n",
    "\n",
    "L'objectif de ce TP est de **calculer et tracer l'enveloppe convexe d'un nuage de points du plan**. L'algorithme de ce calcul utilise des piles.\n",
    "Les notions utiles seront introduites au fur et à mesure.\n",
    "\n",
    "-   Ce TP peut profiter d'une implémentation python du type de données abstrait *pile LIFO*.\n",
    "-   Le travail demandé sera effectué dans ce notebook jupyter.\n",
    "-   Dans le notebook, les *modules* demandés pourront être codés par des fonctions ou des traitements regroupés dans une cellule. \n",
    "- Accompagner chaque développement de son test unitaire de validation.\n",
    "-   Dans un second temps, les traitements demandés pourront être regroupés dans des fichiers python (`.py`) exécutables depuis la ligne de commande."
   ]
  },
  {
   "cell_type": "code",
   "execution_count": 1,
   "id": "309ba1c8-b13d-4cff-985d-345beccdd1d2",
   "metadata": {},
   "outputs": [],
   "source": [
    "# on regroupe les imports utiles\n",
    "from math import sqrt\n",
    "from random import uniform\n",
    "import matplotlib.pyplot as plt"
   ]
  },
  {
   "cell_type": "markdown",
   "id": "c18a95bc-3eeb-4196-b59f-fd5101dc9057",
   "metadata": {},
   "source": [
    "## Points du plan, relation d'ordre\n",
    "\n",
    "Un *point* du plan est un couple $(x, y)$ (de nombres flottants).  \n",
    "On définit la relation d'ordre suivante entre 2 points du plan :  \n",
    "$$(x,y) \\le (x',y') \\iff x < x' \\text{ ou } (x = x' \\text{ et } y \\le y').$$  \n",
    "Un *nuage de points* est un ensemble fini de points.\n",
    "\n",
    "### `points`\n",
    "\n",
    "Concevoir et coder un module `points` qui permet de définir des points,\n",
    "de les comparer, d'afficher leurs coordonnées $(x,y)$ à l'écran."
   ]
  },
  {
   "cell_type": "code",
   "execution_count": 2,
   "id": "e45b6d09",
   "metadata": {},
   "outputs": [],
   "source": [
    "def creerPoint(x:float , y:float)-> tuple[float]:\n",
    "    return(x,y)\n",
    "\n",
    "def comparerPoint(a:tuple[float],b:tuple[float])->bool:\n",
    "    if a[0]<b[0] or (a[0]==b[0] and a[1]<=b[1]):\n",
    "        return True\n",
    "    return False\n",
    "\n",
    "def afficherPoint(a):\n",
    "    print(\"coordonée du point:\",a)"
   ]
  },
  {
   "cell_type": "code",
   "execution_count": 3,
   "id": "1e333778",
   "metadata": {
    "scrolled": true
   },
   "outputs": [
    {
     "name": "stdout",
     "output_type": "stream",
     "text": [
      "coordonée du point: (2, 3)\n"
     ]
    }
   ],
   "source": [
    "#test afficherPoint\n",
    "afficherPoint(creerPoint(2,3))"
   ]
  },
  {
   "cell_type": "code",
   "execution_count": 4,
   "id": "e474ec06",
   "metadata": {},
   "outputs": [],
   "source": [
    "#autovalidation pour la fonction creerPoint\n",
    "assert creerPoint(2,3)==(2,3)"
   ]
  },
  {
   "cell_type": "code",
   "execution_count": 5,
   "id": "9b3e1db9",
   "metadata": {},
   "outputs": [],
   "source": [
    "#autovalidation pour la fonction comparer point\n",
    "assert comparerPoint((1,3),(2,3)) == True\n",
    "assert comparerPoint((2,3),(2,3)) == True\n",
    "assert comparerPoint((2,2),(2,3)) == True\n",
    "assert comparerPoint((2,5),(2,3)) == False"
   ]
  },
  {
   "cell_type": "markdown",
   "id": "1f4dbf34-8749-4a9b-b1c9-392364a39f6b",
   "metadata": {},
   "source": [
    "## `Nuage de points : générer, trier, afficher, stocker, tracer\n",
    "\n",
    "### `nuage`\n",
    "\n",
    "Ecrire un module `nuage` qui permet de définir un nuage de points de\n",
    "taille paramétrable et de d'afficher les coordonnées de ses points à\n",
    "l'écran.\n",
    "\n",
    "![Un nuage de points aléatoires](./fig/nuage.png)"
   ]
  },
  {
   "cell_type": "code",
   "execution_count": 6,
   "id": "b9c4d280",
   "metadata": {},
   "outputs": [],
   "source": [
    "def definirNuage(x:list[float],y:list[float],t:int) -> list[tuple] :\n",
    "    nuagePoint=list(zip(x,y))\n",
    "    return nuagePoint "
   ]
  },
  {
   "cell_type": "code",
   "execution_count": 7,
   "id": "819e6aea",
   "metadata": {},
   "outputs": [],
   "source": [
    "#test definirNuage\n",
    "x = [1,2,3,4,5,6,7,8]\n",
    "y = [4,1,3,6,1,3,5,2]\n",
    "assert definirNuage(x,y,8)==[(1,4),(2,1),(3,3),(4,6),(5,1),(6,3),(7,5),(8,2)]"
   ]
  },
  {
   "cell_type": "code",
   "execution_count": 8,
   "id": "2136dd42",
   "metadata": {},
   "outputs": [],
   "source": [
    "def afficherNuage(x) :\n",
    "    print(x)"
   ]
  },
  {
   "cell_type": "code",
   "execution_count": 9,
   "id": "99fb6670",
   "metadata": {},
   "outputs": [
    {
     "name": "stdout",
     "output_type": "stream",
     "text": [
      "[(1, 4), (2, 1), (3, 3), (4, 6), (5, 1), (6, 3), (7, 5), (8, 2)]\n"
     ]
    }
   ],
   "source": [
    "#test afficherNuage\n",
    "afficherNuage(definirNuage(x,y,8))"
   ]
  },
  {
   "cell_type": "markdown",
   "id": "622d96df-0c57-47d3-a4d0-8209f60f1638",
   "metadata": {},
   "source": [
    "### `un_nuage_random()`\n",
    "\n",
    "Compléter ce module de façon à pouvoir générer aléatoirement un nuage de\n",
    "points de taille arbitraire et contenu dans le carré\n",
    "$[0,1] \\times [0,1]$."
   ]
  },
  {
   "cell_type": "code",
   "execution_count": 10,
   "id": "fcaea849",
   "metadata": {},
   "outputs": [],
   "source": [
    "def un_nuage_random(t:int) -> list[tuple] :\n",
    "    x,y=[],[]\n",
    "    for i in range(t) :\n",
    "        x.append(uniform(0,1))\n",
    "        y.append(uniform(0,1))\n",
    "    n=definirNuage(x,y,t)\n",
    "    return n"
   ]
  },
  {
   "cell_type": "code",
   "execution_count": 11,
   "id": "68b349d8",
   "metadata": {},
   "outputs": [
    {
     "data": {
      "text/plain": [
       "[(0.5242544565734751, 0.018644504993919453),\n",
       " (0.15484572521838913, 0.8630313337942395),\n",
       " (0.1704944555375909, 0.9655740217536378),\n",
       " (0.44537055820518645, 0.8264948764435095),\n",
       " (0.741264071829934, 0.34075847426825867),\n",
       " (0.21047230715967546, 0.7798634369226439),\n",
       " (0.5332304133934647, 0.7410512179537053),\n",
       " (0.46129253374888957, 0.7964816099693786)]"
      ]
     },
     "execution_count": 11,
     "metadata": {},
     "output_type": "execute_result"
    }
   ],
   "source": [
    "#test de la focntion un_nuage_random\n",
    "un_nuage_random(8)"
   ]
  },
  {
   "cell_type": "markdown",
   "id": "4078628f-819e-4859-909c-d6975e4a8688",
   "metadata": {},
   "source": [
    "### `trier_nuage()`\n",
    "\n",
    "Compléter ce module de façon à pouvoir trier les points d'un nuage donné selon l'ordre croissant défini sur les points du plan."
   ]
  },
  {
   "cell_type": "code",
   "execution_count": 12,
   "id": "49f52b73",
   "metadata": {},
   "outputs": [],
   "source": [
    "def trier_nuage(n:list[tuple],t:int) -> list[tuple]:\n",
    "    n.sort()#respecte la relation d'ordre suivante entre 2 points\n",
    "    return n"
   ]
  },
  {
   "cell_type": "code",
   "execution_count": 13,
   "id": "f2484864",
   "metadata": {},
   "outputs": [
    {
     "name": "stdout",
     "output_type": "stream",
     "text": [
      "[(0.6891098970559844, 0.9508743844246551), (0.7355503931095468, 0.8478700884723861), (0.5349066513200669, 0.748124722771872), (0.9384835858183413, 0.38538670548733045), (0.520443797812007, 0.9747262057250777), (0.5899993438766915, 0.3617642074150911), (0.048440903402980795, 0.9034152682051771), (0.10764656111249848, 0.43671866662199843), (0.09360468200046113, 0.06165238418128971), (0.1802466517704674, 0.8544520267947693)]\n"
     ]
    },
    {
     "data": {
      "text/plain": [
       "[(0.048440903402980795, 0.9034152682051771),\n",
       " (0.09360468200046113, 0.06165238418128971),\n",
       " (0.10764656111249848, 0.43671866662199843),\n",
       " (0.1802466517704674, 0.8544520267947693),\n",
       " (0.520443797812007, 0.9747262057250777),\n",
       " (0.5349066513200669, 0.748124722771872),\n",
       " (0.5899993438766915, 0.3617642074150911),\n",
       " (0.6891098970559844, 0.9508743844246551),\n",
       " (0.7355503931095468, 0.8478700884723861),\n",
       " (0.9384835858183413, 0.38538670548733045)]"
      ]
     },
     "execution_count": 13,
     "metadata": {},
     "output_type": "execute_result"
    }
   ],
   "source": [
    "#test trier_nuage\n",
    "a=un_nuage_random(10)\n",
    "print(a)\n",
    "trier_nuage(a,5)"
   ]
  },
  {
   "cell_type": "markdown",
   "id": "d916a645-b7ad-4426-a659-4bf016767354",
   "metadata": {},
   "source": [
    "### `write_nuage()`\n",
    "\n",
    "Compléter ce module de façon à pouvoir enregistrer un nuage de points de taille arbitraire dans un fichier de texte. La taille du nuage sera aussi enregistrée dans ce fichier.  \n",
    "Les fichiers `data_nuage_10.txt` et `data_nuage_100.txt` fournis dans l'archive `3-data-nuage.zip` sont des exemples de tels fichiers."
   ]
  },
  {
   "cell_type": "code",
   "execution_count": 14,
   "id": "a80d8c1a",
   "metadata": {},
   "outputs": [],
   "source": [
    "def write_nuage(t:int) :\n",
    "    n=un_nuage_random(t)\n",
    "    with open('data_nuage.txt', 'w') as f:\n",
    "        f.write(f\"{t}\\n\")\n",
    "        for i in range(len(n)) :\n",
    "            f.write(f\"{n[i][0]} \")\n",
    "            f.write(f\"{n[i][1]}\\n\")"
   ]
  },
  {
   "cell_type": "code",
   "execution_count": 15,
   "id": "eac2d45d",
   "metadata": {},
   "outputs": [],
   "source": [
    "#test on remarque la creation du fichier data_nuage.txt dans le repartoire \n",
    "write_nuage(10)"
   ]
  },
  {
   "cell_type": "markdown",
   "id": "a4114314-4b21-4409-934c-b60ec90545d7",
   "metadata": {},
   "source": [
    "### `read_nuage()`\n",
    "\n",
    "Compléter ce module de façon à pouvoir lire un nuage de points de taille arbitraire à partir d'un fichier de texte selon le format défini ci-dessus."
   ]
  },
  {
   "cell_type": "code",
   "execution_count": 16,
   "id": "e1cb6d64",
   "metadata": {},
   "outputs": [],
   "source": [
    "def read_nuage(fichier:str) -> list[tuple]:\n",
    "    f = open(fichier, \"r\")\n",
    "    x,y=[],[]\n",
    "    t=int(f.readline()[:-1])\n",
    "    i=t\n",
    "    while i :\n",
    "        i-=1\n",
    "        thisLine=f.readline()[:-1].split()\n",
    "        x.append(float(thisLine[0]))\n",
    "        y.append(float(thisLine[1]))\n",
    "    f.close()\n",
    "    thisPoints=[]\n",
    "    for j in range(len(x)):\n",
    "        thisPoints.append(creerPoint(x[j],y[j]))   \n",
    "    return thisPoints"
   ]
  },
  {
   "cell_type": "code",
   "execution_count": 17,
   "id": "5384aa51",
   "metadata": {},
   "outputs": [
    {
     "name": "stdout",
     "output_type": "stream",
     "text": [
      "[(0.5312014585691576, 0.5513308916828887), (0.49287043101780037, 0.30004501239537784), (0.8600022079255358, 0.20732482399101793), (0.3635051530713307, 0.8127914496877612), (0.8341884724833611, 0.8488522086729253), (0.745093566991155, 0.22442498397223143), (0.9250620352674325, 0.9512023099294868), (0.9770480304678019, 0.23712326521410998), (0.9276642131923992, 0.7899018117038894), (0.11216746732593386, 0.44418858479459)]\n"
     ]
    }
   ],
   "source": [
    "#test\n",
    "print(read_nuage(\"data_nuage.txt\"))"
   ]
  },
  {
   "cell_type": "markdown",
   "id": "ac660906-8960-47e1-8856-e27c81736d5f",
   "metadata": {},
   "source": [
    "### `aff_nuage()`\n",
    "\n",
    "Compléter ce module de façon à pouvoir tracer graphiquement un nuage de\n",
    "points donné. Le tracé sera effectué à l'écran par défaut. Il permettra\n",
    "aussi de stocker ce tracé dans un fichier `jpeg`."
   ]
  },
  {
   "cell_type": "code",
   "execution_count": 18,
   "id": "d0495fcc",
   "metadata": {},
   "outputs": [],
   "source": [
    "def aff_nuage(points:list[tuple]):\n",
    "    x,y=[],[]\n",
    "    for i in range(len(points)) :\n",
    "        x.append(points[i][0])\n",
    "        y.append(points[i][1])\n",
    "    plt.scatter(x,y,marker = 'o')\n",
    "    plt.savefig(\"trace.jpeg\")"
   ]
  },
  {
   "cell_type": "code",
   "execution_count": 19,
   "id": "8f069a26",
   "metadata": {},
   "outputs": [
    {
     "data": {
      "image/png": "[encoded data removed]",
      "text/plain": [
       "<Figure size 640x480 with 1 Axes>"
      ]
     },
     "metadata": {},
     "output_type": "display_data"
    }
   ],
   "source": [
    "#test on remarque la creation du fichier trace.jpeg de dans le repartoire \n",
    "aff_nuage(un_nuage_random(10))"
   ]
  },
  {
   "cell_type": "markdown",
   "id": "20d4f645-e248-4813-b309-b44818e9b55f",
   "metadata": {},
   "source": [
    "## Orientation de 3 points du plan\n",
    "\n",
    "On va développer progressivement un module `geometrie2d`.\n",
    "\n",
    "On commence avec la détermination de l'orientation d'un triplet de points.\n",
    "\n",
    "![Orientations d'un triplet (p,q,r)](./fig/orientation_pqr.png)\n",
    "\n",
    "Un triplet `(p,q,r)` de points *non alignés* du plan est *orienté\n",
    "positivement* si l'angle des vecteurs `(pq, pr)` est dans $]0, \\pi \\ [$\n",
    "(modulo $2\\pi$). Sinon, il est *orienté négativement*.\n",
    "\n",
    "On vérifie l'orientation du triplet `(p,q,r)` en calculant le signe du\n",
    "déterminant 2x2 $det(pq,pr)$ des vecteurs `pq` et `pr`. Signe du\n",
    "déterminant et sens d'orientation coïncident.\n",
    "\n",
    "On rappelle que :\n",
    "$$det(pq,pr) = (x_q - x_p)\\times(y_r - y_p) - (y_q - y_p)\\times(x_r -\n",
    "x_p).$$"
   ]
  },
  {
   "cell_type": "markdown",
   "id": "9054dc65-9885-466f-9cfe-8a73f433a887",
   "metadata": {},
   "source": [
    "### `orientation()`\n",
    "\n",
    "Commencer le module `geometrie2d` avec une fonction qui calcule l'orientation d'un triplet de points du plan."
   ]
  },
  {
   "cell_type": "code",
   "execution_count": 20,
   "id": "8a977e7e",
   "metadata": {},
   "outputs": [],
   "source": [
    "def orientation(p:tuple,q:tuple,r:tuple)-> float:\n",
    "        det = (q[0] - p[0])*(r[1] - p[1]) - (q[1] - p[1])*(r[0] - p[0])\n",
    "        #assert det!=0 #triplet (p,q,r) de points non alignés\n",
    "        return det"
   ]
  },
  {
   "cell_type": "markdown",
   "id": "7050ab55-3d04-4f28-978f-1c4c7d49587f",
   "metadata": {},
   "source": [
    "## `geometrie2d`: enveloppe convexe\n",
    "\n",
    "Un ensemble $C$ est *convexe* si le segment \\[p,q\\] qui relie deux\n",
    "points quelconques de $C$ est inclus dans $C$.\n",
    "\n",
    "![exemple d'ensembles convexes et non\n",
    "convexe](./fig/convexes.png)\n",
    "\n",
    "L'*enveloppe convexe* $Conv(N)$ d'un nuage de points $N$ est le plus\n",
    "petit polygone convexe qui contient tous les points de $N$.\n",
    "\n",
    "![L'enveloppe convexe du nuage de points\n",
    "‘data_nuage_10.txt'](./fig/env_conv10.png) ![L'enveloppe\n",
    "convexe du nuage de points\n",
    "‘data_nuage_100.txt'](./fig/env_conv100.png)"
   ]
  },
  {
   "cell_type": "markdown",
   "id": "148a2119-bdcc-406a-a774-c68b8e2ade49",
   "metadata": {},
   "source": [
    "### Construire l'enveloppe convexe d'un nuage de points \n",
    "\n",
    "Il existe plusieurs algorithmes. \n",
    "Nous utiliserons l'algorithme de Graham-Andrew qui s'appuie sur un balayage du nuage de points préalablement triés. \n",
    "\n",
    "**Hypothèse importante : aucun triplet de points alignés**\n",
    "\n",
    "Dans un premier temps, il est plus facile de supposer qu'aucun triplet $(p, q, r)$ du nuage de points ne sont alignés.\n",
    "\n",
    "On choisira d'arrêter le traitement d'un éventuel nuage qui ne vérifie pas cette hypothèse."
   ]
  },
  {
   "cell_type": "markdown",
   "id": "b5133edb-f1be-49cc-a18c-e09dffda1450",
   "metadata": {},
   "source": [
    "**Algorithme de Graham-Andrew.**\n",
    "\n",
    "On construit $Conv(N)$ en balayant de gauche à droite avec une droite verticale le\n",
    "nuage $N$ préalablement trié par ordre croissant. \n",
    "On convient ainsi que p0 est le plus petit point de N, *ie.* celui le plus à gauche.\n",
    "\n",
    "Chaque point p rencontré par la droite met à jour l'enveloppe convexe du sous-nuage à gauche du point p.  \n",
    "Cette mise à jour s'effectue en distinguant une partie supérieure et une partie inférieure de l'enveloppe convexe.\n",
    "\n",
    "L'*enveloppe supérieure* est au dessus du segment \\[p0, p\\]. \n",
    "Cette enveloppe `ES` est modifiée par l'algorithme suivant qui justifie de stocker `ES` comme une pile de base p0. On ajoute aussi à `ES`, p1 le point immédiatement supérieur à p0 (*ie.* immédiatement à droite de p0).\n",
    "La pile `ES` est ainsi composée d'au moins deux éléments."
   ]
  },
  {
   "cell_type": "markdown",
   "id": "dcc926b0-4ca0-4abd-8e71-34b9db2fc49c",
   "metadata": {},
   "source": [
    "Soit p le point rencontré par le balayage de N. \n",
    "Notons q et r les deux derniers points ajoutés à `ES` -- q est au sommet.\n",
    "\n",
    "-   Si le triplet (p,q,r) est orienté positivement alors p est ajouté à\n",
    "    `ES`. Ce qui termine la mise à jour de `ES`.\n",
    "-   Sinon q est retiré de `ES` et on reprend le test d'orientation et le\n",
    "    traitement précédent pour **un nouveau triplet (p,q,r)** jusqu'à\n",
    "    terminer la mise à jour de `ES` :\n",
    "    -   par l'ajout de p à `ES`  \n",
    "    -   ou parce qu'il ne reste que p0 dans `ES`. Dans ce cas, on\n",
    "        termine en ajoutant p à `ES` – qui est ainsi toujours composée\n",
    "        d'au moins deux éléments.\n",
    "\n",
    "`ES` contient l'enveloppe convexe supérieure du nuage N une fois tous\n",
    "les points p de N balayés.\n",
    "\n",
    "On convient aisément que le point le plus à droite de N est le dernier\n",
    "point ajouté à `ES`."
   ]
  },
  {
   "cell_type": "markdown",
   "id": "f42221ba-4002-4a7f-a1e8-43ecdba3a54b",
   "metadata": {},
   "source": [
    "**Illustration graphique.**\n",
    "\n",
    "`ES` = {0,1,5,6}, début du traitement de p = 7\n",
    "\n",
    "![Orientation (7,6,5) négative](./fig/ES-1.png)\n",
    "\n",
    "`ES` = {0,1,5}, p = 7\n",
    "\n",
    "![Orientation (7,5,1) négative](./fig/ES-2.png)\n",
    "\n",
    "`ES` = {0,1}, p = 7\n",
    "\n",
    "![Orientation (7,1,0) positive](./fig/ES-3.png)\n",
    "\n",
    "`ES` = {0,1,7}, fin du traitement de p = 7."
   ]
  },
  {
   "cell_type": "markdown",
   "id": "41fd954b-bbdf-4579-9a35-ec6689042d7a",
   "metadata": {},
   "source": [
    "### `maj_es()` : enveloppe convexe supérieure\n",
    "\n",
    "Compléter le module précédent avec une fonction `majES(pile, point)` qui\n",
    "effectue la mise à jour de la pile `ES` lors du traitement du point p. "
   ]
  },
  {
   "cell_type": "code",
   "execution_count": 21,
   "id": "0f9b37d6",
   "metadata": {},
   "outputs": [],
   "source": [
    "def majES(pile:list[tuple], point:tuple)-> list[tuple]:\n",
    "    pile.append(point)\n",
    "    pileES=[]\n",
    "    for p in reversed(pile):\n",
    "        while len(pileES) >= 2 and orientation(pileES[-2],pileES[-1],p) <= 0:\n",
    "            pileES.pop()\n",
    "        pileES.append(p)\n",
    "    pileES.reverse()\n",
    "    return pileES"
   ]
  },
  {
   "cell_type": "markdown",
   "id": "ed384172-3cad-47cc-a215-c72421133b84",
   "metadata": {},
   "source": [
    "### `maj_ei()`: enveloppe convexe inférieure \n",
    "\n",
    "L'*enveloppe convexe inférieure* est obtenue de façon similaire avec une\n",
    "(autre) pile ‘EI' et un test d'orientation inverse.\n",
    "\n",
    "Compléter le module précédent avec une fonction `majEI(pile, point)` qui\n",
    "effectue la mise à jour de la pile ‘EI' lors du traitement du point p. "
   ]
  },
  {
   "cell_type": "code",
   "execution_count": 35,
   "id": "0e930781",
   "metadata": {},
   "outputs": [],
   "source": [
    "def majEI(pile:list[tuple], point:tuple)-> list[tuple]:\n",
    "    pile.append(point)\n",
    "    pileEI=[]\n",
    "    for p in pile:\n",
    "        while len(pileEI) >= 2 and orientation(pileEI[-2],pileEI[-1],p) <= 0:\n",
    "            pileEI.pop()\n",
    "        pileEI.append(p)\n",
    "    return pileEI"
   ]
  },
  {
   "cell_type": "markdown",
   "id": "b1beab4b-e80a-46d0-ad1b-c4bcb7c19665",
   "metadata": {},
   "source": [
    "### Validation\n",
    "\n",
    "Valider les deux fonctions précédentes sur des nuages de 5 ou 6 points."
   ]
  },
  {
   "cell_type": "code",
   "execution_count": 36,
   "id": "2ff6f093",
   "metadata": {},
   "outputs": [
    {
     "name": "stdout",
     "output_type": "stream",
     "text": [
      "(1, 1) (2, 5) (4, 3)\n",
      "(1, 1) (4, 3) (5, 2)\n"
     ]
    }
   ],
   "source": [
    "assert majES([(1,1),(2,5),(4,3),(5,2)],(6,4))==[(1, 1), (2, 5), (6, 4)]\n",
    "assert majEI([(1,1),(2,5),(4,3),(5,2)],(6,4))==[(1, 1), (5, 2), (6, 4)]"
   ]
  },
  {
   "cell_type": "code",
   "execution_count": 38,
   "id": "f21d859f-59ff-481d-bdcf-e05a4d18d7e9",
   "metadata": {},
   "outputs": [
    {
     "data": {
      "text/plain": [
       "[(1, 1), (2, 5), (4, 9), (6, 4)]"
      ]
     },
     "execution_count": 38,
     "metadata": {},
     "output_type": "execute_result"
    }
   ],
   "source": [
    "# PhL\n",
    "majES([(1,1),(2,5),(2,5),(4,9),(5,2)],(6,4))"
   ]
  },
  {
   "cell_type": "markdown",
   "id": "abf2bce8-364e-4769-912a-d0e25070f4fa",
   "metadata": {},
   "source": [
    "### `env_convexe()`\n",
    "\n",
    "L'enveloppe convexe $Conv(N)$ est une (autre) pile construite à partir\n",
    "de `ES` et `EI` en stockant successivement chaque point visité par les 2\n",
    "parcours suivants :  \n",
    "- L'enveloppe convexe supérieure est parcourue de la gauche vers la\n",
    "droite,  \n",
    "- l'enveloppe convexe inférieure est parcourue de la droite vers la\n",
    "gauche;  \n",
    "et modifié comme suit :  \n",
    "- l'extrémité droite de l'une et de l'autre de ces enveloppes n'est pas\n",
    "répétée,  \n",
    "- le sommet de $Conv(N)$ répète sa base p0.\n",
    "\n",
    "Compléter le module précédent avec une fonction `env_convexe(nuage)` qui\n",
    "construit l'enveloppe convexe d'un nuage de points arbitraire."
   ]
  },
  {
   "cell_type": "code",
   "execution_count": 24,
   "id": "7337c71c",
   "metadata": {},
   "outputs": [],
   "source": [
    "def env_convexe(nuage:list[tuple])-> list:\n",
    "    \n",
    "    nuageTrie=trier_nuage(nuage,len(nuage))\n",
    "    p0=nuageTrie[0]\n",
    "    pn=nuageTrie[-1]\n",
    "    \n",
    "    convSup = majES(nuageTrie,pn)\n",
    "    convInf = majEI(nuageTrie,pn)\n",
    "    convInf.reverse()\n",
    "    conv=convSup[:-1]+convInf[:-1]\n",
    "    conv.append(p0)\n",
    "    return conv"
   ]
  },
  {
   "cell_type": "markdown",
   "id": "8a67298e-422f-48ae-8580-c6517489b223",
   "metadata": {},
   "source": [
    "### `print_env()`\n",
    "\n",
    "Compléter le module précédent avec une fonction qui permet d'afficher l'enveloppe convexe ainsi construite."
   ]
  },
  {
   "cell_type": "code",
   "execution_count": 25,
   "id": "0489c786",
   "metadata": {},
   "outputs": [],
   "source": [
    "def print_env(env_conv:list[tuple]):\n",
    "    print(env_conv)\n",
    "#print_env(env_convexe([(2, 5),(1, 1), (5, 2), (6, 4),(4, 3)]))"
   ]
  },
  {
   "cell_type": "markdown",
   "id": "52d4b5d6-a4cc-4a26-8e06-4bcc5712f9aa",
   "metadata": {},
   "source": [
    "### `aff_nuage_env()`\n",
    "\n",
    "Compléter le module précédent avec une fonction qui permet de tracer graphiquement cette enveloppe convexe, d'abord sans le nuage de points associé, puis avec."
   ]
  },
  {
   "cell_type": "code",
   "execution_count": 26,
   "id": "73665a84",
   "metadata": {},
   "outputs": [],
   "source": [
    "def aff_nuage_env(nuage:list[tuple]):\n",
    "    aff_nuage(nuage)#avec le nuage de points associé\n",
    "    env_conv=env_convexe(nuage)\n",
    "    axeX=[p[0] for p in env_conv]\n",
    "    axeY=[p[1] for p in env_conv]\n",
    "    plt.plot(axeX, axeY,marker = 'o')\n",
    "    "
   ]
  },
  {
   "cell_type": "code",
   "execution_count": 27,
   "id": "b5aeef09",
   "metadata": {},
   "outputs": [],
   "source": [
    "#test fonction aff_nuage_env\n",
    "#aff_nuage_env([(0, 0), (1, 1), (6, 2), (3, 3), (1, 2), (2, 4)])"
   ]
  },
  {
   "cell_type": "markdown",
   "id": "5998b162-337a-48dd-84fb-91ce7ca025e6",
   "metadata": {},
   "source": [
    "### Application à `n10`\n",
    "\n",
    "On note `n10` le nuage de points définis par le fichier de données \n",
    "`data_nuage_10.txt`\n",
    "\n",
    "Déterminer et tracer l'enveloppe convexe de ce nuage de points."
   ]
  },
  {
   "cell_type": "code",
   "execution_count": 28,
   "id": "4b179c45",
   "metadata": {},
   "outputs": [
    {
     "data": {
      "image/png": "[encoded data removed]",
      "text/plain": [
       "<Figure size 640x480 with 1 Axes>"
      ]
     },
     "metadata": {},
     "output_type": "display_data"
    }
   ],
   "source": [
    "aff_nuage_env(read_nuage(\"data_nuage_10.txt\"))"
   ]
  },
  {
   "cell_type": "markdown",
   "id": "05fc5ef5-8d65-4e33-8fbe-d8ba5c13b03f",
   "metadata": {},
   "source": [
    "### Application à `n100`\n",
    "\n",
    "On note `n10` le nuage de points définis par le fichier de données \n",
    "`data_nuage_100.txt`\n",
    "\n",
    "Déterminer et tracer l'enveloppe convexe de ce nuage de points."
   ]
  },
  {
   "cell_type": "code",
   "execution_count": 29,
   "id": "a5a90079",
   "metadata": {},
   "outputs": [
    {
     "data": {
      "image/png": "[encoded data removed]",
      "text/plain": [
       "<Figure size 640x480 with 1 Axes>"
      ]
     },
     "metadata": {},
     "output_type": "display_data"
    }
   ],
   "source": [
    "aff_nuage_env(read_nuage(\"data_nuage_100.txt\"))"
   ]
  },
  {
   "cell_type": "code",
   "execution_count": null,
   "id": "9e708632",
   "metadata": {},
   "outputs": [],
   "source": []
  },
  {
   "cell_type": "code",
   "execution_count": null,
   "id": "a7026fde",
   "metadata": {},
   "outputs": [],
   "source": []
  }
 ],
 "metadata": {
  "kernelspec": {
   "display_name": "Python 3 (ipykernel)",
   "language": "python",
   "name": "python3"
  },
  "language_info": {
   "codemirror_mode": {
    "name": "ipython",
    "version": 3
   },
   "file_extension": ".py",
   "mimetype": "text/x-python",
   "name": "python",
   "nbconvert_exporter": "python",
   "pygments_lexer": "ipython3",
   "version": "3.9.6"
  }
 },
 "nbformat": 4,
 "nbformat_minor": 5
}
