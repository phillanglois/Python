{
 "cells": [
  {
   "cell_type": "code",
   "execution_count": 3,
   "id": "0df85dd9-51ec-4e2c-b459-53e288a32080",
   "metadata": {},
   "outputs": [],
   "source": [
    "def definition_point(x:float,y:float)->tuple[float]:\n",
    "    A=(x,y)\n",
    "    return(A)\n",
    "def compare_point(A:tuple,B:tuple)->int:\n",
    "    if A[0]<B[0] or (A[0]==B[0] and A[1]<=B[1]):\n",
    "            return 1# A plus petit que B\n",
    "    else:\n",
    "        return 0\n",
    "def affiche_coordoonées(A:tuple[float])->float:\n",
    "    return(A)\n"
   ]
  },
  {
   "cell_type": "code",
   "execution_count": 12,
   "id": "57da50b1-023f-4cc6-b16d-2fe734c9a28a",
   "metadata": {},
   "outputs": [
    {
     "data": {
      "text/plain": [
       "0"
      ]
     },
     "execution_count": 12,
     "metadata": {},
     "output_type": "execute_result"
    }
   ],
   "source": [
    "import point\n",
    "point.definition_point(5,7)\n",
    "E=(0,2)\n",
    "F=(0,1)\n",
    "point.compare_point(E,F)"
   ]
  }
 ],
 "metadata": {
  "kernelspec": {
   "display_name": "Python 3 (ipykernel)",
   "language": "python",
   "name": "python3"
  },
  "language_info": {
   "codemirror_mode": {
    "name": "ipython",
    "version": 3
   },
   "file_extension": ".py",
   "mimetype": "text/x-python",
   "name": "python",
   "nbconvert_exporter": "python",
   "pygments_lexer": "ipython3",
   "version": "3.9.13"
  }
 },
 "nbformat": 4,
 "nbformat_minor": 5
}
