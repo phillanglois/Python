{
 "cells": [
  {
   "cell_type": "code",
   "execution_count": 1,
   "id": "940a4d06-4ba2-4736-a75d-05903340a6cc",
   "metadata": {},
   "outputs": [
    {
     "data": {
      "text/plain": [
       "(1, 4)"
      ]
     },
     "execution_count": 1,
     "metadata": {},
     "output_type": "execute_result"
    }
   ],
   "source": [
    "def definition_point(x:float,y:float)->tuple[float]:\n",
    "    A=(x,y)\n",
    "    return(A)\n",
    "definition_point(1,4)"
   ]
  },
  {
   "cell_type": "code",
   "execution_count": 2,
   "id": "3fea57d5-ec0f-4296-bc58-3b4b021ca655",
   "metadata": {},
   "outputs": [
    {
     "data": {
      "text/plain": [
       "0"
      ]
     },
     "execution_count": 2,
     "metadata": {},
     "output_type": "execute_result"
    }
   ],
   "source": [
    "def compare_point(A:tuple,B:tuple)->int:\n",
    "    if A[0]<B[0] or (A[0]==B[0] and A[1]<=B[1]):\n",
    "            return 1# A plus petit que B\n",
    "    else:\n",
    "        return 0\n",
    "E=(0,2)\n",
    "F=(0,1)\n",
    "compare_point(E,F)"
   ]
  },
  {
   "cell_type": "code",
   "execution_count": 3,
   "id": "10fe10b2-7721-4e2c-9f8e-1d67eab0538e",
   "metadata": {},
   "outputs": [],
   "source": [
    "def affiche_coordoonées(A:tuple[float])->float:\n",
    "    \n",
    "    return(A)\n",
    "E=(0,3.8)\n",
    "F=(0,1)\n",
    "affiche_coordoonées(E)\n",
    "chaine=str(affiche_coordoonées(E))\n"
   ]
  },
  {
   "cell_type": "code",
   "execution_count": 4,
   "id": "33f97e51-1688-43f9-a597-5a2de21decd3",
   "metadata": {},
   "outputs": [
    {
     "data": {
      "text/plain": [
       "[(-1, 0), (3, 1), (8, -3), (4.5, 9)]"
      ]
     },
     "execution_count": 4,
     "metadata": {},
     "output_type": "execute_result"
    }
   ],
   "source": [
    "def nuage_point(X:list[float],Y:list[float])->list[tuple[float]]:\n",
    "    n=len(X)\n",
    "    assert n==len(X)==len(Y)\n",
    "    N=[]\n",
    "    for i in range(n):\n",
    "        N.append(definition_point(X[i],Y[i]))\n",
    "    return N\n",
    "A=[-1,3,8,4.5]\n",
    "B=[0,1,-3,9]\n",
    "nuage_point(A,B)\n",
    "        "
   ]
  },
  {
   "cell_type": "code",
   "execution_count": 5,
   "id": "eaef9e54-0865-4f9f-855e-7060215d5930",
   "metadata": {},
   "outputs": [
    {
     "data": {
      "text/plain": [
       "[(0.11462343893776239, 0.09151784068710622),\n",
       " (0.9241827851780772, 0.10232627926212157),\n",
       " (0.811017399376004, 0.06045194282805244),\n",
       " (0.40498362112613173, 0.27270456351370864)]"
      ]
     },
     "execution_count": 5,
     "metadata": {},
     "output_type": "execute_result"
    }
   ],
   "source": [
    "import random\n",
    "def nuage_aléatoire(n:int)->list[tuple[float]]:\n",
    "    u=[]\n",
    "    v=[]\n",
    "    for i in range(n):\n",
    "        u.append(random.uniform(0, 1))\n",
    "        v.append(random.uniform(0, 1))\n",
    "    return(nuage_point(u,v))\n",
    "\n",
    "nuage_aléatoire(4)\n",
    "        "
   ]
  },
  {
   "cell_type": "code",
   "execution_count": 6,
   "id": "b9b6f8e0-6c8b-4d44-bf6c-df6ca3f8d087",
   "metadata": {},
   "outputs": [],
   "source": [
    "def trier_nuage(S:list[tuple[float]])->list[tuple[float]]:\n",
    "    \n",
    "    for i in range(len(S)):\n",
    "        k=i\n",
    "        for j in range(i+1,len(S)):\n",
    "            if compare_point(S[j],S[k])==1:\n",
    "                k=j\n",
    "        x=S[i]\n",
    "        S[i]=S[k]\n",
    "        S[k]=x\n",
    "    return S"
   ]
  },
  {
   "cell_type": "code",
   "execution_count": 7,
   "id": "4cf4fae2-f57f-4f23-8cd1-fdd312aa4bef",
   "metadata": {},
   "outputs": [
    {
     "data": {
      "text/plain": [
       "'(2,6)'"
      ]
     },
     "execution_count": 7,
     "metadata": {},
     "output_type": "execute_result"
    }
   ],
   "source": [
    "def supprimer_caractere(texte:str)->str:\n",
    "    chaine=[\",\",\"(\",\")\"]\n",
    "    for i in range(len(texte)):\n",
    "        if texte[i]==\",\":\n",
    "            texte[i+1:]\n",
    "    return texte\n",
    "chaine=\"(2,6)\"\n",
    "supprimer_caractere(chaine)\n",
    "            "
   ]
  },
  {
   "cell_type": "code",
   "execution_count": 8,
   "id": "15ae5281-db4e-4238-ba28-f651d4694810",
   "metadata": {},
   "outputs": [],
   "source": [
    "def enregistrement_nuage(S:list[list[float]])->None:\n",
    "    n=len(S)\n",
    "    with open(\"nuage.txt\", \"w\", encoding=\"utf8\") as f:\n",
    "        f.write( str(n) + '\\n' )\n",
    "        for i in range(n):\n",
    "            f.write((str(S[i])) + '\\n') \n",
    "enregistrement_nuage(nuage_aléatoire(25))"
   ]
  },
  {
   "cell_type": "code",
   "execution_count": 9,
   "id": "e1af7039-c706-49b4-ad12-535d563d7b0c",
   "metadata": {},
   "outputs": [],
   "source": [
    "def lire_nuage(S:list[list[float]])->None:\n",
    "    n=len(S)\n",
    "    with open(\"nuage.txt\", \"r\", encoding=\"utf8\") as f:\n",
    "        n = int(f.readline()[:-1])\n",
    "        for i in range(n):\n",
    "            S[i]=tuple(f.readline()[:-1])\n",
    "lire_nuage(nuage_aléatoire(25))"
   ]
  },
  {
   "cell_type": "code",
   "execution_count": 10,
   "id": "d157e358-a912-471b-8603-d3a657f97d3d",
   "metadata": {},
   "outputs": [],
   "source": [
    "import matplotlib.pyplot as plt\n",
    "def tracer_nuage(N:list[list[float]])->None: \n",
    "    X=[]\n",
    "    Y=[]\n",
    "    for i in range(len(N)):\n",
    "        X.append(N[i][0])\n",
    "        Y.append(N[i][1])\n",
    "    plt.scatter(X,Y)\n",
    "    plt.title('graphe du Nuage de points ')\n",
    "    plt.xlabel('X')\n",
    "    plt.ylabel('Y')\n",
    "    plt.savefig('nuage_point.png')\n",
    "    plt.show()\n",
    "#S=nuage_aléatoire(25)\n",
    "#tracer_nuage(S)"
   ]
  },
  {
   "cell_type": "code",
   "execution_count": 11,
   "id": "e53efe9c-7f06-4c71-a4ca-9eadf040fb6e",
   "metadata": {},
   "outputs": [],
   "source": [
    "def orientation(P:tuple,Q:tuple,R:tuple)->int:\n",
    "    x=(Q[0]-P[0])\n",
    "    y=(R[1]-P[1])\n",
    "    z=(Q[1]-P[1])\n",
    "    w=(R[0]-P[0])\n",
    "    if (x*y-z*w)>0:\n",
    "        return 1\n",
    "    else:\n",
    "        return 0"
   ]
  },
  {
   "cell_type": "code",
   "execution_count": 96,
   "id": "bd10fc62-e205-4d62-8a13-1eeca97f8353",
   "metadata": {},
   "outputs": [
    {
     "data": {
      "text/plain": [
       "[(0, 1), (1, 1), (3, 6), (6, 8)]"
      ]
     },
     "execution_count": 96,
     "metadata": {},
     "output_type": "execute_result"
    }
   ],
   "source": [
    "def majES(ES:list[tuple[float]], point:tuple)->list[tuple[float]]:\n",
    "    trier_nuage(ES)\n",
    "    while orientation(point,ES[-1],ES[-2])==0 and len(ES)!=1:\n",
    "        ES.pop(-1)\n",
    "    else:\n",
    "        ES.append(point)\n",
    "    return ES\n",
    "majES([(0,1),(5,6),(3,6),(1,1)],(6,8))"
   ]
  },
  {
   "cell_type": "code",
   "execution_count": 13,
   "id": "1baecc8a-b5ea-4e43-ad24-13673e6f4b49",
   "metadata": {},
   "outputs": [],
   "source": [
    "assert [(0, 1), (1, 1), (3, 6), (6, 8)]==majES([(0,1),(5,6),(3,6),(1,1)],(6,8))"
   ]
  },
  {
   "cell_type": "code",
   "execution_count": 114,
   "id": "5d72a27a-0a93-41ea-86f2-31ad0bc826fb",
   "metadata": {},
   "outputs": [
    {
     "data": {
      "text/plain": [
       "[(0.23068356339075946, 0.9865759982744584),\n",
       " (0.39460102221709326, 0.9776554061513818),\n",
       " (0.46293079544849125, 0.8123596069923491),\n",
       " (0.6669262362729022, 0.09933971199893843),\n",
       " (0.83450113538302, 0.9185461374122657),\n",
       " (0, 0)]"
      ]
     },
     "execution_count": 114,
     "metadata": {},
     "output_type": "execute_result"
    }
   ],
   "source": [
    "def majEI(EI:list[tuple[float]], point:tuple)->list[tuple[float]]:\n",
    "    trier_nuage(EI)\n",
    "    while orientation(point,EI[-1],EI[-2])==1 and len(EI)!=1:\n",
    "        EI.pop(-1)\n",
    "    EI.append(point)\n",
    "    return EI\n",
    "majEI(nuage_aléatoire(5),(0,0))"
   ]
  },
  {
   "cell_type": "code",
   "execution_count": 15,
   "id": "d54076cf-4b32-4b8b-ada7-765d446f4e7f",
   "metadata": {},
   "outputs": [
    {
     "name": "stdout",
     "output_type": "stream",
     "text": [
      "[(-1, 0), (3, 6)]\n"
     ]
    }
   ],
   "source": [
    "nuage=[(-1, 0), (0, 1), (3, 6), (5, 6), (6, 8)]\n",
    "A=[nuage.pop(i) for i in range(2)]\n",
    "print(A)"
   ]
  },
  {
   "cell_type": "code",
   "execution_count": 38,
   "id": "3671a1e8-4f45-4891-a27d-276e47220ac9",
   "metadata": {},
   "outputs": [],
   "source": [
    "assert [(-1, 0), (0, 1), (3, 6), (5, 6), (6, 8)]==majEI([(0,1),(5,6),(3,6),(-1,0)],(6,8))"
   ]
  },
  {
   "cell_type": "code",
   "execution_count": null,
   "id": "77780042-b410-464f-958c-7d482f74860b",
   "metadata": {},
   "outputs": [],
   "source": [
    "assert [(-1, 0), (0, 1), (3, 6), (5, 6), (6, 8)]==majEL([(0,1),(5,6),(3,6),(-1,0)],(6,8))"
   ]
  },
  {
   "cell_type": "code",
   "execution_count": 115,
   "id": "933ce2ee-cc80-4d28-bef3-c69aea9ffdc9",
   "metadata": {},
   "outputs": [
    {
     "ename": "IndexError",
     "evalue": "list index out of range",
     "output_type": "error",
     "traceback": [
      "\u001b[1;31m---------------------------------------------------------------------------\u001b[0m",
      "\u001b[1;31mIndexError\u001b[0m                                Traceback (most recent call last)",
      "\u001b[1;32m~\\AppData\\Local\\Temp\\ipykernel_3376\\361651802.py\u001b[0m in \u001b[0;36m<module>\u001b[1;34m\u001b[0m\n\u001b[0;32m     16\u001b[0m         \u001b[0mZ\u001b[0m\u001b[1;33m=\u001b[0m\u001b[0mX\u001b[0m\u001b[1;33m+\u001b[0m\u001b[0mY\u001b[0m\u001b[1;33m\u001b[0m\u001b[1;33m\u001b[0m\u001b[0m\n\u001b[0;32m     17\u001b[0m     \u001b[1;32mreturn\u001b[0m \u001b[0mZ\u001b[0m\u001b[1;33m\u001b[0m\u001b[1;33m\u001b[0m\u001b[0m\n\u001b[1;32m---> 18\u001b[1;33m \u001b[0menv_convexe\u001b[0m\u001b[1;33m(\u001b[0m\u001b[1;33m[\u001b[0m\u001b[1;33m(\u001b[0m\u001b[1;36m0.21\u001b[0m\u001b[1;33m,\u001b[0m \u001b[1;36m0.91\u001b[0m\u001b[1;33m)\u001b[0m\u001b[1;33m,\u001b[0m \u001b[1;33m(\u001b[0m\u001b[1;36m0.67\u001b[0m\u001b[1;33m,\u001b[0m \u001b[1;36m0.97\u001b[0m\u001b[1;33m)\u001b[0m\u001b[1;33m,\u001b[0m \u001b[1;33m(\u001b[0m\u001b[1;36m0.6\u001b[0m\u001b[1;33m,\u001b[0m \u001b[1;36m0.9\u001b[0m\u001b[1;33m)\u001b[0m\u001b[1;33m,\u001b[0m \u001b[1;33m(\u001b[0m\u001b[1;36m0.7\u001b[0m\u001b[1;33m,\u001b[0m \u001b[1;36m0.6\u001b[0m\u001b[1;33m)\u001b[0m\u001b[1;33m,\u001b[0m \u001b[1;33m(\u001b[0m\u001b[1;36m0.1\u001b[0m\u001b[1;33m,\u001b[0m \u001b[1;36m0.5\u001b[0m\u001b[1;33m)\u001b[0m\u001b[1;33m]\u001b[0m\u001b[1;33m)\u001b[0m\u001b[1;33m\u001b[0m\u001b[1;33m\u001b[0m\u001b[0m\n\u001b[0m",
      "\u001b[1;32m~\\AppData\\Local\\Temp\\ipykernel_3376\\361651802.py\u001b[0m in \u001b[0;36menv_convexe\u001b[1;34m(nuage)\u001b[0m\n\u001b[0;32m      8\u001b[0m         \u001b[0mmajES\u001b[0m\u001b[1;33m(\u001b[0m\u001b[0mX\u001b[0m\u001b[1;33m,\u001b[0m\u001b[0mnuage\u001b[0m\u001b[1;33m[\u001b[0m\u001b[0mi\u001b[0m\u001b[1;33m]\u001b[0m\u001b[1;33m)\u001b[0m\u001b[1;33m\u001b[0m\u001b[1;33m\u001b[0m\u001b[0m\n\u001b[0;32m      9\u001b[0m     \u001b[1;32mfor\u001b[0m \u001b[0mi\u001b[0m \u001b[1;32min\u001b[0m \u001b[0mrange\u001b[0m\u001b[1;33m(\u001b[0m\u001b[0mlen\u001b[0m\u001b[1;33m(\u001b[0m\u001b[0mnuage\u001b[0m\u001b[1;33m)\u001b[0m\u001b[1;33m)\u001b[0m\u001b[1;33m:\u001b[0m\u001b[1;33m\u001b[0m\u001b[1;33m\u001b[0m\u001b[0m\n\u001b[1;32m---> 10\u001b[1;33m         \u001b[0mmajEI\u001b[0m\u001b[1;33m(\u001b[0m\u001b[0mY\u001b[0m\u001b[1;33m,\u001b[0m\u001b[0mnuage\u001b[0m\u001b[1;33m[\u001b[0m\u001b[0mi\u001b[0m\u001b[1;33m]\u001b[0m\u001b[1;33m)\u001b[0m\u001b[1;33m\u001b[0m\u001b[1;33m\u001b[0m\u001b[0m\n\u001b[0m\u001b[0;32m     11\u001b[0m     \u001b[0mY\u001b[0m\u001b[1;33m.\u001b[0m\u001b[0mreverse\u001b[0m\u001b[1;33m(\u001b[0m\u001b[1;33m)\u001b[0m\u001b[1;33m\u001b[0m\u001b[1;33m\u001b[0m\u001b[0m\n\u001b[0;32m     12\u001b[0m     \u001b[1;32mif\u001b[0m \u001b[0mX\u001b[0m\u001b[1;33m[\u001b[0m\u001b[1;33m-\u001b[0m\u001b[1;36m1\u001b[0m\u001b[1;33m]\u001b[0m\u001b[1;33m==\u001b[0m\u001b[0mY\u001b[0m\u001b[1;33m[\u001b[0m\u001b[1;36m0\u001b[0m\u001b[1;33m]\u001b[0m\u001b[1;33m:\u001b[0m\u001b[1;33m\u001b[0m\u001b[1;33m\u001b[0m\u001b[0m\n",
      "\u001b[1;32m~\\AppData\\Local\\Temp\\ipykernel_3376\\3988795313.py\u001b[0m in \u001b[0;36mmajEI\u001b[1;34m(EI, point)\u001b[0m\n\u001b[0;32m      1\u001b[0m \u001b[1;32mdef\u001b[0m \u001b[0mmajEI\u001b[0m\u001b[1;33m(\u001b[0m\u001b[0mEI\u001b[0m\u001b[1;33m:\u001b[0m\u001b[0mlist\u001b[0m\u001b[1;33m[\u001b[0m\u001b[0mtuple\u001b[0m\u001b[1;33m[\u001b[0m\u001b[0mfloat\u001b[0m\u001b[1;33m]\u001b[0m\u001b[1;33m]\u001b[0m\u001b[1;33m,\u001b[0m \u001b[0mpoint\u001b[0m\u001b[1;33m:\u001b[0m\u001b[0mtuple\u001b[0m\u001b[1;33m)\u001b[0m\u001b[1;33m->\u001b[0m\u001b[0mlist\u001b[0m\u001b[1;33m[\u001b[0m\u001b[0mtuple\u001b[0m\u001b[1;33m[\u001b[0m\u001b[0mfloat\u001b[0m\u001b[1;33m]\u001b[0m\u001b[1;33m]\u001b[0m\u001b[1;33m:\u001b[0m\u001b[1;33m\u001b[0m\u001b[1;33m\u001b[0m\u001b[0m\n\u001b[0;32m      2\u001b[0m     \u001b[0mtrier_nuage\u001b[0m\u001b[1;33m(\u001b[0m\u001b[0mEI\u001b[0m\u001b[1;33m)\u001b[0m\u001b[1;33m\u001b[0m\u001b[1;33m\u001b[0m\u001b[0m\n\u001b[1;32m----> 3\u001b[1;33m     \u001b[1;32mwhile\u001b[0m \u001b[0morientation\u001b[0m\u001b[1;33m(\u001b[0m\u001b[0mpoint\u001b[0m\u001b[1;33m,\u001b[0m\u001b[0mEI\u001b[0m\u001b[1;33m[\u001b[0m\u001b[1;33m-\u001b[0m\u001b[1;36m1\u001b[0m\u001b[1;33m]\u001b[0m\u001b[1;33m,\u001b[0m\u001b[0mEI\u001b[0m\u001b[1;33m[\u001b[0m\u001b[1;33m-\u001b[0m\u001b[1;36m2\u001b[0m\u001b[1;33m]\u001b[0m\u001b[1;33m)\u001b[0m\u001b[1;33m==\u001b[0m\u001b[1;36m1\u001b[0m \u001b[1;32mand\u001b[0m \u001b[0mlen\u001b[0m\u001b[1;33m(\u001b[0m\u001b[0mEI\u001b[0m\u001b[1;33m)\u001b[0m\u001b[1;33m!=\u001b[0m\u001b[1;36m1\u001b[0m\u001b[1;33m:\u001b[0m\u001b[1;33m\u001b[0m\u001b[1;33m\u001b[0m\u001b[0m\n\u001b[0m\u001b[0;32m      4\u001b[0m         \u001b[0mEI\u001b[0m\u001b[1;33m.\u001b[0m\u001b[0mpop\u001b[0m\u001b[1;33m(\u001b[0m\u001b[1;33m-\u001b[0m\u001b[1;36m1\u001b[0m\u001b[1;33m)\u001b[0m\u001b[1;33m\u001b[0m\u001b[1;33m\u001b[0m\u001b[0m\n\u001b[0;32m      5\u001b[0m     \u001b[0mEI\u001b[0m\u001b[1;33m.\u001b[0m\u001b[0mappend\u001b[0m\u001b[1;33m(\u001b[0m\u001b[0mpoint\u001b[0m\u001b[1;33m)\u001b[0m\u001b[1;33m\u001b[0m\u001b[1;33m\u001b[0m\u001b[0m\n",
      "\u001b[1;31mIndexError\u001b[0m: list index out of range"
     ]
    }
   ],
   "source": [
    "import copy\n",
    "def env_convexe(nuage:list[tuple[float]])->list[tuple[float]]:\n",
    "    trier_nuage(nuage)\n",
    "    X=[nuage.pop(0)]\n",
    "    X.append(nuage.pop(0))\n",
    "    Y=copy.copy(X)\n",
    "    for i in range(len(nuage)):\n",
    "        majES(X,nuage[i])\n",
    "    for i in range(len(nuage)):\n",
    "        majEI(Y,nuage[i])\n",
    "    Y.reverse()\n",
    "    if X[-1]==Y[0]:\n",
    "        X.pop(-1)\n",
    "        Z=X+Y\n",
    "    else:\n",
    "        Z=X+Y\n",
    "    return Z\n",
    "env_convexe([(0.21, 0.91), (0.67, 0.97), (0.6, 0.9), (0.7, 0.6), (0.1, 0.5)])"
   ]
  },
  {
   "cell_type": "code",
   "execution_count": 74,
   "id": "e9d6fd03-de3b-4ea9-b91f-740b44f560f1",
   "metadata": {},
   "outputs": [
    {
     "name": "stdout",
     "output_type": "stream",
     "text": [
      "[(0.1, 0.5), (0.7, 0.6), (0.6, 0.9)]\n"
     ]
    }
   ],
   "source": [
    "X=[(0.6, 0.9), (0.7, 0.6), (0.1, 0.5)]\n",
    "X.reverse()\n",
    "print(X)"
   ]
  },
  {
   "cell_type": "code",
   "execution_count": 108,
   "id": "e445b62f-c636-4a75-99d3-ac5322508ef5",
   "metadata": {},
   "outputs": [
    {
     "name": "stdout",
     "output_type": "stream",
     "text": [
      "[(0.1, 0.5), (0.21, 0.91), (0.6, 0.9), (0.67, 0.97), (0.7, 0.6)]\n",
      "[(0.1, 0.5)]\n",
      "[(0.21, 0.91), (0.6, 0.9), (0.67, 0.97), (0.7, 0.6)]\n",
      "[(0.1, 0.5), (0.21, 0.91)]\n",
      "[(0.6, 0.9), (0.67, 0.97), (0.7, 0.6)]\n",
      "[(0.1, 0.5), (0.21, 0.91)]\n"
     ]
    },
    {
     "ename": "IndexError",
     "evalue": "list index out of range",
     "output_type": "error",
     "traceback": [
      "\u001b[1;31m---------------------------------------------------------------------------\u001b[0m",
      "\u001b[1;31mIndexError\u001b[0m                                Traceback (most recent call last)",
      "\u001b[1;32m~\\AppData\\Local\\Temp\\ipykernel_3376\\622967319.py\u001b[0m in \u001b[0;36m<module>\u001b[1;34m\u001b[0m\n\u001b[0;32m     15\u001b[0m \u001b[0mprint\u001b[0m\u001b[1;33m(\u001b[0m\u001b[0mY\u001b[0m\u001b[1;33m)\u001b[0m\u001b[1;33m\u001b[0m\u001b[1;33m\u001b[0m\u001b[0m\n\u001b[0;32m     16\u001b[0m \u001b[1;32mfor\u001b[0m \u001b[0mi\u001b[0m \u001b[1;32min\u001b[0m \u001b[0mrange\u001b[0m\u001b[1;33m(\u001b[0m\u001b[0mlen\u001b[0m\u001b[1;33m(\u001b[0m\u001b[0mS\u001b[0m\u001b[1;33m)\u001b[0m\u001b[1;33m)\u001b[0m\u001b[1;33m:\u001b[0m\u001b[1;33m\u001b[0m\u001b[1;33m\u001b[0m\u001b[0m\n\u001b[1;32m---> 17\u001b[1;33m     \u001b[0mmajEI\u001b[0m\u001b[1;33m(\u001b[0m\u001b[0mY\u001b[0m\u001b[1;33m,\u001b[0m\u001b[0mS\u001b[0m\u001b[1;33m[\u001b[0m\u001b[0mi\u001b[0m\u001b[1;33m]\u001b[0m\u001b[1;33m)\u001b[0m\u001b[1;33m\u001b[0m\u001b[1;33m\u001b[0m\u001b[0m\n\u001b[0m\u001b[0;32m     18\u001b[0m \u001b[0mprint\u001b[0m\u001b[1;33m(\u001b[0m\u001b[0mY\u001b[0m\u001b[1;33m)\u001b[0m\u001b[1;33m\u001b[0m\u001b[1;33m\u001b[0m\u001b[0m\n\u001b[0;32m     19\u001b[0m \u001b[1;31m#for i in range(len(S)):\u001b[0m\u001b[1;33m\u001b[0m\u001b[1;33m\u001b[0m\u001b[0m\n",
      "\u001b[1;32m~\\AppData\\Local\\Temp\\ipykernel_3376\\3988795313.py\u001b[0m in \u001b[0;36mmajEI\u001b[1;34m(EI, point)\u001b[0m\n\u001b[0;32m      1\u001b[0m \u001b[1;32mdef\u001b[0m \u001b[0mmajEI\u001b[0m\u001b[1;33m(\u001b[0m\u001b[0mEI\u001b[0m\u001b[1;33m:\u001b[0m\u001b[0mlist\u001b[0m\u001b[1;33m[\u001b[0m\u001b[0mtuple\u001b[0m\u001b[1;33m[\u001b[0m\u001b[0mfloat\u001b[0m\u001b[1;33m]\u001b[0m\u001b[1;33m]\u001b[0m\u001b[1;33m,\u001b[0m \u001b[0mpoint\u001b[0m\u001b[1;33m:\u001b[0m\u001b[0mtuple\u001b[0m\u001b[1;33m)\u001b[0m\u001b[1;33m->\u001b[0m\u001b[0mlist\u001b[0m\u001b[1;33m[\u001b[0m\u001b[0mtuple\u001b[0m\u001b[1;33m[\u001b[0m\u001b[0mfloat\u001b[0m\u001b[1;33m]\u001b[0m\u001b[1;33m]\u001b[0m\u001b[1;33m:\u001b[0m\u001b[1;33m\u001b[0m\u001b[1;33m\u001b[0m\u001b[0m\n\u001b[0;32m      2\u001b[0m     \u001b[0mtrier_nuage\u001b[0m\u001b[1;33m(\u001b[0m\u001b[0mEI\u001b[0m\u001b[1;33m)\u001b[0m\u001b[1;33m\u001b[0m\u001b[1;33m\u001b[0m\u001b[0m\n\u001b[1;32m----> 3\u001b[1;33m     \u001b[1;32mwhile\u001b[0m \u001b[0morientation\u001b[0m\u001b[1;33m(\u001b[0m\u001b[0mpoint\u001b[0m\u001b[1;33m,\u001b[0m\u001b[0mEI\u001b[0m\u001b[1;33m[\u001b[0m\u001b[1;33m-\u001b[0m\u001b[1;36m1\u001b[0m\u001b[1;33m]\u001b[0m\u001b[1;33m,\u001b[0m\u001b[0mEI\u001b[0m\u001b[1;33m[\u001b[0m\u001b[1;33m-\u001b[0m\u001b[1;36m2\u001b[0m\u001b[1;33m]\u001b[0m\u001b[1;33m)\u001b[0m\u001b[1;33m==\u001b[0m\u001b[1;36m1\u001b[0m \u001b[1;32mand\u001b[0m \u001b[0mlen\u001b[0m\u001b[1;33m(\u001b[0m\u001b[0mEI\u001b[0m\u001b[1;33m)\u001b[0m\u001b[1;33m!=\u001b[0m\u001b[1;36m1\u001b[0m\u001b[1;33m:\u001b[0m\u001b[1;33m\u001b[0m\u001b[1;33m\u001b[0m\u001b[0m\n\u001b[0m\u001b[0;32m      4\u001b[0m         \u001b[0mEI\u001b[0m\u001b[1;33m.\u001b[0m\u001b[0mpop\u001b[0m\u001b[1;33m(\u001b[0m\u001b[1;33m-\u001b[0m\u001b[1;36m1\u001b[0m\u001b[1;33m)\u001b[0m\u001b[1;33m\u001b[0m\u001b[1;33m\u001b[0m\u001b[0m\n\u001b[0;32m      5\u001b[0m     \u001b[0mEI\u001b[0m\u001b[1;33m.\u001b[0m\u001b[0mappend\u001b[0m\u001b[1;33m(\u001b[0m\u001b[0mpoint\u001b[0m\u001b[1;33m)\u001b[0m\u001b[1;33m\u001b[0m\u001b[1;33m\u001b[0m\u001b[0m\n",
      "\u001b[1;31mIndexError\u001b[0m: list index out of range"
     ]
    }
   ],
   "source": [
    "import copy\n",
    "S=[(0.21, 0.91), (0.67, 0.97), (0.6, 0.9), (0.7, 0.6), (0.1, 0.5)]\n",
    "trier_nuage(S)\n",
    "print(S)\n",
    "X=[]\n",
    "X.append(S.pop(0))\n",
    "print(X)\n",
    "print(S)\n",
    "X.append(S.pop(0))\n",
    "#reversed(X)\n",
    "print(X)\n",
    "print(S)\n",
    "#print (Z)\n",
    "Y=copy.copy(X)\n",
    "print(Y)\n",
    "for i in range(len(S)):\n",
    "    majEI(Y,S[i])\n",
    "print(Y)\n",
    "#for i in range(len(S)):\n",
    "        #majES(X,S[i])\n",
    "        #majEI(Y,S[i])\n",
    "#print(X)\n",
    "#print()\n",
    "#print(S)\n",
    "#for i in range(len(S)):\n",
    "        #majEI(Y,S[i])\n",
    "#print(Y)"
   ]
  }
 ],
 "metadata": {
  "kernelspec": {
   "display_name": "Python 3 (ipykernel)",
   "language": "python",
   "name": "python3"
  },
  "language_info": {
   "codemirror_mode": {
    "name": "ipython",
    "version": 3
   },
   "file_extension": ".py",
   "mimetype": "text/x-python",
   "name": "python",
   "nbconvert_exporter": "python",
   "pygments_lexer": "ipython3",
   "version": "3.9.13"
  }
 },
 "nbformat": 4,
 "nbformat_minor": 5
}
