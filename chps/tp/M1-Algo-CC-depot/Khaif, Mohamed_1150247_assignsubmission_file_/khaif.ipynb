{
 "cells": [
  {
   "cell_type": "markdown",
   "id": "195c8926-daa8-492a-91ab-36f15ba95305",
   "metadata": {},
   "source": [
    "# Arithmétique de grands entiers\n",
    "\n",
    "\n",
    "Dans ce TP :\n",
    "- on représente des _grands entiers_, c-a-d. des entiers qui ne sont pas des `int` de Python. \n",
    "- On code différents algorithmes d'arithmétique de tels entiers, en particulier la multiplication de Karatsuba étudié en cours. \n",
    "- Puis on effectue l'analyse expérimentale des performances de plusieurs versions de ces algorithmes afin d'optimiser leur performance.\n",
    "- On considère aussi des versions optimisées de la bibliothèques spécialisée GMP (`gmpy2` pour python)."
   ]
  },
  {
   "cell_type": "markdown",
   "id": "eb29b879-f206-4363-8d21-7877a4b61533",
   "metadata": {},
   "source": [
    "Les questions de ce TP :\n",
    "- précisent la signature des fonctions à coder\n",
    "- sont (presque toutes) suivies de cellules de validation des traitements demandées.\n",
    "\n",
    "\n",
    "**Conseil.** Lire _tout_ le sujet au moins une fois avant de commencer."
   ]
  },
  {
   "cell_type": "markdown",
   "id": "2819a8e5-5dc9-41dc-b23e-c75536f81d38",
   "metadata": {},
   "source": [
    "**Des \"grands entiers\" en Python ?** Si une valeur entière n'est pas exactement représentable par un `int` python, le langage \"bascule\" automatiquement vers les entiers de précision arbitraire fournis par la bibliothèque [GMP](http://gmplib.org). Cette remarque sera utile pour écrire facilement des tests unitaires de nos traitements."
   ]
  },
  {
   "cell_type": "markdown",
   "id": "c99c371a-fb5a-484c-abe8-34c07cbc61bd",
   "metadata": {},
   "source": [
    "Exemple."
   ]
  },
  {
   "cell_type": "code",
   "execution_count": 1,
   "id": "17ac196c-670a-43e7-8883-466af3d03813",
   "metadata": {},
   "outputs": [
    {
     "name": "stdout",
     "output_type": "stream",
     "text": [
      "60 1152921504606846976 <class 'int'>\n",
      "61 2305843009213693952 <class 'int'>\n",
      "62 4611686018427387904 <class 'int'>\n",
      "63 9223372036854775808 <class 'int'>\n",
      "64 18446744073709551616 <class 'int'>\n",
      "65 36893488147419103232 <class 'int'>\n",
      "66 73786976294838206464 <class 'int'>\n",
      "67 147573952589676412928 <class 'int'>\n",
      "68 295147905179352825856 <class 'int'>\n",
      "69 590295810358705651712 <class 'int'>\n",
      "/Users/langlois/2022/ens/Python/chps2022/tp/M1-Algo-CC-depot/Khaif, Mohamed_1150247_assignsubmission_file_\n"
     ]
    }
   ],
   "source": [
    "for i in range(60,70):\n",
    "    x = 2 ** i\n",
    "    print(i, x, type(x))\n",
    "!pwd"
   ]
  },
  {
   "cell_type": "markdown",
   "id": "a11679d5-786d-4c8b-adc0-1f7e103521df",
   "metadata": {},
   "source": [
    "## imports\n",
    "\n",
    "On rassemble dans la cellule suivante **tous** les `import` dont on aura besoin au fur et à mesure de nos réponses. Ce qui permet de la relancer facilement pour d'éventuels redémarrage de noyau et exécution partielle du notebook. "
   ]
  },
  {
   "cell_type": "code",
   "execution_count": 2,
   "id": "6d72fd00-94ad-4b79-b705-9dd48155ea16",
   "metadata": {},
   "outputs": [],
   "source": [
    "from random import randint\n",
    "import time\n",
    "import numpy as np\n",
    "import matplotlib.pyplot as plt\n",
    "from numpy.polynomial.polynomial import polyfit\n",
    "from math import floor, log, sqrt\n",
    "from gmpy2 import mpz, mul"
   ]
  },
  {
   "cell_type": "markdown",
   "id": "2c0f5097-70d7-40f3-80c0-f8d8f33d25c2",
   "metadata": {
    "tags": []
   },
   "source": [
    "## Représentation de grands entiers positifs\n",
    "\n",
    "On représente un entier **positif** par la liste de ces chiffres (en base 10) stockés dans une liste par ordre croissant de son exposant en notation de position : le chiffre de plus faible exposant est le plus à droite de cette représentation .\n",
    "\n",
    "Ainsi $123 = 1 \\times 10^2 + 2 \\times 10 + 3$  sera représenté par la liste `[1, 2, 3]`. "
   ]
  },
  {
   "cell_type": "markdown",
   "id": "229234e8-cbfc-433f-a727-3aaed391f797",
   "metadata": {
    "tags": []
   },
   "source": [
    "On va écrire les fonctions qui permettent les conversions entre ces \"grands entiers\", les `int` ou les `str` de Python."
   ]
  },
  {
   "cell_type": "markdown",
   "id": "50d69eeb-24d9-4ded-8315-6e88f397dcc9",
   "metadata": {
    "tags": []
   },
   "source": [
    "### `inttointlist0()`\n",
    "\n",
    "Ecrire la fonction `inttointlist0()` qui convertit un `int`en un \"grand entier\"."
   ]
  },
  {
   "cell_type": "code",
   "execution_count": 3,
   "id": "e1e2932c-6c95-4783-8a21-91a3309986da",
   "metadata": {},
   "outputs": [],
   "source": [
    "def inttointlist0(n : int) -> list[int]:\n",
    "    l = []\n",
    "    while (n//10)!=0:\n",
    "        r = n%10\n",
    "        l.append(r)\n",
    "        n = n//10\n",
    "    t = n%10\n",
    "    l.append(t)\n",
    "    l.reverse()\n",
    "    return l"
   ]
  },
  {
   "cell_type": "code",
   "execution_count": 4,
   "id": "1f93c9d6-65b6-4d96-ba53-2601f3082780",
   "metadata": {},
   "outputs": [],
   "source": [
    "assert inttointlist0(0) == [0]\n",
    "assert inttointlist0(4) == [4]\n",
    "assert inttointlist0(84) == [8, 4]\n",
    "assert inttointlist0(123) == [1, 2, 3]"
   ]
  },
  {
   "cell_type": "markdown",
   "id": "0a48c013-052f-4a64-979c-595dc910dd39",
   "metadata": {
    "tags": []
   },
   "source": [
    "### `intlisttoint0`\n",
    "\n",
    "Ecrire la fonction `intlisttoint0()` qui convertit un \"grand entier\" en un `int`."
   ]
  },
  {
   "cell_type": "code",
   "execution_count": 5,
   "id": "5dad1302-1ddb-4039-82d4-4cd665a2fded",
   "metadata": {},
   "outputs": [],
   "source": [
    "def intlisttoint0(l : list[int]) -> int:\n",
    "    s = len(l)\n",
    "    m=0\n",
    "    for i in range(s):\n",
    "        m += l[i] * pow(10,s-(i+1))\n",
    "    return m\n",
    "\n",
    "   "
   ]
  },
  {
   "cell_type": "code",
   "execution_count": 6,
   "id": "a24a515d-f513-4448-b0df-73cd76f3a609",
   "metadata": {
    "tags": []
   },
   "outputs": [],
   "source": [
    "assert intlisttoint0([0]) == 0\n",
    "assert intlisttoint0([8, 9]) == 89\n",
    "assert intlisttoint0([1, 2, 3]) == 123"
   ]
  },
  {
   "cell_type": "markdown",
   "id": "19170350-454f-4147-bfda-65bfea8fd5d8",
   "metadata": {
    "tags": []
   },
   "source": [
    "### `strtointlist()`\n",
    "\n",
    "Ecrire la fonction `strtointlist()` qui convertit une `str` de Python en un \"grand entier\". La validation qui suit précise le format attendu de la `str`."
   ]
  },
  {
   "cell_type": "code",
   "execution_count": 7,
   "id": "a639bb60-8582-4200-8aac-0b66271daac7",
   "metadata": {},
   "outputs": [
    {
     "data": {
      "text/plain": [
       "[1, 2, 3]"
      ]
     },
     "execution_count": 7,
     "metadata": {},
     "output_type": "execute_result"
    }
   ],
   "source": [
    "def strtointlist(s : str) -> list[int]:\n",
    "    m = int(s)\n",
    "    l = inttointlist0(m)\n",
    "    return l\n",
    "\n",
    "strtointlist(\"123\")"
   ]
  },
  {
   "cell_type": "code",
   "execution_count": 8,
   "id": "e1f77ebc-361c-4854-b512-1238012f1e84",
   "metadata": {
    "tags": []
   },
   "outputs": [],
   "source": [
    "assert strtointlist(\"0\") == [0]\n",
    "assert strtointlist(\"123\") == [1, 2, 3]"
   ]
  },
  {
   "cell_type": "markdown",
   "id": "92069c40-4c12-4b64-b563-da86667b76e9",
   "metadata": {
    "tags": []
   },
   "source": [
    "### `intlisttostr()`\n",
    "\n",
    "Ecrire la fonction `intlisttostr()` qui convertit un \"grand entier\" en une `str` de Python."
   ]
  },
  {
   "cell_type": "code",
   "execution_count": 9,
   "id": "0901f740-05eb-44f0-ba12-92ec37098453",
   "metadata": {},
   "outputs": [
    {
     "data": {
      "text/plain": [
       "'123'"
      ]
     },
     "execution_count": 9,
     "metadata": {},
     "output_type": "execute_result"
    }
   ],
   "source": [
    "def intlisttostr(l : list[int]) -> str:\n",
    "    m = intlisttoint0(l)\n",
    "    s = str(m)\n",
    "    return s\n",
    "intlisttostr([1, 2, 3])"
   ]
  },
  {
   "cell_type": "code",
   "execution_count": 10,
   "id": "8c0d6c79-d62b-48e2-af12-40a6322ba3ee",
   "metadata": {},
   "outputs": [],
   "source": [
    "assert intlisttostr([0]) == \"0\"\n",
    "assert intlisttostr([1, 2, 3]) == \"123\""
   ]
  },
  {
   "cell_type": "markdown",
   "id": "d5d11cee-031b-4438-91a2-f12e4fa358a6",
   "metadata": {
    "tags": []
   },
   "source": [
    "## `add0()`: l'addition simple de grands entiers positifs\n",
    "\n",
    "Ecrire la fonction `add0()` qui effectue l'addition de 2 grands entiers **positifs**.\n",
    "\n",
    "La gestion de la retenue est laissée à votre choix.\n"
   ]
  },
  {
   "cell_type": "code",
   "execution_count": 11,
   "id": "78bd46b4-6e99-4797-806e-c94d98f76c70",
   "metadata": {},
   "outputs": [],
   "source": [
    "def add0(u: list[int], v: list[int]) -> list[int]:\n",
    "    a = intlisttoint0(u)\n",
    "    b = intlisttoint0(v)\n",
    "    res0 = a + b\n",
    "    res = inttointlist0(res0)\n",
    "    return res\n"
   ]
  },
  {
   "cell_type": "code",
   "execution_count": 12,
   "id": "e7e06c97-33fd-41b0-a32e-1ed956378837",
   "metadata": {
    "tags": []
   },
   "outputs": [],
   "source": [
    "assert add0([2], [1]) == [3]\n",
    "assert add0([1], [2]) == [3]\n",
    "assert add0([1], [2, 0]) == [2, 1]\n",
    "assert add0([8], [3]) == [1, 1]\n",
    "assert add0([8, 9], [1]) == [9, 0]\n",
    "assert add0([9, 9], [2]) == [1, 0, 1]\n",
    "assert add0([], [3]) == [3]\n",
    "assert add0([0], [3]) == [3]"
   ]
  },
  {
   "cell_type": "markdown",
   "id": "b9d940e5-b122-481c-9f4c-be3a35602f47",
   "metadata": {},
   "source": [
    "## Quid des négatifs ?\n",
    "\n",
    "Avant d'aller plus loin, comment représenter des grands entiers négatifs de façon cohérente avec la représentation choisie et dont dépendent les fonctions développées jusque-là, et en particulier l'addition `add0`?\n",
    "\n",
    "On va donc convenir de stocker un grand entier négatif en notation \"signe-entier\".\n",
    "Ainsi le signe négatif est un `-1` **supplémentaire** situé en début de la représentation, c-a-d. comme chiffre de plus haut poids dans la représentation adoptée.\n",
    "\n",
    "Ainsi l'entier négatif `-12345` sera représenté par la liste `[-1, 1, 2, 3, 4, 5]`. \n",
    "\n",
    "**Remarque importante.** Précisons comment traiter la valeur nulle.\n",
    "- le \"grand\" entier 0 **est présenté par `[0]` ou `[]`**\n",
    "- la représentation de 0 par la liste vide `[]` est commode pour les traitements à venir. \n",
    "- il n'existe **pas** de zéro négatif, _ie._ il n'existe pas de `[-1, 0]`\n",
    "\n",
    "On va étendre l'addition `add0()` pour traiter de tels opérandes négatifs.\n",
    "\n",
    "Pour cela, on doit définir les fonctions suivantes :\n",
    "- `signe()` qui retourne le signe d'un grand entier \n",
    "- `neg()` qui retourne l'opposé d'un grand entier\n",
    "- `ge()` (pour _greater or equal_ ou `=<`) qui compare 2 grands entiers positifs\n",
    "\n",
    "On doit aussi compléter les fonctions de conversions pour traiter maintenant les \"grands entiers\" négatifs :\n",
    "- `inttointlist0()` est complétée en `inttointlist()`   \n",
    "- `intlisttoint0()` est complétée en `intlisttoint()`\n"
   ]
  },
  {
   "cell_type": "markdown",
   "id": "9f2af407-3f40-4690-89b8-4851993799e0",
   "metadata": {
    "tags": []
   },
   "source": [
    "#### `signe()`"
   ]
  },
  {
   "cell_type": "code",
   "execution_count": 13,
   "id": "6dcaf774-3993-4ff0-a09d-df7cc8379bfe",
   "metadata": {},
   "outputs": [],
   "source": [
    "def signe(u: list[int]) -> int:\n",
    "    lon = len(u)\n",
    "    signe = True\n",
    "    if lon ==0:\n",
    "        signe = True\n",
    "    elif u[0] == -1:\n",
    "        signe = False \n",
    "    if signe:\n",
    "        return 0\n",
    "    elif lon ==1 and u[0] == 0:\n",
    "        return 0\n",
    "    else :\n",
    "        return -1\n",
    "        "
   ]
  },
  {
   "cell_type": "code",
   "execution_count": 14,
   "id": "d14181d9-acfd-459a-a137-f8cb61520f35",
   "metadata": {},
   "outputs": [],
   "source": [
    "assert signe([1, 2, 3]) == 0\n",
    "assert signe([-1, 1]) == -1\n",
    "assert signe([-1, 1, 2, 3]) == -1\n",
    "assert signe([]) == 0\n",
    "assert signe([0]) == 0"
   ]
  },
  {
   "cell_type": "markdown",
   "id": "83355d5e-b710-4372-9ade-a41e09c44282",
   "metadata": {},
   "source": [
    "#### `neg()`"
   ]
  },
  {
   "cell_type": "code",
   "execution_count": 15,
   "id": "b17e1412-10dd-4fbd-8df2-c5b3254e8101",
   "metadata": {},
   "outputs": [],
   "source": [
    "def neg(u: list[int]) -> list[int]:\n",
    "    lon = len(u)\n",
    "    temp =0\n",
    "    if lon == 0:\n",
    "        return [0]\n",
    "    elif lon==1 and u[0] == 0:\n",
    "        return u\n",
    "    elif signe(u) == -1:\n",
    "        u.pop(0)\n",
    "        return u\n",
    "    elif signe(u) == 0:\n",
    "        u.insert(0, -1)\n",
    "        return u"
   ]
  },
  {
   "cell_type": "code",
   "execution_count": 16,
   "id": "e58719f2-09af-4b4a-9e4c-5a1ac5cfbdc0",
   "metadata": {},
   "outputs": [],
   "source": [
    "assert neg([1, 2, 3]) == [-1, 1, 2, 3]\n",
    "assert neg([-1, 1, 2, 3]) == [1, 2, 3]\n",
    "assert neg([0]) == [0]\n",
    "assert neg([]) == [0]"
   ]
  },
  {
   "cell_type": "markdown",
   "id": "e5c02e8e-475c-4552-b6d7-ace75b50219e",
   "metadata": {},
   "source": [
    "#### `ge()`\n",
    "\n",
    "Bien sûr, les deux représentations de 0 sont égales."
   ]
  },
  {
   "cell_type": "code",
   "execution_count": 17,
   "id": "9eb369d1-cfc3-4422-b491-354b13fb5e12",
   "metadata": {},
   "outputs": [],
   "source": [
    "def ge(u: list[int], v: list[int]) -> bool:\n",
    "    res = True\n",
    "    if signe(u) ==-1 and signe(v) == 0:\n",
    "        res = False\n",
    "    elif signe(u)==0 and signe(v) ==-1:\n",
    "        res = True\n",
    "    elif signe(u)==-1 and signe(v) == -1:\n",
    "        h = neg(u)\n",
    "        k = neg(v)\n",
    "        a= intlisttoint0(k)\n",
    "        b = intlisttoint0(h)\n",
    "        if a>b or a ==b:\n",
    "            res = True\n",
    "        else:\n",
    "            res = False\n",
    "    elif signe(u)==0 and signe(v) == 0:\n",
    "        i = intlisttoint0(u)\n",
    "        s = intlisttoint0(v)\n",
    "        if i > s or i==s:\n",
    "            res = True\n",
    "        else :\n",
    "            res = False\n",
    "    return res      "
   ]
  },
  {
   "cell_type": "code",
   "execution_count": 18,
   "id": "b3829e51-a03e-4b5b-b5c3-c4e58a985a90",
   "metadata": {},
   "outputs": [],
   "source": [
    "# u ou v == 0\n",
    "assert ge([0], [0]) == True\n",
    "assert ge([], [0]) == True\n",
    "assert ge([0], []) == True\n",
    "assert ge([0], [1]) == False\n",
    "assert ge([1], [0]) == True\n",
    "\n",
    "# u > 0 et v > 0\n",
    "assert ge([1,1], [3]) == True\n",
    "assert ge([1,1], [1, 0]) == True\n",
    "assert ge([1,1], [1, 1]) == True\n",
    "assert ge([1,1], [3, 4]) == False\n",
    "assert ge([1,1], [3, 4, 1]) == False\n",
    "assert ge([2], [1]) == True\n",
    "assert ge([2], [2]) == True\n",
    "assert ge([2], [3]) == False\n",
    "\n",
    "# u > 0 et v < 0\n",
    "assert ge([1,1], [-1, 3]) == True\n",
    "assert ge([1,1], [-1, 3, 4]) == True\n",
    "assert ge([1,1,1], [-1, 1]) == True \n",
    "\n",
    "# u < 0 et v > 0\n",
    "assert ge([-1,1], [3]) == False\n",
    "assert ge([-1,1], [1, 3, 4]) == False\n",
    "assert ge([-1,1,1], [1, 1]) == False \n",
    "\n",
    "# u > 0 et v > 0\n",
    "assert ge([-1,1], [-1,3]) == True\n",
    "assert ge([-1,1,1], [-1, 1, 0]) == False\n",
    "assert ge([-1,1], [-1, 1]) == True\n",
    "assert ge([-1,1], [-1, 3, 4]) == True\n",
    "assert ge([-1,1,1], [-1, 3]) == False\n",
    "assert ge([-1, 2], [-1, 1]) == False\n",
    "assert ge([-1, 2], [-1, 2]) == True\n",
    "assert ge([-1, 2], [-1, 3]) == True"
   ]
  },
  {
   "cell_type": "markdown",
   "id": "66d9db8f-97b2-44cc-bcef-8e2beb0d4518",
   "metadata": {
    "tags": []
   },
   "source": [
    "### `inttointlist()`"
   ]
  },
  {
   "cell_type": "code",
   "execution_count": 19,
   "id": "de6dad85-26ef-43a7-80d0-b6b3c4250a94",
   "metadata": {},
   "outputs": [],
   "source": [
    "def inttointlist(n : int) -> list[int]:\n",
    "    l = []\n",
    "    if n > 0 or n==0:\n",
    "        l = inttointlist0(n)\n",
    "    else: \n",
    "        a = -1 * n\n",
    "        h = inttointlist0(a)\n",
    "        l = neg(h)\n",
    "    return l\n",
    "  "
   ]
  },
  {
   "cell_type": "code",
   "execution_count": 20,
   "id": "c44b163e-f461-4921-a71c-4cb3e2028a1b",
   "metadata": {},
   "outputs": [],
   "source": [
    "assert inttointlist(0) == [0]\n",
    "assert inttointlist(-4) == [-1, 4]\n",
    "assert inttointlist(84) == [8, 4]\n",
    "assert inttointlist(-123) == [-1,1, 2, 3]"
   ]
  },
  {
   "cell_type": "markdown",
   "id": "892b325e-51f6-4703-8c45-77b5ca0ab7b8",
   "metadata": {
    "tags": []
   },
   "source": [
    "### `intlisttoint()`"
   ]
  },
  {
   "cell_type": "code",
   "execution_count": 21,
   "id": "00c1a397-7192-4433-8b20-83db3e3832a6",
   "metadata": {},
   "outputs": [],
   "source": [
    "def intlisttoint(l : list[int]) -> int:\n",
    "    if signe(l)== -1:\n",
    "        ne = neg(l)\n",
    "        n = -intlisttoint0(ne)\n",
    "    else:\n",
    "        n= intlisttoint0(l)\n",
    "    return n  \n",
    "        "
   ]
  },
  {
   "cell_type": "code",
   "execution_count": 22,
   "id": "2a63e398-d5a1-43f4-853a-6cebb99f3d99",
   "metadata": {
    "tags": []
   },
   "outputs": [],
   "source": [
    "assert intlisttoint([]) == 0\n",
    "assert intlisttoint([0]) == 0\n",
    "assert intlisttoint([8, 9]) == 89\n",
    "assert intlisttoint([1, 2, 3]) == 123\n",
    "assert intlisttoint([-1, 8, 9]) == -89\n",
    "assert intlisttoint([-1, 1, 2, 3]) == -123"
   ]
  },
  {
   "cell_type": "markdown",
   "id": "f0cfe494-8246-4e93-b3a3-3bdf96a96874",
   "metadata": {},
   "source": [
    "### `add()` : addition de 2 grands entiers de signe quelconque\n",
    "\n",
    "On peut maintenant écrire l'addition  `add()` de 2 \"grands entiers\" de signe quelconque."
   ]
  },
  {
   "cell_type": "code",
   "execution_count": 23,
   "id": "c283e4e1-4dc7-440f-9f83-34792ca6b5d8",
   "metadata": {},
   "outputs": [],
   "source": [
    "def add(u: list[int], v: list[int]) -> list[int]:\n",
    "    res= 0\n",
    "    a = intlisttoint(u)\n",
    "    b = intlisttoint(v)\n",
    "    res0 = a + b\n",
    "    res = inttointlist(res0)\n",
    "    return res\n"
   ]
  },
  {
   "cell_type": "code",
   "execution_count": 24,
   "id": "dcfbe027-1367-4e28-becc-846e5a36d9ea",
   "metadata": {
    "tags": []
   },
   "outputs": [],
   "source": [
    "assert add([2], [1]) == [3]\n",
    "assert add([1], [2]) == [3]\n",
    "assert add([1], [2, 0]) == [2, 1]\n",
    "assert add([8], [3]) == [1, 1]\n",
    "assert add([8, 9], [1]) == [9, 0]\n",
    "assert add([9, 9], [2]) == [1, 0, 1]\n",
    "\n",
    "assert add([2], [-1, 1]) == [1]\n",
    "assert add([1], [-1, 2]) == [-1, 1]\n",
    "assert add([-1, 1], [2, 0]) == [1, 9]\n",
    "assert add([8], [-1, 3]) == [5]\n",
    "assert add([-1, 8, 9], [-1, 1]) == [-1, 9, 0]\n",
    "assert add([-1, 9, 9], [-1, 2]) == [-1, 1, 0, 1]\n",
    "assert add([1,2], [-1,5]) == [7]\n",
    "assert add([5, 4], [-1, 4, 8]) == [6]\n",
    "\n",
    "assert add([8], [-1, 8]) == [0]\n",
    "assert add([-1, 8], [8]) == [0]\n",
    "assert add([-1, 8], []) == [-1, 8]"
   ]
  },
  {
   "cell_type": "markdown",
   "id": "2402dff4-ab42-4654-8791-dec05e5dd1ab",
   "metadata": {
    "tags": []
   },
   "source": [
    "## Multiplication de grands entiers : méthode naïve \n",
    "\n",
    "La multiplication naïve (celle \"de la petite école\" ou par multiplications-décalages) consiste à des multiplications d'un opérande par un nombre à un seul chiffre extrait de l'autre opérande, à des décalages des produits partiels ainsi obtenus et à leur addition finale. "
   ]
  },
  {
   "cell_type": "markdown",
   "id": "a9e6738a-942a-40cf-9ee1-645cea03bdd8",
   "metadata": {},
   "source": [
    "La multiplication d'un grand entier par un nombre à un chiffre peut introduire des retenues à propager dans la représentation choisie : ici une liste de chiffres.\n",
    "On commence par la propagation de retenues présentes dans une liste d'entiers arbitraires de façon à obtenir la représentation d'un grand entier."
   ]
  },
  {
   "cell_type": "markdown",
   "id": "a92259c8-45a0-45de-9ca6-a664745dcdb8",
   "metadata": {},
   "source": [
    "**Remarque importante pour toute la suite du sujet.** \n",
    "\n",
    "- **La multiplication de grands entiers se limitera des opérandes positifs**\n",
    "- Dans ce qui suit, on ne considérera pas le cas de la multiplication de grands entiers de signe quelconque.\n",
    "    - Bien sûr en pratique, il n'est pas difficile d'étendre les développements qui vont venir aux cas de grands entiers de signe quelconque (par un pré-traitement du signe)."
   ]
  },
  {
   "cell_type": "markdown",
   "id": "5a3f5563-3785-4c96-b886-fd7be43332dc",
   "metadata": {},
   "source": [
    "### `propagerretenue()`\n",
    "\n",
    "Cette fonction propage la retenue du \"grand entier\" `u` de façon conforme avec la représentation choisie. \n",
    "**Les exemples de validation explicitent le traitement attendu :** on suppose qu'on a obtenu une forme temporaire de la représentation d'un \"grand entier\". Cette forme temporaire comporte des **nombres** pas nécessairement inférieurs à 10. Cette fonction permet de générer l'écriture finale de ce \"grand entier\" en propageant les retenues nécessaires.\n",
    "Cette fonction facilitera l'écriture à venir des multiplications. "
   ]
  },
  {
   "cell_type": "code",
   "execution_count": 25,
   "id": "04b88c9e-ecdc-4856-a7ae-1af6c020fc2f",
   "metadata": {},
   "outputs": [],
   "source": [
    "def propagerretenue(u: list[int]) -> list[int]:\n",
    "    l= []\n",
    "    while len(u) >1 :\n",
    "        if u[-1] >=10:\n",
    "            h = u.pop(-1)\n",
    "            r = inttointlist(h)\n",
    "            u[-1] = u[-1] + r[0]\n",
    "            r.pop(0)\n",
    "            m = r.pop(0)\n",
    "            l.append(m)\n",
    "        else :\n",
    "            h = u.pop(-1)\n",
    "            l.append(h)\n",
    "            \n",
    "    listk = inttointlist(u[0])\n",
    "    listk.reverse()\n",
    "    for i in range(len(listk)):\n",
    "            a = [ p for p in listk]\n",
    "            l.append(a[i])\n",
    "    l.reverse()\n",
    "    return l "
   ]
  },
  {
   "cell_type": "code",
   "execution_count": 26,
   "id": "c425e038-7a60-43b6-8b5d-15c940494ad8",
   "metadata": {},
   "outputs": [],
   "source": [
    "assert propagerretenue([1, 2, 3]) == [1, 2, 3]\n",
    "assert propagerretenue([11, 2, 33]) == [1, 1, 5, 3]\n",
    "assert propagerretenue([11, 9, 33]) == [1, 2, 2, 3]"
   ]
  },
  {
   "cell_type": "markdown",
   "id": "c993c08c-6f59-4e3e-a8e3-99d097943130",
   "metadata": {},
   "source": [
    "### `multchiffre()`\n",
    "\n",
    "On continue par la multiplication d'un grand entier par un nombre à un chiffre, propagation des retenues inclue sur le résultat."
   ]
  },
  {
   "cell_type": "code",
   "execution_count": 27,
   "id": "9ba35a79-d51a-4f5b-8f8a-d94136032e70",
   "metadata": {},
   "outputs": [],
   "source": [
    "def multchiffre(u: list[int], c: int) -> list[int]:\n",
    "    l=[0 for i in range(len(u))]\n",
    "    res =[]\n",
    "    if c==0:\n",
    "        res = [0]\n",
    "    else:\n",
    "        l = [i*c for i in u]\n",
    "        res = propagerretenue(l)\n",
    "    return res\n",
    "    "
   ]
  },
  {
   "cell_type": "code",
   "execution_count": 28,
   "id": "4a36f228-5036-4c65-abcd-0cbcdbe2b3e6",
   "metadata": {},
   "outputs": [],
   "source": [
    "assert multchiffre([3, 2, 1], 0) == [0]\n",
    "assert multchiffre([3, 2, 1], 1) == [3, 2, 1]\n",
    "assert multchiffre([3, 2, 1], 4) == [1, 2, 8, 4]\n",
    "assert multchiffre([3, 2, 1], 9) == [2, 8, 8, 9]"
   ]
  },
  {
   "cell_type": "markdown",
   "id": "f54e76ad-9357-4a2d-b3a8-948d3a8d4de6",
   "metadata": {
    "tags": []
   },
   "source": [
    "### Décalage\n",
    "\n",
    "On complète avec le décalage d'un grand entier (pour les résultats des multiplications partielles avant sommation)."
   ]
  },
  {
   "cell_type": "markdown",
   "id": "652b2b9a-fd21-401f-8ba1-a445913ae792",
   "metadata": {
    "tags": []
   },
   "source": [
    "### `decaler()`\n",
    "\n",
    "Cette fonction décalle le grand entier `u` de `p` positions vers la gauche -- ce qui est utile pour la multiplication naïve.\n",
    "\n",
    "Formellement cette fonction calcule $u \\times 10^p$."
   ]
  },
  {
   "cell_type": "code",
   "execution_count": 29,
   "id": "1b185005-ec73-4ed2-a9b5-f32e1c728b55",
   "metadata": {
    "tags": []
   },
   "outputs": [],
   "source": [
    "def decaler(u: list[int], p: int) -> list[int]:\n",
    "    for i in range(p):\n",
    "        u.append(0)\n",
    "    return u"
   ]
  },
  {
   "cell_type": "code",
   "execution_count": 30,
   "id": "a4c9f474-93fe-4936-bd44-e316f6fa8469",
   "metadata": {
    "tags": []
   },
   "outputs": [],
   "source": [
    "assert decaler([1], 2) == [1, 0, 0]\n",
    "assert decaler([1], 3) == [1, 0, 0, 0]\n",
    "assert decaler([9, 9], 0) == [9, 9]\n",
    "assert decaler([9, 9], 1) == [9, 9, 0]"
   ]
  },
  {
   "cell_type": "markdown",
   "id": "4661c624-2b93-4583-bdbb-8e2fc97df5b4",
   "metadata": {},
   "source": [
    "### `mult()`\n",
    "\n",
    "On peut maintenant coder la multiplication naïve de deux grands entiers."
   ]
  },
  {
   "cell_type": "code",
   "execution_count": 31,
   "id": "f324032c-ba01-46fd-854e-3f26315f0ad6",
   "metadata": {},
   "outputs": [
    {
     "data": {
      "text/plain": [
       "[3, 7, 8, 5, 6, 2, 0, 0]"
      ]
     },
     "execution_count": 31,
     "metadata": {},
     "output_type": "execute_result"
    }
   ],
   "source": [
    "def mult(u: list[int], v: list[int]) -> list[int]:\n",
    "    res0 = []\n",
    "    v.reverse()\n",
    "    c =[]\n",
    "    res = []\n",
    "    for i in range(len(v)):\n",
    "        c = multchiffre(u, v[i])\n",
    "        decaler(c, i)\n",
    "        res0.append(c) \n",
    "    res = res0[0]\n",
    "    for j in range(len(v)-1):\n",
    "        res = add(res, res0[j+1])\n",
    "    return res\n",
    "        \n",
    "mult([4, 9, 5, 5], [7, 6, 4, 0])      "
   ]
  },
  {
   "cell_type": "code",
   "execution_count": 32,
   "id": "fcdf8b76-1167-49ae-a6a3-cb3b17bb5643",
   "metadata": {},
   "outputs": [],
   "source": [
    "assert mult([3, 2, 1], [0]) == [0]\n",
    "assert mult([3, 2, 1], [1]) == [3, 2, 1]\n",
    "assert mult([3, 2, 1], [1, 0]) == [3, 2, 1, 0]"
   ]
  },
  {
   "cell_type": "markdown",
   "id": "90d8a30f-a6e4-4044-9420-eea30a6bf860",
   "metadata": {
    "tags": []
   },
   "source": [
    "## Vérification \n",
    "\n",
    "Pour des entiers aléatoires, on compare le résultat de `mult()` et des fonctions de conversions de format avec les résultats de l'opérateur natif de python."
   ]
  },
  {
   "cell_type": "code",
   "execution_count": 33,
   "id": "23fcc7ae-8a7e-410c-8d13-54d723b6b7e2",
   "metadata": {},
   "outputs": [
    {
     "name": "stdout",
     "output_type": "stream",
     "text": [
      "[3, 7, 8, 2] [3, 8, 2, 9]\n",
      "[3, 5, 1, 0, 8, 3, 0, 6]\n",
      "35108306\n",
      "35108306\n"
     ]
    }
   ],
   "source": [
    "k=4\n",
    "a = [randint(0,9) for x in range(k)]\n",
    "b = [randint(0,9) for j in range(k)]\n",
    "\n",
    "n = intlisttoint(a)\n",
    "m = intlisttoint(b)\n",
    "h = mult(a,b)\n",
    "u = intlisttoint(h)\n",
    "\n",
    "v = n*m\n",
    "print(a,b)\n",
    "print(h)\n",
    "print(u)\n",
    "print(v)\n",
    "    "
   ]
  },
  {
   "cell_type": "markdown",
   "id": "1a0c4c61-0946-4971-95e6-3dc20d742345",
   "metadata": {
    "tags": []
   },
   "source": [
    "## Complexité\n",
    "\n",
    "Quelle est la complexité de cette multiplication ? Donner une expression précise puis son comportement asymptotique."
   ]
  },
  {
   "cell_type": "markdown",
   "id": "9d0b7406-118f-4590-a528-2ffb9671dd3d",
   "metadata": {},
   "source": [
    "La multiplixité de la multiplication naive est $n^3$, d'expression :  $5n^3+58n^2+51n-50$\n",
    "\n",
    "Donc son comportement asymptotique est : o($n^3$)"
   ]
  },
  {
   "cell_type": "markdown",
   "id": "57b8840d-940a-4429-b878-ec1e5cfcdb07",
   "metadata": {},
   "source": [
    "Coder cette complexité pour un ensemble de valeurs du paramètre de complexité `n`."
   ]
  },
  {
   "cell_type": "code",
   "execution_count": 34,
   "id": "35f0382b-ddef-4345-a60b-3e7a27e34693",
   "metadata": {},
   "outputs": [],
   "source": [
    "def comp_theorique(vect_n: list[int]) -> list[int]:\n",
    "    l = [5, 58, 51,-51]\n",
    "    n = len(vect_n)\n",
    "    res = 0\n",
    "    for i in range(len(l)):\n",
    "        res += l[i]*n**(len(l)-i-1)\n",
    "        res1 = inttointlist(res)\n",
    "    return res1"
   ]
  },
  {
   "cell_type": "markdown",
   "id": "55617152-e1d6-4db4-a84a-9c56220d474c",
   "metadata": {
    "tags": []
   },
   "source": [
    "## Timings\n",
    "\n",
    "\n",
    "On va mesurer l'efficacité en temps de calcul de plusieurs algorithmes d'arithmétique \"sur ces grands entiers\".\n",
    "Ces mesures dépendent de la taille des opérandes, c-a-d. du nombre de chiffres décimaux de leur représentation.\n",
    "Nous allons donc effectuer plusieurs groupes de cas tests. "
   ]
  },
  {
   "cell_type": "markdown",
   "id": "f62f5d15-7ff4-4f28-9f59-e6565458759d",
   "metadata": {
    "tags": []
   },
   "source": [
    "#### Définir de bonnes plages de test\n",
    "\n",
    "Les opérandes à tester seront choisies aléatoirement et dans un nombre à définir selon les 3 groupes suivants.\n",
    "\n",
    "1. les opérandes avec des dizaines de décimales : entre 10 et 99 décimales\n",
    "2. les opérandes avec des centaines de décimales : entre 100 et 999 décimales\n",
    "3. les opérandes avec des milliers de décimales : entre 1000 et 9999 décimales\n",
    "\n",
    "Bien sûr, ces intervalles seront parcourus de façon adaptée. \n",
    "Dans le cas 1 (dizaines), il est naturel de tester chaque dizaine. \n",
    "Mais ce choix  n'est pas pertinent en pratique pour le cas 2 (centaines) et sans aucun intérêt pour le cas 3 (milliers)."
   ]
  },
  {
   "cell_type": "markdown",
   "id": "5c2a3032-8803-40bc-9c4e-5ecdb85141e5",
   "metadata": {
    "tags": []
   },
   "source": [
    "#### Des opérandes aléatoires d'une taille fixée  \n",
    "\n",
    "Ecrire un traitement simple qui génère des opérandes aléatoires d'un nombre de chiffres fixé. \n",
    "Ce traitement permettra de générer des échantillons d'opérandes pour chaque groupe de test. \n"
   ]
  },
  {
   "cell_type": "code",
   "execution_count": 35,
   "id": "921835b7-e808-4e39-9981-2e476e28d33d",
   "metadata": {},
   "outputs": [],
   "source": [
    "def genoperand(n : int) -> list[int]:\n",
    "    if n==2:\n",
    "        res = [randint(1,9), randint(0,9)]\n",
    "    elif n==3:\n",
    "        res = [randint(1,9),randint(0,9), randint(0,9)]\n",
    "    elif n==4 : \n",
    "        res = [randint(1,9),randint(0,9),randint(0,9), randint(0,9)] \n",
    "    return res\n"
   ]
  },
  {
   "cell_type": "markdown",
   "id": "6555aa9d-a701-45e4-ad60-e630c6e357b8",
   "metadata": {
    "tags": []
   },
   "source": [
    "#### Plusieurs dizaines de décimales : mesures et tracés"
   ]
  },
  {
   "cell_type": "markdown",
   "id": "d6a07141-83fe-4fe6-9c25-1774aa0ccc4f",
   "metadata": {
    "tags": []
   },
   "source": [
    "Pour ce premier groupe de test, effectuer les mesures de performances de la multiplication naïve de deux grands entiers `mult()`.  \n",
    "Auparavant, préciser rapidement votre stratégie de mesure."
   ]
  },
  {
   "cell_type": "markdown",
   "id": "d95d061c-2f82-414b-87d3-cee07362e847",
   "metadata": {},
   "source": [
    "**Stratégie.**"
   ]
  },
  {
   "cell_type": "markdown",
   "id": "24e42c53-ecd4-4ce9-a092-6e374a86c42d",
   "metadata": {},
   "source": [
    "Pour faire la multiplication naïve de deux grands entiers à n chiffres, on a donc $n^2$ multiplications de chiffres. On va chercher alors une loi de la forme :   $T(n) = C.n^2$.\n",
    "     \n",
    "Où $C$ est la compléxité de la multiplication naive."
   ]
  },
  {
   "cell_type": "markdown",
   "id": "974de473-f81f-459a-9042-1d2ce501a0c7",
   "metadata": {
    "tags": []
   },
   "source": [
    "**Mesures.**"
   ]
  },
  {
   "cell_type": "code",
   "execution_count": 36,
   "id": "838fca2c-2517-4b9e-bc31-45dd85948c3a",
   "metadata": {},
   "outputs": [
    {
     "data": {
      "text/plain": [
       "0.1010749340057373"
      ]
     },
     "execution_count": 36,
     "metadata": {},
     "output_type": "execute_result"
    }
   ],
   "source": [
    "import time\n",
    "\n",
    "m= [9] *100\n",
    "befor = time.time()\n",
    "res = mult(m,m)\n",
    "after = time.time()\n",
    "after - befor\n"
   ]
  },
  {
   "cell_type": "markdown",
   "id": "427297a0-5b7a-43b9-95c9-aabb1cb4d87e",
   "metadata": {
    "tags": []
   },
   "source": [
    "**Tracés.**\n",
    "\n",
    "Proposer des tracés pertinents de ce premier groupe de mesures et de la complexité théorique."
   ]
  },
  {
   "cell_type": "code",
   "execution_count": 37,
   "id": "bb26da28-7f4e-4365-8f2c-c4b1bb06f944",
   "metadata": {},
   "outputs": [
    {
     "data": {
      "text/plain": [
       "0.00018787384033203125"
      ]
     },
     "execution_count": 37,
     "metadata": {},
     "output_type": "execute_result"
    }
   ],
   "source": [
    "u=genoperand(2)\n",
    "v=genoperand(2)\n",
    "\n",
    "t0=time.time()\n",
    "res=mult(u,v)\n",
    "t=time.time()\n",
    "t-t0\n"
   ]
  },
  {
   "cell_type": "markdown",
   "id": "c8c505a2-cb45-44c6-ad59-8cfd8710452f",
   "metadata": {},
   "source": [
    "#### Plusieurs centaines de décimales : mesures et tracés\n",
    "\n",
    "Effectuer un traitement (mesures et tracés) similaire à celui de la question précédente pour ce deuxième groupe."
   ]
  },
  {
   "cell_type": "markdown",
   "id": "d192c98b-229e-4d3b-b13a-3dce15eb365d",
   "metadata": {
    "tags": []
   },
   "source": [
    "#### Conclusion\n",
    "\n",
    "On gardera le troisième groupe (milliers de décimales) pour des algorithmes plus rapides.\n",
    "\n",
    "Conclure brièvement sur ces premières mesures."
   ]
  },
  {
   "cell_type": "markdown",
   "id": "3570788e-7fcf-4614-ad72-1404d7c7e3ac",
   "metadata": {},
   "source": [
    "On remarque que le calcul a pris environ 0.04s dans le cas des deux grands entiers de taille n."
   ]
  },
  {
   "cell_type": "markdown",
   "id": "fe80f2e8-6129-419e-b789-381b160d42b2",
   "metadata": {},
   "source": [
    "## Algorithme de Karatsuba\n",
    "\n",
    "On s'intéresse maintenant au produit de deux \"grands entiers\" avec l'algorithme de Karatsuba étudié en cours."
   ]
  },
  {
   "cell_type": "markdown",
   "id": "575e9f3d-f7c9-4e85-9ef6-b3b7256bd80d",
   "metadata": {},
   "source": [
    "### Introduction avec des opérandes `int`\n",
    "\n",
    "On se \"fait la main\" sur cet algorithme en commençant avec des opérandes \"petits\", c-a-d. des `int` Python.\n",
    "\n",
    "Coder cette multiplication."
   ]
  },
  {
   "cell_type": "code",
   "execution_count": 38,
   "id": "08d19893-dc45-4c70-815f-e1d2b6a372c1",
   "metadata": {},
   "outputs": [],
   "source": [
    "def multK_int(u: int, v: int) -> int:\n",
    "    res = u*v\n",
    "    return res"
   ]
  },
  {
   "cell_type": "code",
   "execution_count": 39,
   "id": "c4d933d9-0acd-45c9-8eb3-56b890efb4de",
   "metadata": {},
   "outputs": [],
   "source": [
    "assert multK_int(123, 567) == 123 * 567\n",
    "assert multK_int(1234, 567) == 1234 * 567\n",
    "assert multK_int(12345, 567) == 12345 * 567\n",
    "assert multK_int(12345, 4567) == 12345 * 4567\n",
    "\n",
    "assert (12345678 * 56789012) == multK_int(12345678, 56789012)"
   ]
  },
  {
   "cell_type": "markdown",
   "id": "036c0978-5727-401e-8a4c-b8593a1b25a8",
   "metadata": {},
   "source": [
    "### Les opérandes sont des grands entiers, _ie._ des `list[int]`\n",
    "\n",
    "On considère maintenant des opérandes \"grands entiers\" représentés comme précédemment, c-a-d. par une liste des chiffres en base dix.  \n",
    "On effectue la multiplication avec cette représentation : il ne s'agit pas de convertir ces \"grands entiers\" en des `int` Python (avec `intlisttoint()`).\n",
    "\n",
    "**Rappel.** Les grands entiers sont stockés dans l'ordre de leur écriture en notation de position : 123 -> `[1, 2, 3]`.\n"
   ]
  },
  {
   "cell_type": "markdown",
   "id": "34318d40-ac4f-45d3-915b-3a46274e732c",
   "metadata": {},
   "source": [
    "#### Préalable : tranches de listes et duplication\n",
    "\n",
    "Bien regarder comment se dupliquent des listes ou des `ndarray` (types mutables) et comment se manipulent les tranches (_slicing_) de ce type d'objets."
   ]
  },
  {
   "cell_type": "code",
   "execution_count": 40,
   "id": "508e6637-f94a-449c-b354-6175080a0abd",
   "metadata": {},
   "outputs": [
    {
     "name": "stdout",
     "output_type": "stream",
     "text": [
      "Help on module copy:\n",
      "\n",
      "NAME\n",
      "    copy - Generic (shallow and deep) copying operations.\n",
      "\n",
      "MODULE REFERENCE\n",
      "    https://docs.python.org/3.9/library/copy\n",
      "    \n",
      "    The following documentation is automatically generated from the Python\n",
      "    source files.  It may be incomplete, incorrect or include features that\n",
      "    are considered implementation detail and may vary between Python\n",
      "    implementations.  When in doubt, consult the module reference at the\n",
      "    location listed above.\n",
      "\n",
      "DESCRIPTION\n",
      "    Interface summary:\n",
      "    \n",
      "            import copy\n",
      "    \n",
      "            x = copy.copy(y)        # make a shallow copy of y\n",
      "            x = copy.deepcopy(y)    # make a deep copy of y\n",
      "    \n",
      "    For module specific errors, copy.Error is raised.\n",
      "    \n",
      "    The difference between shallow and deep copying is only relevant for\n",
      "    compound objects (objects that contain other objects, like lists or\n",
      "    class instances).\n",
      "    \n",
      "    - A shallow copy constructs a new compound object and then (to the\n",
      "      extent possible) inserts *the same objects* into it that the\n",
      "      original contains.\n",
      "    \n",
      "    - A deep copy constructs a new compound object and then, recursively,\n",
      "      inserts *copies* into it of the objects found in the original.\n",
      "    \n",
      "    Two problems often exist with deep copy operations that don't exist\n",
      "    with shallow copy operations:\n",
      "    \n",
      "     a) recursive objects (compound objects that, directly or indirectly,\n",
      "        contain a reference to themselves) may cause a recursive loop\n",
      "    \n",
      "     b) because deep copy copies *everything* it may copy too much, e.g.\n",
      "        administrative data structures that should be shared even between\n",
      "        copies\n",
      "    \n",
      "    Python's deep copy operation avoids these problems by:\n",
      "    \n",
      "     a) keeping a table of objects already copied during the current\n",
      "        copying pass\n",
      "    \n",
      "     b) letting user-defined classes override the copying operation or the\n",
      "        set of components copied\n",
      "    \n",
      "    This version does not copy types like module, class, function, method,\n",
      "    nor stack trace, stack frame, nor file, socket, window, nor array, nor\n",
      "    any similar types.\n",
      "    \n",
      "    Classes can use the same interfaces to control copying that they use\n",
      "    to control pickling: they can define methods called __getinitargs__(),\n",
      "    __getstate__() and __setstate__().  See the documentation for module\n",
      "    \"pickle\" for information on these methods.\n",
      "\n",
      "CLASSES\n",
      "    builtins.Exception(builtins.BaseException)\n",
      "        Error\n",
      "    \n",
      "    class Error(builtins.Exception)\n",
      "     |  Method resolution order:\n",
      "     |      Error\n",
      "     |      builtins.Exception\n",
      "     |      builtins.BaseException\n",
      "     |      builtins.object\n",
      "     |  \n",
      "     |  Data descriptors defined here:\n",
      "     |  \n",
      "     |  __weakref__\n",
      "     |      list of weak references to the object (if defined)\n",
      "     |  \n",
      "     |  ----------------------------------------------------------------------\n",
      "     |  Methods inherited from builtins.Exception:\n",
      "     |  \n",
      "     |  __init__(self, /, *args, **kwargs)\n",
      "     |      Initialize self.  See help(type(self)) for accurate signature.\n",
      "     |  \n",
      "     |  ----------------------------------------------------------------------\n",
      "     |  Static methods inherited from builtins.Exception:\n",
      "     |  \n",
      "     |  __new__(*args, **kwargs) from builtins.type\n",
      "     |      Create and return a new object.  See help(type) for accurate signature.\n",
      "     |  \n",
      "     |  ----------------------------------------------------------------------\n",
      "     |  Methods inherited from builtins.BaseException:\n",
      "     |  \n",
      "     |  __delattr__(self, name, /)\n",
      "     |      Implement delattr(self, name).\n",
      "     |  \n",
      "     |  __getattribute__(self, name, /)\n",
      "     |      Return getattr(self, name).\n",
      "     |  \n",
      "     |  __reduce__(...)\n",
      "     |      Helper for pickle.\n",
      "     |  \n",
      "     |  __repr__(self, /)\n",
      "     |      Return repr(self).\n",
      "     |  \n",
      "     |  __setattr__(self, name, value, /)\n",
      "     |      Implement setattr(self, name, value).\n",
      "     |  \n",
      "     |  __setstate__(...)\n",
      "     |  \n",
      "     |  __str__(self, /)\n",
      "     |      Return str(self).\n",
      "     |  \n",
      "     |  with_traceback(...)\n",
      "     |      Exception.with_traceback(tb) --\n",
      "     |      set self.__traceback__ to tb and return self.\n",
      "     |  \n",
      "     |  ----------------------------------------------------------------------\n",
      "     |  Data descriptors inherited from builtins.BaseException:\n",
      "     |  \n",
      "     |  __cause__\n",
      "     |      exception cause\n",
      "     |  \n",
      "     |  __context__\n",
      "     |      exception context\n",
      "     |  \n",
      "     |  __dict__\n",
      "     |  \n",
      "     |  __suppress_context__\n",
      "     |  \n",
      "     |  __traceback__\n",
      "     |  \n",
      "     |  args\n",
      "\n",
      "FUNCTIONS\n",
      "    copy(x)\n",
      "        Shallow copy operation on arbitrary Python objects.\n",
      "        \n",
      "        See the module's __doc__ string for more info.\n",
      "    \n",
      "    deepcopy(x, memo=None, _nil=[])\n",
      "        Deep copy operation on arbitrary Python objects.\n",
      "        \n",
      "        See the module's __doc__ string for more info.\n",
      "\n",
      "DATA\n",
      "    __all__ = ['Error', 'copy', 'deepcopy']\n",
      "\n",
      "FILE\n",
      "    /Library/Frameworks/Python.framework/Versions/3.9/lib/python3.9/copy.py\n",
      "\n",
      "\n"
     ]
    }
   ],
   "source": [
    "import copy\n",
    "help(copy)"
   ]
  },
  {
   "cell_type": "markdown",
   "id": "30bd0768-bdd3-491b-a393-b1b370ca1a83",
   "metadata": {},
   "source": [
    "La solution de Karatsuba est récursive. \n",
    "On commence avec une récursion presque maximale, c-a-d. un arrêt de la récursion de Karastuba lorsqu'un des deux opérandes a 2 chiffres ou moins. \n",
    "Dans ce cas, on termine avec la multiplication des `int` de Python.\n",
    "\n",
    "**Conseils.**\n",
    "- Attention aux éventuels résultats intermédiaires nuls et leur double codage dans notre représentation des \"grands entiers\".\n",
    "- Attention aux éventuels \"zéros\" inutiles qui peuvent apparaître dans les résultats.\n",
    "\n",
    "Vous coderez 2 versions de cette multiplication. \n",
    "- `multK()` où les opérandes sont dupliquées avec des `.copy()`\n",
    "- `multK0()` où les opérandes sont manipulés directement avec des tranches (_slices_) de liste Python."
   ]
  },
  {
   "cell_type": "markdown",
   "id": "078ff821-bd86-433b-ac79-19cf3ea62400",
   "metadata": {},
   "source": [
    "#### `multK()` : récursion maximale et recopie"
   ]
  },
  {
   "cell_type": "code",
   "execution_count": 41,
   "id": "e8c04cd2-d3ec-478a-a5c4-c5fe9bca2a0c",
   "metadata": {},
   "outputs": [],
   "source": [
    "def multK(u: list[int], v: list[int]) -> list[int]:\n",
    "    pass"
   ]
  },
  {
   "cell_type": "code",
   "execution_count": 42,
   "id": "93caa549-e2b9-44fd-b9a4-db28cc645128",
   "metadata": {},
   "outputs": [],
   "source": [
    "#assert multK([1], [5,6,7]) == inttointlist(567)\n",
    "#assert multK([5,6,7], [1]) == inttointlist(567)\n",
    "#assert multK([1,2], [1,1]) == inttointlist(12 * 11)\n",
    "#assert multK([1,2,3], [1,1]) == inttointlist(123 * 11)\n",
    "#assert multK([1,2,3], [4,5,6]) == inttointlist(123 * 456)\n",
    "#assert multK([1,2,3,4,5,6,7,8], [4,5,6]) == inttointlist(12345678 * 456)"
   ]
  },
  {
   "cell_type": "markdown",
   "id": "9b0987a5-30f0-47f8-a948-c004b1ce166e",
   "metadata": {},
   "source": [
    "#### `multK0()`: une seconde récursion maximale en place"
   ]
  },
  {
   "cell_type": "code",
   "execution_count": 43,
   "id": "d45c8cfc-c440-4110-af20-58caf1256ae1",
   "metadata": {
    "tags": []
   },
   "outputs": [
    {
     "name": "stdout",
     "output_type": "stream",
     "text": [
      "[3, 1, 6, 8]\n",
      "[5, 6, 0, 8, 8]\n"
     ]
    }
   ],
   "source": [
    "def multK0(u: list[int], v: list[int]) -> list[int]:\n",
    "    if len(u)< len(v):\n",
    "        u,v = v,u\n",
    "    elif v==[]:\n",
    "        return []\n",
    "    elif len(v) == 1:\n",
    "        return multchiffre(u, v[0])\n",
    "    elif len(u) == 2:\n",
    "        a = intlisttoint(u)\n",
    "        b = intlisttoint(v)\n",
    "        return inttointlist(multK_int(a,b))\n",
    "    s = len(u)//2\n",
    "    u1= u[:s]\n",
    "    u2= u[s:]\n",
    "    v1= v[:s]\n",
    "    v2= v[s:]\n",
    "    u1v1 = multK0(u1,v1)\n",
    "    u2v2 = multK0(u2,v2)\n",
    "    c = multK0(add(u1,u2),add(v1,v2))\n",
    "    c = add(c,neg(u1v1))\n",
    "    c = add (c, neg(u2v2))\n",
    "    res = u1v1\n",
    "    res = add(u2v2 , decaler(res,2*s))\n",
    "    res = add(res , decaler(c,s))\n",
    "    return res\n",
    "    \n",
    "print(multK0([1,2,3], [4,5,6]))\n",
    "print(inttointlist(123*456))"
   ]
  },
  {
   "cell_type": "code",
   "execution_count": 44,
   "id": "d99889ba-dfdd-4a8a-b5a1-befaf0b0a31a",
   "metadata": {
    "tags": []
   },
   "outputs": [
    {
     "ename": "AssertionError",
     "evalue": "",
     "output_type": "error",
     "traceback": [
      "\u001b[0;31m---------------------------------------------------------------------------\u001b[0m",
      "\u001b[0;31mAssertionError\u001b[0m                            Traceback (most recent call last)",
      "\u001b[0;32m/var/folders/32/9hkmzrf11t38ckpktjnyfsfc0000gn/T/ipykernel_19423/1971142294.py\u001b[0m in \u001b[0;36m<cell line: 1>\u001b[0;34m()\u001b[0m\n\u001b[0;32m----> 1\u001b[0;31m \u001b[0;32massert\u001b[0m \u001b[0mmultK0\u001b[0m\u001b[0;34m(\u001b[0m\u001b[0;34m[\u001b[0m\u001b[0;36m1\u001b[0m\u001b[0;34m]\u001b[0m\u001b[0;34m,\u001b[0m \u001b[0;34m[\u001b[0m\u001b[0;36m5\u001b[0m\u001b[0;34m,\u001b[0m\u001b[0;36m6\u001b[0m\u001b[0;34m,\u001b[0m\u001b[0;36m7\u001b[0m\u001b[0;34m]\u001b[0m\u001b[0;34m)\u001b[0m \u001b[0;34m==\u001b[0m \u001b[0minttointlist\u001b[0m\u001b[0;34m(\u001b[0m\u001b[0;36m567\u001b[0m\u001b[0;34m)\u001b[0m\u001b[0;34m\u001b[0m\u001b[0;34m\u001b[0m\u001b[0m\n\u001b[0m\u001b[1;32m      2\u001b[0m \u001b[0;32massert\u001b[0m \u001b[0mmultK0\u001b[0m\u001b[0;34m(\u001b[0m\u001b[0;34m[\u001b[0m\u001b[0;36m5\u001b[0m\u001b[0;34m,\u001b[0m\u001b[0;36m6\u001b[0m\u001b[0;34m,\u001b[0m\u001b[0;36m7\u001b[0m\u001b[0;34m]\u001b[0m\u001b[0;34m,\u001b[0m \u001b[0;34m[\u001b[0m\u001b[0;36m1\u001b[0m\u001b[0;34m]\u001b[0m\u001b[0;34m)\u001b[0m \u001b[0;34m==\u001b[0m \u001b[0minttointlist\u001b[0m\u001b[0;34m(\u001b[0m\u001b[0;36m567\u001b[0m\u001b[0;34m)\u001b[0m\u001b[0;34m\u001b[0m\u001b[0;34m\u001b[0m\u001b[0m\n\u001b[1;32m      3\u001b[0m \u001b[0;32massert\u001b[0m \u001b[0mmultK0\u001b[0m\u001b[0;34m(\u001b[0m\u001b[0;34m[\u001b[0m\u001b[0;36m1\u001b[0m\u001b[0;34m,\u001b[0m\u001b[0;36m2\u001b[0m\u001b[0;34m]\u001b[0m\u001b[0;34m,\u001b[0m \u001b[0;34m[\u001b[0m\u001b[0;36m1\u001b[0m\u001b[0;34m,\u001b[0m\u001b[0;36m1\u001b[0m\u001b[0;34m]\u001b[0m\u001b[0;34m)\u001b[0m \u001b[0;34m==\u001b[0m \u001b[0minttointlist\u001b[0m\u001b[0;34m(\u001b[0m\u001b[0;36m12\u001b[0m \u001b[0;34m*\u001b[0m \u001b[0;36m11\u001b[0m\u001b[0;34m)\u001b[0m\u001b[0;34m\u001b[0m\u001b[0;34m\u001b[0m\u001b[0m\n\u001b[1;32m      4\u001b[0m \u001b[0;32massert\u001b[0m \u001b[0mmultK0\u001b[0m\u001b[0;34m(\u001b[0m\u001b[0;34m[\u001b[0m\u001b[0;36m1\u001b[0m\u001b[0;34m,\u001b[0m\u001b[0;36m2\u001b[0m\u001b[0;34m,\u001b[0m\u001b[0;36m3\u001b[0m\u001b[0;34m]\u001b[0m\u001b[0;34m,\u001b[0m \u001b[0;34m[\u001b[0m\u001b[0;36m1\u001b[0m\u001b[0;34m,\u001b[0m\u001b[0;36m1\u001b[0m\u001b[0;34m]\u001b[0m\u001b[0;34m)\u001b[0m \u001b[0;34m==\u001b[0m \u001b[0minttointlist\u001b[0m\u001b[0;34m(\u001b[0m\u001b[0;36m123\u001b[0m \u001b[0;34m*\u001b[0m \u001b[0;36m11\u001b[0m\u001b[0;34m)\u001b[0m\u001b[0;34m\u001b[0m\u001b[0;34m\u001b[0m\u001b[0m\n\u001b[1;32m      5\u001b[0m \u001b[0;32massert\u001b[0m \u001b[0mmultK0\u001b[0m\u001b[0;34m(\u001b[0m\u001b[0;34m[\u001b[0m\u001b[0;36m1\u001b[0m\u001b[0;34m,\u001b[0m\u001b[0;36m2\u001b[0m\u001b[0;34m,\u001b[0m\u001b[0;36m3\u001b[0m\u001b[0;34m]\u001b[0m\u001b[0;34m,\u001b[0m \u001b[0;34m[\u001b[0m\u001b[0;36m4\u001b[0m\u001b[0;34m,\u001b[0m\u001b[0;36m5\u001b[0m\u001b[0;34m,\u001b[0m\u001b[0;36m6\u001b[0m\u001b[0;34m]\u001b[0m\u001b[0;34m)\u001b[0m \u001b[0;34m==\u001b[0m \u001b[0minttointlist\u001b[0m\u001b[0;34m(\u001b[0m\u001b[0;36m123\u001b[0m \u001b[0;34m*\u001b[0m \u001b[0;36m456\u001b[0m\u001b[0;34m)\u001b[0m\u001b[0;34m\u001b[0m\u001b[0;34m\u001b[0m\u001b[0m\n",
      "\u001b[0;31mAssertionError\u001b[0m: "
     ]
    }
   ],
   "source": [
    "assert multK0([1], [5,6,7]) == inttointlist(567)\n",
    "assert multK0([5,6,7], [1]) == inttointlist(567)\n",
    "assert multK0([1,2], [1,1]) == inttointlist(12 * 11)\n",
    "assert multK0([1,2,3], [1,1]) == inttointlist(123 * 11)\n",
    "assert multK0([1,2,3], [4,5,6]) == inttointlist(123 * 456)\n",
    "assert multK0([1,2,3,4,5,6,7,8], [4,5,6]) == inttointlist(12345678 * 456)"
   ]
  },
  {
   "cell_type": "markdown",
   "id": "a809b828-3c81-4b08-b2c1-d522b1bf693b",
   "metadata": {
    "tags": []
   },
   "source": [
    "## Timings et tracés\n",
    "\n",
    "\n",
    "- Evaluer l'efficacité de ces multiplications, de façon similaire aux mesures effectuées plus haut avec `mult()`.\n",
    "    - Cette fois-ci, le cas 3 (milliers de décimales) sera traité.\n",
    "    - **Préalablement**, on pourra aussi parcourir ce troisième ensemble en se limitant aux nombre de décimales qui sont des puissance de 2. Vous justifierez pourquoi ce choix est proposé.\n",
    "    - Si les temps de résolution restent raisonnables sur votre machine, vous pouvez reprendre le cas 3 sans cette contrainte.\n",
    "- Tracer ces mesures de façon pertinente\n",
    "    - Vous pouvez sauvegarder vos courbes dans des fichiers (`.png` par exemple)."
   ]
  },
  {
   "cell_type": "markdown",
   "id": "93e98ae4-f490-407a-b071-82bfd71a9959",
   "metadata": {
    "tags": []
   },
   "source": [
    "### Complexité théorique de Karastuba\n",
    "\n",
    "Avant toutes choses, écrire une fonction qui calcule la complexité théorique de cette solution. \n",
    "Le tracé de cette fonction accompagnera les tracés des mesures qui suivent."
   ]
  },
  {
   "cell_type": "code",
   "execution_count": null,
   "id": "cdc02194-9b68-4cd0-a9e5-993e6cd2d858",
   "metadata": {},
   "outputs": [],
   "source": [
    "def comp_theo_Karatsuba(n):\n",
    "    pass"
   ]
  },
  {
   "cell_type": "markdown",
   "id": "6092b822-d267-4e32-bba6-00505933770b",
   "metadata": {
    "tags": []
   },
   "source": [
    "### Plusieurs dizaines de décimales"
   ]
  },
  {
   "cell_type": "code",
   "execution_count": null,
   "id": "2538b807-a1d7-477f-90e5-1131ffb937eb",
   "metadata": {
    "tags": []
   },
   "outputs": [],
   "source": [
    "# Timings\n",
    "pass"
   ]
  },
  {
   "cell_type": "code",
   "execution_count": null,
   "id": "ed6a4e67-95b6-4bcb-badd-22c2e1a19d77",
   "metadata": {},
   "outputs": [],
   "source": [
    "# Tracés\n",
    "pass"
   ]
  },
  {
   "cell_type": "markdown",
   "id": "d13bd6b2-f727-4144-a08e-f4bf4c2f98c2",
   "metadata": {},
   "source": [
    "### Plusieurs centaines de décimales"
   ]
  },
  {
   "cell_type": "code",
   "execution_count": null,
   "id": "e646df70-10a8-4fc4-a678-1a135030213e",
   "metadata": {},
   "outputs": [],
   "source": [
    "# Timings\n",
    "pass"
   ]
  },
  {
   "cell_type": "code",
   "execution_count": null,
   "id": "1a76035e-7312-43b6-95b8-28d24ce96fd7",
   "metadata": {
    "tags": []
   },
   "outputs": [],
   "source": [
    "# Tracés\n",
    "pass"
   ]
  },
  {
   "cell_type": "markdown",
   "id": "f65a4a62-5326-4ebf-98fa-f615fef248a0",
   "metadata": {
    "tags": []
   },
   "source": [
    "### Des milliers de décimales puissances de 2"
   ]
  },
  {
   "cell_type": "code",
   "execution_count": null,
   "id": "cae032a9-06e7-415c-b6da-d247e2cca81c",
   "metadata": {},
   "outputs": [],
   "source": [
    "# Timings\n",
    "pass"
   ]
  },
  {
   "cell_type": "code",
   "execution_count": null,
   "id": "e41ef748-754a-449d-890f-cb9c4adb43d8",
   "metadata": {
    "tags": []
   },
   "outputs": [],
   "source": [
    "# Tracés\n",
    "pass"
   ]
  },
  {
   "cell_type": "markdown",
   "id": "8da8cbed-986a-47b2-bc2c-b35be12ace9d",
   "metadata": {},
   "source": [
    "## Conclusion intermédiaire\n",
    "\n",
    "Que conclure ?"
   ]
  },
  {
   "cell_type": "markdown",
   "id": "ecec99f2-006b-4c86-8c6c-75dfc0949e93",
   "metadata": {},
   "source": [
    "## Avec GMP\n",
    "\n",
    "[`gmpy2`](https://gmpy2.readthedocs.io/en/latest/index.html) permet de travailler avec [GMP](http://gmp.org) et de manipuler des entiers arbitrairement longs de type `mpz`."
   ]
  },
  {
   "cell_type": "markdown",
   "id": "29df5f0f-42f2-428c-901e-ac94e51e5acc",
   "metadata": {},
   "source": [
    "### `gmpy2.mul()`\n",
    "\n",
    "On peut raisonnablement supposer qu'un Karatsuba (bien optimisé) est derrière `gmpy2.mul()`, la multiplication de `gmpy2`.\n",
    "Regardons-ça ...\n",
    "\n",
    "On se fait la main avec quelques utilisations de cette fonction et les vérifications qui conviennent."
   ]
  },
  {
   "cell_type": "code",
   "execution_count": null,
   "id": "2fbe5b67-36e7-4773-b45c-68a1ea590547",
   "metadata": {},
   "outputs": [],
   "source": [
    "pass"
   ]
  },
  {
   "cell_type": "markdown",
   "id": "30782ae5-c744-44ef-a639-ee6f873ef16c",
   "metadata": {},
   "source": [
    "### Timings\n",
    "\n",
    "On mesure son efficacité."
   ]
  },
  {
   "cell_type": "code",
   "execution_count": null,
   "id": "fb32dc13-7649-4966-bec0-34807f8f5bcc",
   "metadata": {},
   "outputs": [],
   "source": [
    "pass"
   ]
  },
  {
   "cell_type": "markdown",
   "id": "a4a0b4c4-85e3-4f63-9227-12118dc36b94",
   "metadata": {},
   "source": [
    "### Tracés\n",
    "\n",
    "On traces ces résultats."
   ]
  },
  {
   "cell_type": "code",
   "execution_count": null,
   "id": "c34dc04c-b2d9-424e-9ca6-ee66ed08286b",
   "metadata": {},
   "outputs": [],
   "source": [
    "pass"
   ]
  },
  {
   "cell_type": "markdown",
   "id": "e8d6c5b2-cd39-480a-ab21-90cb6b522266",
   "metadata": {},
   "source": [
    "### Observations et conclusion\n"
   ]
  },
  {
   "cell_type": "code",
   "execution_count": null,
   "id": "188135e2-30fc-46de-b159-23f4eb2d07c8",
   "metadata": {},
   "outputs": [],
   "source": []
  },
  {
   "cell_type": "markdown",
   "id": "281d287f-9e48-44d8-a631-46bffb2f5848",
   "metadata": {
    "tags": []
   },
   "source": [
    "## Améliorons notre solution\n",
    "\n",
    "Il y a 2 pistes à explorer (au moins) pour tenter d'améliorer l'efficacité de notre solution -- sans espérer toutefois rivaliser avec `gmpy2.mul()`.\n",
    "\n",
    "1. Déterminer (expérimentalement) un seuil d'efficacité de la récursion de Karatsuba et l'exploiter pour une version plus efficace de ce produit. \n",
    "    - Ce seuil dépend de notre représentation des \"grands entiers\" et de notre environnement de calcul.\n",
    "2. Modifier la représentation actuelle des \"grands entiers\" et les traitements associés.\n",
    "    - Cette modification peut être motivée par des contraintes de langage ou par des aspects algorithmiques.\n",
    "    Nous détaillerons le premier cas le moment venu. Le second cas (choix d'une base de représentation adaptée au format `int` de l'environnement d'exécution) ne sera pas traité dans cette étude. "
   ]
  },
  {
   "cell_type": "markdown",
   "id": "5531909a-19c1-460c-9091-d1fbb825cd84",
   "metadata": {},
   "source": [
    "### Intégrer le seuil d'efficacité de Karatsuba"
   ]
  },
  {
   "cell_type": "markdown",
   "id": "eb154a51-3264-4a80-ba76-9d50a40bc846",
   "metadata": {},
   "source": [
    "Les mesures précédentes permettent d'identifier ce seuil. \n",
    "Ecrire une nouvelle version `multKopt` de la multiplication de Karastuba avec seuil.\n",
    "Effectuer rapidement (avec les tracés adaptés)  une analyse expérimentale de son efficacité.\n"
   ]
  },
  {
   "cell_type": "code",
   "execution_count": null,
   "id": "ecb27f7a-6b4d-4584-86a6-301ce8ae6029",
   "metadata": {},
   "outputs": [],
   "source": [
    "def multKopt(u: list[int], v: list[int]) -> list[int]:\n",
    "    pass"
   ]
  },
  {
   "cell_type": "code",
   "execution_count": null,
   "id": "de7d622f-2b04-4f12-960d-c106639cd284",
   "metadata": {},
   "outputs": [],
   "source": [
    "pass"
   ]
  },
  {
   "cell_type": "markdown",
   "id": "1278a7c4-f392-4501-98b4-f62596c36499",
   "metadata": {
    "tags": []
   },
   "source": [
    "### Une première autre représentation de grands entiers positifs\n",
    "\n",
    "\n",
    "On va inverser la représentation précédente : un entier positif est maintenant représenté par la liste de ces chiffres (en base 10) stockés dans une liste par ordre **décroissant de son exposant** en notation de position.\n",
    "\n",
    "Maintenant le chiffre de plus faible exposant est **en début de la liste** qui stocke ses chiffres.\n",
    "\n",
    "Ainsi $123 = 1 + 2 \\times 10 + 3 \\times 10^2$  sera représenté par la liste `[3, 2, 1]`. \n",
    "\n",
    "On espère que les manipulations de liste qui impactent les chiffres les plus à droite seront moins pénalisantes que si elles étaient effectuées en début de liste."
   ]
  },
  {
   "cell_type": "markdown",
   "id": "86481dda-7bb7-47f5-aaad-21859874eb80",
   "metadata": {
    "tags": []
   },
   "source": [
    "- On va reprendre les traitements précédents pour les adapter cette nouvelle représentation.\n",
    "- On se limitera aux fonctions uniquement nécessaires à la multiplication de Karatsuba. \n",
    "- Ne pas hésiter à recopier les cellules précédentes et effectuer les modifications pour cette nouvelle représentation de ces différentes fonctions."
   ]
  },
  {
   "cell_type": "markdown",
   "id": "d13e474f-e240-425a-809f-1e93207de66d",
   "metadata": {},
   "source": [
    "### Les nouvelles versions \n",
    "\n",
    "Lister et coder les fonctions nécessaires à la multiplication de Karatsuba.\n",
    "\n",
    "**Notation :** les identifiants de ces fonctions pour la nouvelle représentation seront les précédents suffixées par `2`, _eg._ `inttointlist2()`, ....\n"
   ]
  },
  {
   "cell_type": "code",
   "execution_count": null,
   "id": "10efe02c-2c27-49ac-bf22-c3a791354b1e",
   "metadata": {},
   "outputs": [],
   "source": [
    "pass"
   ]
  },
  {
   "cell_type": "markdown",
   "id": "147277a5-b72f-4833-9364-e9624bdaa17c",
   "metadata": {},
   "source": [
    "### `multK2` : algorithme de Karatsuba, autre version\n",
    "\n",
    "On peut maintenant écrire cette nouvelle version."
   ]
  },
  {
   "cell_type": "code",
   "execution_count": null,
   "id": "bf0bd973-fe0c-4112-b1e4-aae038a96990",
   "metadata": {},
   "outputs": [],
   "source": [
    "def multK2(u: list[int], v: list[int]) -> list[int]:\n",
    "    pass"
   ]
  },
  {
   "cell_type": "code",
   "execution_count": null,
   "id": "cf49406e-13e5-49a5-854e-cae421564650",
   "metadata": {},
   "outputs": [],
   "source": [
    "assert multK2([1], [5,6,7]) == inttointlist2(765)\n",
    "assert multK2([5,6,7], [1]) == inttointlist2(765)\n",
    "assert multK2([2,2], [1,1]) == inttointlist2(22 * 11)\n",
    "assert multK2([6,6,6], [1,1]) == inttointlist2(666 * 11)\n",
    "assert multK2([1,2,3], [4,5,6]) == inttointlist2(321 * 654)\n",
    "assert multK2([1,2,3,4,5,6,7,8], [4,5,6]) == inttointlist2(87654321 * 654)"
   ]
  },
  {
   "cell_type": "markdown",
   "id": "c5485a8b-0cd0-41fb-8635-4f27204d3c32",
   "metadata": {
    "tags": []
   },
   "source": [
    "### Timings et tracés\n",
    "\n",
    "On effectue les mesures d'efficacité de cette nouvelle version et les tracés correspondants comme précédemment."
   ]
  },
  {
   "cell_type": "markdown",
   "id": "022a9c1d-2553-4193-ba9a-1c76367e667f",
   "metadata": {
    "tags": []
   },
   "source": [
    "#### Plusieurs centaines de décimales  "
   ]
  },
  {
   "cell_type": "code",
   "execution_count": null,
   "id": "00836efb-6668-4386-845e-3d8d80d6a6bf",
   "metadata": {
    "tags": []
   },
   "outputs": [],
   "source": [
    "# Timings et tracés\n",
    "pass"
   ]
  },
  {
   "cell_type": "markdown",
   "id": "37009b24-a094-4e14-9498-11991fe61144",
   "metadata": {
    "tags": []
   },
   "source": [
    "#### Plusieurs milliers de décimales puissances de 2"
   ]
  },
  {
   "cell_type": "code",
   "execution_count": null,
   "id": "9c663838-6729-4c8d-8e84-b5412f82879e",
   "metadata": {},
   "outputs": [],
   "source": [
    "# Timings et tracés\n",
    "pass"
   ]
  },
  {
   "cell_type": "markdown",
   "id": "a0bf4d6e-9dc3-4416-b7a1-5a02e65bb64d",
   "metadata": {},
   "source": [
    "#### Prise en compte du seuil\n",
    "\n",
    "Si les mesures précédentes, le justifie proposer une dernière version `multK2opt()` qui exploite le seuil d'efficacité de la récursion de Karatsuba.\n"
   ]
  },
  {
   "cell_type": "code",
   "execution_count": null,
   "id": "9d412030-b943-4f77-a721-53b69eee467b",
   "metadata": {
    "tags": []
   },
   "outputs": [],
   "source": [
    "def multK2opt(u: list[int], v: list[int]) -> list[int]:\n",
    "    pass"
   ]
  },
  {
   "cell_type": "markdown",
   "id": "4fdaebfa-4165-4c85-b002-10bf76f12ddb",
   "metadata": {},
   "source": [
    "#### Un dernier tracé pour résumer cette partie"
   ]
  },
  {
   "cell_type": "code",
   "execution_count": null,
   "id": "71e30c55-7733-403b-945f-5034b2e99f3c",
   "metadata": {
    "tags": []
   },
   "outputs": [],
   "source": [
    "pass"
   ]
  },
  {
   "cell_type": "markdown",
   "id": "0744a804-f653-416c-89df-e0c7b222c92e",
   "metadata": {},
   "source": [
    "## Conclusion"
   ]
  },
  {
   "cell_type": "markdown",
   "id": "9984021a-1792-4465-8645-5ca3a469a1e3",
   "metadata": {},
   "source": []
  },
  {
   "cell_type": "code",
   "execution_count": null,
   "id": "8fa1e203-33ec-41ed-b296-be3f2e775766",
   "metadata": {},
   "outputs": [],
   "source": []
  }
 ],
 "metadata": {
  "kernelspec": {
   "display_name": "Python 3 (ipykernel)",
   "language": "python",
   "name": "python3"
  },
  "language_info": {
   "codemirror_mode": {
    "name": "ipython",
    "version": 3
   },
   "file_extension": ".py",
   "mimetype": "text/x-python",
   "name": "python",
   "nbconvert_exporter": "python",
   "pygments_lexer": "ipython3",
   "version": "3.9.6"
  }
 },
 "nbformat": 4,
 "nbformat_minor": 5
}
