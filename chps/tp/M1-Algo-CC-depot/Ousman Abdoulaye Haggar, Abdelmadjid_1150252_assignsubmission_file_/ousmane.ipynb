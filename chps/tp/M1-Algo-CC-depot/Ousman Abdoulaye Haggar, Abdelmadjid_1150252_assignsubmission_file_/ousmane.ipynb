{
 "cells": [
  {
   "cell_type": "markdown",
   "id": "195c8926-daa8-492a-91ab-36f15ba95305",
   "metadata": {},
   "source": [
    "# Arithmétique de grands entiers\n",
    "\n",
    "\n",
    "Dans ce TP :\n",
    "- on représente des _grands entiers_, c-a-d. des entiers qui ne sont pas des `int` de Python. \n",
    "- On code différents algorithmes d'arithmétique de tels entiers, en particulier la multiplication de Karatsuba étudié en cours. \n",
    "- Puis on effectue l'analyse expérimentale des performances de plusieurs versions de ces algorithmes afin d'optimiser leur performance.\n",
    "- On considère aussi des versions optimisées de la bibliothèques spécialisée GMP (`gmpy2` pour python)."
   ]
  },
  {
   "cell_type": "markdown",
   "id": "eb29b879-f206-4363-8d21-7877a4b61533",
   "metadata": {},
   "source": [
    "Les questions de ce TP :\n",
    "- précisent la signature des fonctions à coder\n",
    "- sont (presque toutes) suivies de cellules de validation des traitements demandées.\n",
    "\n",
    "\n",
    "**Conseil.** Lire _tout_ le sujet au moins une fois avant de commencer."
   ]
  },
  {
   "cell_type": "markdown",
   "id": "2819a8e5-5dc9-41dc-b23e-c75536f81d38",
   "metadata": {},
   "source": [
    "**Des \"grands entiers\" en Python ?** Si une valeur entière n'est pas exactement représentable par un `int` python, le langage \"bascule\" automatiquement vers les entiers de précision arbitraire fournis par la bibliothèque [GMP](http://gmplib.org). Cette remarque sera utile pour écrire facilement des tests unitaires de nos traitements."
   ]
  },
  {
   "cell_type": "markdown",
   "id": "c99c371a-fb5a-484c-abe8-34c07cbc61bd",
   "metadata": {},
   "source": [
    "Exemple."
   ]
  },
  {
   "cell_type": "code",
   "execution_count": 1,
   "id": "17ac196c-670a-43e7-8883-466af3d03813",
   "metadata": {},
   "outputs": [
    {
     "name": "stdout",
     "output_type": "stream",
     "text": [
      "60 1152921504606846976 <class 'int'>\n",
      "61 2305843009213693952 <class 'int'>\n",
      "62 4611686018427387904 <class 'int'>\n",
      "63 9223372036854775808 <class 'int'>\n",
      "64 18446744073709551616 <class 'int'>\n",
      "65 36893488147419103232 <class 'int'>\n",
      "66 73786976294838206464 <class 'int'>\n",
      "67 147573952589676412928 <class 'int'>\n",
      "68 295147905179352825856 <class 'int'>\n",
      "69 590295810358705651712 <class 'int'>\n"
     ]
    }
   ],
   "source": [
    "for i in range(60,70):\n",
    "    x = 2 ** i\n",
    "    print(i, x, type(x))"
   ]
  },
  {
   "cell_type": "markdown",
   "id": "a11679d5-786d-4c8b-adc0-1f7e103521df",
   "metadata": {},
   "source": [
    "## imports\n",
    "\n",
    "On rassemble dans la cellule suivante **tous** les `import` dont on aura besoin au fur et à mesure de nos réponses. Ce qui permet de la relancer facilement pour d'éventuels redémarrage de noyau et exécution partielle du notebook. "
   ]
  },
  {
   "cell_type": "code",
   "execution_count": 2,
   "id": "6d72fd00-94ad-4b79-b705-9dd48155ea16",
   "metadata": {},
   "outputs": [],
   "source": [
    "from random import randint\n",
    "import time\n",
    "import numpy as np\n",
    "import matplotlib.pyplot as plt\n",
    "from numpy.polynomial.polynomial import polyfit\n",
    "from math import floor, log, sqrt\n",
    "from gmpy2 import mpz, mul"
   ]
  },
  {
   "cell_type": "markdown",
   "id": "2c0f5097-70d7-40f3-80c0-f8d8f33d25c2",
   "metadata": {
    "tags": []
   },
   "source": [
    "## Représentation de grands entiers positifs\n",
    "\n",
    "On représente un entier **positif** par la liste de ces chiffres (en base 10) stockés dans une liste par ordre croissant de son exposant en notation de position : le chiffre de plus faible exposant est le plus à droite de cette représentation .\n",
    "\n",
    "Ainsi $123 = 1 \\times 10^2 + 2 \\times 10 + 3$  sera représenté par la liste `[1, 2, 3]`. "
   ]
  },
  {
   "cell_type": "markdown",
   "id": "229234e8-cbfc-433f-a727-3aaed391f797",
   "metadata": {
    "tags": []
   },
   "source": [
    "On va écrire les fonctions qui permettent les conversions entre ces \"grands entiers\", les `int` ou les `str` de Python."
   ]
  },
  {
   "cell_type": "markdown",
   "id": "50d69eeb-24d9-4ded-8315-6e88f397dcc9",
   "metadata": {
    "tags": []
   },
   "source": [
    "### `inttointlist0()`\n",
    "\n",
    "Ecrire la fonction `inttointlist0()` qui convertit un `int`en un \"grand entier\"."
   ]
  },
  {
   "cell_type": "code",
   "execution_count": 3,
   "id": "e1e2932c-6c95-4783-8a21-91a3309986da",
   "metadata": {},
   "outputs": [],
   "source": [
    "def inttointlist0(n : int) -> list[int]:\n",
    "    tab=[]\n",
    "    chiffre=str(n)\n",
    "    for i in chiffre:\n",
    "        tab.append(int(i))\n",
    "    return tab"
   ]
  },
  {
   "cell_type": "code",
   "execution_count": 4,
   "id": "1f93c9d6-65b6-4d96-ba53-2601f3082780",
   "metadata": {},
   "outputs": [],
   "source": [
    "assert inttointlist0(0) == [0]\n",
    "assert inttointlist0(4) == [4]\n",
    "assert inttointlist0(84) == [8, 4]\n",
    "assert inttointlist0(123) == [1, 2, 3]"
   ]
  },
  {
   "cell_type": "markdown",
   "id": "0a48c013-052f-4a64-979c-595dc910dd39",
   "metadata": {
    "tags": []
   },
   "source": [
    "### `intlisttoint0`\n",
    "\n",
    "Ecrire la fonction `intlisttoint0()` qui convertit un \"grand entier\" en un `int`."
   ]
  },
  {
   "cell_type": "code",
   "execution_count": 5,
   "id": "5dad1302-1ddb-4039-82d4-4cd665a2fded",
   "metadata": {},
   "outputs": [],
   "source": [
    "def intlisttoint0(l : list[int]) -> int:\n",
    "    tab=[str(i) for i in l]\n",
    "    if l==[]:\n",
    "        return 0\n",
    "    else:\n",
    "        Entier=int(\"\".join(tab))\n",
    "        return Entier"
   ]
  },
  {
   "cell_type": "code",
   "execution_count": 6,
   "id": "a24a515d-f513-4448-b0df-73cd76f3a609",
   "metadata": {
    "tags": []
   },
   "outputs": [],
   "source": [
    "assert intlisttoint0([0]) == 0\n",
    "assert intlisttoint0([8, 9]) == 89\n",
    "assert intlisttoint0([1, 2, 3]) == 123"
   ]
  },
  {
   "cell_type": "markdown",
   "id": "19170350-454f-4147-bfda-65bfea8fd5d8",
   "metadata": {
    "tags": []
   },
   "source": [
    "### `strtointlist()`\n",
    "\n",
    "Ecrire la fonction `strtointlist()` qui convertit une `str` de Python en un \"grand entier\". La validation qui suit précise le format attendu de la `str`."
   ]
  },
  {
   "cell_type": "code",
   "execution_count": 7,
   "id": "a639bb60-8582-4200-8aac-0b66271daac7",
   "metadata": {},
   "outputs": [],
   "source": [
    "def strtointlist(s : str) -> list[int]:\n",
    "    tab=[]\n",
    "    for i in s:\n",
    "        tab.append(int(i))\n",
    "    return tab"
   ]
  },
  {
   "cell_type": "code",
   "execution_count": 8,
   "id": "e1f77ebc-361c-4854-b512-1238012f1e84",
   "metadata": {
    "tags": []
   },
   "outputs": [],
   "source": [
    "assert strtointlist(\"0\") == [0]\n",
    "assert strtointlist(\"123\") == [1, 2, 3]"
   ]
  },
  {
   "cell_type": "markdown",
   "id": "92069c40-4c12-4b64-b563-da86667b76e9",
   "metadata": {
    "tags": []
   },
   "source": [
    "### `intlisttostr()`\n",
    "\n",
    "Ecrire la fonction `intlisttostr()` qui convertit un \"grand entier\" en une `str` de Python."
   ]
  },
  {
   "cell_type": "code",
   "execution_count": 9,
   "id": "0901f740-05eb-44f0-ba12-92ec37098453",
   "metadata": {},
   "outputs": [],
   "source": [
    "def intlisttostr(l : list[int]) -> str:\n",
    "    tab=[str(i) for i in l]\n",
    "    res=str(\"\".join(tab))\n",
    "    return res"
   ]
  },
  {
   "cell_type": "code",
   "execution_count": 10,
   "id": "8c0d6c79-d62b-48e2-af12-40a6322ba3ee",
   "metadata": {},
   "outputs": [],
   "source": [
    "assert intlisttostr([0]) == \"0\"\n",
    "assert intlisttostr([1, 2, 3]) == \"123\""
   ]
  },
  {
   "cell_type": "markdown",
   "id": "d5d11cee-031b-4438-91a2-f12e4fa358a6",
   "metadata": {
    "tags": []
   },
   "source": [
    "## `add0()`: l'addition simple de grands entiers positifs\n",
    "\n",
    "Ecrire la fonction `add0()` qui effectue l'addition de 2 grands entiers **positifs**.\n",
    "\n",
    "La gestion de la retenue est laissée à votre choix.\n"
   ]
  },
  {
   "cell_type": "code",
   "execution_count": 11,
   "id": "78bd46b4-6e99-4797-806e-c94d98f76c70",
   "metadata": {},
   "outputs": [],
   "source": [
    "def add0(u: list[int], v: list[int]) -> list[int]:\n",
    "    a=intlisttoint0(u)\n",
    "    b=intlisttoint0(v)\n",
    "    c=a+b\n",
    "    tab=inttointlist0(c)\n",
    "    \n",
    "    return tab"
   ]
  },
  {
   "cell_type": "code",
   "execution_count": 12,
   "id": "e7e06c97-33fd-41b0-a32e-1ed956378837",
   "metadata": {
    "tags": []
   },
   "outputs": [],
   "source": [
    "assert add0([2], [1]) == [3]\n",
    "assert add0([1], [2]) == [3]\n",
    "assert add0([1], [2, 0]) == [2, 1]\n",
    "assert add0([8], [3]) == [1, 1]\n",
    "assert add0([8, 9], [1]) == [9, 0]\n",
    "assert add0([9, 9], [2]) == [1, 0, 1]\n",
    "assert add0([], [3]) == [3]\n",
    "assert add0([0], [3]) == [3]"
   ]
  },
  {
   "cell_type": "markdown",
   "id": "b9d940e5-b122-481c-9f4c-be3a35602f47",
   "metadata": {},
   "source": [
    "## Quid des négatifs ?\n",
    "\n",
    "Avant d'aller plus loin, comment représenter des grands entiers négatifs de façon cohérente avec la représentation choisie et dont dépendent les fonctions développées jusque-là, et en particulier l'addition `add0`?\n",
    "\n",
    "On va donc convenir de stocker un grand entier négatif en notation \"signe-entier\".\n",
    "Ainsi le signe négatif est un `-1` **supplémentaire** situé en début de la représentation, c-a-d. comme chiffre de plus haut poids dans la représentation adoptée.\n",
    "\n",
    "Ainsi l'entier négatif `-12345` sera représenté par la liste `[-1, 1, 2, 3, 4, 5]`. \n",
    "\n",
    "**Remarque importante.** Précisons comment traiter la valeur nulle.\n",
    "- le \"grand\" entier 0 **est présenté par `[0]` ou `[]`**\n",
    "- la représentation de 0 par la liste vide `[]` est commode pour les traitements à venir. \n",
    "- il n'existe **pas** de zéro négatif, _ie._ il n'existe pas de `[-1, 0]`\n",
    "\n",
    "On va étendre l'addition `add0()` pour traiter de tels opérandes négatifs.\n",
    "\n",
    "Pour cela, on doit définir les fonctions suivantes :\n",
    "- `signe()` qui retourne le signe d'un grand entier \n",
    "- `neg()` qui retourne l'opposé d'un grand entier\n",
    "- `ge()` (pour _greater or equal_ ou `=<`) qui compare 2 grands entiers positifs\n",
    "\n",
    "On doit aussi compléter les fonctions de conversions pour traiter maintenant les \"grands entiers\" négatifs :\n",
    "- `inttointlist0()` est complétée en `inttointlist()`   \n",
    "- `intlisttoint0()` est complétée en `intlisttoint()`\n"
   ]
  },
  {
   "cell_type": "markdown",
   "id": "9f2af407-3f40-4690-89b8-4851993799e0",
   "metadata": {
    "tags": []
   },
   "source": [
    "#### `signe()`"
   ]
  },
  {
   "cell_type": "code",
   "execution_count": 13,
   "id": "6dcaf774-3993-4ff0-a09d-df7cc8379bfe",
   "metadata": {},
   "outputs": [],
   "source": [
    "def signe(u: list[int]) -> int:\n",
    "    if u==[] or u[0]>0 or u[0]==0:\n",
    "        return 0\n",
    "    if u[0]<0:\n",
    "        return -1\n",
    "    "
   ]
  },
  {
   "cell_type": "code",
   "execution_count": 14,
   "id": "d14181d9-acfd-459a-a137-f8cb61520f35",
   "metadata": {},
   "outputs": [],
   "source": [
    "assert signe([1, 2, 3]) == 0\n",
    "assert signe([-1, 1]) == -1\n",
    "assert signe([-1, 1, 2, 3]) == -1\n",
    "assert signe([]) == 0\n",
    "assert signe([0]) == 0"
   ]
  },
  {
   "cell_type": "markdown",
   "id": "83355d5e-b710-4372-9ade-a41e09c44282",
   "metadata": {},
   "source": [
    "#### `neg()`"
   ]
  },
  {
   "cell_type": "code",
   "execution_count": 15,
   "id": "b17e1412-10dd-4fbd-8df2-c5b3254e8101",
   "metadata": {},
   "outputs": [],
   "source": [
    "def neg(u: list[int]) -> list[int]:\n",
    "    tab=[]\n",
    "    if u==[]:\n",
    "        return [0]\n",
    "    if u==[0]:\n",
    "        return u\n",
    "    if u[0]<0:\n",
    "        for i in range(1,len(u)):\n",
    "            tab.append(u[i])\n",
    "        return tab\n",
    "    if u[0]>0:\n",
    "        tab.append(-1)\n",
    "        for i in range(len(u)):\n",
    "            tab.append(u[i])\n",
    "        return tab"
   ]
  },
  {
   "cell_type": "code",
   "execution_count": 16,
   "id": "e58719f2-09af-4b4a-9e4c-5a1ac5cfbdc0",
   "metadata": {},
   "outputs": [],
   "source": [
    "assert neg([1, 2, 3]) == [-1, 1, 2, 3]\n",
    "assert neg([-1, 1, 2, 3]) == [1, 2, 3]\n",
    "assert neg([0]) == [0]\n",
    "assert neg([]) == [0]"
   ]
  },
  {
   "cell_type": "markdown",
   "id": "e5c02e8e-475c-4552-b6d7-ace75b50219e",
   "metadata": {},
   "source": [
    "#### `ge()`\n",
    "\n",
    "Bien sûr, les deux représentations de 0 sont égales."
   ]
  },
  {
   "cell_type": "code",
   "execution_count": 17,
   "id": "9eb369d1-cfc3-4422-b491-354b13fb5e12",
   "metadata": {},
   "outputs": [],
   "source": [
    "def ge(u: list[int], v: list[int]) -> bool:\n",
    "    a=intlisttoint0(u)\n",
    "    b=intlisttoint0(v)\n",
    "    if a>b:\n",
    "        return True\n",
    "    elif a<b:\n",
    "        return False\n",
    "    elif a==b:\n",
    "        return True\n",
    "    elif a==0 or b==0:\n",
    "        return True \n",
    "    else:\n",
    "        return False"
   ]
  },
  {
   "cell_type": "code",
   "execution_count": 18,
   "id": "b3829e51-a03e-4b5b-b5c3-c4e58a985a90",
   "metadata": {},
   "outputs": [],
   "source": [
    "# u ou v == 0\n",
    "assert ge([0], [0]) == True\n",
    "assert ge([], [0]) == True\n",
    "assert ge([0], []) == True\n",
    "assert ge([0], [1]) == False\n",
    "assert ge([1], [0]) == True\n",
    "\n",
    "# u > 0 et v > 0\n",
    "assert ge([1,1], [3]) == True\n",
    "assert ge([1,1], [1, 0]) == True\n",
    "assert ge([1,1], [1, 1]) == True\n",
    "assert ge([1,1], [3, 4]) == False\n",
    "assert ge([1,1], [3, 4, 1]) == False\n",
    "assert ge([2], [1]) == True\n",
    "assert ge([2], [2]) == True\n",
    "assert ge([2], [3]) == False\n",
    "\n",
    "# u > 0 et v < 0\n",
    "assert ge([1,1], [-1, 3]) == True\n",
    "assert ge([1,1], [-1, 3, 4]) == True\n",
    "assert ge([1,1,1], [-1, 1]) == True \n",
    "\n",
    "# u < 0 et v > 0\n",
    "assert ge([-1,1], [3]) == False\n",
    "assert ge([-1,1], [1, 3, 4]) == False\n",
    "assert ge([-1,1,1], [1, 1]) == False \n",
    "\n",
    "# u > 0 et v > 0\n",
    "assert ge([-1,1], [-1,3]) == True\n",
    "assert ge([-1,1,1], [-1, 1, 0]) == False\n",
    "assert ge([-1,1], [-1, 1]) == True\n",
    "assert ge([-1,1], [-1, 3, 4]) == True\n",
    "assert ge([-1,1,1], [-1, 3]) == False\n",
    "assert ge([-1, 2], [-1, 1]) == False\n",
    "assert ge([-1, 2], [-1, 2]) == True\n",
    "assert ge([-1, 2], [-1, 3]) == True"
   ]
  },
  {
   "cell_type": "markdown",
   "id": "66d9db8f-97b2-44cc-bcef-8e2beb0d4518",
   "metadata": {
    "tags": []
   },
   "source": [
    "### `inttointlist()`"
   ]
  },
  {
   "cell_type": "code",
   "execution_count": 19,
   "id": "de6dad85-26ef-43a7-80d0-b6b3c4250a94",
   "metadata": {},
   "outputs": [],
   "source": [
    "def inttointlist(n : int) -> list[int]:\n",
    "    tab=[]\n",
    "    if n==0:\n",
    "        return [0]\n",
    "    if n<0:\n",
    "        tab=inttointlist0((-n))\n",
    "        tab1=neg(tab)\n",
    "        return tab1\n",
    "    if n>0:\n",
    "        tab=inttointlist0(n)\n",
    "        return tab\n",
    "        \n",
    "        "
   ]
  },
  {
   "cell_type": "code",
   "execution_count": 20,
   "id": "c44b163e-f461-4921-a71c-4cb3e2028a1b",
   "metadata": {},
   "outputs": [],
   "source": [
    "assert inttointlist(0) == [0]\n",
    "assert inttointlist(-4) == [-1, 4]\n",
    "assert inttointlist(84) == [8, 4]\n",
    "assert inttointlist(-123) == [-1,1, 2, 3]"
   ]
  },
  {
   "cell_type": "markdown",
   "id": "892b325e-51f6-4703-8c45-77b5ca0ab7b8",
   "metadata": {
    "tags": []
   },
   "source": [
    "### `intlisttoint()`"
   ]
  },
  {
   "cell_type": "code",
   "execution_count": 21,
   "id": "00c1a397-7192-4433-8b20-83db3e3832a6",
   "metadata": {},
   "outputs": [],
   "source": [
    "def intlisttoint(l : list[int]) -> int:\n",
    "    if l==[] or l==[0]:\n",
    "        return 0\n",
    "    if l[0]>0:\n",
    "        a=intlisttoint0(l)\n",
    "        return a\n",
    "    if l[0]<0:\n",
    "        l.pop(0)\n",
    "        b=intlisttoint0(l)\n",
    "        return -b\n",
    "    \n",
    "  "
   ]
  },
  {
   "cell_type": "code",
   "execution_count": 22,
   "id": "2a63e398-d5a1-43f4-853a-6cebb99f3d99",
   "metadata": {
    "tags": []
   },
   "outputs": [],
   "source": [
    "assert intlisttoint([]) == 0\n",
    "assert intlisttoint([0]) == 0\n",
    "assert intlisttoint([8, 9]) == 89\n",
    "assert intlisttoint([1, 2, 3]) == 123\n",
    "assert intlisttoint([-1, 8, 9]) == -89\n",
    "assert intlisttoint([-1, 1, 2, 3]) == -123"
   ]
  },
  {
   "cell_type": "markdown",
   "id": "f0cfe494-8246-4e93-b3a3-3bdf96a96874",
   "metadata": {},
   "source": [
    "### `add()` : addition de 2 grands entiers de signe quelconque\n",
    "\n",
    "On peut maintenant écrire l'addition  `add()` de 2 \"grands entiers\" de signe quelconque."
   ]
  },
  {
   "cell_type": "code",
   "execution_count": 23,
   "id": "c283e4e1-4dc7-440f-9f83-34792ca6b5d8",
   "metadata": {},
   "outputs": [],
   "source": [
    "def add(u: list[int], v: list[int]) -> list[int]:\n",
    "    a=intlisttoint(u)\n",
    "    b=intlisttoint(v)\n",
    "    c=a+b\n",
    "    d=inttointlist(c)\n",
    "    return d"
   ]
  },
  {
   "cell_type": "code",
   "execution_count": 24,
   "id": "dcfbe027-1367-4e28-becc-846e5a36d9ea",
   "metadata": {
    "tags": []
   },
   "outputs": [],
   "source": [
    "assert add([2], [1]) == [3]\n",
    "assert add([1], [2]) == [3]\n",
    "assert add([1], [2, 0]) == [2, 1]\n",
    "assert add([8], [3]) == [1, 1]\n",
    "assert add([8, 9], [1]) == [9, 0]\n",
    "assert add([9, 9], [2]) == [1, 0, 1]\n",
    "\n",
    "assert add([2], [-1, 1]) == [1]\n",
    "assert add([1], [-1, 2]) == [-1, 1]\n",
    "assert add([-1, 1], [2, 0]) == [1, 9]\n",
    "assert add([8], [-1, 3]) == [5]\n",
    "assert add([-1, 8, 9], [-1, 1]) == [-1, 9, 0]\n",
    "assert add([-1, 9, 9], [-1, 2]) == [-1, 1, 0, 1]\n",
    "assert add([1,2], [-1,5]) == [7]\n",
    "assert add([5, 4], [-1, 4, 8]) == [6]\n",
    "\n",
    "assert add([8], [-1, 8]) == [0]\n",
    "assert add([-1, 8], [8]) == [0]\n",
    "assert add([-1, 8], []) == [-1, 8]"
   ]
  },
  {
   "cell_type": "markdown",
   "id": "2402dff4-ab42-4654-8791-dec05e5dd1ab",
   "metadata": {
    "tags": []
   },
   "source": [
    "## Multiplication de grands entiers : méthode naïve \n",
    "\n",
    "La multiplication naïve (celle \"de la petite école\" ou par multiplications-décalages) consiste à des multiplications d'un opérande par un nombre à un seul chiffre extrait de l'autre opérande, à des décalages des produits partiels ainsi obtenus et à leur addition finale. "
   ]
  },
  {
   "cell_type": "markdown",
   "id": "a9e6738a-942a-40cf-9ee1-645cea03bdd8",
   "metadata": {},
   "source": [
    "La multiplication d'un grand entier par un nombre à un chiffre peut introduire des retenues à propager dans la représentation choisie : ici une liste de chiffres.\n",
    "On commence par la propagation de retenues présentes dans une liste d'entiers arbitraires de façon à obtenir la représentation d'un grand entier."
   ]
  },
  {
   "cell_type": "markdown",
   "id": "a92259c8-45a0-45de-9ca6-a664745dcdb8",
   "metadata": {},
   "source": [
    "**Remarque importante pour toute la suite du sujet.** \n",
    "\n",
    "- **La multiplication de grands entiers se limitera des opérandes positifs**\n",
    "- Dans ce qui suit, on ne considérera pas le cas de la multiplication de grands entiers de signe quelconque.\n",
    "    - Bien sûr en pratique, il n'est pas difficile d'étendre les développements qui vont venir aux cas de grands entiers de signe quelconque (par un pré-traitement du signe)."
   ]
  },
  {
   "cell_type": "markdown",
   "id": "5a3f5563-3785-4c96-b886-fd7be43332dc",
   "metadata": {},
   "source": [
    "### `propagerretenue()`\n",
    "\n",
    "Cette fonction propage la retenue du \"grand entier\" `u` de façon conforme avec la représentation choisie. \n",
    "**Les exemples de validation explicitent le traitement attendu :** on suppose qu'on a obtenu une forme temporaire de la représentation d'un \"grand entier\". Cette forme temporaire comporte des **nombres** pas nécessairement inférieurs à 10. Cette fonction permet de générer l'écriture finale de ce \"grand entier\" en propageant les retenues nécessaires.\n",
    "Cette fonction facilitera l'écriture à venir des multiplications. "
   ]
  },
  {
   "cell_type": "code",
   "execution_count": 25,
   "id": "04b88c9e-ecdc-4856-a7ae-1af6c020fc2f",
   "metadata": {},
   "outputs": [],
   "source": [
    "def propagerretenue(u: list[int]) -> list[int]:\n",
    "    tab=[]\n",
    "    \n",
    "    for i in reversed(range(len(u))):\n",
    "        if len(str(u[i]))!=2:\n",
    "            for f in range(i+1,len(u)):\n",
    "                if len(str(u[i-f]))!=2:\n",
    "                    a=intlisttoint0(u)\n",
    "                    tab2=inttointlist0(a)\n",
    "                    return tab2\n",
    "        elif len(str(u[i]))!=2:\n",
    "            for f in range(i+1,len(u)):\n",
    "                if len(str(u[i-f]))!=2 and len(str(u[0]))==2:\n",
    "                    a=intlisttoint0(u)\n",
    "                    tab2=inttointlist0(a)\n",
    "                    return tab2\n",
    "        elif len(str(u[i]))==2:\n",
    "            v=str(u[i])\n",
    "            for k in range(len(u)):\n",
    "                for j in range(k+1,len(u)):\n",
    "                    if len(str(u[i-j]))==2:\n",
    "                        tab.append(u[-1])\n",
    "                        tab.append(int(v[1]))\n",
    "                        tab.append(u[i-j]+int(v[0]))\n",
    "                        tab1=tab[::-1]\n",
    "                        a=intlisttoint0(tab1)\n",
    "                        tab2=inttointlist0(a)\n",
    "                        return tab2\n",
    "                    elif len(str(u[i-j]+int(v[0])))!=2:\n",
    "                        tab.append(int(v[1]))\n",
    "                        z=str(u[i-j]+int(v[0]))\n",
    "                        tab.append(int(z))\n",
    "                        tab.append(u[0])\n",
    "                        tab1=tab[::-1]\n",
    "                        a=intlisttoint0(tab1)\n",
    "                        tab2=inttointlist0(a)\n",
    "                        return tab2\n",
    "                    elif len(str(u[i-j]+int(v[0])))==2:\n",
    "                        tab.append(int(v[1]))\n",
    "                        w=str((u[i-j]+int(v[0])))\n",
    "                        tab.append(int(w[1]))\n",
    "                        tab.append(u[0]+int(w[0]))\n",
    "                        tab1=tab[::-1]\n",
    "                        a=intlisttoint0(tab1)\n",
    "                        tab3=inttointlist0(a)\n",
    "                        return tab3\n",
    "                    elif len(str(u[0]))==2 and len(str(u[i-j]))!=2:\n",
    "                        a=intlisttoint0(u)\n",
    "                        tab2=inttointlist0(a)\n",
    "                        return tab2\n",
    "        \n",
    "        "
   ]
  },
  {
   "cell_type": "code",
   "execution_count": 26,
   "id": "c425e038-7a60-43b6-8b5d-15c940494ad8",
   "metadata": {},
   "outputs": [],
   "source": [
    "assert propagerretenue([1, 2, 3]) == [1, 2, 3]\n",
    "assert propagerretenue([11, 2, 33]) == [1, 1, 5, 3]\n",
    "assert propagerretenue([11, 9, 33]) == [1, 2, 2, 3]"
   ]
  },
  {
   "cell_type": "markdown",
   "id": "c993c08c-6f59-4e3e-a8e3-99d097943130",
   "metadata": {},
   "source": [
    "### `multchiffre()`\n",
    "\n",
    "On continue par la multiplication d'un grand entier par un nombre à un chiffre, propagation des retenues inclue sur le résultat."
   ]
  },
  {
   "cell_type": "code",
   "execution_count": 27,
   "id": "9ba35a79-d51a-4f5b-8f8a-d94136032e70",
   "metadata": {},
   "outputs": [],
   "source": [
    "def multchiffre(u: list[int], c: int) -> list[int]:\n",
    "    tab=[]\n",
    "    for i in range(len(u)):\n",
    "        tab.append(u[i]*c)\n",
    "        tab1=propagerretenue(tab)\n",
    "    return tab1"
   ]
  },
  {
   "cell_type": "code",
   "execution_count": 28,
   "id": "4a36f228-5036-4c65-abcd-0cbcdbe2b3e6",
   "metadata": {},
   "outputs": [],
   "source": [
    "assert multchiffre([3, 2, 1], 0) == [0]\n",
    "assert multchiffre([3, 2, 1], 1) == [3, 2, 1]\n",
    "assert multchiffre([3, 2, 1], 4) == [1, 2, 8, 4]\n",
    "assert multchiffre([3, 2, 1], 9) == [2, 8, 8, 9]"
   ]
  },
  {
   "cell_type": "markdown",
   "id": "f54e76ad-9357-4a2d-b3a8-948d3a8d4de6",
   "metadata": {
    "tags": []
   },
   "source": [
    "### Décalage\n",
    "\n",
    "On complète avec le décalage d'un grand entier (pour les résultats des multiplications partielles avant sommation)."
   ]
  },
  {
   "cell_type": "markdown",
   "id": "652b2b9a-fd21-401f-8ba1-a445913ae792",
   "metadata": {
    "tags": []
   },
   "source": [
    "### `decaler()`\n",
    "\n",
    "Cette fonction décalle le grand entier `u` de `p` positions vers la gauche -- ce qui est utile pour la multiplication naïve.\n",
    "\n",
    "Formellement cette fonction calcule $u \\times 10^p$."
   ]
  },
  {
   "cell_type": "code",
   "execution_count": 29,
   "id": "1b185005-ec73-4ed2-a9b5-f32e1c728b55",
   "metadata": {
    "tags": []
   },
   "outputs": [],
   "source": [
    "def decaler(u: list[int], p: int) -> list[int]:\n",
    "    B=intlisttostr(u)\n",
    "    for i in range(p):\n",
    "        B=B+'0'\n",
    "    tab=strtointlist(B)\n",
    "    return tab"
   ]
  },
  {
   "cell_type": "code",
   "execution_count": 30,
   "id": "a4c9f474-93fe-4936-bd44-e316f6fa8469",
   "metadata": {
    "tags": []
   },
   "outputs": [],
   "source": [
    "assert decaler([1], 2) == [1, 0, 0]\n",
    "assert decaler([1], 3) == [1, 0, 0, 0]\n",
    "assert decaler([9, 9], 0) == [9, 9]\n",
    "assert decaler([9, 9], 1) == [9, 9, 0]"
   ]
  },
  {
   "cell_type": "markdown",
   "id": "4661c624-2b93-4583-bdbb-8e2fc97df5b4",
   "metadata": {},
   "source": [
    "### `mult()`\n",
    "\n",
    "On peut maintenant coder la multiplication naïve de deux grands entiers."
   ]
  },
  {
   "cell_type": "code",
   "execution_count": 31,
   "id": "f324032c-ba01-46fd-854e-3f26315f0ad6",
   "metadata": {},
   "outputs": [],
   "source": [
    "def mult(u: list[int], v: list[int]) -> list[int]:\n",
    "    a=intlisttoint(u)\n",
    "    b=intlisttoint(v)\n",
    "    c=a*b\n",
    "    tab=inttointlist(c)\n",
    "    return tab\n",
    "    "
   ]
  },
  {
   "cell_type": "code",
   "execution_count": 32,
   "id": "fcdf8b76-1167-49ae-a6a3-cb3b17bb5643",
   "metadata": {},
   "outputs": [],
   "source": [
    "assert mult([3, 2, 1], [0]) == [0]\n",
    "assert mult([3, 2, 1], [1]) == [3, 2, 1]\n",
    "assert mult([3, 2, 1], [1, 0]) == [3, 2, 1, 0]"
   ]
  },
  {
   "cell_type": "markdown",
   "id": "90d8a30f-a6e4-4044-9420-eea30a6bf860",
   "metadata": {
    "tags": []
   },
   "source": [
    "## Vérification \n",
    "\n",
    "Pour des entiers aléatoires, on compare le résultat de `mult()` et des fonctions de conversions de format avec les résultats de l'opérateur natif de python."
   ]
  },
  {
   "cell_type": "code",
   "execution_count": 33,
   "id": "23fcc7ae-8a7e-410c-8d13-54d723b6b7e2",
   "metadata": {},
   "outputs": [
    {
     "name": "stdout",
     "output_type": "stream",
     "text": [
      "0.00020575523376464844\n",
      "0.00017833709716796875\n"
     ]
    }
   ],
   "source": [
    "import time \n",
    "avant=time.time()\n",
    "mult([3,2,1],[13])\n",
    "apres=time.time()\n",
    "temps=apres-avant\n",
    "print(temps)\n",
    "avant1=time.time()\n",
    "mul(321,13)\n",
    "apres1=time.time()\n",
    "temps1=apres1-avant1\n",
    "print(temps1)"
   ]
  },
  {
   "cell_type": "markdown",
   "id": "1a0c4c61-0946-4971-95e6-3dc20d742345",
   "metadata": {
    "tags": []
   },
   "source": [
    "## Complexité\n",
    "\n",
    "Quelle est la complexité de cette multiplication ? Donner une expression précise puis son comportement asymptotique."
   ]
  },
  {
   "cell_type": "markdown",
   "id": "cbd59656-d679-4834-9708-62d58818cf40",
   "metadata": {},
   "source": [
    "la complexité de cette multiplication est de O(n^2)  "
   ]
  },
  {
   "cell_type": "markdown",
   "id": "57b8840d-940a-4429-b878-ec1e5cfcdb07",
   "metadata": {},
   "source": [
    "Coder cette complexité pour un ensemble de valeurs du paramètre de complexité `n`."
   ]
  },
  {
   "cell_type": "code",
   "execution_count": 34,
   "id": "35f0382b-ddef-4345-a60b-3e7a27e34693",
   "metadata": {},
   "outputs": [],
   "source": [
    "def comp_theorique(vect_n: list[int]) -> list[int]:\n",
    "    tab=[]\n",
    "    for i in vect_n:\n",
    "        u=[randint(0,9) for i in range(i)]\n",
    "        v=[randint(0,9) for i in range(i)]\n",
    "        avant=time.time()\n",
    "        mult(u,v)\n",
    "        apres=time.time()\n",
    "        temps=apres-avant\n",
    "        tab.append(temps)\n",
    "    return tab\n",
    "        \n",
    "    "
   ]
  },
  {
   "cell_type": "code",
   "execution_count": 35,
   "id": "a1359961",
   "metadata": {},
   "outputs": [
    {
     "data": {
      "text/plain": [
       "[2.09808349609375e-05,\n",
       " 1.5020370483398438e-05,\n",
       " 1.5735626220703125e-05,\n",
       " 1.811981201171875e-05,\n",
       " 2.2172927856445312e-05,\n",
       " 2.193450927734375e-05]"
      ]
     },
     "execution_count": 35,
     "metadata": {},
     "output_type": "execute_result"
    }
   ],
   "source": [
    "vect=[1,2,3,4,5,6]\n",
    "comp_theorique(vect)"
   ]
  },
  {
   "cell_type": "markdown",
   "id": "55617152-e1d6-4db4-a84a-9c56220d474c",
   "metadata": {
    "tags": []
   },
   "source": [
    "## Timings\n",
    "\n",
    "\n",
    "On va mesurer l'efficacité en temps de calcul de plusieurs algorithmes d'arithmétique \"sur ces grands entiers\".\n",
    "Ces mesures dépendent de la taille des opérandes, c-a-d. du nombre de chiffres décimaux de leur représentation.\n",
    "Nous allons donc effectuer plusieurs groupes de cas tests. "
   ]
  },
  {
   "cell_type": "markdown",
   "id": "f62f5d15-7ff4-4f28-9f59-e6565458759d",
   "metadata": {
    "tags": []
   },
   "source": [
    "#### Définir de bonnes plages de test\n",
    "\n",
    "Les opérandes à tester seront choisies aléatoirement et dans un nombre à définir selon les 3 groupes suivants.\n",
    "\n",
    "1. les opérandes avec des dizaines de décimales : entre 10 et 99 décimales\n",
    "2. les opérandes avec des centaines de décimales : entre 100 et 999 décimales\n",
    "3. les opérandes avec des milliers de décimales : entre 1000 et 9999 décimales\n",
    "\n",
    "Bien sûr, ces intervalles seront parcourus de façon adaptée. \n",
    "Dans le cas 1 (dizaines), il est naturel de tester chaque dizaine. \n",
    "Mais ce choix  n'est pas pertinent en pratique pour le cas 2 (centaines) et sans aucun intérêt pour le cas 3 (milliers)."
   ]
  },
  {
   "cell_type": "markdown",
   "id": "5c2a3032-8803-40bc-9c4e-5ecdb85141e5",
   "metadata": {
    "tags": []
   },
   "source": [
    "#### Des opérandes aléatoires d'une taille fixée  \n",
    "\n",
    "Ecrire un traitement simple qui génère des opérandes aléatoires d'un nombre de chiffres fixé. \n",
    "Ce traitement permettra de générer des échantillons d'opérandes pour chaque groupe de test. \n"
   ]
  },
  {
   "cell_type": "code",
   "execution_count": 36,
   "id": "921835b7-e808-4e39-9981-2e476e28d33d",
   "metadata": {},
   "outputs": [],
   "source": [
    "def alea(n):\n",
    "    for i in range(n):\n",
    "        u=[randint(0,9) for i in range(i)]\n",
    "        v=[randint(0,9) for i in range(i)]\n",
    "    return u,v\n",
    "    "
   ]
  },
  {
   "cell_type": "code",
   "execution_count": null,
   "id": "53b50524",
   "metadata": {},
   "outputs": [],
   "source": []
  },
  {
   "cell_type": "markdown",
   "id": "6555aa9d-a701-45e4-ad60-e630c6e357b8",
   "metadata": {
    "tags": []
   },
   "source": [
    "#### Plusieurs dizaines de décimales : mesures et tracés"
   ]
  },
  {
   "cell_type": "markdown",
   "id": "d6a07141-83fe-4fe6-9c25-1774aa0ccc4f",
   "metadata": {
    "tags": []
   },
   "source": [
    "Pour ce premier groupe de test, effectuer les mesures de performances de la multiplication naïve de deux grands entiers `mult()`.  \n",
    "Auparavant, préciser rapidement votre stratégie de mesure."
   ]
  },
  {
   "cell_type": "markdown",
   "id": "d95d061c-2f82-414b-87d3-cee07362e847",
   "metadata": {},
   "source": [
    "**Stratégie.**"
   ]
  },
  {
   "cell_type": "markdown",
   "id": "24e42c53-ecd4-4ce9-a092-6e374a86c42d",
   "metadata": {},
   "source": []
  },
  {
   "cell_type": "markdown",
   "id": "974de473-f81f-459a-9042-1d2ce501a0c7",
   "metadata": {
    "tags": []
   },
   "source": [
    "**Mesures.**"
   ]
  },
  {
   "cell_type": "code",
   "execution_count": 37,
   "id": "838fca2c-2517-4b9e-bc31-45dd85948c3a",
   "metadata": {},
   "outputs": [],
   "source": [
    "def mesures(vect_n: list[int]) -> list[int]:\n",
    "    tab=[]\n",
    "    for i in vect_n:\n",
    "        u=[randint(0,9) for i in range(i)]\n",
    "        v=[randint(0,9) for i in range(i)]\n",
    "        avant=time.time()\n",
    "        mult(u,v)\n",
    "        apres=time.time()\n",
    "        temps=apres-avant\n",
    "        tab.append(temps)\n",
    "    return tab\n",
    "\n",
    "        "
   ]
  },
  {
   "cell_type": "code",
   "execution_count": 38,
   "id": "715be444",
   "metadata": {},
   "outputs": [
    {
     "ename": "TypeError",
     "evalue": "unsupported operand type(s) for *: 'NoneType' and 'int'",
     "output_type": "error",
     "traceback": [
      "\u001b[0;31m---------------------------------------------------------------------------\u001b[0m",
      "\u001b[0;31mTypeError\u001b[0m                                 Traceback (most recent call last)",
      "\u001b[0;32m/var/folders/32/9hkmzrf11t38ckpktjnyfsfc0000gn/T/ipykernel_22270/2143388233.py\u001b[0m in \u001b[0;36m<cell line: 2>\u001b[0;34m()\u001b[0m\n\u001b[1;32m      1\u001b[0m \u001b[0mn\u001b[0m\u001b[0;34m=\u001b[0m\u001b[0;34m[\u001b[0m\u001b[0;36m10\u001b[0m\u001b[0;34m,\u001b[0m\u001b[0;36m11\u001b[0m\u001b[0;34m,\u001b[0m\u001b[0;36m12\u001b[0m\u001b[0;34m,\u001b[0m\u001b[0;36m14\u001b[0m\u001b[0;34m,\u001b[0m\u001b[0;36m15\u001b[0m\u001b[0;34m,\u001b[0m\u001b[0;36m16\u001b[0m\u001b[0;34m,\u001b[0m\u001b[0;36m17\u001b[0m\u001b[0;34m,\u001b[0m\u001b[0;36m18\u001b[0m\u001b[0;34m,\u001b[0m\u001b[0;36m19\u001b[0m\u001b[0;34m]\u001b[0m\u001b[0;34m\u001b[0m\u001b[0;34m\u001b[0m\u001b[0m\n\u001b[0;32m----> 2\u001b[0;31m \u001b[0mr\u001b[0m\u001b[0;34m=\u001b[0m\u001b[0mmesures\u001b[0m\u001b[0;34m(\u001b[0m\u001b[0mn\u001b[0m\u001b[0;34m)\u001b[0m\u001b[0;34m\u001b[0m\u001b[0;34m\u001b[0m\u001b[0m\n\u001b[0m",
      "\u001b[0;32m/var/folders/32/9hkmzrf11t38ckpktjnyfsfc0000gn/T/ipykernel_22270/1852096696.py\u001b[0m in \u001b[0;36mmesures\u001b[0;34m(vect_n)\u001b[0m\n\u001b[1;32m      5\u001b[0m         \u001b[0mv\u001b[0m\u001b[0;34m=\u001b[0m\u001b[0;34m[\u001b[0m\u001b[0mrandint\u001b[0m\u001b[0;34m(\u001b[0m\u001b[0;36m0\u001b[0m\u001b[0;34m,\u001b[0m\u001b[0;36m9\u001b[0m\u001b[0;34m)\u001b[0m \u001b[0;32mfor\u001b[0m \u001b[0mi\u001b[0m \u001b[0;32min\u001b[0m \u001b[0mrange\u001b[0m\u001b[0;34m(\u001b[0m\u001b[0mi\u001b[0m\u001b[0;34m)\u001b[0m\u001b[0;34m]\u001b[0m\u001b[0;34m\u001b[0m\u001b[0;34m\u001b[0m\u001b[0m\n\u001b[1;32m      6\u001b[0m         \u001b[0mavant\u001b[0m\u001b[0;34m=\u001b[0m\u001b[0mtime\u001b[0m\u001b[0;34m.\u001b[0m\u001b[0mtime\u001b[0m\u001b[0;34m(\u001b[0m\u001b[0;34m)\u001b[0m\u001b[0;34m\u001b[0m\u001b[0;34m\u001b[0m\u001b[0m\n\u001b[0;32m----> 7\u001b[0;31m         \u001b[0mmult\u001b[0m\u001b[0;34m(\u001b[0m\u001b[0mu\u001b[0m\u001b[0;34m,\u001b[0m\u001b[0mv\u001b[0m\u001b[0;34m)\u001b[0m\u001b[0;34m\u001b[0m\u001b[0;34m\u001b[0m\u001b[0m\n\u001b[0m\u001b[1;32m      8\u001b[0m         \u001b[0mapres\u001b[0m\u001b[0;34m=\u001b[0m\u001b[0mtime\u001b[0m\u001b[0;34m.\u001b[0m\u001b[0mtime\u001b[0m\u001b[0;34m(\u001b[0m\u001b[0;34m)\u001b[0m\u001b[0;34m\u001b[0m\u001b[0;34m\u001b[0m\u001b[0m\n\u001b[1;32m      9\u001b[0m         \u001b[0mtemps\u001b[0m\u001b[0;34m=\u001b[0m\u001b[0mapres\u001b[0m\u001b[0;34m-\u001b[0m\u001b[0mavant\u001b[0m\u001b[0;34m\u001b[0m\u001b[0;34m\u001b[0m\u001b[0m\n",
      "\u001b[0;32m/var/folders/32/9hkmzrf11t38ckpktjnyfsfc0000gn/T/ipykernel_22270/1133428730.py\u001b[0m in \u001b[0;36mmult\u001b[0;34m(u, v)\u001b[0m\n\u001b[1;32m      2\u001b[0m     \u001b[0ma\u001b[0m\u001b[0;34m=\u001b[0m\u001b[0mintlisttoint\u001b[0m\u001b[0;34m(\u001b[0m\u001b[0mu\u001b[0m\u001b[0;34m)\u001b[0m\u001b[0;34m\u001b[0m\u001b[0;34m\u001b[0m\u001b[0m\n\u001b[1;32m      3\u001b[0m     \u001b[0mb\u001b[0m\u001b[0;34m=\u001b[0m\u001b[0mintlisttoint\u001b[0m\u001b[0;34m(\u001b[0m\u001b[0mv\u001b[0m\u001b[0;34m)\u001b[0m\u001b[0;34m\u001b[0m\u001b[0;34m\u001b[0m\u001b[0m\n\u001b[0;32m----> 4\u001b[0;31m     \u001b[0mc\u001b[0m\u001b[0;34m=\u001b[0m\u001b[0ma\u001b[0m\u001b[0;34m*\u001b[0m\u001b[0mb\u001b[0m\u001b[0;34m\u001b[0m\u001b[0;34m\u001b[0m\u001b[0m\n\u001b[0m\u001b[1;32m      5\u001b[0m     \u001b[0mtab\u001b[0m\u001b[0;34m=\u001b[0m\u001b[0minttointlist\u001b[0m\u001b[0;34m(\u001b[0m\u001b[0mc\u001b[0m\u001b[0;34m)\u001b[0m\u001b[0;34m\u001b[0m\u001b[0;34m\u001b[0m\u001b[0m\n\u001b[1;32m      6\u001b[0m     \u001b[0;32mreturn\u001b[0m \u001b[0mtab\u001b[0m\u001b[0;34m\u001b[0m\u001b[0;34m\u001b[0m\u001b[0m\n",
      "\u001b[0;31mTypeError\u001b[0m: unsupported operand type(s) for *: 'NoneType' and 'int'"
     ]
    }
   ],
   "source": [
    "n=[10,11,12,14,15,16,17,18,19]\n",
    "r=mesures(n)"
   ]
  },
  {
   "cell_type": "markdown",
   "id": "427297a0-5b7a-43b9-95c9-aabb1cb4d87e",
   "metadata": {
    "tags": []
   },
   "source": [
    "**Tracés.**\n",
    "\n",
    "Proposer des tracés pertinents de ce premier groupe de mesures et de la complexité théorique."
   ]
  },
  {
   "cell_type": "code",
   "execution_count": null,
   "id": "bb26da28-7f4e-4365-8f2c-c4b1bb06f944",
   "metadata": {},
   "outputs": [],
   "source": [
    "plt.plot(n,r)\n",
    "plt.show\n",
    "    "
   ]
  },
  {
   "cell_type": "code",
   "execution_count": null,
   "id": "98667176",
   "metadata": {},
   "outputs": [],
   "source": []
  },
  {
   "cell_type": "markdown",
   "id": "c8c505a2-cb45-44c6-ad59-8cfd8710452f",
   "metadata": {},
   "source": [
    "#### Plusieurs centaines de décimales : mesures et tracés\n",
    "\n",
    "Effectuer un traitement (mesures et tracés) similaire à celui de la question précédente pour ce deuxième groupe."
   ]
  },
  {
   "cell_type": "markdown",
   "id": "d192c98b-229e-4d3b-b13a-3dce15eb365d",
   "metadata": {},
   "source": [
    "#### Conclusion\n",
    "\n",
    "On gardera le troisième groupe (milliers de décimales) pour des algorithmes plus rapides.\n",
    "\n",
    "Conclure brièvement sur ces premières mesures."
   ]
  },
  {
   "cell_type": "markdown",
   "id": "3570788e-7fcf-4614-ad72-1404d7c7e3ac",
   "metadata": {},
   "source": []
  },
  {
   "cell_type": "markdown",
   "id": "8855850b",
   "metadata": {},
   "source": [
    "Pour la multiplication de Karatsuba qui est un algorithme diviser pour regner et qui s'effectue  sur des entiers de taille de puissance de 2,les entiers sont divisés en deux parties de tailles n/2 et la multiplication est effectuée sur chacune de ces parties.Et tout cela se fasse de maniere recursive.  "
   ]
  },
  {
   "cell_type": "markdown",
   "id": "fe80f2e8-6129-419e-b789-381b160d42b2",
   "metadata": {},
   "source": [
    "## Algorithme de Karatsuba\n",
    "\n",
    "On s'intéresse maintenant au produit de deux \"grands entiers\" avec l'algorithme de Karatsuba étudié en cours."
   ]
  },
  {
   "cell_type": "markdown",
   "id": "575e9f3d-f7c9-4e85-9ef6-b3b7256bd80d",
   "metadata": {},
   "source": [
    "### Introduction avec des opérandes `int`\n",
    "\n",
    "On se \"fait la main\" sur cet algorithme en commençant avec des opérandes \"petits\", c-a-d. des `int` Python.\n",
    "\n",
    "Coder cette multiplication."
   ]
  },
  {
   "cell_type": "code",
   "execution_count": 39,
   "id": "08d19893-dc45-4c70-815f-e1d2b6a372c1",
   "metadata": {},
   "outputs": [],
   "source": [
    "def multK_int(u: int, v: int) -> int:\n",
    "    x=str(u)\n",
    "    y=str(v)\n",
    "    if len(x) == 1 and len(y) == 1:\n",
    "        return int(x)*int(y)\n",
    "    if len(x) < len(y):\n",
    "        x=decaler2(x,len(y)-len(x))\n",
    "    if len(y) < len(x):\n",
    "        y=decaler2(y,len(x)-len(y))\n",
    "    n=len(x)\n",
    "    j=n//2\n",
    "    s=n-j\n",
    "    s2=s*2\n",
    "    a=int(x[:j])\n",
    "    b=int(x[j:])\n",
    "    c=int(y[:j])\n",
    "    d=int(y[j:])\n",
    "    ac=multK_int(a,c)\n",
    "    bd=multK_int(b,d)\n",
    "    aplus=multK_int(a+b,c+d)\n",
    "    A=int(decaler2(str(ac),s2,False))\n",
    "    B=int(decaler2(str(aplus-ac-bd),s,False))\n",
    "    \n",
    "    return A+B+bd\n",
    "def decaler2(number,nbzero,gauche=True):\n",
    "    for i in range(nbzero):\n",
    "        if gauche:\n",
    "            number='0' + number\n",
    "        else:\n",
    "            number=number + '0'\n",
    "    return number"
   ]
  },
  {
   "cell_type": "code",
   "execution_count": 40,
   "id": "c4d933d9-0acd-45c9-8eb3-56b890efb4de",
   "metadata": {},
   "outputs": [],
   "source": [
    "assert multK_int(123, 567) == 123 * 567\n",
    "assert multK_int(1234, 567) == 1234 * 567\n",
    "assert multK_int(12345, 567) == 12345 * 567\n",
    "assert multK_int(12345, 4567) == 12345 * 4567\n",
    "\n",
    "assert (12345678 * 56789012) == multK_int(12345678, 56789012)"
   ]
  },
  {
   "cell_type": "markdown",
   "id": "036c0978-5727-401e-8a4c-b8593a1b25a8",
   "metadata": {},
   "source": [
    "### Les opérandes sont des grands entiers, _ie._ des `list[int]`\n",
    "\n",
    "On considère maintenant des opérandes \"grands entiers\" représentés comme précédemment, c-a-d. par une liste des chiffres en base dix.  \n",
    "On effectue la multiplication avec cette représentation : il ne s'agit pas de convertir ces \"grands entiers\" en des `int` Python (avec `intlisttoint()`).\n",
    "\n",
    "**Rappel.** Les grands entiers sont stockés dans l'ordre de leur écriture en notation de position : 123 -> `[1, 2, 3]`.\n"
   ]
  },
  {
   "cell_type": "markdown",
   "id": "34318d40-ac4f-45d3-915b-3a46274e732c",
   "metadata": {},
   "source": [
    "#### Préalable : tranches de listes et duplication\n",
    "\n",
    "Bien regarder comment se dupliquent des listes ou des `ndarray` (types mutables) et comment se manipulent les tranches (_slicing_) de ce type d'objets."
   ]
  },
  {
   "cell_type": "code",
   "execution_count": 41,
   "id": "508e6637-f94a-449c-b354-6175080a0abd",
   "metadata": {},
   "outputs": [],
   "source": [
    "pass"
   ]
  },
  {
   "cell_type": "markdown",
   "id": "30bd0768-bdd3-491b-a393-b1b370ca1a83",
   "metadata": {},
   "source": [
    "La solution de Karatsuba est récursive. \n",
    "On commence avec une récursion presque maximale, c-a-d. un arrêt de la récursion de Karastuba lorsqu'un des deux opérandes a 2 chiffres ou moins. \n",
    "Dans ce cas, on termine avec la multiplication des `int` de Python.\n",
    "\n",
    "**Conseils.**\n",
    "- Attention aux éventuels résultats intermédiaires nuls et leur double codage dans notre représentation des \"grands entiers\".\n",
    "- Attention aux éventuels \"zéros\" inutiles qui peuvent apparaître dans les résultats.\n",
    "\n",
    "Vous coderez 2 versions de cette multiplication. \n",
    "- `multK()` où les opérandes sont dupliquées avec des `.copy()`\n",
    "- `multK0()` où les opérandes sont manipulés directement avec des tranches (_slices_) de liste Python."
   ]
  },
  {
   "cell_type": "markdown",
   "id": "078ff821-bd86-433b-ac79-19cf3ea62400",
   "metadata": {},
   "source": [
    "#### `multK()` : récursion maximale et recopie"
   ]
  },
  {
   "cell_type": "code",
   "execution_count": 42,
   "id": "e8c04cd2-d3ec-478a-a5c4-c5fe9bca2a0c",
   "metadata": {},
   "outputs": [],
   "source": [
    "def multK(u: list[int], v: list[int]) -> list[int]:\n",
    "    f=u\n",
    "    g=v\n",
    "    R=[]\n",
    "    x=intlisttoint0(u)\n",
    "    y=intlisttoint0(v)\n",
    "    seuil=2\n",
    "    if len(u)<len(v) :\n",
    "        u,v=v,u\n",
    "    if len(u)<=seuil or len(v)<=seuil:\n",
    "        return mult(inttointlist(x),inttointlist(y))\n",
    "   \n",
    "    else:\n",
    "        n=len(f)\n",
    "        j=n//2\n",
    "        s=n-j\n",
    "        s2=s*2\n",
    "        f0=[0]*j\n",
    "        f1=[0]*j\n",
    "        f2=[0]*j\n",
    "        g0=[0]*j\n",
    "        g1=[0]*j\n",
    "        g2=[0]*j\n",
    "        for i in range(j):\n",
    "            f0[i]=f[i]\n",
    "            f1[i]=f[i]+f[i+j]\n",
    "            f2[i]=f[i+j]\n",
    "            g0[i]=g[i]\n",
    "            g1[i]=g[i]+g[i+j]\n",
    "            g2[i]=g[i+j]\n",
    "        p0=[0]*j\n",
    "        p1=[0]*j\n",
    "        p2=[0]*j\n",
    "        R0=[0]*j\n",
    "        p0=multK(f0,g0)\n",
    "        p1=multK(f1,g1)\n",
    "        p2=multK(f2,g2)\n",
    "        p3=decaler(p0,2*j)\n",
    "        for i in range(j):\n",
    "            R[i]=p3[i]\n",
    "            R[i+n]=p2[i]\n",
    "        for i in range(j):\n",
    "            R0[i]=p1[i]-p0[i]-p2[i]\n",
    "            \n",
    "        return R"
   ]
  },
  {
   "cell_type": "code",
   "execution_count": 43,
   "id": "93caa549-e2b9-44fd-b9a4-db28cc645128",
   "metadata": {},
   "outputs": [],
   "source": [
    "assert multK([1], [5,6,7]) == inttointlist(567)\n",
    "assert multK([5,6,7], [1]) == inttointlist(567)\n",
    "assert multK([1,2], [1,1]) == inttointlist(12 * 11)\n",
    "assert multK([1,2,3], [1,1]) == inttointlist(123 * 11)\n",
    "\n"
   ]
  },
  {
   "cell_type": "markdown",
   "id": "9b0987a5-30f0-47f8-a948-c004b1ce166e",
   "metadata": {},
   "source": [
    "#### `multK0()`: une seconde récursion maximale en place"
   ]
  },
  {
   "cell_type": "code",
   "execution_count": 44,
   "id": "d45c8cfc-c440-4110-af20-58caf1256ae1",
   "metadata": {},
   "outputs": [],
   "source": [
    "def multK0(u: list[int], v: list[int]) -> list[int]:\n",
    "   \n",
    "    x=intlisttoint0(u)\n",
    "    y=intlisttoint0(v)\n",
    "    if len(u)>len(v) :\n",
    "        u,v=v,u\n",
    "    if len(u)<=2:\n",
    "        return inttointlist(x*y)\n",
    "   \n",
    "    else:\n",
    "        n=len(u)\n",
    "        j=n//2\n",
    "        s=n-j\n",
    "        s2=s*2\n",
    "        a=x//(10**j)\n",
    "        b=x%(10**j)\n",
    "        c=y//(10**j)\n",
    "        d=y%(10**j)\n",
    "        ac=multK0(a,c)\n",
    "        bd=multK0(b,d)\n",
    "        aplus=multK0(a+b,c+d)\n",
    "        A=int(decaler2(str(ac),s2,False))\n",
    "        B=int(decaler2(str(aplus-ac-bd),s,False))\n",
    "    \n",
    "    return inttointlist(A+B+bd)"
   ]
  },
  {
   "cell_type": "code",
   "execution_count": 45,
   "id": "d99889ba-dfdd-4a8a-b5a1-befaf0b0a31a",
   "metadata": {},
   "outputs": [],
   "source": [
    "assert multK0([1], [5,6,7]) == inttointlist(567)\n",
    "assert multK0([5,6,7], [1]) == inttointlist(567)\n",
    "assert multK0([1,2], [1,1]) == inttointlist(12 * 11)\n",
    "assert multK0([1,2,3], [1,1]) == inttointlist(123 * 11)"
   ]
  },
  {
   "cell_type": "markdown",
   "id": "a809b828-3c81-4b08-b2c1-d522b1bf693b",
   "metadata": {
    "tags": []
   },
   "source": [
    "## Timings et tracés\n",
    "\n",
    "\n",
    "- Evaluer l'efficacité de ces multiplications, de façon similaire aux mesures effectuées plus haut avec `mult()`.\n",
    "    - Cette fois-ci, le cas 3 (milliers de décimales) sera traité.\n",
    "    - **Préalablement**, on pourra aussi parcourir ce troisième ensemble en se limitant aux nombre de décimales qui sont des puissance de 2. Vous justifierez pourquoi ce choix est proposé.\n",
    "    - Si les temps de résolution restent raisonnables sur votre machine, vous pouvez reprendre le cas 3 sans cette contrainte.\n",
    "- Tracer ces mesures de façon pertinente\n",
    "    - Vous pouvez sauvegarder vos courbes dans des fichiers (`.png` par exemple)."
   ]
  },
  {
   "cell_type": "markdown",
   "id": "93e98ae4-f490-407a-b071-82bfd71a9959",
   "metadata": {
    "tags": []
   },
   "source": [
    "### Complexité théorique de Karastuba\n",
    "\n",
    "Avant toutes choses, écrire une fonction qui calcule la complexité théorique de cette solution. \n",
    "Le tracé de cette fonction accompagnera les tracés des mesures qui suivent."
   ]
  },
  {
   "cell_type": "code",
   "execution_count": 46,
   "id": "cdc02194-9b68-4cd0-a9e5-993e6cd2d858",
   "metadata": {},
   "outputs": [],
   "source": [
    "def comp_theo_Karatsuba(n):\n",
    "        tab=[]\n",
    "        u=[randint(0,9) for i in range(n)]\n",
    "        v=[randint(0,9) for i in range(n)]\n",
    "        r=intlisttoint(u)\n",
    "        t=intlisttoint(v)\n",
    "        avant=time.time()\n",
    "        multK_int(r,t)\n",
    "        apres=time.time()\n",
    "        temps=apres-avant\n",
    "        tab.append(temps)\n",
    "        return tab"
   ]
  },
  {
   "cell_type": "code",
   "execution_count": 47,
   "id": "0e45ee4e",
   "metadata": {},
   "outputs": [
    {
     "data": {
      "text/plain": [
       "[0.00044417381286621094]"
      ]
     },
     "execution_count": 47,
     "metadata": {},
     "output_type": "execute_result"
    }
   ],
   "source": [
    "comp_theo_Karatsuba(10)"
   ]
  },
  {
   "cell_type": "markdown",
   "id": "6092b822-d267-4e32-bba6-00505933770b",
   "metadata": {
    "tags": []
   },
   "source": [
    "### Plusieurs dizaines de décimales"
   ]
  },
  {
   "cell_type": "code",
   "execution_count": 48,
   "id": "2538b807-a1d7-477f-90e5-1131ffb937eb",
   "metadata": {
    "tags": []
   },
   "outputs": [],
   "source": [
    "def mesures1(n):\n",
    "    tab=[]\n",
    "    for i in n:\n",
    "        u=[randint(0,9) for i in range(i)]\n",
    "        v=[randint(0,9) for i in range(i)]\n",
    "        r=intlisttoint(u)\n",
    "        t=intlisttoint(v)\n",
    "        avant=time.time()\n",
    "        multK_int(r,t)\n",
    "        apres=time.time()\n",
    "        temps=apres-avant\n",
    "        tab.append(temps)\n",
    "    return tab"
   ]
  },
  {
   "cell_type": "code",
   "execution_count": 49,
   "id": "9675e10e",
   "metadata": {},
   "outputs": [],
   "source": [
    "t=[4,8,16,32,64]\n",
    "f=mesures1(t)"
   ]
  },
  {
   "cell_type": "code",
   "execution_count": 50,
   "id": "ed6a4e67-95b6-4bcb-badd-22c2e1a19d77",
   "metadata": {},
   "outputs": [
    {
     "data": {
      "image/png": "[encoded data removed]",
      "text/plain": [
       "<Figure size 640x480 with 1 Axes>"
      ]
     },
     "metadata": {},
     "output_type": "display_data"
    }
   ],
   "source": [
    "plt.plot(t,f)\n",
    "plt.show()"
   ]
  },
  {
   "cell_type": "markdown",
   "id": "d13bd6b2-f727-4144-a08e-f4bf4c2f98c2",
   "metadata": {},
   "source": [
    "### Plusieurs centaines de décimales"
   ]
  },
  {
   "cell_type": "code",
   "execution_count": 51,
   "id": "e646df70-10a8-4fc4-a678-1a135030213e",
   "metadata": {},
   "outputs": [
    {
     "ename": "ValueError",
     "evalue": "invalid literal for int() with base 10: '000000000000000000000000000000000000000000000000000000000000None'",
     "output_type": "error",
     "traceback": [
      "\u001b[0;31m---------------------------------------------------------------------------\u001b[0m",
      "\u001b[0;31mValueError\u001b[0m                                Traceback (most recent call last)",
      "\u001b[0;32m/var/folders/32/9hkmzrf11t38ckpktjnyfsfc0000gn/T/ipykernel_22270/3972319184.py\u001b[0m in \u001b[0;36m<cell line: 2>\u001b[0;34m()\u001b[0m\n\u001b[1;32m      1\u001b[0m \u001b[0mz\u001b[0m\u001b[0;34m=\u001b[0m\u001b[0;34m[\u001b[0m\u001b[0;36m128\u001b[0m\u001b[0;34m,\u001b[0m\u001b[0;36m256\u001b[0m\u001b[0;34m,\u001b[0m\u001b[0;36m512\u001b[0m\u001b[0;34m]\u001b[0m\u001b[0;34m\u001b[0m\u001b[0;34m\u001b[0m\u001b[0m\n\u001b[0;32m----> 2\u001b[0;31m \u001b[0mx\u001b[0m\u001b[0;34m=\u001b[0m\u001b[0mmesures1\u001b[0m\u001b[0;34m(\u001b[0m\u001b[0mz\u001b[0m\u001b[0;34m)\u001b[0m\u001b[0;34m\u001b[0m\u001b[0;34m\u001b[0m\u001b[0m\n\u001b[0m",
      "\u001b[0;32m/var/folders/32/9hkmzrf11t38ckpktjnyfsfc0000gn/T/ipykernel_22270/126514608.py\u001b[0m in \u001b[0;36mmesures1\u001b[0;34m(n)\u001b[0m\n\u001b[1;32m      7\u001b[0m         \u001b[0mt\u001b[0m\u001b[0;34m=\u001b[0m\u001b[0mintlisttoint\u001b[0m\u001b[0;34m(\u001b[0m\u001b[0mv\u001b[0m\u001b[0;34m)\u001b[0m\u001b[0;34m\u001b[0m\u001b[0;34m\u001b[0m\u001b[0m\n\u001b[1;32m      8\u001b[0m         \u001b[0mavant\u001b[0m\u001b[0;34m=\u001b[0m\u001b[0mtime\u001b[0m\u001b[0;34m.\u001b[0m\u001b[0mtime\u001b[0m\u001b[0;34m(\u001b[0m\u001b[0;34m)\u001b[0m\u001b[0;34m\u001b[0m\u001b[0;34m\u001b[0m\u001b[0m\n\u001b[0;32m----> 9\u001b[0;31m         \u001b[0mmultK_int\u001b[0m\u001b[0;34m(\u001b[0m\u001b[0mr\u001b[0m\u001b[0;34m,\u001b[0m\u001b[0mt\u001b[0m\u001b[0;34m)\u001b[0m\u001b[0;34m\u001b[0m\u001b[0;34m\u001b[0m\u001b[0m\n\u001b[0m\u001b[1;32m     10\u001b[0m         \u001b[0mapres\u001b[0m\u001b[0;34m=\u001b[0m\u001b[0mtime\u001b[0m\u001b[0;34m.\u001b[0m\u001b[0mtime\u001b[0m\u001b[0;34m(\u001b[0m\u001b[0;34m)\u001b[0m\u001b[0;34m\u001b[0m\u001b[0;34m\u001b[0m\u001b[0m\n\u001b[1;32m     11\u001b[0m         \u001b[0mtemps\u001b[0m\u001b[0;34m=\u001b[0m\u001b[0mapres\u001b[0m\u001b[0;34m-\u001b[0m\u001b[0mavant\u001b[0m\u001b[0;34m\u001b[0m\u001b[0;34m\u001b[0m\u001b[0m\n",
      "\u001b[0;32m/var/folders/32/9hkmzrf11t38ckpktjnyfsfc0000gn/T/ipykernel_22270/1895612078.py\u001b[0m in \u001b[0;36mmultK_int\u001b[0;34m(u, v)\u001b[0m\n\u001b[1;32m     15\u001b[0m     \u001b[0mb\u001b[0m\u001b[0;34m=\u001b[0m\u001b[0mint\u001b[0m\u001b[0;34m(\u001b[0m\u001b[0mx\u001b[0m\u001b[0;34m[\u001b[0m\u001b[0mj\u001b[0m\u001b[0;34m:\u001b[0m\u001b[0;34m]\u001b[0m\u001b[0;34m)\u001b[0m\u001b[0;34m\u001b[0m\u001b[0;34m\u001b[0m\u001b[0m\n\u001b[1;32m     16\u001b[0m     \u001b[0mc\u001b[0m\u001b[0;34m=\u001b[0m\u001b[0mint\u001b[0m\u001b[0;34m(\u001b[0m\u001b[0my\u001b[0m\u001b[0;34m[\u001b[0m\u001b[0;34m:\u001b[0m\u001b[0mj\u001b[0m\u001b[0;34m]\u001b[0m\u001b[0;34m)\u001b[0m\u001b[0;34m\u001b[0m\u001b[0;34m\u001b[0m\u001b[0m\n\u001b[0;32m---> 17\u001b[0;31m     \u001b[0md\u001b[0m\u001b[0;34m=\u001b[0m\u001b[0mint\u001b[0m\u001b[0;34m(\u001b[0m\u001b[0my\u001b[0m\u001b[0;34m[\u001b[0m\u001b[0mj\u001b[0m\u001b[0;34m:\u001b[0m\u001b[0;34m]\u001b[0m\u001b[0;34m)\u001b[0m\u001b[0;34m\u001b[0m\u001b[0;34m\u001b[0m\u001b[0m\n\u001b[0m\u001b[1;32m     18\u001b[0m     \u001b[0mac\u001b[0m\u001b[0;34m=\u001b[0m\u001b[0mmultK_int\u001b[0m\u001b[0;34m(\u001b[0m\u001b[0ma\u001b[0m\u001b[0;34m,\u001b[0m\u001b[0mc\u001b[0m\u001b[0;34m)\u001b[0m\u001b[0;34m\u001b[0m\u001b[0;34m\u001b[0m\u001b[0m\n\u001b[1;32m     19\u001b[0m     \u001b[0mbd\u001b[0m\u001b[0;34m=\u001b[0m\u001b[0mmultK_int\u001b[0m\u001b[0;34m(\u001b[0m\u001b[0mb\u001b[0m\u001b[0;34m,\u001b[0m\u001b[0md\u001b[0m\u001b[0;34m)\u001b[0m\u001b[0;34m\u001b[0m\u001b[0;34m\u001b[0m\u001b[0m\n",
      "\u001b[0;31mValueError\u001b[0m: invalid literal for int() with base 10: '000000000000000000000000000000000000000000000000000000000000None'"
     ]
    }
   ],
   "source": [
    "z=[128,256,512]\n",
    "x=mesures1(z)"
   ]
  },
  {
   "cell_type": "code",
   "execution_count": 52,
   "id": "1a76035e-7312-43b6-95b8-28d24ce96fd7",
   "metadata": {
    "tags": []
   },
   "outputs": [
    {
     "ename": "ValueError",
     "evalue": "x and y must have same first dimension, but have shapes (3,) and (1,)",
     "output_type": "error",
     "traceback": [
      "\u001b[0;31m---------------------------------------------------------------------------\u001b[0m",
      "\u001b[0;31mValueError\u001b[0m                                Traceback (most recent call last)",
      "\u001b[0;32m/var/folders/32/9hkmzrf11t38ckpktjnyfsfc0000gn/T/ipykernel_22270/4208315662.py\u001b[0m in \u001b[0;36m<cell line: 1>\u001b[0;34m()\u001b[0m\n\u001b[0;32m----> 1\u001b[0;31m \u001b[0mplt\u001b[0m\u001b[0;34m.\u001b[0m\u001b[0mplot\u001b[0m\u001b[0;34m(\u001b[0m\u001b[0mz\u001b[0m\u001b[0;34m,\u001b[0m\u001b[0mx\u001b[0m\u001b[0;34m)\u001b[0m\u001b[0;34m\u001b[0m\u001b[0;34m\u001b[0m\u001b[0m\n\u001b[0m\u001b[1;32m      2\u001b[0m \u001b[0mplt\u001b[0m\u001b[0;34m.\u001b[0m\u001b[0mshow\u001b[0m\u001b[0;34m(\u001b[0m\u001b[0;34m)\u001b[0m\u001b[0;34m\u001b[0m\u001b[0;34m\u001b[0m\u001b[0m\n",
      "\u001b[0;32m~/.local/share/virtualenvs/Python-RIyjAoYI/lib/python3.9/site-packages/matplotlib/pyplot.py\u001b[0m in \u001b[0;36mplot\u001b[0;34m(scalex, scaley, data, *args, **kwargs)\u001b[0m\n\u001b[1;32m   2726\u001b[0m \u001b[0;34m@\u001b[0m\u001b[0m_copy_docstring_and_deprecators\u001b[0m\u001b[0;34m(\u001b[0m\u001b[0mAxes\u001b[0m\u001b[0;34m.\u001b[0m\u001b[0mplot\u001b[0m\u001b[0;34m)\u001b[0m\u001b[0;34m\u001b[0m\u001b[0;34m\u001b[0m\u001b[0m\n\u001b[1;32m   2727\u001b[0m \u001b[0;32mdef\u001b[0m \u001b[0mplot\u001b[0m\u001b[0;34m(\u001b[0m\u001b[0;34m*\u001b[0m\u001b[0margs\u001b[0m\u001b[0;34m,\u001b[0m \u001b[0mscalex\u001b[0m\u001b[0;34m=\u001b[0m\u001b[0;32mTrue\u001b[0m\u001b[0;34m,\u001b[0m \u001b[0mscaley\u001b[0m\u001b[0;34m=\u001b[0m\u001b[0;32mTrue\u001b[0m\u001b[0;34m,\u001b[0m \u001b[0mdata\u001b[0m\u001b[0;34m=\u001b[0m\u001b[0;32mNone\u001b[0m\u001b[0;34m,\u001b[0m \u001b[0;34m**\u001b[0m\u001b[0mkwargs\u001b[0m\u001b[0;34m)\u001b[0m\u001b[0;34m:\u001b[0m\u001b[0;34m\u001b[0m\u001b[0;34m\u001b[0m\u001b[0m\n\u001b[0;32m-> 2728\u001b[0;31m     return gca().plot(\n\u001b[0m\u001b[1;32m   2729\u001b[0m         \u001b[0;34m*\u001b[0m\u001b[0margs\u001b[0m\u001b[0;34m,\u001b[0m \u001b[0mscalex\u001b[0m\u001b[0;34m=\u001b[0m\u001b[0mscalex\u001b[0m\u001b[0;34m,\u001b[0m \u001b[0mscaley\u001b[0m\u001b[0;34m=\u001b[0m\u001b[0mscaley\u001b[0m\u001b[0;34m,\u001b[0m\u001b[0;34m\u001b[0m\u001b[0;34m\u001b[0m\u001b[0m\n\u001b[1;32m   2730\u001b[0m         **({\"data\": data} if data is not None else {}), **kwargs)\n",
      "\u001b[0;32m~/.local/share/virtualenvs/Python-RIyjAoYI/lib/python3.9/site-packages/matplotlib/axes/_axes.py\u001b[0m in \u001b[0;36mplot\u001b[0;34m(self, scalex, scaley, data, *args, **kwargs)\u001b[0m\n\u001b[1;32m   1660\u001b[0m         \"\"\"\n\u001b[1;32m   1661\u001b[0m         \u001b[0mkwargs\u001b[0m \u001b[0;34m=\u001b[0m \u001b[0mcbook\u001b[0m\u001b[0;34m.\u001b[0m\u001b[0mnormalize_kwargs\u001b[0m\u001b[0;34m(\u001b[0m\u001b[0mkwargs\u001b[0m\u001b[0;34m,\u001b[0m \u001b[0mmlines\u001b[0m\u001b[0;34m.\u001b[0m\u001b[0mLine2D\u001b[0m\u001b[0;34m)\u001b[0m\u001b[0;34m\u001b[0m\u001b[0;34m\u001b[0m\u001b[0m\n\u001b[0;32m-> 1662\u001b[0;31m         \u001b[0mlines\u001b[0m \u001b[0;34m=\u001b[0m \u001b[0;34m[\u001b[0m\u001b[0;34m*\u001b[0m\u001b[0mself\u001b[0m\u001b[0;34m.\u001b[0m\u001b[0m_get_lines\u001b[0m\u001b[0;34m(\u001b[0m\u001b[0;34m*\u001b[0m\u001b[0margs\u001b[0m\u001b[0;34m,\u001b[0m \u001b[0mdata\u001b[0m\u001b[0;34m=\u001b[0m\u001b[0mdata\u001b[0m\u001b[0;34m,\u001b[0m \u001b[0;34m**\u001b[0m\u001b[0mkwargs\u001b[0m\u001b[0;34m)\u001b[0m\u001b[0;34m]\u001b[0m\u001b[0;34m\u001b[0m\u001b[0;34m\u001b[0m\u001b[0m\n\u001b[0m\u001b[1;32m   1663\u001b[0m         \u001b[0;32mfor\u001b[0m \u001b[0mline\u001b[0m \u001b[0;32min\u001b[0m \u001b[0mlines\u001b[0m\u001b[0;34m:\u001b[0m\u001b[0;34m\u001b[0m\u001b[0;34m\u001b[0m\u001b[0m\n\u001b[1;32m   1664\u001b[0m             \u001b[0mself\u001b[0m\u001b[0;34m.\u001b[0m\u001b[0madd_line\u001b[0m\u001b[0;34m(\u001b[0m\u001b[0mline\u001b[0m\u001b[0;34m)\u001b[0m\u001b[0;34m\u001b[0m\u001b[0;34m\u001b[0m\u001b[0m\n",
      "\u001b[0;32m~/.local/share/virtualenvs/Python-RIyjAoYI/lib/python3.9/site-packages/matplotlib/axes/_base.py\u001b[0m in \u001b[0;36m__call__\u001b[0;34m(self, data, *args, **kwargs)\u001b[0m\n\u001b[1;32m    309\u001b[0m                 \u001b[0mthis\u001b[0m \u001b[0;34m+=\u001b[0m \u001b[0margs\u001b[0m\u001b[0;34m[\u001b[0m\u001b[0;36m0\u001b[0m\u001b[0;34m]\u001b[0m\u001b[0;34m,\u001b[0m\u001b[0;34m\u001b[0m\u001b[0;34m\u001b[0m\u001b[0m\n\u001b[1;32m    310\u001b[0m                 \u001b[0margs\u001b[0m \u001b[0;34m=\u001b[0m \u001b[0margs\u001b[0m\u001b[0;34m[\u001b[0m\u001b[0;36m1\u001b[0m\u001b[0;34m:\u001b[0m\u001b[0;34m]\u001b[0m\u001b[0;34m\u001b[0m\u001b[0;34m\u001b[0m\u001b[0m\n\u001b[0;32m--> 311\u001b[0;31m             yield from self._plot_args(\n\u001b[0m\u001b[1;32m    312\u001b[0m                 this, kwargs, ambiguous_fmt_datakey=ambiguous_fmt_datakey)\n\u001b[1;32m    313\u001b[0m \u001b[0;34m\u001b[0m\u001b[0m\n",
      "\u001b[0;32m~/.local/share/virtualenvs/Python-RIyjAoYI/lib/python3.9/site-packages/matplotlib/axes/_base.py\u001b[0m in \u001b[0;36m_plot_args\u001b[0;34m(self, tup, kwargs, return_kwargs, ambiguous_fmt_datakey)\u001b[0m\n\u001b[1;32m    502\u001b[0m \u001b[0;34m\u001b[0m\u001b[0m\n\u001b[1;32m    503\u001b[0m         \u001b[0;32mif\u001b[0m \u001b[0mx\u001b[0m\u001b[0;34m.\u001b[0m\u001b[0mshape\u001b[0m\u001b[0;34m[\u001b[0m\u001b[0;36m0\u001b[0m\u001b[0;34m]\u001b[0m \u001b[0;34m!=\u001b[0m \u001b[0my\u001b[0m\u001b[0;34m.\u001b[0m\u001b[0mshape\u001b[0m\u001b[0;34m[\u001b[0m\u001b[0;36m0\u001b[0m\u001b[0;34m]\u001b[0m\u001b[0;34m:\u001b[0m\u001b[0;34m\u001b[0m\u001b[0;34m\u001b[0m\u001b[0m\n\u001b[0;32m--> 504\u001b[0;31m             raise ValueError(f\"x and y must have same first dimension, but \"\n\u001b[0m\u001b[1;32m    505\u001b[0m                              f\"have shapes {x.shape} and {y.shape}\")\n\u001b[1;32m    506\u001b[0m         \u001b[0;32mif\u001b[0m \u001b[0mx\u001b[0m\u001b[0;34m.\u001b[0m\u001b[0mndim\u001b[0m \u001b[0;34m>\u001b[0m \u001b[0;36m2\u001b[0m \u001b[0;32mor\u001b[0m \u001b[0my\u001b[0m\u001b[0;34m.\u001b[0m\u001b[0mndim\u001b[0m \u001b[0;34m>\u001b[0m \u001b[0;36m2\u001b[0m\u001b[0;34m:\u001b[0m\u001b[0;34m\u001b[0m\u001b[0;34m\u001b[0m\u001b[0m\n",
      "\u001b[0;31mValueError\u001b[0m: x and y must have same first dimension, but have shapes (3,) and (1,)"
     ]
    },
    {
     "data": {
      "image/png": "[encoded data removed]",
      "text/plain": [
       "<Figure size 640x480 with 1 Axes>"
      ]
     },
     "metadata": {},
     "output_type": "display_data"
    }
   ],
   "source": [
    "plt.plot(z,x)\n",
    "plt.show()"
   ]
  },
  {
   "cell_type": "markdown",
   "id": "f65a4a62-5326-4ebf-98fa-f615fef248a0",
   "metadata": {
    "tags": []
   },
   "source": [
    "### Des milliers de décimales puissances de 2"
   ]
  },
  {
   "cell_type": "code",
   "execution_count": 53,
   "id": "cae032a9-06e7-415c-b6da-d247e2cca81c",
   "metadata": {},
   "outputs": [
    {
     "ename": "ValueError",
     "evalue": "invalid literal for int() with base 10: '0000000000000000000000000000000000000000000000000000000000000000000000000000000000000000000000000000000000000000000000000000000000000000000000000000000000000000000000000000000000000000000000000000000",
     "output_type": "error",
     "traceback": [
      "\u001b[0;31m---------------------------------------------------------------------------\u001b[0m",
      "\u001b[0;31mValueError\u001b[0m                                Traceback (most recent call last)",
      "\u001b[0;32m/var/folders/32/9hkmzrf11t38ckpktjnyfsfc0000gn/T/ipykernel_22270/1938539711.py\u001b[0m in \u001b[0;36m<cell line: 2>\u001b[0;34m()\u001b[0m\n\u001b[1;32m      1\u001b[0m \u001b[0mzz\u001b[0m\u001b[0;34m=\u001b[0m\u001b[0;34m[\u001b[0m\u001b[0;36m1024\u001b[0m\u001b[0;34m,\u001b[0m\u001b[0;36m2048\u001b[0m\u001b[0;34m,\u001b[0m\u001b[0;36m4096\u001b[0m\u001b[0;34m,\u001b[0m\u001b[0;36m8192\u001b[0m\u001b[0;34m]\u001b[0m\u001b[0;34m\u001b[0m\u001b[0;34m\u001b[0m\u001b[0m\n\u001b[0;32m----> 2\u001b[0;31m \u001b[0mxx\u001b[0m\u001b[0;34m=\u001b[0m\u001b[0mmesures1\u001b[0m\u001b[0;34m(\u001b[0m\u001b[0mzz\u001b[0m\u001b[0;34m)\u001b[0m\u001b[0;34m\u001b[0m\u001b[0;34m\u001b[0m\u001b[0m\n\u001b[0m",
      "\u001b[0;32m/var/folders/32/9hkmzrf11t38ckpktjnyfsfc0000gn/T/ipykernel_22270/126514608.py\u001b[0m in \u001b[0;36mmesures1\u001b[0;34m(n)\u001b[0m\n\u001b[1;32m      7\u001b[0m         \u001b[0mt\u001b[0m\u001b[0;34m=\u001b[0m\u001b[0mintlisttoint\u001b[0m\u001b[0;34m(\u001b[0m\u001b[0mv\u001b[0m\u001b[0;34m)\u001b[0m\u001b[0;34m\u001b[0m\u001b[0;34m\u001b[0m\u001b[0m\n\u001b[1;32m      8\u001b[0m         \u001b[0mavant\u001b[0m\u001b[0;34m=\u001b[0m\u001b[0mtime\u001b[0m\u001b[0;34m.\u001b[0m\u001b[0mtime\u001b[0m\u001b[0;34m(\u001b[0m\u001b[0;34m)\u001b[0m\u001b[0;34m\u001b[0m\u001b[0;34m\u001b[0m\u001b[0m\n\u001b[0;32m----> 9\u001b[0;31m         \u001b[0mmultK_int\u001b[0m\u001b[0;34m(\u001b[0m\u001b[0mr\u001b[0m\u001b[0;34m,\u001b[0m\u001b[0mt\u001b[0m\u001b[0;34m)\u001b[0m\u001b[0;34m\u001b[0m\u001b[0;34m\u001b[0m\u001b[0m\n\u001b[0m\u001b[1;32m     10\u001b[0m         \u001b[0mapres\u001b[0m\u001b[0;34m=\u001b[0m\u001b[0mtime\u001b[0m\u001b[0;34m.\u001b[0m\u001b[0mtime\u001b[0m\u001b[0;34m(\u001b[0m\u001b[0;34m)\u001b[0m\u001b[0;34m\u001b[0m\u001b[0;34m\u001b[0m\u001b[0m\n\u001b[1;32m     11\u001b[0m         \u001b[0mtemps\u001b[0m\u001b[0;34m=\u001b[0m\u001b[0mapres\u001b[0m\u001b[0;34m-\u001b[0m\u001b[0mavant\u001b[0m\u001b[0;34m\u001b[0m\u001b[0;34m\u001b[0m\u001b[0m\n",
      "\u001b[0;32m/var/folders/32/9hkmzrf11t38ckpktjnyfsfc0000gn/T/ipykernel_22270/1895612078.py\u001b[0m in \u001b[0;36mmultK_int\u001b[0;34m(u, v)\u001b[0m\n\u001b[1;32m     13\u001b[0m     \u001b[0ms2\u001b[0m\u001b[0;34m=\u001b[0m\u001b[0ms\u001b[0m\u001b[0;34m*\u001b[0m\u001b[0;36m2\u001b[0m\u001b[0;34m\u001b[0m\u001b[0;34m\u001b[0m\u001b[0m\n\u001b[1;32m     14\u001b[0m     \u001b[0ma\u001b[0m\u001b[0;34m=\u001b[0m\u001b[0mint\u001b[0m\u001b[0;34m(\u001b[0m\u001b[0mx\u001b[0m\u001b[0;34m[\u001b[0m\u001b[0;34m:\u001b[0m\u001b[0mj\u001b[0m\u001b[0;34m]\u001b[0m\u001b[0;34m)\u001b[0m\u001b[0;34m\u001b[0m\u001b[0;34m\u001b[0m\u001b[0m\n\u001b[0;32m---> 15\u001b[0;31m     \u001b[0mb\u001b[0m\u001b[0;34m=\u001b[0m\u001b[0mint\u001b[0m\u001b[0;34m(\u001b[0m\u001b[0mx\u001b[0m\u001b[0;34m[\u001b[0m\u001b[0mj\u001b[0m\u001b[0;34m:\u001b[0m\u001b[0;34m]\u001b[0m\u001b[0;34m)\u001b[0m\u001b[0;34m\u001b[0m\u001b[0;34m\u001b[0m\u001b[0m\n\u001b[0m\u001b[1;32m     16\u001b[0m     \u001b[0mc\u001b[0m\u001b[0;34m=\u001b[0m\u001b[0mint\u001b[0m\u001b[0;34m(\u001b[0m\u001b[0my\u001b[0m\u001b[0;34m[\u001b[0m\u001b[0;34m:\u001b[0m\u001b[0mj\u001b[0m\u001b[0;34m]\u001b[0m\u001b[0;34m)\u001b[0m\u001b[0;34m\u001b[0m\u001b[0;34m\u001b[0m\u001b[0m\n\u001b[1;32m     17\u001b[0m     \u001b[0md\u001b[0m\u001b[0;34m=\u001b[0m\u001b[0mint\u001b[0m\u001b[0;34m(\u001b[0m\u001b[0my\u001b[0m\u001b[0;34m[\u001b[0m\u001b[0mj\u001b[0m\u001b[0;34m:\u001b[0m\u001b[0;34m]\u001b[0m\u001b[0;34m)\u001b[0m\u001b[0;34m\u001b[0m\u001b[0;34m\u001b[0m\u001b[0m\n",
      "\u001b[0;31mValueError\u001b[0m: invalid literal for int() with base 10: '0000000000000000000000000000000000000000000000000000000000000000000000000000000000000000000000000000000000000000000000000000000000000000000000000000000000000000000000000000000000000000000000000000000"
     ]
    }
   ],
   "source": [
    "zz=[1024,2048,4096,8192]\n",
    "xx=mesures1(zz)"
   ]
  },
  {
   "cell_type": "code",
   "execution_count": 54,
   "id": "e41ef748-754a-449d-890f-cb9c4adb43d8",
   "metadata": {
    "tags": []
   },
   "outputs": [
    {
     "ename": "NameError",
     "evalue": "name 'xx' is not defined",
     "output_type": "error",
     "traceback": [
      "\u001b[0;31m---------------------------------------------------------------------------\u001b[0m",
      "\u001b[0;31mNameError\u001b[0m                                 Traceback (most recent call last)",
      "\u001b[0;32m/var/folders/32/9hkmzrf11t38ckpktjnyfsfc0000gn/T/ipykernel_22270/1789999629.py\u001b[0m in \u001b[0;36m<cell line: 1>\u001b[0;34m()\u001b[0m\n\u001b[0;32m----> 1\u001b[0;31m \u001b[0mplt\u001b[0m\u001b[0;34m.\u001b[0m\u001b[0mplot\u001b[0m\u001b[0;34m(\u001b[0m\u001b[0mzz\u001b[0m\u001b[0;34m,\u001b[0m\u001b[0mxx\u001b[0m\u001b[0;34m)\u001b[0m\u001b[0;34m\u001b[0m\u001b[0;34m\u001b[0m\u001b[0m\n\u001b[0m\u001b[1;32m      2\u001b[0m \u001b[0mplt\u001b[0m\u001b[0;34m.\u001b[0m\u001b[0mshow\u001b[0m\u001b[0;34m(\u001b[0m\u001b[0;34m)\u001b[0m\u001b[0;34m\u001b[0m\u001b[0;34m\u001b[0m\u001b[0m\n",
      "\u001b[0;31mNameError\u001b[0m: name 'xx' is not defined"
     ]
    }
   ],
   "source": [
    "plt.plot(zz,xx)\n",
    "plt.show()"
   ]
  },
  {
   "cell_type": "markdown",
   "id": "8da8cbed-986a-47b2-bc2c-b35be12ace9d",
   "metadata": {},
   "source": [
    "## Conclusion intermédiaire\n",
    "\n",
    "Que conclure ?"
   ]
  },
  {
   "cell_type": "markdown",
   "id": "b3261f40",
   "metadata": {},
   "source": [
    "En regardant les resulats sur le figures on peut conclure que Karatsuba est lent pour les dizaines de decimales par rapport a l'algorithme naive.Et la complexité augmente avec la taille choisie puisque on a une complexité de O(n^log2(3))."
   ]
  },
  {
   "cell_type": "markdown",
   "id": "ecec99f2-006b-4c86-8c6c-75dfc0949e93",
   "metadata": {},
   "source": [
    "## Avec GMP\n",
    "\n",
    "[`gmpy2`](https://gmpy2.readthedocs.io/en/latest/index.html) permet de travailler avec [GMP](http://gmp.org) et de manipuler des entiers arbitrairement longs de type `mpz`."
   ]
  },
  {
   "cell_type": "markdown",
   "id": "29df5f0f-42f2-428c-901e-ac94e51e5acc",
   "metadata": {},
   "source": [
    "### `gmpy2.mul()`\n",
    "\n",
    "On peut raisonnablement supposer qu'un Karatsuba (bien optimisé) est derrière `gmpy2.mul()`, la multiplication de `gmpy2`.\n",
    "Regardons-ça ...\n",
    "\n",
    "On se fait la main avec quelques utilisations de cette fonction et les vérifications qui conviennent."
   ]
  },
  {
   "cell_type": "code",
   "execution_count": 55,
   "id": "2fbe5b67-36e7-4773-b45c-68a1ea590547",
   "metadata": {},
   "outputs": [
    {
     "data": {
      "text/plain": [
       "mpz(64238020)"
      ]
     },
     "execution_count": 55,
     "metadata": {},
     "output_type": "execute_result"
    }
   ],
   "source": [
    "mul(14455,4444)"
   ]
  },
  {
   "cell_type": "markdown",
   "id": "30782ae5-c744-44ef-a639-ee6f873ef16c",
   "metadata": {},
   "source": [
    "### Timings\n",
    "\n",
    "On mesure son efficacité."
   ]
  },
  {
   "cell_type": "code",
   "execution_count": 56,
   "id": "fb32dc13-7649-4966-bec0-34807f8f5bcc",
   "metadata": {},
   "outputs": [],
   "source": [
    "def mesures2(n):\n",
    "    tab=[]\n",
    "    for i in n:\n",
    "        u=[randint(0,9) for i in range(i)]\n",
    "        v=[randint(0,9) for i in range(i)]\n",
    "        r=intlisttoint(u)\n",
    "        t=intlisttoint(v)\n",
    "        avant=time.time()\n",
    "        mul(r,t)\n",
    "        apres=time.time()\n",
    "        temps=apres-avant\n",
    "        tab.append(temps)\n",
    "    return tab"
   ]
  },
  {
   "cell_type": "code",
   "execution_count": 57,
   "id": "c452a9d8",
   "metadata": {},
   "outputs": [
    {
     "ename": "TypeError",
     "evalue": "mul() argument type not supported",
     "output_type": "error",
     "traceback": [
      "\u001b[0;31m---------------------------------------------------------------------------\u001b[0m",
      "\u001b[0;31mTypeError\u001b[0m                                 Traceback (most recent call last)",
      "\u001b[0;32m/var/folders/32/9hkmzrf11t38ckpktjnyfsfc0000gn/T/ipykernel_22270/1701613617.py\u001b[0m in \u001b[0;36m<cell line: 2>\u001b[0;34m()\u001b[0m\n\u001b[1;32m      1\u001b[0m \u001b[0mzzz\u001b[0m\u001b[0;34m=\u001b[0m\u001b[0;34m[\u001b[0m\u001b[0;36m1024\u001b[0m\u001b[0;34m,\u001b[0m\u001b[0;36m2048\u001b[0m\u001b[0;34m,\u001b[0m\u001b[0;36m4096\u001b[0m\u001b[0;34m,\u001b[0m\u001b[0;36m8192\u001b[0m\u001b[0;34m]\u001b[0m\u001b[0;34m\u001b[0m\u001b[0;34m\u001b[0m\u001b[0m\n\u001b[0;32m----> 2\u001b[0;31m \u001b[0mxxx\u001b[0m\u001b[0;34m=\u001b[0m\u001b[0mmesures2\u001b[0m\u001b[0;34m(\u001b[0m\u001b[0mzzz\u001b[0m\u001b[0;34m)\u001b[0m\u001b[0;34m\u001b[0m\u001b[0;34m\u001b[0m\u001b[0m\n\u001b[0m",
      "\u001b[0;32m/var/folders/32/9hkmzrf11t38ckpktjnyfsfc0000gn/T/ipykernel_22270/2824539240.py\u001b[0m in \u001b[0;36mmesures2\u001b[0;34m(n)\u001b[0m\n\u001b[1;32m      7\u001b[0m         \u001b[0mt\u001b[0m\u001b[0;34m=\u001b[0m\u001b[0mintlisttoint\u001b[0m\u001b[0;34m(\u001b[0m\u001b[0mv\u001b[0m\u001b[0;34m)\u001b[0m\u001b[0;34m\u001b[0m\u001b[0;34m\u001b[0m\u001b[0m\n\u001b[1;32m      8\u001b[0m         \u001b[0mavant\u001b[0m\u001b[0;34m=\u001b[0m\u001b[0mtime\u001b[0m\u001b[0;34m.\u001b[0m\u001b[0mtime\u001b[0m\u001b[0;34m(\u001b[0m\u001b[0;34m)\u001b[0m\u001b[0;34m\u001b[0m\u001b[0;34m\u001b[0m\u001b[0m\n\u001b[0;32m----> 9\u001b[0;31m         \u001b[0mmul\u001b[0m\u001b[0;34m(\u001b[0m\u001b[0mr\u001b[0m\u001b[0;34m,\u001b[0m\u001b[0mt\u001b[0m\u001b[0;34m)\u001b[0m\u001b[0;34m\u001b[0m\u001b[0;34m\u001b[0m\u001b[0m\n\u001b[0m\u001b[1;32m     10\u001b[0m         \u001b[0mapres\u001b[0m\u001b[0;34m=\u001b[0m\u001b[0mtime\u001b[0m\u001b[0;34m.\u001b[0m\u001b[0mtime\u001b[0m\u001b[0;34m(\u001b[0m\u001b[0;34m)\u001b[0m\u001b[0;34m\u001b[0m\u001b[0;34m\u001b[0m\u001b[0m\n\u001b[1;32m     11\u001b[0m         \u001b[0mtemps\u001b[0m\u001b[0;34m=\u001b[0m\u001b[0mapres\u001b[0m\u001b[0;34m-\u001b[0m\u001b[0mavant\u001b[0m\u001b[0;34m\u001b[0m\u001b[0;34m\u001b[0m\u001b[0m\n",
      "\u001b[0;31mTypeError\u001b[0m: mul() argument type not supported"
     ]
    }
   ],
   "source": [
    "zzz=[1024,2048,4096,8192]\n",
    "xxx=mesures2(zzz)"
   ]
  },
  {
   "cell_type": "markdown",
   "id": "a4a0b4c4-85e3-4f63-9227-12118dc36b94",
   "metadata": {},
   "source": [
    "### Tracés\n",
    "\n",
    "On traces ces résultats."
   ]
  },
  {
   "cell_type": "code",
   "execution_count": 58,
   "id": "c34dc04c-b2d9-424e-9ca6-ee66ed08286b",
   "metadata": {},
   "outputs": [
    {
     "ename": "NameError",
     "evalue": "name 'xxx' is not defined",
     "output_type": "error",
     "traceback": [
      "\u001b[0;31m---------------------------------------------------------------------------\u001b[0m",
      "\u001b[0;31mNameError\u001b[0m                                 Traceback (most recent call last)",
      "\u001b[0;32m/var/folders/32/9hkmzrf11t38ckpktjnyfsfc0000gn/T/ipykernel_22270/1906749516.py\u001b[0m in \u001b[0;36m<cell line: 1>\u001b[0;34m()\u001b[0m\n\u001b[0;32m----> 1\u001b[0;31m \u001b[0mplt\u001b[0m\u001b[0;34m.\u001b[0m\u001b[0mplot\u001b[0m\u001b[0;34m(\u001b[0m\u001b[0mzzz\u001b[0m\u001b[0;34m,\u001b[0m\u001b[0mxxx\u001b[0m\u001b[0;34m)\u001b[0m\u001b[0;34m\u001b[0m\u001b[0;34m\u001b[0m\u001b[0m\n\u001b[0m\u001b[1;32m      2\u001b[0m \u001b[0mplt\u001b[0m\u001b[0;34m.\u001b[0m\u001b[0mshow\u001b[0m\u001b[0;34m(\u001b[0m\u001b[0;34m)\u001b[0m\u001b[0;34m\u001b[0m\u001b[0;34m\u001b[0m\u001b[0m\n",
      "\u001b[0;31mNameError\u001b[0m: name 'xxx' is not defined"
     ]
    }
   ],
   "source": [
    "plt.plot(zzz,xxx)\n",
    "plt.show()"
   ]
  },
  {
   "cell_type": "markdown",
   "id": "e8d6c5b2-cd39-480a-ab21-90cb6b522266",
   "metadata": {},
   "source": [
    "### Observations et conclusion\n"
   ]
  },
  {
   "cell_type": "markdown",
   "id": "0970d955",
   "metadata": {},
   "source": [
    "En conclusion nous pourrons dire que c'est un bon Algorithme de multiplication.Puisque la complexité est presque la moité de la complexité de l'algorithme de karatsuba pour les entiers avec des dizaines de decimales."
   ]
  },
  {
   "cell_type": "markdown",
   "id": "281d287f-9e48-44d8-a631-46bffb2f5848",
   "metadata": {
    "tags": []
   },
   "source": [
    "## Améliorons notre solution\n",
    "\n",
    "Il y a 2 pistes à explorer (au moins) pour tenter d'améliorer l'efficacité de notre solution -- sans espérer toutefois rivaliser avec `gmpy2.mul()`.\n",
    "\n",
    "1. Déterminer (expérimentalement) un seuil d'efficacité de la récursion de Karatsuba et l'exploiter pour une version plus efficace de ce produit. \n",
    "    - Ce seuil dépend de notre représentation des \"grands entiers\" et de notre environnement de calcul.\n",
    "2. Modifier la représentation actuelle des \"grands entiers\" et les traitements associés.\n",
    "    - Cette modification peut être motivée par des contraintes de langage ou par des aspects algorithmiques.\n",
    "    Nous détaillerons le premier cas le moment venu. Le second cas (choix d'une base de représentation adaptée au format `int` de l'environnement d'exécution) ne sera pas traité dans cette étude. "
   ]
  },
  {
   "cell_type": "markdown",
   "id": "5531909a-19c1-460c-9091-d1fbb825cd84",
   "metadata": {},
   "source": [
    "### Intégrer le seuil d'efficacité de Karatsuba"
   ]
  },
  {
   "cell_type": "markdown",
   "id": "eb154a51-3264-4a80-ba76-9d50a40bc846",
   "metadata": {},
   "source": [
    "Les mesures précédentes permettent d'identifier ce seuil. \n",
    "Ecrire une nouvelle version `multKopt` de la multiplication de Karastuba avec seuil.\n",
    "Effectuer rapidement (avec les tracés adaptés)  une analyse expérimentale de son efficacité.\n"
   ]
  },
  {
   "cell_type": "code",
   "execution_count": 59,
   "id": "ecb27f7a-6b4d-4584-86a6-301ce8ae6029",
   "metadata": {},
   "outputs": [],
   "source": [
    "def multKopt(u: list[int], v: list[int]) -> list[int]:\n",
    "    x=intlisttoint0(u)\n",
    "    y=intlisttoint0(v)\n",
    "    seuil=10\n",
    "    if len(u)>len(v) :\n",
    "        u,v=v,u\n",
    "    if len(u)<=seuil:\n",
    "        return mult(inttointlist(x),inttointlist(y))\n",
    "   \n",
    "    else:\n",
    "        n=len(u)\n",
    "        j=n//2\n",
    "        s=n-j\n",
    "        s2=s*2\n",
    "        a=x//(10**j)\n",
    "        b=x%(10**j)\n",
    "        c=y//(10**j)\n",
    "        d=y%(10**j)\n",
    "        ac=multK0(a,c)\n",
    "        bd=multK0(b,d)\n",
    "        aplus=multK0(a+b,c+d)\n",
    "        A=int(decaler2(str(ac),s2,False))\n",
    "        B=int(decaler2(str(aplus-ac-bd),s,False))\n",
    "    \n",
    "    return inttointlist(A+B+bd)\n",
    "    "
   ]
  },
  {
   "cell_type": "code",
   "execution_count": 60,
   "id": "de7d622f-2b04-4f12-960d-c106639cd284",
   "metadata": {},
   "outputs": [
    {
     "data": {
      "text/plain": [
       "[5, 5, 3, 5]"
      ]
     },
     "execution_count": 60,
     "metadata": {},
     "output_type": "execute_result"
    }
   ],
   "source": [
    "multKopt([1,2,3],[4,5])"
   ]
  },
  {
   "cell_type": "markdown",
   "id": "1278a7c4-f392-4501-98b4-f62596c36499",
   "metadata": {
    "tags": []
   },
   "source": [
    "### Une première autre représentation de grands entiers positifs\n",
    "\n",
    "\n",
    "On va inverser la représentation précédente : un entier positif est maintenant représenté par la liste de ces chiffres (en base 10) stockés dans une liste par ordre **décroissant de son exposant** en notation de position.\n",
    "\n",
    "Maintenant le chiffre de plus faible exposant est **en début de la liste** qui stocke ses chiffres.\n",
    "\n",
    "Ainsi $123 = 1 + 2 \\times 10 + 3 \\times 10^2$  sera représenté par la liste `[3, 2, 1]`. \n",
    "\n",
    "On espère que les manipulations de liste qui impactent les chiffres les plus à droite seront moins pénalisantes que si elles étaient effectuées en début de liste."
   ]
  },
  {
   "cell_type": "markdown",
   "id": "86481dda-7bb7-47f5-aaad-21859874eb80",
   "metadata": {
    "tags": []
   },
   "source": [
    "- On va reprendre les traitements précédents pour les adapter cette nouvelle représentation.\n",
    "- On se limitera aux fonctions uniquement nécessaires à la multiplication de Karatsuba. \n",
    "- Ne pas hésiter à recopier les cellules précédentes et effectuer les modifications pour cette nouvelle représentation de ces différentes fonctions."
   ]
  },
  {
   "cell_type": "markdown",
   "id": "d13e474f-e240-425a-809f-1e93207de66d",
   "metadata": {},
   "source": [
    "### Les nouvelles versions \n",
    "\n",
    "Lister et coder les fonctions nécessaires à la multiplication de Karatsuba.\n",
    "\n",
    "**Notation :** les identifiants de ces fonctions pour la nouvelle représentation seront les précédents suffixées par `2`, _eg._ `inttointlist2()`, ....\n"
   ]
  },
  {
   "cell_type": "code",
   "execution_count": 61,
   "id": "10efe02c-2c27-49ac-bf22-c3a791354b1e",
   "metadata": {},
   "outputs": [],
   "source": [
    "def inttointlist2(n):\n",
    "    A=str(n)\n",
    "    tab=[]\n",
    "    for i in reversed(A):\n",
    "        tab.append(int(i))\n",
    "    return tab\n",
    "        "
   ]
  },
  {
   "cell_type": "code",
   "execution_count": 62,
   "id": "78ed24c9",
   "metadata": {},
   "outputs": [
    {
     "data": {
      "text/plain": [
       "421"
      ]
     },
     "execution_count": 62,
     "metadata": {},
     "output_type": "execute_result"
    }
   ],
   "source": [
    "intlisttoint0(inttointlist2(124))\n"
   ]
  },
  {
   "cell_type": "markdown",
   "id": "147277a5-b72f-4833-9364-e9624bdaa17c",
   "metadata": {},
   "source": [
    "### `multK2` : algorithme de Karatsuba, autre version\n",
    "\n",
    "On peut maintenant écrire cette nouvelle version."
   ]
  },
  {
   "cell_type": "code",
   "execution_count": 63,
   "id": "bf0bd973-fe0c-4112-b1e4-aae038a96990",
   "metadata": {},
   "outputs": [],
   "source": [
    "def multK2(u: list[int], v: list[int]) -> list[int]:\n",
    "    f=u\n",
    "    g=v\n",
    "    x=intlisttoint0(u)\n",
    "    y=intlisttoint0(v)\n",
    "    seuil=2\n",
    "    if len(u)<len(v) :\n",
    "        u,v=v,u\n",
    "    if len(u)<=seuil:\n",
    "        return mult(inttointlist(x),inttointlist(y))\n",
    "   \n",
    "    else:\n",
    "        n=len(f)\n",
    "        j=n//2\n",
    "        s=n-j\n",
    "        s2=s*2\n",
    "        a=f[:j]\n",
    "        b=f[j:]\n",
    "        c=g[:j]\n",
    "        d=g[j:]\n",
    "        ac=multK2(a,c)\n",
    "        bd=multK2(b,d)\n",
    "        aplus=multK2(a+b,c+d)\n",
    "        z=intlisttoint0(ac)\n",
    "        w=intlisttoint0(bd)\n",
    "        q=intlisttoint0(aplus)\n",
    "        A=decaler(ac,s2)\n",
    "        B=decaler(inttointlist(q-z-w),s)\n",
    "        q1=intlisttoint0(A)\n",
    "        q2=intlisttoint0(B)\n",
    "        q3=intlisttoint0(bd)\n",
    "        \n",
    "    \n",
    "    return inttointlist(q1+q2+q3)\n",
    "    "
   ]
  },
  {
   "cell_type": "code",
   "execution_count": 64,
   "id": "cf49406e-13e5-49a5-854e-cae421564650",
   "metadata": {},
   "outputs": [
    {
     "ename": "RecursionError",
     "evalue": "maximum recursion depth exceeded while getting the str of an object",
     "output_type": "error",
     "traceback": [
      "\u001b[0;31m---------------------------------------------------------------------------\u001b[0m",
      "\u001b[0;31mRecursionError\u001b[0m                            Traceback (most recent call last)",
      "\u001b[0;32m/var/folders/32/9hkmzrf11t38ckpktjnyfsfc0000gn/T/ipykernel_22270/40652001.py\u001b[0m in \u001b[0;36m<cell line: 1>\u001b[0;34m()\u001b[0m\n\u001b[0;32m----> 1\u001b[0;31m \u001b[0;32massert\u001b[0m \u001b[0mmultK2\u001b[0m\u001b[0;34m(\u001b[0m\u001b[0;34m[\u001b[0m\u001b[0;36m1\u001b[0m\u001b[0;34m]\u001b[0m\u001b[0;34m,\u001b[0m \u001b[0;34m[\u001b[0m\u001b[0;36m5\u001b[0m\u001b[0;34m,\u001b[0m\u001b[0;36m6\u001b[0m\u001b[0;34m,\u001b[0m\u001b[0;36m7\u001b[0m\u001b[0;34m]\u001b[0m\u001b[0;34m)\u001b[0m \u001b[0;34m==\u001b[0m \u001b[0minttointlist2\u001b[0m\u001b[0;34m(\u001b[0m\u001b[0;36m765\u001b[0m\u001b[0;34m)\u001b[0m\u001b[0;34m\u001b[0m\u001b[0;34m\u001b[0m\u001b[0m\n\u001b[0m\u001b[1;32m      2\u001b[0m \u001b[0;32massert\u001b[0m \u001b[0mmultK2\u001b[0m\u001b[0;34m(\u001b[0m\u001b[0;34m[\u001b[0m\u001b[0;36m5\u001b[0m\u001b[0;34m,\u001b[0m\u001b[0;36m6\u001b[0m\u001b[0;34m,\u001b[0m\u001b[0;36m7\u001b[0m\u001b[0;34m]\u001b[0m\u001b[0;34m,\u001b[0m \u001b[0;34m[\u001b[0m\u001b[0;36m1\u001b[0m\u001b[0;34m]\u001b[0m\u001b[0;34m)\u001b[0m \u001b[0;34m==\u001b[0m \u001b[0minttointlist2\u001b[0m\u001b[0;34m(\u001b[0m\u001b[0;36m765\u001b[0m\u001b[0;34m)\u001b[0m\u001b[0;34m\u001b[0m\u001b[0;34m\u001b[0m\u001b[0m\n\u001b[1;32m      3\u001b[0m \u001b[0;32massert\u001b[0m \u001b[0mmultK2\u001b[0m\u001b[0;34m(\u001b[0m\u001b[0;34m[\u001b[0m\u001b[0;36m2\u001b[0m\u001b[0;34m,\u001b[0m\u001b[0;36m2\u001b[0m\u001b[0;34m]\u001b[0m\u001b[0;34m,\u001b[0m \u001b[0;34m[\u001b[0m\u001b[0;36m1\u001b[0m\u001b[0;34m,\u001b[0m\u001b[0;36m1\u001b[0m\u001b[0;34m]\u001b[0m\u001b[0;34m)\u001b[0m \u001b[0;34m==\u001b[0m \u001b[0minttointlist2\u001b[0m\u001b[0;34m(\u001b[0m\u001b[0;36m22\u001b[0m \u001b[0;34m*\u001b[0m \u001b[0;36m11\u001b[0m\u001b[0;34m)\u001b[0m\u001b[0;34m\u001b[0m\u001b[0;34m\u001b[0m\u001b[0m\n\u001b[1;32m      4\u001b[0m \u001b[0;31m#assert multK2([6,6,6], [1,1]) == inttointlist2(666 * 11)\u001b[0m\u001b[0;34m\u001b[0m\u001b[0;34m\u001b[0m\u001b[0;34m\u001b[0m\u001b[0m\n",
      "\u001b[0;32m/var/folders/32/9hkmzrf11t38ckpktjnyfsfc0000gn/T/ipykernel_22270/3552321941.py\u001b[0m in \u001b[0;36mmultK2\u001b[0;34m(u, v)\u001b[0m\n\u001b[1;32m     20\u001b[0m         \u001b[0md\u001b[0m\u001b[0;34m=\u001b[0m\u001b[0mg\u001b[0m\u001b[0;34m[\u001b[0m\u001b[0mj\u001b[0m\u001b[0;34m:\u001b[0m\u001b[0;34m]\u001b[0m\u001b[0;34m\u001b[0m\u001b[0;34m\u001b[0m\u001b[0m\n\u001b[1;32m     21\u001b[0m         \u001b[0mac\u001b[0m\u001b[0;34m=\u001b[0m\u001b[0mmultK2\u001b[0m\u001b[0;34m(\u001b[0m\u001b[0ma\u001b[0m\u001b[0;34m,\u001b[0m\u001b[0mc\u001b[0m\u001b[0;34m)\u001b[0m\u001b[0;34m\u001b[0m\u001b[0;34m\u001b[0m\u001b[0m\n\u001b[0;32m---> 22\u001b[0;31m         \u001b[0mbd\u001b[0m\u001b[0;34m=\u001b[0m\u001b[0mmultK2\u001b[0m\u001b[0;34m(\u001b[0m\u001b[0mb\u001b[0m\u001b[0;34m,\u001b[0m\u001b[0md\u001b[0m\u001b[0;34m)\u001b[0m\u001b[0;34m\u001b[0m\u001b[0;34m\u001b[0m\u001b[0m\n\u001b[0m\u001b[1;32m     23\u001b[0m         \u001b[0maplus\u001b[0m\u001b[0;34m=\u001b[0m\u001b[0mmultK2\u001b[0m\u001b[0;34m(\u001b[0m\u001b[0ma\u001b[0m\u001b[0;34m+\u001b[0m\u001b[0mb\u001b[0m\u001b[0;34m,\u001b[0m\u001b[0mc\u001b[0m\u001b[0;34m+\u001b[0m\u001b[0md\u001b[0m\u001b[0;34m)\u001b[0m\u001b[0;34m\u001b[0m\u001b[0;34m\u001b[0m\u001b[0m\n\u001b[1;32m     24\u001b[0m         \u001b[0mz\u001b[0m\u001b[0;34m=\u001b[0m\u001b[0mintlisttoint0\u001b[0m\u001b[0;34m(\u001b[0m\u001b[0mac\u001b[0m\u001b[0;34m)\u001b[0m\u001b[0;34m\u001b[0m\u001b[0;34m\u001b[0m\u001b[0m\n",
      "... last 1 frames repeated, from the frame below ...\n",
      "\u001b[0;32m/var/folders/32/9hkmzrf11t38ckpktjnyfsfc0000gn/T/ipykernel_22270/3552321941.py\u001b[0m in \u001b[0;36mmultK2\u001b[0;34m(u, v)\u001b[0m\n\u001b[1;32m     20\u001b[0m         \u001b[0md\u001b[0m\u001b[0;34m=\u001b[0m\u001b[0mg\u001b[0m\u001b[0;34m[\u001b[0m\u001b[0mj\u001b[0m\u001b[0;34m:\u001b[0m\u001b[0;34m]\u001b[0m\u001b[0;34m\u001b[0m\u001b[0;34m\u001b[0m\u001b[0m\n\u001b[1;32m     21\u001b[0m         \u001b[0mac\u001b[0m\u001b[0;34m=\u001b[0m\u001b[0mmultK2\u001b[0m\u001b[0;34m(\u001b[0m\u001b[0ma\u001b[0m\u001b[0;34m,\u001b[0m\u001b[0mc\u001b[0m\u001b[0;34m)\u001b[0m\u001b[0;34m\u001b[0m\u001b[0;34m\u001b[0m\u001b[0m\n\u001b[0;32m---> 22\u001b[0;31m         \u001b[0mbd\u001b[0m\u001b[0;34m=\u001b[0m\u001b[0mmultK2\u001b[0m\u001b[0;34m(\u001b[0m\u001b[0mb\u001b[0m\u001b[0;34m,\u001b[0m\u001b[0md\u001b[0m\u001b[0;34m)\u001b[0m\u001b[0;34m\u001b[0m\u001b[0;34m\u001b[0m\u001b[0m\n\u001b[0m\u001b[1;32m     23\u001b[0m         \u001b[0maplus\u001b[0m\u001b[0;34m=\u001b[0m\u001b[0mmultK2\u001b[0m\u001b[0;34m(\u001b[0m\u001b[0ma\u001b[0m\u001b[0;34m+\u001b[0m\u001b[0mb\u001b[0m\u001b[0;34m,\u001b[0m\u001b[0mc\u001b[0m\u001b[0;34m+\u001b[0m\u001b[0md\u001b[0m\u001b[0;34m)\u001b[0m\u001b[0;34m\u001b[0m\u001b[0;34m\u001b[0m\u001b[0m\n\u001b[1;32m     24\u001b[0m         \u001b[0mz\u001b[0m\u001b[0;34m=\u001b[0m\u001b[0mintlisttoint0\u001b[0m\u001b[0;34m(\u001b[0m\u001b[0mac\u001b[0m\u001b[0;34m)\u001b[0m\u001b[0;34m\u001b[0m\u001b[0;34m\u001b[0m\u001b[0m\n",
      "\u001b[0;31mRecursionError\u001b[0m: maximum recursion depth exceeded while getting the str of an object"
     ]
    }
   ],
   "source": [
    "assert multK2([1], [5,6,7]) == inttointlist2(765)\n",
    "assert multK2([5,6,7], [1]) == inttointlist2(765)\n",
    "assert multK2([2,2], [1,1]) == inttointlist2(22 * 11)\n",
    "#assert multK2([6,6,6], [1,1]) == inttointlist2(666 * 11)\n"
   ]
  },
  {
   "cell_type": "markdown",
   "id": "c5485a8b-0cd0-41fb-8635-4f27204d3c32",
   "metadata": {
    "tags": []
   },
   "source": [
    "### Timings et tracés\n",
    "\n",
    "On effectue les mesures d'efficacité de cette nouvelle version et les tracés correspondants comme précédemment."
   ]
  },
  {
   "cell_type": "markdown",
   "id": "022a9c1d-2553-4193-ba9a-1c76367e667f",
   "metadata": {
    "tags": []
   },
   "source": [
    "#### Plusieurs centaines de décimales  "
   ]
  },
  {
   "cell_type": "code",
   "execution_count": null,
   "id": "00836efb-6668-4386-845e-3d8d80d6a6bf",
   "metadata": {
    "tags": []
   },
   "outputs": [],
   "source": [
    "# Timings et tracés\n",
    "pass"
   ]
  },
  {
   "cell_type": "markdown",
   "id": "37009b24-a094-4e14-9498-11991fe61144",
   "metadata": {
    "tags": []
   },
   "source": [
    "#### Plusieurs milliers de décimales puissances de 2"
   ]
  },
  {
   "cell_type": "code",
   "execution_count": null,
   "id": "9c663838-6729-4c8d-8e84-b5412f82879e",
   "metadata": {},
   "outputs": [],
   "source": [
    "# Timings et tracés\n",
    "pass"
   ]
  },
  {
   "cell_type": "markdown",
   "id": "a0bf4d6e-9dc3-4416-b7a1-5a02e65bb64d",
   "metadata": {},
   "source": [
    "#### Prise en compte du seuil\n",
    "\n",
    "Si les mesures précédentes, le justifie proposer une dernière version `multK2opt()` qui exploite le seuil d'efficacité de la récursion de Karatsuba.\n"
   ]
  },
  {
   "cell_type": "code",
   "execution_count": null,
   "id": "9d412030-b943-4f77-a721-53b69eee467b",
   "metadata": {
    "tags": []
   },
   "outputs": [],
   "source": [
    "def multK2opt(u: list[int], v: list[int]) -> list[int]:\n",
    "    f=u\n",
    "    g=v\n",
    "    x=intlisttoint0(u)\n",
    "    y=intlisttoint0(v)\n",
    "    seuil=2\n",
    "    if len(u)>len(v) :\n",
    "        u,v=v,u\n",
    "    if len(u)<=seuil:\n",
    "        return mult(inttointlist(x),inttointlist(y))\n",
    "   \n",
    "    else:\n",
    "        n=len(f)\n",
    "        j=n//2\n",
    "        s=n-j\n",
    "        s2=s*2\n",
    "        a=f[:j]\n",
    "        b=f[j:]\n",
    "        c=g[:j]\n",
    "        d=g[j:]\n",
    "        ac=multK2opt(a,c)\n",
    "        bd=multK2opt(b,d)\n",
    "        aplus=multK2opt(a+b,c+d)\n",
    "        z=intlisttoint0(ac)\n",
    "        w=intlisttoint0(bd)\n",
    "        q=intlisttoint0(aplus)\n",
    "        A=decaler(ac,s2)\n",
    "        B=decaler(inttointlist(q-z-w),s)\n",
    "        q1=intlisttoint0(A)\n",
    "        q2=intlisttoint0(B)\n",
    "        q3=intlisttoint0(bd)\n",
    "        \n",
    "    \n",
    "    return inttointlist(q1+q2+q3)\n",
    "    "
   ]
  },
  {
   "cell_type": "code",
   "execution_count": null,
   "id": "6d3cb64b",
   "metadata": {},
   "outputs": [],
   "source": [
    "multK2opt([1,2,4],[2,1,4])"
   ]
  },
  {
   "cell_type": "markdown",
   "id": "4fdaebfa-4165-4c85-b002-10bf76f12ddb",
   "metadata": {},
   "source": [
    "#### Un dernier tracé pour résumer cette partie"
   ]
  },
  {
   "cell_type": "code",
   "execution_count": null,
   "id": "71e30c55-7733-403b-945f-5034b2e99f3c",
   "metadata": {
    "tags": []
   },
   "outputs": [],
   "source": []
  },
  {
   "cell_type": "markdown",
   "id": "0744a804-f653-416c-89df-e0c7b222c92e",
   "metadata": {},
   "source": [
    "## Conclusion"
   ]
  },
  {
   "cell_type": "markdown",
   "id": "9984021a-1792-4465-8645-5ca3a469a1e3",
   "metadata": {},
   "source": []
  },
  {
   "cell_type": "code",
   "execution_count": null,
   "id": "8fa1e203-33ec-41ed-b296-be3f2e775766",
   "metadata": {},
   "outputs": [],
   "source": []
  },
  {
   "cell_type": "code",
   "execution_count": null,
   "id": "6999878d-b048-42ca-a2af-70df8c7c2c9f",
   "metadata": {},
   "outputs": [],
   "source": []
  }
 ],
 "metadata": {
  "kernelspec": {
   "display_name": "Python 3 (ipykernel)",
   "language": "python",
   "name": "python3"
  },
  "language_info": {
   "codemirror_mode": {
    "name": "ipython",
    "version": 3
   },
   "file_extension": ".py",
   "mimetype": "text/x-python",
   "name": "python",
   "nbconvert_exporter": "python",
   "pygments_lexer": "ipython3",
   "version": "3.9.6"
  }
 },
 "nbformat": 4,
 "nbformat_minor": 5
}
