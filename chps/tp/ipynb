<h1 id="feuille-3">Feuille 3</h1>
<p>L’objectif de ce TP est de <strong>calculer et tracer l’enveloppe
convexe d’un nuage de points du plan</strong>. L’algorithme de ce calcul
utilise des piles. Les notions utiles seront introduites au fur et à
mesure.</p>
<ul>
<li>Ce TP peut profiter d’une implémentation python du type de données
abstrait <em>pile LIFO</em>.</li>
<li>Le travail demandé sera effectué dans un notebook jupyter basé sur
ce sujet en format markdown.</li>
<li>Dans le notebook, les <em>modules</em> demandés pourront être codés
par des fonctions ou des traitements regroupés dans une cellule. Dans ce
dernier cas, ces cellules pourront être dupliquées (par recopie) “plus
loin” dans le notebook.</li>
<li>Dans un second temps, les traitements demandés pourront être
regroupé dans des fichiers python (<code>.py</code>) exécutables dpuis
la ligne de commande.</li>
</ul>
<h2 id="points-points-du-plan-relation-dordre"><code>points</code>:
points du plan, relation d’ordre</h2>
<p>Un <em>point</em> du plan est un couple <span
class="math inline">(<em>x</em>,<em>y</em>)</span> (de nombres
flottants).<br />
On définit la relation d’ordre suivante entre 2 points du plan :<br />
<span
class="math display">(<em>x</em>,<em>y</em>) ≤ (<em>x</em>′,<em>y</em>′) ⇔ <em>x</em> &lt; <em>x</em>′
ou (<em>x</em>=<em>x</em>′ et <em>y</em>≤<em>y</em>′).</span><br />
Un <em>nuage de points</em> est un ensemble fini de points.</p>
<h3 id="question">Question</h3>
<p>Concevoir et coder un module <code>points</code> qui permet de
définir des points, de les comparer, d’afficher leurs coordonnées <span
class="math inline">(<em>x</em>,<em>y</em>)</span> à l’écran.</p>
<h2
id="nuage-nuage-de-points-générer-trier-afficher-stocker-tracer"><code>nuage</code>
: nuage de points : générer, trier, afficher, stocker, tracer</h2>
<h3 id="question-1">Question</h3>
<p>Ecrire un module <code>nuage</code> qui permet de définir un nuage de
points de taille paramétrable et de d’afficher les coordonnées de ses
points à l’écran.</p>
<figure>
<img src="fig/nuage.png" alt="Un nuage de points aléatoires" />
<figcaption aria-hidden="true">Un nuage de points
aléatoires</figcaption>
</figure>
<h3 id="question-2">Question</h3>
<p>Compléter ce module de façon à pouvoir générer aléatoirement un nuage
de points de taille arbitraire et contenu dans le carré <span
class="math inline">[0,1] × [0,1]</span>.</p>
<h3 id="question-3">Question</h3>
<p>Compléter ce module de façon à pouvoir trier les points d’un nuage
donné selon l’ordre croissant défini sur les points du plan.</p>
<h3 id="question-4">Question</h3>
<p>Compléter ce module de façon à pouvoir enregistrer un nuage de points
de taille arbitraire dans un fichier de texte. La taille du nuage sera
aussi enregistrée dans ce fichier.<br />
Les fichiers <code>data_nuage_10.txt</code> et
<code>data_nuage_100.txt</code> fournis dans l’archive
<code>3-data-nuage.zip</code> sont des exemples de tels fichiers.</p>
<h3 id="question-5">Question</h3>
<p>Compléter ce module de façon à pouvoir lire un nuage de points de
taille arbitraire à partir d’un fichier de texte selon le format défini
ci-dessus.</p>
<h3 id="question-6">Question</h3>
<p>Compléter ce module de façon à pouvoir tracer graphiquement un nuage
de points donné. Le tracé sera effectué à l’écran par défaut. Il
permettra aussi de stocker ce tracé dans un fichier
<code>jpeg</code>.</p>
<p>On va développer progressivement un module
<code>geometrie2d</code>.</p>
<h2
id="geometrie2d-orientation-de-3-points-du-plan"><code>geometrie2d</code>:
orientation de 3 points du plan</h2>
<figure>
<img src="fig/orientation_pqr.png"
alt="Orientations d’un triplet (p,q,r)" />
<figcaption aria-hidden="true">Orientations d’un triplet
(p,q,r)</figcaption>
</figure>
<p>Un triplet <code>(p,q,r)</code> de points <em>non alignés</em> du
plan est <em>orienté positivement</em> si l’angle des vecteurs
<code>(pq, pr)</code> est dans <span
class="math inline">]0, <em>π</em> [</span> (modulo <span
class="math inline">2<em>π</em></span>). Sinon, il est <em>orienté
négativement</em>.</p>
<p>On vérifie l’orientation du triplet <code>(p,q,r)</code> en calculant
le signe du déterminant 2x2 <span
class="math inline"><em>d</em><em>e</em><em>t</em>(<em>p</em><em>q</em>,<em>p</em><em>r</em>)</span>
des vecteurs <code>pq</code> et <code>pr</code>. Signe du déterminant et
sens d’orientation coïncident.</p>
<p>On rappelle que : <span
class="math display"><em>d</em><em>e</em><em>t</em>(<em>p</em><em>q</em>,<em>p</em><em>r</em>) = (<em>x</em><sub><em>q</em></sub>−<em>x</em><sub><em>p</em></sub>) × (<em>y</em><sub><em>r</em></sub>−<em>y</em><sub><em>p</em></sub>) − (<em>y</em><sub><em>q</em></sub>−<em>y</em><sub><em>p</em></sub>) × (<em>x</em><sub><em>r</em></sub>−<em>x</em><sub><em>p</em></sub>).</span></p>
<h3 id="question-7">Question</h3>
<p>Commencer le module <code>geometrie2d</code> avec une fonction qui
calcule l’orientation d’un triplet de points du plan.</p>
<h2
id="geometrie2d-enveloppe-convexe-supérieure"><code>geometrie2d</code>:
enveloppe convexe supérieure</h2>
<p>Un ensemble <span class="math inline"><em>C</em></span> est
<em>convexe</em> si le segment [p,q] qui relie deux points quelconques
de <span class="math inline"><em>C</em></span> est inclus dans <span
class="math inline"><em>C</em></span>.</p>
<figure>
<img src="fig/convexes.png"
alt="exemple d’ensembles convexes et non convexe" />
<figcaption aria-hidden="true">exemple d’ensembles convexes et non
convexe</figcaption>
</figure>
<p>L’<em>enveloppe convexe</em> <span
class="math inline"><em>C</em><em>o</em><em>n</em><em>v</em>(<em>N</em>)</span>
d’un nuage de points <span class="math inline"><em>N</em></span> est le
plus petit polygone convexe qui contient tous les points de <span
class="math inline"><em>N</em></span>.</p>
<p><img src="fig/env_conv10.png"
alt="L’enveloppe convexe du nuage de points ‘data_nuage_10.txt’" /> <img
src="fig/env_conv100.png"
alt="L’enveloppe convexe du nuage de points ‘data_nuage_100.txt’" /></p>
<p><strong>Construire l’enveloppe convexe d’un nuage de points.</strong>
On construit <span
class="math inline"><em>C</em><em>o</em><em>n</em><em>v</em>(<em>N</em>)</span>
en balayant de gauche à droite avec une droite verticale le nuage <span
class="math inline"><em>N</em></span> (préalablement trié par ordre
croissant). On convient ainsi que p0 est le plus petit point de N,
<em>ie.</em> celui le plus à gauche.</p>
<p>Chaque point p rencontré par la droite met à jour l’enveloppe convexe
du sous-nuage à gauche du point p.  Cette mise à jour s’effectue en
distinguant une partie supérieure et une partie inférieure de
l’enveloppe convexe.</p>
<p>L’<em>enveloppe supérieure</em> est au dessus du segment [p0, p].
Cette enveloppe <code>ES</code> est modifiée par l’algorithme suivant
qui justifie de stocker <code>ES</code> comme une pile de base p0. On
ajoute aussi à <code>ES</code>, p1 le point immédiatement supérieur à p0
(<em>ie.</em> immédiatement à droite de p0). La pile <code>ES</code> est
ainsi composée d’au moins deux éléments.</p>
<h3 id="algorithme">Algorithme</h3>
<p>Soit p le point rencontré par le balayage de N. Notons q et r les
deux derniers points ajoutés à <code>ES</code> – q est au sommet.</p>
<ul>
<li>Si le triplet (p,q,r) est orienté positivement alors p est ajouté à
<code>ES</code>. Ce qui termine la mise à jour de <code>ES</code>.</li>
<li>Sinon q est retiré de <code>ES</code> et on reprend le test
d’orientation et le traitement précédent pour <strong>un nouveau triplet
(p,q,r)</strong> jusqu’à terminer la mise à jour de <code>ES</code> :
<ul>
<li>par l’ajout de p à <code>ES</code><br />
</li>
<li>ou parce qu’il ne reste que p0 dans <code>ES</code>. Dans ce cas, on
termine en ajoutant p à <code>ES</code> – qui est ainsi toujours
composée d’au moins deux éléments.</li>
</ul></li>
</ul>
<p><code>ES</code> contient l’enveloppe convexe supérieure du nuage N
une fois tous les points p de N balayés.</p>
<p>On convient aisément que le point le plus à droite de N est le
dernier point ajouté à <code>ES</code>.</p>
<p><strong>Illustration graphique.</strong></p>
<p><code>ES</code> = {0,1,5,6}, début du traitement de p = 7</p>
<figure>
<img src="fig/ES-1.png" alt="Orientation (7,6,5) négative" />
<figcaption aria-hidden="true">Orientation (7,6,5) négative</figcaption>
</figure>
<p><code>ES</code> = {0,1,5}, p = 7</p>
<figure>
<img src="fig/ES-2.png" alt="Orientation (7,5,1) négative" />
<figcaption aria-hidden="true">Orientation (7,5,1) négative</figcaption>
</figure>
<p><code>ES</code> = {0,1}, p = 7</p>
<figure>
<img src="fig/ES-3.png" alt="Orientation (7,1,0) positive" />
<figcaption aria-hidden="true">Orientation (7,1,0) positive</figcaption>
</figure>
<p><code>ES</code> = {0,1,7}, fin du traitement de p = 7.</p>
<h3 id="question-8">Question</h3>
<p>Compléter le module précédent avec une fonction
<code>majES(pile, point)</code> qui effectue la mise à jour de la pile
<code>ES</code> lors du traitement du point p. </p>
<h3 id="question-9">Question</h3>
<p>Valider cette fonction sur des nuages de 4 ou 5 points par
exemple.</p>
<h2
id="geometrie2d-enveloppe-convexe-inférieure"><code>geometrie2d</code>:
enveloppe convexe inférieure</h2>
<p>L’<em>enveloppe convexe inférieure</em> est obtenue de façon
similaire avec une (autre) pile ‘EI’ et un test d’orientation
inverse.</p>
<h3 id="question-10">Question</h3>
<p>Compléter le module précédent avec une fonction
<code>majEI(pile, point)</code> qui effectue la mise à jour de la pile
‘EI’ lors du traitement du point p. </p>
<h3 id="question-11">Question</h3>
<p>Valider cette fonction sur des nuages de 4 ou 5 points par
exemple.</p>
<h2 id="geometrie2d-enveloppe-convexe"><code>geometrie2d</code>:
enveloppe convexe</h2>
<p>L’enveloppe convexe <span
class="math inline"><em>C</em><em>o</em><em>n</em><em>v</em>(<em>N</em>)</span>
est une (autre) pile construite à partir de <code>ES</code> et ‘EI’ en
stockant successivement chaque point visité par les 2 parcours suivants
:<br />
- L’enveloppe convexe supérieure est parcourue de la gauche vers la
droite,<br />
- l’enveloppe convexe inférieure est parcourue de la droite vers la
gauche;<br />
et modifié comme suit :<br />
- l’extrémité droite de l’une et de l’autre de ces enveloppes n’est pas
répétée,<br />
- le sommet de <span
class="math inline"><em>C</em><em>o</em><em>n</em><em>v</em>(<em>N</em>)</span>
répète sa base p0.</p>
<h3 id="question-12">Question</h3>
<p>Compléter le module précédent avec une fonction
<code>env_convexe(nuage)</code> qui construit l’enveloppe convexe d’un
nuage de points arbitraire.</p>
<h3 id="question-13">Question</h3>
<p>Compléter le module précédent avec une fonction qui permet d’afficher
l’enveloppe convexe ainsi construite.</p>
<h3 id="question-14">Question</h3>
<p>Compléter le module précédent avec une fonction qui permet de tracer
graphiquement cette enveloppe convexe, d’abord sans le nuage de points
associé, puis avec.</p>
