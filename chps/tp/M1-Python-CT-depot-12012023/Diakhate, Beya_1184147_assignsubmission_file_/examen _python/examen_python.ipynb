{
 "cells": [
  {
   "cell_type": "code",
   "execution_count": 1,
   "id": "0e76bb71-288e-482b-8c18-1c01781e04bf",
   "metadata": {},
   "outputs": [
    {
     "data": {
      "text/plain": [
       "array([[1, 1, 1, 1, 1],\n",
       "       [1, 1, 1, 1, 0],\n",
       "       [1, 1, 1, 1, 0],\n",
       "       [1, 1, 0, 1, 1],\n",
       "       [1, 1, 1, 1, 0]])"
      ]
     },
     "execution_count": 1,
     "metadata": {},
     "output_type": "execute_result"
    }
   ],
   "source": [
    "import numpy as np\n",
    "def intialisation(n:int):\n",
    "    val = [0, 1]\n",
    "    A=np.zeros(n)\n",
    "    A=np.random.choice(val, n*n, p=[0.2, 0.8]).reshape(n, n)\n",
    "    return A\n",
    "intialisation(5)"
   ]
  },
  {
   "cell_type": "code",
   "execution_count": 2,
   "id": "761b29a6-7e87-4e60-a20b-9580f5c233e9",
   "metadata": {},
   "outputs": [],
   "source": [
    "A=intialisation(5)\n",
    "n=len(A)\n",
    "with open (\"fic.txt\",\"w\",encoding=\"utf8\") as f:\n",
    "    f.write(str(n)+'\\n')\n",
    "    for i in range(n):\n",
    "        for j in range(n):\n",
    "            f.write(str(A[i][j])+'\\n')"
   ]
  },
  {
   "cell_type": "code",
   "execution_count": 3,
   "id": "d7490ca6-784b-47be-be69-faffc1723a44",
   "metadata": {},
   "outputs": [],
   "source": [
    "A=intialisation(5)\n",
    "n=len(A)\n",
    "with open (\"fic.txt\",\"w\",encoding=\"utf8\") as f:\n",
    "    f.write(str(n)+'\\n')\n",
    "    for i in range(n):\n",
    "        for j in range(n):\n",
    "            f.write(str(A[i][j])+'\\n')"
   ]
  },
  {
   "cell_type": "code",
   "execution_count": 4,
   "id": "631fc14f-5297-4ae1-912b-5bc81a7ed060",
   "metadata": {},
   "outputs": [],
   "source": [
    "A=intialisation(5)\n",
    "n=len(A)\n",
    "with open (\"fic.txt\",\"r\",encoding=\"utf8\") as f:\n",
    "    n=int(f.readline()[:-1])\n",
    "    for i in range(n):\n",
    "        for j in range(n):\n",
    "            A[i][j]=float(f.readline()[:-1])"
   ]
  },
  {
   "cell_type": "code",
   "execution_count": 5,
   "id": "19ab9998-408a-4ff9-a063-695100332df9",
   "metadata": {},
   "outputs": [
    {
     "name": "stdout",
     "output_type": "stream",
     "text": [
      "une\n",
      "un\n",
      "une\n",
      "une\n",
      "un\n",
      "une\n",
      "une\n",
      "une\n",
      "une\n",
      "une\n",
      "une\n",
      "une\n",
      "une\n",
      "une\n",
      "une\n",
      "un\n",
      "une\n",
      "une\n",
      "une\n",
      "une\n",
      "une\n",
      "un\n",
      "un\n",
      "une\n",
      "une\n"
     ]
    }
   ],
   "source": [
    "def affichage_grille(A):\n",
    "    for i in range(n):\n",
    "        for j in range(n):\n",
    "            if A[i][j]==1:\n",
    "                print(\"une\")\n",
    "            else:\n",
    "                print(\"un\")\n",
    "    \n",
    "affichage_grille(A)"
   ]
  },
  {
   "cell_type": "code",
   "execution_count": null,
   "id": "7b67971a-7f31-4bc2-a953-fee1a4683ef8",
   "metadata": {},
   "outputs": [],
   "source": []
  },
  {
   "cell_type": "code",
   "execution_count": null,
   "id": "0719f849-8562-4f0d-add7-1f11e81d2870",
   "metadata": {},
   "outputs": [],
   "source": []
  }
 ],
 "metadata": {
  "kernelspec": {
   "display_name": "Python 3 (ipykernel)",
   "language": "python",
   "name": "python3"
  },
  "language_info": {
   "codemirror_mode": {
    "name": "ipython",
    "version": 3
   },
   "file_extension": ".py",
   "mimetype": "text/x-python",
   "name": "python",
   "nbconvert_exporter": "python",
   "pygments_lexer": "ipython3",
   "version": "3.9.6"
  }
 },
 "nbformat": 4,
 "nbformat_minor": 5
}
