{
 "cells": [
  {
   "cell_type": "markdown",
   "id": "350780e0-37ed-477e-8248-fd5201afe78b",
   "metadata": {},
   "source": [
    "###                                                       Examen "
   ]
  },
  {
   "cell_type": "code",
   "execution_count": null,
   "id": "81a28a73-674e-40ad-a127-4dbfef977abc",
   "metadata": {},
   "outputs": [],
   "source": []
  },
  {
   "cell_type": "code",
   "execution_count": 1,
   "id": "b84b300e-1066-4f37-8148-ffd1f1fc81bc",
   "metadata": {},
   "outputs": [],
   "source": [
    "import numpy as np\n",
    "from random import choice\n",
    "\n",
    "\n",
    "live = 1\n",
    "dead = 0\n",
    "vals = [live, dead]\n",
    "def init_grille(n: int) -> list[list[str]]:\n",
    "    t=[[0 for k in range(n)] for p in range(n)]\n",
    "    for i in range(n):\n",
    "        for j in range(n):\n",
    "            t[i][j]= choice(vals)  \n",
    "    return np.asarray(t)"
   ]
  },
  {
   "cell_type": "code",
   "execution_count": 2,
   "id": "552f994a-4354-4974-93ee-1aaaa09bdde2",
   "metadata": {},
   "outputs": [],
   "source": [
    "a = init_grille(5)"
   ]
  },
  {
   "cell_type": "code",
   "execution_count": 3,
   "id": "b9bf945e-269f-4b6f-80a3-d0306aa9ec6c",
   "metadata": {},
   "outputs": [],
   "source": [
    "def vois_live(g : list[list[int]]) -> list[list[int]]:\n",
    "    n = len(g)\n",
    "    new_grille = [[0 for k in range(n)] for p in range(n)]\n",
    "    for i in range(n):\n",
    "        for j in range(n):\n",
    "            l = int((g[i, (j-1)%n] + g[i, (j+1)%n] +\n",
    "                         g[(i-1)%n, j] + g[(i+1)%n, j] +\n",
    "                         g[(i-1)%n, (j-1)%n] + g[(i-1)%n, (j+1)%n] +\n",
    "                         g[(i+1)%n, (j-1)%n] + g[(i+1)%n, (j+1)%n]))\n",
    "        if g[i, j]  == live:\n",
    "                if (l < 2) or (l > 3):\n",
    "                    new_grille[i, j] = dead\n",
    "                else:\n",
    "                    if l == 3:\n",
    "                        new_grille[i,j] = live\n",
    "    return new_gril"
   ]
  },
  {
   "cell_type": "code",
   "execution_count": 4,
   "id": "82a1d965-d848-4e76-8180-4402bc153f28",
   "metadata": {},
   "outputs": [
    {
     "ename": "TypeError",
     "evalue": "list indices must be integers or slices, not tuple",
     "output_type": "error",
     "traceback": [
      "\u001b[0;31m---------------------------------------------------------------------------\u001b[0m",
      "\u001b[0;31mTypeError\u001b[0m                                 Traceback (most recent call last)",
      "\u001b[0;32m/var/folders/32/9hkmzrf11t38ckpktjnyfsfc0000gn/T/ipykernel_50221/3948897291.py\u001b[0m in \u001b[0;36m<cell line: 1>\u001b[0;34m()\u001b[0m\n\u001b[0;32m----> 1\u001b[0;31m \u001b[0mvois_live\u001b[0m\u001b[0;34m(\u001b[0m\u001b[0ma\u001b[0m\u001b[0;34m)\u001b[0m\u001b[0;34m\u001b[0m\u001b[0;34m\u001b[0m\u001b[0m\n\u001b[0m",
      "\u001b[0;32m/var/folders/32/9hkmzrf11t38ckpktjnyfsfc0000gn/T/ipykernel_50221/3888458989.py\u001b[0m in \u001b[0;36mvois_live\u001b[0;34m(g)\u001b[0m\n\u001b[1;32m     10\u001b[0m         \u001b[0;32mif\u001b[0m \u001b[0mg\u001b[0m\u001b[0;34m[\u001b[0m\u001b[0mi\u001b[0m\u001b[0;34m,\u001b[0m \u001b[0mj\u001b[0m\u001b[0;34m]\u001b[0m  \u001b[0;34m==\u001b[0m \u001b[0mlive\u001b[0m\u001b[0;34m:\u001b[0m\u001b[0;34m\u001b[0m\u001b[0;34m\u001b[0m\u001b[0m\n\u001b[1;32m     11\u001b[0m                 \u001b[0;32mif\u001b[0m \u001b[0;34m(\u001b[0m\u001b[0ml\u001b[0m \u001b[0;34m<\u001b[0m \u001b[0;36m2\u001b[0m\u001b[0;34m)\u001b[0m \u001b[0;32mor\u001b[0m \u001b[0;34m(\u001b[0m\u001b[0ml\u001b[0m \u001b[0;34m>\u001b[0m \u001b[0;36m3\u001b[0m\u001b[0;34m)\u001b[0m\u001b[0;34m:\u001b[0m\u001b[0;34m\u001b[0m\u001b[0;34m\u001b[0m\u001b[0m\n\u001b[0;32m---> 12\u001b[0;31m                     \u001b[0mnew_grille\u001b[0m\u001b[0;34m[\u001b[0m\u001b[0mi\u001b[0m\u001b[0;34m,\u001b[0m \u001b[0mj\u001b[0m\u001b[0;34m]\u001b[0m \u001b[0;34m=\u001b[0m \u001b[0mdead\u001b[0m\u001b[0;34m\u001b[0m\u001b[0;34m\u001b[0m\u001b[0m\n\u001b[0m\u001b[1;32m     13\u001b[0m                 \u001b[0;32melse\u001b[0m\u001b[0;34m:\u001b[0m\u001b[0;34m\u001b[0m\u001b[0;34m\u001b[0m\u001b[0m\n\u001b[1;32m     14\u001b[0m                     \u001b[0;32mif\u001b[0m \u001b[0ml\u001b[0m \u001b[0;34m==\u001b[0m \u001b[0;36m3\u001b[0m\u001b[0;34m:\u001b[0m\u001b[0;34m\u001b[0m\u001b[0;34m\u001b[0m\u001b[0m\n",
      "\u001b[0;31mTypeError\u001b[0m: list indices must be integers or slices, not tuple"
     ]
    }
   ],
   "source": [
    "vois_live(a)"
   ]
  }
 ],
 "metadata": {
  "kernelspec": {
   "display_name": "Python 3 (ipykernel)",
   "language": "python",
   "name": "python3"
  },
  "language_info": {
   "codemirror_mode": {
    "name": "ipython",
    "version": 3
   },
   "file_extension": ".py",
   "mimetype": "text/x-python",
   "name": "python",
   "nbconvert_exporter": "python",
   "pygments_lexer": "ipython3",
   "version": "3.9.6"
  }
 },
 "nbformat": 4,
 "nbformat_minor": 5
}
