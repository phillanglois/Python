{
 "cells": [
  {
   "cell_type": "code",
   "execution_count": 8,
   "id": "bbaf5db7-d693-4a06-8515-a826d8cdd370",
   "metadata": {},
   "outputs": [
    {
     "name": "stdout",
     "output_type": "stream",
     "text": [
      "/Users/langlois/2022/ens/Python/chps2022/tp/M1-Python-CT-depot-12012023/Bekhtaoui, Radia_1184153_assignsubmission_file_\n"
     ]
    }
   ],
   "source": [
    "# import la bibliothèque numpy pour utiliser les tableaux\n",
    "import numpy as np\n",
    "!pwd"
   ]
  },
  {
   "cell_type": "code",
   "execution_count": 2,
   "id": "ba31d045-a9fb-4f88-823a-ba3b1aa56854",
   "metadata": {},
   "outputs": [],
   "source": [
    "# Initialisation de la grille crrée avec des cellules mortes \n",
    "def init_grille(n):\n",
    "    return np.zeros((n, n))"
   ]
  },
  {
   "cell_type": "code",
   "execution_count": 3,
   "id": "a504ac7e-5062-4ab0-b60d-d91becbe21c0",
   "metadata": {},
   "outputs": [],
   "source": [
    "# Fonction pour mettre à jour l'état des cellules\n",
    "def update_grille(grille):\n",
    "    n,n= grille.shape\n",
    "    new_grille = np.copy(grille)\n",
    "    for i in range(n):\n",
    "        for j in range(n):\n",
    "            # compter le nombre de voisins vivants\n",
    "            nb_voisins = (grille[i-1:i+2, j-1:j+2] != 0).sum() - grille[i, j]\n",
    "            # mise à jour de l'état de la cellule en fonction des règles du jeu de la vie\n",
    "            if grille[i, j] == 1:#si elle est vivante\n",
    "                if nb_voisins < 2 or nb_voisins > 3:\n",
    "                    new_grille[i, j] = 0 # maj a 0 elle meurt \n",
    "            elif nb_voisins == 3:#si elle est morte  \n",
    "                new_grille[i, j] = 1 #maj a 1 elle devient vivante (elle naît) \n",
    "    return new_grille"
   ]
  },
  {
   "cell_type": "code",
   "execution_count": 4,
   "id": "e3af5bd9-c879-4f38-8c7b-c8ac246c1bbb",
   "metadata": {},
   "outputs": [],
   "source": [
    "# Fonction pour afficher la grille\n",
    "def print_grille(grille):\n",
    "    for row in grille:\n",
    "        for cell in row:\n",
    "            if cell == 0:\n",
    "                print(\".\", end=\" \")\n",
    "            else:\n",
    "                print(\"x\", end=\" \")\n",
    "        print()"
   ]
  },
  {
   "cell_type": "code",
   "execution_count": 5,
   "id": "067dfec8-1006-4997-8dda-d15a858fc47a",
   "metadata": {},
   "outputs": [],
   "source": [
    "#initialisation de la grille exemple sujet\n",
    "grille = init_grille(5)\n",
    "\n",
    "grille[2, 1] = 1\n",
    "grille[2, 2] = 1\n",
    "grille[2, 3] = 1"
   ]
  },
  {
   "cell_type": "code",
   "execution_count": 6,
   "id": "9f2755f5-cf13-446d-9cee-d02dc0511955",
   "metadata": {},
   "outputs": [
    {
     "name": "stdout",
     "output_type": "stream",
     "text": [
      "grille nitiale :\n",
      ". . . . . \n",
      ". . . . . \n",
      ". x x x . \n",
      ". . . . . \n",
      ". . . . . \n",
      "\n",
      "\n",
      "grille 1 :\n",
      ". . . . . \n",
      ". . x . . \n",
      ". . x . . \n",
      ". . x . . \n",
      ". . . . . \n",
      "\n",
      "\n",
      "grille 2 :\n",
      ". . . . . \n",
      ". . . . . \n",
      ". x x x . \n",
      ". . . . . \n",
      ". . . . . \n",
      "\n",
      "\n",
      "grille 3 :\n",
      ". . . . . \n",
      ". . x . . \n",
      ". . x . . \n",
      ". . x . . \n",
      ". . . . . \n",
      "\n",
      "\n",
      "grille 4 :\n",
      ". . . . . \n",
      ". . . . . \n",
      ". x x x . \n",
      ". . . . . \n",
      ". . . . . \n",
      "\n",
      "\n"
     ]
    }
   ],
   "source": [
    "#Répéter ce traitement pour un nombre d’itérations fixé ici à 4 par exemple :\n",
    "print(\"grille nitiale :\")\n",
    "print_grille(grille)\n",
    "print(\"\\n\")\n",
    "for i in range(4):\n",
    "    grille = update_grille(grille)\n",
    "    print(\"grille\",i+1 ,\":\")\n",
    "    print_grille(grille)\n",
    "    print(\"\\n\")"
   ]
  },
  {
   "cell_type": "code",
   "execution_count": 9,
   "id": "e0981039-b102-4a6e-acee-f9e5b77b3a57",
   "metadata": {},
   "outputs": [
    {
     "name": "stdout",
     "output_type": "stream",
     "text": [
      "#=========Bienvenue dans le jeu de la vie !!! =========#\n",
      "\n",
      "grille nitiale : \n",
      "\n",
      ". . . . . \n",
      ". . . . . \n",
      ". x x x . \n",
      ". . . . . \n",
      ". . . . . \n"
     ]
    },
    {
     "name": "stdin",
     "output_type": "stream",
     "text": [
      "Pour arreter le jeu tapez \"F\"! Pour continuner tapez autres! \n"
     ]
    },
    {
     "name": "stdout",
     "output_type": "stream",
     "text": [
      "grille 4 :\n",
      ". . . . . \n",
      ". . x . . \n",
      ". . x . . \n",
      ". . x . . \n",
      ". . . . . \n",
      "\n",
      "\n"
     ]
    },
    {
     "name": "stdin",
     "output_type": "stream",
     "text": [
      "Pour arreter le jeu tapez \"F\"! Pour continuner tapez autres! \n"
     ]
    },
    {
     "name": "stdout",
     "output_type": "stream",
     "text": [
      "grille 4 :\n",
      ". . . . . \n",
      ". . . . . \n",
      ". x x x . \n",
      ". . . . . \n",
      ". . . . . \n",
      "\n",
      "\n"
     ]
    },
    {
     "name": "stdin",
     "output_type": "stream",
     "text": [
      "Pour arreter le jeu tapez \"F\"! Pour continuner tapez autres! F\n"
     ]
    },
    {
     "name": "stdout",
     "output_type": "stream",
     "text": [
      "grille 4 :\n",
      ". . . . . \n",
      ". . x . . \n",
      ". . x . . \n",
      ". . x . . \n",
      ". . . . . \n",
      "\n",
      "\n"
     ]
    }
   ],
   "source": [
    "#répéter ce traitement selon la lecture d’un caractère au clavier : la lettre F met fin à la simulation.\n",
    "print(\"#=========Bienvenue dans le jeu de la vie !!! =========#\\n\")\n",
    "print(\"grille nitiale : \\n\")\n",
    "print_grille(grille)\n",
    "stop= \"c\"\n",
    "while(stop != \"F\" ):\n",
    "    stop=input(\"Pour arreter le jeu tapez \\\"F\\\"! Pour continuner tapez autres!\" )\n",
    "    grille = update_grille(grille)\n",
    "    print(\"grille\",i+1 ,\":\")\n",
    "    print_grille(grille)\n",
    "    print(\"\\n\")"
   ]
  },
  {
   "cell_type": "code",
   "execution_count": null,
   "id": "613a5261-f158-4084-a5a2-7eddd014ff06",
   "metadata": {},
   "outputs": [],
   "source": []
  }
 ],
 "metadata": {
  "kernelspec": {
   "display_name": "Python 3 (ipykernel)",
   "language": "python",
   "name": "python3"
  },
  "language_info": {
   "codemirror_mode": {
    "name": "ipython",
    "version": 3
   },
   "file_extension": ".py",
   "mimetype": "text/x-python",
   "name": "python",
   "nbconvert_exporter": "python",
   "pygments_lexer": "ipython3",
   "version": "3.9.6"
  }
 },
 "nbformat": 4,
 "nbformat_minor": 5
}
