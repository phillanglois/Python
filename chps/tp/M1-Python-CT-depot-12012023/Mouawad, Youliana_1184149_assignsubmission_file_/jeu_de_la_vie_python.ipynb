{
 "cells": [
  {
   "cell_type": "code",
   "execution_count": 1,
   "id": "966bf819-336e-46e1-b011-095fdd5248f9",
   "metadata": {},
   "outputs": [],
   "source": [
    "#Inititialiser le tableau"
   ]
  },
  {
   "cell_type": "code",
   "execution_count": 2,
   "id": "e636a96b-2140-4efc-aff7-dcb431cc5997",
   "metadata": {},
   "outputs": [],
   "source": [
    "import random\n",
    "def initial( n : int, mort : str, vivant : str) -> list[list[int]] :\n",
    "    assert mort == 0\n",
    "    assert vivant == 1\n",
    "    G = [[0 for i in range(n)] for j in range(n) ]\n",
    "    for i in range(n):\n",
    "        for j in range(n):\n",
    "            G[i][j] = random.randint(0,1)\n",
    "    return G"
   ]
  },
  {
   "cell_type": "code",
   "execution_count": 3,
   "id": "5bf0e398-79a2-4f5a-95a7-b4d8e0012dbe",
   "metadata": {},
   "outputs": [
    {
     "name": "stdout",
     "output_type": "stream",
     "text": [
      "[[1, 0, 1, 0, 1], [0, 1, 0, 1, 1], [0, 0, 1, 0, 0], [0, 0, 1, 1, 1], [1, 1, 0, 1, 0]]\n"
     ]
    }
   ],
   "source": [
    "G = [[0 for i in range(5)] for j in range(5) ]\n",
    "T = initial(5, 0, 1)\n",
    "print(T)"
   ]
  },
  {
   "cell_type": "code",
   "execution_count": 4,
   "id": "ae7c4917-76ce-4afa-9751-71d2cc9de07b",
   "metadata": {},
   "outputs": [],
   "source": [
    "#fonction qui calcule les voisins morts\n",
    "def voisins_morts(a : int) -> int :\n",
    "    t = initial(n, 0, 1)\n",
    "    for i in range(n):\n",
    "        for j in range(n):\n",
    "            a = t[i][j]\n",
    "            m = 0\n",
    "            if t[i-1][j-1] == 0:\n",
    "                m+=1\n",
    "            if t[i-1][j] == 0:\n",
    "                m+=1\n",
    "            if t[i-1][j+1] == 0:\n",
    "                m+=1\n",
    "            if t[i][j-1] == 0:\n",
    "                m+=1\n",
    "            if t[i][j+1] == 0:\n",
    "                m+=1\n",
    "            if t[i+1][j-1] == 0:\n",
    "                m+=1\n",
    "            if t[i+1][j] == 0:\n",
    "                m+=1\n",
    "            if t[i+1][j+1] == 0:\n",
    "                m+=1\n",
    "        \n",
    "    return m"
   ]
  },
  {
   "cell_type": "code",
   "execution_count": 5,
   "id": "dbb69eb8-a968-4a14-b5d5-6f2dec5fe2e3",
   "metadata": {},
   "outputs": [],
   "source": [
    "#fonction qui calcule les voisins vivants\n",
    "def voisins_vivants(a : int) -> int :\n",
    "    t = initial(n, 0, 1)\n",
    "    for i in range(n):\n",
    "        for j in range(n):\n",
    "            a = t[i][j]\n",
    "            v = 0\n",
    "            if t[i-1][j-1] == 1:\n",
    "                v+=1\n",
    "            if t[i-1][j] == 1:\n",
    "                v+=1\n",
    "            if t[i-1][j+1] == 1:\n",
    "                v+=1\n",
    "            if t[i][j-1] == 1:\n",
    "                v+=1\n",
    "            if t[i][j+1] == 1:\n",
    "                v+=1\n",
    "            if t[i+1][j-1] == 1:\n",
    "                v+=1\n",
    "            if t[i+1][j] == 1:\n",
    "                v+=1\n",
    "            if t[i+1][j+1] == 1:\n",
    "                v+=1\n",
    "        \n",
    "    return v"
   ]
  },
  {
   "cell_type": "code",
   "execution_count": 6,
   "id": "453f2a83-db4f-41a8-891a-9024e94e7467",
   "metadata": {},
   "outputs": [],
   "source": [
    " #l’état de la grille à l’itération suivante\n",
    "def etat_grille_suivants(G : list[list[int]] , n : int)->list[list[int]]: \n",
    "    G = initial(n, 0, 1)\n",
    "    for i in range(n):\n",
    "        for j in range(n):\n",
    "            if G[i][j] == 0 and voisins_vivants(G[i][j]) == 3:\n",
    "                G[i][j] = 1\n",
    "            elif voisins_vivants(G[i][j]) <  2:\n",
    "                G[i][j] = 0\n",
    "            elif voisins_vivants(G[i][j]) == 2 or voisins_vivants(G[i][j]) == 3 :\n",
    "                G[i][j] = 1\n",
    "            elif voisins_vivants(G[i][j]) > 3:\n",
    "                G[i][j] = 0\n",
    "    return G\n",
    "    "
   ]
  },
  {
   "cell_type": "code",
   "execution_count": 7,
   "id": "f07b0984-c63a-4d0e-ab1c-d9e712ef1806",
   "metadata": {},
   "outputs": [
    {
     "ename": "SyntaxError",
     "evalue": "invalid syntax (832733412.py, line 3)",
     "output_type": "error",
     "traceback": [
      "\u001b[0;36m  File \u001b[0;32m\"/var/folders/32/9hkmzrf11t38ckpktjnyfsfc0000gn/T/ipykernel_50448/832733412.py\"\u001b[0;36m, line \u001b[0;32m3\u001b[0m\n\u001b[0;31m    def voisins_vivants()\u001b[0m\n\u001b[0m                         ^\u001b[0m\n\u001b[0;31mSyntaxError\u001b[0m\u001b[0;31m:\u001b[0m invalid syntax\n"
     ]
    }
   ],
   "source": [
    "G = [[0 for i in range(5)] for j in range(5) ]\n",
    "T = initial(5, 0, 1)\n",
    "def voisins_vivants()\n",
    "N = etat_grille_suivants(G , 5)"
   ]
  },
  {
   "cell_type": "code",
   "execution_count": null,
   "id": "cd08e6dd-a0f1-4d24-a686-82adcfa9c5dc",
   "metadata": {},
   "outputs": [],
   "source": []
  }
 ],
 "metadata": {
  "kernelspec": {
   "display_name": "Python 3 (ipykernel)",
   "language": "python",
   "name": "python3"
  },
  "language_info": {
   "codemirror_mode": {
    "name": "ipython",
    "version": 3
   },
   "file_extension": ".py",
   "mimetype": "text/x-python",
   "name": "python",
   "nbconvert_exporter": "python",
   "pygments_lexer": "ipython3",
   "version": "3.9.6"
  }
 },
 "nbformat": 4,
 "nbformat_minor": 5
}
