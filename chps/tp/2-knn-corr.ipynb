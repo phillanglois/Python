{
 "cells": [
  {
   "cell_type": "markdown",
   "id": "b44be349",
   "metadata": {
    "nbgrader": {
     "grade": false,
     "grade_id": "cell-188cbaf81c95f0ee",
     "locked": true,
     "schema_version": 3,
     "solution": false,
     "task": false
    }
   },
   "source": [
    "(tp:tp2)=\n",
    "# Feuille 2\n",
    "\n",
    ":::{note}\n",
    "\n",
    "- Feuille téléchargeable au format jupyter notebook (`.ipynb`) \n",
    "- La mise en forme du jupyter notebook est légèrement modifiée dans ce support : l'exécution automatique des cellules de réponse provoquent des levées de l'exception `NotImplementedError()` qui polluent hélas l'affichage du sujet.\n",
    "\n",
    ":::\n",
    "\n",
    "- Algorithmes simples (distance, tri, élément majoritaire)\n",
    "- Notions de bases de python (tableaux 1D, 2D,listes, dictionnaire, tuple)\n",
    "- Fichiers (csv)\n",
    "- Analyse de complexité\n",
    "- Les questions sont accompagnées d'indications pour vérifier vos réponses (tests ou exemples) \n",
    "- Bien suivre les questions et répondre dans les cellules dédiées\n",
    "- Ne pas modifier les cellules bloquées, ni ajouter aucune cellule."
   ]
  },
  {
   "cell_type": "markdown",
   "id": "bee8dad5",
   "metadata": {
    "nbgrader": {
     "grade": false,
     "grade_id": "cell-49aea4e3e6fef57f",
     "locked": true,
     "schema_version": 3,
     "solution": false,
     "task": false
    }
   },
   "source": [
    "**Deux remarques prélables.**\n",
    "\n",
    "1. Dans l'archive zip, ce notebook `2-knn.ipynb` est accompagné du fichier `poudlard2022.csv` utilisé à l'étape 5.\n",
    "2. Les fonctions demandées sont toujours décrites partiellement : signature, doc-string et pré-conditions. Ne pas modifier ces éléments qui sont donnés pour vous aider. En revanche, vos réponse doivent remplacer les 2 dernières lignes de ces cellules :\n",
    "```python\n",
    "# ENTRER VOTRE CODE A LA PLACE DE CES 2 LIGNES\n",
    "raise NotImplementedError()\n",
    "```\n",
    "\n",
    "Bon travail."
   ]
  },
  {
   "cell_type": "markdown",
   "id": "7d7f1eb2-6239-406d-8a50-b86aa0b8dd15",
   "metadata": {
    "nbgrader": {
     "grade": false,
     "grade_id": "cell-4dc7efdab8c5d51a",
     "locked": true,
     "schema_version": 3,
     "solution": false,
     "task": false
    }
   },
   "source": [
    "Ce sujet propose de découvrir un algorithme d'apprentissage automatique supervisé, _l'algorithme des k plus proches voisins_, et de l'utiliser pour classifier de nouvelles données selon une caractéristique discrète. "
   ]
  },
  {
   "cell_type": "markdown",
   "id": "87ce763d-6cbd-46c4-957c-2c0698ee6e82",
   "metadata": {
    "nbgrader": {
     "grade": false,
     "grade_id": "cell-59c094ce06f95788",
     "locked": true,
     "schema_version": 3,
     "solution": false,
     "task": false
    }
   },
   "source": [
    "Plus concrètement, nous traiterons avec cet algorithme l'exemple du _Choixpeau magique_ de la série de romans \"Harry Potter\" de J. K. Rowling. Le _Choixpeau magique_ détermine la maison d'élèves-sorciers qui accueillera les nouveaux arrivants de la fameuse école de Poudlard. Ici, la caractéristique discrète déterminée par le _Choixpeau magique_ pour chaque nouvel élève est, celle des 4 maisons de sorciers (Serpentar, Griffondor, Serdaigle, Poufssouffle) qui correspond le mieux à ses qualités (courage, loyauté,  sagesse, malice)."
   ]
  },
  {
   "cell_type": "markdown",
   "id": "e35867e9",
   "metadata": {
    "nbgrader": {
     "grade": false,
     "grade_id": "cell-7251728db61e38c4",
     "locked": true,
     "schema_version": 3,
     "solution": false,
     "task": false
    }
   },
   "source": [
    "Pour arriver à un tel traitement, ce sujet se découpe en 5 étapes successives.\n",
    "\n",
    "- Etape 1 : commençons par trier\n",
    "- Etape 2 : continuons avec l'élément majoritaire de `n` éléments\n",
    "- Etape 3 : mesurons des proximités un peu compliquées\n",
    "- Etape 4 : classifions Poudlard maintenant \n",
    "- Etape 5 : et comme le _Choixpeau magique_, affectons les nouveaux élèves dans la maison qui leur convient le mieux !\n",
    "\n",
    "Il est bien sûr conseillé de lire le sujet en entier avant de commencer.\n",
    "\n",
    "Les étapes 1, 2, 3 sont très largement indépendantes. \n",
    "Les étapes 4 et 5 dépendent des précédentes et sont liées l'une à l'autre : l'étape 5 généralise l'étape 4."
   ]
  },
  {
   "cell_type": "code",
   "execution_count": 1,
   "id": "acc38a20-e856-4ef0-ad86-0d3254901d31",
   "metadata": {
    "nbgrader": {
     "grade": false,
     "grade_id": "cell-395e464c1bae336b",
     "locked": true,
     "schema_version": 3,
     "solution": false,
     "task": false
    }
   },
   "outputs": [],
   "source": [
    "# le module typing pour annoter les types des paramètres de fonction\n",
    "from typing import Union, TypeVar\n",
    "\n",
    "# une variable de type IntOrStr est soit un int, soit une str \n",
    "# ainsi la liste [\"abc\", 3] sera annotée simplement list[IntOrStr]\n",
    "IntOrStr = TypeVar('IntOrStr', int, str)"
   ]
  },
  {
   "cell_type": "markdown",
   "id": "011fa185-14af-489f-b00b-df3b5cfdd57e",
   "metadata": {
    "nbgrader": {
     "grade": false,
     "grade_id": "cell-7b0c9df9e0d454cd",
     "locked": true,
     "schema_version": 3,
     "solution": false,
     "task": false
    }
   },
   "source": [
    "## Etape 1 : commençons par trier "
   ]
  },
  {
   "cell_type": "markdown",
   "id": "2d89d70a-1ced-4cf2-b413-9bec3280921c",
   "metadata": {
    "nbgrader": {
     "grade": false,
     "grade_id": "cell-c178a210c7d64453",
     "locked": true,
     "schema_version": 3,
     "solution": false,
     "task": false
    }
   },
   "source": [
    "On suppose une relation d'ordre définie pour des valeurs à trier. Par exemple, on veut trier des entiers par ordre croissant. \n",
    "On suppose aussi _dans un premier temps_ que les valeurs à trier sont au nombre de $n$ et sont stockées dans un tableau 1D : une liste en python.\n",
    "\n",
    "Le _tri par sélection_ est l'un des plus simples algorithmes de tri. Il consiste à :\n",
    "\n",
    "- parcourir les $n$ valeurs à trier,   \n",
    "- _identifier la plus petite_ des valeurs,   \n",
    "- _déplacer_ cette valeur à sa position définitive dans le tableau trié, c-a-d. en première position,\n",
    "- recommencer pour _identifier_ et _déplacer_ la seconde plus petite des valeurs,\n",
    "- et ainsi de suite pour toutes les valeurs.\n",
    "\n",
    "A l'itération $i$ ($1 \\le i < n$), les $i$ plus petites valeurs sont correctement placées dans un ordre trié, c-a-d. dans les $i$ premières cases du tableau.\n",
    "A la fin, les $n$ valeurs sont correctement placées, c-a-d. de façon triée par ordre croissant."
   ]
  },
  {
   "cell_type": "markdown",
   "id": "04595fce-204a-4d03-b205-f61c8bb144c6",
   "metadata": {
    "nbgrader": {
     "grade": false,
     "grade_id": "cell-225a44fd90426a6f",
     "locked": true,
     "schema_version": 3,
     "solution": false,
     "task": false
    }
   },
   "source": [
    "**Exemple**.\n",
    "Le tableau `t0 = [2, 4, 1, 3]` est transformé successivement en :\n",
    "- `[1, 4, 2, 3]`\n",
    " : 1 est la plus petite valeur de `t0`, elle est donc placé à l'indice 0, \n",
    "- `[1, 2, 4, 3]` : 2 est la plus petite valeur suivante, elle est donc placé à l'indice 1, \n",
    "- `[1, 2, 3, 4]` : 3 est la plus petite valeur suivante, elle est donc placé à l'indice 2.  \n",
    "Il reste une dernière valeur qui se retrouve correctement placée : ici la valeur 4 placée à l'indice 3.\n",
    "\n",
    "Ce tableau `t0` sera utilisé par la suite. "
   ]
  },
  {
   "cell_type": "markdown",
   "id": "2f7e04e7-322d-4cc3-9103-6a23161b73d8",
   "metadata": {
    "nbgrader": {
     "grade": false,
     "grade_id": "cell-8eeecbd31811dc97",
     "locked": true,
     "schema_version": 3,
     "solution": false,
     "task": false
    }
   },
   "source": [
    "Remarquons que cet algorithme _déplace_ des valeurs dans le tableau initial. Il s'agit donc d'**un tri en place**. \n",
    "\n",
    "Si on introduit un tableau 1D de taille $n$ supplémentaire, et si le verbe _déplacer_ est remplacé par _placer_, l'algorithme ainsi formulé remplit successivement ce tableau supplémentaire à partir de son indice 0. Ce tableau supplémentaire contient de façon triée les valeurs du tableau initial. Il s'agit alors d'**un tri avec copie**.\n",
    "\n",
    "Il y a plusieurs stratégies pour rechercher et effectuer chaque déplacement/placement.\n",
    "\n",
    "Dans ces deux cas, la spécification de ce tri, pour un tableau de $n$ entiers, à la forme classique suivante."
   ]
  },
  {
   "cell_type": "code",
   "execution_count": 2,
   "id": "a923130a-7794-4703-bc50-8f30757d8b82",
   "metadata": {
    "nbgrader": {
     "grade": false,
     "grade_id": "cell-098a98cc7a48de9b",
     "locked": true,
     "schema_version": 3,
     "solution": false,
     "task": false
    }
   },
   "outputs": [],
   "source": [
    "def tri_selection(t: list[int], n: int) -> list[int]:\n",
    "    '''signature d'un tri par selection de n entiers'''\n",
    "    pass"
   ]
  },
  {
   "cell_type": "markdown",
   "id": "9d297219-47a4-4f66-b80a-e47729dabf98",
   "metadata": {
    "nbgrader": {
     "grade": false,
     "grade_id": "cell-a5c3fd510dac705d",
     "locked": true,
     "schema_version": 3,
     "solution": false,
     "task": false
    }
   },
   "source": [
    "### Tri sélection en place d'un tableau 1D d'entiers\n",
    "\n",
    "Ecrire `tri_selection_1()` une version \"en place\" du tri par sélection.\n",
    "Une variable entière temporaire pourra servir pour les déplacements successifs."
   ]
  },
  {
   "cell_type": "code",
   "execution_count": 3,
   "id": "87cc4b57-7182-4e69-b6c0-7d5c62ac7ccf",
   "metadata": {
    "nbgrader": {
     "grade": false,
     "grade_id": "cell-bddb06fa73e7db3f",
     "locked": false,
     "schema_version": 3,
     "solution": true,
     "task": false
    }
   },
   "outputs": [],
   "source": [
    "def tri_selection_1(t: list[int], n: int) -> list[int]:\n",
    "    '''tri par selection de n entiers : version en place'''\n",
    "    assert n == len(t)\n",
    "    ### BEGIN CORR\n",
    "    for ind_min_trie in range(0, n-1):        \n",
    "        ind_min = ind_min_trie\n",
    "        for i in range(ind_min_trie, n):\n",
    "            if t[i] < t[ind_min]:\n",
    "                ind_min = i\n",
    "        # permutation t[ind_min] et t[ind_min_trie] \n",
    "        tmp = t[ind_min_trie]\n",
    "        t[ind_min_trie] = t[ind_min]\n",
    "        t[ind_min] = tmp\n",
    "        #print(t)\n",
    "    return t\n",
    "    ### END CORR"
   ]
  },
  {
   "cell_type": "markdown",
   "id": "97d2deab-571e-4ae9-9362-ea736db0d93c",
   "metadata": {
    "nbgrader": {
     "grade": false,
     "grade_id": "cell-a71177f1796473b3",
     "locked": true,
     "schema_version": 3,
     "solution": false,
     "task": false
    },
    "tags": []
   },
   "source": [
    "### Auto-validation\n",
    "\n",
    "La validation suivante doit s'exécuter sans erreur."
   ]
  },
  {
   "cell_type": "code",
   "execution_count": 4,
   "id": "1cec9e3c-1cfa-4865-9510-a852280fdd59",
   "metadata": {
    "nbgrader": {
     "grade": true,
     "grade_id": "cell-a50a5c341110b7d2",
     "locked": true,
     "points": 1,
     "schema_version": 3,
     "solution": false,
     "task": false
    }
   },
   "outputs": [],
   "source": [
    "# Exécuter cette cellule sans la modifier, ni écrire dedans\n",
    "# Son exécution ne doit pas déclencher d'erreur \n",
    "t0 = [2, 4, 1, 3]\n",
    "tt0 = [1, 2, 3, 4]\n",
    "assert tt0 == tri_selection_1(t0, len(t0))"
   ]
  },
  {
   "cell_type": "markdown",
   "id": "901c8d6f-95d4-42ad-81bf-7deb3af2e53a",
   "metadata": {
    "nbgrader": {
     "grade": false,
     "grade_id": "cell-1bb743091967c63c",
     "locked": true,
     "schema_version": 3,
     "solution": false,
     "task": false
    }
   },
   "source": [
    "### Votre validation \n",
    "\n",
    "Définir les tableaux `t10_up` et `t10_down` qui contiennent les entiers 1, 2, ..., 10 respectivement rangés par ordre croissant (up) et décroissant (down). Puis vérifier la correction de votre algorithme avec `t10_up` et `t10_down`."
   ]
  },
  {
   "cell_type": "code",
   "execution_count": 5,
   "id": "6119e752",
   "metadata": {
    "nbgrader": {
     "grade": false,
     "grade_id": "cell-e602d7364a11da22",
     "locked": false,
     "schema_version": 3,
     "solution": true,
     "task": false
    }
   },
   "outputs": [],
   "source": [
    "### BEGIN CORR\n",
    "t10_up = [i for i in range(1, 11)]\n",
    "t10_down = [i for i in range(10, 0, -1)]\n",
    "assert t10_up == tri_selection_1(t10_down, 10)\n",
    "### END CORR"
   ]
  },
  {
   "cell_type": "code",
   "execution_count": 6,
   "id": "35a37ae0-9f55-4164-a400-03182046aa86",
   "metadata": {
    "nbgrader": {
     "grade": true,
     "grade_id": "cell-85eeee4c95f1818a",
     "locked": true,
     "points": 1,
     "schema_version": 3,
     "solution": false,
     "task": false
    }
   },
   "outputs": [],
   "source": [
    "# Ne pas écrire dans cette cellule\n",
    "### BEGIN TEST CACHE\n",
    "t10_up = [i for i in range(1, 11)]\n",
    "t10_down = [i for i in range(10, 0, -1)]\n",
    "assert t10_up == tri_selection_1(t10_down, 10)\n",
    "### END TEST CACHE"
   ]
  },
  {
   "cell_type": "markdown",
   "id": "119e980b-216c-4308-98b6-a82ca0616620",
   "metadata": {
    "nbgrader": {
     "grade": false,
     "grade_id": "cell-29f7f0e0f74f2410",
     "locked": true,
     "schema_version": 3,
     "solution": false,
     "task": false
    }
   },
   "source": [
    "### Tri sélection avec copie d'un tableau 1D \n",
    "\n",
    "Ecrire `tri_selection_2()` une version du tri par sélection avec copie, c-a-d. avec un tableau supplémentaire.\n",
    "\n",
    "On rappelle par exemple que la fonction-méthode `l.pop(i)` enlève et retourne la valeur d'indice `i` de la liste python `l`.\n",
    "En revanche, on **interdit d'utiliser** la fonction-méthode `l.append()`."
   ]
  },
  {
   "cell_type": "code",
   "execution_count": 7,
   "id": "ce9486e0-fad6-4d0c-b416-e5456d82efb7",
   "metadata": {
    "nbgrader": {
     "grade": false,
     "grade_id": "cell-fb9df711b1eab4f0",
     "locked": false,
     "schema_version": 3,
     "solution": true,
     "task": false
    }
   },
   "outputs": [],
   "source": [
    "def tri_selection_2(t: list[int], n: int) -> list[int]:\n",
    "    '''tri par selection de n entiers : version avec copie'''\n",
    "    assert n == len(t)\n",
    "    ### BEGIN CORR\n",
    "    t_out = [0 for i in range(n)] \n",
    "    ind_min_trie = 0\n",
    "    while len(t) > 0:\n",
    "        ind_min = 0\n",
    "        for i in range(len(t)): # parcours complet de t\n",
    "            if t[i] < t[ind_min]:\n",
    "                ind_min = i\n",
    "        # suppresssion de t et placement dans t_out \n",
    "        t_out[ind_min_trie] = t.pop(ind_min)\n",
    "        #print(t, t_out)\n",
    "        ind_min_trie = ind_min_trie + 1\n",
    "    return t_out\n",
    "    ### END CORR"
   ]
  },
  {
   "cell_type": "code",
   "execution_count": 8,
   "id": "188ba8ec",
   "metadata": {
    "nbgrader": {
     "grade": true,
     "grade_id": "cell-6c20801382342ff8",
     "locked": true,
     "points": 1,
     "schema_version": 3,
     "solution": false,
     "task": false
    }
   },
   "outputs": [],
   "source": [
    "# Ne pas écrire dans cette cellule\n",
    "### BEGIN TEST CACHE\n",
    "t0 = [2, 4, 1, 3]\n",
    "tt0 = [1, 2, 3, 4]\n",
    "assert tt0 == tri_selection_2(t0, len(t0))\n",
    "#\n",
    "t10_down = [i for i in range(10, 0, -1)]\n",
    "assert t10_up == tri_selection_2(t10_down, 10)\n",
    "### END TEST CACHE"
   ]
  },
  {
   "cell_type": "markdown",
   "id": "10ad612f-7ce5-4897-a459-e046d1676c2b",
   "metadata": {
    "nbgrader": {
     "grade": false,
     "grade_id": "cell-92e57a45a1c41712",
     "locked": true,
     "schema_version": 3,
     "solution": false,
     "task": false
    }
   },
   "source": [
    "### Votre validation\n",
    "\n",
    "Ecrire les tests similaires à ceux de la version en place."
   ]
  },
  {
   "cell_type": "code",
   "execution_count": 9,
   "id": "3a02bba6",
   "metadata": {
    "nbgrader": {
     "grade": false,
     "grade_id": "cell-eb8ec74aa2c91578",
     "locked": false,
     "schema_version": 3,
     "solution": true,
     "task": false
    }
   },
   "outputs": [],
   "source": [
    "### BEGIN CORR\n",
    "t0 = [2, 4, 1, 3]\n",
    "tt0 = [1, 2, 3, 4]\n",
    "assert tt0 == tri_selection_2(t0, len(t0))\n",
    "#\n",
    "t10_down = [i for i in range(10, 0, -1)]\n",
    "assert t10_up == tri_selection_2(t10_down, 10)\n",
    "### END CORR"
   ]
  },
  {
   "cell_type": "code",
   "execution_count": 10,
   "id": "e0edb292-5cfd-4be0-adfe-2215515b9a29",
   "metadata": {
    "nbgrader": {
     "grade": true,
     "grade_id": "cell-1cd1b953f9e06a04",
     "locked": true,
     "points": 1,
     "schema_version": 3,
     "solution": false,
     "task": false
    }
   },
   "outputs": [],
   "source": [
    "# Ne pas écrire dans cette cellule\n",
    "### BEGIN TEST CACHE\n",
    "t0 = [2, 4, 1, 3]\n",
    "tt0 = [1, 2, 3, 4]\n",
    "assert tt0 == tri_selection_2(t0, len(t0))\n",
    "#\n",
    "t10_down = [i for i in range(10, 0, -1)]\n",
    "assert t10_up == tri_selection_2(t10_down, 10)\n",
    "### END TEST CACHE"
   ]
  },
  {
   "cell_type": "markdown",
   "id": "a85c9023",
   "metadata": {
    "nbgrader": {
     "grade": false,
     "grade_id": "cell-9198e9c2c1cad422",
     "locked": true,
     "schema_version": 3,
     "solution": false,
     "task": false
    }
   },
   "source": [
    "($\\star$) Complexité en temps\n",
    "\n",
    "Effectuer une analyse de la complexité en temps de ces 2 versions. Ne pas oublier de commencer par préciser le paramètre et la mesure de cette complexité. Justifier votre analyse. Expliciter les meilleurs et pire cas. En déduire la complexité asymptotique et l'écrire avec les notations de Landau."
   ]
  },
  {
   "cell_type": "markdown",
   "id": "df432463-352f-455a-9614-c67a6964bef8",
   "metadata": {
    "nbgrader": {
     "grade": true,
     "grade_id": "cell-af9d09777794c103",
     "locked": false,
     "points": 1,
     "schema_version": 3,
     "solution": true,
     "task": false
    }
   },
   "source": [
    "### BEGIN CORR\n",
    "**Réponse**\n",
    "\n",
    "- paramètre : n\n",
    "- mesure : nbre de comparaisons dans le `if`\n",
    "- versions 1 et 2 (itératives) : \n",
    "    - on effectue n-1 parcours de t, chacun avec n-1, n-2, ..., n-(n-1)=1 comparaisons,\n",
    "    - soit au totale n(n-1)/2 comparaisons\n",
    "    - complexité quadratique\n",
    "    - meilleur cas = pire cas \n",
    "    - donc complexité asymptotique exactement quadratique\n",
    "    - c-a-d $\\theta(n^2)$\n",
    "-version 3 : récursive\n",
    "    - il y a exactement n appel récursifs sur des tableaux de longueur \n",
    "    n, n-1, ..., 1\n",
    "    - chaque appel travaille successivement \n",
    "    - chaque appel effectue \n",
    "### END CORR"
   ]
  },
  {
   "cell_type": "markdown",
   "id": "42187c51",
   "metadata": {
    "nbgrader": {
     "grade": false,
     "grade_id": "cell-7d760ae38c586914",
     "locked": true,
     "schema_version": 3,
     "solution": false,
     "task": false
    }
   },
   "source": [
    "($\\star$) Complexité en espace.\n",
    "\n",
    "Que pensez-vous de la complexité en espace de ces 2 versions du tri sélection ?"
   ]
  },
  {
   "cell_type": "markdown",
   "id": "4ef86f30-6728-4f93-aec2-2de714d4b022",
   "metadata": {
    "nbgrader": {
     "grade": true,
     "grade_id": "cell-3fee773868f60196",
     "locked": false,
     "points": 1,
     "schema_version": 3,
     "solution": true,
     "task": false
    }
   },
   "source": [
    "### BEGIN CORR\n",
    "\n",
    "\n",
    "### END CORR"
   ]
  },
  {
   "cell_type": "markdown",
   "id": "89e40d0c-cc5e-4095-b552-dc289583e2fd",
   "metadata": {
    "nbgrader": {
     "grade": false,
     "grade_id": "cell-f83b59b60c8d9166",
     "locked": true,
     "schema_version": 3,
     "solution": false,
     "task": false
    }
   },
   "source": [
    "### Tri d'un tableau 2D\n",
    "\n",
    "On dispose maintenant de données stockées dans un \"tableau\" 2D $n \\times p$, c-a-d. un tableau de $n$ lignes et $p$ colonnes. "
   ]
  },
  {
   "cell_type": "markdown",
   "id": "2ec62f63-facd-43c9-9b19-17e206d01242",
   "metadata": {
    "nbgrader": {
     "grade": false,
     "grade_id": "cell-70a0a103a6edb59b",
     "locked": true,
     "schema_version": 3,
     "solution": false,
     "task": false
    }
   },
   "source": [
    "#### Le tableau 2D `poudlard`\n",
    "\n",
    "On a par exemple, le \"tableau\" `poudlard` suivant."
   ]
  },
  {
   "cell_type": "markdown",
   "id": "be0c2ae5-2652-485c-b6fb-fd37b7c82b25",
   "metadata": {
    "nbgrader": {
     "grade": false,
     "grade_id": "cell-df2ab49598b92265",
     "locked": true,
     "schema_version": 3,
     "solution": false,
     "task": false
    }
   },
   "source": [
    "| Nom | Courage | Loyauté | Sagesse | Malice | Maison |\n",
    "|:---|:---:|:---:|:---:|:---:|:---|\n",
    "|Adam | 9 | 4 | 7 | 10 | Serpentar |\n",
    "|Ahmed | 9 | 3 | 4 | 7 | Griffondor |\n",
    "|Albertine | 10 | 6 | 5 | 9 | Griffondor |\n",
    "|André | 2 | 8 | 8 | 3 | Serdaigle |\n",
    "|Angelina | 10 | 4 | 2 | 5 | Griffondor |\n"
   ]
  },
  {
   "cell_type": "markdown",
   "id": "e61a0b43-b28f-4a02-aede-f28e3dc0b63a",
   "metadata": {
    "nbgrader": {
     "grade": false,
     "grade_id": "cell-5ea5fb363eb92e3a",
     "locked": true,
     "schema_version": 3,
     "solution": false,
     "task": false
    }
   },
   "source": [
    "Vous aurez reconnu 6 premiers élèves-sorciers imaginaires (ici : Adam, Ahmed, Albertine, André, Angelina) d'une série déjà citée, répartis dans 3 (des 4) _Maisons_ (ici : Serpentar, Griffondor, Serdaigle) en fonction de leurs qualités (courage, loyauté,  sagesse, malice). D'autres élèves-sorciers et la quatrième maison (Poufssouffle) apparaîtront prochainement."
   ]
  },
  {
   "cell_type": "markdown",
   "id": "bbf29ce6-561d-4835-b9fa-b2a157e55537",
   "metadata": {
    "nbgrader": {
     "grade": false,
     "grade_id": "cell-56cd15a1b33509bf",
     "locked": true,
     "schema_version": 3,
     "solution": false,
     "task": false
    }
   },
   "source": [
    "Ce \"tableau\" peut être stocké par la liste de listes suivante."
   ]
  },
  {
   "cell_type": "code",
   "execution_count": 11,
   "id": "046a900f-d184-4171-84c0-6e68b3083698",
   "metadata": {
    "nbgrader": {
     "grade": false,
     "grade_id": "cell-c28d5731aa3c8c94",
     "locked": true,
     "schema_version": 3,
     "solution": false,
     "task": false
    }
   },
   "outputs": [],
   "source": [
    "poudlard = [\n",
    "    [\"Adam\", 9, 4, 7, 10, \"Serpentar\"],\n",
    "    [\"Ahmed\", 9, 3, 4, 7, \"Griffondor\"], \n",
    "    [\"Albertine\", 10, 6, 5, 9, \"Griffondor\"], \n",
    "    [\"André\", 2, 8, 8, 3, \"Serdaigle\"],\n",
    "    [\"Angelina\", 10, 4, 2, 5, \"Griffondor\"]\n",
    "]"
   ]
  },
  {
   "cell_type": "markdown",
   "id": "3d351a8c-765e-4c1a-82f8-39f0ef4442b2",
   "metadata": {
    "nbgrader": {
     "grade": false,
     "grade_id": "cell-f181f0e572ce8ec9",
     "locked": true,
     "schema_version": 3,
     "solution": false,
     "task": false
    }
   },
   "source": [
    "Ainsi les guillemets utilisés autour de \"tableau\" s'expliquent : toutes les valeurs stockées ne sont pas d'un type unique : il s'agit bien de liste de listes.  On se dispense donc maintenant de ces guillements."
   ]
  },
  {
   "cell_type": "markdown",
   "id": "0db80df2-c133-425f-9068-d6e5b848f869",
   "metadata": {
    "nbgrader": {
     "grade": false,
     "grade_id": "cell-6c2b81401054fb99",
     "locked": true,
     "schema_version": 3,
     "solution": false,
     "task": false
    }
   },
   "source": [
    "**Préalable**.  Les en-têtes des fonctions sont systématiquement définis. Ils explicitent le type des arguments de ces fonctions. \n",
    "\n",
    "Dans ce sujet, on va écrire des fonctions qui manipulent des tableaux 2D **de valeurs de type différents**, ici des `int` ou des `str`.\n",
    "python 3.7 (version instalée à ce jour sur les machines) nécessite quelques contorsions pour définir le type de tels arguments, c-a-d. des listes de `int` ou `str`.\n",
    "\n",
    "En début de sujet, on a donc défini \"un nouveau type\" `IntOrStr`. Ainsi on peut maintenant écrire `list[IntOrStr]` pour caractériser une liste de valeurs `int` ou `str`.\n",
    "\n",
    "L'importation d'`Union` du module `typing` effectuée aussi en début de sujet permet de décrire certains cas \"un peu compliqués\". Ainsi `Union[int, str, None]` indique une valeur de type `int`, ou `str` ou la valeur  `None`. Cette construction est par exemple utilisée pour préciser le type de la valeur retournée par une fonction. "
   ]
  },
  {
   "cell_type": "markdown",
   "id": "ea81b03d-fcea-4606-904a-d9f7b5495301",
   "metadata": {
    "nbgrader": {
     "grade": false,
     "grade_id": "cell-efbb1b7c529128eb",
     "locked": true,
     "schema_version": 3,
     "solution": false,
     "task": false
    },
    "tags": []
   },
   "source": [
    "#### Tri sélection d'un tableau 2D"
   ]
  },
  {
   "cell_type": "markdown",
   "id": "3796133f-e2f8-46c2-8a52-717763148cec",
   "metadata": {
    "nbgrader": {
     "grade": false,
     "grade_id": "cell-b54c8d84d007a414",
     "locked": true,
     "schema_version": 3,
     "solution": false,
     "task": false
    }
   },
   "source": [
    "On veut maintenant _trier les lignes_ d'un tableau 2D _selon les valeurs d'une de ses colonnes_. Ceci suppose qu'une relation d'ordre existe sur les valeurs de cette colonne.\n",
    "\n",
    "Par exemple, le tableau `poudlard` est actuellement trié selon sa colonne `0`,  c-a-d. selon l'ordre lexicographique\n",
    "(*) des `Noms`.\n",
    "\n",
    "(*) L'ordre lexicographique est l'ordre alphabétique étendu, par exemple appliqué pour ranger les mots d'un dictionnaire."
   ]
  },
  {
   "cell_type": "markdown",
   "id": "4d737576-2c4f-44a5-922a-5f70008226d2",
   "metadata": {
    "nbgrader": {
     "grade": false,
     "grade_id": "cell-eb9f4730811ffc01",
     "locked": true,
     "schema_version": 3,
     "solution": false,
     "task": false
    }
   },
   "source": [
    "On modifie donc la signature de la fonction de tri sélection d'un tableau 1D pour indiquer **le numéro de la colonne** selon laquelle s'effectue **le tri des lignes** du tableau 2D."
   ]
  },
  {
   "cell_type": "code",
   "execution_count": 12,
   "id": "158fee43-2c5e-4010-8d5d-8bd8c87cf9e8",
   "metadata": {
    "nbgrader": {
     "grade": false,
     "grade_id": "cell-9ffc86a41388f634",
     "locked": true,
     "schema_version": 3,
     "solution": false,
     "task": false
    }
   },
   "outputs": [],
   "source": [
    "def tri2D_selection(t: list[list[IntOrStr]], n: int, p: int, num_col: int) -> list[list[IntOrStr]]:\n",
    "    '''signature d'un tri par selection d'un tableau 2D d'int ou de str\n",
    "    selon l'ordre croissant de la colonne de numéro num_col'''\n",
    "    pass"
   ]
  },
  {
   "cell_type": "markdown",
   "id": "8a6670f4-34a3-4990-b020-f6820826f676",
   "metadata": {
    "nbgrader": {
     "grade": false,
     "grade_id": "cell-d3f83e8cd6393c62",
     "locked": true,
     "schema_version": 3,
     "solution": false,
     "task": false
    }
   },
   "source": [
    "**Remarque.** On pourrait aussi ajouter un paramètre supplémentaire pour indiquer la relation d'ordre qui s'applique sur les valeurs de la \"colonne de tri\". Ici les colonnes 0 (\"Nom\") et 5 (\"Maison\") sont des valeurs de type `str` tandis que les 4 autres sont de type `int`. Ainsi, on pourrait spécifier des relations d'ordre adaptées selon le choix de la colonne de tri. Par exemple, l'ordre lexicographique (croissant) pour les colonnes 0 et 5, et l'ordre naturel (croissant) pour les 4 autres. Remarquons qu'un tel paramètre serait une fonction (et non une valeur). \n",
    "\n",
    "On va simplifier cette question en utilisant, comme pour les tableaux 1D d'entiers traités précédemment, **les relations d'ordre notées `<`, `<=`, `>=` ou `>`** qui s'appliquent (en python) de façon adaptée à des valeurs `int` (ordre naturel) ou `str` (ordre lexicographique).  Attention cependant à ne pas comparer aveuglément des `int` à des `str`.\n",
    "\n",
    "La cellule suivante qui s'exécute sans erreur vous aide à mieux comprendre si besoin."
   ]
  },
  {
   "cell_type": "code",
   "execution_count": 13,
   "id": "a44b0fd6-899c-4d6a-8d9a-55bbba09de36",
   "metadata": {
    "nbgrader": {
     "grade": false,
     "grade_id": "cell-b983827a939ad3c7",
     "locked": true,
     "schema_version": 3,
     "solution": false,
     "task": false
    }
   },
   "outputs": [],
   "source": [
    "# Exécuter cette cellule sans la modifier, ni écrire dedans\n",
    "# Son exécution ne doit pas déclencher d'erreur \n",
    "assert (2 < 9) == True \n",
    "assert (9 <= 9) == True \n",
    "assert (12 <= 9) == False\n",
    "assert (\"Adam\" < \"Angelique\") == True\n",
    "assert (\"Angelique\" <= \"Angelique\") == True\n",
    "assert (\"Albertine\" <= \"Adam\") == False "
   ]
  },
  {
   "cell_type": "markdown",
   "id": "6f4d5ef8-3088-46ed-99f5-f7918442f2fe",
   "metadata": {
    "nbgrader": {
     "grade": false,
     "grade_id": "cell-a318ca70f8c4f38e",
     "locked": true,
     "schema_version": 3,
     "solution": false,
     "task": false
    }
   },
   "source": [
    "#### Tri sélection 2D en place"
   ]
  },
  {
   "cell_type": "markdown",
   "id": "efb419ca-ec9b-4700-a413-d02da3b61586",
   "metadata": {
    "nbgrader": {
     "grade": false,
     "grade_id": "cell-49ce0e586c4d3a6a",
     "locked": true,
     "schema_version": 3,
     "solution": false,
     "task": false
    }
   },
   "source": [
    "Ecrire `tri2D_selection()` une version \"en place\" du tri par sélection d'un tableau 2D selon les valeurs d'une colonne."
   ]
  },
  {
   "cell_type": "code",
   "execution_count": 14,
   "id": "15950f8c-c99b-4763-84bb-83f68537c26c",
   "metadata": {
    "nbgrader": {
     "grade": false,
     "grade_id": "cell-55333c5176f8b5a3",
     "locked": false,
     "schema_version": 3,
     "solution": true,
     "task": false
    }
   },
   "outputs": [],
   "source": [
    "def tri2D_selection(t: list[list[IntOrStr]], n: int, p: int, num_col: int) -> list[list[IntOrStr]]:\n",
    "    '''tri par selection d'un tableau 2D d'int ou de str\n",
    "    selon l'ordre croissant de num_col'''\n",
    "    assert n == len(t)\n",
    "    for _ in range(n):\n",
    "        assert p == len(t[_])\n",
    "    assert 0 <= num_col < p or -p < num_col <= -1\n",
    "    ### BEGIN CORR   \n",
    "    for ind_min_trie in range(0, n-1):        \n",
    "        ind_min = ind_min_trie\n",
    "        for i in range(ind_min_trie, n):\n",
    "            if t[i][num_col] < t[ind_min][num_col]:\n",
    "                ind_min = i\n",
    "        # permutation t[ind_min] et t[ind_min_trie] \n",
    "        tmp = t[ind_min_trie] # tmp est une liste de taille p\n",
    "        t[ind_min_trie] = t[ind_min]\n",
    "        t[ind_min] = tmp\n",
    "        #print(t)\n",
    "    return t\n",
    "    ### END CORR"
   ]
  },
  {
   "cell_type": "markdown",
   "id": "892631a2-eecc-440d-8e46-764d062b961b",
   "metadata": {
    "nbgrader": {
     "grade": false,
     "grade_id": "cell-b123b7c018fc384a",
     "locked": true,
     "schema_version": 3,
     "solution": false,
     "task": false
    }
   },
   "source": [
    "#### Autovalidation\n",
    "\n",
    "La validation suivante doit s'exécuter sans erreur. Et il est utile de comprendre _pourquoi_ cette validation est ainsi construite."
   ]
  },
  {
   "cell_type": "code",
   "execution_count": 15,
   "id": "a8593698-7727-4b7d-94e2-d57d512ac31c",
   "metadata": {
    "nbgrader": {
     "grade": true,
     "grade_id": "cell-a2df73c752bf78f8",
     "locked": true,
     "points": 1,
     "schema_version": 3,
     "solution": false,
     "task": false
    }
   },
   "outputs": [],
   "source": [
    "# Exécuter cette cellule sans la modifier, ni écrire dedans\n",
    "# Son exécution ne doit pas déclencher d'erreur \n",
    "p1 = tri2D_selection(poudlard, len(poudlard), len(poudlard[0]), 0)\n",
    "assert p1 == poudlard\n",
    "\n",
    "for i in range(len(p1)):\n",
    "    assert p1[i][0] == poudlard[i][0]\n",
    "    \n",
    "for i in range(len(p1)):\n",
    "    for j in range(1, len(p1[0])):\n",
    "            assert p1[i][j] == poudlard[i][j]"
   ]
  },
  {
   "cell_type": "markdown",
   "id": "f3e5026b-218e-483a-9792-3baa5192c12c",
   "metadata": {
    "nbgrader": {
     "grade": false,
     "grade_id": "cell-9c0a2f132b35603d",
     "locked": true,
     "schema_version": 3,
     "solution": false,
     "task": false
    }
   },
   "source": [
    "#### Votre validation (1)\n",
    "\n",
    "Vérifier que le tri de `poudlard` selon la valeur `Courage` conduit bien à l'affichage suivant.\n",
    "\n",
    "```python\n",
    "[['André', 2, 8, 8, 3, 'Serdaigle'], ['Ahmed', 9, 3, 4, 7, 'Griffondor'], ['Adam', 9, 4, 7, 10, 'Serpentar'], ['Albertine', 10, 6, 5, 9, 'Griffondor'], ['Angelina', 10, 4, 2, 5, 'Griffondor']]\n",
    "```\n",
    "\n",
    "**Attention.** Il s'agit d'un tri _en place_ qui va donc modifier le tableau à trier (ici `poudlard`). Il peut donc être utile de conserver une copie du tableau initial ou de le re-générer si besoin."
   ]
  },
  {
   "cell_type": "code",
   "execution_count": 16,
   "id": "57a7ecfc-433c-447f-899e-038b19677500",
   "metadata": {
    "nbgrader": {
     "grade": false,
     "grade_id": "cell-a6c6cfa2fd94b375",
     "locked": false,
     "schema_version": 3,
     "solution": true,
     "task": false
    }
   },
   "outputs": [],
   "source": [
    "### BEGIN CORR\n",
    "poudlard = [\n",
    "    [\"Adam\", 9, 4, 7, 10, \"Serpentar\"],\n",
    "    [\"Ahmed\", 9, 3, 4, 7, \"Griffondor\"], \n",
    "    [\"Albertine\", 10, 6, 5, 9, \"Griffondor\"], \n",
    "    [\"André\", 2, 8, 8, 3, \"Serdaigle\"],\n",
    "    [\"Angelina\", 10, 4, 2, 5, \"Griffondor\"]\n",
    "]\n",
    "res = [['André', 2, 8, 8, 3, 'Serdaigle'], ['Ahmed', 9, 3, 4, 7, 'Griffondor'], ['Adam', 9, 4, 7, 10, 'Serpentar'], ['Albertine', 10, 6, 5, 9, 'Griffondor'], ['Angelina', 10, 4, 2, 5, 'Griffondor']]\n",
    "t1 = tri2D_selection(poudlard, len(poudlard), len(poudlard[0]), 1)\n",
    "assert t1 == res\n",
    "### END CORR"
   ]
  },
  {
   "cell_type": "code",
   "execution_count": 17,
   "id": "feda2689",
   "metadata": {
    "nbgrader": {
     "grade": true,
     "grade_id": "cell-844f278e53b01a6f",
     "locked": true,
     "points": 1,
     "schema_version": 3,
     "solution": false,
     "task": false
    }
   },
   "outputs": [],
   "source": [
    "# Ne pas écrire dans cette cellule\n",
    "### BEGIN TEST CACHE\n",
    "t1 = tri2D_selection(poudlard, len(poudlard), len(poudlard[0]), 1)\n",
    "assert t1 == res\n",
    "### END TEST CACHE"
   ]
  },
  {
   "cell_type": "markdown",
   "id": "8d764f19",
   "metadata": {
    "nbgrader": {
     "grade": false,
     "grade_id": "cell-bf1a978f45e1df37",
     "locked": true,
     "schema_version": 3,
     "solution": false,
     "task": false
    }
   },
   "source": [
    "#### Votre validation (2)\n",
    "\n",
    "Vérifier que le tri de `poudlard` selon la `Maison` conduit bien à l'affichage suivant.\n",
    "\n",
    "```python\n",
    "[['Ahmed', 9, 3, 4, 7, 'Griffondor'], ['Albertine', 10, 6, 5, 9, 'Griffondor'], ['Angelina', 10, 4, 2, 5, 'Griffondor'], ['André', 2, 8, 8, 3, 'Serdaigle'], ['Adam', 9, 4, 7, 10, 'Serpentar']]\n",
    "```\n",
    "\n",
    "**Attention.** Il s'agit d'un tri _en place_ qui va donc modifier le tableau à trier (ici `poudlard`). Il peut donc être utile de conserver une copie du tableau initial ou de le re-générer si besoin."
   ]
  },
  {
   "cell_type": "code",
   "execution_count": 18,
   "id": "b3df0689-29f3-4bb3-8c68-60d3adb29ab1",
   "metadata": {
    "nbgrader": {
     "grade": false,
     "grade_id": "cell-6fb1ef7d38435bba",
     "locked": false,
     "schema_version": 3,
     "solution": true,
     "task": false
    }
   },
   "outputs": [],
   "source": [
    "### BEGIN CORR\n",
    "t2 = tri2D_selection(poudlard, len(poudlard), len(poudlard[0]), 5)\n",
    "res = [['Ahmed', 9, 3, 4, 7, 'Griffondor'], ['Albertine', 10, 6, 5, 9, 'Griffondor'], ['Angelina', 10, 4, 2, 5, 'Griffondor'], ['André', 2, 8, 8, 3, 'Serdaigle'], ['Adam', 9, 4, 7, 10, 'Serpentar']]\n",
    "assert res == t2\n",
    "### END CORR"
   ]
  },
  {
   "cell_type": "code",
   "execution_count": 19,
   "id": "8647dc06",
   "metadata": {
    "nbgrader": {
     "grade": true,
     "grade_id": "cell-b3c9c241d8d8c4f0",
     "locked": true,
     "points": 1,
     "schema_version": 3,
     "solution": false,
     "task": false
    }
   },
   "outputs": [],
   "source": [
    "# Ne pas écrire dans cette cellule\n",
    "### BEGIN TEST CACHE\n",
    "t2 = tri2D_selection(poudlard, len(poudlard), len(poudlard[0]), 5)\n",
    "res = [['Ahmed', 9, 3, 4, 7, 'Griffondor'], ['Albertine', 10, 6, 5, 9, 'Griffondor'], ['Angelina', 10, 4, 2, 5, 'Griffondor'], ['André', 2, 8, 8, 3, 'Serdaigle'], ['Adam', 9, 4, 7, 10, 'Serpentar']]\n",
    "assert res == t2\n",
    "### END TEST CACHE"
   ]
  },
  {
   "cell_type": "markdown",
   "id": "16117d98-c865-4747-979c-b2e1ea2932b6",
   "metadata": {
    "nbgrader": {
     "grade": false,
     "grade_id": "cell-3696b99c5b2751c2",
     "locked": true,
     "schema_version": 3,
     "solution": false,
     "task": false
    }
   },
   "source": [
    "## Etape 2 : continuons avec l'élément majoritaire de `n` éléments\n",
    "\n",
    "Nous allons préciser deux notions différentes de la notion d'élément majoritaire parmi `n` éléments.\n",
    "\n",
    "**Elément majoritaire : sens absolu.** \n",
    "_L'élément majoritaire_ d'une liste de `n` éléments est, _lorsqu'il existe_, l'élément qui apparaît _strictement plus que_ `n//2` fois.\n",
    "\n",
    "Plusieurs algorithmes (de diverses complexités) existent pour déterminer, lorsqu'il existe, l'élément majoritaire d'un ensemble d'éléments. \n",
    "\n",
    "Une seconde définition permet d'obtenir au moins une réponse dans tous les cas.\n",
    "\n",
    "**Elément majoritaire : sens relatif.** \n",
    "L'_élément majoritaire_ d'une liste de `n` éléments est l'élément qui apparaît le plus grand nombre de fois. \n",
    "\n",
    "Cette définition assure l'existence d'_au moins un_ élément majoritaire quelques soient les `n` éléments de départ. En revanche, l'unicité n'est plus assurée : `n` éléments, au plus, peuvent être majoritaires (au sens relatif).\n",
    "\n",
    "Le choix de l'une ou l'autre des définitions (\"absolu\" _vs._ \"relatif\") dépend des contextes d'intérêt.\n",
    "\n",
    "**Dans la suite de ce tp**, nous considérons **uniquement la formulation relative**.\n",
    "\n",
    "Pour calculer un tel élément majoritaire, nous allons :\n",
    "\n",
    "1. effectuer un parcours séquentiel des `n` éléments,  \n",
    "2. dénombrer les occurrences de chacun de ces éléments \n",
    "3. en mettant à jour un dictionnaire `{(élément : nombre d'occurrences de cet élément)}`\n",
    "    - la clé est un des `n` éléments \n",
    "    - la valeur correspondante est le nombre d'occurrences de cet élément ;\n",
    "4. puis effectuer un parcours de ce dictionnaire afin d'identifier le (ou les) élément(s) majoritaire(s). \n"
   ]
  },
  {
   "cell_type": "markdown",
   "id": "505ad98b-603c-412c-acbe-097cc26a046c",
   "metadata": {
    "nbgrader": {
     "grade": false,
     "grade_id": "cell-395d177b0bc59883",
     "locked": true,
     "schema_version": 3,
     "solution": false,
     "task": false
    }
   },
   "source": [
    "### Elément(s) majoritaire(s) d'un tableau 1D de `n` entiers\n",
    "\n",
    "Ecrire la fonction `elemMajoritaire1D()` qui retourne sous la forme d'une liste (éventuellement réduite à un seul élément) l'élément majoritaire de $n$ valeurs _entières_ stockées dans un tableau 1D. Cette fonction retournera `None` si la liste des éléments majoritaires est vide.\n",
    "\n",
    "**Remarque.** Cette fonction ne retourne pas le dictionnaire nécessaire à son exécution."
   ]
  },
  {
   "cell_type": "code",
   "execution_count": 20,
   "id": "38f6f272-9ca4-4411-8eaf-95c8bd8db45b",
   "metadata": {
    "nbgrader": {
     "grade": false,
     "grade_id": "cell-25f0aaa5a9dcc3cf",
     "locked": false,
     "schema_version": 3,
     "solution": true,
     "task": false
    }
   },
   "outputs": [],
   "source": [
    "def elemMajoritaire1D(t : list[int], n: int) -> Union[list[int], None]:\n",
    "    '''retourne l'élément majoritaite de t tab de n entiers ou None sinon'''\n",
    "    assert n == len(t)\n",
    "    ### BEGIN CORR\n",
    "    if n == 0:\n",
    "        return None\n",
    "    \n",
    "    nbocc = {}\n",
    "    \n",
    "    # construction et maj du dictionnaire des nb d'occ\n",
    "    for v in t:\n",
    "        if v in nbocc:\n",
    "            nbocc[v] = nbocc[v] + 1\n",
    "        else:\n",
    "            nbocc[v] = 1\n",
    "            \n",
    "    \n",
    "    # recherhce elem maj dans d\n",
    "    max = nbocc[t[0]]\n",
    "    res = []\n",
    "    for v in nbocc:\n",
    "        if nbocc[v] > max:\n",
    "            max = nbocc[v]\n",
    "            res = [v]\n",
    "        elif nbocc[v] == max:\n",
    "            res.append(v)\n",
    "    return res\n",
    "    ### END CORR"
   ]
  },
  {
   "cell_type": "markdown",
   "id": "68f51736-9725-4d9a-8469-650a07f4292d",
   "metadata": {
    "nbgrader": {
     "grade": false,
     "grade_id": "cell-febbda78978315c4",
     "locked": true,
     "schema_version": 3,
     "solution": false,
     "task": false
    },
    "tags": []
   },
   "source": [
    "### Auto-validation\n",
    "\n",
    "La validation suivante doit s'exécuter sans erreur."
   ]
  },
  {
   "cell_type": "code",
   "execution_count": 21,
   "id": "3c8f6fe6-b64e-4f83-8137-9f61733fa7eb",
   "metadata": {
    "nbgrader": {
     "grade": true,
     "grade_id": "cell-c306c989c147d3b2",
     "locked": true,
     "points": 1,
     "schema_version": 3,
     "solution": false,
     "task": false
    }
   },
   "outputs": [],
   "source": [
    "# Exécuter cette cellule sans la modifier, ni écrire dedans\n",
    "# Son exécution ne doit pas déclencher d'erreur \n",
    "t0 = [2, 4, 1, 3]\n",
    "t1 = [3, 3, 1, 3]\n",
    "assert sorted(elemMajoritaire1D(t0, len(t0))) == sorted(t0)\n",
    "assert elemMajoritaire1D(t1, len(t1)) == [3]"
   ]
  },
  {
   "cell_type": "markdown",
   "id": "c33fd810-be10-40d5-9321-1be3ee2acce3",
   "metadata": {
    "nbgrader": {
     "grade": false,
     "grade_id": "cell-679d3c9d9dd5332d",
     "locked": true,
     "schema_version": 3,
     "solution": false,
     "task": false
    }
   },
   "source": [
    "### Votre validation\n",
    "\n",
    "Ecrire des tests de validation qui complètent les précédents : tableaux de taille impair, tableau vide."
   ]
  },
  {
   "cell_type": "code",
   "execution_count": 22,
   "id": "742cdbd8-2d93-45e7-9a8d-f6665b001a2a",
   "metadata": {
    "nbgrader": {
     "grade": false,
     "grade_id": "cell-846731a606f79945",
     "locked": false,
     "schema_version": 3,
     "solution": true,
     "task": false
    }
   },
   "outputs": [],
   "source": [
    "### BEGIN CORR\n",
    "assert elemMajoritaire1D([], 0) == None\n",
    "assert sorted(elemMajoritaire1D([3, 3, 1, 3, 1], 5)) == [3]\n",
    "assert sorted(elemMajoritaire1D([3, 3, 1, 1, 2], 5)) == [1, 3]\n",
    "### END CORR"
   ]
  },
  {
   "cell_type": "code",
   "execution_count": 23,
   "id": "c385933c",
   "metadata": {
    "nbgrader": {
     "grade": true,
     "grade_id": "cell-b1bfafe0378886e9",
     "locked": true,
     "points": 1,
     "schema_version": 3,
     "solution": false,
     "task": false
    }
   },
   "outputs": [],
   "source": [
    "# Ne pas écrire dans cette cellule\n",
    "### BEGIN TEST CACHE\n",
    "assert elemMajoritaire1D([], 0) == None\n",
    "assert sorted(elemMajoritaire1D([3, 3, 1, 3, 1], 5)) == [3]\n",
    "assert sorted(elemMajoritaire1D([3, 3, 1, 1, 2], 5)) == [1, 3]\n",
    "### END TEST CACHE"
   ]
  },
  {
   "cell_type": "markdown",
   "id": "f4750756-3dec-49d3-bc4f-ccb1ed2864d5",
   "metadata": {
    "nbgrader": {
     "grade": false,
     "grade_id": "cell-f0e0baf6e659761f",
     "locked": true,
     "schema_version": 3,
     "solution": false,
     "task": false
    }
   },
   "source": [
    "### Elément(s) majoritaire(s) d'un tableau 2D\n",
    "\n",
    "On étend naturellement aux tableaux 2Dla notion d'élément majoritaire _selon une de ses colonnes_.  L'élément majoritaire est alors l'élément majoritaire (au sens relatif) des `n` éléments qui composent la colonne choisie. \n",
    "\n",
    "Ecrire la fonction `elemMajoritaire2D()` qui effectue ce traitement selon une colonne  d'un tableau 2D similaire à `poudlard`. "
   ]
  },
  {
   "cell_type": "code",
   "execution_count": 24,
   "id": "3141c847-82e8-4583-8ae2-52328a548280",
   "metadata": {
    "nbgrader": {
     "grade": false,
     "grade_id": "cell-5d4b81e89ad5cfc7",
     "locked": false,
     "schema_version": 3,
     "solution": true,
     "task": false
    }
   },
   "outputs": [],
   "source": [
    "def elemMajoritaire2D(t : list[list[IntOrStr]], n: int, p: int, num_col: int) -> Union[int, str, None]:\n",
    "    '''retourne l'élément majoritaite de t tab2D de n lignes d'int ou str,\n",
    "    retourne None si pas d'elemnt majoritaire'''\n",
    "    assert n == len(t)\n",
    "    for i in range(n):\n",
    "        assert p == len(t[i])\n",
    "    ### BEGIN CORR\n",
    "    # extraction de la num_col de t comme t1D\n",
    "    tmp = [v[num_col] for v in t]\n",
    "    return elemMajoritaire1D( tmp, len(tmp) )    \n",
    "    ### END CORR"
   ]
  },
  {
   "cell_type": "markdown",
   "id": "98769147-a3e7-4bac-866a-f8716514f7b2",
   "metadata": {
    "nbgrader": {
     "grade": false,
     "grade_id": "cell-71b0ae679ee74bd2",
     "locked": true,
     "schema_version": 3,
     "solution": false,
     "task": false
    }
   },
   "source": [
    "### Autovalidation\n",
    "\n",
    "La validation suivante doit s'exécuter sans erreur."
   ]
  },
  {
   "cell_type": "code",
   "execution_count": 25,
   "id": "af9e8b68-16a5-4a4b-b8b6-fa53315c356d",
   "metadata": {
    "nbgrader": {
     "grade": true,
     "grade_id": "cell-bfd570a779e0d882",
     "locked": true,
     "points": 1,
     "schema_version": 3,
     "solution": false,
     "task": false
    }
   },
   "outputs": [],
   "source": [
    "# Exécuter cette cellule sans la modifier, ni écrire dedans\n",
    "# Son exécution ne doit pas déclencher d'erreur \n",
    "maisonMaj = elemMajoritaire2D(poudlard, len(poudlard), len(poudlard[0]), 5)\n",
    "assert maisonMaj == [\"Griffondor\"]"
   ]
  },
  {
   "cell_type": "markdown",
   "id": "2d80e098-dfc0-4b44-b6ab-eccd96f3a206",
   "metadata": {
    "nbgrader": {
     "grade": false,
     "grade_id": "cell-be3358628156c8af",
     "locked": true,
     "schema_version": 3,
     "solution": false,
     "task": false
    }
   },
   "source": [
    "### Votre validation\n",
    "\n",
    "Ecrire des tests de validation qui vérifient le(s) élément(s) majoritaire(s) pour chacune des qualités des 6 élèves-sorciers actuels de `poudlard`."
   ]
  },
  {
   "cell_type": "code",
   "execution_count": 26,
   "id": "9b16181a-d6bc-4cbe-a134-1e089528f333",
   "metadata": {
    "nbgrader": {
     "grade": false,
     "grade_id": "cell-5cba5ffd948e164c",
     "locked": false,
     "schema_version": 3,
     "solution": true,
     "task": false
    }
   },
   "outputs": [
    {
     "name": "stdout",
     "output_type": "stream",
     "text": [
      "[9, 10]\n",
      "[4]\n",
      "[2, 4, 5, 7, 8]\n",
      "[3, 5, 7, 9, 10]\n"
     ]
    }
   ],
   "source": [
    "### BEGIN CORR\n",
    "for q in range(1,5):\n",
    "    q_maj = elemMajoritaire2D(poudlard, len(poudlard), len(poudlard[0]), q)\n",
    "    print(sorted(q_maj))\n",
    "### END CORR"
   ]
  },
  {
   "cell_type": "code",
   "execution_count": 27,
   "id": "f111522e-f371-4f73-87ed-36669db83dfe",
   "metadata": {
    "nbgrader": {
     "grade": true,
     "grade_id": "cell-129a3b866660b675",
     "locked": true,
     "points": 1,
     "schema_version": 3,
     "solution": false,
     "task": false
    }
   },
   "outputs": [],
   "source": [
    "# Ne pas écrire dans cette cellule\n",
    "### BEGIN TEST CACHE\n",
    "res = [\n",
    "    [9, 10],\n",
    "    [4],\n",
    "    [2, 4, 5, 7, 8],\n",
    "    [3, 5, 7, 9, 10]\n",
    "]\n",
    "\n",
    "for q in range(1,5):\n",
    "    assert sorted(elemMajoritaire2D(poudlard, len(poudlard), len(poudlard[0]), q)) == res[q-1]\n",
    "### END TEST CACHE"
   ]
  },
  {
   "cell_type": "markdown",
   "id": "1b011f9e-2a2f-4aaf-9d3d-1f1a57a79297",
   "metadata": {
    "nbgrader": {
     "grade": false,
     "grade_id": "cell-2af812d8fd0ff4ec",
     "locked": true,
     "schema_version": 3,
     "solution": false,
     "task": false
    }
   },
   "source": [
    "## Etape 3 : mesurons des proximités un peu compliquées\n",
    "\n",
    "Il existe de nombreuses distances pour mesurer la proximité entre deux objets mathématiques. Intéressons-nous au cas suivant.\n",
    "\n",
    "Chaque ligne du tableau 2D `poudlard`  contient un vecteur de 4 valeurs discrètes  : courage, loyauté, sagesse, et malice. Ces valeurs sont des entiers positifs entre 0 et 10.\n",
    "\n",
    "On peut donc extraire de la ligne $i$, qui décrit l'élève-sorcier $h_i$, les 4 valeurs $(c_i, l_i, s_i, m_i)$ de **c**ourage, **l**oyauté, **s**agesse et **m**alice de l'élève-sorcier $h_i$.\n",
    "\n",
    "Par exemple, la ligne d'`Adam` donne le vecteur (9, 4, 7, 10) et celle d'`Ahmed` le vecteur (9, 3, 4, 7)."
   ]
  },
  {
   "cell_type": "markdown",
   "id": "ec1d77cd-d0b4-4711-b97c-4766f25edacd",
   "metadata": {
    "nbgrader": {
     "grade": false,
     "grade_id": "cell-80e4bed697198f98",
     "locked": true,
     "schema_version": 3,
     "solution": false,
     "task": false
    }
   },
   "source": [
    "### Distance de Manhattan ... à Poudlard !\n",
    "\n",
    "La **distance** (dite) **de Manhattan** est adaptée pour mesurer la proximité de 2 élèves-sorciers du tableau `poudlard` (c-a-d. de 2 lignes de ce tableau). On la définit comme suit pour 2 élèves-sorciers $h_1$ et $h_2$ du tableau `poudlard` :\n",
    "\n",
    "$$d(h_1, h_2) = |c_1 - c_2| + |l_1 - l_2| + |s_1 - s_2| +|m_1 - m_2|$$\n",
    "\n",
    "où $h_i = (c_i, l_i, s_i, m_i)$ pour $i= 1, 2$."
   ]
  },
  {
   "cell_type": "markdown",
   "id": "66b806bf-998a-4847-8913-193473540029",
   "metadata": {
    "nbgrader": {
     "grade": false,
     "grade_id": "cell-006fc58135828128",
     "locked": true,
     "schema_version": 3,
     "solution": false,
     "task": false
    }
   },
   "source": [
    "Par exemple, la distance de Manhattan entre `\"Adam\"` et `\"Ahmed\"` vaut $|9-9|+|4-3|+|7-4|+|10-7| = 7$."
   ]
  },
  {
   "cell_type": "markdown",
   "id": "77588e45-f795-4a1a-bf68-13840f83aa61",
   "metadata": {
    "nbgrader": {
     "grade": false,
     "grade_id": "cell-13cf072f924431dc",
     "locked": true,
     "schema_version": 3,
     "solution": false,
     "task": false
    }
   },
   "source": [
    "### `distM()`\n",
    "\n",
    "Ecrire selon l'en-tête suivante, la fonction `distM()` qui retourne la distance de Manhattan entre 2 élèves-sorciers décrits par les lignes `i` et `j` du tableau `t` à `n` lignes et `p` colonnes. Le paramètre `cols` est le t-uple qui décrit les numéros des colonnes du tableau `t` qui forment le vecteur à considérer pour le calcul de la distance entre les 2 lignes.\n",
    "\n",
    "Par exemple pour le tableau `poudlard`, le tuple (1, 2, 3, 4) décrit les 4 valeurs $(c_i, l_i, s_i, m_i)$ mentionnées plus haut."
   ]
  },
  {
   "cell_type": "code",
   "execution_count": 28,
   "id": "b29a9386-1332-490c-a81d-fe7834930583",
   "metadata": {
    "nbgrader": {
     "grade": false,
     "grade_id": "cell-c39cac4e57f6a2f0",
     "locked": false,
     "schema_version": 3,
     "solution": true,
     "task": false
    }
   },
   "outputs": [],
   "source": [
    "def distM(i: int, j: int, cols: tuple[int],\n",
    "          t: list[list[IntOrStr]], n: int, p: int) -> int:\n",
    "    '''retourne la distance de Manhattan entre les vecteurs des colonnes cols \n",
    "    des lignes i et j du tableau t de taille n x p.'''\n",
    "    assert n == len(t)\n",
    "    for _ in range(n):\n",
    "        assert p == len(t[_])\n",
    "    assert 0 <= i < n or -n <= i < -1\n",
    "    assert 0 <= j < n or -n <= j < -1\n",
    "    ### BEGIN CORR\n",
    "    d = 0\n",
    "    for k in cols:\n",
    "        d = d + abs(t[i][k] - t[j][k])\n",
    "    return d\n",
    "    ### END CORR"
   ]
  },
  {
   "cell_type": "markdown",
   "id": "4cd84b23-6840-43a9-9e22-3746aa5ecbab",
   "metadata": {
    "nbgrader": {
     "grade": false,
     "grade_id": "cell-3e2e863e75ad7a50",
     "locked": true,
     "schema_version": 3,
     "solution": false,
     "task": false
    }
   },
   "source": [
    "### Autovalidation\n",
    "\n",
    "La validation suivante doit s'exécuter sans erreur. \n",
    "\n",
    "**Attention.** Le tableau `poudlard` est redéfini dans son état original (pour éviter les éventuels effets de bord des traitements précédents) ."
   ]
  },
  {
   "cell_type": "code",
   "execution_count": 29,
   "id": "117ad6b9-79f8-4454-9c26-afbf22a9f323",
   "metadata": {
    "nbgrader": {
     "grade": true,
     "grade_id": "cell-7a104d83e0d89197",
     "locked": true,
     "points": 1,
     "schema_version": 3,
     "solution": false,
     "task": false
    }
   },
   "outputs": [],
   "source": [
    "# Exécuter cette cellule sans la modifier, ni écrire dedans\n",
    "# Son exécution ne doit pas déclencher d'erreur \n",
    "poudlard = [\n",
    "    [\"Adam\", 9, 4, 7, 10, \"Serpentar\"],\n",
    "    [\"Ahmed\", 9, 3, 4, 7, \"Griffondor\"], \n",
    "    [\"Albertine\", 10, 6, 5, 9, \"Griffondor\"], \n",
    "    [\"André\", 2, 8, 8, 3, \"Serdaigle\"],\n",
    "    [\"Angelina\", 10, 4, 2, 5, \"Griffondor\"]\n",
    "]\n",
    "assert distM(0, 0, (1,2,3,4), poudlard, 5, 6) == 0  # distance entre Adam et lui-même\n",
    "assert distM(0, 1, (1,2,3,4), poudlard, 5, 6) == 7  # distance entre Adam et Ahmed"
   ]
  },
  {
   "cell_type": "markdown",
   "id": "6aa8af65-0e47-48af-8f80-fde2b6a41791",
   "metadata": {
    "nbgrader": {
     "grade": false,
     "grade_id": "cell-499274e934a7d19a",
     "locked": true,
     "schema_version": 3,
     "solution": false,
     "task": false
    }
   },
   "source": [
    "### Votre validation\n",
    "\n",
    "Ecrire des tests qui valident votre fonction `distM()` sur `Adam`, `Albertine` et `Angelina`."
   ]
  },
  {
   "cell_type": "code",
   "execution_count": 30,
   "id": "c476f2fe",
   "metadata": {
    "nbgrader": {
     "grade": false,
     "grade_id": "cell-c62b9a1c7a1d99c2",
     "locked": false,
     "schema_version": 3,
     "solution": true,
     "task": false
    }
   },
   "outputs": [],
   "source": [
    "### BEGIN CORR\n",
    "assert distM(0, 2, (1,2,3,4), poudlard, 5, 6) == 6\n",
    "assert distM(0, 4, (1,2,3,4), poudlard, 5, 6) == 11\n",
    "assert distM(2, 4, (1,2,3,4), poudlard, 5, 6) == 9\n",
    "assert distM(4, 2, (1,2,3,4), poudlard, 5, 6) == 9\n",
    "# \n",
    "assert distM(2, 2, (1,2,3,4), poudlard, 5, 6) == 0\n",
    "assert distM(4, 4, (1,2,3,4), poudlard, 5, 6) == 0\n",
    "### END CORR"
   ]
  },
  {
   "cell_type": "code",
   "execution_count": 31,
   "id": "8c7178a0",
   "metadata": {
    "nbgrader": {
     "grade": true,
     "grade_id": "cell-38c85d77c666aee0",
     "locked": true,
     "points": 1,
     "schema_version": 3,
     "solution": false,
     "task": false
    }
   },
   "outputs": [],
   "source": [
    "# Ne pas écrire dans cette cellule\n",
    "### BEGIN TEST CACHE\n",
    "assert distM(0, 2, (1,2,3,4), poudlard, 5, 6) == 6\n",
    "assert distM(0, 4, (1,2,3,4), poudlard, 5, 6) == 11\n",
    "assert distM(2, 4, (1,2,3,4), poudlard, 5, 6) == 9\n",
    "assert distM(4, 2, (1,2,3,4), poudlard, 5, 6) == 9\n",
    "# \n",
    "assert distM(2, 2, (1,2,3,4), poudlard, 5, 6) == 0\n",
    "assert distM(4, 4, (1,2,3,4), poudlard, 5, 6) == 0\n",
    "### END TEST CACHE"
   ]
  },
  {
   "cell_type": "markdown",
   "id": "e5206c79-4729-4dfe-bce2-9367e13365a3",
   "metadata": {
    "nbgrader": {
     "grade": false,
     "grade_id": "cell-3e9811ccba3c3f46",
     "locked": true,
     "schema_version": 3,
     "solution": false,
     "task": false
    }
   },
   "source": [
    "### Application à la proximité entre un nouvel élève et les élèves-sorciers de Poudlard\n",
    "\n",
    "Un nouvel élève doit être intégré à `poudlard`.  Pour des raisons que nous expliquerons dans la section suivante, nous préparons son intégration en réalisant le traitement suivant.\n",
    "\n",
    "1. Ce nouvel élève est décrit par un t-uple de **6 valeurs** :\n",
    "    - `(son_nom, son_courage, sa_loyauté, sa_sagesse, sa_malice, \"\")` ;\n",
    "    - `son_nom` est une `str` et les 4 valeurs suivantes des `int` entre 0 et 10.\n",
    "    - Remarquons qu'à la différence des élèves-sorciers de `poudlard`, ce nouvel élève n'appartient à aucune `Maison`. Ainsi la 6-ème valeur du t-uple est la chaîne vide `\"\"`.\n",
    "2. On calcule la distance de Manhattan entre ce nouvel élève et chaque élève-sorcier de `poudlard`\n",
    "    - ce qui donne `n` distances (des entiers entre 0 et 40).\n",
    "3. On ajoute chacune de ces distances à la ligne correspondant à chaque élève-sorcier dans le tableau `poudlard`\n",
    "    - ce qui donne une colonne supplémentaire après celle de `Maison`\n",
    "    - et modifie donc le tableau `poudlard`.\n",
    "\n",
    "**Indications.** \n",
    "- Il est commode d'ajouter _temporairement_ ce nouvel élève à `poudlard` pour profiter du calcul réalisé par la fonction `distM()`.  \n",
    "- Ce nouvel élève est un t-uple et `poudlard` est une liste de listes."
   ]
  },
  {
   "cell_type": "markdown",
   "id": "1b8540bc-6380-4259-b140-7b12b87379f8",
   "metadata": {
    "nbgrader": {
     "grade": false,
     "grade_id": "cell-a9ce2e115f71f8e8",
     "locked": true,
     "schema_version": 3,
     "solution": false,
     "task": false
    }
   },
   "source": [
    "**Exemple.** Préparons l'intégration aux 6 élèves-sorciers actuels de `poudlard` de :"
   ]
  },
  {
   "cell_type": "code",
   "execution_count": 32,
   "id": "dcb24b9a-7dbf-4976-ba79-231a502a4eaa",
   "metadata": {
    "nbgrader": {
     "grade": false,
     "grade_id": "cell-0fdc76285b6f4d19",
     "locked": true,
     "schema_version": 3,
     "solution": false,
     "task": false
    }
   },
   "outputs": [],
   "source": [
    "eleve_bientot_celebre = (\"Hermione\", 8, 6, 6, 6, \"\")"
   ]
  },
  {
   "cell_type": "markdown",
   "id": "f9a33502-b232-4b8e-80aa-7759eb6b1adf",
   "metadata": {
    "nbgrader": {
     "grade": false,
     "grade_id": "cell-e86653364934ad68",
     "locked": true,
     "schema_version": 3,
     "solution": false,
     "task": false
    }
   },
   "source": [
    "Après le traitement décrit, le tableau `poudlard` aura la forme **différente** suivante :\n",
    "\n",
    "```python\n",
    "[\n",
    "    ['Adam', 9, 4, 7, 10, 'Serpentar', 8], \n",
    "    ['Ahmed', 9, 3, 4, 7, 'Griffondor', 7], \n",
    "    ['Albertine', 10, 6, 5, 9, 'Griffondor', 6], \n",
    "    ['André', 2, 8, 8, 3, 'Serdaigle', 13], \n",
    "    ['Angelina', 10, 4, 2, 5, 'Griffondor', 9]\n",
    "]\n",
    "```\n",
    "- La dernière valeur de chaque ligne est la proximité entre \"Hermione\"  et chaque élèves-sorciers.\n",
    "- Cette valeur ajoute une colonne supplémentaire au tableau initial.\n",
    "- En revanche, remarquons qu'aucune _nouvelle ligne_, c-a-d. aucun nouvel élèves-sorciers, n'a été ajouté à `poudlard` **après ce traitement** : \"Hermione\"  n'est pas encore une héroïne !"
   ]
  },
  {
   "cell_type": "markdown",
   "id": "80cb8fcd-572b-4bb2-a438-6406704f56a8",
   "metadata": {
    "nbgrader": {
     "grade": false,
     "grade_id": "cell-81d54073fd33983f",
     "locked": true,
     "schema_version": 3,
     "solution": false,
     "task": false
    }
   },
   "source": [
    "### `proximitesNouvelEleve()`\n",
    "\n",
    "Ecrire ce traitement avec la fonction suivante `proximitesNouvelEleve()`. \n",
    "\n",
    "- On choisit de laisser l'appel de cette fonction définir que le traitement s'effectue sur le tableau `poudlard` (comme paramètre effectif du tableau `t` et de ses dimensions `n`x`p`).\n",
    "- Cette fonction  modifie le tableau paramètre `t` en **ajoutant une dernière colonne supplémentaire** -- comme illustré dans l'exemple précédent pour un appel sur le tableau `poudlard`."
   ]
  },
  {
   "cell_type": "code",
   "execution_count": 33,
   "id": "4bfeab82-f5e7-4af6-8347-7b648ea0a52f",
   "metadata": {
    "nbgrader": {
     "grade": false,
     "grade_id": "cell-c4d1c51a85618564",
     "locked": false,
     "schema_version": 3,
     "solution": true,
     "task": false
    }
   },
   "outputs": [],
   "source": [
    "def proximitesNouvelEleve(eleve : tuple[IntOrStr], t: list[list[IntOrStr]], \n",
    "          n: int, p: int) -> list[list[IntOrStr]]:\n",
    "    '''calcule et ajoute en dernière colonne la distance de Manhattan \n",
    "    entre eleve et les heros actuels de Poudlard'''\n",
    "    assert n == len(t)\n",
    "    for _ in range(n):\n",
    "        assert p == len(t[_])\n",
    "    ### BEGIN CORR\n",
    "    # ajout temporaire du nouvel elève comme dernière ligne de t avec conversion de type\n",
    "    t.append(list(eleve))\n",
    "        \n",
    "    # ajout de la nouvelle colonne avant tout calcul (pour passer les assert de distM())\n",
    "    for i in range(n+1):\n",
    "        t[i].append(0)\n",
    "        \n",
    "    # remarquons la modification des nombre de lignes et colonnes de l'appel suivant\n",
    "    for i in range(n+1):\n",
    "        d = distM(n, i, (1,2,3,4), t, n + 1, p + 1)\n",
    "        t[i][-1] = d \n",
    "        \n",
    "    # retrait de la derniere ligne temporaire\n",
    "    t.pop(n)\n",
    "    \n",
    "    # post-condition sur les dimensions du tableau resultat\n",
    "    assert n == len(t)\n",
    "    for _ in range(n):\n",
    "        assert p + 1 == len(t[_])\n",
    "    \n",
    "    return t\n",
    "    ### END CORR   "
   ]
  },
  {
   "cell_type": "code",
   "execution_count": 34,
   "id": "a7e0c51e",
   "metadata": {
    "nbgrader": {
     "grade": true,
     "grade_id": "cell-9db76114069e3c06",
     "locked": true,
     "points": 1,
     "schema_version": 3,
     "solution": false,
     "task": false
    }
   },
   "outputs": [],
   "source": [
    "# Ne pas écrire dans cette cellule\n",
    "### BEGIN TEST CACHE\n",
    "poudlard = [\n",
    "    [\"Adam\", 9, 4, 7, 10, \"Serpentar\"],\n",
    "    [\"Ahmed\", 9, 3, 4, 7, \"Griffondor\"], \n",
    "    [\"Albertine\", 10, 6, 5, 9, \"Griffondor\"], \n",
    "    [\"André\", 2, 8, 8, 3, \"Serdaigle\"],\n",
    "    [\"Angelina\", 10, 4, 2, 5, \"Griffondor\"]\n",
    "]\n",
    "\n",
    "res = [\n",
    "    ['Adam', 9, 4, 7, 10, 'Serpentar', 8], \n",
    "    ['Ahmed', 9, 3, 4, 7, 'Griffondor', 7], \n",
    "    ['Albertine', 10, 6, 5, 9, 'Griffondor', 6], \n",
    "    ['André', 2, 8, 8, 3, 'Serdaigle', 13], \n",
    "    ['Angelina', 10, 4, 2, 5, 'Griffondor', 9]\n",
    "]\n",
    "\n",
    "assert res == proximitesNouvelEleve(eleve_bientot_celebre, poudlard, len(poudlard), len(poudlard[0]))\n",
    "### END TEST CACHE"
   ]
  },
  {
   "cell_type": "markdown",
   "id": "c077fc9e-17f5-4d0c-bfd3-ee1731500c3d",
   "metadata": {
    "nbgrader": {
     "grade": false,
     "grade_id": "cell-026201224458b995",
     "locked": true,
     "schema_version": 3,
     "solution": false,
     "task": false
    }
   },
   "source": [
    "### Votre validation\n",
    "\n",
    "Vérifier que l'application de votre fonction `proximitesNouvelEleve()` à `poudlard` est conforme à l'exemple précédent."
   ]
  },
  {
   "cell_type": "code",
   "execution_count": 35,
   "id": "3918d770-20b9-48b2-a98d-646a9b9e8c5d",
   "metadata": {
    "nbgrader": {
     "grade": false,
     "grade_id": "cell-123f2cb60c6f67a0",
     "locked": false,
     "schema_version": 3,
     "solution": true,
     "task": false
    }
   },
   "outputs": [],
   "source": [
    "### BEGIN CORR\n",
    "poudlard = [\n",
    "    [\"Adam\", 9, 4, 7, 10, \"Serpentar\"],\n",
    "    [\"Ahmed\", 9, 3, 4, 7, \"Griffondor\"], \n",
    "    [\"Albertine\", 10, 6, 5, 9, \"Griffondor\"], \n",
    "    [\"André\", 2, 8, 8, 3, \"Serdaigle\"],\n",
    "    [\"Angelina\", 10, 4, 2, 5, \"Griffondor\"]\n",
    "]\n",
    "\n",
    "res = [\n",
    "    ['Adam', 9, 4, 7, 10, 'Serpentar', 8], \n",
    "    ['Ahmed', 9, 3, 4, 7, 'Griffondor', 7], \n",
    "    ['Albertine', 10, 6, 5, 9, 'Griffondor', 6], \n",
    "    ['André', 2, 8, 8, 3, 'Serdaigle', 13], \n",
    "    ['Angelina', 10, 4, 2, 5, 'Griffondor', 9]\n",
    "]\n",
    "\n",
    "assert res == proximitesNouvelEleve(eleve_bientot_celebre, poudlard, len(poudlard), len(poudlard[0]))\n",
    "### END CORR"
   ]
  },
  {
   "cell_type": "code",
   "execution_count": 36,
   "id": "84f7171e",
   "metadata": {
    "nbgrader": {
     "grade": true,
     "grade_id": "cell-835d03717c11dbfd",
     "locked": true,
     "points": 1,
     "schema_version": 3,
     "solution": false,
     "task": false
    }
   },
   "outputs": [],
   "source": [
    "# Ne pas écrire dans cette cellule\n",
    "### BEGIN TEST CACHE\n",
    "poudlard = [\n",
    "    [\"Adam\", 9, 4, 7, 10, \"Serpentar\"],\n",
    "    [\"Ahmed\", 9, 3, 4, 7, \"Griffondor\"], \n",
    "    [\"Albertine\", 10, 6, 5, 9, \"Griffondor\"], \n",
    "    [\"André\", 2, 8, 8, 3, \"Serdaigle\"],\n",
    "    [\"Angelina\", 10, 4, 2, 5, \"Griffondor\"]\n",
    "]\n",
    "\n",
    "res = [\n",
    "    ['Adam', 9, 4, 7, 10, 'Serpentar', 8], \n",
    "    ['Ahmed', 9, 3, 4, 7, 'Griffondor', 7], \n",
    "    ['Albertine', 10, 6, 5, 9, 'Griffondor', 6], \n",
    "    ['André', 2, 8, 8, 3, 'Serdaigle', 13], \n",
    "    ['Angelina', 10, 4, 2, 5, 'Griffondor', 9]\n",
    "]\n",
    "\n",
    "assert res == proximitesNouvelEleve(eleve_bientot_celebre, poudlard, len(poudlard), len(poudlard[0]))\n",
    "### END TEST CACHE"
   ]
  },
  {
   "cell_type": "markdown",
   "id": "fb9fadc0-b357-47c8-bc26-18994168810e",
   "metadata": {
    "nbgrader": {
     "grade": false,
     "grade_id": "cell-af0b103f66fea1ac",
     "locked": true,
     "schema_version": 3,
     "solution": false,
     "task": false
    }
   },
   "source": [
    "### Les `k` plus proches élèves-sorciers d'un nouvel élève\n",
    "\n",
    "En utilisant l'étape 1 (tri d'un tableau 2D selon l'une de ses colonnes), il est maintenant facile :\n",
    "\n",
    "1. de trier le tableau résultat de `proximitesNouvelEleve()` selon les distances entre le nouvel élève et les élèves-sorciers, \n",
    "2. pour extraire **les `k` élèves-sorciers les plus proches** de ce nouvel élève où `k` est un entier positif arbitraire -- mais inférieur au nombre d'élèves-sorciers, c-a-d. au nombre de lignes de `t`.\n",
    "\n",
    "**Remarque.** Il n'y a pas nécessairement unicité du résultat\n",
    "si des proximités égales apparaissent de part et d'autres du k-ième rang."
   ]
  },
  {
   "cell_type": "markdown",
   "id": "a6158a15-21f8-4b5f-97f7-4ad0beebe945",
   "metadata": {
    "nbgrader": {
     "grade": false,
     "grade_id": "cell-28efe99d6833c9b2",
     "locked": true,
     "schema_version": 3,
     "solution": false,
     "task": false
    }
   },
   "source": [
    "On propose un traitement qui permet de profiter du tri en place du tableau résultat de `proximitesNouvelEleve()` en séparant ces deux étapes.\n",
    "\n",
    "### `proximitesNouvelEleve()` : version triée\n",
    "\n",
    "Reprendre la fonction `proximitesNouvelEleve()` de façon à retourner le tableau trié selon les distances entre le nouvel élève et les élèves-sorciers. \n",
    "\n",
    "On rappelle que la préparation de l'intégration d'un nouvel élève ajoute une nouvelle dernière colonne au tableau : la colonne des distances entre les élèves-sorciers et cet élève.\n",
    "Ce traitement modifie donc le tableau paramètre `t`."
   ]
  },
  {
   "cell_type": "code",
   "execution_count": 37,
   "id": "f50eb314-fbd5-4b36-b39d-dd440d78da4e",
   "metadata": {
    "nbgrader": {
     "grade": false,
     "grade_id": "cell-852af5e5fe88fd5b",
     "locked": false,
     "schema_version": 3,
     "solution": true,
     "task": false
    }
   },
   "outputs": [],
   "source": [
    "def proximitesNouvelEleve(eleve : tuple[IntOrStr], t: list[list[IntOrStr]], \n",
    "          n: int, p: int) -> list[list[IntOrStr]]:\n",
    "    '''version triee selon derniere colonne de :\n",
    "    du calcul et ajout en dernière colonne la distance de Manhattan \n",
    "    entre eleve et les heros actuels de Poudlard'''\n",
    "    assert n == len(t)\n",
    "    for _ in range(n):\n",
    "        assert p == len(t[_])\n",
    "    ### BEGIN CORR                    \n",
    "    # ajout temporaire du nouvel elève comme dernière ligne de t avec conversion de type\n",
    "    t.append(list(eleve))\n",
    "        \n",
    "    # ajout de la nouvelle colonne avant tout calcul (pour passer les assert de distM())\n",
    "    for i in range(n+1):\n",
    "        t[i].append(0)\n",
    "        \n",
    "    # remarquons la modification des nombre de lignes et colonnes de l'appel suivant\n",
    "    for i in range(n+1):\n",
    "        d = distM(n, i, (1,2,3,4), t, n + 1, p + 1)\n",
    "        t[i][-1] = d \n",
    "    \n",
    "    # retrait de la derniere ligne temporaire\n",
    "    t.pop(n)\n",
    "    \n",
    "    #  tri dselon la dernière colonne ajoutée\n",
    "    tri2D_selection(t, n, p+1, -1)\n",
    "    \n",
    "    # post-condition sur les dimensions du tableau resultat\n",
    "    assert n == len(t)\n",
    "    for _ in range(n):\n",
    "        assert p + 1 == len(t[_])\n",
    "\n",
    "    return t \n",
    "    ### END CORR"
   ]
  },
  {
   "cell_type": "markdown",
   "id": "e36a8f84-4cb6-4a26-ab4d-812876d41f6b",
   "metadata": {
    "nbgrader": {
     "grade": false,
     "grade_id": "cell-4b66f8b04fc290e5",
     "locked": true,
     "schema_version": 3,
     "solution": false,
     "task": false
    }
   },
   "source": [
    "### Autovalidation\n",
    "\n",
    "La validation suivante qui modifie le tableau `poudlard` pour préparer l'intégration de la nouvelle élève \"Hermione\", doit s'exécuter sans erreur. "
   ]
  },
  {
   "cell_type": "code",
   "execution_count": 38,
   "id": "fb01dcdd-dbe0-48fa-b74b-7466c6d018f3",
   "metadata": {
    "nbgrader": {
     "grade": true,
     "grade_id": "cell-e9e872b64cab2c79",
     "locked": true,
     "points": 1,
     "schema_version": 3,
     "solution": false,
     "task": false
    }
   },
   "outputs": [],
   "source": [
    "# Exécuter cette cellule sans la modifier, ni écrire dedans\n",
    "# Son exécution ne doit pas déclencher d'erreur \n",
    "poudlard = [\n",
    "    [\"Adam\", 9, 4, 7, 10, \"Serpentar\"],\n",
    "    [\"Ahmed\", 9, 3, 4, 7, \"Griffondor\"], \n",
    "    [\"Albertine\", 10, 6, 5, 9, \"Griffondor\"], \n",
    "    [\"André\", 2, 8, 8, 3, \"Serdaigle\"],\n",
    "    [\"Angelina\", 10, 4, 2, 5, \"Griffondor\"]\n",
    "]\n",
    "\n",
    "eleve_bientot_celebre = (\"Hermione\", 8, 6, 6, 6, \"\")\n",
    "\n",
    "poudlard = proximitesNouvelEleve(eleve_bientot_celebre, poudlard, len(poudlard), len(poudlard[0]))\n",
    "\n",
    "res = [\n",
    "    ['Albertine', 10, 6, 5, 9, 'Griffondor', 6], \n",
    "    ['Ahmed', 9, 3, 4, 7, 'Griffondor', 7], \n",
    "    ['Adam', 9, 4, 7, 10, 'Serpentar', 8], \n",
    "    ['Angelina', 10, 4, 2, 5, 'Griffondor', 9], \n",
    "    ['André', 2, 8, 8, 3, 'Serdaigle', 13]\n",
    "]\n",
    "\n",
    "assert res == poudlard"
   ]
  },
  {
   "cell_type": "markdown",
   "id": "6aa3b998-7b8b-40fe-acbf-92798cda34fe",
   "metadata": {
    "nbgrader": {
     "grade": false,
     "grade_id": "cell-45f6a8ee00d41eb4",
     "locked": true,
     "schema_version": 3,
     "solution": false,
     "task": false
    }
   },
   "source": [
    "### `kPlusProches()`\n",
    "\n",
    "On effectue maintenant l'extraction des `k` élèves-sorciers les plus proches du nouvel élève. \n",
    "\n",
    "- Ce traitement prendra comme argument `t` **le résultat de la version avec tri de `proximitesNouvelEleve()`**\n",
    "    - Attention aux dimensions de ce tableau.\n",
    "- Ce traitement donnera un **nouveau** tableau uniquement constitué des `k` lignes extraites du tableau `t`. \n",
    "    - Ainsi celui-ci ne pourra être trié qu'une seule fois si plusieurs tentatives d'extraction pour différentes valeurs de `k`  sont nécessaires. "
   ]
  },
  {
   "cell_type": "code",
   "execution_count": 39,
   "id": "6997ca70-db98-4f34-bdba-7a04881697f0",
   "metadata": {
    "nbgrader": {
     "grade": false,
     "grade_id": "cell-6b91ad54e40a724b",
     "locked": false,
     "schema_version": 3,
     "solution": true,
     "task": false
    }
   },
   "outputs": [],
   "source": [
    "def kPlusProches( k: int, t: list[list[IntOrStr]], n: int, p: int  ) -> list[list[IntOrStr]]:\n",
    "    '''retourne sous la même forme que t les k plus proches lignes de t'''\n",
    "    assert n == len(t)\n",
    "    for _ in range(n):\n",
    "        assert p == len(t[_])\n",
    "    ### BEGIN CORR    \n",
    "    # construction du tab des k premieres lignes de tmp\n",
    "    return [v for v in t[0:k]]\n",
    "    ### END CORR   "
   ]
  },
  {
   "cell_type": "markdown",
   "id": "7a8ea87c-fc94-401b-af77-5f191c231062",
   "metadata": {
    "nbgrader": {
     "grade": false,
     "grade_id": "cell-0b12ee6e6309d2cb",
     "locked": true,
     "schema_version": 3,
     "solution": false,
     "task": false
    }
   },
   "source": [
    "### Votre validation\n",
    "\n",
    "Vérifier que les 3 plus proches élèves-sorciers d'`\"Hermione\"` sont `\"Albertine\", \"Ahmed\"`et `\"Adam\"`."
   ]
  },
  {
   "cell_type": "code",
   "execution_count": 40,
   "id": "360c3963-9407-4713-9369-e8c1bff80214",
   "metadata": {
    "nbgrader": {
     "grade": false,
     "grade_id": "cell-f05d2761b6a96b6d",
     "locked": false,
     "schema_version": 3,
     "solution": true,
     "task": false
    }
   },
   "outputs": [],
   "source": [
    "### BEGIN CORR\n",
    "poudlard = [\n",
    "    [\"Adam\", 9, 4, 7, 10, \"Serpentar\"],\n",
    "    [\"Ahmed\", 9, 3, 4, 7, \"Griffondor\"], \n",
    "    [\"Albertine\", 10, 6, 5, 9, \"Griffondor\"], \n",
    "    [\"André\", 2, 8, 8, 3, \"Serdaigle\"],\n",
    "    [\"Angelina\", 10, 4, 2, 5, \"Griffondor\"]\n",
    "]\n",
    "\n",
    "eleve_bientot_celebre = (\"Hermione\", 8, 6, 6, 6, \"\")\n",
    "\n",
    "poudlard = proximitesNouvelEleve(eleve_bientot_celebre, poudlard, len(poudlard), len(poudlard[0]))\n",
    "proxHermione = kPlusProches(3, poudlard, len(poudlard), len(poudlard[0]))\n",
    "\n",
    "res = {'Albertine', 'Ahmed', 'Adam'}\n",
    "for e in proxHermione:\n",
    "    assert e[0] in res\n",
    "    res = res - {e[0]}\n",
    "assert len(res) == 0\n",
    "### END CORR"
   ]
  },
  {
   "cell_type": "code",
   "execution_count": 41,
   "id": "16dbc196",
   "metadata": {
    "nbgrader": {
     "grade": true,
     "grade_id": "cell-7aed507273c7e60d",
     "locked": true,
     "points": 1,
     "schema_version": 3,
     "solution": false,
     "task": false
    }
   },
   "outputs": [],
   "source": [
    "# Ne pas écrire dans cette cellule\n",
    "### BEGIN TEST CACHE\n",
    "poudlard = [\n",
    "    [\"Adam\", 9, 4, 7, 10, \"Serpentar\"],\n",
    "    [\"Ahmed\", 9, 3, 4, 7, \"Griffondor\"], \n",
    "    [\"Albertine\", 10, 6, 5, 9, \"Griffondor\"], \n",
    "    [\"André\", 2, 8, 8, 3, \"Serdaigle\"],\n",
    "    [\"Angelina\", 10, 4, 2, 5, \"Griffondor\"]\n",
    "]\n",
    "\n",
    "eleve_bientot_celebre = (\"Hermione\", 8, 6, 6, 6, \"\")\n",
    "\n",
    "poudlard = proximitesNouvelEleve(eleve_bientot_celebre, poudlard, len(poudlard), len(poudlard[0]))\n",
    "proxHermione = kPlusProches(3, poudlard, len(poudlard), len(poudlard[0]))\n",
    "\n",
    "res = {'Albertine', 'Ahmed', 'Adam'}\n",
    "for e in proxHermione:\n",
    "    assert e[0] in res\n",
    "    res = res - {e[0]}\n",
    "assert len(res) == 0\n",
    "### END TEST CACHE"
   ]
  },
  {
   "cell_type": "markdown",
   "id": "939f652c",
   "metadata": {
    "nbgrader": {
     "grade": false,
     "grade_id": "cell-22a5553949c94d5e",
     "locked": true,
     "schema_version": 3,
     "solution": false,
     "task": false
    }
   },
   "source": [
    "## Etape 4 : classifions Poudlard maintenant !\n",
    "\n",
    "On dispose maintenant des outils nécessaires à l'algorithme des k plus proches voisins pour l'apprentissage automatique (_machine learning_) supervisé \n",
    "\n",
    "On suppose un ensemble de données dont on connaît _toutes les_ caractéristiques. \n",
    "Ces caractéristiques peuvent être discrètes et de type divers (numériques ou alphanumérique). \n",
    "\n",
    "Par exemple, nos 6 élèves-sorciers de `poudlard` sont connus par des caractéristiques de type `int` pour courage, loyauté, sagesse, ... ou des `str` comme \"Griffondor\", \"Serpentar\", ... pour leur maison. \n",
    "Cette dernière caractéristique peut être vue comme une **étiquette** qui regroupe certains élèves-sorciers : les élèves-sorciers de la maison  \"Griffondor\" sont ..., les élèves-sorciers de la maison  \"Serpentar\" sont ..., ...  \n",
    "\n",
    "Implicitement, on suppose qu'il y a moins d'étiquettes différentes que de combinaisons des autres valeurs des caractéristiques. Ici, il y a 4 maisons et $11^4$ combinaisons possibles des autres caractéristiques.\n",
    "\n",
    "**La classification** consiste à identifier _l'étiquette d'une nouvelle donnée_ dont on connaît les autres caractéristiques. Cette détermination s'effectue à partir de la connaissance de l'ensemble des données connues. \n",
    "\n",
    "**L'algorithme des k plus proches voisins** choisit pour _étiquette d'une nouvelle donnée_, l'étiquette majoritaire des k données les plus proches de cette nouvelle donnée (dans l'ensemble des données connues). \n",
    "\n",
    "Dans notre exemple, cela pourrait être l'algorithme du _Choixpeau magique_ de Poudlard lorsque celui-ci affecte un nouvel élève dans une des 4 maisons Poudlard.\n",
    "\n",
    "Bien sûr, la pertinence de cette classification dépend :\n",
    "\n",
    "- du nombre de données connues,\n",
    "- de la valeur `k` du nombre de voisins considérés,\n",
    "\n",
    "et d'autres paramètres que nous oublierons aujourd'hui (la distance entre 2 éléments, ...)"
   ]
  },
  {
   "cell_type": "markdown",
   "id": "b8545fc1",
   "metadata": {
    "nbgrader": {
     "grade": false,
     "grade_id": "cell-da618f76fc8b339d",
     "locked": true,
     "schema_version": 3,
     "solution": false,
     "task": false
    }
   },
   "source": [
    "### Quatre nouveaux élèves arrivent à Poudlard ...\n",
    "\n",
    "Nous allons donc maintenant mettre en oeuvre cet algorithme pour affecter chacun des 4 nouveaux élèves suivants dans une maison qui correspondant à leurs qualités.\n",
    "\n",
    "| Nom | Courage | Loyauté | Sagesse | Malice | \n",
    "|:---|:---:|:---:|:---:|:---:|\n",
    "|Hermione | 8 | 6 | 6 | 6 | \n",
    "|Drago | 6 | 6 | 5 | 8 | \n",
    "|Cho | 7 | 6 | 9 | 6 | \n",
    "|Cedric | 7 | 10 | 5 | 6 | "
   ]
  },
  {
   "cell_type": "markdown",
   "id": "d32b55b1-616d-4132-bb78-ae80207ffe17",
   "metadata": {
    "nbgrader": {
     "grade": false,
     "grade_id": "cell-9c4ad9af6cc8dc10",
     "locked": true,
     "schema_version": 3,
     "solution": false,
     "task": false
    }
   },
   "source": [
    "Regrouper ces 4 nouveaux élèves dans `nouveauxEleves` : un tableau 1D de 4 t-uples. \n",
    "Chaque t-uple est d'une forme similaire à `eleve_bientot_celebre` (c'est un t-uple de longueur 6). "
   ]
  },
  {
   "cell_type": "code",
   "execution_count": 42,
   "id": "cf57ab1b-1491-42ae-a969-e8302d531833",
   "metadata": {
    "nbgrader": {
     "grade": false,
     "grade_id": "cell-f61b59620f82d275",
     "locked": false,
     "schema_version": 3,
     "solution": true,
     "task": false
    }
   },
   "outputs": [],
   "source": [
    "### BEGIN CORR\n",
    "nouveauxEleves = [\n",
    "    (\"Hermione\", 8, 6, 6, 6, \"\" ), \n",
    "    (\"Drago\", 6, 6, 5, 8, \"\"),  \n",
    "    (\"Cho\", 7, 6, 9, 6, \"\"), \n",
    "    (\"Cedric\", 7, 10, 5, 6, \"\")\n",
    "]\n",
    "### END CORR"
   ]
  },
  {
   "cell_type": "code",
   "execution_count": 43,
   "id": "04cff093",
   "metadata": {
    "nbgrader": {
     "grade": true,
     "grade_id": "cell-dfa1e19f982042f3",
     "locked": true,
     "points": 1,
     "schema_version": 3,
     "solution": false,
     "task": false
    }
   },
   "outputs": [],
   "source": [
    "# Ne pas écrire dans cette cellule\n",
    "### BEGIN TEST CACHE\n",
    "res  = [\n",
    "    (\"Hermione\", 8, 6, 6, 6, \"\" ), \n",
    "    (\"Drago\", 6, 6, 5, 8, \"\"),  \n",
    "    (\"Cho\", 7, 6, 9, 6, \"\"), \n",
    "    (\"Cedric\", 7, 10, 5, 6, \"\")\n",
    "]\n",
    "assert res == nouveauxEleves\n",
    "### END TEST CACHE"
   ]
  },
  {
   "cell_type": "markdown",
   "id": "9cc1f1df-2d25-4362-9063-5672079acffa",
   "metadata": {
    "nbgrader": {
     "grade": false,
     "grade_id": "cell-0aa0c03fafec6794",
     "locked": true,
     "schema_version": 3,
     "solution": false,
     "task": false
    }
   },
   "source": [
    "### Première tentative pour valider cette approche\n",
    "\n",
    "Notre connaissance actuelle des données connues se limite aux 6 élèves-sorciers du tableau `poudlard`. \n",
    "Bien sûr, ce n'est pas satisfaisant pour une classification pertinente : il manque par exemple des représentants de la maison \"Poufsouffle\" dans les données connues ! \n",
    "\n",
    "\n",
    "Mais c'est suffisant pour mettre en oeuvre _un prototype_ de traitement en attendant de pouvoir disposer d'une base de connaissance suffisante. Ce qui sera l'objet de la dernière étape de ce tp.\n"
   ]
  },
  {
   "cell_type": "markdown",
   "id": "910fea60-4cc7-4872-9215-ca414ac81382",
   "metadata": {
    "nbgrader": {
     "grade": false,
     "grade_id": "cell-1ac9bcd9c0c4d53a",
     "locked": true,
     "schema_version": 3,
     "solution": false,
     "task": false
    }
   },
   "source": [
    "### Votre validation\n",
    "\n",
    "**On fixe arbitrairement `k = 2`** pour cette première expérience.  \n",
    "\n",
    "Vérifier que cette première expérience affecte 3 des 4 nouveaux élèves dans une même maison et hésite entre 2 maisons pour le quatrième. "
   ]
  },
  {
   "cell_type": "code",
   "execution_count": 44,
   "id": "04a300a6-c877-4bf4-ad52-fe7dfc9a2bbf",
   "metadata": {
    "nbgrader": {
     "grade": true,
     "grade_id": "cell-9bc2b4b0f59be393",
     "locked": false,
     "points": 1,
     "schema_version": 3,
     "solution": true,
     "task": false
    }
   },
   "outputs": [
    {
     "name": "stdout",
     "output_type": "stream",
     "text": [
      "Hermione ['Griffondor']\n",
      "Drago ['Griffondor']\n",
      "Cho ['Serpentar', 'Griffondor']\n",
      "Cedric ['Griffondor']\n"
     ]
    }
   ],
   "source": [
    "k = 2\n",
    "### BEGIN CORR\n",
    "for e in nouveauxEleves:\n",
    "    \n",
    "    # on repart d'un poudlard \"propre\"\n",
    "    poudlard = [\n",
    "    [\"Adam\", 9, 4, 7, 10, \"Serpentar\"],\n",
    "    [\"Ahmed\", 9, 3, 4, 7, \"Griffondor\"], \n",
    "    [\"Albertine\", 10, 6, 5, 9, \"Griffondor\"], \n",
    "    [\"André\", 2, 8, 8, 3, \"Serdaigle\"],\n",
    "    [\"Angelina\", 10, 4, 2, 5, \"Griffondor\"]\n",
    "    ]\n",
    "    \n",
    "    # les distances triées au nouvel eleve e -> modifie poudlard\n",
    "    poudlard = proximitesNouvelEleve(e, poudlard, len(poudlard), len(poudlard[0]))\n",
    "    \n",
    "    # extraction des k plus proches heros de e\n",
    "    kProxE = kPlusProches(k, poudlard, len(poudlard), len(poudlard[0]))\n",
    "    \n",
    "    # classification par maison majoritaire de kProxE (maison toujours en colonne 5)\n",
    "    maisonE = elemMajoritaire2D(kProxE, len(kProxE), len(kProxE[0]), 5)\n",
    "    \n",
    "    print(e[0], maisonE)\n",
    "    ### END CORR"
   ]
  },
  {
   "cell_type": "markdown",
   "id": "7cff89e5-8d08-422f-b453-961e4309a45b",
   "metadata": {
    "nbgrader": {
     "grade": false,
     "grade_id": "cell-a2b29a4cf4ff0f35",
     "locked": true,
     "schema_version": 3,
     "solution": false,
     "task": false
    }
   },
   "source": [
    "Bien sûr, les résultats obtenus ne sont pas pertinents : ils sont déduits d'un échantillon trop incomplet pour représenter une base de connaissances représentative de Poudlard."
   ]
  },
  {
   "cell_type": "markdown",
   "id": "34757bea-6ae2-48f3-a710-f2e7b409c532",
   "metadata": {
    "nbgrader": {
     "grade": false,
     "grade_id": "cell-20a3da4d365aeaee",
     "locked": true,
     "schema_version": 3,
     "solution": false,
     "task": false
    }
   },
   "source": [
    "## Etape 5 : et comme le _Choixpeau magique_, affectons les nouveaux élèves dans la maison qui leur convient le mieux.\n",
    "\n",
    "### Un Poudlard plus complet \n",
    "\n",
    "Le fichier `poudlard2022.csv` contient les 50 élèves-sorciers de Poudlard avant la rentrée 2022.\n",
    "\n",
    "Ce fichier est au format \"csv\" (_Comma Separated Values_, valeurs séparées par des virgules). \n",
    "Le module python `csv` permet de lire de tels fichiers de façon assez similaire à la lecture des fichiers textes vus en cours. Les curieux pourront consulter [cette partie](https://docs.python.org/fr/3/library/csv.html) de la documentation python. "
   ]
  },
  {
   "cell_type": "code",
   "execution_count": 45,
   "id": "afaabe3e-6e7d-4d28-b970-57254bd4f6ce",
   "metadata": {
    "nbgrader": {
     "grade": false,
     "grade_id": "cell-73db47fa72ad36fe",
     "locked": true,
     "schema_version": 3,
     "solution": false,
     "task": false
    }
   },
   "outputs": [],
   "source": [
    "import csv"
   ]
  },
  {
   "cell_type": "markdown",
   "id": "f5c4d38c-016c-4175-ac09-b33e099352e2",
   "metadata": {
    "nbgrader": {
     "grade": false,
     "grade_id": "cell-cdeb2e1142e76a2e",
     "locked": true,
     "schema_version": 3,
     "solution": false,
     "task": false
    }
   },
   "source": [
    "La fonction suivante lit ce fichier et retourne son contenu sous la forme d'un tableau 2D similaire à `poudlard`-- mais avec 50 lignes maintenant. "
   ]
  },
  {
   "cell_type": "code",
   "execution_count": 46,
   "id": "12339cf9-76e6-425a-936c-34fbd2a11411",
   "metadata": {
    "nbgrader": {
     "grade": false,
     "grade_id": "cell-4d0f238ef86d455f",
     "locked": true,
     "schema_version": 3,
     "solution": false,
     "task": false
    }
   },
   "outputs": [],
   "source": [
    "def lirePoudlard(nomDuFichier: str) -> list[list[IntOrStr]]:\n",
    "    '''lit nomDuFichier au format csv et retourne un tableau 2D'''\n",
    "    res = []\n",
    "    with open(nomDuFichier, 'r', encoding=\"utf-8\") as donnees_csv:\n",
    "        eleves = csv.reader(donnees_csv, delimiter=\";\")\n",
    "        eleves.__next__() # saut ligne 0\n",
    "        for e in eleves:\n",
    "            val_e = (str(e[0]), int(e[1]), int(e[2]), int(e[3]), int(e[4]), str(e[5]))\n",
    "            res.append(list(val_e))\n",
    "    return res"
   ]
  },
  {
   "cell_type": "markdown",
   "id": "f312a824",
   "metadata": {
    "nbgrader": {
     "grade": false,
     "grade_id": "cell-0baec591e77f8aea",
     "locked": true,
     "schema_version": 3,
     "solution": false,
     "task": false
    }
   },
   "source": [
    "Initialiser le tableau 2D `poudlard2022` avec la base de connaissances donnée par le fichier \"poudlard2022.csv\". "
   ]
  },
  {
   "cell_type": "code",
   "execution_count": 47,
   "id": "a7ac6d84-070e-4273-963f-f1c9451fbc51",
   "metadata": {
    "nbgrader": {
     "grade": false,
     "grade_id": "cell-e86f0f360aacbdb5",
     "locked": false,
     "schema_version": 3,
     "solution": true,
     "task": false
    }
   },
   "outputs": [],
   "source": [
    "### BEGIN CORR\n",
    "poudlard2022 = lirePoudlard(\"./poudlard2022.csv\")\n",
    "### END CORR"
   ]
  },
  {
   "cell_type": "code",
   "execution_count": 48,
   "id": "546706db",
   "metadata": {
    "nbgrader": {
     "grade": true,
     "grade_id": "cell-bbca0d9e6d82e67d",
     "locked": true,
     "points": 1,
     "schema_version": 3,
     "solution": false,
     "task": false
    }
   },
   "outputs": [],
   "source": [
    "# Ne pas écrire dans cette cellule\n",
    "### BEGIN TEST CACHE\n",
    "poudlard2022_ref = lirePoudlard(\"./poudlard2022.csv\")\n",
    "assert poudlard2022 == poudlard2022_ref\n",
    "### END TEST CACHE"
   ]
  },
  {
   "cell_type": "markdown",
   "id": "63436f30-a842-4a04-9831-cc4a14469bf8",
   "metadata": {
    "nbgrader": {
     "grade": false,
     "grade_id": "cell-a16197fe11278f24",
     "locked": true,
     "schema_version": 3,
     "solution": false,
     "task": false
    }
   },
   "source": [
    "### Votre validation\n",
    "\n",
    "Vous pouvez par exemple vérifier la présence de l'élève-sorcier suivant.\n",
    "```python\n",
    "['Demelza', 10, 6, 5, 3, 'Griffondor']\n",
    "```"
   ]
  },
  {
   "cell_type": "code",
   "execution_count": 49,
   "id": "71aacb70-62e2-4889-8899-3dcd8c93d5b6",
   "metadata": {
    "nbgrader": {
     "grade": true,
     "grade_id": "cell-5cdeec8d3b949494",
     "locked": false,
     "points": 1,
     "schema_version": 3,
     "solution": true,
     "task": false
    }
   },
   "outputs": [
    {
     "name": "stdout",
     "output_type": "stream",
     "text": [
      "['Demelza', 10, 6, 5, 3, 'Griffondor']\n"
     ]
    }
   ],
   "source": [
    "### BEGIN CORR\n",
    "print(poudlard2022[10])\n",
    "### END CORR"
   ]
  },
  {
   "cell_type": "markdown",
   "id": "d995dcfe-0c39-40e6-9663-4598ccca9e4e",
   "metadata": {
    "nbgrader": {
     "grade": false,
     "grade_id": "cell-064b3aefc3d5dbb4",
     "locked": true,
     "schema_version": 3,
     "solution": false,
     "task": false
    }
   },
   "source": [
    "### Le _Choixpeau magique_\n",
    "\n",
    "Vous pouvez enfin reprendre l'expérimentation de l'étape 4 pour affecter les 4 nouveaux élèves dans leurs maisons.\n",
    "Faire varier `k` jusqu'à obtenir le même résultat que celui obtenu par le _Choixpeau magique_ de Poudlard pour ces 4 nouveaux, et bientôt célèbres, élèves. \n",
    "\n",
    "Soit (pour celles et ceux qui ne s'en souviennent pas) :\n",
    "```python\n",
    "Hermione -> 'Griffondor'\n",
    "Drago    -> 'Serpentar'\n",
    "Cho      -> 'Serdaigle'\n",
    "Cedric   -> 'Poufsouffle'\n",
    "```"
   ]
  },
  {
   "cell_type": "code",
   "execution_count": 50,
   "id": "bf03b40d-49d6-4401-af13-5c4140246f6c",
   "metadata": {
    "nbgrader": {
     "grade": true,
     "grade_id": "cell-b9b77985c75b0a3f",
     "locked": false,
     "points": 2,
     "schema_version": 3,
     "solution": true,
     "task": false
    }
   },
   "outputs": [
    {
     "name": "stdout",
     "output_type": "stream",
     "text": [
      "k =  2\n",
      "Hermione ['Griffondor', 'Serpentar']\n",
      "Drago ['Serdaigle', 'Poufsouffle']\n",
      "Cho ['Serdaigle']\n",
      "Cedric ['Griffondor', 'Serpentar']\n",
      "----\n",
      "k =  3\n",
      "Hermione ['Griffondor']\n",
      "Drago ['Serdaigle', 'Poufsouffle', 'Griffondor']\n",
      "Cho ['Serdaigle']\n",
      "Cedric ['Griffondor', 'Serpentar', 'Poufsouffle']\n",
      "----\n",
      "k =  4\n",
      "Hermione ['Griffondor']\n",
      "Drago ['Serdaigle', 'Poufsouffle', 'Griffondor', 'Serpentar']\n",
      "Cho ['Serdaigle', 'Griffondor']\n",
      "Cedric ['Poufsouffle']\n",
      "----\n",
      "k =  5\n",
      "Hermione ['Griffondor']\n",
      "Drago ['Serpentar']\n",
      "Cho ['Serdaigle']\n",
      "Cedric ['Poufsouffle']\n",
      "----\n",
      "k =  6\n",
      "Hermione ['Griffondor']\n",
      "Drago ['Serpentar']\n",
      "Cho ['Serdaigle']\n",
      "Cedric ['Poufsouffle']\n",
      "----\n"
     ]
    }
   ],
   "source": [
    "### BEGIN CORR\n",
    "# les données\n",
    "nouveauxEleves = [\n",
    "    (\"Hermione\", 8, 6, 6, 6, \"\" ), \n",
    "    (\"Drago\", 6, 6, 5, 8, \"\"),  \n",
    "    (\"Cho\", 7, 6, 9, 6, \"\"), \n",
    "    (\"Cedric\", 7, 10, 5, 6, \"\")\n",
    "]\n",
    "\n",
    "# le traitement\n",
    "for k in range(2, 7):\n",
    "    print(\"k = \", k)\n",
    "    \n",
    "    for e in nouveauxEleves:\n",
    "        #print(e)\n",
    "\n",
    "        # on repart d'un poudlard \"propre\"\n",
    "        poudlard2022 = lirePoudlard(\"./poudlard2022.csv\")\n",
    "\n",
    "        # les distances triées au nouvel eleve e -> modifie poudlard\n",
    "        poudlard2022 = proximitesNouvelEleve(e, poudlard2022, len(poudlard2022), len(poudlard2022[0]))\n",
    "\n",
    "        # extraction des k plus proches heros de e\n",
    "        kProxE = kPlusProches(k, poudlard2022, len(poudlard2022), len(poudlard2022[0]))\n",
    "\n",
    "        # classification par maison majoritaire de kProxE (maison toujours en colonne 5)\n",
    "        maisonE = elemMajoritaire2D(kProxE, len(kProxE), len(kProxE[0]), 5)\n",
    "\n",
    "        print(e[0], maisonE)\n",
    "    print(\"----\")\n",
    "### END CORR"
   ]
  }
 ],
 "metadata": {
  "celltoolbar": "Create Assignment",
  "kernelspec": {
   "display_name": "Python 3 (ipykernel)",
   "language": "python",
   "name": "python3"
  },
  "language_info": {
   "codemirror_mode": {
    "name": "ipython",
    "version": 3
   },
   "file_extension": ".py",
   "mimetype": "text/x-python",
   "name": "python",
   "nbconvert_exporter": "python",
   "pygments_lexer": "ipython3",
   "version": "3.9.6"
  }
 },
 "nbformat": 4,
 "nbformat_minor": 5
}
