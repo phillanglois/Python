{
 "cells": [
  {
   "cell_type": "markdown",
   "id": "646e30f2-13d7-4399-add6-1ac19ab733dc",
   "metadata": {},
   "source": [
    "# Ceci est le titre de mon premier notebook Jupyter\n",
    "\n",
    "## On commence\n",
    "\n",
    "Avec un premier calcul Python\n",
    "\n",
    "$C = \\log_2(37)$"
   ]
  },
  {
   "cell_type": "code",
   "execution_count": 1,
   "id": "1314a58e-785a-4f3c-8f8e-75a8ee658f94",
   "metadata": {},
   "outputs": [
    {
     "name": "stdout",
     "output_type": "stream",
     "text": [
      "C = 5.20945336562895\n"
     ]
    }
   ],
   "source": [
    "from math import log\n",
    "\n",
    "C = log(37, 2) \n",
    "\n",
    "print(\"C =\", C)"
   ]
  },
  {
   "cell_type": "code",
   "execution_count": 2,
   "id": "c9e95353-06d6-4d80-be77-b6caba5a6770",
   "metadata": {},
   "outputs": [
    {
     "name": "stdout",
     "output_type": "stream",
     "text": [
      "C = 173.20945336562895\n"
     ]
    }
   ],
   "source": [
    "C = C + 12*14 \n",
    "\n",
    "print(\"C =\", C)"
   ]
  },
  {
   "cell_type": "code",
   "execution_count": 3,
   "id": "4d1c8c6f-8997-477b-9141-8913d1f10317",
   "metadata": {},
   "outputs": [
    {
     "name": "stdout",
     "output_type": "stream",
     "text": [
      "C = 173.20945336562895\n"
     ]
    }
   ],
   "source": [
    "print(\"C =\", C)"
   ]
  },
  {
   "cell_type": "code",
   "execution_count": 7,
   "id": "427f37d3-2262-4763-8290-5ef1d74ccae1",
   "metadata": {},
   "outputs": [
    {
     "data": {
      "text/plain": [
       "[0, 1, 4, 1, 8, 1, 12, 1, 16, 1]"
      ]
     },
     "execution_count": 7,
     "metadata": {},
     "output_type": "execute_result"
    }
   ],
   "source": [
    "l = [ 1 for i in range (0, 10)] \n",
    "for i in range(0, 10, 2):\n",
    "    l[i] =  2*i\n",
    "l"
   ]
  },
  {
   "cell_type": "code",
   "execution_count": 8,
   "id": "2ff3d3b1-5825-4925-8b7e-c4ff674af000",
   "metadata": {},
   "outputs": [
    {
     "ename": "ValueError",
     "evalue": "list.remove(x): x not in list",
     "output_type": "error",
     "traceback": [
      "\u001b[0;31m---------------------------------------------------------------------------\u001b[0m",
      "\u001b[0;31mValueError\u001b[0m                                Traceback (most recent call last)",
      "\u001b[0;32m/var/folders/32/9hkmzrf11t38ckpktjnyfsfc0000gn/T/ipykernel_34376/461379217.py\u001b[0m in \u001b[0;36m<cell line: 1>\u001b[0;34m()\u001b[0m\n\u001b[0;32m----> 1\u001b[0;31m \u001b[0ml\u001b[0m\u001b[0;34m.\u001b[0m\u001b[0mremove\u001b[0m\u001b[0;34m(\u001b[0m\u001b[0;36m2\u001b[0m\u001b[0;34m)\u001b[0m\u001b[0;34m\u001b[0m\u001b[0;34m\u001b[0m\u001b[0m\n\u001b[0m",
      "\u001b[0;31mValueError\u001b[0m: list.remove(x): x not in list"
     ]
    }
   ],
   "source": [
    "l.remove(2)"
   ]
  },
  {
   "cell_type": "code",
   "execution_count": 6,
   "id": "3d8fd585-523e-4d67-a496-861c8a09a09d",
   "metadata": {},
   "outputs": [
    {
     "data": {
      "text/plain": [
       "[0, 4, 1, 8, 1, 12, 1, 16, 1]"
      ]
     },
     "execution_count": 6,
     "metadata": {},
     "output_type": "execute_result"
    }
   ],
   "source": [
    "l"
   ]
  },
  {
   "cell_type": "code",
   "execution_count": 9,
   "id": "f85cccc6-0423-48cc-8f26-247c8fa513e6",
   "metadata": {},
   "outputs": [
    {
     "name": "stdout",
     "output_type": "stream",
     "text": [
      "Help on method_descriptor:\n",
      "\n",
      "remove(self, value, /)\n",
      "    Remove first occurrence of value.\n",
      "    \n",
      "    Raises ValueError if the value is not present.\n",
      "\n"
     ]
    }
   ],
   "source": [
    "help(list.remove)"
   ]
  },
  {
   "cell_type": "code",
   "execution_count": 35,
   "id": "0ac761f6-7d13-4c24-8453-16d609957af9",
   "metadata": {},
   "outputs": [
    {
     "name": "stdout",
     "output_type": "stream",
     "text": [
      "[[1, 2, 3], [4, 5, 6], [7, 8, 9]] [[1, 2, 3], [4, 5, 6], [7, 8, 9]] 3 3\n"
     ]
    }
   ],
   "source": [
    "l1 = [ [i for i in range(1,4)], [i for i in range(4,7)], [i for i in range(7,10)]]\n",
    "#l2 = [ [i*j + i for  j in range(3)] for i in range(1,4) ]\n",
    "l2 = l1.copy()\n",
    "print(l1, l2, len(l1), len(l2))"
   ]
  },
  {
   "cell_type": "code",
   "execution_count": 36,
   "id": "f7522166-3c6a-4a58-b618-77c76070cd98",
   "metadata": {},
   "outputs": [
    {
     "name": "stdout",
     "output_type": "stream",
     "text": [
      "[[1, 7, 3], [4, 5, 6], [7, 8, 9]] [[1, 7, 3], [4, 5, 6], [7, 8, 9]] 3 3\n"
     ]
    }
   ],
   "source": [
    "l2[0][1] = 7\n",
    "print(l1, l2, len(l1), len(l2))"
   ]
  },
  {
   "cell_type": "code",
   "execution_count": 21,
   "id": "077a0693-0015-4dae-b478-a76cd5e6e066",
   "metadata": {},
   "outputs": [
    {
     "name": "stdout",
     "output_type": "stream",
     "text": [
      "8\n"
     ]
    },
    {
     "data": {
      "text/plain": [
       "[8, 8, 8]"
      ]
     },
     "execution_count": 21,
     "metadata": {},
     "output_type": "execute_result"
    }
   ],
   "source": [
    "print(i)\n",
    "l2 = [i for j in range(1,4) ]\n",
    "l2"
   ]
  },
  {
   "cell_type": "code",
   "execution_count": 39,
   "id": "7b9b7550-4711-4c6b-ba78-3646a4a39664",
   "metadata": {},
   "outputs": [
    {
     "name": "stdout",
     "output_type": "stream",
     "text": [
      "[[1, 7, 3], [4, 5, 6], [7, 8, 9]] [[1, 7, 3], [4, 5, 6], [7, 8, 9]]\n"
     ]
    }
   ],
   "source": [
    "l2 = [ l1[i][:].copy() for i in range(len(l1)) ]\n",
    "print(l1, l2)"
   ]
  },
  {
   "cell_type": "code",
   "execution_count": 42,
   "id": "b014ae9d-050e-4e56-988a-80507e78bff5",
   "metadata": {},
   "outputs": [
    {
     "name": "stdout",
     "output_type": "stream",
     "text": [
      "140696002644800\n",
      "140696002290176\n",
      "140696002745792\n",
      "140696002704192\n",
      "140695920843056\n",
      "140695920843056\n"
     ]
    }
   ],
   "source": [
    "print(id(l1), id(l2), id(l1[0]), id(l2[0]), id(l1[0][0]), id(l2[0][0]), sep=\"\\n\" )"
   ]
  },
  {
   "cell_type": "code",
   "execution_count": 43,
   "id": "e2932250-c36a-4e01-8c9e-59c5fc2b26c5",
   "metadata": {},
   "outputs": [
    {
     "name": "stdout",
     "output_type": "stream",
     "text": [
      "Help on built-in function time in module time:\n",
      "\n",
      "time(...)\n",
      "    time() -> floating point number\n",
      "    \n",
      "    Return the current time in seconds since the Epoch.\n",
      "    Fractions of a second may be present if the system clock provides them.\n",
      "\n"
     ]
    }
   ],
   "source": [
    "import time\n",
    "help(time.time)"
   ]
  },
  {
   "cell_type": "code",
   "execution_count": null,
   "id": "8d3d663e-2338-4074-acc9-698548784257",
   "metadata": {},
   "outputs": [],
   "source": []
  }
 ],
 "metadata": {
  "kernelspec": {
   "display_name": "Python 3 (ipykernel)",
   "language": "python",
   "name": "python3"
  },
  "language_info": {
   "codemirror_mode": {
    "name": "ipython",
    "version": 3
   },
   "file_extension": ".py",
   "mimetype": "text/x-python",
   "name": "python",
   "nbconvert_exporter": "python",
   "pygments_lexer": "ipython3",
   "version": "3.9.6"
  }
 },
 "nbformat": 4,
 "nbformat_minor": 5
}
