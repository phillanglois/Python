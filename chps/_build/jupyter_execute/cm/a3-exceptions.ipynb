{
 "cells": [
  {
   "cell_type": "markdown",
   "metadata": {
    "slideshow": {
     "slide_type": "slide"
    }
   },
   "source": [
    "# Exceptions\n",
    "\n",
    "Programmation.\n",
    "\n",
    "Version 2020 (PhL).\n",
    "\n",
    "**NOTE 2022** Reprendre ce chapitre pour afficher les exceptions levées par le nb.\n",
    "Metadata de ce nb maj avec \n",
    "`allow_errors: true`\n",
    "cf [doc](https://jupyterbook.org/content/execute.html#execution-configuration)"
   ]
  },
  {
   "cell_type": "markdown",
   "metadata": {
    "toc": true
   },
   "source": [
    "<h1>Table des matieres<span class=\"tocSkip\"></span></h1>\n",
    "<div class=\"toc\"><ul class=\"toc-item\"><li><span><a href=\"#Principes\" data-toc-modified-id=\"Principes-1\"><span class=\"toc-item-num\">1&nbsp;&nbsp;</span>Principes</a></span></li><li><span><a href=\"#Les-exceptions-prédéfinies\" data-toc-modified-id=\"Les-exceptions-prédéfinies-2\"><span class=\"toc-item-num\">2&nbsp;&nbsp;</span>Les exceptions prédéfinies</a></span></li><li><span><a href=\"#Traitement-des-exceptions-en-python\" data-toc-modified-id=\"Traitement-des-exceptions-en-python-3\"><span class=\"toc-item-num\">3&nbsp;&nbsp;</span>Traitement des exceptions en python</a></span><ul class=\"toc-item\"><li><span><a href=\"#Premier-exemple-gentil\" data-toc-modified-id=\"Premier-exemple-gentil-3.1\"><span class=\"toc-item-num\">3.1&nbsp;&nbsp;</span>Premier exemple gentil</a></span></li><li><span><a href=\"#Remarques\" data-toc-modified-id=\"Remarques-3.2\"><span class=\"toc-item-num\">3.2&nbsp;&nbsp;</span>Remarques</a></span></li><li><span><a href=\"#Exemples\" data-toc-modified-id=\"Exemples-3.3\"><span class=\"toc-item-num\">3.3&nbsp;&nbsp;</span>Exemples</a></span></li></ul></li><li><span><a href=\"#Exceptions-définies-par-l'utilisateur\" data-toc-modified-id=\"Exceptions-définies-par-l'utilisateur-4\"><span class=\"toc-item-num\">4&nbsp;&nbsp;</span>Exceptions définies par l'utilisateur</a></span><ul class=\"toc-item\"><li><span><a href=\"#Levée-d'exception-prédéfinie\" data-toc-modified-id=\"Levée-d'exception-prédéfinie-4.1\"><span class=\"toc-item-num\">4.1&nbsp;&nbsp;</span>Levée d'exception prédéfinie</a></span></li><li><span><a href=\"#Définir-ses-propres-exceptions\" data-toc-modified-id=\"Définir-ses-propres-exceptions-4.2\"><span class=\"toc-item-num\">4.2&nbsp;&nbsp;</span>Définir ses propres exceptions</a></span></li></ul></li><li><span><a href=\"#Précondition\" data-toc-modified-id=\"Précondition-5\"><span class=\"toc-item-num\">5&nbsp;&nbsp;</span>Précondition</a></span></li><li><span><a href=\"#Synthèse\" data-toc-modified-id=\"Synthèse-6\"><span class=\"toc-item-num\">6&nbsp;&nbsp;</span>Synthèse</a></span></li></ul></div>"
   ]
  },
  {
   "cell_type": "markdown",
   "metadata": {
    "slideshow": {
     "slide_type": "slide"
    }
   },
   "source": [
    "## Principes\n",
    "\n",
    "Motivation : certains traitements ne peuvent pas s'effectuer correctement. Comme par exemple l'évaluation d'une racine carrée négative, une division par zéro, la lecture au delà de la fin d'un fichier, l'écriture au delà de la zone mémoire accessible, ... \n",
    "\n",
    "Ces situations _exceptionnelles_ sont prises en compte par le mécanisme des _exceptions_. \n",
    "\n",
    "3 étapes :\n",
    "1. `raise`: l'apparition de la situation exceptionnelle _lève_ une exception\n",
    "2. `except`: un _traitement de substitution_ (ou _traite exception_) défini pour gérer au mieux l'exception concernée est appliqué  \n",
    "3. suite à ce traitement : _reprise_ ou _abandon_ du traitement initial.  "
   ]
  },
  {
   "cell_type": "markdown",
   "metadata": {
    "slideshow": {
     "slide_type": "subslide"
    }
   },
   "source": [
    "En général, la levée d'une exception correspond à une situation _anormale_ du traitement. Ainsi le traitement normal est _interrompu_ et le _traite exception_ a pour objectif de \"limiter la casse\". \n",
    "Il est rare, mais pas impossible, qu'un _traite exception_ permette de reprendre l'exécution normale du traitement principal.  \n",
    "\n",
    "Il existe deux types d'exceptions.\n",
    "- les **exceptions prédéfinies** par le langage ou par des modules utilisés  \n",
    "- les exceptions définies par l'utilisateur  "
   ]
  },
  {
   "cell_type": "markdown",
   "metadata": {
    "slideshow": {
     "slide_type": "subslide"
    }
   },
   "source": [
    "<div class=\"alert alert-block alert-info\">\n",
    "Bien distinguer les _erreurs de syntaxe_ à l'interprétation/compilation des exceptions à _l'exécution_. \n",
    "</div>"
   ]
  },
  {
   "cell_type": "markdown",
   "metadata": {
    "slideshow": {
     "slide_type": "slide"
    }
   },
   "source": [
    "## Les exceptions prédéfinies\n",
    "\n",
    "En python (et dans d'autres langages), ces exceptions sont nombreuses.\n",
    "Voir par exemple : [doc python](https://docs.python.org/fr/3.5/library/exceptions.html)\n",
    "\n",
    "Elles sont organisées selon leur origine (système, calcul, mémoire, exécution, périphérique, ...) par groupe et/ou de façon hierarchisée : [hierarchie des exceptions python](https://docs.python.org/fr/3.5/library/exceptions.html#exception-hierarchy)"
   ]
  },
  {
   "cell_type": "markdown",
   "metadata": {
    "slideshow": {
     "slide_type": "subslide"
    }
   },
   "source": [
    "Parmi les exceptions les plus souvent rencontrées :\n",
    "\n",
    "``` python\n",
    "- ArithmeticError\n",
    "      |    +-- FloatingPointError\n",
    "      |    +-- OverflowError\n",
    "      |    +-- ZeroDivisionError\n",
    "- EOFError\n",
    "- NameError\n",
    "- OSError\n",
    "      |    +-- FileExistsError\n",
    "      |    +-- FileNotFoundError\n",
    "      |    +-- IsADirectoryError\n",
    "      |    +-- NotADirectoryError\n",
    "      |    +-- PermissionError\n",
    "- RuntimeError\n",
    "      |    +-- NotImplementedError\n",
    "      |    +-- RecursionError\n",
    "      |    +-- SyntaxError\n",
    "      |    +-- IndentationError\n",
    "      |         +-- TabError\n",
    "- TypeError\n",
    "- ValueError\n",
    "      |    +-- UnicodeError\n",
    "```"
   ]
  },
  {
   "cell_type": "markdown",
   "metadata": {
    "slideshow": {
     "slide_type": "subslide"
    }
   },
   "source": [
    "**Remarque** :\n",
    "- Expliquer pourquoi les exceptions `SyntaxError` ou `IndentationError` peuvent être levées à l'exécution ?"
   ]
  },
  {
   "cell_type": "markdown",
   "metadata": {
    "slideshow": {
     "slide_type": "slide"
    }
   },
   "source": [
    "## Traitement des exceptions en python\n",
    "\n",
    "La gestion des exceptions s'effectue avec la construction suivante qui __encadre les zones à risques__ : \n",
    "\n",
    "```python\n",
    "try :\n",
    "    # la partie du traitement principal susceptible de mal se passer\n",
    "except UneException:\n",
    "    # traitement prévu si l'exception `UneException` est levée\n",
    "except (UneAutre, EtEncoreUneAutre):\n",
    "    # traitement prévu si les exceptions `UneAutre` ou `EncoreUneAutre` sont levées\n",
    "except:\n",
    "    # traitement prévu si toute autre exception est levée\n",
    "else:\n",
    "    # traitement si aucune exception n'a été levée dans le bloc 'try' \n",
    "```"
   ]
  },
  {
   "cell_type": "markdown",
   "metadata": {
    "slideshow": {
     "slide_type": "subslide"
    }
   },
   "source": [
    "**Principe **\n",
    "- le bloc `try` est exécuté\n",
    "- si aucune exception est levée par cette exécution, les blocs `except` sont sautés et le traitement continue normalement après l'instruction `try` \n",
    "    - dans le bloc `else` si il existe  \n",
    "    - sinon à l'instruction suivante de même niveau que le `try`\n",
    "- si une instruction du bloc `try` lève une exception :\n",
    "    - le bloc `try` est _immédiatement_ abandonné : il n'est donc pas exécuté en entier\n",
    "    - on recherche si un traite exception correspondant à l'exception levée est défini\n",
    "        - si oui : on l'exécute et on continue après l'instruction `try` \n",
    "        - si non : l'exception est propagée au `try` de niveau englobant.  \n",
    "        "
   ]
  },
  {
   "cell_type": "markdown",
   "metadata": {
    "slideshow": {
     "slide_type": "slide"
    }
   },
   "source": [
    "### Premier exemple gentil"
   ]
  },
  {
   "cell_type": "code",
   "execution_count": 1,
   "metadata": {
    "slideshow": {
     "slide_type": "fragment"
    }
   },
   "outputs": [
    {
     "name": "stdout",
     "output_type": "stream",
     "text": [
      "Son inverse vaut 0.3333333333333333\n",
      "et on vérifie : x * 1/x = 1.0\n"
     ]
    }
   ],
   "source": [
    "#x = float(input(\"Un float stp :\"))\n",
    "x = 3\n",
    "print(\"Son inverse vaut\", 1./x)\n",
    "print(\"et on vérifie : x * 1/x =\", x * 1/x)"
   ]
  },
  {
   "cell_type": "markdown",
   "metadata": {
    "slideshow": {
     "slide_type": "fragment"
    }
   },
   "source": [
    "Le traitement précédent (qui mélange ES et traitements) comporte une situation exceptionnelle qui va lever l'exception arithmétique `ZeroDivisionError` dans le cas suivant."
   ]
  },
  {
   "cell_type": "markdown",
   "metadata": {
    "slideshow": {
     "slide_type": "fragment"
    }
   },
   "source": [
    "```python\n",
    "x = 0.0\n",
    "print(\"Son inverse vaut\",  1./x)\n",
    "```\n",
    "```shell\n",
    "---------------------------------------------------------------------------\n",
    "ZeroDivisionError                         Traceback (most recent call last)\n",
    "<ipython-input-2-56b7ed41bd3d> in <module>\n",
    "      1 x = float(input(\"Un float stp :\"))\n",
    "----> 2 print(\"Son inverse vaut\",  1./x)\n",
    "\n",
    "ZeroDivisionError: float division by zero\n",
    "```"
   ]
  },
  {
   "cell_type": "markdown",
   "metadata": {
    "slideshow": {
     "slide_type": "subslide"
    }
   },
   "source": [
    "On encadre la zone dangereuse avec un bloc `try - except`.  "
   ]
  },
  {
   "cell_type": "code",
   "execution_count": 2,
   "metadata": {
    "slideshow": {
     "slide_type": "fragment"
    }
   },
   "outputs": [
    {
     "name": "stdout",
     "output_type": "stream",
     "text": [
      "Désolé : on ne peut rien pour toi\n"
     ]
    },
    {
     "ename": "StdinNotImplementedError",
     "evalue": "raw_input was called, but this frontend does not support input requests.",
     "output_type": "error",
     "traceback": [
      "\u001b[0;31m---------------------------------------------------------------------------\u001b[0m",
      "\u001b[0;31mStdinNotImplementedError\u001b[0m                  Traceback (most recent call last)",
      "Cell \u001b[0;32mIn[2], line 2\u001b[0m\n\u001b[1;32m      1\u001b[0m \u001b[38;5;28;01mtry\u001b[39;00m :\n\u001b[0;32m----> 2\u001b[0m     x \u001b[38;5;241m=\u001b[39m \u001b[38;5;28mfloat\u001b[39m(\u001b[38;5;28;43minput\u001b[39;49m\u001b[43m(\u001b[49m\u001b[38;5;124;43m\"\u001b[39;49m\u001b[38;5;124;43mUn float stp :\u001b[39;49m\u001b[38;5;124;43m\"\u001b[39;49m\u001b[43m)\u001b[49m)\n\u001b[1;32m      3\u001b[0m     \u001b[38;5;28mprint\u001b[39m(\u001b[38;5;124m\"\u001b[39m\u001b[38;5;124mSon inverse vaut\u001b[39m\u001b[38;5;124m\"\u001b[39m, \u001b[38;5;241m1.\u001b[39m\u001b[38;5;241m/\u001b[39mx)\n\u001b[1;32m      4\u001b[0m \u001b[38;5;28;01mexcept\u001b[39;00m \u001b[38;5;167;01mZeroDivisionError\u001b[39;00m :\n",
      "File \u001b[0;32m~/anaconda3/envs/python2024/lib/python3.11/site-packages/ipykernel/kernelbase.py:1269\u001b[0m, in \u001b[0;36mKernel.raw_input\u001b[0;34m(self, prompt)\u001b[0m\n\u001b[1;32m   1267\u001b[0m \u001b[38;5;28;01mif\u001b[39;00m \u001b[38;5;129;01mnot\u001b[39;00m \u001b[38;5;28mself\u001b[39m\u001b[38;5;241m.\u001b[39m_allow_stdin:\n\u001b[1;32m   1268\u001b[0m     msg \u001b[38;5;241m=\u001b[39m \u001b[38;5;124m\"\u001b[39m\u001b[38;5;124mraw_input was called, but this frontend does not support input requests.\u001b[39m\u001b[38;5;124m\"\u001b[39m\n\u001b[0;32m-> 1269\u001b[0m     \u001b[38;5;28;01mraise\u001b[39;00m StdinNotImplementedError(msg)\n\u001b[1;32m   1270\u001b[0m \u001b[38;5;28;01mreturn\u001b[39;00m \u001b[38;5;28mself\u001b[39m\u001b[38;5;241m.\u001b[39m_input_request(\n\u001b[1;32m   1271\u001b[0m     \u001b[38;5;28mstr\u001b[39m(prompt),\n\u001b[1;32m   1272\u001b[0m     \u001b[38;5;28mself\u001b[39m\u001b[38;5;241m.\u001b[39m_parent_ident[\u001b[38;5;124m\"\u001b[39m\u001b[38;5;124mshell\u001b[39m\u001b[38;5;124m\"\u001b[39m],\n\u001b[1;32m   1273\u001b[0m     \u001b[38;5;28mself\u001b[39m\u001b[38;5;241m.\u001b[39mget_parent(\u001b[38;5;124m\"\u001b[39m\u001b[38;5;124mshell\u001b[39m\u001b[38;5;124m\"\u001b[39m),\n\u001b[1;32m   1274\u001b[0m     password\u001b[38;5;241m=\u001b[39m\u001b[38;5;28;01mFalse\u001b[39;00m,\n\u001b[1;32m   1275\u001b[0m )\n",
      "\u001b[0;31mStdinNotImplementedError\u001b[0m: raw_input was called, but this frontend does not support input requests."
     ]
    }
   ],
   "source": [
    "try :\n",
    "    x = float(input(\"Un float stp :\"))\n",
    "    print(\"Son inverse vaut\", 1./x)\n",
    "except ZeroDivisionError :\n",
    "    x = float(input(\"Un float NON NUL stp :\"))\n",
    "    print(\"Son inverse vaut\", 1./x)\n",
    "except:\n",
    "    print(\"Désolé : on ne peut rien pour toi\")\n",
    "    raise\n",
    "print(\"et on vérifie : x * 1/x =\", x * 1/x)"
   ]
  },
  {
   "cell_type": "code",
   "execution_count": 3,
   "metadata": {
    "slideshow": {
     "slide_type": "fragment"
    }
   },
   "outputs": [
    {
     "name": "stdout",
     "output_type": "stream",
     "text": [
      "Désolé : on ne peut rien pour toi\n"
     ]
    },
    {
     "ename": "StdinNotImplementedError",
     "evalue": "raw_input was called, but this frontend does not support input requests.",
     "output_type": "error",
     "traceback": [
      "\u001b[0;31m---------------------------------------------------------------------------\u001b[0m",
      "\u001b[0;31mStdinNotImplementedError\u001b[0m                  Traceback (most recent call last)",
      "Cell \u001b[0;32mIn[3], line 2\u001b[0m\n\u001b[1;32m      1\u001b[0m \u001b[38;5;28;01mtry\u001b[39;00m :\n\u001b[0;32m----> 2\u001b[0m     x \u001b[38;5;241m=\u001b[39m \u001b[38;5;28mfloat\u001b[39m(\u001b[38;5;28;43minput\u001b[39;49m\u001b[43m(\u001b[49m\u001b[38;5;124;43m\"\u001b[39;49m\u001b[38;5;124;43mUn float stp :\u001b[39;49m\u001b[38;5;124;43m\"\u001b[39;49m\u001b[43m)\u001b[49m)\n\u001b[1;32m      3\u001b[0m     \u001b[38;5;28mprint\u001b[39m(\u001b[38;5;124m\"\u001b[39m\u001b[38;5;124mSon inverse vaut\u001b[39m\u001b[38;5;124m\"\u001b[39m, \u001b[38;5;241m1.\u001b[39m\u001b[38;5;241m/\u001b[39mx)\n\u001b[1;32m      4\u001b[0m \u001b[38;5;28;01mexcept\u001b[39;00m \u001b[38;5;167;01mZeroDivisionError\u001b[39;00m :\n",
      "File \u001b[0;32m~/anaconda3/envs/python2024/lib/python3.11/site-packages/ipykernel/kernelbase.py:1269\u001b[0m, in \u001b[0;36mKernel.raw_input\u001b[0;34m(self, prompt)\u001b[0m\n\u001b[1;32m   1267\u001b[0m \u001b[38;5;28;01mif\u001b[39;00m \u001b[38;5;129;01mnot\u001b[39;00m \u001b[38;5;28mself\u001b[39m\u001b[38;5;241m.\u001b[39m_allow_stdin:\n\u001b[1;32m   1268\u001b[0m     msg \u001b[38;5;241m=\u001b[39m \u001b[38;5;124m\"\u001b[39m\u001b[38;5;124mraw_input was called, but this frontend does not support input requests.\u001b[39m\u001b[38;5;124m\"\u001b[39m\n\u001b[0;32m-> 1269\u001b[0m     \u001b[38;5;28;01mraise\u001b[39;00m StdinNotImplementedError(msg)\n\u001b[1;32m   1270\u001b[0m \u001b[38;5;28;01mreturn\u001b[39;00m \u001b[38;5;28mself\u001b[39m\u001b[38;5;241m.\u001b[39m_input_request(\n\u001b[1;32m   1271\u001b[0m     \u001b[38;5;28mstr\u001b[39m(prompt),\n\u001b[1;32m   1272\u001b[0m     \u001b[38;5;28mself\u001b[39m\u001b[38;5;241m.\u001b[39m_parent_ident[\u001b[38;5;124m\"\u001b[39m\u001b[38;5;124mshell\u001b[39m\u001b[38;5;124m\"\u001b[39m],\n\u001b[1;32m   1273\u001b[0m     \u001b[38;5;28mself\u001b[39m\u001b[38;5;241m.\u001b[39mget_parent(\u001b[38;5;124m\"\u001b[39m\u001b[38;5;124mshell\u001b[39m\u001b[38;5;124m\"\u001b[39m),\n\u001b[1;32m   1274\u001b[0m     password\u001b[38;5;241m=\u001b[39m\u001b[38;5;28;01mFalse\u001b[39;00m,\n\u001b[1;32m   1275\u001b[0m )\n",
      "\u001b[0;31mStdinNotImplementedError\u001b[0m: raw_input was called, but this frontend does not support input requests."
     ]
    }
   ],
   "source": [
    "try :\n",
    "    x = float(input(\"Un float stp :\"))\n",
    "    print(\"Son inverse vaut\", 1./x)\n",
    "except ZeroDivisionError :\n",
    "    x = float(input(\"Un float NON NUL stp :\"))\n",
    "    print(\"Son inverse vaut\", 1./x)\n",
    "except :\n",
    "    print(\"Désolé : on ne peut rien pour toi\")\n",
    "    raise\n",
    "print(\"et on vérifie : x * 1/x =\", x * 1/x)"
   ]
  },
  {
   "cell_type": "code",
   "execution_count": 4,
   "metadata": {
    "slideshow": {
     "slide_type": "fragment"
    }
   },
   "outputs": [
    {
     "name": "stdout",
     "output_type": "stream",
     "text": [
      "Désolé : on ne peut rien pour toi\n"
     ]
    },
    {
     "ename": "StdinNotImplementedError",
     "evalue": "raw_input was called, but this frontend does not support input requests.",
     "output_type": "error",
     "traceback": [
      "\u001b[0;31m---------------------------------------------------------------------------\u001b[0m",
      "\u001b[0;31mStdinNotImplementedError\u001b[0m                  Traceback (most recent call last)",
      "Cell \u001b[0;32mIn[4], line 2\u001b[0m\n\u001b[1;32m      1\u001b[0m \u001b[38;5;28;01mtry\u001b[39;00m :\n\u001b[0;32m----> 2\u001b[0m     x \u001b[38;5;241m=\u001b[39m \u001b[38;5;28mfloat\u001b[39m(\u001b[38;5;28;43minput\u001b[39;49m\u001b[43m(\u001b[49m\u001b[38;5;124;43m\"\u001b[39;49m\u001b[38;5;124;43mUn float stp :\u001b[39;49m\u001b[38;5;124;43m\"\u001b[39;49m\u001b[43m)\u001b[49m)\n\u001b[1;32m      3\u001b[0m     \u001b[38;5;28mprint\u001b[39m(\u001b[38;5;124m\"\u001b[39m\u001b[38;5;124mSon inverse vaut\u001b[39m\u001b[38;5;124m\"\u001b[39m, \u001b[38;5;241m1.\u001b[39m\u001b[38;5;241m/\u001b[39mx)\n\u001b[1;32m      4\u001b[0m \u001b[38;5;28;01mexcept\u001b[39;00m \u001b[38;5;167;01mZeroDivisionError\u001b[39;00m :\n",
      "File \u001b[0;32m~/anaconda3/envs/python2024/lib/python3.11/site-packages/ipykernel/kernelbase.py:1269\u001b[0m, in \u001b[0;36mKernel.raw_input\u001b[0;34m(self, prompt)\u001b[0m\n\u001b[1;32m   1267\u001b[0m \u001b[38;5;28;01mif\u001b[39;00m \u001b[38;5;129;01mnot\u001b[39;00m \u001b[38;5;28mself\u001b[39m\u001b[38;5;241m.\u001b[39m_allow_stdin:\n\u001b[1;32m   1268\u001b[0m     msg \u001b[38;5;241m=\u001b[39m \u001b[38;5;124m\"\u001b[39m\u001b[38;5;124mraw_input was called, but this frontend does not support input requests.\u001b[39m\u001b[38;5;124m\"\u001b[39m\n\u001b[0;32m-> 1269\u001b[0m     \u001b[38;5;28;01mraise\u001b[39;00m StdinNotImplementedError(msg)\n\u001b[1;32m   1270\u001b[0m \u001b[38;5;28;01mreturn\u001b[39;00m \u001b[38;5;28mself\u001b[39m\u001b[38;5;241m.\u001b[39m_input_request(\n\u001b[1;32m   1271\u001b[0m     \u001b[38;5;28mstr\u001b[39m(prompt),\n\u001b[1;32m   1272\u001b[0m     \u001b[38;5;28mself\u001b[39m\u001b[38;5;241m.\u001b[39m_parent_ident[\u001b[38;5;124m\"\u001b[39m\u001b[38;5;124mshell\u001b[39m\u001b[38;5;124m\"\u001b[39m],\n\u001b[1;32m   1273\u001b[0m     \u001b[38;5;28mself\u001b[39m\u001b[38;5;241m.\u001b[39mget_parent(\u001b[38;5;124m\"\u001b[39m\u001b[38;5;124mshell\u001b[39m\u001b[38;5;124m\"\u001b[39m),\n\u001b[1;32m   1274\u001b[0m     password\u001b[38;5;241m=\u001b[39m\u001b[38;5;28;01mFalse\u001b[39;00m,\n\u001b[1;32m   1275\u001b[0m )\n",
      "\u001b[0;31mStdinNotImplementedError\u001b[0m: raw_input was called, but this frontend does not support input requests."
     ]
    }
   ],
   "source": [
    "try :\n",
    "    x = float(input(\"Un float stp :\"))\n",
    "    print(\"Son inverse vaut\", 1./x)\n",
    "except ZeroDivisionError :\n",
    "    x = float(input(\"Un float NON NUL stp :\"))\n",
    "except :\n",
    "    print(\"Désolé : on ne peut rien pour toi\")\n",
    "    raise\n",
    "print(\"et on vérifie : x * 1/x =\", x * 1/x)"
   ]
  },
  {
   "cell_type": "markdown",
   "metadata": {
    "slideshow": {
     "slide_type": "subslide"
    }
   },
   "source": [
    "**Analyse**\n",
    "- Le traitement d'entrée au clavier est risqué  :\n",
    "- levée de l'exception `ZeroDivisionError` si l'utisateur entre `0` \n",
    "- dans ce cas, le traite-exception permet de récupérer _cette_ erreur en redemandant une autre entrée\n",
    "    - traitement sûr si la nouvelle entrée est correcte\n",
    "    - mais ...."
   ]
  },
  {
   "cell_type": "code",
   "execution_count": 5,
   "metadata": {
    "slideshow": {
     "slide_type": "subslide"
    }
   },
   "outputs": [
    {
     "name": "stdout",
     "output_type": "stream",
     "text": [
      "Désolé : on ne peut rien pour toi\n"
     ]
    },
    {
     "ename": "StdinNotImplementedError",
     "evalue": "raw_input was called, but this frontend does not support input requests.",
     "output_type": "error",
     "traceback": [
      "\u001b[0;31m---------------------------------------------------------------------------\u001b[0m",
      "\u001b[0;31mStdinNotImplementedError\u001b[0m                  Traceback (most recent call last)",
      "Cell \u001b[0;32mIn[5], line 2\u001b[0m\n\u001b[1;32m      1\u001b[0m \u001b[38;5;28;01mtry\u001b[39;00m :\n\u001b[0;32m----> 2\u001b[0m     x \u001b[38;5;241m=\u001b[39m \u001b[38;5;28mfloat\u001b[39m(\u001b[38;5;28;43minput\u001b[39;49m\u001b[43m(\u001b[49m\u001b[38;5;124;43m\"\u001b[39;49m\u001b[38;5;124;43mUn float stp :\u001b[39;49m\u001b[38;5;124;43m\"\u001b[39;49m\u001b[43m)\u001b[49m)\n\u001b[1;32m      3\u001b[0m     \u001b[38;5;28mprint\u001b[39m(\u001b[38;5;124m\"\u001b[39m\u001b[38;5;124mSon inverse vaut\u001b[39m\u001b[38;5;124m\"\u001b[39m, \u001b[38;5;241m1.\u001b[39m\u001b[38;5;241m/\u001b[39mx)\n\u001b[1;32m      4\u001b[0m \u001b[38;5;28;01mexcept\u001b[39;00m \u001b[38;5;167;01mZeroDivisionError\u001b[39;00m :\n",
      "File \u001b[0;32m~/anaconda3/envs/python2024/lib/python3.11/site-packages/ipykernel/kernelbase.py:1269\u001b[0m, in \u001b[0;36mKernel.raw_input\u001b[0;34m(self, prompt)\u001b[0m\n\u001b[1;32m   1267\u001b[0m \u001b[38;5;28;01mif\u001b[39;00m \u001b[38;5;129;01mnot\u001b[39;00m \u001b[38;5;28mself\u001b[39m\u001b[38;5;241m.\u001b[39m_allow_stdin:\n\u001b[1;32m   1268\u001b[0m     msg \u001b[38;5;241m=\u001b[39m \u001b[38;5;124m\"\u001b[39m\u001b[38;5;124mraw_input was called, but this frontend does not support input requests.\u001b[39m\u001b[38;5;124m\"\u001b[39m\n\u001b[0;32m-> 1269\u001b[0m     \u001b[38;5;28;01mraise\u001b[39;00m StdinNotImplementedError(msg)\n\u001b[1;32m   1270\u001b[0m \u001b[38;5;28;01mreturn\u001b[39;00m \u001b[38;5;28mself\u001b[39m\u001b[38;5;241m.\u001b[39m_input_request(\n\u001b[1;32m   1271\u001b[0m     \u001b[38;5;28mstr\u001b[39m(prompt),\n\u001b[1;32m   1272\u001b[0m     \u001b[38;5;28mself\u001b[39m\u001b[38;5;241m.\u001b[39m_parent_ident[\u001b[38;5;124m\"\u001b[39m\u001b[38;5;124mshell\u001b[39m\u001b[38;5;124m\"\u001b[39m],\n\u001b[1;32m   1273\u001b[0m     \u001b[38;5;28mself\u001b[39m\u001b[38;5;241m.\u001b[39mget_parent(\u001b[38;5;124m\"\u001b[39m\u001b[38;5;124mshell\u001b[39m\u001b[38;5;124m\"\u001b[39m),\n\u001b[1;32m   1274\u001b[0m     password\u001b[38;5;241m=\u001b[39m\u001b[38;5;28;01mFalse\u001b[39;00m,\n\u001b[1;32m   1275\u001b[0m )\n",
      "\u001b[0;31mStdinNotImplementedError\u001b[0m: raw_input was called, but this frontend does not support input requests."
     ]
    }
   ],
   "source": [
    "try :\n",
    "    x = float(input(\"Un float stp :\"))\n",
    "    print(\"Son inverse vaut\", 1./x)\n",
    "except ZeroDivisionError :\n",
    "    x = float(input(\"Un float NON NUL stp :\"))\n",
    "    print(\"Son inverse vaut\", 1./x)\n",
    "except :\n",
    "    print(\"Désolé : on ne peut rien pour toi\")\n",
    "    raise\n",
    "print(\"et on vérifie : x * 1/x =\", x * 1/x)"
   ]
  },
  {
   "cell_type": "markdown",
   "metadata": {
    "slideshow": {
     "slide_type": "fragment"
    }
   },
   "source": [
    "**Exercice**\n",
    "- Que faire ?"
   ]
  },
  {
   "cell_type": "markdown",
   "metadata": {
    "slideshow": {
     "slide_type": "slide"
    }
   },
   "source": [
    "### Remarques\n",
    "\n",
    "- __Un seul__ traite exception est exécuté lorsque le bloc `try` lève une exception  \n",
    "- Principe de **propagation ascendante d'une exception non traitée** : si aucun traite-exception est rencontré pour l'exception levée,\n",
    "    - cette exception est **propagée** au niveau supérieur, \n",
    "    - et ce jusqu'à rencontrer le traite-exception qui va, \n",
    "    - ou à défaut d'arrêter définitivement le traitement  \n",
    "- `raise` propage explicitement l'exception au niveau supérieur\n",
    "- __Interdire__ le \"`except` sans `raise`\" qui va absorber toutes les exceptions, même celles non prévues et donc significatives d'une anomalie profonde de l'exécution  "
   ]
  },
  {
   "cell_type": "markdown",
   "metadata": {
    "slideshow": {
     "slide_type": "subslide"
    }
   },
   "source": [
    "### Exemples\n",
    "\n",
    "Les ES sont des zones à risque.\n"
   ]
  },
  {
   "cell_type": "code",
   "execution_count": 6,
   "metadata": {
    "slideshow": {
     "slide_type": "fragment"
    }
   },
   "outputs": [
    {
     "name": "stdout",
     "output_type": "stream",
     "text": [
      "Fichier pas trouvé\n"
     ]
    }
   ],
   "source": [
    "try :\n",
    "    f = open(\"./fichier_qui_n_existe_pas.txt\", \"r\")\n",
    "except FileNotFoundError:\n",
    "    print(\"Fichier pas trouvé\")"
   ]
  },
  {
   "cell_type": "code",
   "execution_count": 7,
   "metadata": {
    "slideshow": {
     "slide_type": "fragment"
    }
   },
   "outputs": [
    {
     "name": "stdout",
     "output_type": "stream",
     "text": [
      "6\r\n",
      "99\r\n",
      "21\r\n",
      "33\r\n"
     ]
    }
   ],
   "source": [
    "!cat ./tmp/fichier_entrees2.txt"
   ]
  },
  {
   "cell_type": "markdown",
   "metadata": {
    "slideshow": {
     "slide_type": "subslide"
    }
   },
   "source": [
    "Le comportement suivant illustre la robustesse de python :\n",
    "- `readline()` ne lève pas d'exception EOF \n",
    "- mais renvoit une chaine vide ;\n",
    "- ce qui n'est pas le cas de nombreux langages qui effectueraient le même traitement (incorrect)"
   ]
  },
  {
   "cell_type": "code",
   "execution_count": 8,
   "metadata": {
    "slideshow": {
     "slide_type": "fragment"
    }
   },
   "outputs": [
    {
     "name": "stdout",
     "output_type": "stream",
     "text": [
      "['6\\n', '99\\n', '21\\n', '33\\n', '', '', '']\n"
     ]
    }
   ],
   "source": [
    "f = open(\"./tmp/fichier_entrees2.txt\", \"r\")\n",
    "\n",
    "x = [0]*7\n",
    "for i in range(7):\n",
    "    x[i] = f.readline()\n",
    "\n",
    "print(x)\n",
    "f.close()"
   ]
  },
  {
   "cell_type": "markdown",
   "metadata": {
    "slideshow": {
     "slide_type": "subslide"
    }
   },
   "source": [
    "Peut quand-même avoir des problèmes :"
   ]
  },
  {
   "cell_type": "code",
   "execution_count": 9,
   "metadata": {
    "slideshow": {
     "slide_type": "fragment"
    }
   },
   "outputs": [
    {
     "ename": "StdinNotImplementedError",
     "evalue": "raw_input was called, but this frontend does not support input requests.",
     "output_type": "error",
     "traceback": [
      "\u001b[0;31m---------------------------------------------------------------------------\u001b[0m",
      "\u001b[0;31mStdinNotImplementedError\u001b[0m                  Traceback (most recent call last)",
      "Cell \u001b[0;32mIn[9], line 6\u001b[0m\n\u001b[1;32m      2\u001b[0m f \u001b[38;5;241m=\u001b[39m \u001b[38;5;28mopen\u001b[39m(\u001b[38;5;124m\"\u001b[39m\u001b[38;5;124m./tmp/fichier_entrees2.txt\u001b[39m\u001b[38;5;124m\"\u001b[39m, \u001b[38;5;124m\"\u001b[39m\u001b[38;5;124mr\u001b[39m\u001b[38;5;124m\"\u001b[39m)\n\u001b[1;32m      4\u001b[0m tab \u001b[38;5;241m=\u001b[39m np\u001b[38;5;241m.\u001b[39mzeros(\u001b[38;5;241m3\u001b[39m, dtype\u001b[38;5;241m=\u001b[39m\u001b[38;5;124m'\u001b[39m\u001b[38;5;124mint32\u001b[39m\u001b[38;5;124m'\u001b[39m)\n\u001b[0;32m----> 6\u001b[0m n \u001b[38;5;241m=\u001b[39m \u001b[38;5;28mint\u001b[39m(\u001b[38;5;28;43minput\u001b[39;49m\u001b[43m(\u001b[49m\u001b[38;5;124;43m\"\u001b[39;49m\u001b[38;5;124;43mNbre de valeurs à lire : \u001b[39;49m\u001b[38;5;124;43m\"\u001b[39;49m\u001b[43m)\u001b[49m)\n\u001b[1;32m      8\u001b[0m \u001b[38;5;28;01mfor\u001b[39;00m i \u001b[38;5;129;01min\u001b[39;00m \u001b[38;5;28mrange\u001b[39m(n):\n\u001b[1;32m      9\u001b[0m     tab[i] \u001b[38;5;241m=\u001b[39m f\u001b[38;5;241m.\u001b[39mreadline()\n",
      "File \u001b[0;32m~/anaconda3/envs/python2024/lib/python3.11/site-packages/ipykernel/kernelbase.py:1269\u001b[0m, in \u001b[0;36mKernel.raw_input\u001b[0;34m(self, prompt)\u001b[0m\n\u001b[1;32m   1267\u001b[0m \u001b[38;5;28;01mif\u001b[39;00m \u001b[38;5;129;01mnot\u001b[39;00m \u001b[38;5;28mself\u001b[39m\u001b[38;5;241m.\u001b[39m_allow_stdin:\n\u001b[1;32m   1268\u001b[0m     msg \u001b[38;5;241m=\u001b[39m \u001b[38;5;124m\"\u001b[39m\u001b[38;5;124mraw_input was called, but this frontend does not support input requests.\u001b[39m\u001b[38;5;124m\"\u001b[39m\n\u001b[0;32m-> 1269\u001b[0m     \u001b[38;5;28;01mraise\u001b[39;00m StdinNotImplementedError(msg)\n\u001b[1;32m   1270\u001b[0m \u001b[38;5;28;01mreturn\u001b[39;00m \u001b[38;5;28mself\u001b[39m\u001b[38;5;241m.\u001b[39m_input_request(\n\u001b[1;32m   1271\u001b[0m     \u001b[38;5;28mstr\u001b[39m(prompt),\n\u001b[1;32m   1272\u001b[0m     \u001b[38;5;28mself\u001b[39m\u001b[38;5;241m.\u001b[39m_parent_ident[\u001b[38;5;124m\"\u001b[39m\u001b[38;5;124mshell\u001b[39m\u001b[38;5;124m\"\u001b[39m],\n\u001b[1;32m   1273\u001b[0m     \u001b[38;5;28mself\u001b[39m\u001b[38;5;241m.\u001b[39mget_parent(\u001b[38;5;124m\"\u001b[39m\u001b[38;5;124mshell\u001b[39m\u001b[38;5;124m\"\u001b[39m),\n\u001b[1;32m   1274\u001b[0m     password\u001b[38;5;241m=\u001b[39m\u001b[38;5;28;01mFalse\u001b[39;00m,\n\u001b[1;32m   1275\u001b[0m )\n",
      "\u001b[0;31mStdinNotImplementedError\u001b[0m: raw_input was called, but this frontend does not support input requests."
     ]
    }
   ],
   "source": [
    "import numpy as np\n",
    "f = open(\"./tmp/fichier_entrees2.txt\", \"r\")\n",
    "\n",
    "tab = np.zeros(3, dtype='int32')\n",
    "\n",
    "n = int(input(\"Nbre de valeurs à lire : \"))\n",
    "\n",
    "for i in range(n):\n",
    "    tab[i] = f.readline()\n",
    "\n",
    "print(tab)\n",
    "f.close()\n"
   ]
  },
  {
   "cell_type": "code",
   "execution_count": 10,
   "metadata": {
    "slideshow": {
     "slide_type": "subslide"
    }
   },
   "outputs": [
    {
     "ename": "StdinNotImplementedError",
     "evalue": "raw_input was called, but this frontend does not support input requests.",
     "output_type": "error",
     "traceback": [
      "\u001b[0;31m---------------------------------------------------------------------------\u001b[0m",
      "\u001b[0;31mStdinNotImplementedError\u001b[0m                  Traceback (most recent call last)",
      "Cell \u001b[0;32mIn[10], line 6\u001b[0m\n\u001b[1;32m      2\u001b[0m f \u001b[38;5;241m=\u001b[39m \u001b[38;5;28mopen\u001b[39m(\u001b[38;5;124m\"\u001b[39m\u001b[38;5;124m./tmp/fichier_entrees2.txt\u001b[39m\u001b[38;5;124m\"\u001b[39m, \u001b[38;5;124m\"\u001b[39m\u001b[38;5;124mr\u001b[39m\u001b[38;5;124m\"\u001b[39m)\n\u001b[1;32m      4\u001b[0m tab \u001b[38;5;241m=\u001b[39m np\u001b[38;5;241m.\u001b[39mzeros(\u001b[38;5;241m3\u001b[39m, dtype\u001b[38;5;241m=\u001b[39m\u001b[38;5;124m'\u001b[39m\u001b[38;5;124mint32\u001b[39m\u001b[38;5;124m'\u001b[39m)\n\u001b[0;32m----> 6\u001b[0m n \u001b[38;5;241m=\u001b[39m \u001b[38;5;28mint\u001b[39m(\u001b[38;5;28;43minput\u001b[39;49m\u001b[43m(\u001b[49m\u001b[38;5;124;43m\"\u001b[39;49m\u001b[38;5;124;43mNbre de valeurs à lire : \u001b[39;49m\u001b[38;5;124;43m\"\u001b[39;49m\u001b[43m)\u001b[49m)\n\u001b[1;32m      8\u001b[0m \u001b[38;5;28;01mfor\u001b[39;00m i \u001b[38;5;129;01min\u001b[39;00m \u001b[38;5;28mrange\u001b[39m(n):\n\u001b[1;32m      9\u001b[0m     \u001b[38;5;28;01mtry\u001b[39;00m:\n",
      "File \u001b[0;32m~/anaconda3/envs/python2024/lib/python3.11/site-packages/ipykernel/kernelbase.py:1269\u001b[0m, in \u001b[0;36mKernel.raw_input\u001b[0;34m(self, prompt)\u001b[0m\n\u001b[1;32m   1267\u001b[0m \u001b[38;5;28;01mif\u001b[39;00m \u001b[38;5;129;01mnot\u001b[39;00m \u001b[38;5;28mself\u001b[39m\u001b[38;5;241m.\u001b[39m_allow_stdin:\n\u001b[1;32m   1268\u001b[0m     msg \u001b[38;5;241m=\u001b[39m \u001b[38;5;124m\"\u001b[39m\u001b[38;5;124mraw_input was called, but this frontend does not support input requests.\u001b[39m\u001b[38;5;124m\"\u001b[39m\n\u001b[0;32m-> 1269\u001b[0m     \u001b[38;5;28;01mraise\u001b[39;00m StdinNotImplementedError(msg)\n\u001b[1;32m   1270\u001b[0m \u001b[38;5;28;01mreturn\u001b[39;00m \u001b[38;5;28mself\u001b[39m\u001b[38;5;241m.\u001b[39m_input_request(\n\u001b[1;32m   1271\u001b[0m     \u001b[38;5;28mstr\u001b[39m(prompt),\n\u001b[1;32m   1272\u001b[0m     \u001b[38;5;28mself\u001b[39m\u001b[38;5;241m.\u001b[39m_parent_ident[\u001b[38;5;124m\"\u001b[39m\u001b[38;5;124mshell\u001b[39m\u001b[38;5;124m\"\u001b[39m],\n\u001b[1;32m   1273\u001b[0m     \u001b[38;5;28mself\u001b[39m\u001b[38;5;241m.\u001b[39mget_parent(\u001b[38;5;124m\"\u001b[39m\u001b[38;5;124mshell\u001b[39m\u001b[38;5;124m\"\u001b[39m),\n\u001b[1;32m   1274\u001b[0m     password\u001b[38;5;241m=\u001b[39m\u001b[38;5;28;01mFalse\u001b[39;00m,\n\u001b[1;32m   1275\u001b[0m )\n",
      "\u001b[0;31mStdinNotImplementedError\u001b[0m: raw_input was called, but this frontend does not support input requests."
     ]
    }
   ],
   "source": [
    "import numpy as np\n",
    "f = open(\"./tmp/fichier_entrees2.txt\", \"r\")\n",
    "\n",
    "tab = np.zeros(3, dtype='int32')\n",
    "\n",
    "n = int(input(\"Nbre de valeurs à lire : \"))\n",
    "\n",
    "for i in range(n):\n",
    "    try:\n",
    "        tab[i] = f.readline()\n",
    "    except IndexError:\n",
    "        print(\"Tab trop petit :\", np.shape(tab))\n",
    "        \n",
    "print(tab)\n",
    "f.close()\n"
   ]
  },
  {
   "cell_type": "markdown",
   "metadata": {
    "slideshow": {
     "slide_type": "slide"
    }
   },
   "source": [
    "## Exceptions définies par l'utilisateur\n",
    "\n",
    "Le développement de modules ou de traitements peut nécessiter de prévoir des cas exceptionnels qui seraient déclenchés par leur utilisation incorrecte.  \n",
    "\n",
    "### Levée d'exception prédéfinie\n",
    "\n",
    "On peut souhaiter _lever une exception prédéfinie_ qui correspond au type d'erreur qu'elle couvre dans le cas général.\n",
    "\n",
    "Il suffit d'exécuter :\n",
    "> `raise telle_exception(\"message d'accompagnement\") `\n",
    "\n",
    "**Exemple**  \n",
    "Un exemple est donné dans le paragraphe suivant avec l'exception `AssertionError` "
   ]
  },
  {
   "cell_type": "code",
   "execution_count": 11,
   "metadata": {},
   "outputs": [
    {
     "ename": "StdinNotImplementedError",
     "evalue": "raw_input was called, but this frontend does not support input requests.",
     "output_type": "error",
     "traceback": [
      "\u001b[0;31m---------------------------------------------------------------------------\u001b[0m",
      "\u001b[0;31mStdinNotImplementedError\u001b[0m                  Traceback (most recent call last)",
      "Cell \u001b[0;32mIn[11], line 7\u001b[0m\n\u001b[1;32m      5\u001b[0m i \u001b[38;5;241m=\u001b[39m \u001b[38;5;241m0\u001b[39m\n\u001b[1;32m      6\u001b[0m \u001b[38;5;28;01mwhile\u001b[39;00m cond:      \n\u001b[0;32m----> 7\u001b[0m     x \u001b[38;5;241m=\u001b[39m \u001b[38;5;28mfloat\u001b[39m(\u001b[38;5;28;43minput\u001b[39;49m\u001b[43m(\u001b[49m\u001b[38;5;124;43m\"\u001b[39;49m\u001b[38;5;124;43mUne valeur stp :\u001b[39;49m\u001b[38;5;124;43m\"\u001b[39;49m\u001b[43m)\u001b[49m)\n\u001b[1;32m      8\u001b[0m     \u001b[38;5;28;01mif\u001b[39;00m i \u001b[38;5;241m>\u001b[39m\u001b[38;5;241m=\u001b[39m \u001b[38;5;28mlen\u001b[39m(v):\n\u001b[1;32m      9\u001b[0m         \u001b[38;5;28;01mraise\u001b[39;00m \u001b[38;5;167;01mIndexError\u001b[39;00m(\u001b[38;5;124m\"\u001b[39m\u001b[38;5;124mv est de longueur\u001b[39m\u001b[38;5;124m\"\u001b[39m, \u001b[38;5;28mlen\u001b[39m(v), \u001b[38;5;124m\"\u001b[39m\u001b[38;5;124met\u001b[39m\u001b[38;5;124m\"\u001b[39m, i,\u001b[38;5;124m\"\u001b[39m\u001b[38;5;124m-ième entree.\u001b[39m\u001b[38;5;124m\"\u001b[39m)\n",
      "File \u001b[0;32m~/anaconda3/envs/python2024/lib/python3.11/site-packages/ipykernel/kernelbase.py:1269\u001b[0m, in \u001b[0;36mKernel.raw_input\u001b[0;34m(self, prompt)\u001b[0m\n\u001b[1;32m   1267\u001b[0m \u001b[38;5;28;01mif\u001b[39;00m \u001b[38;5;129;01mnot\u001b[39;00m \u001b[38;5;28mself\u001b[39m\u001b[38;5;241m.\u001b[39m_allow_stdin:\n\u001b[1;32m   1268\u001b[0m     msg \u001b[38;5;241m=\u001b[39m \u001b[38;5;124m\"\u001b[39m\u001b[38;5;124mraw_input was called, but this frontend does not support input requests.\u001b[39m\u001b[38;5;124m\"\u001b[39m\n\u001b[0;32m-> 1269\u001b[0m     \u001b[38;5;28;01mraise\u001b[39;00m StdinNotImplementedError(msg)\n\u001b[1;32m   1270\u001b[0m \u001b[38;5;28;01mreturn\u001b[39;00m \u001b[38;5;28mself\u001b[39m\u001b[38;5;241m.\u001b[39m_input_request(\n\u001b[1;32m   1271\u001b[0m     \u001b[38;5;28mstr\u001b[39m(prompt),\n\u001b[1;32m   1272\u001b[0m     \u001b[38;5;28mself\u001b[39m\u001b[38;5;241m.\u001b[39m_parent_ident[\u001b[38;5;124m\"\u001b[39m\u001b[38;5;124mshell\u001b[39m\u001b[38;5;124m\"\u001b[39m],\n\u001b[1;32m   1273\u001b[0m     \u001b[38;5;28mself\u001b[39m\u001b[38;5;241m.\u001b[39mget_parent(\u001b[38;5;124m\"\u001b[39m\u001b[38;5;124mshell\u001b[39m\u001b[38;5;124m\"\u001b[39m),\n\u001b[1;32m   1274\u001b[0m     password\u001b[38;5;241m=\u001b[39m\u001b[38;5;28;01mFalse\u001b[39;00m,\n\u001b[1;32m   1275\u001b[0m )\n",
      "\u001b[0;31mStdinNotImplementedError\u001b[0m: raw_input was called, but this frontend does not support input requests."
     ]
    }
   ],
   "source": [
    "'''On récupère des entrées au clavier pour initialiser un vecteur de taille fixée.\n",
    "le traitement de la ligne 10 peut lever l'exception prédéfinie IndexError'''\n",
    "v = [0, 0, 0]\n",
    "cond = True\n",
    "i = 0\n",
    "while cond:      \n",
    "    x = float(input(\"Une valeur stp :\"))\n",
    "    if i >= len(v):\n",
    "        raise IndexError(\"v est de longueur\", len(v), \"et\", i,\"-ième entree.\")\n",
    "    v[i] = x\n",
    "    i = i + 1    \n",
    "\n",
    "    "
   ]
  },
  {
   "cell_type": "markdown",
   "metadata": {
    "slideshow": {
     "slide_type": "subslide"
    }
   },
   "source": [
    "### Définir ses propres exceptions\n",
    "\n",
    "Il faut aussi pouvoir _définir ses propres exceptions_   \n",
    "- adaptées au traitement proposé par notre module   \n",
    "- et qui seront éventuellement traités par le contexte qui utilise notyre module.  \n",
    "\n",
    "En python, la définition des exceptions passe par la définition de _classes_ (et de sous-classes d'exception) intégrées au module développé.  \n",
    "\n",
    "N'ayant pas introduit la notion de classe, nous ne détaillerons donc pas (cette année) comment définir ses propres exceptions.   "
   ]
  },
  {
   "cell_type": "markdown",
   "metadata": {
    "slideshow": {
     "slide_type": "slide"
    }
   },
   "source": [
    "## Précondition\n",
    "\n",
    "Certaines fonctions (ou traitements) sont définies avec des hypothèses sur les arguments effectifs.  \n",
    "- Par exemple, la division `x/y` n'est pas définie pour `y == 0` et ce cas lève l'exception prédéfinie `ZeroDivisionError`.  \n",
    "\n",
    "L'instruction **`assert`** permet de vérifier une précondition.  \n",
    "- Une _précondition_ est une expression à valeur booléenne  \n",
    "    - Exemple : `y != 0` est une précondition pour la division `x/y`  \n",
    "- Si la précondition est satisfaite (True), le traitement continue normalement  \n",
    "- sinon l'exception `AssertionError` est levée.  "
   ]
  },
  {
   "cell_type": "code",
   "execution_count": 12,
   "metadata": {
    "slideshow": {
     "slide_type": "subslide"
    }
   },
   "outputs": [
    {
     "name": "stdout",
     "output_type": "stream",
     "text": [
      "2.0\n"
     ]
    },
    {
     "ename": "AssertionError",
     "evalue": "",
     "output_type": "error",
     "traceback": [
      "\u001b[0;31m---------------------------------------------------------------------------\u001b[0m",
      "\u001b[0;31mAssertionError\u001b[0m                            Traceback (most recent call last)",
      "Cell \u001b[0;32mIn[12], line 6\u001b[0m\n\u001b[1;32m      3\u001b[0m     \u001b[38;5;28;01mreturn\u001b[39;00m x\u001b[38;5;241m/\u001b[39my\n\u001b[1;32m      5\u001b[0m \u001b[38;5;28mprint\u001b[39m(diviser(\u001b[38;5;241m4.\u001b[39m, \u001b[38;5;241m2.\u001b[39m))\n\u001b[0;32m----> 6\u001b[0m \u001b[38;5;28mprint\u001b[39m(\u001b[43mdiviser\u001b[49m\u001b[43m(\u001b[49m\u001b[38;5;241;43m4.\u001b[39;49m\u001b[43m,\u001b[49m\u001b[43m \u001b[49m\u001b[38;5;241;43m0.\u001b[39;49m\u001b[43m)\u001b[49m)\n",
      "Cell \u001b[0;32mIn[12], line 2\u001b[0m, in \u001b[0;36mdiviser\u001b[0;34m(x, y)\u001b[0m\n\u001b[1;32m      1\u001b[0m \u001b[38;5;28;01mdef\u001b[39;00m \u001b[38;5;21mdiviser\u001b[39m(x, y):\n\u001b[0;32m----> 2\u001b[0m     \u001b[38;5;28;01massert\u001b[39;00m y \u001b[38;5;241m!=\u001b[39m \u001b[38;5;241m0\u001b[39m\n\u001b[1;32m      3\u001b[0m     \u001b[38;5;28;01mreturn\u001b[39;00m x\u001b[38;5;241m/\u001b[39my\n",
      "\u001b[0;31mAssertionError\u001b[0m: "
     ]
    }
   ],
   "source": [
    "def diviser(x, y):\n",
    "    assert y != 0\n",
    "    return x/y\n",
    "\n",
    "print(diviser(4., 2.))\n",
    "print(diviser(4., 0.))"
   ]
  },
  {
   "cell_type": "markdown",
   "metadata": {
    "slideshow": {
     "slide_type": "subslide"
    }
   },
   "source": [
    "L'assertion peut être accompagnée d'un message indicatif comme annoncé plus haut.  "
   ]
  },
  {
   "cell_type": "code",
   "execution_count": 13,
   "metadata": {
    "slideshow": {
     "slide_type": "fragment"
    }
   },
   "outputs": [
    {
     "name": "stdout",
     "output_type": "stream",
     "text": [
      "2.0\n"
     ]
    },
    {
     "ename": "AssertionError",
     "evalue": "mon_diviser : division par 0",
     "output_type": "error",
     "traceback": [
      "\u001b[0;31m---------------------------------------------------------------------------\u001b[0m",
      "\u001b[0;31mAssertionError\u001b[0m                            Traceback (most recent call last)",
      "Cell \u001b[0;32mIn[13], line 6\u001b[0m\n\u001b[1;32m      3\u001b[0m     \u001b[38;5;28;01mreturn\u001b[39;00m x\u001b[38;5;241m/\u001b[39my\n\u001b[1;32m      5\u001b[0m \u001b[38;5;28mprint\u001b[39m(mon_diviser(\u001b[38;5;241m4.\u001b[39m, \u001b[38;5;241m2.\u001b[39m))\n\u001b[0;32m----> 6\u001b[0m \u001b[38;5;28mprint\u001b[39m(\u001b[43mmon_diviser\u001b[49m\u001b[43m(\u001b[49m\u001b[38;5;241;43m4.\u001b[39;49m\u001b[43m,\u001b[49m\u001b[43m \u001b[49m\u001b[38;5;241;43m0.\u001b[39;49m\u001b[43m)\u001b[49m)\n",
      "Cell \u001b[0;32mIn[13], line 2\u001b[0m, in \u001b[0;36mmon_diviser\u001b[0;34m(x, y)\u001b[0m\n\u001b[1;32m      1\u001b[0m \u001b[38;5;28;01mdef\u001b[39;00m \u001b[38;5;21mmon_diviser\u001b[39m(x, y):\n\u001b[0;32m----> 2\u001b[0m     \u001b[38;5;28;01massert\u001b[39;00m y \u001b[38;5;241m!=\u001b[39m \u001b[38;5;241m0\u001b[39m, \u001b[38;5;124m\"\u001b[39m\u001b[38;5;124mmon_diviser : division par 0\u001b[39m\u001b[38;5;124m\"\u001b[39m\n\u001b[1;32m      3\u001b[0m     \u001b[38;5;28;01mreturn\u001b[39;00m x\u001b[38;5;241m/\u001b[39my\n",
      "\u001b[0;31mAssertionError\u001b[0m: mon_diviser : division par 0"
     ]
    }
   ],
   "source": [
    "def mon_diviser(x, y):\n",
    "    assert y != 0, \"mon_diviser : division par 0\"\n",
    "    return x/y\n",
    "\n",
    "print(mon_diviser(4., 2.))\n",
    "print(mon_diviser(4., 0.))"
   ]
  },
  {
   "cell_type": "markdown",
   "metadata": {
    "slideshow": {
     "slide_type": "subslide"
    }
   },
   "source": [
    "**Utilisation**\n",
    "- Vérifier les préconditions le plus tôt possible dans le cadre de la fonction pour éviter les modification d'états qui ne seront pas menées correctement jusqu'au bout  \n",
    "- Le traitement est similaire à un `if` associé à la levée de l'exception `AssertionError` mais la lecture d'une clause `assert` est plus informative qu'un `if` (parmi d'autres) sur les conditions d'utilisation du code concerné.  \n",
    "- Utile au debuggage  "
   ]
  },
  {
   "cell_type": "markdown",
   "metadata": {
    "slideshow": {
     "slide_type": "slide"
    }
   },
   "source": [
    "## Synthèse\n",
    "\n",
    "- Les exceptions qualifient des traitements incorrects _exceptionnels_ \n",
    "- Les traites exception permettent de \"récupérer la main\" pour sortir au mieux du c as incorrect\n",
    "- Encadrer les zones à risque de la construction : `try: ... except: ...` \n",
    "- Le mécanisme est \"traitement `except` ou sinon propagation\"  \n",
    "- `raise` pour lever ses exceptions  (prédéfinies ou personnelles) \n",
    "- `assert` pour définir et vérifier des préconditions  \n"
   ]
  }
 ],
 "metadata": {
  "celltoolbar": "Diaporama",
  "kernelspec": {
   "display_name": "Python 3 (ipykernel)",
   "language": "python",
   "name": "python3"
  },
  "language_info": {
   "codemirror_mode": {
    "name": "ipython",
    "version": 3
   },
   "file_extension": ".py",
   "mimetype": "text/x-python",
   "name": "python",
   "nbconvert_exporter": "python",
   "pygments_lexer": "ipython3",
   "version": "3.11.7"
  },
  "latex_envs": {
   "LaTeX_envs_menu_present": true,
   "autoclose": false,
   "autocomplete": true,
   "bibliofile": "biblio.bib",
   "cite_by": "apalike",
   "current_citInitial": 1,
   "eqLabelWithNumbers": true,
   "eqNumInitial": 1,
   "hotkeys": {
    "equation": "Ctrl-E",
    "itemize": "Ctrl-I"
   },
   "labels_anchors": false,
   "latex_user_defs": false,
   "report_style_numbering": true,
   "user_envs_cfg": false
  },
  "toc": {
   "nav_menu": {},
   "number_sections": true,
   "sideBar": false,
   "skip_h1_title": true,
   "title_cell": "Table des matieres",
   "title_sidebar": "TdM",
   "toc_cell": true,
   "toc_position": {
    "height": "273.34375px",
    "left": "73.984375px",
    "top": "162.671875px",
    "width": "328.328125px"
   },
   "toc_section_display": true,
   "toc_window_display": false
  }
 },
 "nbformat": 4,
 "nbformat_minor": 4
}