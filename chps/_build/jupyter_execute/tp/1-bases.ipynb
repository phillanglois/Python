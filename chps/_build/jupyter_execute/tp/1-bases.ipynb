{
 "cells": [
  {
   "cell_type": "markdown",
   "id": "fe301a83-6caf-4738-8fb2-60c67ea01ee8",
   "metadata": {
    "editable": true,
    "slideshow": {
     "slide_type": ""
    },
    "tags": []
   },
   "source": [
    "(tp:tp1)=\n",
    "# Feuille 1\n",
    "\n",
    ":::{note}\n",
    "\n",
    "Feuille téléchargeable au format jupyter notebook (`.ipynb`) \n",
    "\n",
    ":::\n",
    "\n",
    "- Exercices sur les notions de bases\n",
    "- Accompagner les fonctions de tests unitaires pertinents\n",
    "- Utiliser les annotations de type pour les paramètres des fonctions"
   ]
  },
  {
   "cell_type": "markdown",
   "id": "7ff562fe-f96c-4c18-a4c4-d1e4905cbf6f",
   "metadata": {},
   "source": [
    "## Exercice (`est_rectangle()`)\n",
    "\n",
    "1.  Définir et écrire une fonction `est_rectangle()` qui vérifie si un\n",
    "    triangle est rectangle. Aucune hypothèse est effectuée sur les\n",
    "    paramètres de ce traitement.\n",
    "2.  Ecrire un programme qui utilise cette fonction pour traiter un\n",
    "    nombre arbitraire de triangles entrées au clavier par l'utilisateur."
   ]
  },
  {
   "cell_type": "code",
   "execution_count": 1,
   "id": "6fd83ef2-14d6-4384-9acf-f74fdc739d8e",
   "metadata": {},
   "outputs": [
    {
     "ename": "IndentationError",
     "evalue": "expected an indented block after 'elif' statement on line 5 (336815306.py, line 6)",
     "output_type": "error",
     "traceback": [
      "\u001b[0;36m  Cell \u001b[0;32mIn[1], line 6\u001b[0;36m\u001b[0m\n\u001b[0;31m    l1 = 5\u001b[0m\n\u001b[0m          ^\u001b[0m\n\u001b[0;31mIndentationError\u001b[0m\u001b[0;31m:\u001b[0m expected an indented block after 'elif' statement on line 5\n"
     ]
    }
   ],
   "source": [
    "def est_rectangle(a: float, b: float, c: float) -> bool:\n",
    "    '''vérifie si un triangle est rectangle'''\n",
    "    if (c >= a and c >= b):\n",
    "        return a*a + b*b == c*c\n",
    "    elif b >= max(a, c): \n",
    "l1 = 5\n",
    "l2 = 4\n",
    "l3 = 3\n",
    "\n",
    "est_rectangle(l1, l2, l3)"
   ]
  },
  {
   "cell_type": "markdown",
   "id": "32a37aec-1fea-448d-8ee7-9290cc3125e7",
   "metadata": {},
   "source": [
    "## Exercice (`randint` du module `random`)\n",
    "\n",
    "Cet exercice utilise la fonction `randint` du module `random`.\n",
    "\n",
    "1.  $\\blacksquare$ Regarder la description de la fonction `randint`.\n",
    "2.  $\\blacksquare$ Ecrire une fonction qui effectue un nombre arbitraire de tirages\n",
    "    aléatoires d'entiers compris entre 1 et 6 (bornes comprises) et qui\n",
    "    renvoie le pourcentage de 6 obtenus.\n",
    "3.  Faire varier le nombre de tirages et vérifier la qualité de la\n",
    "    fonction `randint`."
   ]
  },
  {
   "cell_type": "markdown",
   "id": "5340ea10-a3bc-48db-894b-2fe8d8344dc5",
   "metadata": {
    "tags": []
   },
   "source": [
    "## Exercice (palindrome)\n",
    "\n",
    "Un palindrome est un mot, ou un groupe de mots, dont l'ordre des lettres\n",
    "reste le même qu'on le lise de la droite vers la gauche ou inversement.\n",
    "Des exemples bien connus sont \"été\", \"kayak\", \"mon nom\", \"élu par cette\n",
    "crapule\". Ce dernier permet d'illustrer qu'on ne tient pas compte en\n",
    "général des accents, trémas, cédilles, ni des espaces. Dans cet exercice\n",
    ":\n",
    "\n",
    "-   un mot ou un groupe de mots est représenté par une chaîne de\n",
    "    caractères (`str`),\n",
    "\n",
    "-   ces caractères sont sans accent, tréma, ni cédille : \"ete\"\n",
    "\n",
    "-   les espaces sont considérés comme des caractères : ainsi \"elu par\n",
    "    cette crapule\" n'est pas un palindrome ici.\n",
    "\n",
    "1.  Ecrire une fonction qui teste si un argument est ou non un\n",
    "    palindrome et retourne le booléen correspondant.\n",
    "\n",
    "2.  Utiliser cette fonction pour tester un nombre arbitraire de mots\n",
    "    entrés au clavier."
   ]
  },
  {
   "cell_type": "markdown",
   "id": "2a04baa4-0b81-4fb4-bc49-a4a15e94fce7",
   "metadata": {
    "tags": []
   },
   "source": [
    "## Exercice (Algorithme de type Monte-Carlo)\n",
    "\n",
    "On va calculer une approximation de $\\pi$ de façon probabiliste.\n",
    "\n",
    "1.  Ecrire une fonction qui vérifie si un point du plan défini par ses\n",
    "    coordonnées $(x,y)$ appartient à un disque de centre $(a,b)$ et de\n",
    "    rayon $r$.  \n",
    "    Rappel. L'équation du cercle de mêmes caractéristiques est :\n",
    "    $(x-a)^2 + (y-b)^2 = r^2$.\n",
    "\n",
    "2.  Identifier dans la documentation du module python `random` la\n",
    "    fonction adaptée à la génération d'un point aléatoire dans le carré\n",
    "    $[-1, 1] \\times [-1, 1]$.\n",
    "\n",
    "3.  Soit $\\mathcal{C}$ le cercle de centre 0 et de rayon 1. Ecrire une\n",
    "    programme qui génère $n$ points aléatoires situés dans le carré\n",
    "    précédent et calcule le ratio entre les points situés dans le cercle\n",
    "    $\\mathcal{C}$ et $n$.\n",
    "\n",
    "4.  Faire varier $n$ et observer l'évolution de ce ratio.\n",
    "\n",
    "5.  ($\\star$) En déduire une approximation de $\\pi$."
   ]
  },
  {
   "cell_type": "markdown",
   "id": "976c5869-f9d3-43c9-ba80-c50f4ffed815",
   "metadata": {
    "tags": []
   },
   "source": [
    "## Exercice (Une première cryptanalyse)\n",
    "\n",
    "*L'analyse fréquentielle, découverte au IXe siècle par Al-Kindi, examine\n",
    "les répétitions des lettres d'un message chiffré afin de trouver la clé.\n",
    "Elle est inefficace contre les chiffrements modernes tels que DES, RSA.\n",
    "Elle est principalement utilisée contre les chiffrements\n",
    "mono-alphabétiques qui substituent chaque lettre par une autre et qui\n",
    "présentent un biais statistique.* (wikipedia).  \n",
    "\n",
    "L'analyse de la fréquence d'apparition des lettres dans les écrits d'une\n",
    "langue donnée permet donc de déchiffrer les messages cryptés par\n",
    "certains chiffrements simples. En se limitant aux textes en francais et\n",
    "écrits en minuscules, nous allons effectuer les deux dernières étapes du\n",
    "processus suivant.\n",
    "\n",
    "-   Etape 1 : Estimer la fréquence moyenne d'apparition en français des\n",
    "    lettres de l'alphabet. Ici nous utiliserons des résultats existants.\n",
    "\n",
    "-   Etape 2 : Appliquer un chiffrement de César pour crypter un message\n",
    "    arbitraire.\n",
    "\n",
    "-   Etape 3 : Effectuer l'analyse fréquentielle du message ainsi chiffré\n",
    "    pour (tenter de) retrouver le message d'origine.\n",
    "\n",
    "1.  Etape 2. Le chiffrement de César est une technique simple de\n",
    "    décalage régulier (permutation circulaire) de chaque lettre de\n",
    "    l'alphabet. La longueur de ce décalage – distance entre la position\n",
    "    d'une lettre décalée et sa position d'origine ($\\le$ 26) – est la\n",
    "    *clé* de ce chiffrement.\n",
    "\n",
    "    1.  Ecrire une fonction `cesar()` qui retourne le chiffré d'un\n",
    "        message arbitraire (chaine de caractères) pour une clé\n",
    "        arbitraire.\n",
    "\n",
    "    2.  Ecrire une fonction `decesar()` qui retourne le message\n",
    "        d'origine connaissant la clé de chiffrement.\n",
    "\n",
    "    (que:cesar)=\n",
    "    3.  Valider vos fonctions avec le chiffrement suivant de clé 5.\n",
    "        Faire d'autres essais et utiliser aussi les ressources\n",
    "        disponibles sur le web.  \n",
    "\n",
    "        |                 |     |                                       |\n",
    "        |:----------------|:---:|:--------------------------------------|\n",
    "        | message clair   |  :  | `UNIVERSITE DE PERPIGNAN VIA DOMITIA` |\n",
    "        | message chiffré |  :  | `ZSNAJWXNYJ IJ UJWUNLSFS ANF ITRNYNF` |\n",
    "\n",
    "2.  Etape 3. Déchiffrement d'un texte chiffré de clé inconnue. La\n",
    "    fréquence moyenne d'apparition des lettres de l'alphabet dans un\n",
    "    texte en français est [par exemple donné dans](https://fr.wikipedia.org/wiki/Analyse_fréquentielle#Fréquence_d'apparition)\n",
    "\n",
    "    1.  Proposer une solution pour déchiffrer un message que l'on sait\n",
    "        crypté par un chiffrement de César mais de clé inconnue.\n",
    "\n",
    "    2.  Coder cette solution et l'appliquer aux messages de [la\n",
    "        question](que:cesar).\n",
    "\n",
    "    3.  Evaluer comment votre solution \"passe à l'échelle\", c'est-à-dire\n",
    "        comment son efficacité évolue pour des textes de tailles qui\n",
    "        augmentent. Proposer des optimisations."
   ]
  },
  {
   "cell_type": "markdown",
   "id": "d3637df5-0cd3-40bc-981d-a717e936ae47",
   "metadata": {},
   "source": [
    "##  Exercice (un peu d'images)\n",
    "\n",
    "Une image à niveaux de gris peut être représentée par un tableau 2D d'entiers compris en 0 (noir) et 255 (blanc). \n",
    "La taille de l'image $L \\times C$ est arbitraire.  \n",
    "Ecrire les algorithmes des traitements suivants. On pourra commencer en\n",
    "introduisant un tableau supplémentaire pour l'image transformée. Selon\n",
    "les cas, on essaiera ensuite une solution “en place” : la transformation\n",
    "s'effectue sur le tableau de l'image d'origine.\n",
    "On utilisera les `ndarray` de `numpy` pour ces traitements.\n",
    "\n",
    "1.  Générer le négatif (*reverse video*) d'une image NB ou par niveaux\n",
    "    de gris.\n",
    "\n",
    "2.  Générer une image NB à partir d'une image niveau de gris.\n",
    "\n",
    "3.  Augmenter le contraste de la transformation précédente.  \n",
    "    Principe : fixer un seuil et remplacer les pixels plus clairs que le\n",
    "    seuil par des pixels blancs, et inversement les plus sombres que le\n",
    "    seuil par des pixels noirs.\n",
    "\n",
    "4.  Générer une image miroir vertical (le haut se retrouve en bas et\n",
    "    réciproquement) ou horizontal d'une image NB.\n",
    "\n",
    "5.  Augmenter la luminosité (ou luminance) d'une image à niveau de\n",
    "    gris.  \n",
    "    Principe : ajouter ou retrancher une constante de la valeur des\n",
    "    pixels.\n",
    "\n",
    "6.  Générer les contours significatifs d'une image.  \n",
    "    Principe : on remplace par un pixel noir chaque pixel dont la\n",
    "    variation des valeurs de ses 4 voisins varient au delà d'un certain\n",
    "    seuil, sinon on le remplace par un pixel blanc.\n",
    "\n",
    "7.  Réduire par 2 la taille d'une image à niveau de gris.  \n",
    "    Principe : chaque carré de 2x2 pixels est remplacé par 1 pixel de\n",
    "    valeur la moyenne des pixels du carré."
   ]
  },
  {
   "cell_type": "markdown",
   "id": "f97da2fc-505f-4e4a-ac7d-8003ed67b1c1",
   "metadata": {},
   "source": [
    "## Exercice ($Tx = b$)\n",
    "\n",
    "On veut résoudre le système linéaire $Tx=b$ où la matrice $T$ est une\n",
    "matrice triangulaire inférieure carrée de taille $n$ et $b$ un vecteur\n",
    "second membre (de taille $n$). La matrice $T$ et et le vecteur $b$ sont\n",
    "supposés donnés (au clavier ou avec une valeur d'initialisation).\n",
    "\n",
    "1. Ecrire la fonction qui effectue ce traitement et les tests unitaires associés :\n",
    "    a. en utilisant les listes natives Python\n",
    "    b. en utilisant les `ndarray` de `numpy`\n",
    "2. Comparer vos résultats et leurs performances avec le m^me traitement fourni par `numpy`.\n"
   ]
  },
  {
   "cell_type": "markdown",
   "id": "7d2ec932-ac0f-4f55-a2be-7b62b7cc3634",
   "metadata": {},
   "source": [
    "## Exercice (efficacité des algorithmes de recherche)\n",
    "\n",
    "Effectuer une analyse expérimentale de la\n",
    "complexité pour comparer l'efficacité des algorithmes de recherche\n",
    "itérative et dichotomique (cas de l'entrée triée). Dégager les\n",
    "comportements dans le meilleur cas, dans le pire cas et en moyenne."
   ]
  },
  {
   "cell_type": "markdown",
   "id": "0708ffdd-301a-4a67-96ef-048e250ef91e",
   "metadata": {},
   "source": [
    "(exo:forrec)= \n",
    "##  Exercice (récursion terminale et itération)\n",
    "\n",
    "1.  Donner la forme récursive qui produit le même traitement que celui\n",
    "    d'une boucle for qui (parcourt et) affiche les indices entiers\n",
    "    successifs de 11 à 1."
   ]
  },
  {
   "cell_type": "markdown",
   "id": "cef03478-24e5-46c3-b2d7-fed8d69606cc",
   "metadata": {},
   "source": [
    "2.  Même question pour obtenir l'affichage : 1, 2, …, 10, 11."
   ]
  },
  {
   "cell_type": "markdown",
   "id": "e1577a02-ccc1-42d4-b9a9-80ce681f5702",
   "metadata": {},
   "source": [
    "(exo:syracuse)= \n",
    "## Exercice (suite de Syracuse)\n",
    "\n",
    "La suite de Syracuse $s$ d'un nombre $N$ donné est définie de façon\n",
    "récursive comme suit.\n",
    "\n",
    "On commence avec $s(0) = N$, puis :\n",
    "\n",
    "-   $s(n+1) = s(n)/2$, si $s(n)$ est pair,  \n",
    "-   $s(n+1) = 3s(n)+1$, si $s(n)$ est impair.\n",
    "\n",
    "Ainsi définie, $s$ est une suite infinie de valeurs entières construites\n",
    "à partir de la valeur de départ $N$.\n",
    "\n",
    "1.  A la main pour commencer.\n",
    "\n",
    "    1.  Calculer à la main les valeurs de la suite pour les valeurs de\n",
    "        départ $N = 4, 2, 1$. Qu'en déduire ?\n",
    "\n",
    "    2.  Calculer à la main les valeurs de la suite pour les valeurs de\n",
    "        départ $N = 3, 5, 6, 7, 8, 16, 32$. Il peut être utile de\n",
    "        représenter les valeurs obtenues sous la forme d'un tableau où\n",
    "        chaque colonne (ou ligne) à la forme $N u_1 u_2 \\dots u_n \\dots$\n",
    "        où les $u_i$ sont les valeurs de la suite pour la valeur de\n",
    "        départ $N$. Qu'en déduire et en particulier que penser de la\n",
    "        terminaison de cette suite ?"
   ]
  },
  {
   "cell_type": "markdown",
   "id": "9aea4020-ab37-4809-b2c6-a5bb63d04820",
   "metadata": {},
   "source": [
    "2.  La coder de façon récursive et observer son comportement pour l'une\n",
    "    de ces valeurs de $N$. Attention !!!"
   ]
  },
  {
   "cell_type": "markdown",
   "id": "3042c38c-b884-4daa-86f9-e8b14e7244d0",
   "metadata": {},
   "source": [
    "3.  Terminaison : on arrête la suite $s(n)$ quand on rencontre $n = 1$\n",
    "    (c'est-à-dire $s(2)$). D'après la conjecture de Collatz, cette\n",
    "    valeur est rencontrée quelque soit le terme de départ $N$.\n",
    "\n",
    "    1.  Compléter votre code précédent avec cette condition d'arrêt.\n",
    "\n",
    "    2.  Compléter votre code précédent avec l'affichage de chaque valeur\n",
    "        calculée avant la terminaison."
   ]
  },
  {
   "cell_type": "markdown",
   "id": "99a72861-225f-4e12-a72b-1a6c34239654",
   "metadata": {},
   "source": [
    "4.  Écrire des fonctions qui calculent les notions suivantes (source\n",
    "    Wikipédia) :\n",
    "\n",
    "    1.  le temps de vol qui est le plus petit indice $n$ tel que\n",
    "        $s(n) = 1$, *i.e.* jusqu'à la terminaison.\n",
    "\n",
    "    2.  le temps de vol en altitude qui est le plus petit indice $n$ tel\n",
    "        que $s(n) \\le N$.\n",
    "\n",
    "    3.  l'altitude maximale qui est la valeur maximale $s(n)$ de la\n",
    "        suite."
   ]
  },
  {
   "cell_type": "markdown",
   "id": "dcea4f44-d96a-42fb-a8eb-531c17de991a",
   "metadata": {},
   "source": [
    "5.  Coder ces fonctions et proposer des graphiques instructifs."
   ]
  },
  {
   "cell_type": "markdown",
   "id": "35934452-40dc-4a8a-8606-2db4493d44c5",
   "metadata": {
    "tags": []
   },
   "source": [
    "6.  Coder ces fonctions et proposer des graphiques instructifs."
   ]
  },
  {
   "cell_type": "markdown",
   "id": "e264e157-e146-46f6-86b6-1b4bb23fa8b2",
   "metadata": {
    "tags": []
   },
   "source": [
    "7.  Coder le calcul avec terminaison de façon itérative."
   ]
  }
 ],
 "metadata": {
  "kernelspec": {
   "display_name": "Python 3 (ipykernel)",
   "language": "python",
   "name": "python3"
  },
  "language_info": {
   "codemirror_mode": {
    "name": "ipython",
    "version": 3
   },
   "file_extension": ".py",
   "mimetype": "text/x-python",
   "name": "python",
   "nbconvert_exporter": "python",
   "pygments_lexer": "ipython3",
   "version": "3.11.7"
  }
 },
 "nbformat": 4,
 "nbformat_minor": 5
}