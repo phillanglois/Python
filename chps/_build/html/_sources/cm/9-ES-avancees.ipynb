{
 "cells": [
  {
   "cell_type": "markdown",
   "metadata": {
    "slideshow": {
     "slide_type": "slide"
    }
   },
   "source": [
    "(ch:ES-avancees)=\n",
    "# Les entrées-sorties (E/S) : aspects avancés\n",
    "\n",
    "**Partie Programmation**    \n",
    "version 2021, v1 PhL."
   ]
  },
  {
   "cell_type": "markdown",
   "metadata": {
    "slideshow": {
     "slide_type": "slide"
    }
   },
   "source": [
    "Chapitre où on étudie comment peaufiner le format ses entrées-sorties à l'écran ou dans des fichiers de texte.\n",
    "\n",
    "Ce chapitre complète le chapitre \"Entrées-sorties avec des fichiers\".  \n"
   ]
  },
  {
   "cell_type": "markdown",
   "metadata": {
    "slideshow": {
     "slide_type": "slide"
    },
    "toc": true
   },
   "source": [
    "<h1>Table of Contents<span class=\"tocSkip\"></span></h1>\n",
    "<div class=\"toc\"><ul class=\"toc-item\"><li><span><a href=\"#Les-entrées-sorties-(E/S)-:-aspects-avancés\" data-toc-modified-id=\"Les-entrées-sorties-(E/S)-:-aspects-avancés-1\"><span class=\"toc-item-num\">1&nbsp;&nbsp;</span>Les entrées-sorties (E/S) : aspects avancés</a></span><ul class=\"toc-item\"><li><span><a href=\"#Les-formats-d'écriture,-de-lecture-et-d'affichage\" data-toc-modified-id=\"Les-formats-d'écriture,-de-lecture-et-d'affichage-1.1\"><span class=\"toc-item-num\">1.1&nbsp;&nbsp;</span>Les formats d'écriture, de lecture et d'affichage</a></span><ul class=\"toc-item\"><li><span><a href=\"#Spécifier-le-format-de-nombres-et-des-chaînes-de-caractères\" data-toc-modified-id=\"Spécifier-le-format-de-nombres-et-des-chaînes-de-caractères-1.1.1\"><span class=\"toc-item-num\">1.1.1&nbsp;&nbsp;</span>Spécifier le format de nombres et des chaînes de caractères</a></span><ul class=\"toc-item\"><li><span><a href=\"#Formatage-de-nombres-int\" data-toc-modified-id=\"Formatage-de-nombres-int-1.1.1.1\"><span class=\"toc-item-num\">1.1.1.1&nbsp;&nbsp;</span>Formatage de nombres <code>int</code></a></span></li><li><span><a href=\"#Formatage-de-nombres-float\" data-toc-modified-id=\"Formatage-de-nombres-float-1.1.1.2\"><span class=\"toc-item-num\">1.1.1.2&nbsp;&nbsp;</span>Formatage de nombres <code>float</code></a></span></li><li><span><a href=\"#Formatages-de-chaînes-de-caractères\" data-toc-modified-id=\"Formatages-de-chaînes-de-caractères-1.1.1.3\"><span class=\"toc-item-num\">1.1.1.3&nbsp;&nbsp;</span>Formatages de chaînes de caractères</a></span></li><li><span><a href=\"#Les-caractères-spéciaux-\\...\" data-toc-modified-id=\"Les-caractères-spéciaux-\\...-1.1.1.4\"><span class=\"toc-item-num\">1.1.1.4&nbsp;&nbsp;</span>Les caractères spéciaux <code>\\...</code></a></span></li></ul></li><li><span><a href=\"#Les--expressions-ou-chaînes--formatées\" data-toc-modified-id=\"Les--expressions-ou-chaînes--formatées-1.1.2\"><span class=\"toc-item-num\">1.1.2&nbsp;&nbsp;</span>Les  <em>expressions</em> ou <em>chaînes  formatées</em></a></span></li><li><span><a href=\"#La-méthode-.format().\" data-toc-modified-id=\"La-méthode-.format().-1.1.3\"><span class=\"toc-item-num\">1.1.3&nbsp;&nbsp;</span>La méthode <code>.format()</code>.</a></span></li><li><span><a href=\"#($\\star$)-Compléments\" data-toc-modified-id=\"($\\star$)-Compléments-1.1.4\"><span class=\"toc-item-num\">1.1.4&nbsp;&nbsp;</span>($\\star$) Compléments</a></span><ul class=\"toc-item\"><li><span><a href=\"#str()-et-repr()\" data-toc-modified-id=\"str()-et-repr()-1.1.4.1\"><span class=\"toc-item-num\">1.1.4.1&nbsp;&nbsp;</span><code>str()</code> et <code>repr()</code></a></span></li><li><span><a href=\"#Souplesses-de-l'arg-de-.format().\" data-toc-modified-id=\"Souplesses-de-l'arg-de-.format().-1.1.4.2\"><span class=\"toc-item-num\">1.1.4.2&nbsp;&nbsp;</span>Souplesses de l'<code>arg</code> de <code>.format()</code>.</a></span></li><li><span><a href=\"#Méthodes-spécifiques-(sans-.format())\" data-toc-modified-id=\"Méthodes-spécifiques-(sans-.format())-1.1.4.3\"><span class=\"toc-item-num\">1.1.4.3&nbsp;&nbsp;</span>Méthodes spécifiques (sans <code>.format()</code>)</a></span></li></ul></li></ul></li><li><span><a href=\"#Synthèse\" data-toc-modified-id=\"Synthèse-1.2\"><span class=\"toc-item-num\">1.2&nbsp;&nbsp;</span>Synthèse</a></span><ul class=\"toc-item\"><li><span><a href=\"#Avoir-les-idées-claires\" data-toc-modified-id=\"Avoir-les-idées-claires-1.2.1\"><span class=\"toc-item-num\">1.2.1&nbsp;&nbsp;</span>Avoir les idées claires</a></span></li><li><span><a href=\"#Savoir-faire\" data-toc-modified-id=\"Savoir-faire-1.2.2\"><span class=\"toc-item-num\">1.2.2&nbsp;&nbsp;</span>Savoir-faire</a></span></li></ul></li></ul></li></ul></div>"
   ]
  },
  {
   "cell_type": "markdown",
   "metadata": {
    "slideshow": {
     "slide_type": "slide"
    }
   },
   "source": [
    "## Les formats d'écriture, de lecture et d'affichage\n",
    "\n",
    "Il s'agit de _définir la façon dont s'écrivent, se lisent ou s'affichent à l'écran_ les informations textuelles, _i.e._ les chaînes de caractères.  \n",
    "Exemple : combien de chiffres après la virgule d'un `float`, utiliser une notation scientifique ($\\pm 1.xxxx \\cdot 10^E$), insérer ou non des caractères avant la `str` à afficher, ...  \n",
    "\n",
    "On commence par la syntaxe qui permet d'exprimer le formatage voulu (syntaxe un peu lourde au début), puis on montre deux moyens d'appliquer l'opération de formatage : les _chaînes formatées_ (ou _f-string_ en python) puis la méthode plus générale `.format` (méthode définie pour les `str`).   \n",
    "\n",
    "<div class=\"alert alert-danger\">\n",
    "\n",
    "Ces __formats__ d'affichage s'appliquent aux **chaînes de caractères** utiles aux entrées-sorties **textuelles** (avec `print()` pour l'écran, mais aussi `write()` et `read()` pour les fichiers de texte).\n",
    "    \n",
    "</div>"
   ]
  },
  {
   "cell_type": "markdown",
   "metadata": {
    "slideshow": {
     "slide_type": "subslide"
    }
   },
   "source": [
    "### Spécifier le format de nombres et des chaînes de caractères \n",
    "\n",
    "La syntaxe générale d'un __format__ (d'écriture ou d'affichage) est :\n",
    "\n",
    "> `:[drapeau][largeur][.precision][type]`\n",
    "\n",
    "Après le symbole `:`, chacun des 4 champs est optionnel.\n",
    "- `[drapeau]` contrôle la justification de la valeur par :\n",
    "    - un caractère de remplissage  (optionnel) : `.`,`*`,`-`, ... \n",
    "    - et sa position : centré :`^`, aligné à gauche : `<`, à droite : `>`\n",
    "- `[largeur]` : la largeur de l'écriture (en nombre de caractères)\n",
    "- `[.precision]` : le nombre de chiffres après la virgule `.` pour les nombres flottants\n",
    "- `[type]`: le paramètre le plus important qui dépend du type de la valeur et décrit un mode général de représentation.\n",
    "\n",
    "Une valeur de format est aussi appelée **code** de format par la littérature python. "
   ]
  },
  {
   "cell_type": "markdown",
   "metadata": {
    "slideshow": {
     "slide_type": "subslide"
    }
   },
   "source": [
    "**Rmq. importante** \n",
    "Les exemples qui suivent pour illustrer l'effet de ces codes sont donnés :\n",
    "- sur l'affichage à l'écran par `print()`, \n",
    "    - un effet identique est obtenu par des `read()` ou des `write()` dans les fichiers;\n",
    "- d'une _chaîne formatée_ ou aussi  _f-string_) : c'est une forme de chaine de caractères \n",
    "    - reconnaissable par le `f`ou `F` qui précède le `\"`ou le `'` d'ouverture de chaîne,\n",
    "    - et qui sera détaillée dans la section suivante.\n",
    "    \n",
    "\n",
    "On a indiqué que `[type]`est le paramètre de format le plus important en pratique. C'est donc lui qui guide la présentation."
   ]
  },
  {
   "cell_type": "markdown",
   "metadata": {
    "slideshow": {
     "slide_type": "subslide"
    }
   },
   "source": [
    "#### Formatage de nombres `int` \n",
    "\n",
    "Le champs `[type]`peut prendre les valeurs `d` (par défaut), `x`, `X`, `o`, et `b` dont le sens est illustré par les 5 codes suivants.\n",
    "\n",
    "type | code (`str`) | format  \n",
    "-----|--------|------\n",
    "int | `{0:d}` | **entier en base 10 (décimal)** (par défaut)\n",
    "int | `{0:x}` | entier en base 16 (hexa-décimal) en minuscules \n",
    "int | `{0:X}` | entier en base 16 (hexa-décimal) en majuscules \n",
    "int | `{0:o}` | entier en base 8 (octal)\n",
    "int | `{0:b}` | entier en base 2 (binaire)\n",
    "\n",
    "**Rmq.** Ne pas se soucier du '0' avant le ':'  qui débute le format.  "
   ]
  },
  {
   "cell_type": "code",
   "execution_count": 2,
   "metadata": {
    "slideshow": {
     "slide_type": "subslide"
    }
   },
   "outputs": [
    {
     "name": "stdout",
     "output_type": "stream",
     "text": [
      "22\n",
      "22\n",
      "16\n",
      "16\n",
      "26\n",
      "10110\n"
     ]
    }
   ],
   "source": [
    "print(\"22\")\n",
    "print(f\"{22:d}\")\n",
    "print(f\"{22:x}\")\n",
    "print(f\"{22:X}\")\n",
    "print(f\"{22:o}\") \n",
    "print(f\"{22:b}\")"
   ]
  },
  {
   "cell_type": "markdown",
   "metadata": {},
   "source": [
    "On verra avec la présentation des chaînes formatée qu'on peut formater des expressions évaluées à l'exécution -- mais toujours comme des chaînes de caractères.\n",
    "\n",
    "Le traitement suivant est similaire au précédent en introduisant une variable `var` à (la valeur de) laquelle s'applique le formatage."
   ]
  },
  {
   "cell_type": "code",
   "execution_count": 2,
   "metadata": {
    "slideshow": {
     "slide_type": "subslide"
    }
   },
   "outputs": [
    {
     "name": "stdout",
     "output_type": "stream",
     "text": [
      "22\n",
      "22\n",
      "16\n",
      "16\n",
      "26\n",
      "10110\n"
     ]
    }
   ],
   "source": [
    "var = 22\n",
    "print(var)\n",
    "print(f\"{var:d}\")\n",
    "print(f\"{var:x}\")\n",
    "print(f\"{var:X}\")\n",
    "print(f\"{var:o}\")\n",
    "print(f\"{var:b}\")"
   ]
  },
  {
   "cell_type": "markdown",
   "metadata": {
    "slideshow": {
     "slide_type": "subslide"
    }
   },
   "source": [
    "On illustre brièvement l'effet des champs `[position]` et `[largeur]` sur des décimaux."
   ]
  },
  {
   "cell_type": "code",
   "execution_count": 3,
   "metadata": {
    "slideshow": {
     "slide_type": "subslide"
    }
   },
   "outputs": [
    {
     "name": "stdout",
     "output_type": "stream",
     "text": [
      "22 : format par défaut du print\n",
      "        22 : sur 10 caractères, alignement à droite par défaut pour 'int'\n",
      "----22---- : centré sur 10 caractères\n",
      "22........ : aligné à gauche, 10 caractères complétés par des .\n"
     ]
    }
   ],
   "source": [
    "var = 22\n",
    "print(var, \": format par défaut du print\")\n",
    "print(f\"{var:10d}\", \": sur 10 caractères, alignement à droite par défaut pour 'int'\")\n",
    "print(f\"{var:-^10d}\", \": centré sur 10 caractères\")\n",
    "print(f\"{var:.<10d}\", \": aligné à gauche, 10 caractères complétés par des .\")\n"
   ]
  },
  {
   "cell_type": "markdown",
   "metadata": {
    "slideshow": {
     "slide_type": "subslide"
    }
   },
   "source": [
    "Les écritures classiques des entiers sont aussi obtenues à l'aide des codes suivants.\n",
    "\n",
    "type | code (`str`) | format  \n",
    "-----|--------|------\n",
    "int | `{0:+d}` | entier en base 10 avec signe `+` explicite \n",
    "int | `{0:0=nb}` | entier en base 10 écrit avec `nb` chiffres, complétés de `0` si besoin\n",
    "int | `{0:#x}` | entier en base 16 avec `#`\n",
    "int | `{0:#o}` | entier en base 8 avec `o`\n",
    "int | `{0:#b}` | entier en base 2 avec `b`"
   ]
  },
  {
   "cell_type": "code",
   "execution_count": 4,
   "metadata": {
    "slideshow": {
     "slide_type": "subslide"
    }
   },
   "outputs": [
    {
     "name": "stdout",
     "output_type": "stream",
     "text": [
      "+22\n",
      "0022\n",
      "0X16\n",
      "0o26\n",
      "0b10110\n"
     ]
    }
   ],
   "source": [
    "var = 22\n",
    "print(f\"{var:+d}\")\n",
    "print(f\"{var:0=4}\")\n",
    "print(f\"{var:#X}\")\n",
    "print(f\"{var:#o}\")\n",
    "print(f\"{var:#b}\")"
   ]
  },
  {
   "cell_type": "markdown",
   "metadata": {
    "slideshow": {
     "slide_type": "subslide"
    }
   },
   "source": [
    "#### Formatage de nombres `float`   \n",
    "\n",
    "Le champs `[type]` peut prendre les valeurs `f`, `e`, `g` et `%`.\n",
    "\n",
    "Avec les champs `[drapeau]`, `[largeur]` et `[précision]`, on obtient des formats adaptés aux `float`.\n",
    "\n",
    "type | code (`str`) | format  \n",
    "-----|--------|------\n",
    "float | `{0:2.4f}`|  2 chiffres avant la virgule et 4 après\n",
    "float | `{0:.5e}`| notation scientifique avec 5 chiffres après la virgule\n",
    "float | `{0:g}`|  un format générique \"qui va bien\"\n",
    "float | `{0:.2%}`| pourcentage avec 2 décimales"
   ]
  },
  {
   "cell_type": "code",
   "execution_count": 5,
   "metadata": {
    "slideshow": {
     "slide_type": "subslide"
    }
   },
   "outputs": [
    {
     "name": "stdout",
     "output_type": "stream",
     "text": [
      "pi= 3.141592653589793\n",
      "3.142\n",
      "+3.14159e+00\n",
      "3.14159\n",
      "*+3.14159e+00**\n"
     ]
    }
   ],
   "source": [
    "from math import pi as pi\n",
    "print(\"pi=\", pi)\n",
    "print(f\"{pi:2.3f}\")\n",
    "print(f\"{pi:+.5e}\")\n",
    "print(f\"{pi:g}\")\n",
    "print(f\"{pi:*^+15.5e}\")"
   ]
  },
  {
   "cell_type": "markdown",
   "metadata": {
    "slideshow": {
     "slide_type": "subslide"
    }
   },
   "source": [
    "**Rmq.** Ces formatages d'`int` et de `float` apparaissent aussi dans d'autres langages de programmation, _e.g._ C.  "
   ]
  },
  {
   "cell_type": "markdown",
   "metadata": {
    "slideshow": {
     "slide_type": "slide"
    }
   },
   "source": [
    "#### Formatages de chaînes de caractères\n",
    "\n",
    "Dans ce cas, on défini les champs `drapeau` et `largeur` comme déjà indiqué.\n",
    "\n",
    "type | code (`str`) | format  \n",
    "-----|--------|------\n",
    "  str | `{:nb}`| chaîne justifiée à gauche sur `nb` caractères (complétée d'espaces _à droite_ si besoin)\n",
    "  str | `{:>nb}`| chaîne justifiée à droite sur `nb` caractères (complétée d'espaces _à gauche_ si besoin)\n",
    "  str | `{:^nb}`| chaîne _centrée_ sur `nb` caractères (complétée d'espaces si besoin)\n",
    "  str | `{:-^nb}`| chaîne _centrée_ sur `nb` caractères, complétée de `-` si besoin\n",
    "str | `{:.<nb}`| chaîne justifiée à gauche  sur `nb` caractères, complétée de `.` _à droite_ si besoin"
   ]
  },
  {
   "cell_type": "code",
   "execution_count": 3,
   "metadata": {
    "slideshow": {
     "slide_type": "subslide"
    }
   },
   "outputs": [
    {
     "name": "stdout",
     "output_type": "stream",
     "text": [
      "16\n",
      "un texte formaté                   \n",
      "                   un texte formaté\n",
      "         un texte formaté          \n",
      "+++++++++un texte formaté++++++++++\n"
     ]
    }
   ],
   "source": [
    "s = \"un texte formaté\"\n",
    "print(len(s))\n",
    "print(f\"{s:35}\")\n",
    "print(f\"{s:>35}\")\n",
    "print(f\"{s:^35}\")\n",
    "print(f\"{s:+^35}\")"
   ]
  },
  {
   "cell_type": "markdown",
   "metadata": {
    "slideshow": {
     "slide_type": "slide"
    }
   },
   "source": [
    "#### Les caractères spéciaux `\\... `\n",
    "\n",
    "On rappelle que les _caractères spéciaux_ ou _séquences d'échappement_ sont l'association du \"backslash\" `\\` et de certains symboles (ou  suite de symboles).\n",
    "Cette suite de caractères (qui commence par `\\`) est interprétée de façon particulière.\n",
    "\n",
    "Caractères spéciaux \"de contrôle\":  \n",
    "- `\\b` : _backspace_ \n",
    "- `\\t` `\\v`: tabulation horizontale ou verticale\n",
    "- `\\n` : _new line_ saut de ligne  \n",
    "- `\\f` : _form feed_  saut de page  \n",
    "- `\\r` : retour en début de ligne \n",
    "\n",
    "On a vu que  le `\\` évite d'évaluer \"normalement\" le symbole qui le suit.\n",
    "\n",
    "Donc :\n",
    "\n",
    "- `\\\\` s'évalue comme le caractère `\\`, \n",
    "- `\\'` ou `\\\"` ou `\\/` comme les symboles `'` ou `\"` ou `/`   \n",
    "- et `\\\\n` comme la chaîne de **2** caractères **non évalués** `\\n`.\n",
    "\n",
    "Retenons que `\\` permet de ne pas _interpréter avec le sens réservé par les choix du langage de programmation_ le caractère qui le suit. \n",
    "Il ramène au caractère ou à la chaîne de caractère écrites -- et non son interprétation.\n",
    "Cette notion se retrouve dans d'autres langages de programmation : C, ...\n",
    "\n",
    "\n",
    "Des fonctions plus générales qui résolvent ce type de problème sont présentées comme compléments en fin de chapitre."
   ]
  },
  {
   "cell_type": "markdown",
   "metadata": {
    "slideshow": {
     "slide_type": "slide"
    }
   },
   "source": [
    "print(\"a\\\\nb\")"
   ]
  },
  {
   "cell_type": "markdown",
   "metadata": {
    "slideshow": {
     "slide_type": "slide"
    }
   },
   "source": [
    "### Les  _expressions_ ou _chaînes  formatées_ \n",
    "\n",
    "**Principe**\n",
    "\n",
    "1. On définit un _format d'affichage_ pour une chaîne de caractères qui dépend de la valeur de certains _champs_ à formater \n",
    "2. On applique ce format à un nombre arbitraire de valeurs\n",
    "3. On obtient un nombre arbitraire de valeurs affichées de la même manière.\n",
    "\n",
    "Syntaxe :\n",
    "> `f\"une chaine de caractères qui contient au moins un {champs à formater}\"` "
   ]
  },
  {
   "cell_type": "code",
   "execution_count": 7,
   "metadata": {
    "slideshow": {
     "slide_type": "subslide"
    }
   },
   "outputs": [
    {
     "name": "stdout",
     "output_type": "stream",
     "text": [
      "La température du 12 mars 2021 est 18.2oC.\n"
     ]
    }
   ],
   "source": [
    "quantieme = 12\n",
    "mois = \"mars\"\n",
    "annee = 2021\n",
    "temp = 18.2\n",
    "s = f\"La température du {quantieme} {mois} {annee} est {temp}oC.\"\n",
    "print(s)"
   ]
  },
  {
   "cell_type": "markdown",
   "metadata": {
    "slideshow": {
     "slide_type": "subslide"
    }
   },
   "source": [
    "L'intérêt de ces expressions (ou chaînes) formatées est mis en valeur en introduisant les formats d'affichage vus précédemment pour chaque champs et le type de valeur attendu.\n",
    "\n",
    "Ces formats d'affichage commencent ici après le `:` de chaque champs de l'expression formatée."
   ]
  },
  {
   "cell_type": "code",
   "execution_count": 8,
   "metadata": {
    "slideshow": {
     "slide_type": "fragment"
    }
   },
   "outputs": [
    {
     "name": "stdout",
     "output_type": "stream",
     "text": [
      "La température du  4    mars    2021 est 18.2oC.\n",
      "La température du 12  janvier   2021 est 5.6oC.\n"
     ]
    }
   ],
   "source": [
    "quantieme = 4\n",
    "mois = 'mars'\n",
    "annee = 2021\n",
    "temp = 18.2\n",
    "s1 = f\"La température du {quantieme:2d} {mois:^10} {annee} est {temp:2.1f}oC.\"\n",
    "# un entier sur 2 chiffres décimaux, \n",
    "# une chaine centrée sur 10 caractères,\n",
    "# un nombre flottant avec au plus 2 chiffres significatifs et une décimale\n",
    "\n",
    "quantieme = 12\n",
    "mois = 'janvier'\n",
    "annee = 2021\n",
    "temp = 5.58\n",
    "s2 = f\"La température du {quantieme:2d} {mois:^10} {annee} est {temp:2.1f}oC.\" \n",
    "\n",
    "print(s1)\n",
    "print(s2)"
   ]
  },
  {
   "cell_type": "markdown",
   "metadata": {
    "slideshow": {
     "slide_type": "subslide"
    }
   },
   "source": [
    "### La méthode `.format()`.\n",
    "\n",
    "L'exemple précédent donne envie de pouvoir définir _une fois pour toute_ l'expression formatée et de pouvoir _l'appliquer_  à un nombre arbitraire de valeurs pour obtenir l'affichage formatée de ces valeurs.\n",
    "\n",
    "C'est l'objet de la méthode `.format()` qui s'applique à des `str`."
   ]
  },
  {
   "cell_type": "markdown",
   "metadata": {
    "slideshow": {
     "slide_type": "fragment"
    }
   },
   "source": [
    "La syntaxe de `.format()` est un peu déroutante au début.\n",
    "> `st_format.format(arg)` retourne une chaîne de caractères `str` formatée\n",
    "\n",
    "- `st_format` est une chaine de caractères qui définit **le format d'affichage** voulu : similaire à l'_expression formatée_, elle contient les champs délimitées par des `{ }` qui  intégrent éventuellement des spécifications de format.  \n",
    "- `arg` est un _conteneur_ `tuple` ou `dict` ou `str` de _valeurs à formater_.\n",
    "\n",
    "Ainsi `st_format.format(arg)` applique à `arg`, les traitements définies entre **`{ }`** de la chaîne de _définition du format_ `st_format`. "
   ]
  },
  {
   "cell_type": "markdown",
   "metadata": {
    "slideshow": {
     "slide_type": "subslide"
    }
   },
   "source": [
    "**Rmq.**\n",
    "- Cette construction permet de définir \"une fois pour toute\" la chaîne `st_format` puis de l'appliquer à un nombre arbitraire d'`arg` -- ce qui n'est pas possible avec les expressions formatées _f-strings_.\n",
    "- On rappelle que le type `str` est **non-mutable** -- ce qui nous fait souvent préférer la dénomination _expression formatée_ plutôt que chaîne formatée, traduction rapide du jargon python _f-string_."
   ]
  },
  {
   "cell_type": "markdown",
   "metadata": {
    "slideshow": {
     "slide_type": "subslide"
    }
   },
   "source": [
    "**Exemple.** Une météo hasardeuse."
   ]
  },
  {
   "cell_type": "code",
   "execution_count": 9,
   "metadata": {
    "slideshow": {
     "slide_type": "fragment"
    }
   },
   "outputs": [
    {
     "name": "stdout",
     "output_type": "stream",
     "text": [
      "La température du  1  janvier   2021 est  +4.4 oC.\n",
      "La température du  5  janvier   2021 est +15.0 oC.\n",
      "La température du  9  janvier   2021 est  +5.6 oC.\n",
      "La température du 13  janvier   2021 est  +1.8 oC.\n",
      "La température du 17  janvier   2021 est  +4.9 oC.\n",
      "La température du 21  janvier   2021 est +13.2 oC.\n",
      "La température du 25  janvier   2021 est  +6.6 oC.\n",
      "La température du  1  février   2021 est  +9.1 oC.\n",
      "La température du  5  février   2021 est  -1.1 oC.\n",
      "La température du  9  février   2021 est  -0.2 oC.\n",
      "La température du 13  février   2021 est  +7.4 oC.\n",
      "La température du 17  février   2021 est +13.9 oC.\n",
      "La température du 21  février   2021 est +11.6 oC.\n",
      "La température du 25  février   2021 est  +7.8 oC.\n",
      "La température du  1    mars    2021 est  +9.2 oC.\n",
      "La température du  5    mars    2021 est  +3.1 oC.\n",
      "La température du  9    mars    2021 est  +3.6 oC.\n",
      "La température du 13    mars    2021 est +13.0 oC.\n",
      "La température du 17    mars    2021 est  +6.6 oC.\n",
      "La température du 21    mars    2021 est +15.4 oC.\n",
      "La température du 25    mars    2021 est  -1.4 oC.\n"
     ]
    }
   ],
   "source": [
    "import random\n",
    "\n",
    "le_format = \"La température du {:2d} {:^10} {} est {:+5.1f} oC.\"\n",
    "\n",
    "a = 2021\n",
    "for m in ('janvier','février','mars'):\n",
    "    for q in range(1,28,4):\n",
    "        t = random.uniform(-2.0,15.9)\n",
    "        s = le_format.format(q, m, a, t)\n",
    "        print(s)\n",
    "        "
   ]
  },
  {
   "cell_type": "markdown",
   "metadata": {
    "slideshow": {
     "slide_type": "subslide"
    }
   },
   "source": [
    "Le formatage de données textuelles s'applique aussi aux E-S sur fichiers."
   ]
  },
  {
   "cell_type": "markdown",
   "metadata": {
    "slideshow": {
     "slide_type": "subslide"
    }
   },
   "source": [
    "Il est classique de mentionner que la méthode `.format()` permet aussi d'effectuer des substitutions (des remplacements) de  certaines parties de chaînes de caractères. "
   ]
  },
  {
   "cell_type": "code",
   "execution_count": 10,
   "metadata": {
    "slideshow": {
     "slide_type": "fragment"
    }
   },
   "outputs": [
    {
     "name": "stdout",
     "output_type": "stream",
     "text": [
      "Le premier mot est très important ....\n",
      "Le {} mot est {} {}\n"
     ]
    }
   ],
   "source": [
    "# formatage avec remplacement par st\n",
    "le_format =  \"Le {} mot est {} {}\"\n",
    "st_formatee = le_format.format(\"premier\", \"très important\", \"....\")\n",
    "\n",
    "# affichage\n",
    "print(st_formatee)\n",
    "print(le_format)\n",
    "\n",
    "# ecriture fichier\n",
    "st1 = \"capital, \"\n",
    "st2 = \"assurément\"\n",
    "with open(\"./tmp/format1.txt\", \"w\", encoding=\"utf8\") as f:\n",
    "    f.write(st_formatee)\n",
    "    f.write(\"\\n\")    \n",
    "    f.write(le_format.format(\"dernier\", st1 + st2, \"!\"))\n",
    "    f.close()"
   ]
  },
  {
   "cell_type": "code",
   "execution_count": 11,
   "metadata": {
    "slideshow": {
     "slide_type": "fragment"
    }
   },
   "outputs": [
    {
     "name": "stdout",
     "output_type": "stream",
     "text": [
      "Le premier mot est très important ....\n",
      "Le dernier mot est capital, assurément !"
     ]
    }
   ],
   "source": [
    "!cat tmp/format1.txt "
   ]
  },
  {
   "cell_type": "markdown",
   "metadata": {
    "slideshow": {
     "slide_type": "slide"
    }
   },
   "source": [
    "**Rmq.** Il est commode de voir la chaîne `st_format` comme un masque de mise en forme qui va s'appliquer aux valeurs de l'argument `arg`. \n",
    "Cette utilisation par remplacement peut faire penser (à tort) à un rôle inversé de l'argument à formater `arg` et de la chaîne `st_format` qui définit le formatage. \n",
    "Ce risque de confusion sera levée avec l'étude de la programmation objet (en python) -- hors du programme de ce semestre.  "
   ]
  },
  {
   "cell_type": "markdown",
   "metadata": {
    "slideshow": {
     "slide_type": "subslide"
    }
   },
   "source": [
    "### ($\\star$) Compléments\n",
    "\n",
    "<div class=\"alert alert-warning\">\n",
    "\n",
    "Objectif 20 et en seconde lecture \n",
    "    \n",
    "</div>"
   ]
  },
  {
   "cell_type": "markdown",
   "metadata": {
    "slideshow": {
     "slide_type": "subslide"
    }
   },
   "source": [
    "####  `str()` et `repr()`\n",
    "\n",
    "Vous avez utilisé --de façon explicite ou \"à votre insu\"-- la fonction `str()` pour convertir une valeur de type quelconque en sa représentation comme une chaîne de caractères.\n",
    "- Citez un exemple d'utilisation implicite de `str()`\n",
    "\n",
    "La fonction `str()` donne accès à la chaîne de caractères argument _interprétée_.\n",
    "\n",
    "La fonction `repr()` donne accès à la chaîne de caractères argument sans l'interpréter. "
   ]
  },
  {
   "cell_type": "code",
   "execution_count": 12,
   "metadata": {
    "slideshow": {
     "slide_type": "subslide"
    }
   },
   "outputs": [
    {
     "name": "stdout",
     "output_type": "stream",
     "text": [
      "22*22*22\n",
      "<class 'int'> <class 'str'> <class 'str'>\n",
      "\n",
      "\n",
      "*\n",
      "*'\\n'\n",
      "<class 'str'> <class 'str'> <class 'str'>\n",
      "\n",
      "\\n*\\n*'\\\\n'\n",
      "<class 'str'> <class 'str'> <class 'str'>\n"
     ]
    }
   ],
   "source": [
    "val = 22\n",
    "s = str(val)\n",
    "r = repr(val)\n",
    "print(val, s, r, sep=\"*\")\n",
    "print(type(val), type(s), type(r))\n",
    "print()\n",
    "\n",
    "val = \"\\n\"\n",
    "s = str(val)\n",
    "r = repr(val)\n",
    "print(val, s, r, sep=\"*\")\n",
    "print(type(val), type(s), type(r))\n",
    "print()\n",
    "\n",
    "val = \"\\\\n\"\n",
    "s = str(val)\n",
    "r = repr(val)\n",
    "print(val, s, r, sep=\"*\")\n",
    "print(type(val), type(s), type(r))"
   ]
  },
  {
   "cell_type": "markdown",
   "metadata": {
    "slideshow": {
     "slide_type": "subslide"
    }
   },
   "source": [
    "Lorsqu'aucun formatage particulier n'est souhaité, ces fonctions peuvent être utilisées avec les raccourcis suivants qui complètent les champs `{}` des _f-strings_ ou du formatage de `.format()`.\n",
    "- `!s` pour u `str()`\n",
    "- `!r` pour `repr()`\n",
    "- `!a` pour `ascii()`"
   ]
  },
  {
   "cell_type": "code",
   "execution_count": 13,
   "metadata": {
    "slideshow": {
     "slide_type": "subslide"
    }
   },
   "outputs": [
    {
     "name": "stdout",
     "output_type": "stream",
     "text": [
      "Bonjour Madame, \n",
      " Monsieur.**Bonjour 'Madame, \\n Monsieur.'**Bonjour 'Madame, \\n Monsieur.'\n"
     ]
    }
   ],
   "source": [
    "mr_ou_mme = \"Madame, \\n Monsieur.\"\n",
    "hello_s = f\"Bonjour {mr_ou_mme!s}\"\n",
    "hello_r = f\"Bonjour {mr_ou_mme!r}\"\n",
    "hello_a = f\"Bonjour {mr_ou_mme!a}\"\n",
    "print(hello_s, hello_r, hello_a, sep=\"**\")"
   ]
  },
  {
   "cell_type": "code",
   "execution_count": 14,
   "metadata": {
    "slideshow": {
     "slide_type": "subslide"
    }
   },
   "outputs": [
    {
     "name": "stdout",
     "output_type": "stream",
     "text": [
      "Bonjour, \n",
      " bonjour !\n",
      "Bonjour, \n",
      " bonjour !\n",
      "'Bonjour, \\n bonjour !'\n",
      "'Bonjour, \\n bonjour !'\n"
     ]
    }
   ],
   "source": [
    "st = \"Bonjour, \\n bonjour !\"\n",
    "print(st)\n",
    "print(\"{!s}\".format(st))\n",
    "print(\"{!r}\".format(st))\n",
    "print(\"{!a}\".format(st))"
   ]
  },
  {
   "cell_type": "markdown",
   "metadata": {
    "slideshow": {
     "slide_type": "subslide"
    }
   },
   "source": [
    "#### Souplesses de l'`arg` de `.format()`.\n",
    "\n",
    "Avec `.format()`, les arguments à formater peuvent être indiqués par position implicite (par défaut comme jusqu'à présent) ou _explicite_ mais aussi par _nommage_ ou par _liste/dictionnaire_ -- dans la définition et dans l'appel pour les deux derniers.\n",
    "\n",
    "La position des valeurs du conteneur `arg` argument de `.format(arg)` est précisée dans les `{ }` de `st_format` :    \n",
    "- de façon **explicite** avec **`{pos}`**  \n",
    "- de façon **nommée** avec **`{nom}`**   \n",
    "- en correspondance avec l'item `i` d'un _argument `lst`_ avec **`{0[i]}`**  \n",
    "- en correspondance avec la valeur de `clé`  d'un un _argument `dict`_  avec **`{0[clé]}`**  \n",
    "\n",
    "Ces positions peuvent être complétées d'une _spécification de formatage_.  "
   ]
  },
  {
   "cell_type": "code",
   "execution_count": 15,
   "metadata": {
    "slideshow": {
     "slide_type": "fragment"
    }
   },
   "outputs": [
    {
     "name": "stdout",
     "output_type": "stream",
     "text": [
      "le ciel est bleu\n",
      "la mer est calme\n",
      "la montagne est violette\n",
      "le soleil est chaud\n"
     ]
    }
   ],
   "source": [
    "st_pos =  \"{1} {0} est {2}\"\n",
    "st_nom =  \"{article} {sujet} est {complement}\"\n",
    "st_lst = \"{0[0]} {0[1]} est {0[2]}\"\n",
    "st_dict = \"{0[article]} {0[sujet]} est {0[complement]}\"\n",
    "\n",
    "\n",
    "print(st_pos.format(\"ciel\", \"le\", \"bleu\"))\n",
    "print(st_nom.format(article=\"la\", sujet=\"mer\", complement=\"calme\"))\n",
    "print(st_lst.format( [\"la\", \"montagne\", \"violette\"] ))\n",
    "d = dict(complement=\"chaud\", article=\"le\", sujet=\"soleil\") # syntaxe dictionnaire param. nommés\n",
    "print(st_dict.format(d))"
   ]
  },
  {
   "cell_type": "markdown",
   "metadata": {
    "slideshow": {
     "slide_type": "slide"
    }
   },
   "source": [
    "#### Méthodes spécifiques (sans `.format()`)\n",
    "\n",
    "On verra que certains traitements peuvent être obtenus avec des méthodes spécifiques aux `str`.\n",
    "\n",
    "méthode | effet\n",
    "--------|------\n",
    "`str.center(nb)` | centre `str`sur `nb`caractères\n",
    "`str.rjust(nb)` | justifie `str` _à droite_ sur `nb` caractères \n",
    "`str.ljust(nb)` | justifie `str` _à gauche_ sur `nb` caractères \n",
    "`str.zfill(nb)` | ajoute des zéros à gauche de `str` pour obtenir `nb` caractères \n"
   ]
  },
  {
   "cell_type": "markdown",
   "metadata": {
    "slideshow": {
     "slide_type": "slide"
    }
   },
   "source": [
    "## Synthèse \n",
    "\n",
    "### Avoir les idées claires\n",
    "\n",
    "- Connaitre les principes du formatage des données pour pouvoir retrouver rapidement dans la documentation (de cours ou de référence) les commandes pour effectuer ce traitement.\n",
    "\n",
    "### Savoir-faire\n",
    "\n",
    "- Utiliser les formatages de base des types `int` et `float` de python\n",
    "- En s'appuyant sur les documents de cours ou de référence, définir et appliquer des formatages évolués et adaptés aux données manipulées avec python"
   ]
  },
  {
   "cell_type": "raw",
   "metadata": {
    "slideshow": {
     "slide_type": "skip"
    }
   },
   "source": [
    "jupyter nbconvert --to html_embed --template toc2 6-ES-avancees"
   ]
  },
  {
   "cell_type": "raw",
   "metadata": {
    "slideshow": {
     "slide_type": "skip"
    }
   },
   "source": [
    "jupyter nbconvert 5p-ES.ipynb --to slides --SlidesExporter.reveal_scroll=True --SlidesExporter.reveal_transition=none --SlidesExporter.reveal_theme=solarized"
   ]
  }
 ],
 "metadata": {
  "celltoolbar": "Diaporama",
  "kernelspec": {
   "display_name": "Python 3 (ipykernel)",
   "language": "python",
   "name": "python3"
  },
  "language_info": {
   "codemirror_mode": {
    "name": "ipython",
    "version": 3
   },
   "file_extension": ".py",
   "mimetype": "text/x-python",
   "name": "python",
   "nbconvert_exporter": "python",
   "pygments_lexer": "ipython3",
   "version": "3.9.6"
  },
  "latex_envs": {
   "LaTeX_envs_menu_present": true,
   "autoclose": false,
   "autocomplete": true,
   "bibliofile": "biblio.bib",
   "cite_by": "apalike",
   "current_citInitial": 1,
   "eqLabelWithNumbers": true,
   "eqNumInitial": 1,
   "hotkeys": {
    "equation": "Ctrl-E",
    "itemize": "Ctrl-I"
   },
   "labels_anchors": false,
   "latex_user_defs": false,
   "report_style_numbering": true,
   "user_envs_cfg": false
  },
  "toc": {
   "nav_menu": {},
   "number_sections": true,
   "sideBar": true,
   "skip_h1_title": false,
   "title_cell": "Table of Contents",
   "title_sidebar": "Contents",
   "toc_cell": true,
   "toc_position": {},
   "toc_section_display": true,
   "toc_window_display": false
  },
  "toc-autonumbering": true,
  "toc-showtags": true
 },
 "nbformat": 4,
 "nbformat_minor": 4
}
