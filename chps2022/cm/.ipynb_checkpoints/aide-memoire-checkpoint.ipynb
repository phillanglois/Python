{
 "cells": [
  {
   "cell_type": "markdown",
   "metadata": {},
   "source": [
    "# Sections et interactions ajoutées en séance\n",
    "\n",
    "version 2021, PhL."
   ]
  },
  {
   "cell_type": "markdown",
   "metadata": {
    "toc": true
   },
   "source": [
    "<h1>Table des matières<span class=\"tocSkip\"></span></h1>\n",
    "<div class=\"toc\"><ul class=\"toc-item\"><li><span><a href=\"#Sections-et-interactions-ajoutées-en-séance\" data-toc-modified-id=\"Sections-et-interactions-ajoutées-en-séance-1\"><span class=\"toc-item-num\">1&nbsp;&nbsp;</span>Sections et interactions ajoutées en séance</a></span><ul class=\"toc-item\"><li><span><a href=\"#Aide-mémoire\" data-toc-modified-id=\"Aide-mémoire-1.1\"><span class=\"toc-item-num\">1.1&nbsp;&nbsp;</span>Aide-mémoire</a></span></li></ul></li><li><span><a href=\"#Examen-semestre-1-(2019)\" data-toc-modified-id=\"Examen-semestre-1-(2019)-2\"><span class=\"toc-item-num\">2&nbsp;&nbsp;</span>Examen semestre 1 (2019)</a></span></li><li><span><a href=\"#Fonctions\" data-toc-modified-id=\"Fonctions-3\"><span class=\"toc-item-num\">3&nbsp;&nbsp;</span>Fonctions</a></span><ul class=\"toc-item\"><li><span><a href=\"#Exercice-7\" data-toc-modified-id=\"Exercice-7-3.1\"><span class=\"toc-item-num\">3.1&nbsp;&nbsp;</span>Exercice 7</a></span><ul class=\"toc-item\"><li><span><a href=\"#Écrire-une-programme-qui\" data-toc-modified-id=\"Écrire-une-programme-qui-3.1.1\"><span class=\"toc-item-num\">3.1.1&nbsp;&nbsp;</span>Écrire une programme qui</a></span></li></ul></li></ul></li></ul></div>"
   ]
  },
  {
   "cell_type": "markdown",
   "metadata": {},
   "source": [
    "## Aide-mémoire"
   ]
  },
  {
   "cell_type": "markdown",
   "metadata": {},
   "source": [
    "<div class=\"alert alert-block alert-info\">\n",
    "    \n",
    "Un <b>bloc</b> d'items reconnu par `nbconvert to html`:\n",
    "    \n",
    "<ul>\n",
    "<li> item1 </li>\n",
    "<li> item 2 </li>\n",
    "</ul>    \n",
    "\n",
    "</div>"
   ]
  },
  {
   "cell_type": "markdown",
   "metadata": {},
   "source": [
    "# Examen semestre 1 (2019)"
   ]
  },
  {
   "cell_type": "code",
   "execution_count": null,
   "metadata": {
    "jupyter": {
     "outputs_hidden": true,
     "source_hidden": true
    },
    "slideshow": {
     "slide_type": "skip"
    }
   },
   "outputs": [],
   "source": [
    "def darts2(x, y):\n",
    "    '''calcule le nb de points\n",
    "    version avec plusieurs return\n",
    "    entrées : x, y (float) : coordonnées flechette\n",
    "    sortie : nb_points (int)'''\n",
    "    # centre\n",
    "    if x == 0 and y == 0:\n",
    "        return 50\n",
    "    \n",
    "    # dans la cible\n",
    "    rayon2 = x*x + y*y\n",
    "    for r in range(1, 11):\n",
    "        if rayon2 <= r*r:\n",
    "            return 20 - r\n",
    "    \n",
    "    # hors de la cible    \n",
    "    return 0\n",
    "\n",
    "def darts(x, y):\n",
    "    '''calcule le nb de points\n",
    "    version avec 1 seul return\n",
    "    entrées : x, y (float) : coordonnées flechette\n",
    "    sortie : nb_points (int)'''\n",
    "    \n",
    "    if x == 0 and y == 0:\n",
    "        nb_points = 50\n",
    "    else:\n",
    "        rayon2 = x*x + y*y\n",
    "        if rayon2 > 10*10:\n",
    "            nb_points = 0\n",
    "        else:\n",
    "            for r in range(10, 0, -1):\n",
    "                if rayon2 <= r*r:\n",
    "                    nb_points = 20 - r\n",
    "        \n",
    "    return nb_points\n",
    "\n",
    "    \n",
    "# Entrées\n",
    "abs = float(input(\"abscisse flechette : \"))\n",
    "ord = float(input(\"ordonnée flechette : \"))\n",
    "\n",
    "# traitement\n",
    "points = darts(abs, ord)\n",
    "\n",
    "# Affichage\n",
    "print(\"tu gagnes \", points, \"points\")"
   ]
  },
  {
   "cell_type": "markdown",
   "metadata": {
    "slideshow": {
     "slide_type": "skip"
    }
   },
   "source": [
    "# Fonctions"
   ]
  },
  {
   "cell_type": "code",
   "execution_count": null,
   "metadata": {
    "jupyter": {
     "source_hidden": true
    },
    "slideshow": {
     "slide_type": "skip"
    }
   },
   "outputs": [],
   "source": [
    "def puissance(x : float, n : int) -> float:\n",
    "    '''calcule x**n pour :\n",
    "    x, n : int (entrées) \n",
    "    retourne res : int\n",
    "    - traite les cas particulier : x==0, n==0, n<0 '''\n",
    "    if x == 0:\n",
    "        return 0\n",
    "    if n == 0:\n",
    "        return 1\n",
    "    elif n > 0:\n",
    "        res = 1\n",
    "        for i in range(n):\n",
    "            res = res * x\n",
    "        return res\n",
    "    else: # n < 0 \n",
    "        return None\n",
    "\n",
    "#des appels \n",
    "r1 = puissance(0, 1)\n",
    "print(\"r1=\", r1)\n",
    "\n",
    "un = 1\n",
    "encore_un = puissance(un, 3)\n",
    "print(\"encore_un=\", encore_un)\n",
    "\n",
    "for i in range(10):\n",
    "    r = puissance(2, i)\n",
    "    print(\"2 **\", i, \"=\", r)\n",
    "\n",
    "bof = puissance(3, -1)\n",
    "print(bof)"
   ]
  },
  {
   "cell_type": "code",
   "execution_count": null,
   "metadata": {},
   "outputs": [],
   "source": [
    "def perm(a : int, b : int) -> None:\n",
    "    '''procedure de permutation\n",
    "    avec variable supplémentaire'''\n",
    "    t = a\n",
    "    a = b\n",
    "    b = t\n",
    "    return None\n",
    "\n",
    "def perm2(a : int, b : int) -> None:\n",
    "    '''procedure de permutation\n",
    "    solution avec des entiers et sans variable intermédiaire'''\n",
    "    a = a + b\n",
    "    b = a - b\n",
    "    a = a - b\n",
    "    return None\n",
    "\n",
    "x = 5\n",
    "y = 10\n",
    "print(x, y)\n",
    "perm(x, y)\n",
    "print(x, y)\n",
    "perm2(x, y)\n",
    "print(x, y)"
   ]
  },
  {
   "cell_type": "markdown",
   "metadata": {},
   "source": [
    "## Exercice 7\n",
    "\n",
    "Soit T un tableau de n valeurs réelles. On souhaite normaliser les valeurs de T , c’est-à-dire, remplacer T [i] par (T [i] − min)/(max − min), où min et max sont la plus petite et plus grande valeur de T , respectivement.\n",
    "􏰀\n",
    "\n",
    "### Écrire une programme qui\n",
    "— lit la taille n et la valeur des éléments de T ,  \n",
    "— affiche le contenu de T,  \n",
    "— normalise les valeurs de T,  \n",
    "— et affiche à nouveau le contenu de T ."
   ]
  },
  {
   "cell_type": "code",
   "execution_count": 2,
   "metadata": {},
   "outputs": [
    {
     "name": "stdout",
     "output_type": "stream",
     "text": [
      "n:3\n",
      "T()1\n",
      "T()2\n",
      "T()3\n",
      "[1.0, 2.0, 3.0]\n",
      "1.0\n",
      "3.0\n",
      "[0.0, 0.5, 1.0]\n"
     ]
    }
   ],
   "source": [
    "# entrées\n",
    "n = int(input(\"n:\"))\n",
    "T = [0 for i in range(n)]\n",
    "for i in range(n):\n",
    "    T[i] = float(input(\"T()\"))\n",
    "    \n",
    "#afficher T\n",
    "print(T)\n",
    "\n",
    "# normaliser T\n",
    "min = T[0]\n",
    "max = T[0]\n",
    "for i in range(1, len(T)):\n",
    "    if T[i] < min:\n",
    "        min = T[i]      \n",
    "    if T[i] > max:\n",
    "        max = T[i]\n",
    "\n",
    "for i in range(len(T)):      \n",
    "    T[i] = (T[i] - min) / (max - min)    \n",
    "        \n",
    "        \n",
    "print(min)\n",
    "print(max) \n",
    "\n",
    "\n",
    "#afficher T\n",
    "print(T)\n",
    "\n"
   ]
  },
  {
   "cell_type": "code",
   "execution_count": null,
   "metadata": {},
   "outputs": [],
   "source": []
  },
  {
   "cell_type": "code",
   "execution_count": null,
   "metadata": {},
   "outputs": [],
   "source": []
  },
  {
   "cell_type": "code",
   "execution_count": null,
   "metadata": {},
   "outputs": [],
   "source": []
  },
  {
   "cell_type": "code",
   "execution_count": null,
   "metadata": {},
   "outputs": [],
   "source": []
  },
  {
   "cell_type": "code",
   "execution_count": null,
   "metadata": {},
   "outputs": [],
   "source": []
  },
  {
   "cell_type": "code",
   "execution_count": null,
   "metadata": {},
   "outputs": [],
   "source": []
  },
  {
   "cell_type": "code",
   "execution_count": null,
   "metadata": {},
   "outputs": [],
   "source": []
  }
 ],
 "metadata": {
  "kernelspec": {
   "display_name": "Python 3 (ipykernel)",
   "language": "python",
   "name": "python3"
  },
  "language_info": {
   "codemirror_mode": {
    "name": "ipython",
    "version": 3
   },
   "file_extension": ".py",
   "mimetype": "text/x-python",
   "name": "python",
   "nbconvert_exporter": "python",
   "pygments_lexer": "ipython3",
   "version": "3.9.6"
  },
  "latex_envs": {
   "LaTeX_envs_menu_present": true,
   "autoclose": false,
   "autocomplete": true,
   "bibliofile": "biblio.bib",
   "cite_by": "apalike",
   "current_citInitial": 1,
   "eqLabelWithNumbers": true,
   "eqNumInitial": 1,
   "hotkeys": {
    "equation": "Ctrl-E",
    "itemize": "Ctrl-I"
   },
   "labels_anchors": false,
   "latex_user_defs": false,
   "report_style_numbering": true,
   "user_envs_cfg": false
  },
  "toc": {
   "nav_menu": {},
   "number_sections": true,
   "sideBar": false,
   "skip_h1_title": false,
   "title_cell": "Table des matières",
   "title_sidebar": "TdM",
   "toc_cell": true,
   "toc_position": {},
   "toc_section_display": true,
   "toc_window_display": false
  }
 },
 "nbformat": 4,
 "nbformat_minor": 4
}
