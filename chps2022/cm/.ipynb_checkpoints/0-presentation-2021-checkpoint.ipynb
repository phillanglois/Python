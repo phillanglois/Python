{
 "cells": [
  {
   "cell_type": "markdown",
   "metadata": {
    "slideshow": {
     "slide_type": "slide"
    }
   },
   "source": [
    "# Algorithmique et Programmation en 2021\n",
    "\n",
    "Vous : **L1 math-info**  \n",
    "\n",
    "Moi : [**Philippe Langlois**](langlois@univ-perp.fr)  \n",
    "\n",
    "Comment me contacter : _PAR E-MAIL_  \n",
    "\n",
    "Comment me rencontrer : sur RDV _DEMANDÉ PAR E-MAIL_  \n",
    "\n",
    "Où me rencontrer : au bâtiment B, étage 1, à gauche (laboratoire DALI).\n",
    "\n"
   ]
  },
  {
   "cell_type": "markdown",
   "metadata": {
    "slideshow": {
     "slide_type": "slide"
    },
    "toc": "true"
   },
   "source": [
    "<h1>Table of Contents<span class=\"tocSkip\"></span></h1>\n",
    "<div class=\"toc\"><ul class=\"toc-item\"><li><span><a href=\"#Algorithmique-et-Programmation-en-2021\" data-toc-modified-id=\"Algorithmique-et-Programmation-en-2021-1\"><span class=\"toc-item-num\">1&nbsp;&nbsp;</span>Algorithmique et Programmation en 2021</a></span><ul class=\"toc-item\"><li><span><a href=\"#Algorithmique-:-organisation\" data-toc-modified-id=\"Algorithmique-:-organisation-1.1\"><span class=\"toc-item-num\">1.1&nbsp;&nbsp;</span>Algorithmique : organisation</a></span><ul class=\"toc-item\"><li><span><a href=\"#Contrôle-de-connaissances\" data-toc-modified-id=\"Contrôle-de-connaissances-1.1.1\"><span class=\"toc-item-num\">1.1.1&nbsp;&nbsp;</span>Contrôle de connaissances</a></span></li><li><span><a href=\"#CM\" data-toc-modified-id=\"CM-1.1.2\"><span class=\"toc-item-num\">1.1.2&nbsp;&nbsp;</span>CM</a></span></li><li><span><a href=\"#TD\" data-toc-modified-id=\"TD-1.1.3\"><span class=\"toc-item-num\">1.1.3&nbsp;&nbsp;</span>TD</a></span></li></ul></li><li><span><a href=\"#Programmation-:-organisation\" data-toc-modified-id=\"Programmation-:-organisation-1.2\"><span class=\"toc-item-num\">1.2&nbsp;&nbsp;</span>Programmation : organisation</a></span><ul class=\"toc-item\"><li><span><a href=\"#Contrôle-de-connaissances\" data-toc-modified-id=\"Contrôle-de-connaissances-1.2.1\"><span class=\"toc-item-num\">1.2.1&nbsp;&nbsp;</span>Contrôle de connaissances</a></span></li><li><span><a href=\"#TP\" data-toc-modified-id=\"TP-1.2.2\"><span class=\"toc-item-num\">1.2.2&nbsp;&nbsp;</span>TP</a></span></li><li><span><a href=\"#Acquis-et-prérequis\" data-toc-modified-id=\"Acquis-et-prérequis-1.2.3\"><span class=\"toc-item-num\">1.2.3&nbsp;&nbsp;</span>Acquis et prérequis</a></span></li></ul></li><li><span><a href=\"#IMPORTANT-:-spécificités-période-COVID\" data-toc-modified-id=\"IMPORTANT-:-spécificités-période-COVID-1.3\"><span class=\"toc-item-num\">1.3&nbsp;&nbsp;</span>IMPORTANT : spécificités période COVID</a></span><ul class=\"toc-item\"><li><span><a href=\"#Consignes-pour-le-distanciel\" data-toc-modified-id=\"Consignes-pour-le-distanciel-1.3.1\"><span class=\"toc-item-num\">1.3.1&nbsp;&nbsp;</span>Consignes pour le distanciel</a></span></li><li><span><a href=\"#Organisation\" data-toc-modified-id=\"Organisation-1.3.2\"><span class=\"toc-item-num\">1.3.2&nbsp;&nbsp;</span>Organisation</a></span></li><li><span><a href=\"#A-ce-jour-:-26.01.2021.\" data-toc-modified-id=\"A-ce-jour-:-26.01.2021.-1.3.3\"><span class=\"toc-item-num\">1.3.3&nbsp;&nbsp;</span>A ce jour : 26.01.2021.</a></span></li></ul></li><li><span><a href=\"#Algorithmique-:-programme-détaillé\" data-toc-modified-id=\"Algorithmique-:-programme-détaillé-1.4\"><span class=\"toc-item-num\">1.4&nbsp;&nbsp;</span>Algorithmique : programme détaillé</a></span></li><li><span><a href=\"#Programmation--:-programme-détaillé\" data-toc-modified-id=\"Programmation--:-programme-détaillé-1.5\"><span class=\"toc-item-num\">1.5&nbsp;&nbsp;</span>Programmation  : programme détaillé</a></span></li><li><span><a href=\"#Supports-de-cours\" data-toc-modified-id=\"Supports-de-cours-1.6\"><span class=\"toc-item-num\">1.6&nbsp;&nbsp;</span>Supports de cours</a></span><ul class=\"toc-item\"><li><span><a href=\"#Les-pdf-sur-moodle\" data-toc-modified-id=\"Les-pdf-sur-moodle-1.6.1\"><span class=\"toc-item-num\">1.6.1&nbsp;&nbsp;</span>Les pdf sur moodle</a></span></li><li><span><a href=\"#Les-notebook-python-sur-moodle\" data-toc-modified-id=\"Les-notebook-python-sur-moodle-1.6.2\"><span class=\"toc-item-num\">1.6.2&nbsp;&nbsp;</span>Les notebook python sur moodle</a></span></li><li><span><a href=\"#Interactions-et-évolutions-des-supports\" data-toc-modified-id=\"Interactions-et-évolutions-des-supports-1.6.3\"><span class=\"toc-item-num\">1.6.3&nbsp;&nbsp;</span>Interactions et évolutions des supports</a></span></li></ul></li><li><span><a href=\"#Travailler-en-python\" data-toc-modified-id=\"Travailler-en-python-1.7\"><span class=\"toc-item-num\">1.7&nbsp;&nbsp;</span>Travailler en python</a></span><ul class=\"toc-item\"><li><span><a href=\"#IMPORTANT-:-De-quoi-a-t-on-absolument-besoin-?\" data-toc-modified-id=\"IMPORTANT-:-De-quoi-a-t-on-absolument-besoin-?-1.7.1\"><span class=\"toc-item-num\">1.7.1&nbsp;&nbsp;</span>IMPORTANT : De quoi a-t-on <em>absolument</em> besoin ?</a></span></li><li><span><a href=\"#En-pratique\" data-toc-modified-id=\"En-pratique-1.7.2\"><span class=\"toc-item-num\">1.7.2&nbsp;&nbsp;</span>En pratique</a></span><ul class=\"toc-item\"><li><span><a href=\"#Installer-un-environnement-python\" data-toc-modified-id=\"Installer-un-environnement-python-1.7.2.1\"><span class=\"toc-item-num\">1.7.2.1&nbsp;&nbsp;</span>Installer un environnement python</a></span></li><li><span><a href=\"#Distributions-python-classiques\" data-toc-modified-id=\"Distributions-python-classiques-1.7.2.2\"><span class=\"toc-item-num\">1.7.2.2&nbsp;&nbsp;</span>Distributions python classiques</a></span></li><li><span><a href=\"#Environnement-de-travail-en-autonomie-pour-machine-étudiant\" data-toc-modified-id=\"Environnement-de-travail-en-autonomie-pour-machine-étudiant-1.7.2.3\"><span class=\"toc-item-num\">1.7.2.3&nbsp;&nbsp;</span>Environnement de travail en autonomie pour machine étudiant</a></span></li></ul></li></ul></li><li><span><a href=\"#Références-bibliographiques\" data-toc-modified-id=\"Références-bibliographiques-1.8\"><span class=\"toc-item-num\">1.8&nbsp;&nbsp;</span>Références bibliographiques</a></span><ul class=\"toc-item\"><li><span><a href=\"#Algo-et-prog\" data-toc-modified-id=\"Algo-et-prog-1.8.1\"><span class=\"toc-item-num\">1.8.1&nbsp;&nbsp;</span>Algo et prog</a></span><ul class=\"toc-item\"><li><span><a href=\"#Ellipses\" data-toc-modified-id=\"Ellipses-1.8.1.1\"><span class=\"toc-item-num\">1.8.1.1&nbsp;&nbsp;</span>Ellipses</a></span></li><li><span><a href=\"#Hatier\" data-toc-modified-id=\"Hatier-1.8.1.2\"><span class=\"toc-item-num\">1.8.1.2&nbsp;&nbsp;</span>Hatier</a></span></li><li><span><a href=\"#Nathan\" data-toc-modified-id=\"Nathan-1.8.1.3\"><span class=\"toc-item-num\">1.8.1.3&nbsp;&nbsp;</span>Nathan</a></span></li></ul></li><li><span><a href=\"#Approfondisssement-en-algo\" data-toc-modified-id=\"Approfondisssement-en-algo-1.8.2\"><span class=\"toc-item-num\">1.8.2&nbsp;&nbsp;</span>Approfondisssement en algo</a></span></li><li><span><a href=\"#Approfondisssement-en-programmation-Python\" data-toc-modified-id=\"Approfondisssement-en-programmation-Python-1.8.3\"><span class=\"toc-item-num\">1.8.3&nbsp;&nbsp;</span>Approfondisssement en programmation Python</a></span></li><li><span><a href=\"#Outils\" data-toc-modified-id=\"Outils-1.8.4\"><span class=\"toc-item-num\">1.8.4&nbsp;&nbsp;</span>Outils</a></span></li></ul></li><li><span><a href=\"#Conclusion\" data-toc-modified-id=\"Conclusion-1.9\"><span class=\"toc-item-num\">1.9&nbsp;&nbsp;</span>Conclusion</a></span></li></ul></li></ul></div>"
   ]
  },
  {
   "cell_type": "markdown",
   "metadata": {
    "slideshow": {
     "slide_type": "slide"
    }
   },
   "source": [
    "## Algorithmique : organisation \n",
    "\n",
    "- 14 séances de CM : 1.5h/semaine sauf semaine 1 (2 séances)\n",
    "- 14 séances de TD : 1.5h/semaine sauf semaines 1, 12 et 13 (resp. 0, 2, 2 séances)\n",
    "- 3 groupes de TD\n",
    "    - Ph. Langlois, Farah Benmouhoub, Thierry Arrabal \n"
   ]
  },
  {
   "cell_type": "markdown",
   "metadata": {
    "slideshow": {
     "slide_type": "fragment"
    }
   },
   "source": [
    "### Contrôle de connaissances\n",
    "\n",
    "- Premier contrôle écrit à mi-parcours (CC), 2 heures  :  \n",
    "__jeudi 1 avril 2021__ (date à confirmer mais ce n'est pas un poisson :) = mi-parcours et programme correspondant  \n",
    "\n",
    "- Second contrôle écrit (CT), 2 heures  \n",
    "semaine des examens et qui porte sur la totalité du programme\n",
    "\n",
    "- Evaluation :  moyenne(CC, CT)  "
   ]
  },
  {
   "cell_type": "markdown",
   "metadata": {
    "slideshow": {
     "slide_type": "fragment"
    }
   },
   "source": [
    "### CM\n",
    "\n",
    "- séance de 1h25\n",
    "- 45-50 min de \"matière de cours\"\n",
    "- 25 min d'exercices dirigés et d'interactions\n",
    "- 5 min de culture générale en info : outils, historique, ...\n",
    "- 5 min de démarrage technique : faut bien !"
   ]
  },
  {
   "cell_type": "markdown",
   "metadata": {
    "slideshow": {
     "slide_type": "fragment"
    }
   },
   "source": [
    "### TD\n",
    "\n",
    "- séance de 1h25\n",
    "- par groupe de 2 à __4__\n",
    "- **objectif 10** ou **objectif 20**  \n",
    "    - feuilles de TD en 2 parties\n",
    "    - objectif 10 : \n",
    "        - applications basiques du cours, démarche guidée\n",
    "        - pour celles et ceux qui ne veulent pas continuer en informatique au delà du L2 math-info  \n",
    "    - objectif 20 : \n",
    "        - applications plus avancées du cours, démarche plus autonome\n",
    "        - pour celles et ceux qui **veulent continuer** en licence et master informatique, CAPES  informatique (nouveau !), ...\n",
    "    - comment choisir son niveau d'objectif ?\n",
    "        - note algo semestre 1 < 10 --> objectif 10\n",
    "        - le choix n'est pas définitif\n",
    "        - méthodologie : __chaque (groupe) d'étudiants__ définit __son rythme__ en suivant le parcours proposé par le chargé de TD.  "
   ]
  },
  {
   "cell_type": "markdown",
   "metadata": {
    "slideshow": {
     "slide_type": "slide"
    }
   },
   "source": [
    "## Programmation : organisation\n",
    "\n",
    "- 11 séances de CM : 2h/semaine (4) puis 1h/semaine (7)\n",
    "- 10 séances  de TP : 1.5h/semaine (4) puis 3h/semaine \n",
    "- 5 groupes de TP\n",
    "    - Ph. Langlois, Vincent Zucca, Hanane Benmaghnia, Téo Plenet, Farah Benmouhoub\n",
    "   "
   ]
  },
  {
   "cell_type": "markdown",
   "metadata": {
    "slideshow": {
     "slide_type": "fragment"
    }
   },
   "source": [
    "### Contrôle de connaissances\n",
    "\n",
    "- Contrôle continu (CC) :   \n",
    "    - 2 TP \"en temps limité\", cad. à rendre __avec dead-line__ de dépôt \n",
    "    - **vendredi 20 mars 2021 et vendredi 10 avril 2021** \n",
    "    \n",
    "- Contrôle terminal _sur machine_ (CT) : 3 heures  \n",
    "    - **vendredi 15 mai 2021**  (date à confirmer)  \n",
    "    \n",
    "- Evaluation : moyenne(CC, CT) avec CC = moyenne(2 TP)"
   ]
  },
  {
   "cell_type": "markdown",
   "metadata": {
    "slideshow": {
     "slide_type": "fragment"
    }
   },
   "source": [
    "### TP\n",
    "\n",
    "- 1 TP = un _notebook jupyter_   \n",
    "\n",
    "- codage, expérimentation et approfondissement :\n",
    "    - des TD d'algo \n",
    "    - du CM de Programmation  \n",
    "\n",
    "- exemples de TP avec dead-line (pour l'évaluation de CC) :  \n",
    "    - mini base de données  \n",
    "    - traitement d'images  \n",
    "    - cryptographie   \n",
    "\n",
    "\n",
    "    "
   ]
  },
  {
   "cell_type": "markdown",
   "metadata": {
    "slideshow": {
     "slide_type": "slide"
    }
   },
   "source": [
    "### Acquis et prérequis\n",
    "\n",
    "- Savoir différencier les _types_ de données :  \n",
    "    - type scalaire : booléen, entier, réels, caractères  \n",
    "    - type composés : chaîne de caractères, vecteur, matrice, ...  \n",
    "\n",
    "- Connaître leur _représentation_ dans un langage informatique donné  \n",
    "    - `bool`, `int`, `float`, `str`, `list`  \n",
    "    - et les changement de types associés : `int()`, `float()`, ...  "
   ]
  },
  {
   "cell_type": "markdown",
   "metadata": {
    "slideshow": {
     "slide_type": "subslide"
    }
   },
   "source": [
    "- Bien différencier _valeur_ vs. _variable_ vs. _constante_  \n",
    "    - _évaluation_   \n",
    "    - et comprendre comment le modèle d'exécution en modifie l'état  \n",
    "    - _affectation_ : `=`  "
   ]
  },
  {
   "cell_type": "markdown",
   "metadata": {
    "slideshow": {
     "slide_type": "subslide"
    }
   },
   "source": [
    "- Bien comprendre le modèle _séquentiel_ de l'exécution d'un algorithme   \n",
    "    - _instruction_   \n",
    "    - _expression_ (\"formule\")   \n",
    "\n",
    "- Comprendre que les structures de contrôle permettent de _casser_ la séquentialité de l'exécution d'un algorithme  \n",
    "    - branchement conditionnel  : _choisir_   \n",
    "        - `if ...:`, `elif ...:`,  `else:`  \n",
    "    - répétitions : _répéter_  \n",
    "        - `while`  \n",
    "        - `for . in ...`, (`break`, `continue`)   \n",
    "    "
   ]
  },
  {
   "cell_type": "markdown",
   "metadata": {
    "slideshow": {
     "slide_type": "subslide"
    }
   },
   "source": [
    "- Distinguer : les _entrées_ vs. le _traitement_ vs. la _sortie_  \n",
    "    - `input()`, `print()`  \n",
    "\n",
    "- Spécificités python  \n",
    "    - _indentation_  \n",
    "    - typage dynamique  "
   ]
  },
  {
   "cell_type": "markdown",
   "metadata": {
    "slideshow": {
     "slide_type": "slide"
    }
   },
   "source": [
    "## IMPORTANT : spécificités période COVID\n",
    "\n",
    "### Consignes pour le distanciel \n",
    "\n",
    "- Il est de votre responsabilité d'avoir une connection et un environnement fonctionnels\n",
    "- Votre environnement doit comporter un micro, une caméra, et un débit suffisant à leur utilisation.  \n",
    "    - On trouve sur le net des caméras usb pour 2€ (voire moins) donc il est difficile d'accepter l'absence de caméra opérationnelle -- en cette période. \n",
    "- La connection sous zoom doit faire apparaitre explicitement vos **Nom et  Prénom, dans cet ordre**.\n",
    "- La **caméra doit être active** pendant toute la séance, sauf raison indiquée préalablement par e-mail à mon attention et ou indication **explicite** de l'enseignant.\n",
    "    - En pratique, l'enseignant peut demander nominativement à un.e étudiant.e d'activer ou de désactiver sa caméra.\n",
    "- En revanche, le micro doit être **systématiquement désactivé** pendant toute la séance\n",
    "    - En pratique, l'enseignant peut demander nominativement à un.e étudiant.e d'activer son micro."
   ]
  },
  {
   "cell_type": "markdown",
   "metadata": {
    "slideshow": {
     "slide_type": "subslide"
    }
   },
   "source": [
    "### Organisation\n",
    "\n",
    "**Ce qui suit est susceptible de modifications importantes, difficilement anticipables et indépendantes de notre volonté. Une communication par e-mail (via l'ENT) sera systématiquement effectuée en cas de modification. Bien sûr, cet engagement n'engage que ces enseignements d'algorithmique et de programmation, semestre 2, L1 math-info.**"
   ]
  },
  {
   "cell_type": "markdown",
   "metadata": {
    "slideshow": {
     "slide_type": "subslide"
    }
   },
   "source": [
    "### A ce jour : 26.01.2021.\n",
    "\n",
    "- Les séances de CM, TD et TP ont lieu aux jours et heures indiquées sur l'emploi du temps en ligne.\n",
    "- Les CM sont dispensés en distanciel par zoom -- relire les consignes du paragraphe précédent.  \n",
    "- Les TP de programmation sont organisés en distanciel et par groupe de TP sous l'encadrement et la responsabilité de l'enseignant de TP -- relire les consignes du paragraphe précédent.\n",
    "- **Les infos de connection sont diffusées par e-mail 1/4h environ avant le démarrage de chaque séance.**\n",
    "\n"
   ]
  },
  {
   "cell_type": "markdown",
   "metadata": {
    "slideshow": {
     "slide_type": "subslide"
    }
   },
   "source": [
    "**Cas particulier des TD d'algorithmique :**\n",
    "\n",
    "Afin de maximiser votre interaction avec un enseignant tout en respectant les contraintes sanitaires (1/2 occupation des salles) et les consignes ministérielles (TD en présentiel à 50%), nous adoptons l'organisation suivante :\n",
    "\n",
    "- La moitié de la promotion (un premier méta-groupe) sera en _TD présentiel_ une semaine sur deux, l'autre moitié (un second méta-groupe) en _TD distanciel_ au **même moment**.\n",
    "- Chaque méta-groupe est composée d'étudiants des groupes TD1, TD2 et TD3.\n",
    "    - Un découpage de ces 2 méta-groupes _est_ indiquée sous l'ENT. \n",
    "    - Si besoin de changer de semaine en présentiel, me contacter **dès maintenant** par e-mail et avec des arguments précis et fondés.  \n",
    "\n",
    "Le scénario suivant s'applique alternativement à chaque méta-groupe chaque semaine : semaines paires vs. semaines impaires.\n",
    "- Le méta-groupe en présentiel est réparti dans deux salles de TD, chacune avec un.e chargé.e de TD.\n",
    "- Le méta-groupe en distanciel (au même moment) est dans une des deux configurations suivantes (à affiner avec l'expérience) :\n",
    "    - successivement par moitié pour 45 minutes (essai les 2 première semaines);\n",
    "    - ou tous pendant 1h30.    \n",
    "\n",
    "Ainsi les enseignants de TD seront avec vous chaque semaine : une semaine sur deux en présentiel, l'autre en distanciel. "
   ]
  },
  {
   "cell_type": "markdown",
   "metadata": {
    "slideshow": {
     "slide_type": "slide"
    }
   },
   "source": [
    "## Algorithmique : programme détaillé\n",
    "\n",
    "1. utilisation avancée de boucles et de tableaux\n",
    "    - boucles imbriquées, indépendantes ou non\n",
    "    - traitements divers avec des tableaux 1D ou plus \n",
    "    - premières estimations de complexité "
   ]
  },
  {
   "cell_type": "markdown",
   "metadata": {
    "slideshow": {
     "slide_type": "subslide"
    }
   },
   "source": [
    "2. complexité\n",
    "    - combien _coûte_ un algorithme pour résoudre un pb donné ?  \n",
    "    - combien de temps ? combien de place mémoire ?  \n",
    "    - tous les problèmes coûtent pareils ?  \n",
    "    - notions : complexité en temps, pire cas, complexité asymptotique  \n",
    "5. exemple d'algos plutôt numériques et leurs complexités\n",
    "    - différentes évaluations de polynômes "
   ]
  },
  {
   "cell_type": "markdown",
   "metadata": {
    "slideshow": {
     "slide_type": "subslide"
    }
   },
   "source": [
    "4. récursivité : \n",
    "    - **la notion centrale du semestre**\n",
    "    - principes \n",
    "    - applications \n",
    "    - notions : itératif vs. récursif, pile/arbre des appels, complexité\n",
    "    - Remarque : la récursion s'appuie sur la notion de _fonction_ qui est donc étudiée de façon simultanée en Algorithmique et Programmation  "
   ]
  },
  {
   "cell_type": "markdown",
   "metadata": {
    "slideshow": {
     "slide_type": "subslide"
    }
   },
   "source": [
    "5. rechercher \n",
    "    - recherche séquentielle\n",
    "    - recherche dichotomique \n",
    "    - notions : les algos, leurs complexités, (les preuves)   \n",
    "6. trier \n",
    "    - tris itératif : algos, complexité, (preuve)   \n",
    "    - tris  récursifs : algo, complexité, (preuve)   "
   ]
  },
  {
   "cell_type": "markdown",
   "metadata": {
    "slideshow": {
     "slide_type": "subslide"
    }
   },
   "source": [
    "7. compléments si assez de temps : prouver la terminaison et la correction d'un algorithme\n",
    "    - l'algo fournit la/les solution/s en un temps fini\n",
    "    - l'algo résoud bien le pb\n",
    "    - notions : invariant de boucle, preuve de terminaison"
   ]
  },
  {
   "cell_type": "markdown",
   "metadata": {
    "slideshow": {
     "slide_type": "slide"
    }
   },
   "source": [
    "## Programmation  : programme détaillé\n",
    "\n",
    "1. types de donnnées scalaires\n",
    "    - rappels \n",
    "    - approfondissement : introspection  "
   ]
  },
  {
   "cell_type": "markdown",
   "metadata": {
    "slideshow": {
     "slide_type": "subslide"
    }
   },
   "source": [
    "2. fonctions \n",
    "    - en-tête, corps, appel, paramètres formels et effectifs. \n",
    "    - portée, visibilité, variables locales vs. paramètres  \n",
    "    - mode de passage des paramètres\n",
    "    - exemples du cours : doubler, permuter  "
   ]
  },
  {
   "cell_type": "markdown",
   "metadata": {
    "slideshow": {
     "slide_type": "subslide"
    }
   },
   "source": [
    "3. tableaux 1D \n",
    "    - rappel : avec des listes python (`lst`)\n",
    "    - avec des `ndarray` de `numpy`\n",
    "    - exemples du cours : Lire, stocker, moyenne/min/max d'un tableau (valeurs, indices)\n",
    "\n",
    "4. tableaux 2D, 3D ; application au traitement d'images\n",
    "    - avec des listes (de listes) python  \n",
    "    - avec des `ndarray` de `numpy`\n",
    "    - images et matrices  \n",
    "    - boucles imbriquées  \n",
    "    - exemples du cours : \n",
    "        - traitement d'images : initialisation niveaux de gris, transformations d'images (miroir, contraste, contours, ...) \n",
    "        - algorithmes sur les matrices : vérification (identité, symétrie), calcul (produit de matrices,...) , génération de formes particulières (transposée, ...)"
   ]
  },
  {
   "cell_type": "markdown",
   "metadata": {
    "slideshow": {
     "slide_type": "subslide"
    }
   },
   "source": [
    "5. autres types de données composés\n",
    "    - listes (`lst`) : fonctions et méthodes\n",
    "    - n-uplets (`tuple`), ensembles (`set`), dictionnaires (`dict`)\n",
    "6. entrées/sorties et fichiers\n",
    "7. modules\n",
    "    - utilisation de modules existants \n",
    "    - exemple d'outils :`numpy`, `scipy`, `matplotlib`, `time` \n",
    "    - définition de ses modules\n",
    "9. exceptions"
   ]
  },
  {
   "cell_type": "markdown",
   "metadata": {
    "slideshow": {
     "slide_type": "slide"
    }
   },
   "source": [
    "## Supports de cours\n",
    "\n",
    "### Les pdf sur moodle \n",
    "\n",
    "- feuilles des sujets de TD (algo) et TP (prog)  \n",
    "- sujets et correction des CC et CT des années précédentes"
   ]
  },
  {
   "cell_type": "markdown",
   "metadata": {
    "slideshow": {
     "slide_type": "fragment"
    }
   },
   "source": [
    "### Les notebook python sur moodle\n",
    "\n",
    "Version `html` des notebooks jupyter présentés en CM.\n",
    "\n",
    "\n",
    "Et aussi certains :\n",
    "- sujets et corrections TD \n",
    "- sujets et corrections contrôles, devoirs et examens des années précédentes"
   ]
  },
  {
   "cell_type": "markdown",
   "metadata": {
    "slideshow": {
     "slide_type": "fragment"
    }
   },
   "source": [
    "### Interactions et évolutions des supports\n",
    "\n",
    "__Evolution en 2021 :__ \n",
    "\n",
    "Un notebook supplémentaire `Complements-2021.ipynb` est mis à jour à chaque séance, et sur moodle en version html.\n",
    "\n",
    "Les autres supports (CM, TD, TP) sont mis à jour en cas d'erreur importante.  \n",
    "\n"
   ]
  },
  {
   "cell_type": "markdown",
   "metadata": {
    "slideshow": {
     "slide_type": "slide"
    }
   },
   "source": [
    "## Travailler en python\n",
    "\n",
    "Il est indispensable :\n",
    "\n",
    "- d'avoir accès à un environnement de programmation python, si possible assez complet,\n",
    "\n",
    "- d'avoir son propre ordinateur configuré de façon complète et selon vos préférences.    \n",
    "\n",
    "Il y a déjà 3 choix d'OS possibles : windows, linux et mac os ; les 2 premiers étant disponibles sur les ordinateurs de l'UPVD.    \n",
    "\n",
    "Ensuite, les [distributions python](#En%20pratique) sont assez variées, et peuvent différer selon les OS .\n",
    "\n",
    "Il est aisé _pour chacun_ de trouver ce qui correspond à ses contraintes matérielles et ses envies.  "
   ]
  },
  {
   "cell_type": "markdown",
   "metadata": {
    "slideshow": {
     "slide_type": "fragment"
    }
   },
   "source": [
    "### IMPORTANT : De quoi a-t-on *absolument* besoin ?\n",
    "Ce qui suit est une liste minimale de composants utiles cette année et les années à venir. \n",
    "Elle peut sembler longue mais en pratique, ces composants \"arrivent\" d'un seul coup avec une distribution -- cf. paragraphe suivant.  \n",
    "\n",
    "\n",
    "- l'`IDLE` python 3  \n",
    "    - éditeur, interpréteur, débugger utilisé en TP au semestre 1\n",
    "- `jupyter notebook`  \n",
    "    - pour intégrer dans _un unique fichier_ du texte, des maths ($\\LaTeX$) et du code python qui s'exécute, les résultats de ces éxecutions (valeurs, courbes, images, ...) et exporter tout ça en `html`ou `pdf` ou en `slide`  \n",
    "    - très utile pour les exercices \n",
    "    - _utilisé pour les TP de programmation à rendre_\n",
    "    - utilisable dans toutes les matières ou presque    \n",
    "    \n",
    "- les gestionnaire de paquets (modules) python pour compléter et mettre à jour son environnement\n",
    "    - `conda`: plus complet si distribution anaconda utilisée (solution recommandée)  \n",
    "    - `pip` : classique   \n",
    "    - Exemple d'utilisation : \n",
    "        - `conda` : `conda list`, `pip install le_module_que_je_veux` et voilà, c'est fini ! \n",
    "        - `pip` : pareil `list`, `update`, `install`  \n",
    "\n",
    "- modules indispensables \n",
    "    - `numpy ` : fournit des _vrais_ tableaux multi-dimentionnels et des tas de fonctions et types numériques pour effectuer du calcul\n",
    "    - `matplotlib`: pour le traitement graphique de données, et en particulier :\n",
    "        -  `matplotlib.pyplot` pour des affichages élaborés\n",
    "        -  `matplotlib.image`  pour le traitement d'images\n",
    "    - `tkinter` : pour réaliser des interfaces graphiques  \n",
    "    \n",
    "- modules utiles mais optionnels cette année  \n",
    "    - `scipy `: scientific python qui rassemble des modules de calcul scientifiques (dont `numpy`) "
   ]
  },
  {
   "cell_type": "markdown",
   "metadata": {
    "slideshow": {
     "slide_type": "slide"
    }
   },
   "source": [
    "**Pièges**\n",
    "- Ne pas confondre `python 2` et `python 3` \n",
    "\n",
    "**Conseil**\n",
    "- Choisir une distribution la plus complète possible dès le début.   "
   ]
  },
  {
   "cell_type": "markdown",
   "metadata": {
    "slideshow": {
     "slide_type": "fragment"
    }
   },
   "source": [
    "### En pratique\n",
    "\n",
    "#### Installer un environnement python\n",
    "\n",
    "On conseille d'installer la distribution Anaconda.  \n",
    "Dans ce cadre, on peut s'aider des  liens ci-après.\n",
    "Le web est bien sûr plein de tutos et autres sites explicatifs ...\n",
    "\n",
    "- [Un tutoriel](https://zestedesavoir.com/tutoriels/1448/installer-un-environnement-de-developpement-python-avec-conda/)  \n",
    "- [Un autre](https://www.davidculley.com/installing-python-on-a-mac/) pour mac mais/et en anglais, très complet : le début seul devrait vous suffire.\n",
    "\n",
    "#### Distributions python classiques  \n",
    "\n",
    "On télécharge, on installe, on travaille !  \n",
    "\n",
    "- [Anaconda](https://www.anaconda.com/products/individual)  : à privilégier (pour son gestionnaire `conda`) sauf choix perso justifié.  \n",
    "- [Enthought Python Distribution](http://www.enthought.com/products/epd.php) : très complet  \n",
    "- [Thonny](https://thonny.org/) Attention : Thonny installe sa propre version de Python par défaut.   \n",
    "- [Pyzo](http://www.pyzo.org)\n",
    "- [SAGEMATH](http://sagemath.org/)  : bcp plus général qu'un simple environnement python. A conseiller pour ceux qui veulent continuer en ... mathématiques.\n",
    "\n",
    "\n",
    "#### Environnement de travail en autonomie pour machine étudiant \n",
    "\n",
    "- [edupython](https://edupython.tuxfamily.org) issu d'AmiensPython mais **[pour windows](http://edupython.tuxfamily.org/documentation/index.php?title=Installation_et_Configuration)**\n",
    "    - Moteur Python : version 3.7.6\n",
    "    - Editeur : PyScripteur (version 3.6.3)\n",
    "    - Administration de base de données : SQLite Database Browser (version 3.11.2)\n",
    "    - **Jupiter notebook préinstallé** \n",
    "    - Module lycée\n",
    "    - Calcul numérique: Numpy (version 1.18.3) et Scipy (version 1.4.1)\n",
    "    - Sorties graphiques: Matplotlib (version 3.1.3)\n",
    "    - Calcul formel: Sympy (version 1.5.1)\n",
    "    - Traitement d'images: PIL (Pillow 7.0.0) et Open CV (Version 4.2.0)\n",
    "    - Liaison série: Serial (version 2.7)\n",
    "    - Base de données: SQLite3 (version standard) et mysql (version 8.0.13)\n",
    "    - Traitement de données: Pandas (version 1.0 3)\n",
    "    - Réalisation de jeux: Pygame (version 1.9.4)\n",
    "    - Autres: pyknon (musique), Nanpy (Arduino), Follium (cartes), scikit-learn (IA)... \n",
    " \n",
    " \n",
    "\n",
    "\n",
    "\n"
   ]
  },
  {
   "cell_type": "markdown",
   "metadata": {
    "slideshow": {
     "slide_type": "slide"
    }
   },
   "source": [
    "## Références bibliographiques\n",
    "\n",
    "### Algo et prog\n",
    "- Informatique pour tous en CPGE avec Python et nouveaux programmes 2013 : \n",
    "\n",
    "    - B. Wack _et al._ (Eyrolles)  \n",
    "    - Th. Audibert et A. Oussalah. (Ellipses)   \n",
    "    - E. Le Nagard (Pearson)\n"
   ]
  },
  {
   "cell_type": "markdown",
   "metadata": {
    "slideshow": {
     "slide_type": "slide"
    }
   },
   "source": [
    "- L'introduction de la spécialité NSI (Numérique et Science Informatique) a donné l'opportunité de la publication de nombreux ouvrages de niveau Première ou Terminale. Le programme de ces classes étant assez ambitieux, ces ouvrages sont de bonnes premières références, voire de très bonnes pour les étudiant.e.s Objectif 10. \n",
    "\n",
    "#### Ellipses\n",
    "\n",
    "Titre : Spécialité Numérique et sciences informatiques : 30 leçons avec exercices corrigés - Première - Nouveaux programmes\n",
    "Auteur(s) : Balabonski Thibaut, Conchon Sylvain, Filliâtre Jean-Christophe, Nguyen Kim\n",
    "Editeur : Ellipses\n",
    "ISBN : 9782340033641 (Première)\n",
    "Volume niveau Terminale en préparation.\n",
    "\n",
    "Titre : Spécialité Numérique et sciences informatiques - Première, , Terminale  - nouveaux programmes\n",
    "Auteur(s) : Serge Bays (Auteur) Bertrand Hauchecorne (Direction) \n",
    "Editeur : Ellipses\n",
    "Collection\tPrepas Sciences\n",
    "ISBN : 2340031729 (Première), 2340038448 (Terminale)\n",
    "\n",
    "Titre : Spécialité NSI (numérique et sciences informatiques) - Première - nouveaux programmes\n",
    "Auteur(s) : Legrand David\n",
    "Editeur : Ellipses\n",
    "Collection Parcours et méthodes\n",
    "ISBN : 9782340038578 (Première),\n",
    "\n",
    "Spécialité Numérique et sciences informatiques - Première - nouveaux programmes\n",
    "Cécile Canu (Auteur) \n",
    "Editeur : Ellipses\n",
    "Collection Competences Attendues\n",
    "ISBN : 2340031788 \n",
    "\n",
    "Titre : Spécialité NSI - Numérique et sciences informatiques - Terminale - nouveaux programmes\n",
    "Auteur(s) : Jean-Christophe Bonnefoy (Auteur) Bertrand Petit (Auteur) \n",
    "Editeur : Ellipses\n",
    "Collection Competences Attendues\n",
    "ISBN :  2340038154 \n",
    "\n",
    "\n",
    "#### Hatier\n",
    "\n",
    "Titre : NSI 1ère générale (spécialité) - Prépabac Cours & entraînement. \n",
    "Nouveau programme, nouveau bac (2020-2021)\n",
    "Auteur(s) : Céline Adobet (Auteur) Guillaume Connan (Auteur) Gérard Rozsavolgyi (Auteur) Laurent Signac (Auteur) \n",
    "Nouveau programme de Première (2020-2021) \n",
    "Editeur : Hatier\n",
    "Collection\t: Prepabac Entrainement Progress\n",
    "ISBN : 2401052305\n",
    "Version e-book : 8,99€\n",
    "\n",
    "Titre : NSI Tle générale (spécialité) - Prépabac Cours & entraînement. \n",
    "Nouveau programme, nouveau bac (2020-2021)\n",
    "Auteur(s) : Guillaume Connan (Auteur) Vojislav Petrov (Auteur) Gérard Rozsavolgyi (Auteur) Laurent Signac (Auteur) \n",
    "Editeur : Hatier\n",
    "Collection\t: Prepabac Entrainement Progress\n",
    "ISBN : 2401064613\n",
    "Version e-book : 8,99€\n",
    "\n",
    "#### Nathan\n",
    "\n",
    "Titre : Interros des Lycées Numérique Sciences Informatiques - Première, Terminale\n",
    "Auteur(s) :  Stéphane Pasquet (Auteur) MIKAEL LEOPOLDOFF \n",
    "Editeur : Nathan\n",
    "Collection: Interros des Lycées\n",
    "ISBN : 2091574651 (Première),  2091575437  (Terminale)\n",
    "\n",
    "\n"
   ]
  },
  {
   "cell_type": "markdown",
   "metadata": {
    "slideshow": {
     "slide_type": "slide"
    }
   },
   "source": [
    "### Approfondisssement en algo\n",
    "- des petits livres \n",
    "    - Cormen\n",
    "    - Damphousse\n",
    "    \n",
    "- des gros, voire très gros, livres\n",
    "    - Cormen _et al._\n",
    "    - Knuth\n",
    "\n",
    "### Approfondisssement en programmation Python\n",
    "- poly ou bouquin de Cordeau-Pointal (fr)\n",
    "- [ref python 3](https://docs.python.org/3/reference/index.html)  (eng)"
   ]
  },
  {
   "cell_type": "markdown",
   "metadata": {
    "slideshow": {
     "slide_type": "fragment"
    }
   },
   "source": [
    "### Outils\n",
    "- _Débuter avec les notebooks_. De Denis Pinsard et disponible sur moodle/Programmation Python.\n",
    "\n",
    "- [python tutor](http://pythontutor.com) \n",
    "    - permet de visualiser l'effet des instruactions d'un petit code  \n",
    "    - très utile au début pour comprendre des _effets de programmation_, pas d'algorithmique\n",
    "    - complément de l'idle python\n",
    "    - demo "
   ]
  },
  {
   "cell_type": "markdown",
   "metadata": {
    "slideshow": {
     "slide_type": "slide"
    }
   },
   "source": [
    "## Conclusion\n",
    "\n",
    "Bon travail ce semestre !  "
   ]
  },
  {
   "cell_type": "raw",
   "metadata": {},
   "source": [
    "support html généré avec :\n",
    "```\n",
    "jupyter nbconvert --to html_embed --template toc2 0-presentation-2021.ipynb\n",
    "```"
   ]
  }
 ],
 "metadata": {
  "celltoolbar": "Diaporama",
  "kernelspec": {
   "display_name": "Python 3",
   "language": "python",
   "name": "python3"
  },
  "language_info": {
   "codemirror_mode": {
    "name": "ipython",
    "version": 3
   },
   "file_extension": ".py",
   "mimetype": "text/x-python",
   "name": "python",
   "nbconvert_exporter": "python",
   "pygments_lexer": "ipython3",
   "version": "3.7.7"
  },
  "latex_envs": {
   "LaTeX_envs_menu_present": true,
   "autoclose": false,
   "autocomplete": true,
   "bibliofile": "biblio.bib",
   "cite_by": "apalike",
   "current_citInitial": 1,
   "eqLabelWithNumbers": true,
   "eqNumInitial": 1,
   "hotkeys": {
    "equation": "Ctrl-E",
    "itemize": "Ctrl-I"
   },
   "labels_anchors": false,
   "latex_user_defs": false,
   "report_style_numbering": true,
   "user_envs_cfg": false
  },
  "latex_metadata": {
   "affiliation": " DALI. Universite de Perpignan Via Domitia. LIRMM. UMR 5506 : CNRS - Universite de Montpellier",
   "author": "Philippe Langlois",
   "title": "Algo et programmation version 2018"
  },
  "toc": {
   "nav_menu": {
    "height": "138px",
    "width": "252px"
   },
   "number_sections": true,
   "sideBar": true,
   "skip_h1_title": false,
   "title_cell": "Table of Contents",
   "title_sidebar": "Contents",
   "toc_cell": true,
   "toc_position": {},
   "toc_section_display": "block",
   "toc_window_display": false
  }
 },
 "nbformat": 4,
 "nbformat_minor": 2
}
