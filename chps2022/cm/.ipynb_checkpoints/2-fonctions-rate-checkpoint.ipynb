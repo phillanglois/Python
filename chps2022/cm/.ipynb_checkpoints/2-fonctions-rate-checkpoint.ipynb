{
 "cells": [
  {
   "cell_type": "markdown",
   "metadata": {},
   "source": [
    "# Sous-programme et affectation -- aspects avancés\n",
    "\n",
    "version 2021, PhL."
   ]
  },
  {
   "cell_type": "markdown",
   "metadata": {
    "toc": "true"
   },
   "source": [
    "<h1>Table of Contents<span class=\"tocSkip\"></span></h1>\n",
    "<div class=\"toc\"><ul class=\"toc-item\"><li><span><a href=\"#Sous-programme-et-affectation----aspects-avancés\" data-toc-modified-id=\"Sous-programme-et-affectation----aspects-avancés-1\"><span class=\"toc-item-num\">1&nbsp;&nbsp;</span>Sous-programme et affectation -- aspects avancés</a></span><ul class=\"toc-item\"><li><span><a href=\"#Le-passage-des-arguments-:-un-problème-générique\" data-toc-modified-id=\"Le-passage-des-arguments-:-un-problème-générique-1.1\"><span class=\"toc-item-num\">1.1&nbsp;&nbsp;</span>Le passage des arguments : un problème générique</a></span><ul class=\"toc-item\"><li><span><a href=\"#Comment-est-transmis-un-argument-effectif-?\" data-toc-modified-id=\"Comment-est-transmis-un-argument-effectif-?-1.1.1\"><span class=\"toc-item-num\">1.1.1&nbsp;&nbsp;</span>Comment est transmis un argument effectif ?</a></span></li><li><span><a href=\"#Deux-modes-matériels-de-passage-des-paramètres\" data-toc-modified-id=\"Deux-modes-matériels-de-passage-des-paramètres-1.1.2\"><span class=\"toc-item-num\">1.1.2&nbsp;&nbsp;</span>Deux modes <em>matériels</em> de passage des paramètres</a></span></li><li><span><a href=\"#Trois-modes-logiques-de-passage-des-paramètres\" data-toc-modified-id=\"Trois-modes-logiques-de-passage-des-paramètres-1.1.3\"><span class=\"toc-item-num\">1.1.3&nbsp;&nbsp;</span>Trois modes <em>logiques</em> de passage des paramètres</a></span></li></ul></li><li><span><a href=\"#Et-pour-python-?\" data-toc-modified-id=\"Et-pour-python-?-1.2\"><span class=\"toc-item-num\">1.2&nbsp;&nbsp;</span>Et pour python ?</a></span></li><li><span><a href=\"#Variable-et-affection-:-aspects-avancés\" data-toc-modified-id=\"Variable-et-affection-:-aspects-avancés-1.3\"><span class=\"toc-item-num\">1.3&nbsp;&nbsp;</span>Variable et affection : aspects avancés</a></span><ul class=\"toc-item\"><li><span><a href=\"#Premiers-éléments\" data-toc-modified-id=\"Premiers-éléments-1.3.1\"><span class=\"toc-item-num\">1.3.1&nbsp;&nbsp;</span>Premiers éléments</a></span><ul class=\"toc-item\"><li><span><a href=\"#Variable,-valeur,-espace-de-stockage,-adresse-en-mémoire,-référence\" data-toc-modified-id=\"Variable,-valeur,-espace-de-stockage,-adresse-en-mémoire,-référence-1.3.1.1\"><span class=\"toc-item-num\">1.3.1.1&nbsp;&nbsp;</span>Variable, valeur, espace de stockage, adresse en mémoire, référence</a></span></li><li><span><a href=\"#Déclaration-vs.-affectation\" data-toc-modified-id=\"Déclaration-vs.-affectation-1.3.1.2\"><span class=\"toc-item-num\">1.3.1.2&nbsp;&nbsp;</span>Déclaration <em>vs.</em> affectation</a></span></li><li><span><a href=\"#Affectation-et-évaluation\" data-toc-modified-id=\"Affectation-et-évaluation-1.3.1.3\"><span class=\"toc-item-num\">1.3.1.3&nbsp;&nbsp;</span>Affectation et évaluation</a></span></li></ul></li><li><span><a href=\"#Cas-simple-:-l'initialisation-v-=-une_valeur\" data-toc-modified-id=\"Cas-simple-:-l'initialisation-v-=-une_valeur-1.3.2\"><span class=\"toc-item-num\">1.3.2&nbsp;&nbsp;</span>Cas simple : l'initialisation <code>v = une_valeur</code></a></span></li><li><span><a href=\"#Un-peu-plus-compliqué-:--l'affectation-v-=-une_variable\" data-toc-modified-id=\"Un-peu-plus-compliqué-:--l'affectation-v-=-une_variable-1.3.3\"><span class=\"toc-item-num\">1.3.3&nbsp;&nbsp;</span>Un peu plus compliqué :  l'affectation <code>v = une_variable</code></a></span><ul class=\"toc-item\"><li><span><a href=\"#Dupliquer-des-valeurs-par-référence-:--mutable-vs.-non-mutable\" data-toc-modified-id=\"Dupliquer-des-valeurs-par-référence-:--mutable-vs.-non-mutable-1.3.3.1\"><span class=\"toc-item-num\">1.3.3.1&nbsp;&nbsp;</span>Dupliquer des valeurs par référence :  mutable <em>vs.</em> non mutable</a></span></li></ul></li><li><span><a href=\"#Approfondissons-par-introspection\" data-toc-modified-id=\"Approfondissons-par-introspection-1.3.4\"><span class=\"toc-item-num\">1.3.4&nbsp;&nbsp;</span>Approfondissons par <em>introspection</em></a></span><ul class=\"toc-item\"><li><span><a href=\"#Les-fonctions--type(-)-et-id(-)\" data-toc-modified-id=\"Les-fonctions--type(-)-et-id(-)-1.3.4.1\"><span class=\"toc-item-num\">1.3.4.1&nbsp;&nbsp;</span>Les fonctions  <code>type( )</code> et <code>id( )</code></a></span></li></ul></li><li><span><a href=\"#Introspectons-l'affectation-enfin-!\" data-toc-modified-id=\"Introspectons-l'affectation-enfin-!-1.3.5\"><span class=\"toc-item-num\">1.3.5&nbsp;&nbsp;</span>Introspectons l'affectation enfin !</a></span></li><li><span><a href=\"#Compléments\" data-toc-modified-id=\"Compléments-1.3.6\"><span class=\"toc-item-num\">1.3.6&nbsp;&nbsp;</span>Compléments</a></span><ul class=\"toc-item\"><li><span><a href=\"#Comment-dupliquer-(copier)-un-objet-mutable-et-obtenir-2-objets-différents-en-mémoire-?\" data-toc-modified-id=\"Comment-dupliquer-(copier)-un-objet-mutable-et-obtenir-2-objets-différents-en-mémoire-?-1.3.6.1\"><span class=\"toc-item-num\">1.3.6.1&nbsp;&nbsp;</span>Comment dupliquer (copier) un objet mutable et obtenir 2 objets différents en mémoire ?</a></span></li><li><span><a href=\"#Des-subtilités-pour-x-+=-1-vs.-x-=-x-+-1\" data-toc-modified-id=\"Des-subtilités-pour-x-+=-1-vs.-x-=-x-+-1-1.3.6.2\"><span class=\"toc-item-num\">1.3.6.2&nbsp;&nbsp;</span>Des subtilités pour <code>x += 1</code> <em>vs.</em> <code>x = x + 1</code></a></span></li></ul></li></ul></li><li><span><a href=\"#Fonctions-:-approfondissement-du-passage-des-paramètres-en-python\" data-toc-modified-id=\"Fonctions-:-approfondissement-du-passage-des-paramètres-en-python-1.4\"><span class=\"toc-item-num\">1.4&nbsp;&nbsp;</span>Fonctions : approfondissement du passage des paramètres en python</a></span><ul class=\"toc-item\"><li><span><a href=\"#Le-paramètre-est-de-type-non-mutable-:\" data-toc-modified-id=\"Le-paramètre-est-de-type-non-mutable-:-1.4.1\"><span class=\"toc-item-num\">1.4.1&nbsp;&nbsp;</span>Le <strong>paramètre</strong> est de type <strong>non-mutable</strong> :</a></span></li><li><span><a href=\"#Le-paramètre-de-type-mutable-:\" data-toc-modified-id=\"Le-paramètre-de-type-mutable-:-1.4.2\"><span class=\"toc-item-num\">1.4.2&nbsp;&nbsp;</span>Le <strong>paramètre</strong> de type <strong>mutable</strong> :</a></span></li><li><span><a href=\"#Avoir-les-id-claires-!\" data-toc-modified-id=\"Avoir-les-id-claires-!-1.4.3\"><span class=\"toc-item-num\">1.4.3&nbsp;&nbsp;</span>Avoir les <code>id</code> claires !</a></span><ul class=\"toc-item\"><li><span><a href=\"#Utilisons-les-id()-avec-les-mutables\" data-toc-modified-id=\"Utilisons-les-id()-avec-les-mutables-1.4.3.1\"><span class=\"toc-item-num\">1.4.3.1&nbsp;&nbsp;</span>Utilisons les <code>id()</code> avec les mutables</a></span></li><li><span><a href=\"#Utilisons-les-id()-avec-les-non-mutables\" data-toc-modified-id=\"Utilisons-les-id()-avec-les-non-mutables-1.4.3.2\"><span class=\"toc-item-num\">1.4.3.2&nbsp;&nbsp;</span>Utilisons les <code>id()</code> avec les non mutables</a></span></li></ul></li></ul></li><li><span><a href=\"#Pour-finir\" data-toc-modified-id=\"Pour-finir-1.5\"><span class=\"toc-item-num\">1.5&nbsp;&nbsp;</span>Pour finir</a></span><ul class=\"toc-item\"><li><span><a href=\"#Arguments-nommés\" data-toc-modified-id=\"Arguments-nommés-1.5.1\"><span class=\"toc-item-num\">1.5.1&nbsp;&nbsp;</span>Arguments nommés</a></span></li><li><span><a href=\"#Argument-avec-valeur-par-défaut\" data-toc-modified-id=\"Argument-avec-valeur-par-défaut-1.5.2\"><span class=\"toc-item-num\">1.5.2&nbsp;&nbsp;</span>Argument avec valeur par défaut</a></span></li><li><span><a href=\"#Ce-qu'il-reste-à-voir-sur-les-fonctions-en-python\" data-toc-modified-id=\"Ce-qu'il-reste-à-voir-sur-les-fonctions-en-python-1.5.3\"><span class=\"toc-item-num\">1.5.3&nbsp;&nbsp;</span>Ce qu'il reste à voir sur les fonctions en python</a></span></li></ul></li><li><span><a href=\"#Synthèse\" data-toc-modified-id=\"Synthèse-1.6\"><span class=\"toc-item-num\">1.6&nbsp;&nbsp;</span>Synthèse</a></span></li></ul></li></ul></div>"
   ]
  },
  {
   "cell_type": "markdown",
   "metadata": {},
   "source": [
    "Nous abordons maintenant les aspects des fonctions qui dépendent des langages de programmation. Nous insistons surtout sur les choix de python3.\n",
    "\n",
    "\n",
    "**Rappel.**  Le terme paramètre effectif (et son compagnon _non synonyme_ paramètre formel) sont \"langage-indépendant\". Pour python, **paramètre effectif** et **argument** sont des synonymes. Ce qui suit comporte parfois des répétitions de ces synonymes, entre parenthèses mais un peu lourdes hélas.    "
   ]
  },
  {
   "cell_type": "markdown",
   "metadata": {},
   "source": [
    "## Le passage des arguments : un problème générique\n",
    "\n",
    "Le corps de la fonction ne connait que les paramètres formels.  \n",
    "L'appel de la fonction définit les paramètres effectifs (les arguments). \n",
    "- Comment le paramètre effectif devient-il connu par la fonction appelée ?   \n",
    "- Qu'est-ce qui est connu dans l'appel, en particulier _lorsque le paramètre effectif est une variable_ ?\n",
    "    - la valeur du paramètre effectif (de l'argument) ? \n",
    "    - la variable paramètre effectif (la variable argument) ?  \n",
    "    \n",
    "Se sont les questions du passage de paramètres appelant->appelé\n",
    "\n",
    "### Comment est transmis un argument effectif ?\n",
    "\n",
    " * Si c'est une valeur :  `y = f(3)`  \n",
    "    OK : la valeur est connue et utilisée dans l'appel  \n",
    "    \n",
    " * Si c'est une variable : `x = 3 ; y = f(x)`  \n",
    "    - `f` connait la valeur de `x` et seulement sa valeur ?\n",
    "    - `f` connait la variable `x`, ce qui permet de _lire_ sa valeur et aussi de _la modifier_ a priori\n",
    " \n",
    "\n",
    "### Deux modes _matériels_ de passage des paramètres\n",
    "1. __passage par valeur__ ou __copie__ :  seules les _valeurs_ des paramètres effectifs (des arguments) sont connus par la fonction.  \n",
    "Ainsi, les **arguments** (qui sont des variables dans le programme appelant) **ne sont pas modifiés**. Bien sûr, ce n'est pas le cas du/des paramètre/s de sortie).\n",
    "\n",
    "2. __passage par adresse__ ou __référence__ : l'_adresse_ des arguments est connue et est manipulée par la fonction.  \n",
    "Ces arguments (ces paramètres effectifs) sont donc _les_ variables de l'appelant -- et aussi de l'appel.  \n",
    "La fonction peut donc **modifier les variables de l'appelant _indépendamment_ du `return`**.\n",
    "\n",
    "<div class=\"alert alert-block alert-info\">\n",
    "Pros/cons : la copie de la valeur d'une \"grosse\" variable coûte plus cher que la copie de son adresse (c'est un `int`)  \n",
    "</div>\n",
    "\n",
    "Les modes appliqués dépendent :   \n",
    "- des langages de programmation \n",
    "- du _type_ des paramètres\n",
    "\n",
    "Cad. que les 2 modes peuvent co-exister dans un même langage.  \n"
   ]
  },
  {
   "cell_type": "markdown",
   "metadata": {},
   "source": [
    "### Trois modes _logiques_ de passage des paramètres\n",
    "\n",
    "Certains langages (Ada par exemple) se sont dégagés des aspects matériels pour définir des modes _logiques_.  \n",
    "Bien sûr, l'implantation de ces modes logiques repose sur l'une ou l'autre des 2 modes physiques.  \n",
    "\n",
    "1. mode `in` : le paramètre est uniquement utilisé en lecture, cad. seule la transmission de sa valeur est nécessaire\n",
    "2. mode `in-out` : le paramètre est utilisé en lecture et en écriture, ici encore son adresse est nécessaire dans l'appel  \n",
    "3. mode `out` : le paramètre est uniquement utilisé en écriture, cad. sa valeur est (formellement) inconnue dans la fonction ; cette dernière détermine sa valeur et la transmet (par valeur ou par adresse) à l'appelant.\n",
    "\n",
    "Ces modes sont facilement vérifiables lors de la compilation. \n",
    "Le mode `in` correspond aux paramètres d'entrée d'une fonction.\n",
    "Le mode `out` correspond à la valeur retournée par une fonction.\n",
    "le mode `in-out` correspond aux paramètres d'une _procédure_ : les paramètres effectifs existent avant l'appel, celui-ci les modifient et ils susbsistent au retour dans l'appelant."
   ]
  },
  {
   "cell_type": "markdown",
   "metadata": {},
   "source": [
    "## Et pour python ?\n",
    "\n",
    "Le [tutoriel python.org](https://docs.python.org/fr/3/tutorial/controlflow.html#id2) dit :\n",
    "> Les paramètres effectifs (arguments) d’une fonction sont introduits dans la table de symboles locale de la fonction appelée lorsqu’elle est appelée ; par conséquent, __les passages de paramètres__ se font par valeur, la valeur étant toujours une __référence à un objet__, et non la valeur de l’objet lui-même.\n",
    "\n",
    "Ce traitement est en fait similaire à celui de l'_affectation_ en python. \n",
    "Il nous faut donc détailler ce qu'il y a \"derrière\" l'affectation.\n",
    "C'est l'objet de la [section suivante](#revisiter_les_variables_et_l'affectation).\n",
    "\n",
    "Cependant indiquons dès maintenant **ce qu'il faut retenir**.\n",
    "\n",
    "<div class=\"alert alert-block alert-info\">\n",
    "    \n",
    "Le mode de traitement du passage des paramètres ( et de l'affectation ) en python **dépend du caractère mutable ou non mutable de la variable** concernée.\n",
    "    \n",
    "- Un argument (paramètre effectif) **non mutable** est traité comme une variable locale à la fonction. Ainsi la variable argument est connue dans la fonction mais elle n'est pas modifiée __dans l'appelant__ par le traitement de la fonction : il n'y a __pas d'effet de bord de la fonction sur un argument non mutable__. \n",
    "\n",
    "- Un argument (paramètre effectif)  **mutable** est \"entièrement et directement accessible\" par la fonction. Ainsi une variable-argument mutable __pourra être modifiée dans l'appelant__ par le traitement de la fonction : __un argument non mutable d'une fonction est susceptible d'un effet de bord__ suite à l'appel de la fonction. \n",
    "\n",
    "</div>\n",
    "\n",
    "Dans ce dernier cas (argument mutable), l'effet peut bien sûr modifier la valeur de la variable-argument dans l'appelant mais aussi sa structure : une liste par exemple peut-être allongée, écourtée, concaténée, ... et pas simplement voir une de ses valeurs modifiée.  \n",
    "\n",
    "En pratique, il est très fortement conseillé d'éviter tout effet de bord d'une fonction _qui n'est pas une procédure_. \n",
    "Il appartient au programmeur d'être attentif au caractère mutable ou non mutable des paramètres des appels de fonctions -- surtout dans le contexte de typage dynamique de python : rappelons que les annotations de type des paramètres ne sont que des indications pour le lecteur ou des outils spécialisés mais sont ignorées de l'interpréteur python.   "
   ]
  },
  {
   "cell_type": "markdown",
   "metadata": {},
   "source": [
    "## Variable et affection : aspects avancés \n",
    "\n",
    "<div class=\"alert alert-block alert-success\">\n",
    "Cette section relève de __l'objectif 20__\n",
    "</div>\n",
    "\n",
    "Commençons par revenir sur les notions de __variable__ et d'__affectation__.\n",
    "Puis comment ces notions existent en python.\n",
    "\n",
    "### Premiers éléments\n",
    "\n",
    "#### Variable, valeur, espace de stockage, adresse en mémoire, référence\n",
    "\n",
    "- une _variable_ permet d'accéder, en lecture ou en écriture, à une _valeur_ qui est stockée en mémoire\n",
    "    - une _variable_ est définie par son _identifiant_ : son nom de variable : `n, t, ma_liste, ...`  \n",
    "- une _valeur_ est stockée à un emplacement en mémoire aussi appelé _espace de stockage_\n",
    "    - il est unique et test repéré par son _adresse_  \n",
    "    - une adresse est (similaire à) un `int`\n",
    "    - la taille de l'espace mémoire dépend du type des valeurs à stocker : `int` (par exemple 32 bits) vs `float`(64 bits) vs. une `list` de `float` \n",
    "\n",
    "Ainsi l'identifiant d'une variable peut-être vue comme un symbole associé à un espace de stockage.  \n",
    "L'identifiant de la variable est ainsi **une référence** à un espace de stockage.\n",
    "\n",
    "Attention :\n",
    "\n",
    "- la difficulté de la notion de variable vient du fait que ce terme désigne, selon les cas, la valeur stockée en mémoire ou l'espace de stockage lui-même.  \n",
    "- la notion de _référence_ prend des sens différemment subtils selon les langage de programmation.  \n",
    "  \n",
    "\n",
    "**En python** : \n",
    "> une variable est une référence à un objet \n",
    "\n",
    "- comprendre \"objet\" (pour l'instant) au sens de valeur ou d'ensemble de valeurs \n",
    "- comprendre \"référence\" au sens adresse"
   ]
  },
  {
   "cell_type": "markdown",
   "metadata": {},
   "source": [
    "#### Déclaration _vs._ affectation\n",
    "\n",
    "Dans la plupart des langages de programmation **mais pas en Python**, une variable doit être déclarée _avant_ d'être utilisée.  \n",
    "\n",
    "Typiquement, la déclaration d'une variable contient la définition de son identifiant, de son type, d'une valeur initale (l'initialisation) et éventuellement d'autres propriétés diverses.  \n",
    "\n",
    "Une fois déclarée, la variable existe.\n",
    "_Affecter une valeur à cette variable_ est une des premières actions que l'on effectue avec cette variable.\n",
    "\n",
    "**En python** : \n",
    "> Pas de déclaration    \n",
    "> Une variable est définie (elle commence à exister) par sa première affectation.   \n",
    "> Cette première affectation définit le type de cette variable et sa valeur.\n",
    "\n",
    "Une variable _est donc créée par l'affectation d'une valeur_.  \n",
    "\n",
    "#### Affectation et évaluation  \n",
    "\n",
    "L'affectation (d'une valeur) dans une variable correspond à une modification de l'espace de stockage associé à la variable.  \n",
    "\n",
    "- Cette valeur est le résultat de l'_évaluation_ du membre du droite de l'affectation.  \n",
    "- Ce membre de droite est une valeur (`x = 3`), une variable (`x = y`), une expression (`x = y + 5`), un appel de fonction (`x = cos(alpha)`) ou d'autres actions plus compliquées.  \n",
    "\n",
    "L'évaluation du membre de droite peut donc fournir :\n",
    "\n",
    "- la _valeur_ \n",
    "- ou _l'adresse_ de cette valeur  \n",
    "\n",
    "Il nous faut distinguer plusieurs cas pour résoudre ce choix.  "
   ]
  },
  {
   "cell_type": "markdown",
   "metadata": {},
   "source": [
    "### Cas simple : l'initialisation `v = une_valeur`\n",
    "\n",
    "L'initialisation, c-a-d. l'affectation `v = val` où `val` est une valeur :  \n",
    "- réserve en mémoire la place pour stocker la représentation de `val`\n",
    "- stocke (la représentation de) cette valeur  \n",
    "- créé un nom de variable : ici `v`\n",
    "- _associe ce nom avec l'adresse_ où `val` est stockée\n",
    "\n",
    "Cette association \"nom de variable\" -> \"adresse de la valeur stockée\" définit la notion de __référence__  à la valeur mentionnée plus haut.  \n",
    "Ainsi il n'y a pas de différence entre _nom d'une variable_ et _référence à sa valeur._     \n",
    "En pratique, la référence à une valeur est l'_adresse_ de l'emplacement en mémoire qui contient la valeur.  \n",
    "\n",
    "Rmq. `val` peut être l'évaluation d'une fonction (`cos(alpha)`) ou d'une expression \"sans variable\" (`3 + 9*5`)  "
   ]
  },
  {
   "cell_type": "code",
   "execution_count": 1,
   "metadata": {},
   "outputs": [
    {
     "name": "stdout",
     "output_type": "stream",
     "text": [
      "bonjour\n"
     ]
    }
   ],
   "source": [
    "# à essayer dans pythontutor\n",
    "x = 3\n",
    "s = \"bonjour\"\n",
    "e0 = (1, 2, 3) # un tuple est non mutable\n",
    "l0 = [1, 2, 3] # une liste est mutable\n",
    "\n",
    "\n",
    "print(s)"
   ]
  },
  {
   "cell_type": "markdown",
   "metadata": {},
   "source": [
    "### Un peu plus compliqué :  l'affectation `v = une_variable`\n",
    "\n",
    "Soit maintenant l'affectation `x = y` où `x` et `y` sont deux variables.\n",
    "\n",
    "L'évaluation de `x` (variable ou expression contenant une ou des variables) et l'effet de l'affectation `y = x` posent les mêmes questions que le passage des paramètres d'une fonction entre appelant et son appel.   \n",
    " \n",
    "L'association variable `y` <-> variable `x` peut être réalisée en général de 2 façons :\n",
    "- par **copie** : la variable `y` _prend comme valeur la valeur_ de `x` (la répétition de _valeur_ est voulue)  \n",
    "    - la valeur de `x` est dupliquée à une nouvelle adresse mémoire\n",
    "    - la valeur à cette nouvelle adresse est maintenant accessible par l'identifiant `y`  \n",
    "- par **référence** : la variable `x` _connait_ l'adresse de la valeur de `y` (emplacement mémoire où est stockée la valeur de `y`)  \n",
    "    - la valeur de `y` n'est _pas dupliquée_  \n",
    "    - `x` et `y` référencent le même endroit en mémoire\n",
    "\n",
    "Dans les 2 cas :  \n",
    "- la valeur précédente de `x`, si il y en avait une, est perdue  \n",
    "> python :\n",
    "> la place mémoire ainsi libérée est dynamiquement récupérée \n",
    "> et peut ainsi être réutilsée par la suite\n",
    "> \"ramasse-miettes\" ou _garbage collector_  \n",
    "\n",
    "- la variable `x` permet de connaitre la _valeur de `y`_:  \n",
    "    - directement quand la variable `x` est une copie  de `y`\n",
    "    - indirectement dans le cas où `x` est une référence à `y`  \n",
    "\n",
    "Rappelons qu'en python, la variable `x` est elle-même une référence vers une valeur. Donc :  \n",
    "> python : l'affectation correspond au second choix : affectation par référence  \n",
    "\n",
    "  "
   ]
  },
  {
   "cell_type": "markdown",
   "metadata": {},
   "source": [
    "#### Dupliquer des valeurs par référence :  mutable _vs._ non mutable \n",
    "\n",
    "> python : \n",
    "> - les types non-mutables : `int, float, string, tuple `  \n",
    "> - les types mutables : `list, set, dict(ionnaire)`\n",
    "\n",
    "**Rmq importante.** \n",
    "L'affectation par référence **ne duplique pas la valeur**.  \n",
    "Ainsi si cette valeur est déjà associée à une autre variable (cas de l'affectation `x = y` où `y` a été initialisée précédemment) alors `x` **et** `y` référencent le même emplacement en mémoire.  \n",
    "La modification ultérieure de l'une ou de l'autre des variables nécessite de lever l'ambiguité suivante.   "
   ]
  },
  {
   "cell_type": "markdown",
   "metadata": {},
   "source": [
    "<div class=\"alert alert-block alert-info\">\n",
    "\n",
    "Après l'affectation `x = y`, où `x` et `y` sont deux variables, **modifier `x` a-t-il aussi un effet sur `y` ?**  \n",
    "\n",
    "En python, la réponse à cette question dépend du caractère _mutable_ ou _non mutable_ du type de la variable.\n",
    "    \n",
    "    \n",
    "</div>"
   ]
  },
  {
   "cell_type": "code",
   "execution_count": 2,
   "metadata": {},
   "outputs": [
    {
     "name": "stdout",
     "output_type": "stream",
     "text": [
      "3 3 emplacements mémoire identiques\n",
      "3 5 emplacements mémoire différents\n",
      "aa aa emplacements mémoire identiques\n",
      "aa bb emplacements mémoire différents\n",
      "[1, 1] [1, 1] emplacements mémoire identiques\n",
      "je modifie m sans penser à l\n",
      "[0, 1] [0, 1] emplacements mémoire identiques\n"
     ]
    }
   ],
   "source": [
    "def aff(v1, v2 : None) -> None:\n",
    "    '''affichage adapté\n",
    "    Rmq : l'annotation None pour v1 et v2 veut dire Any\n",
    "    '''\n",
    "    CAS_VRAI = \"emplacements mémoire identiques\"\n",
    "    CAS_FAUX = \"emplacements mémoire différents\"\n",
    "\n",
    "    if id(v1) == id(v2):\n",
    "        print(v1, v2, CAS_VRAI)\n",
    "    else:\n",
    "        print(v1, v2, CAS_FAUX)\n",
    "\n",
    "# les int sont non mutables\n",
    "x = 3\n",
    "y = x\n",
    "aff(x, y)\n",
    "y = 5\n",
    "aff(x, y)\n",
    "\n",
    "# les strings sont non mutables\n",
    "s1 = \"aa\"\n",
    "s2 = s1\n",
    "aff(s1, s2)\n",
    "s2 = \"bb\"\n",
    "aff(s1, s2)\n",
    "\n",
    "# les listes sont mutables\n",
    "l = [1,1]\n",
    "m = l\n",
    "aff(l, m)\n",
    "m[0] = 0 \n",
    "print(\"je modifie m sans penser à l\")\n",
    "aff(l, m)"
   ]
  },
  {
   "cell_type": "markdown",
   "metadata": {},
   "source": [
    "Le dernier résultat (cas mutable) est assez destabilisant.\n",
    "Je vous laisse imaginer la recherche de bug ...\n",
    "\n",
    "**Rmq.** La fonction prédéfinie `id()` est définie au paragraphe suivant.    "
   ]
  },
  {
   "cell_type": "markdown",
   "metadata": {},
   "source": [
    "<div class=\"alert alert-block alert-danger\">\n",
    "    \n",
    "L'affectation python `x = y` avec des variables **mutables** _ne crée pas_ un nouvel emplacement mémoire pour `x`.  \n",
    "    \n",
    "Elle créée _une nouvelle référence_ pour `x` (ou met à jour une référence existante) _vers un emplacement qui existait précédemment_ : celui de `y`.  \n",
    "    \n",
    "Ainsi cet emplacement est accessible par plusieurs références -- ici `x` et `y` sont des références vers le **même emplacement mémoire**.\n",
    "    \n",
    "</div>\n",
    "\n",
    "En pratique, l'environnement python connait le nombre de références qui désignent le même emplacement mémoire. \n",
    "Ce qui lui permet le cas échéant de récupérer les zones qui ne sont plus désignées (mécanisme de _garbage collector_ ou _ramasse miettes_ en français)."
   ]
  },
  {
   "cell_type": "markdown",
   "metadata": {},
   "source": [
    "### Approfondissons par _introspection_\n",
    "\n",
    "Nous verrons plus tard que les \"entités python\" sont des _objets_.  \n",
    "python fait partie des langages de programmation appelés __langage objet__ ou __langage orienté objet__.  \n",
    "Un _objet_ est un ensemble d'_attributs_ (des valeurs nommées) et de _méthodes_ (des fonctions qui s'appliquent à _tout_ ou _partie_ de cet objet), cet ensemble étant accessible par un _identifiant_ (le nom de l'objet).  \n",
    "Nous verrons qu'en fait un objet est (très souvent) associé à une notion plus générale, la notion de _classe d'objets_.  \n",
    "Une _classe_ d'objets est un modèle d'objets et ainsi un objet d'une classe donnée est aussi appelé _une instance_ de cette classe.  \n",
    "\n",
    "**Rmq.** Pour l'instant, pas d'énorme différence entre objet et variable telle que présentée jusqu'à présent.   \n",
    "\n",
    "#### Les fonctions  `type( )` et `id( )`\n",
    "\n",
    "Parmi les méthodes de tout objet python, certaines permettent _l'introspection_, cad. permettent d'obtenir des informations sur l'objet et sur son état.  \n",
    "\n",
    "Nous allons présenter ici :\n",
    "- les fonctions  `type()` et `id()` qui retournent, respectivement, le type et l'adresse (mémoire) unique  de l'argument.  \n"
   ]
  },
  {
   "cell_type": "code",
   "execution_count": 3,
   "metadata": {},
   "outputs": [
    {
     "name": "stdout",
     "output_type": "stream",
     "text": [
      "1 <class 'int'> 4324969376\n",
      "1.1 <class 'float'> 4356889552\n",
      "[0, 0, 0, 0, 0, 0, 0, 0, 0, 0, 0, 0, 0, 0, 0, 0, 0, 0, 0, 0, 0, 0, 0, 0, 0, 0, 0, 0, 0, 0, 0, 0, 0, 0, 0, 0, 0, 0, 0, 0, 0, 0, 0, 0, 0, 0, 0, 0, 0, 0, 0, 0, 0, 0, 0, 0, 0, 0, 0, 0, 0, 0, 0, 0, 0, 0, 0, 0, 0, 0, 0, 0, 0, 0, 0, 0, 0, 0, 0, 0, 0, 0, 0, 0, 0, 0, 0, 0, 0, 0, 0, 0, 0, 0, 0, 0, 0, 0, 0, 0, 0, 0, 0, 0, 0, 0, 0, 0, 0, 0, 0, 0, 0, 0, 0, 0, 0, 0, 0, 0, 0, 0, 0, 0, 0, 0, 0, 0, 0, 0, 0, 0, 0, 0, 0, 0, 0, 0, 0, 0, 0, 0, 0, 0, 0, 0, 0, 0, 0, 0, 0, 0, 0, 0, 0, 0, 0, 0, 0, 0, 0, 0, 0, 0, 0, 0, 0, 0, 0, 0, 0, 0, 0, 0, 0, 0, 0, 0, 0, 0, 0, 0, 0, 0, 0, 0, 0, 0, 0, 0, 0, 0, 0, 0, 0, 0, 0, 0, 0, 0, 0, 0, 0, 0, 0, 0, 0, 0, 0, 0, 0, 0, 0, 0, 0, 0, 0, 0, 0, 0, 0, 0, 0, 0, 0, 0, 0, 0, 0, 0, 0, 0, 0, 0, 0, 0, 0, 0, 0, 0, 0, 0, 0, 0, 0, 0, 0, 0, 0, 0, 0, 0, 0, 0, 0, 0, 0, 0, 0, 0, 0, 0, 0, 0, 0, 0, 0, 0, 0, 0, 0, 0, 0, 0, 0, 0, 0, 0, 0, 0, 0, 0, 0, 0, 0, 0, 0, 0, 0, 0, 0, 0, 0, 0, 0, 0, 0, 0, 0, 0, 0, 0, 0, 0, 0, 0, 0, 0, 0, 0, 0, 0, 0, 0, 0, 0, 0, 0, 0, 0, 0, 0, 0, 0, 0, 0, 0, 0, 0, 0, 0, 0, 0, 0, 0, 0, 0, 0, 0, 0, 0, 0, 0, 0, 0, 0, 0, 0, 0, 0, 0, 0, 0, 0, 0, 0, 0, 0, 0, 0, 0, 0, 0, 0, 0, 0, 0, 0, 0, 0, 0, 0, 0, 0, 0, 0, 0, 0, 0, 0, 0, 0, 0, 0, 0, 0, 0, 0, 0, 0, 0, 0, 0, 0, 0, 0, 0, 0, 0, 0, 0, 0, 0, 0, 0, 0, 0, 0, 0, 0, 0, 0, 0, 0, 0, 0, 0, 0, 0, 0, 0, 0, 0, 0, 0, 0, 0, 0, 0, 0, 0, 0, 0, 0, 0, 0, 0, 0, 0, 0, 0, 0, 0, 0, 0, 0, 0, 0, 0, 0, 0, 0, 0, 0, 0, 0, 0, 0, 0, 0, 0, 0, 0, 0, 0, 0, 0, 0, 0, 0, 0, 0, 0, 0, 0, 0, 0, 0, 0, 0, 0, 0, 0, 0, 0, 0, 0, 0, 0, 0, 0, 0, 0, 0, 0, 0, 0, 0, 0, 0, 0, 0, 0, 0, 0, 0, 0, 0, 0, 0, 0, 0, 0, 0, 0, 0, 0, 0, 0, 0, 0, 0, 0, 0, 0, 0, 0, 0, 0, 0, 0, 0, 0, 0, 0, 0, 0, 0, 0, 0, 0, 0, 0, 0, 0, 0, 0, 0, 0, 0, 0, 0, 0, 0, 0, 0, 0, 0, 0, 0, 0, 0, 0, 0, 0, 0, 0, 0, 0, 0, 0, 0, 0, 0, 0, 0, 0, 0, 0, 0, 0, 0, 0, 0, 0, 0, 0, 0, 0, 0, 0, 0, 0, 0, 0, 0, 0, 0, 0, 0, 0, 0, 0, 0, 0, 0, 0, 0, 0, 0, 0, 0, 0, 0, 0, 0, 0, 0, 0, 0, 0, 0, 0, 0, 0, 0, 0, 0, 0, 0, 0, 0, 0, 0, 0, 0, 0, 0, 0, 0, 0, 0, 0, 0, 0, 0, 0, 0, 0, 0, 0, 0, 0, 0, 0, 0, 0, 0, 0, 0, 0, 0, 0, 0, 0, 0, 0, 0, 0, 0, 0, 0, 0, 0, 0, 0, 0, 0, 0, 0, 0, 0, 0, 0, 0, 0, 0, 0, 0, 0, 0, 0, 0, 0, 0, 0, 0, 0, 0, 0, 0, 0, 0, 0, 0, 0, 0, 0, 0, 0, 0, 0, 0, 0, 0, 0, 0, 0, 0, 0, 0, 0, 0, 0, 0, 0, 0, 0, 0, 0, 0, 0, 0, 0, 0, 0, 0, 0, 0, 0, 0, 0, 0, 0, 0, 0, 0, 0, 0, 0, 0, 0, 0, 0, 0, 0, 0, 0, 0, 0, 0, 0, 0, 0, 0, 0, 0, 0, 0, 0, 0, 0, 0, 0, 0, 0, 0, 0, 0, 0, 0, 0, 0, 0, 0, 0, 0, 0, 0, 0, 0, 0, 0, 0, 0, 0, 0, 0, 0, 0, 0, 0, 0, 0, 0, 0, 0, 0, 0, 0, 0, 0, 0, 0, 0, 0, 0, 0, 0, 0, 0, 0, 0, 0, 0, 0, 0, 0, 0, 0, 0, 0, 0, 0, 0, 0, 0, 0, 0, 0, 0, 0, 0, 0, 0, 0, 0, 0, 0, 0, 0, 0, 0, 0, 0, 0, 0, 0, 0, 0, 0, 0, 0, 0, 0, 0, 0, 0, 0, 0, 0, 0, 0, 0, 0, 0, 0, 0, 0, 0, 0, 0, 0, 0, 0, 0, 0, 0, 0, 0, 0, 0, 0, 0, 0, 0, 0, 0, 0, 0, 0, 0, 0, 0, 0, 0, 0, 0, 0, 0, 0, 0, 0, 0, 0, 0, 0, 0, 0, 0, 0, 0, 0, 0, 0, 0, 0, 0, 0, 0, 0, 0, 0, 0, 0, 0, 0, 0, 0, 0, 0, 0, 0, 0, 0, 0, 0, 0, 0, 0, 0, 0, 0, 0, 0, 0, 0, 0, 0, 0, 0, 0, 0, 0, 0, 0, 0, 0, 0, 0, 0, 0, 0, 0, 0, 0, 0, 0, 0, 0, 0, 0, 0, 0, 0, 0, 0, 0, 0, 0, 0, 0, 0, 0, 0, 0, 0, 0, 0, 0] <class 'list'> 4358472960\n",
      "[1, 1] <class 'list'> 4358472160\n",
      "4324969344 4324969344\n"
     ]
    }
   ],
   "source": [
    "a = 1\n",
    "b = 1.1\n",
    "\n",
    "l = [0]*1000\n",
    "t = [1,1]\n",
    "\n",
    "print(a, type(a), id(a))\n",
    "print(b, type(b), id(b))\n",
    "print(l, type(l), id(l))\n",
    "print(t, type(t), id(t))\n",
    "print(id(l[0]), id(l[1]))\n"
   ]
  },
  {
   "cell_type": "markdown",
   "metadata": {},
   "source": [
    "**Autres fonctions d'introspection**\n",
    "\n",
    "D'autres fonctions d'intrspection très utiles existent. Essayez-les ! \n",
    "- la fonction `help()`  déjà connue  \n",
    "- les fonctions  `locals()` et `globals()` qui retournent la liste des variables locales, resp. globales, au contexte de leur appel ;\n",
    "- la fonction `dir()`"
   ]
  },
  {
   "cell_type": "code",
   "execution_count": 4,
   "metadata": {},
   "outputs": [
    {
     "name": "stdout",
     "output_type": "stream",
     "text": [
      "Help on built-in function locals in module builtins:\n",
      "\n",
      "locals()\n",
      "    Return a dictionary containing the current scope's local variables.\n",
      "    \n",
      "    NOTE: Whether or not updates to this dictionary will affect name lookups in\n",
      "    the local scope and vice-versa is *implementation dependent* and not\n",
      "    covered by any backwards compatibility guarantees.\n",
      "\n",
      "Help on built-in function globals in module builtins:\n",
      "\n",
      "globals()\n",
      "    Return the dictionary containing the current scope's global variables.\n",
      "    \n",
      "    NOTE: Updates to this dictionary *will* affect name lookups in the current\n",
      "    global scope and vice-versa.\n",
      "\n",
      "Help on built-in function dir in module builtins:\n",
      "\n",
      "dir(...)\n",
      "    dir([object]) -> list of strings\n",
      "    \n",
      "    If called without an argument, return the names in the current scope.\n",
      "    Else, return an alphabetized list of names comprising (some of) the attributes\n",
      "    of the given object, and of attributes reachable from it.\n",
      "    If the object supplies a method named __dir__, it will be used; otherwise\n",
      "    the default dir() logic is used and returns:\n",
      "      for a module object: the module's attributes.\n",
      "      for a class object:  its attributes, and recursively the attributes\n",
      "        of its bases.\n",
      "      for any other object: its attributes, its class's attributes, and\n",
      "        recursively the attributes of its class's base classes.\n",
      "\n"
     ]
    }
   ],
   "source": [
    "help(locals)\n",
    "help(globals)\n",
    "help(dir)"
   ]
  },
  {
   "cell_type": "code",
   "execution_count": 5,
   "metadata": {},
   "outputs": [
    {
     "data": {
      "text/plain": [
       "True"
      ]
     },
     "execution_count": 5,
     "metadata": {},
     "output_type": "execute_result"
    }
   ],
   "source": [
    "locals() == globals()\n",
    "#print(locals())"
   ]
  },
  {
   "cell_type": "code",
   "execution_count": 6,
   "metadata": {},
   "outputs": [
    {
     "name": "stdout",
     "output_type": "stream",
     "text": [
      "False\n"
     ]
    }
   ],
   "source": [
    "dir()\n",
    "a = 1\n",
    "#print(dir(a))\n",
    "l = [1]\n",
    "#print(dir(l))\n",
    "print(dir(a) == dir(l))"
   ]
  },
  {
   "cell_type": "markdown",
   "metadata": {},
   "source": [
    "### Introspectons l'affectation enfin !"
   ]
  },
  {
   "cell_type": "code",
   "execution_count": 7,
   "metadata": {},
   "outputs": [
    {
     "name": "stdout",
     "output_type": "stream",
     "text": [
      "a: 1 <class 'int'> 4324969376\n",
      "b: 1 <class 'int'> 4324969376\n",
      "b: 2 <class 'int'> 4324969408 \n",
      "\n",
      "s: aagskjhdsqgf qkdhqhq  <class 'str'> 4358972080\n",
      "s2 aagskjhdsqgf qkdhqhq  <class 'str'> 4358972080\n",
      "s2 a <class 'str'> 4326811184 \n",
      "\n",
      "[0, 0] <class 'list'> 4359139408\n",
      "[0, 0] <class 'list'> 4359139408\n",
      "[1, 0] <class 'list'> 4358472160\n",
      "[0, 0] <class 'list'> 4359139408\n",
      "[1, 1] <class 'list'> 4359139808\n",
      "[1, 0] <class 'list'> 4359139408 \n",
      "\n"
     ]
    }
   ],
   "source": [
    "# affectation de non-mutables\n",
    "a = 1\n",
    "print(\"a:\", a, type(a), id(a))\n",
    "b = a\n",
    "print(\"b:\", b, type(b), id(b))\n",
    "b = 2\n",
    "print(\"b:\", b, type(b), id(b), \"\\n\")\n",
    "\n",
    "\n",
    "s = \"aagskjhdsqgf qkdhqhq \"\n",
    "print('s:', s, type(s), id(s))\n",
    "s2 = s\n",
    "print('s2', s2, type(s2), id(s2))\n",
    "s2 = \"a\"\n",
    "print('s2', s2, type(s2), id(s2), \"\\n\")\n",
    "\n",
    "# affectation de mutables\n",
    "l = [0,0]\n",
    "print(l, type(l), id(l))\n",
    "t = l\n",
    "print(t, type(t), id(t))\n",
    "l = [1, 0]\n",
    "print(l, type(l), id(l))\n",
    "print(t, type(t), id(t))\n",
    "t = [1,1]\n",
    "print(t, type(t), id(t))\n",
    "t = [1,0]\n",
    "print(t, type(t), id(t), \"\\n\")\n",
    "\n"
   ]
  },
  {
   "cell_type": "markdown",
   "metadata": {},
   "source": [
    "**Exercice.**\n",
    "Dans ces traitements, retrouver les comportements décrits précédemment.\n",
    "Etonné ?"
   ]
  },
  {
   "cell_type": "markdown",
   "metadata": {},
   "source": [
    "**Remarque.**\n",
    "Les premiers traitements (repris ici) :"
   ]
  },
  {
   "cell_type": "code",
   "execution_count": 8,
   "metadata": {},
   "outputs": [],
   "source": [
    "# affectation de non-mutables\n",
    "a = 1\n",
    "b = a\n",
    "\n",
    "s = \"aagskjhdsqgf qkdhqhq \"\n",
    "s2 = s\n",
    "\n",
    "# affectation de mutables\n",
    "l = [0,0]\n",
    "t = l"
   ]
  },
  {
   "cell_type": "markdown",
   "metadata": {},
   "source": [
    "vérifient :"
   ]
  },
  {
   "cell_type": "code",
   "execution_count": 9,
   "metadata": {},
   "outputs": [
    {
     "name": "stdout",
     "output_type": "stream",
     "text": [
      "True True True\n"
     ]
    }
   ],
   "source": [
    "print(\n",
    "    id(a) == id(b), \n",
    "    id(s) == id(s2),\n",
    "    id(l) == id(t)\n",
    "     )"
   ]
  },
  {
   "cell_type": "markdown",
   "metadata": {},
   "source": [
    "Ah ?!! Ca ne correspond pas à ce qui avait été précisé : les affectations de non-mutable `x = y` ne désignent pas de nouvel espace mémoire ???? "
   ]
  },
  {
   "cell_type": "markdown",
   "metadata": {},
   "source": [
    "On a pourtant bien écrit : \n",
    "> en python :  si l'objet est __non mutable__ alors la modification d'une variable  \n",
    "> - créé un autre emplacement mémoire  \n",
    "> - et met à jour la référence pour désigner ce nouvel emplacement.  \n",
    "\n",
    "Ici l'environnement _choisit d'économiser de la place en mémoire_ en ne dupliquant pas les valeurs non mutables : après affectation de l'une vers l'autre, elles ont la même valeur !  \n",
    "Une seule valeur est stockée et elle est référencée par 2 variables :  \n",
    "- la valeur non modifiée (à droite de l'affectation) est toujours référencée par \"sa\" variable  \n",
    "- la valeur modifiée (à gauche de l'affectation) référence aussi cette valeur.  \n",
    "\n",
    "Cette optimisation, similaire au traitement du cas non mutable, est un peu piégeuse pour la compréhension.  \n",
    "Cependant, elle est sans effet sur la sémantique de la suite d'instructions, voire des suivantes, comme cet exemple l'illustre. \n"
   ]
  },
  {
   "cell_type": "code",
   "execution_count": 10,
   "metadata": {},
   "outputs": [
    {
     "name": "stdout",
     "output_type": "stream",
     "text": [
      "a= 1 4324969376\n",
      "b= 1 4324969376\n",
      "\n",
      "a= 2 4324969408\n",
      "b= 1 4324969376\n",
      "\n",
      "a= 4 4324969472\n",
      "\n",
      "a= 5 4324969504\n",
      "a= 6 4324969536 bizarre : devrait le faire en place : cf. plus loin\n",
      "\n",
      "a= 3 4324969440\n",
      "b= 1 4324969376\n"
     ]
    }
   ],
   "source": [
    "# affectations de non-mutables -- épisode 2\n",
    "a = 1\n",
    "b = a\n",
    "print(\"a=\", a, id(a))\n",
    "print(\"b=\", b, id(b))\n",
    "print()\n",
    "\n",
    "a = 2\n",
    "print(\"a=\", a, id(a))\n",
    "print(\"b=\", b, id(b))\n",
    "print()\n",
    "\n",
    "a = a + 2\n",
    "print(\"a=\", a, id(a))\n",
    "print()\n",
    "\n",
    "a = 5\n",
    "print(\"a=\", a, id(a))\n",
    "a += 1\n",
    "print(\"a=\", a, id(a), \"bizarre : devrait le faire en place : cf. plus loin\")\n",
    "print()\n",
    "\n",
    "a = b + 2\n",
    "print(\"a=\", a, id(a))\n",
    "print(\"b=\", b, id(b))\n"
   ]
  },
  {
   "cell_type": "markdown",
   "metadata": {},
   "source": [
    "En revanche, on répète que :\n",
    "> - si l'objet est __mutable__ alors la modification d'une variable (d'un objet) __est visible__ par les autres variables qui référencent cet objet. \n"
   ]
  },
  {
   "cell_type": "code",
   "execution_count": 11,
   "metadata": {},
   "outputs": [
    {
     "name": "stdout",
     "output_type": "stream",
     "text": [
      "[0, 0] 4359142448\n",
      "[0, 0] 4359142448\n",
      "modification partielle de l\n",
      "[2, 0] 4359142448\n",
      "[2, 0] 4359142448\n",
      "modification totale de l\n",
      "[4, 3] 4358186240\n",
      "[2, 0] 4359142448\n",
      "modifications de l par ses méthodes (aspects POO)\n",
      "[3, 4] 4358186240\n",
      "[3, 4] 4358186240\n",
      "[4, 3] 4358186240\n",
      "[4, 3] 4358186240\n",
      "[4, 11, 3] 4358186240\n",
      "[4, 11, 3] 4358186240\n"
     ]
    }
   ],
   "source": [
    "# affectation de mutables\n",
    "l = [0,0]\n",
    "t = l\n",
    "\n",
    "print(l, id(l))\n",
    "print(t, id(t))\n",
    "\n",
    "print(\"modification partielle de l\")\n",
    "l[0] = 2\n",
    "print(l, id(l))\n",
    "print(t, id(t))\n",
    "\n",
    "print(\"modification totale de l\")\n",
    "l = [4,3]\n",
    "print(l, id(l))\n",
    "print(t, id(t))\n",
    "\n",
    "print(\"modifications de l par ses méthodes (aspects POO)\")\n",
    "t = l\n",
    "l.sort()\n",
    "print(l, id(l))\n",
    "print(t, id(t))\n",
    "l.reverse()\n",
    "print(l, id(l))\n",
    "print(t, id(t))\n",
    "l.insert(1,11)\n",
    "print(l, id(l))\n",
    "print(t, id(t))\n",
    "\n",
    "\n"
   ]
  },
  {
   "cell_type": "markdown",
   "metadata": {},
   "source": [
    "### Compléments\n",
    "\n",
    "#### Comment dupliquer (copier) un objet mutable et obtenir 2 objets différents en mémoire ?\n",
    "\n",
    "Ce qui est nécessaire pour distinguer les effets de modifications de l'un ou de l'autre.  \n",
    "Il faut :\n",
    "- réaliser une copie avec la fonction `copy()` du module `copy`\n",
    "- modifier _l'ensemble_ de l'objet\n",
    "    - créer des tranches complètes de listes : `m[:] = l` ou `m[0,len(l)] = l` "
   ]
  },
  {
   "cell_type": "code",
   "execution_count": 12,
   "metadata": {},
   "outputs": [
    {
     "name": "stdout",
     "output_type": "stream",
     "text": [
      "par référence\n",
      "l= [1, 2, 3]  == m= [1, 2, 3]\n",
      "l= [5, 2, 3]  == m= [5, 2, 3]\n",
      "l= [5, 2, 3]  =/ m= [5, 5, 5]\n",
      "par copie\n",
      "l= [5, 2, 3] == m= [5, 2, 3]  == mm= [5, 2, 3]  == m_copy= [5, 2, 3]\n",
      "l= [0, 2, 3] =/ m= [5, 2, 3]  == mm= [5, 2, 3]  == m_copy= [5, 2, 3]\n",
      "l= [0, 0, 0] =/ m= [5, 2, 3]  == mm= [5, 2, 3]  == m_copy= [5, 2, 3]\n"
     ]
    }
   ],
   "source": [
    "import copy\n",
    "# affectations et modifications d'objets mutables\n",
    "# une liste est mutable\n",
    "l = [1, 2, 3]\n",
    "\n",
    "# initialisation par référence -> pas de duplication\n",
    "print(\"par référence\")\n",
    "m = l\n",
    "print(\"l=\",l, \" == m=\",m)\n",
    "\n",
    "# la modification (partielle) de l impacte aussi m\n",
    "l[0] = 5\n",
    "print(\"l=\",l, \" == m=\",m)\n",
    "\n",
    "# la modification complète de l n'impacte pas m\n",
    "# rmq: c'est une initialisation qui créé un nouvel emplacement mémoire\n",
    "m = [5, 5, 5]\n",
    "print(\"l=\",l, \" =/ m=\",m)\n",
    "\n",
    "\n",
    "# affectation avec copie explicite \n",
    "print(\"par copie\")\n",
    "# par tranches complètes\n",
    "m = l[0:len(l)]\n",
    "mm = l[:]\n",
    "\n",
    "# par copy\n",
    "m_copy = copy.copy(l)\n",
    "\n",
    "print(\"l=\",l,\"== m=\",m,\" == mm=\",mm,\" == m_copy=\",m_copy)\n",
    "\n",
    "l[0]=0\n",
    "print(\"l=\", l,\"=/ m=\",m,\" == mm=\",mm,\" == m_copy=\",m_copy)\n",
    "l = [0, 0, 0]\n",
    "print(\"l=\",l, \"=/ m=\",m,\" == mm=\",mm,\" == m_copy=\",m_copy)"
   ]
  },
  {
   "cell_type": "code",
   "execution_count": 13,
   "metadata": {},
   "outputs": [
    {
     "name": "stdout",
     "output_type": "stream",
     "text": [
      "4358669104 Jo\n",
      "\n",
      "4359139408 ['Jo']\n",
      "4358669104 Jo\n",
      "\n",
      "affectation par reference (pas de duplication\n",
      "4359139408 ['Jo', 'Jack']\n",
      "4359139408 ['Jo', 'Jack']\n",
      "4359153456 Averell\n",
      "\n",
      "Averell ['Jo', 'Jack'] ['Jo', 'Jack']\n"
     ]
    }
   ],
   "source": [
    "# les strings sont non-mutables\n",
    "# les lists sont mutables\n",
    "\n",
    "un_dalton = \"Jo\" #string\n",
    "print(id(un_dalton), un_dalton)\n",
    "print()\n",
    "\n",
    "les_dalton = []    #list\n",
    "les_dalton.append(un_dalton)\n",
    "print(id(les_dalton), les_dalton)\n",
    "print(id(les_dalton[0]), les_dalton[0])\n",
    "print()\n",
    "\n",
    "print(\"affectation par reference (pas de duplication\")\n",
    "les_freres_dalton = les_dalton #affectation par reference (pas de duplication)\n",
    "les_freres_dalton.append('Jack')\n",
    "un_dalton = 'Averell'\n",
    "\n",
    "print(id(les_dalton), les_dalton)\n",
    "#print(id(les_dalton[0]), les_dalton[0])\n",
    "print(id(les_freres_dalton), les_freres_dalton)\n",
    "print(id(un_dalton), un_dalton)\n",
    "print()\n",
    "\n",
    "print (un_dalton, les_dalton, les_freres_dalton)"
   ]
  },
  {
   "cell_type": "code",
   "execution_count": 14,
   "metadata": {},
   "outputs": [
    {
     "name": "stdout",
     "output_type": "stream",
     "text": [
      "4358669104 Jo\n",
      "4359142208 ['Jo']\n",
      "4358669104 Jo\n",
      "\n",
      "affectation avec duplication\n",
      "4359142208 ['Jo']\n",
      "4359139408 ['Jo']\n",
      "\n",
      "4359142208 ['Jo', 'Averell']\n",
      "4359139408 ['Jo', 'Jack']\n",
      "Averell ['Jo', 'Averell'] ['Jo', 'Jack']\n"
     ]
    }
   ],
   "source": [
    "un_dalton = \"Jo\" #string\n",
    "print(id(un_dalton), un_dalton)\n",
    "les_dalton = []    #list\n",
    "les_dalton.append(un_dalton)  # rmq : modification SANS d'affectation\n",
    "print(id(les_dalton), les_dalton)\n",
    "print(id(les_dalton[0]), les_dalton[0])\n",
    "print()\n",
    "\n",
    "print(\"affectation avec duplication\")\n",
    "les_freres_dalton[:] = les_dalton # [:] permet de dupliquer !\n",
    "print(id(les_dalton), les_dalton)\n",
    "print(id(les_freres_dalton), les_freres_dalton)\n",
    "print()\n",
    "\n",
    "les_freres_dalton.append('Jack')\n",
    "un_dalton = \"Averell\"\n",
    "les_dalton.append(un_dalton) # rmq : modification SANS d'affectation\n",
    "print(id(les_dalton), les_dalton)\n",
    "print(id(les_freres_dalton), les_freres_dalton)\n",
    "\n",
    "print (un_dalton, les_dalton, les_freres_dalton)"
   ]
  },
  {
   "cell_type": "markdown",
   "metadata": {},
   "source": [
    "#### Des subtilités pour `x += 1` _vs._ `x = x + 1` \n",
    "\n",
    "Le [manuel de référence du python3](https://docs.python.org/fr/3/reference/simple_stmts.html#index-6) indique en 7.2.1 : \n",
    "> An augmented assignment expression like x += 1 can be rewritten as x = x + 1 to achieve a __similar, but not exactly equal effect__. In the augmented version, x is only evaluated once. Also, when possible, the actual operation is performed __in-place__, meaning that rather than creating a new object and assigning that to the target, the old object is modified instead.\n",
    "\n",
    "\n",
    "Nous n'avosn pourtant pas pu constater cette modification en place pour `a += 1`  dans l'exemple plus haut. ?? Mystère, à creuser !  "
   ]
  },
  {
   "cell_type": "markdown",
   "metadata": {},
   "source": [
    "## Fonctions : approfondissement du passage des paramètres en python\n",
    "\n",
    "<div class=\"alert alert-block alert-success\">\n",
    "Cette section relève de __l'objectif 20__\n",
    "</div>\n",
    "\n",
    "On a écrit :\n",
    "\n",
    ">python : passage par **affectation**\n",
    "\n",
    "En effet, le passage de paramètre correspond à l'affectation :\n",
    "> `paramètre formel = paramètre effectif`  \n",
    "\n",
    "On a détaillé que le mécanisme de ce type d'affectation (copie vs. référence) dépendait du caratère mutable (référence) ou non-mutable (copie) des objets. "
   ]
  },
  {
   "cell_type": "markdown",
   "metadata": {},
   "source": [
    "**Rappel** \n",
    "\n",
    "Le [tutoriel python.org](https://docs.python.org/fr/3/tutorial/controlflow.html#id2) dit :\n",
    "> Les paramètres effectifs (arguments) d’une fonction sont introduits dans la table de symboles locale de la fonction appelée lorsqu’elle est appelée ; par conséquent, __les passages de paramètres__ se font par valeur, la valeur étant toujours une __référence à un objet__, et non la valeur de l’objet lui-même.\n",
    "\n",
    "Ce traitement est en fait similaire à celui de l'_affectation_ en python décrit\n",
    "[plus haut](#revisiter_les_variables_et_l_'_affectation).\n"
   ]
  },
  {
   "cell_type": "markdown",
   "metadata": {},
   "source": [
    "Ce qui donne naturellement les 2 cas suivants.\n",
    "\n",
    "### Le **paramètre** est de type **non-mutable** :\n",
    " * transmission de la _valeur_ de l'argument effectif \n",
    " * argument formel _similaire à_ une variable locale de la fonction\n",
    " * à l'extérieur de la fonction : pas de modification de la variable passée en argument "
   ]
  },
  {
   "cell_type": "code",
   "execution_count": 15,
   "metadata": {},
   "outputs": [
    {
     "name": "stdout",
     "output_type": "stream",
     "text": [
      "avant les appels: u= 0 , x= 0.0\n",
      "\n",
      "f(u)= 1\n",
      "g(x)= 1.0\n",
      "\n",
      "après les appels: u= 0 , x= 0.0\n",
      "\n"
     ]
    }
   ],
   "source": [
    "# fonctions et paramètres de type non-mutable\n",
    "def f(x : int) -> int:\n",
    "    '''retourne une variable locale'''\n",
    "    r = x + 1 \n",
    "    return r\n",
    "\n",
    "def g(x : float) -> float:\n",
    "    '''retourne le paramètre formel modifié'''\n",
    "    x = x + 1\n",
    "    return x\n",
    "\n",
    "u = 0\n",
    "x = 0.0\n",
    "\n",
    "print(\"avant les appels:\", \"u=\",u, \", x=\", x)\n",
    "print()\n",
    "\n",
    "print(\"f(u)=\", f(u))\n",
    "print(\"g(x)=\", g(x))\n",
    "print()\n",
    "\n",
    "print(\"après les appels:\", \"u=\",u, \", x=\", x)\n",
    "print()\n"
   ]
  },
  {
   "cell_type": "markdown",
   "metadata": {},
   "source": [
    "Les valeurs de `u` et `x` sont bien inchangées dans l'appelant bien que `x` soit un paramètre d'entrée modifié et retourné dans `g`.  Il faut voir ces paramètres formels comme des variables locales.  \n",
    "\n",
    "**Attention au `print(appel de f)` !**\n",
    "\n",
    "Bien sûr, l'affectation de la valeur retournée effectue la modification attendue.  "
   ]
  },
  {
   "cell_type": "code",
   "execution_count": 16,
   "metadata": {},
   "outputs": [
    {
     "name": "stdout",
     "output_type": "stream",
     "text": [
      "0.0\n",
      "1.0\n",
      "False\n"
     ]
    }
   ],
   "source": [
    "x = 0.0\n",
    "print(x)\n",
    "x = g(x)\n",
    "print(x)\n",
    "print(x == g(x))"
   ]
  },
  {
   "cell_type": "markdown",
   "metadata": {},
   "source": [
    "### Le **paramètre** de type **mutable** :\n",
    " * transmission de _l'adresse_ de l'argument effectif \n",
    " * l'argument effectif est la variable extérieure à la fonction\n",
    "     * il peut donc y avoir modification de la valeur dans l'appelant de la variable passée en argument \n",
    "\n"
   ]
  },
  {
   "cell_type": "code",
   "execution_count": 17,
   "metadata": {},
   "outputs": [
    {
     "name": "stdout",
     "output_type": "stream",
     "text": [
      "avant les appels: l= [0, 0] ll= [0, 0] , m= [0, 0] mm= [0, 0]\n",
      "avant les appels: id= 4359260672 id= 4359260672 , id= 4359133616 id= 4358179648\n",
      "\n",
      "appel sans affectation du retour:\n",
      "print f(l)= [0, 0, 0, 0]\n",
      "l= [0, 0] ll= [0, 0] , m= [0, 0]\n",
      "id= 4359260672 id= 4359260672 , id= 4359133616\n",
      "\n",
      "appel avec affectation l = f(l):\n",
      "l= [0, 0, 0, 0] ll= [0, 0] , m= [0, 0]\n",
      "id= 4358458016 id= 4359260672 , id= 4359133616\n",
      "\n"
     ]
    }
   ],
   "source": [
    "# fonction et paramètres de type mutable\n",
    "def f(x : list) -> list:\n",
    "    x = x * 2\n",
    "    return x\n",
    "    #return None\n",
    "\n",
    "l = [0,0]\n",
    "ll = l   # même référence\n",
    "m = []  # création\n",
    "m[:] = l # duplication \n",
    "mm = l[:] # création+duplication\n",
    "\n",
    "print(\"avant les appels:\", \"l=\",l, \"ll=\",ll, \", m=\", m,  \"mm=\", mm)\n",
    "print(\"avant les appels:\", \"id=\",id(l), \"id=\",id(ll), \", id=\", id(m), \"id=\", id(mm))\n",
    "print()\n",
    "\n",
    "print(\"appel sans affectation du retour:\")\n",
    "print(\"print f(l)=\", f(l))\n",
    "print(\"l=\",l, \"ll=\",ll,\", m=\", m)\n",
    "print(\"id=\",id(l), \"id=\",id(ll), \", id=\", id(m))\n",
    "print()\n",
    "\n",
    "print(\"appel avec affectation l = f(l):\")\n",
    "l = f(l)\n",
    "print(\"l=\",l, \"ll=\",ll, \", m=\", m)\n",
    "print(\"id=\",id(l), \"id=\",id(ll), \", id=\", id(m))\n",
    "print()\n"
   ]
  },
  {
   "cell_type": "markdown",
   "metadata": {},
   "source": [
    "Ici l'appel sans affectation n'a pas eu d'effet (de bord) sur le paramètre effectif.  \n",
    "En revanche, la fonction suivante travaille sur le paramètre formel (mutable) par l'intermédiaire d'une méthode. \n",
    "C'est bien la référence de l'argument effectif qui est connu de l'appel de la fonction."
   ]
  },
  {
   "cell_type": "code",
   "execution_count": 18,
   "metadata": {},
   "outputs": [
    {
     "name": "stdout",
     "output_type": "stream",
     "text": [
      "l, ll, m\n",
      "[0, 0] <class 'list'> 4359181808\n",
      "[0, 0] <class 'list'> 4359181808\n",
      "[0, 0] <class 'list'> 4358458016\n",
      "avant les appels: l= [0, 0] ll= [0, 0] , m= [0, 0]\n",
      "avant les appels: id= 4359181808 id= 4359181808 , id= 4358458016\n",
      "\n",
      "appel sans affectation du retour: g(l)\n",
      "print g(l)= None\n",
      "l= [0, 0, 1] ll= [0, 0, 1] , m= [0, 0]\n",
      "id= 4359181808 id= 4359181808 , id= 4358458016\n",
      "\n",
      "appel avec affectation l = g(l):\n",
      "l= None ll= [0, 0, 1, 1] , m= [0, 0]\n",
      "id= 4324666808 id= 4359181808 , id= 4358458016\n",
      "\n",
      "appel avec affectation m = g(l):\n",
      "l= [0, 0, 1] ll= [0, 0, 1, 1] , m= None\n",
      "id= 4359182128 id= 4359181808 , id= 4324666808\n",
      "\n"
     ]
    }
   ],
   "source": [
    "# procedure : methode et paramètres de type mutable\n",
    "def g(x : list) -> None:\n",
    "    '''appel d'une méthode sur un objet mutable'''\n",
    "    x.append(1)\n",
    "    #return None\n",
    "\n",
    "l = [0,0]\n",
    "ll = l   # même objet\n",
    "m = l[:] # duplication\n",
    "\n",
    "#observons\n",
    "s = (l,ll,m)\n",
    "print(\"l, ll, m\")\n",
    "for x in iter(s):\n",
    "    print(x, type(x), id(x))\n",
    "\n",
    "print(\"avant les appels:\", \"l=\",l, \"ll=\",ll, \", m=\", m)\n",
    "print(\"avant les appels:\", \"id=\",id(l), \"id=\",id(ll), \", id=\", id(m))\n",
    "print()\n",
    "\n",
    "print(\"appel sans affectation du retour: g(l)\")\n",
    "print(\"print g(l)=\", g(l))\n",
    "print(\"l=\",l, \"ll=\",ll,\", m=\", m)\n",
    "print(\"id=\",id(l), \"id=\",id(ll), \", id=\", id(m))\n",
    "print()\n",
    "\n",
    "print(\"appel avec affectation l = g(l):\")\n",
    "l = g(l)\n",
    "print(\"l=\",l, \"ll=\",ll, \", m=\", m)\n",
    "print(\"id=\",id(l), \"id=\",id(ll), \", id=\", id(m))\n",
    "print()\n",
    "\n",
    "\n",
    "print(\"appel avec affectation m = g(l):\")\n",
    "l = [0,0]\n",
    "m = g(l)\n",
    "print(\"l=\",l, \"ll=\",ll, \", m=\", m)\n",
    "print(\"id=\",id(l), \"id=\",id(ll), \", id=\", id(m))\n",
    "print()\n"
   ]
  },
  {
   "cell_type": "markdown",
   "metadata": {},
   "source": [
    "<div class=\"alert alert-danger\">\n",
    "ATTENTION : c'est bien piégeux !  \n",
    "Retenons pour l'instant, cad. tant qu'on ne manipule pas d'objet :  \n",
    "    \n",
    "- le passage de paramètre s'effectue par valeur  \n",
    "- les paramètres formels sont équivalents à des variables locales  \n",
    "- l'effet de la fonction sur les paramètres effectifs est obtenu lors de l'affectation du retour,  \n",
    "- et ce conformément aux mécanismes d'affectation :  \n",
    "    - copie pour des non-mutables  \n",
    "    - référence pour des mutables \n",
    "</div>\n",
    "\n",
    "**Rmq** Sur ce point, on trouve de tout sur internet et même les ouvrages (dont certains sont dispos à la BU). J'ai lu :\n",
    "\n",
    "- c'est du passage par référence  \n",
    "- c'est du passage par valeur\n",
    "- c'est un mélange des 2 \n",
    "- c'est aucun des deux ...  \n",
    "\n",
    "\n",
    "**Exemple.** Retour sur une fonction de permutation de 2 entiers ... ? "
   ]
  },
  {
   "cell_type": "code",
   "execution_count": 19,
   "metadata": {},
   "outputs": [
    {
     "name": "stdout",
     "output_type": "stream",
     "text": [
      "avant : a,b = 1 11\n",
      "après : a,b = 11 1\n",
      "avant fonction : a,b = 1 11\n",
      "dans permuter, avant x,y : 1 11\n",
      "dans permuter, après x,y : 11 1\n",
      "après fonction : a,b = 1 11\n"
     ]
    }
   ],
   "source": [
    "a = 1\n",
    "b = 11\n",
    "\n",
    "print(\"avant : a,b =\", a, b)\n",
    "t = a\n",
    "a = b\n",
    "b = t\n",
    "print(\"après : a,b =\", a, b)\n",
    "\n",
    "def permuter(x, y: int) -> None:\n",
    "    ''' attention : \n",
    "    les print dans cette fonction sont uniquement à but pédagogique\n",
    "    '''\n",
    "    print(\"dans permuter, avant x,y :\", x, y)\n",
    "    t = x\n",
    "    x = y\n",
    "    y = t\n",
    "    print(\"dans permuter, après x,y :\", x, y)\n",
    "    #return x, y\n",
    "    \n",
    "# marche pas !\n",
    "a = 1\n",
    "b = 11\n",
    "print(\"avant fonction : a,b =\", a, b)\n",
    "permuter(a, b)\n",
    "print(\"après fonction : a,b =\", a, b)\n"
   ]
  },
  {
   "cell_type": "markdown",
   "metadata": {},
   "source": [
    "### Avoir les `id ` claires !\n",
    "\n",
    "Reprenons les observations précédentes avec un focus particulier sur cette focntion `id()`.  \n",
    "\n",
    "#### Utilisons les `id()` avec les mutables"
   ]
  },
  {
   "cell_type": "code",
   "execution_count": 20,
   "metadata": {},
   "outputs": [
    {
     "name": "stdout",
     "output_type": "stream",
     "text": [
      "avant les appels:\n",
      "l= [0, 0] ll= [0, 0] m= [0, 0]\n",
      "@l= 4358972592 @ll= 4358972592 @m= 4359182128\n",
      "\n",
      "appel sans affectation du retour:\n",
      "main: @l= 4358972592\n",
      "  f avant : @= 4358972592\n",
      "  f après : @=  4359261632\n",
      "  f avant : @= 4358972592\n",
      "  f après : @=  4359258352\n",
      "print f(l)= [0, 0, 0, 0] @f(l)= 4359258352\n",
      "l= [0, 0] ll= [0, 0] , m= [0, 0]\n",
      "@l= 4358972592 @ll= 4358972592 @m= 4359182128\n",
      "\n",
      "appel avec affectation l = f(l):\n",
      "  f avant : @= 4358972592\n",
      "  f après : @=  4359261872\n",
      "main: @l(après l=f(l))= 4359261872\n",
      "l= [0, 0, 0, 0] ll= [0, 0] , m= [0, 0]\n",
      "@l= 4359261872 @ll= 4358972592 @m= 4359182128\n",
      "\n"
     ]
    }
   ],
   "source": [
    "# fonction et paramètres de type mutable\n",
    "def f(x: int) -> int:\n",
    "    print(\"  f avant : @=\", id(x))\n",
    "    x = x * 2\n",
    "    print(\"  f après : @= \", id(x))\n",
    "    return x\n",
    "\n",
    "l = [0,0]\n",
    "ll = l   # même référence\n",
    "m = l[:] # duplication\n",
    "\n",
    "print(\"avant les appels:\")\n",
    "print(\"l=\",l, \"ll=\",ll, \"m=\", m)\n",
    "print(\"@l=\",id(l), \"@ll=\",id(ll), \"@m=\",id(m))\n",
    "print()\n",
    "\n",
    "print(\"appel sans affectation du retour:\")\n",
    "print(\"main: @l=\", id(l))\n",
    "print(\"print f(l)=\", f(l), \"@f(l)=\", id(f(l)))\n",
    "print(\"l=\",l, \"ll=\",ll,\", m=\", m)\n",
    "print(\"@l=\",id(l), \"@ll=\",id(ll), \"@m=\",id(m))\n",
    "print()\n",
    "\n",
    "print(\"appel avec affectation l = f(l):\")\n",
    "l = f(l)\n",
    "print(\"main: @l(après l=f(l))=\", id(l))\n",
    "print(\"l=\",l, \"ll=\",ll, \", m=\", m)\n",
    "print(\"@l=\",id(l), \"@ll=\",id(ll), \"@m=\",id(m))\n",
    "print()\n"
   ]
  },
  {
   "cell_type": "markdown",
   "metadata": {},
   "source": [
    "#### Utilisons les `id()` avec les non mutables "
   ]
  },
  {
   "cell_type": "code",
   "execution_count": 21,
   "metadata": {},
   "outputs": [
    {
     "name": "stdout",
     "output_type": "stream",
     "text": [
      "avant les appels:\n",
      "u= 0 @u= 4324969344\n",
      "\n",
      "appel sans affectation du retour:\n",
      "  f_r: avant @= 4324969344\n",
      "  f_r: après @= 4324969344\n",
      "  f_r: avant @= 4324969344\n",
      "  f_r: après @= 4324969344\n",
      "f(u)= 2 @f(u)= 4324969408\n",
      "u= 0 @u= 4324969344\n",
      "\n",
      "appel avec affectation du retour:\n",
      "  f_r: avant @= 4324969344\n",
      "  f_r: après @= 4324969344\n",
      "u après u=f(u)= 2 @u= 4324969408\n"
     ]
    }
   ],
   "source": [
    "# fonctions et paramètres de type non-mutable\n",
    "# f avec variable intermédiaire explicite\n",
    "u = 0\n",
    "\n",
    "def f(x: int) -> int:\n",
    "    print(\"  f_r: avant @=\", id(x))\n",
    "    r = x + 2\n",
    "    print(\"  f_r: après @=\", id(x))\n",
    "    return r\n",
    "\n",
    "def g(x: int) -> int:\n",
    "    print(\"  f_x: avant @=\", id(x))\n",
    "    x = x + 2\n",
    "    print(\"  f_x: après @=\", id(x))\n",
    "    return x\n",
    "\n",
    "def h(x: int) -> int:\n",
    "    print(\"  f_=: avant @=\", id(x))\n",
    "    x += 2\n",
    "    print(\"  f_=: après @=\", id(x))\n",
    "    return x\n",
    "\n",
    "print(\"avant les appels:\")\n",
    "print(\"u=\",u, \"@u=\", id(u))\n",
    "print()\n",
    "\n",
    "print(\"appel sans affectation du retour:\")\n",
    "print(\"f(u)=\", f(u), \"@f(u)=\", id(f(u)))\n",
    "print(\"u=\", u, \"@u=\", id(u))\n",
    "print()\n",
    "\n",
    "print(\"appel avec affectation du retour:\")\n",
    "u = f(u)\n",
    "print(\"u après u=f(u)=\", u, \"@u=\", id(u))\n"
   ]
  },
  {
   "cell_type": "code",
   "execution_count": 22,
   "metadata": {},
   "outputs": [
    {
     "name": "stdout",
     "output_type": "stream",
     "text": [
      "avant les appels:\n",
      "u= 1 @u= 4324969376\n",
      "\n",
      "appel sans affectation du retour:\n",
      "  f_x: avant @= 4324969376\n",
      "  f_x: après @= 4324969440\n",
      "  f_x: avant @= 4324969376\n",
      "  f_x: après @= 4324969440\n",
      "f(u)= 3 @f(u)= 4324969440\n",
      "u= 1 @u= 4324969376\n",
      "\n",
      "appel avec affectation du retour:\n",
      "  f_x: avant @= 4324969376\n",
      "  f_x: après @= 4324969440\n",
      "u après u=f(u)= 3 @u= 4324969440\n"
     ]
    }
   ],
   "source": [
    "# fonctions et paramètres de type non-mutable\n",
    "# f sans variable locale explicite\n",
    "u = 1\n",
    "\n",
    "def f(x: int) -> int:\n",
    "    print(\"  f_x: avant @=\", id(x))\n",
    "    x = x + 2\n",
    "    print(\"  f_x: après @=\", id(x))\n",
    "    return x\n",
    "\n",
    "print(\"avant les appels:\")\n",
    "print(\"u=\",u, \"@u=\", id(u))\n",
    "print()\n",
    "\n",
    "print(\"appel sans affectation du retour:\")\n",
    "print(\"f(u)=\", f(u), \"@f(u)=\", id(f(u)))\n",
    "print(\"u=\", u, \"@u=\", id(u))\n",
    "print()\n",
    "\n",
    "print(\"appel avec affectation du retour:\")\n",
    "u = f(u)\n",
    "print(\"u après u=f(u)=\", u, \"@u=\", id(u))\n"
   ]
  },
  {
   "cell_type": "code",
   "execution_count": 23,
   "metadata": {},
   "outputs": [
    {
     "name": "stdout",
     "output_type": "stream",
     "text": [
      "avant les appels:\n",
      "u= 0 @u= 4324969344\n",
      "\n",
      "appel sans affectation du retour:\n",
      "  f_=: avant @= 4324969344\n",
      "  f_=: après @= 4324969408\n",
      "  f_=: avant @= 4324969344\n",
      "  f_=: après @= 4324969408\n",
      "f(u)= 2 @f(u)= 4324969408\n",
      "u= 0 @u= 4324969344\n",
      "\n",
      "appel avec affectation du retour:\n",
      "  f_=: avant @= 4324969344\n",
      "  f_=: après @= 4324969408\n",
      "u après u=f(u)= 2 @u= 4324969408\n"
     ]
    }
   ],
   "source": [
    "# fonctions et paramètres de type non-mutable\n",
    "# f avec affectation composée\n",
    "u = 0\n",
    "\n",
    "def f(x : int) -> int:\n",
    "    print(\"  f_=: avant @=\", id(x))\n",
    "    x += 2\n",
    "    print(\"  f_=: après @=\", id(x))\n",
    "    return x\n",
    "\n",
    "print(\"avant les appels:\")\n",
    "print(\"u=\",u, \"@u=\", id(u))\n",
    "print()\n",
    "\n",
    "print(\"appel sans affectation du retour:\")\n",
    "print(\"f(u)=\", f(u), \"@f(u)=\", id(f(u)))\n",
    "print(\"u=\", u, \"@u=\", id(u))\n",
    "print()\n",
    "\n",
    "print(\"appel avec affectation du retour:\")\n",
    "u = f(u)\n",
    "print(\"u après u=f(u)=\", u, \"@u=\", id(u))\n"
   ]
  },
  {
   "cell_type": "markdown",
   "metadata": {},
   "source": [
    "## Pour finir\n",
    "\n",
    "Deux compléments faciles (arguments nommés et argument avec valeur par défaut) ainsi qu'une courte liste de ce qu'il reste à découvrir ... pour les plus curieux.  "
   ]
  },
  {
   "cell_type": "markdown",
   "metadata": {},
   "source": [
    "###  Arguments nommés\n",
    "\n",
    "Lors de l'_appel_, nommer les paramètres _formels_ et la valeur correspondante de l'argument (effectif), permet un ordre quelconque de ceux-ci."
   ]
  },
  {
   "cell_type": "code",
   "execution_count": 24,
   "metadata": {},
   "outputs": [
    {
     "name": "stdout",
     "output_type": "stream",
     "text": [
      "Bonjour étudiantes et étudiants !\n",
      "Bonjour étudiantes et étudiants !\n"
     ]
    }
   ],
   "source": [
    "def trois_mots(mot1, mot2, mot3 : str) -> str:\n",
    "    return mot1 + mot2 + mot3\n",
    "\n",
    "m1 = 'Bonjour '\n",
    "m2 = 'étudiantes et '\n",
    "m3 = 'étudiants !'\n",
    "\n",
    "#appel par position\n",
    "m_classique = trois_mots(m1,m2,m3)\n",
    "\n",
    "# appel par nom\n",
    "m = trois_mots(mot3=m3, mot1=m1, mot2=m2) \n",
    "\n",
    "print(m_classique)\n",
    "print(m)"
   ]
  },
  {
   "cell_type": "markdown",
   "metadata": {},
   "source": [
    "###  Argument avec valeur par défaut\n",
    "\n",
    "Les _derniers_ paramètres formels peuvent bénéficier de valeurs par défaut  \n",
    "* derniers : tous à partir d'un rang arbitraire \n",
    "* les précédents sont sans valeur par défaut  \n",
    "\n",
    "Lors de l'_appel_, ces valeurs sont utilisées en cas d'absence des paramètres effectifs.\n",
    "\n",
    "Syntaxe : \n",
    "* Ces valeurs sont définies avec une affectation _après_ l'annotation de type.  \n",
    "* L'annotation raccourcie de types (une annotation commune à tous les paramètres)  ne peuvent être utilisées en cas d'argument avec valeur pas défaut.\n",
    "\n",
    "<div class=\"alert alert-block alert-warning\">\n",
    "    \n",
    "En pratique, limiter les valeurs par défaut à des paramètres _non-mutables_ : `int`, `bool`, `float`, `str`,  `tuple`  \n",
    "\n",
    "</div>"
   ]
  },
  {
   "cell_type": "code",
   "execution_count": 25,
   "metadata": {},
   "outputs": [
    {
     "name": "stdout",
     "output_type": "stream",
     "text": [
      "a= 0\n",
      "a= 1\n",
      "2\n",
      "8\n",
      "Bonjour Madame, Monsieur.\n",
      "Au revoir très cher Monsieur.\n",
      "Au revoir Madame, et très cher Monsieur\n",
      "Au revoir les uns, et les autres.\n"
     ]
    }
   ],
   "source": [
    "def incrementer(x : int, y : int = 1) -> int:\n",
    "    return x + y\n",
    "\n",
    "def tournure_polie(mot1 : str, mot2 : str = \" Madame, \", mot3 : str = \"Monsieur.\" ) -> str:\n",
    "    return mot1 + mot2 + mot3\n",
    "\n",
    "a = 0\n",
    "print(\"a=\",a)\n",
    "a = incrementer(a)\n",
    "print(\"a=\",a)\n",
    "\n",
    "print(incrementer(a))\n",
    "print(incrementer(a, 7))\n",
    "\n",
    "print(tournure_polie('Bonjour'))\n",
    "print(tournure_polie('Au revoir', ' très cher '))\n",
    "print(tournure_polie('Au revoir', mot3 ='et très cher Monsieur'))\n",
    "print(tournure_polie('Au revoir ', \"les uns,\", ' et les autres.'))"
   ]
  },
  {
   "cell_type": "markdown",
   "metadata": {},
   "source": [
    "### Ce qu'il reste à voir sur les fonctions en python\n",
    "\n",
    " \n",
    "* Argument de type fonction  \n",
    "* Nombre variable d'arguments (tuple et dictionnaire)\n",
    "* Fonction comme valeur de première classe : `lambda` fonction\n"
   ]
  },
  {
   "cell_type": "markdown",
   "metadata": {},
   "source": [
    "## Synthèse\n",
    "\n",
    "**Passage de paramètres appelant <-> appelé**\n",
    "* \"matériel\" : par valeur _vs._ par copie \n",
    "* logique : in _vs._ out _vs._ inout\n",
    "* aide : différencier fonction _vs._ procédure \n",
    "* python :   \n",
    "    - pas de surprise pour les non-mutables (= variables locales)  \n",
    "    - attention aux mutables : danger d'effet de bord\n",
    "    \n",
    "**Objectif 20**\n",
    "* python : affectation par référence  \n",
    "    - pas de surprise pour les non-mutables  \n",
    "    - attention aux mutables  : duplication par `copy.copy` ou par \"tranches complètes\" \n",
    "    - penser \"objet\" aide pour le comportement des mutables\n",
    "\n",
    "* python : fonction et passage d'argument appelant/appelé : \n",
    "    - similaire à l'affectation    \n",
    "\n"
   ]
  },
  {
   "cell_type": "raw",
   "metadata": {},
   "source": [
    "jupyter nbconvert --to html_embed --template toc2 2-fonctions-avancees.ipynb"
   ]
  }
 ],
 "metadata": {
  "kernelspec": {
   "display_name": "Python 3",
   "language": "python",
   "name": "python3"
  },
  "language_info": {
   "codemirror_mode": {
    "name": "ipython",
    "version": 3
   },
   "file_extension": ".py",
   "mimetype": "text/x-python",
   "name": "python",
   "nbconvert_exporter": "python",
   "pygments_lexer": "ipython3",
   "version": "3.7.7"
  },
  "latex_envs": {
   "LaTeX_envs_menu_present": true,
   "autoclose": false,
   "autocomplete": true,
   "bibliofile": "biblio.bib",
   "cite_by": "apalike",
   "current_citInitial": 1,
   "eqLabelWithNumbers": true,
   "eqNumInitial": 1,
   "hotkeys": {
    "equation": "Ctrl-E",
    "itemize": "Ctrl-I"
   },
   "labels_anchors": false,
   "latex_user_defs": false,
   "report_style_numbering": true,
   "user_envs_cfg": false
  },
  "toc": {
   "nav_menu": {
    "height": "341px",
    "width": "341px"
   },
   "number_sections": true,
   "sideBar": true,
   "skip_h1_title": false,
   "title_cell": "Table of Contents",
   "title_sidebar": "Contents",
   "toc_cell": true,
   "toc_position": {
    "height": "428px",
    "left": "848px",
    "right": "20px",
    "top": "110px",
    "width": "348px"
   },
   "toc_section_display": true,
   "toc_window_display": true
  }
 },
 "nbformat": 4,
 "nbformat_minor": 2
}
