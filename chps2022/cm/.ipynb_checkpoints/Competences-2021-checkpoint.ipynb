{
 "cells": [
  {
   "cell_type": "markdown",
   "metadata": {},
   "source": [
    "version 2021, PhL."
   ]
  },
  {
   "cell_type": "code",
   "execution_count": 1,
   "metadata": {},
   "outputs": [],
   "source": [
    "# -*- coding : utf8 -*-\n",
    "from typing import List"
   ]
  },
  {
   "cell_type": "markdown",
   "metadata": {
    "toc": true
   },
   "source": [
    "<h1>Table des matières<span class=\"tocSkip\"></span></h1>\n",
    "<div class=\"toc\"><ul class=\"toc-item\"><li><span><a href=\"#Fonctions\" data-toc-modified-id=\"Fonctions-1\"><span class=\"toc-item-num\">1&nbsp;&nbsp;</span>Fonctions</a></span><ul class=\"toc-item\"><li><span><a href=\"#Ce-qu'il-faut-savoir\" data-toc-modified-id=\"Ce-qu'il-faut-savoir-1.1\"><span class=\"toc-item-num\">1.1&nbsp;&nbsp;</span>Ce qu'il faut savoir</a></span></li><li><span><a href=\"#Ce-qu'il-faut-savoir-faire\" data-toc-modified-id=\"Ce-qu'il-faut-savoir-faire-1.2\"><span class=\"toc-item-num\">1.2&nbsp;&nbsp;</span>Ce qu'il faut savoir faire</a></span></li><li><span><a href=\"#Pré-requis-technique\" data-toc-modified-id=\"Pré-requis-technique-1.3\"><span class=\"toc-item-num\">1.3&nbsp;&nbsp;</span>Pré-requis technique</a></span></li><li><span><a href=\"#QCM-fonctions\" data-toc-modified-id=\"QCM-fonctions-1.4\"><span class=\"toc-item-num\">1.4&nbsp;&nbsp;</span>QCM fonctions</a></span></li></ul></li><li><span><a href=\"#Boucles-avancées\" data-toc-modified-id=\"Boucles-avancées-2\"><span class=\"toc-item-num\">2&nbsp;&nbsp;</span>Boucles avancées</a></span><ul class=\"toc-item\"><li><span><a href=\"#Ce-qu'il-faut-savoir\" data-toc-modified-id=\"Ce-qu'il-faut-savoir-2.1\"><span class=\"toc-item-num\">2.1&nbsp;&nbsp;</span>Ce qu'il faut savoir</a></span></li><li><span><a href=\"#Ce-qu'il-faut-savoir-faire\" data-toc-modified-id=\"Ce-qu'il-faut-savoir-faire-2.2\"><span class=\"toc-item-num\">2.2&nbsp;&nbsp;</span>Ce qu'il faut savoir faire</a></span></li></ul></li><li><span><a href=\"#(P)-Entrées-Sorties-:-fichiers\" data-toc-modified-id=\"(P)-Entrées-Sorties-:-fichiers-3\"><span class=\"toc-item-num\">3&nbsp;&nbsp;</span>(P) Entrées-Sorties : fichiers</a></span><ul class=\"toc-item\"><li><span><a href=\"#Avoir-les-idées-claires\" data-toc-modified-id=\"Avoir-les-idées-claires-3.1\"><span class=\"toc-item-num\">3.1&nbsp;&nbsp;</span>Avoir les idées claires</a></span></li><li><span><a href=\"#Savoir-faire\" data-toc-modified-id=\"Savoir-faire-3.2\"><span class=\"toc-item-num\">3.2&nbsp;&nbsp;</span>Savoir-faire</a></span></li></ul></li><li><span><a href=\"#Complexité\" data-toc-modified-id=\"Complexité-4\"><span class=\"toc-item-num\">4&nbsp;&nbsp;</span>Complexité</a></span><ul class=\"toc-item\"><li><span><a href=\"#Avoir-les-idées-claires\" data-toc-modified-id=\"Avoir-les-idées-claires-4.1\"><span class=\"toc-item-num\">4.1&nbsp;&nbsp;</span>Avoir les idées claires</a></span></li><li><span><a href=\"#Savoir-faire\" data-toc-modified-id=\"Savoir-faire-4.2\"><span class=\"toc-item-num\">4.2&nbsp;&nbsp;</span>Savoir-faire</a></span></li></ul></li><li><span><a href=\"#(P)-Types-composés\" data-toc-modified-id=\"(P)-Types-composés-5\"><span class=\"toc-item-num\">5&nbsp;&nbsp;</span>(P) Types composés</a></span><ul class=\"toc-item\"><li><span><a href=\"#Avoir-les-idées-claires\" data-toc-modified-id=\"Avoir-les-idées-claires-5.1\"><span class=\"toc-item-num\">5.1&nbsp;&nbsp;</span>Avoir les idées claires</a></span></li><li><span><a href=\"#Savoir-faire\" data-toc-modified-id=\"Savoir-faire-5.2\"><span class=\"toc-item-num\">5.2&nbsp;&nbsp;</span>Savoir-faire</a></span></li></ul></li><li><span><a href=\"#(P)-Entrées-Sorties-:-aspects-avancés\" data-toc-modified-id=\"(P)-Entrées-Sorties-:-aspects-avancés-6\"><span class=\"toc-item-num\">6&nbsp;&nbsp;</span>(P) Entrées-Sorties : aspects avancés</a></span><ul class=\"toc-item\"><li><span><a href=\"#Avoir-les-idées-claires\" data-toc-modified-id=\"Avoir-les-idées-claires-6.1\"><span class=\"toc-item-num\">6.1&nbsp;&nbsp;</span>Avoir les idées claires</a></span></li><li><span><a href=\"#Savoir-faire\" data-toc-modified-id=\"Savoir-faire-6.2\"><span class=\"toc-item-num\">6.2&nbsp;&nbsp;</span>Savoir-faire</a></span></li><li><span><a href=\"#Avoir-les-idées-claires\" data-toc-modified-id=\"Avoir-les-idées-claires-6.3\"><span class=\"toc-item-num\">6.3&nbsp;&nbsp;</span>Avoir les idées claires</a></span></li><li><span><a href=\"#Savoir-faire\" data-toc-modified-id=\"Savoir-faire-6.4\"><span class=\"toc-item-num\">6.4&nbsp;&nbsp;</span>Savoir-faire</a></span></li></ul></li><li><span><a href=\"#Rechercher\" data-toc-modified-id=\"Rechercher-7\"><span class=\"toc-item-num\">7&nbsp;&nbsp;</span>Rechercher</a></span></li><li><span><a href=\"#Des-QCM-et-autres-sites-à-exploiter\" data-toc-modified-id=\"Des-QCM-et-autres-sites-à-exploiter-8\"><span class=\"toc-item-num\">8&nbsp;&nbsp;</span>Des QCM et autres sites à exploiter</a></span></li></ul></div>"
   ]
  },
  {
   "cell_type": "markdown",
   "metadata": {
    "slideshow": {
     "slide_type": "skip"
    }
   },
   "source": [
    "# Fonctions\n",
    "\n",
    "## Ce qu'il faut savoir\n",
    "\n",
    "- définition et paramètres formels vs. appel et paramètres effectifs\n",
    "- spécification, en-tête, signature : spécifier pour utiliser, pour vérifier  vs. corps : implémentation du traitement  \n",
    "- appel = changement de contexte : trace de l'exécution vs. séquentialité des instructions écrites \n",
    "    - dynamique vs. statique  \n",
    "- appelant vs. appelé : le rôle de l'appel, le rôle du return\n",
    "- portée des variables : variables locales vs. variables plus globales  \n",
    "- l'effet de bord est indésirable  \n",
    "\n",
    "\n",
    "## Ce qu'il faut savoir faire \n",
    "\n",
    "**Cadre** : en/pour python \n",
    "\n",
    "- définir et écrire la spécification d'une fonction qui réalise un traitement décrit en français, ou qui résoud un problème (simple) décrit en français  \n",
    "- définir et écrire des appels simples (tests unitaires) \n",
    "- définir et écrire l'implémentation d'une fonction associée à une spécification \n",
    "\n",
    "## Pré-requis technique\n",
    "\n",
    "Dans/avec un notebook jupyter :\n",
    "- savoir mettre en oeuvre de la programmation simple en python (niveau semestre 1) dans un notebook jupyter \n",
    "- savoir documenter cette programmation (énoncés, descriptions, ...) avec markdown\n"
   ]
  },
  {
   "cell_type": "markdown",
   "metadata": {
    "slideshow": {
     "slide_type": "skip"
    }
   },
   "source": [
    "# Boucles avancées\n",
    "\n",
    "## Ce qu'il faut savoir\n",
    "\n",
    "- Structure de données : représentation d'un tableau multidimensionnel comme une liste de listes  \n",
    "- Structure de contrôle de type boucles imbriquées indépendantes et dépendantes : \n",
    "    - intérêt et exemples simples, \n",
    "    - dénombrer les itérations de ces constructions.\n",
    "\n",
    "## Ce qu'il faut savoir faire \n",
    "\n",
    "**Cadre** : en/pour python \n",
    "\n",
    "- Définir et écrire un traitement classique de tableau multidimensionnel  : parcours simple, parcours conditionnel \n",
    "- Ecrire une initialisation de tableau multidimensionnel en python (représenté par des listes)\n",
    "- Définir et écrire une spécification de fonction avec des paramètres de type tableau  \n",
    "- Identifier les cas particuliers liés à la structure de tableau : tableau de dimension 0, tableau vide"
   ]
  },
  {
   "cell_type": "markdown",
   "metadata": {},
   "source": [
    "# (P) Entrées-Sorties : fichiers\n",
    "\n",
    "## Avoir les idées claires\n",
    "\n",
    "- Distinguer fichier logique _vs._ physique, texte _vs._ binaire, mode lecture _vs._ écriture (_vs._ lecture-écriture) \n",
    "- Connaître les étapes de manipulation d'un fichier : association/ouverture/lecture-écriture/fermeture\n",
    "- Distinguer valeur (numérique) et sa représentation textuelle \n",
    "\n",
    "## Savoir-faire\n",
    "\n",
    "- Savoir écrire les lectures-écritures simples de fichier texte avec les instructions python adaptées  \n",
    "- Comprendre et gérer l'effet des caractères spéciaux "
   ]
  },
  {
   "cell_type": "markdown",
   "metadata": {},
   "source": [
    "# Complexité\n",
    "\n",
    "## Avoir les idées claires\n",
    "\n",
    "- Principes de l'analyse de la complexité en temps : modèle de calcul RAM, paramètres de complexité, meilleur et pire cas\n",
    "- Complexité asymptotique : notations de Landau, principales classes de complexité des algorithmes, interprétation pratique de ces classes\n",
    "- Complexité, pire-meilleurs cas des algorithmes vus ce semestre\n",
    "- Savoir établir la complexité d'algorithmes itératifs simples ou récursifs terminaux.\n",
    "\n",
    "\n",
    "## Savoir-faire\n",
    "\n",
    "- Exemples d'algorithme des principales classes de complexité \n",
    "- Savoir identifier (sans nécessairement le prouver) la complexité, les meilleur-pire cas d'un algorithme  "
   ]
  },
  {
   "cell_type": "markdown",
   "metadata": {},
   "source": [
    "# (P) Types composés\n",
    "\n",
    "## Avoir les idées claires\n",
    "\n",
    "voir cours \n",
    "\n",
    "## Savoir-faire\n",
    "\n",
    "voir cours"
   ]
  },
  {
   "cell_type": "markdown",
   "metadata": {},
   "source": [
    "# Récursivité\n",
    "\n",
    "## Avoir les idées claires\n",
    "\n",
    "- Savoir conduire une approche diviser pour régner et en déduire une solution récursive : application à des exemples calculatoires simples (factorielles, exponentiation entière, exponentiation rapide)\n",
    "- Savoir identifier la (ou les) terminaison, la récursions et l'initialisation d'un traitement avec un algorithme récursif : application à des exemples simples (factorielles, exponentiation entière, exponentiation rapide)\n",
    "\n",
    "## Savoir-faire\n",
    "\n",
    "\n"
   ]
  },
  {
   "cell_type": "markdown",
   "metadata": {},
   "source": [
    "# (P) Entrées-Sorties : aspects avancés\n",
    "\n",
    "## Avoir les idées claires\n",
    "\n",
    "- Connaitre les principes du formatage des données pour pouvoir retrouver rapidement dans la documentation (de cours ou de référence) les commandes pour effectuer ce traitement.\n",
    "\n",
    "## Savoir-faire\n",
    "\n",
    "- Utiliser les formatages de base des types `int` et `float` de python\n",
    "- En s'appuyant sur les documents de cours ou de référence, définir et appliquer des formatages évolués et adaptés aux données manipulées avec python"
   ]
  },
  {
   "cell_type": "markdown",
   "metadata": {},
   "source": [
    "# Rechercher\n",
    "\n",
    "## Avoir les idées claires\n",
    "\n",
    "- Connaître les principes des formes itératives et récursives des algorithmes de recherche fondamentaux (recherche séquentielle, recherche dichotomique) \n",
    "- Savoir conduire une approche diviser pour régner et en déduire une solution récursive pour le problème de la recherche d'une valeur dans un ensemble ou des problèmes similaires.\n",
    "- Savoir identifier la (ou les) terminaison, la récursions et l'initialisation d'une recherche de valeur (ou problème similaire) avec un algorithme récursif\n",
    "\n",
    "## Savoir-faire\n",
    "\n",
    "- Savoir écrire sous la forme d'une fonction de même signature les versions itérative et récursive d'un algorithme de recherche de valeur dans un ensemble"
   ]
  },
  {
   "cell_type": "markdown",
   "metadata": {
    "slideshow": {
     "slide_type": "skip"
    }
   },
   "source": [
    "# Des QCM et autres sites à exploiter\n",
    "\n",
    "Le net est riche de ressources à exploiter. \n",
    "En voici quelques-unes sélectionnées et à exploiter en plus de ceux proposés à chaque fin de chapitre.\n",
    "\n",
    "- [Site](https://www.bernon.fr/index.php?page=exercice-banque-e3c-thème-a) de M. Bernon : QCMs interactifs issus de la banque de données des E3C  \n",
    "\n",
    "- [Site](http://fabrice.sincere.free.fr/qcm/qcm.php?nom=qcm_python_function) de Fabrice Sincere (lien sur le qcm sur les fonctions) \n",
    "\n",
    "- Fonctions, Objectif 20 : [France IOI]\n",
    "(http://www.france-ioi.org/algo/chapter.php?idChapter=509)\n"
   ]
  }
 ],
 "metadata": {
  "kernelspec": {
   "display_name": "Python 3",
   "language": "python",
   "name": "python3"
  },
  "language_info": {
   "codemirror_mode": {
    "name": "ipython",
    "version": 3
   },
   "file_extension": ".py",
   "mimetype": "text/x-python",
   "name": "python",
   "nbconvert_exporter": "python",
   "pygments_lexer": "ipython3",
   "version": "3.7.7"
  },
  "latex_envs": {
   "LaTeX_envs_menu_present": true,
   "autoclose": false,
   "autocomplete": true,
   "bibliofile": "biblio.bib",
   "cite_by": "apalike",
   "current_citInitial": 1,
   "eqLabelWithNumbers": true,
   "eqNumInitial": 1,
   "hotkeys": {
    "equation": "Ctrl-E",
    "itemize": "Ctrl-I"
   },
   "labels_anchors": false,
   "latex_user_defs": false,
   "report_style_numbering": true,
   "user_envs_cfg": false
  },
  "toc": {
   "nav_menu": {},
   "number_sections": true,
   "sideBar": false,
   "skip_h1_title": false,
   "title_cell": "Table des matières",
   "title_sidebar": "TdM",
   "toc_cell": true,
   "toc_position": {},
   "toc_section_display": true,
   "toc_window_display": false
  }
 },
 "nbformat": 4,
 "nbformat_minor": 4
}
