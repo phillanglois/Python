{
 "cells": [
  {
   "cell_type": "markdown",
   "metadata": {
    "toc": true
   },
   "source": [
    "<h1>Table des matières<span class=\"tocSkip\"></span></h1>\n",
    "<div class=\"toc\"><ul class=\"toc-item\"><li><span><a href=\"#Exercice-1\" data-toc-modified-id=\"Exercice-1-1\"><span class=\"toc-item-num\">1&nbsp;&nbsp;</span>Exercice 1</a></span></li></ul></div>"
   ]
  },
  {
   "cell_type": "markdown",
   "metadata": {},
   "source": [
    "# Exercice 1\n",
    "\n",
    "(Extrait de France-IOI)\n",
    "\n",
    "Ce que doit faire votre programme :\n",
    "\n",
    "Écrivez un programme qui affiche une ligne de « X », un rectangle de « # », et un triangle de « @ ». Les deux formes doivent être creuses (remplies avec des espaces).\n",
    "\n",
    "L'entrée comporte quatre entiers, un par ligne :\n",
    "- le nombre de « X » de la ligne à afficher ;\n",
    "- le nombre de lignes du rectangle de « # » ;\n",
    "- le nombre de colonnes du rectangle ;\n",
    "- le nombre de lignes du triangle de « @ ».\n",
    "\n",
    "Vous devez afficher les trois formes successivement, avec une ligne blanche entre chaque forme, comme le montre l'exemple.\n",
    "\n",
    "Votre objectif doit être d'obtenir le code source le plus simple et clair possible, en le décomposant en fonctions."
   ]
  },
  {
   "cell_type": "markdown",
   "metadata": {},
   "source": [
    "**Exemple.**\n",
    "\n",
    "entrée :\n",
    "```\n",
    "15\n",
    "5\n",
    "12\n",
    "6\n",
    "```"
   ]
  },
  {
   "cell_type": "markdown",
   "metadata": {},
   "source": [
    "sortie :\n",
    "```\n",
    "XXXXXXXXXXXXXXX\n",
    "\n",
    "############\n",
    "#          #\n",
    "#          #\n",
    "#          #\n",
    "############\n",
    "\n",
    "@\n",
    "@@\n",
    "@ @\n",
    "@  @\n",
    "@   @\n",
    "@@@@@@\n",
    "```"
   ]
  },
  {
   "cell_type": "markdown",
   "metadata": {},
   "source": [
    "**Commentaires**\n",
    "\n",
    "Attention : le nombre de lignes ou de colonnes peut être égal à 1."
   ]
  },
  {
   "cell_type": "code",
   "execution_count": 30,
   "metadata": {},
   "outputs": [
    {
     "name": "stdout",
     "output_type": "stream",
     "text": [
      "XXXXXXXXXXXXXXX\n",
      "\n",
      "############\n",
      "#          #\n",
      "#          #\n",
      "#          #\n",
      "############\n",
      "\n",
      "@\n",
      "@@\n",
      "@ @\n",
      "@  @\n",
      "@   @\n",
      "@@@@@@\n",
      "\n"
     ]
    }
   ],
   "source": [
    "# entrées\n",
    "'''mon_x = int(input('nb X'))\n",
    "mon_l = int(input('nb lignes rectangle'))\n",
    "mon_c = int(input('nb colonnes rectangle'))\n",
    "lt = int(input('nb lignes triangle'))\n",
    "'''\n",
    "\n",
    "def tracer_ligne(x : int) -> None:\n",
    "    res = ''\n",
    "    for i in range(x):\n",
    "        res = res + 'X'\n",
    "    print(res)\n",
    "    print()\n",
    "    return None\n",
    "\n",
    "def tracer_rectangle(l : int, c : int) -> None:\n",
    "    debut = ''\n",
    "    for i in range(c):\n",
    "        debut = debut + '#'\n",
    "    milieu = '#'\n",
    "    for i in range(1, c-1):\n",
    "        milieu = milieu + ' ' \n",
    "    if c > 1:\n",
    "        milieu = milieu + '#'\n",
    "    \n",
    "    print(debut)\n",
    "    for i in range(1, l-1):\n",
    "        print(milieu)\n",
    "    if l > 1:\n",
    "        print(debut)\n",
    "    print()\n",
    "    return None\n",
    "\n",
    "def tracer_triangle(l : int) -> None:\n",
    "    #ligne 1 avec l > 0 \n",
    "    print(\"@\")\n",
    "    \n",
    "    if l == 1:\n",
    "        print()\n",
    "        return None\n",
    "\n",
    "    # suivantes\n",
    "    for num_ligne in range(1, l-1):\n",
    "        ligne = \"@\" \n",
    "        for j in range(num_ligne-1):\n",
    "            ligne = ligne + ' '\n",
    "        ligne = ligne + \"@\"\n",
    "        print(ligne)      \n",
    "    \n",
    "    # derniere ligne\n",
    "    ligne = \"\"\n",
    "    for i in range(l):\n",
    "        ligne = ligne + \"@\"\n",
    "    print(ligne)\n",
    "    print()\n",
    "    return None\n",
    "\n",
    "\n",
    "\n",
    "mon_x = 15\n",
    "mon_l = 5\n",
    "mon_c = 12\n",
    "mon_lt = 6\n",
    "\n",
    "tracer_ligne(mon_x)\n",
    "tracer_rectangle(mon_l, mon_c)\n",
    "tracer_triangle(mon_lt)    \n"
   ]
  },
  {
   "cell_type": "markdown",
   "metadata": {},
   "source": [
    "# Exercice 2\n",
    "\n",
    "Qui reprend l'exercice 8 du CT1 d'algorithmique du semestre 1 2020.\n",
    "\n",
    "On construit une pyramide avec des cubes. Le nombres de cubes nécessaire dépend de la hauteur $n$ de la pyramide. Il faut par exemple 9 cubes pour construre la pyramide de hauteur 3 du schéma suivant :\n"
   ]
  },
  {
   "cell_type": "code",
   "execution_count": null,
   "metadata": {},
   "outputs": [],
   "source": []
  }
 ],
 "metadata": {
  "kernelspec": {
   "display_name": "Python 3",
   "language": "python",
   "name": "python3"
  },
  "language_info": {
   "codemirror_mode": {
    "name": "ipython",
    "version": 3
   },
   "file_extension": ".py",
   "mimetype": "text/x-python",
   "name": "python",
   "nbconvert_exporter": "python",
   "pygments_lexer": "ipython3",
   "version": "3.7.7"
  },
  "toc": {
   "nav_menu": {},
   "number_sections": true,
   "sideBar": false,
   "skip_h1_title": false,
   "title_cell": "Table des matières",
   "title_sidebar": "TdM",
   "toc_cell": true,
   "toc_position": {},
   "toc_section_display": true,
   "toc_window_display": false
  }
 },
 "nbformat": 4,
 "nbformat_minor": 4
}
