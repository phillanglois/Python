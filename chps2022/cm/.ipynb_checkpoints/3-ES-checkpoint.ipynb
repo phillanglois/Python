{
 "cells": [
  {
   "cell_type": "markdown",
   "metadata": {
    "slideshow": {
     "slide_type": "slide"
    }
   },
   "source": [
    "# Les entrées-sorties (E/S)\n",
    "\n",
    "**Partie Programmation**    \n",
    "version 2021, PhL."
   ]
  },
  {
   "cell_type": "markdown",
   "metadata": {
    "slideshow": {
     "slide_type": "slide"
    }
   },
   "source": [
    "Chapitre où on étudie comment manipuler les fichiers et peaufiner ses entrées-sorties.\n",
    "\n",
    "Jusqu'à présent les entrées-sorties ont été générées à grands coups de `print()` et d'` input()` pour interagir avec l'écran ou le clavier.\n",
    "Les entrées-sorties ne sont pas limitées au couple écran-clavier.\n",
    "Bien au contraire, ces derniers ne sont que des cas particuliers d'une notion plus générale : celle de _fichier_.   "
   ]
  },
  {
   "cell_type": "markdown",
   "metadata": {
    "slideshow": {
     "slide_type": "slide"
    },
    "toc": true
   },
   "source": [
    "<h1>Table of Contents<span class=\"tocSkip\"></span></h1>\n",
    "<div class=\"toc\"><ul class=\"toc-item\"><li><span><a href=\"#Les-entrées-sorties-(E/S)\" data-toc-modified-id=\"Les-entrées-sorties-(E/S)-1\"><span class=\"toc-item-num\">1&nbsp;&nbsp;</span>Les entrées-sorties (E/S)</a></span><ul class=\"toc-item\"><li><span><a href=\"#Les-fichiers\" data-toc-modified-id=\"Les-fichiers-1.1\"><span class=\"toc-item-num\">1.1&nbsp;&nbsp;</span>Les fichiers</a></span><ul class=\"toc-item\"><li><span><a href=\"#Principes\" data-toc-modified-id=\"Principes-1.1.1\"><span class=\"toc-item-num\">1.1.1&nbsp;&nbsp;</span>Principes</a></span></li><li><span><a href=\"#Allons-y-en-python-!\" data-toc-modified-id=\"Allons-y-en-python-!-1.1.2\"><span class=\"toc-item-num\">1.1.2&nbsp;&nbsp;</span>Allons-y en python !</a></span><ul class=\"toc-item\"><li><span><a href=\"#Les-fonctions-et-les-méthodes\" data-toc-modified-id=\"Les-fonctions-et-les-méthodes-1.1.2.1\"><span class=\"toc-item-num\">1.1.2.1&nbsp;&nbsp;</span>Les fonctions et les méthodes</a></span></li><li><span><a href=\"#Autres-syntaxes-classiques\" data-toc-modified-id=\"Autres-syntaxes-classiques-1.1.2.2\"><span class=\"toc-item-num\">1.1.2.2&nbsp;&nbsp;</span>Autres syntaxes classiques</a></span></li></ul></li><li><span><a href=\"#Ce-qu'il-restera-à-voir\" data-toc-modified-id=\"Ce-qu'il-restera-à-voir-1.1.3\"><span class=\"toc-item-num\">1.1.3&nbsp;&nbsp;</span>Ce qu'il restera à voir</a></span></li></ul></li><li><span><a href=\"#Les-formats-d'affichage\" data-toc-modified-id=\"Les-formats-d'affichage-1.2\"><span class=\"toc-item-num\">1.2&nbsp;&nbsp;</span>Les formats d'affichage</a></span><ul class=\"toc-item\"><li><span><a href=\"#Ce-qu'il-faut-savoir\" data-toc-modified-id=\"Ce-qu'il-faut-savoir-1.2.1\"><span class=\"toc-item-num\">1.2.1&nbsp;&nbsp;</span>Ce qu'il faut savoir</a></span></li><li><span><a href=\"#Remplacements\" data-toc-modified-id=\"Remplacements-1.2.2\"><span class=\"toc-item-num\">1.2.2&nbsp;&nbsp;</span>Remplacements</a></span><ul class=\"toc-item\"><li><span><a href=\"#Par-position\" data-toc-modified-id=\"Par-position-1.2.2.1\"><span class=\"toc-item-num\">1.2.2.1&nbsp;&nbsp;</span>Par position</a></span></li><li><span><a href=\"#Par-position-explicite-ou-nommage-ou-liste/dictionnaire\" data-toc-modified-id=\"Par-position-explicite-ou-nommage-ou-liste/dictionnaire-1.2.2.2\"><span class=\"toc-item-num\">1.2.2.2&nbsp;&nbsp;</span>Par position explicite ou nommage ou liste/dictionnaire</a></span></li></ul></li><li><span><a href=\"#Formatages-de-chaînes-de-caractères-et-de-nombres\" data-toc-modified-id=\"Formatages-de-chaînes-de-caractères-et-de-nombres-1.2.3\"><span class=\"toc-item-num\">1.2.3&nbsp;&nbsp;</span>Formatages de chaînes de caractères et de nombres</a></span><ul class=\"toc-item\"><li><span><a href=\"#Formatages-de-chaînes-de-caractères\" data-toc-modified-id=\"Formatages-de-chaînes-de-caractères-1.2.3.1\"><span class=\"toc-item-num\">1.2.3.1&nbsp;&nbsp;</span>Formatages de chaînes de caractères</a></span></li><li><span><a href=\"#Caractère-lisible-ou-repésentation-littérale\" data-toc-modified-id=\"Caractère-lisible-ou-repésentation-littérale-1.2.3.2\"><span class=\"toc-item-num\">1.2.3.2&nbsp;&nbsp;</span>Caractère lisible ou repésentation littérale</a></span></li><li><span><a href=\"#Formatage-de-nombres-int\" data-toc-modified-id=\"Formatage-de-nombres-int-1.2.3.3\"><span class=\"toc-item-num\">1.2.3.3&nbsp;&nbsp;</span>Formatage de nombres <code>int</code></a></span></li><li><span><a href=\"#Formatage-de-nombres-float\" data-toc-modified-id=\"Formatage-de-nombres-float-1.2.3.4\"><span class=\"toc-item-num\">1.2.3.4&nbsp;&nbsp;</span>Formatage de nombres <code>float</code></a></span></li></ul></li><li><span><a href=\"#Méthodes-spécifiques-(sans-.format())\" data-toc-modified-id=\"Méthodes-spécifiques-(sans-.format())-1.2.4\"><span class=\"toc-item-num\">1.2.4&nbsp;&nbsp;</span>Méthodes spécifiques (sans <code>.format()</code>)</a></span></li></ul></li><li><span><a href=\"#Synthèse\" data-toc-modified-id=\"Synthèse-1.3\"><span class=\"toc-item-num\">1.3&nbsp;&nbsp;</span>Synthèse</a></span></li></ul></li></ul></div>"
   ]
  },
  {
   "cell_type": "markdown",
   "metadata": {
    "slideshow": {
     "slide_type": "slide"
    }
   },
   "source": [
    "## Les fichiers\n",
    "\n",
    "Les fichiers permettent de conserver de l'information exploitable par l'ordinateur (donnée, programmes, bibliothèques, ...) et pour certains d'entre eux, par l'humain.  \n",
    "Les premiers sont des _fichiers binaires_ tandis que les seconds sont des _fichiers textuels_ dénommés aussi __fichiers texte__.  \n",
    "\n",
    "A la différence de la mémoire (vive) de l'ordinateur qui contient bien sûr l'information traitée, le fichier permet de conserver cette information sur des supports matériels (disques, clés, bandes magnétiques, ...) et de la retrouver même si l'alimentation électrique de l'ordinateur a été interrompue.   "
   ]
  },
  {
   "cell_type": "markdown",
   "metadata": {
    "slideshow": {
     "slide_type": "slide"
    }
   },
   "source": [
    "### Principes\n",
    "La plupart des langages de programmation distinguent :  \n",
    "- les __fichiers logiques__ sont des variables de type fichier ( _file_ en anglais) qui sont manipulées par le programme  \n",
    "- les __fichiers physiques__ sont les supports effectifs du stockage de l'information (en mémoire, sur disque, sur clé, ...). \n",
    "    - Ils sont identifiés par le \"chemin\" système de leur localisation (`/home/mon_user_id/work/le_fichier.txt`)   \n",
    "    - Ils ne sont manipulés qu'une seule fois : lors de l'association fichier logique $\\to$ fichier physique"
   ]
  },
  {
   "cell_type": "markdown",
   "metadata": {
    "slideshow": {
     "slide_type": "subslide"
    }
   },
   "source": [
    "__Utiliser un fichier__ (en lecture, écriture ou lecture-écriture) consiste en les 4 étapes suivantes.\n",
    "1. __associer  fichier logique $\\to$ fichier physique__\n",
    "2. __ouvrir__ le fichier logique  \n",
    "3. effectuer les __traitements__ désirés sur le fichier logique  \n",
    "4. __fermer__ le fichier logique  \n",
    "\n",
    "L'ouverture du fichier précise le __type des traitements__ qui seront effectués en distinguant :\n",
    "- la lecture : _read_\n",
    "- l'écriture : _write_\n",
    "- la lecture + l'écriture : _readwrite_  "
   ]
  },
  {
   "cell_type": "markdown",
   "metadata": {
    "slideshow": {
     "slide_type": "subslide"
    }
   },
   "source": [
    "__Organisation :__ un fichier est décomposé en lignes et se termine par un symbole de fin de fichier : _EOF (end of file)_     \n",
    "Une ligne est une suite de caractères et se termine par un symbole de fin de ligne : _EOL (end of line)_  \n",
    "Les traitements correspondent à un _accès séquentiel_ du fichier, en commençant à ligne 1.   "
   ]
  },
  {
   "cell_type": "markdown",
   "metadata": {
    "slideshow": {
     "slide_type": "subslide"
    }
   },
   "source": [
    "__Accès direct vs. accès séquentiel.__ \n",
    "\n",
    "On distingue :\n",
    "-  les fichiers qui permettent d'accéder _directement_ à une ligne (et l'enregistrement) quelconque de leur contenu,   \n",
    "- les fichiers qui nécessitent un parcours systématique et _séquentiel_ à partir de la dernière ligne accédée (et donc depuis le début du fichier lors de la première opération).\n",
    "\n",
    "Ces différents comportements sont essentiellement dues à des aspects matériels.\n",
    "Historiquement, les fichiers stockés sur des bandes magnétiques (!) étaient à accès séquentiel.\n",
    "La plupart des fichiers utilisables aujourd'hui sont à accès direct.  "
   ]
  },
  {
   "cell_type": "markdown",
   "metadata": {
    "slideshow": {
     "slide_type": "slide"
    }
   },
   "source": [
    "### Allons-y en python !\n",
    "\n",
    "Les fonctions de chacune des 4 étapes identifiées plus haut sont :    \n",
    "'1.' et '2.' : `open(), `  \n",
    "'3'. :`.read()`, `.write()`, `.readlines()`,`.writelines()`  \n",
    "'4'. :`.close()` "
   ]
  },
  {
   "cell_type": "markdown",
   "metadata": {
    "slideshow": {
     "slide_type": "subslide"
    }
   },
   "source": [
    "#### Les fonctions et les méthodes\n",
    "* Ouverture et fermeture : `open()` et `close()`\n",
    "\n",
    "* Lecture complète  \n",
    "    - `.read()`: lit tout le fichier et retourne un `str`  \n",
    "    - `.readlines()`: lit tout le fichier et retourne une `lst` de `str`  \n",
    "    \n",
    "* Lecture partielle  \n",
    "    - `.read(oct)`: lit `oct` octets dans le fichier et retourne un `str`\n",
    "    - `.readline()`: lit la ligne _suivante_ et retourne un `str` complété d'un `\\n`\n",
    "\n",
    "* Ecriture.\n",
    "    - `.write()`: écrit une `str` ou une valeur dans le fichier \n",
    "    - `.writelines()`: écrit une `lst` de `str` dans le fichier"
   ]
  },
  {
   "cell_type": "markdown",
   "metadata": {
    "slideshow": {
     "slide_type": "subslide"
    }
   },
   "source": [
    "**Rmq** Les fichiers _physiques_ doivent exister pour être ouverts, lus, modifiés, fermés.  "
   ]
  },
  {
   "cell_type": "code",
   "execution_count": 1,
   "metadata": {
    "slideshow": {
     "slide_type": "slide"
    }
   },
   "outputs": [
    {
     "name": "stdout",
     "output_type": "stream",
     "text": [
      "total 24\n",
      "-rw-r--r--  1 langlois  staff  21 16 mar  2020 fichier_entrees.txt\n",
      "-rw-r--r--  1 langlois  staff  11 30 mar  2020 fichier_entrees2.txt\n",
      "-rw-r--r--  1 langlois  staff   0  4 mar 19:26 fichier_sortie.txt\n",
      "-rw-r--r--  1 langlois  staff   0  4 mar 19:26 fichier_travail\n",
      "-rw-r--r--  1 langlois  staff  81 17 mar  2020 format1.txt\n",
      "6\n",
      "99\n",
      "21\n",
      "33\n",
      "44\n",
      "33\n",
      "188\n",
      "./tmp/fichier_sortie.txt: empty\n",
      "./tmp/fichier_travail: empty\n"
     ]
    }
   ],
   "source": [
    "!ls -l ./tmp\n",
    "!cat ./tmp/fichier_entrees.txt\n",
    "!cat ./tmp/fichier_sortie.txt\n",
    "!file ./tmp/fichier_sortie.txt\n",
    "!file ./tmp/fichier_travail"
   ]
  },
  {
   "cell_type": "markdown",
   "metadata": {
    "slideshow": {
     "slide_type": "subslide"
    }
   },
   "source": [
    "**Une simple**"
   ]
  },
  {
   "cell_type": "code",
   "execution_count": 2,
   "metadata": {
    "slideshow": {
     "slide_type": "fragment"
    }
   },
   "outputs": [],
   "source": [
    "# on associe et on ouvre \n",
    "f_in = open(\"./tmp/fichier_entrees.txt\",\"r\", encoding=\"utf8\")"
   ]
  },
  {
   "cell_type": "code",
   "execution_count": 3,
   "metadata": {
    "slideshow": {
     "slide_type": "fragment"
    }
   },
   "outputs": [
    {
     "name": "stdout",
     "output_type": "stream",
     "text": [
      "6\n"
     ]
    }
   ],
   "source": [
    "# on bosse\n",
    "\n",
    "# Entrée : lire les entrées dans f_in\n",
    "n = int(f_in.readline()) # ligne 1 : nb de v dans le fichier f_in\n",
    "print(n)\n",
    "\n",
    "vals = [] # une liste vide pour contenir les n valeurs lues dans le fichier f_in\n",
    "for i in range(n):\n",
    "    v = int(f_in.readline()) # lire 1 val v par ligne de f_in et la convertir en int\n",
    "    vals.append(v) # on ajoute v a la liste"
   ]
  },
  {
   "cell_type": "code",
   "execution_count": 26,
   "metadata": {
    "slideshow": {
     "slide_type": "fragment"
    }
   },
   "outputs": [
    {
     "name": "stdout",
     "output_type": "stream",
     "text": [
      "[99, 21, 33, 44, 33, 188]\n",
      "max: 188 <class 'int'>\n"
     ]
    }
   ],
   "source": [
    "# Affichage (par exemple)\n",
    "print(vals)\n",
    "m = max(vals)  # on en prend le max \n",
    "print(\"max:\", m, type(m))"
   ]
  },
  {
   "cell_type": "code",
   "execution_count": 5,
   "metadata": {
    "slideshow": {
     "slide_type": "fragment"
    }
   },
   "outputs": [],
   "source": [
    "# On ferme ce qu'on a ouvert\n",
    "f_in.close()"
   ]
  },
  {
   "cell_type": "markdown",
   "metadata": {
    "slideshow": {
     "slide_type": "subslide"
    }
   },
   "source": [
    "**Une lecture et une (deux) écriture(s)**"
   ]
  },
  {
   "cell_type": "code",
   "execution_count": 6,
   "metadata": {
    "slideshow": {
     "slide_type": "fragment"
    }
   },
   "outputs": [
    {
     "name": "stdout",
     "output_type": "stream",
     "text": [
      "6\n"
     ]
    }
   ],
   "source": [
    "# on associe et on ouvre \n",
    "f_in = open(\"./tmp/fichier_entrees.txt\",\"r\", encoding=\"utf8\")\n",
    "f_out = open(\"./tmp/fichier_sortie.txt\",\"w\", encoding=\"utf8\")\n",
    "f_tmp = open(\"./tmp/fichier_travail\",\"ab\")  # a : _append_ , b : _binary_\n",
    "\n",
    "# on bosse\n",
    "\n",
    "# Entrée : lire les entrées dans f_in\n",
    "n = int(f_in.readline()) # ligne 1 : nb de v dans le fichier f_in\n",
    "print(n)\n",
    "\n",
    "vals = [] # une liste vide pour contenir les n valeurs lues dans le fichier f_in\n",
    "for i in range(n):\n",
    "    v = int(f_in.readline()) # lire 1 val v par ligne de fin \n",
    "    vals.append(v) # on ajoute v a la liste"
   ]
  },
  {
   "cell_type": "code",
   "execution_count": 7,
   "metadata": {
    "slideshow": {
     "slide_type": "fragment"
    }
   },
   "outputs": [
    {
     "name": "stdout",
     "output_type": "stream",
     "text": [
      "s= 17766\n"
     ]
    },
    {
     "data": {
      "text/plain": [
       "1"
      ]
     },
     "execution_count": 7,
     "metadata": {},
     "output_type": "execute_result"
    }
   ],
   "source": [
    "#Traitement : stockage au format binaire dans un fichier temporaire f_tmp  \n",
    "s = 0\n",
    "for i in range(m+1):\n",
    "    s = s + i\n",
    "    #f_tmp.write(s.to_bytes(4, byteorder='little', signed=True))\n",
    "\n",
    "# Sorties dans f_out\n",
    "print(\"s=\", s)\n",
    "f_out.write(str(s))\n",
    "f_out.write('\\n')"
   ]
  },
  {
   "cell_type": "code",
   "execution_count": 8,
   "metadata": {
    "slideshow": {
     "slide_type": "fragment"
    }
   },
   "outputs": [],
   "source": [
    "# On ferme ce qu'on a ouvert\n",
    "f_in.close()\n",
    "f_out.close()\n",
    "#f_tmp.close()"
   ]
  },
  {
   "cell_type": "code",
   "execution_count": 9,
   "metadata": {
    "slideshow": {
     "slide_type": "subslide"
    }
   },
   "outputs": [
    {
     "name": "stdout",
     "output_type": "stream",
     "text": [
      "total 32\n",
      "-rw-r--r--  1 langlois  staff  21 16 mar  2020 fichier_entrees.txt\n",
      "-rw-r--r--  1 langlois  staff  11 30 mar  2020 fichier_entrees2.txt\n",
      "-rw-r--r--  1 langlois  staff   6  4 mar 20:05 fichier_sortie.txt\n",
      "-rw-r--r--  1 langlois  staff   0  4 mar 19:26 fichier_travail\n",
      "-rw-r--r--  1 langlois  staff  81 17 mar  2020 format1.txt\n",
      "6\n",
      "99\n",
      "21\n",
      "33\n",
      "44\n",
      "33\n",
      "188\n",
      "17766\n",
      "./tmp/fichier_sortie.txt: ASCII text\n",
      "./tmp/fichier_travail: empty\n"
     ]
    }
   ],
   "source": [
    "!ls -l ./tmp\n",
    "!cat ./tmp/fichier_entrees.txt\n",
    "!cat ./tmp/fichier_sortie.txt\n",
    "!file ./tmp/fichier_sortie.txt\n",
    "!file ./tmp/fichier_travail"
   ]
  },
  {
   "cell_type": "markdown",
   "metadata": {
    "slideshow": {
     "slide_type": "subslide"
    }
   },
   "source": [
    "**ATTENTION au `read()` !**  \n",
    "\n",
    "Comme le dit le manuel (7.2.1):  \n",
    "> it’s your problem if the file is twice as large as your machine’s memory."
   ]
  },
  {
   "cell_type": "markdown",
   "metadata": {
    "slideshow": {
     "slide_type": "subslide"
    }
   },
   "source": [
    "La suite de commandes suivantes pour revenir dans l'état initial.  "
   ]
  },
  {
   "cell_type": "code",
   "execution_count": 10,
   "metadata": {
    "slideshow": {
     "slide_type": "fragment"
    }
   },
   "outputs": [
    {
     "name": "stdout",
     "output_type": "stream",
     "text": [
      "total 24\r\n",
      "-rw-r--r--  1 langlois  staff  21 16 mar  2020 fichier_entrees.txt\r\n",
      "-rw-r--r--  1 langlois  staff  11 30 mar  2020 fichier_entrees2.txt\r\n",
      "-rw-r--r--  1 langlois  staff   0  4 mar 20:05 fichier_sortie.txt\r\n",
      "-rw-r--r--  1 langlois  staff   0  4 mar 20:05 fichier_travail\r\n",
      "-rw-r--r--  1 langlois  staff  81 17 mar  2020 format1.txt\r\n"
     ]
    }
   ],
   "source": [
    "\n",
    "!cat /dev/null > ./tmp/fichier_sortie.txt\n",
    "!cat /dev/null > ./tmp/fichier_travail\n",
    "!ls -l ./tmp/"
   ]
  },
  {
   "cell_type": "markdown",
   "metadata": {
    "slideshow": {
     "slide_type": "slide"
    }
   },
   "source": [
    "#### Autres syntaxes classiques"
   ]
  },
  {
   "cell_type": "code",
   "execution_count": 11,
   "metadata": {
    "slideshow": {
     "slide_type": "fragment"
    }
   },
   "outputs": [
    {
     "name": "stdout",
     "output_type": "stream",
     "text": [
      "6\n",
      " <class 'str'>\n",
      "99\n",
      " <class 'str'>\n",
      "21\n",
      " <class 'str'>\n",
      "33\n",
      " <class 'str'>\n",
      "44\n",
      " <class 'str'>\n",
      "33\n",
      " <class 'str'>\n",
      "188\n",
      " <class 'str'>\n",
      "Remarquer les sauts de ligne au dessus car on a lu :\n",
      "['6\\n', '99\\n', '21\\n', '33\\n', '44\\n', '33\\n', '188\\n']\n"
     ]
    }
   ],
   "source": [
    "with open(\"./tmp/fichier_entrees.txt\", \"r\", encoding=\"utf8\") as f:\n",
    "    #on lit tout f d'un seul coup comme une liste de str+\\n\n",
    "    entrees = f.readlines() # avec un 's' à la fin \n",
    "    \n",
    "    #voilà ce qu'on a lu\n",
    "    for v in entrees: #entrees est une liste\n",
    "        print(v, type(v))\n",
    "              \n",
    "    # on n a plus besoin du fichier d'entrees\n",
    "    f.close() \n",
    "    \n",
    "print(\"Remarquer les sauts de ligne au dessus car on a lu :\")    \n",
    "print(entrees)"
   ]
  },
  {
   "cell_type": "code",
   "execution_count": 12,
   "metadata": {
    "slideshow": {
     "slide_type": "fragment"
    }
   },
   "outputs": [
    {
     "name": "stdout",
     "output_type": "stream",
     "text": [
      "6\n",
      "99\n",
      "21\n",
      "33\n",
      "44\n",
      "33\n",
      "188\n",
      "On a fini d'afficher le fichier\n"
     ]
    }
   ],
   "source": [
    "!cat ./tmp/fichier_entrees.txt\n",
    "!echo \"On a fini d'afficher le fichier\""
   ]
  },
  {
   "cell_type": "markdown",
   "metadata": {
    "slideshow": {
     "slide_type": "subslide"
    }
   },
   "source": [
    "**Petites subtilités souvent à l'origine de problèmes de lecture/écriture de fichiers**  \n",
    "- `f.read()`peut retourner `\\n` ou  `''`, ce qui est différent :\n",
    "    - `\\n` = une ligne vide  \n",
    "    - `''` = on a atteint la fin du fichier (EOF)  \n",
    "Dans l'exemple suivant, remarquer que `f.read() == ''` permet de finir correctement la lecture du fichier.\n",
    "\n",
    "- `f.readline()` \n",
    "    - lit chaque ligne du fichier et retourne donc le `\\n` de fin de ligne, \n",
    "    - sauf dans le cas de la dernière ligne -- si celle-ci n'en comporte pas ! \n"
   ]
  },
  {
   "cell_type": "code",
   "execution_count": 13,
   "metadata": {
    "slideshow": {
     "slide_type": "subslide"
    }
   },
   "outputs": [
    {
     "name": "stdout",
     "output_type": "stream",
     "text": [
      "azertyuiop**azertyuiop**azertyuiop--@@\n",
      "azertyuiop\n",
      "**azertyuiop\n",
      "**azertyuiop\n",
      "--"
     ]
    }
   ],
   "source": [
    "#rappel : sep, end\n",
    "s = \"azertyuiop\"\n",
    "print(s, s, s, sep=\"**\", end=\"--\")\n",
    "print(\"@@\") # par defaut : end='\\n'\n",
    "s = \"azertyuiop\\n\"\n",
    "print(s, s, s, sep=\"**\", end=\"--\")\n"
   ]
  },
  {
   "cell_type": "code",
   "execution_count": 14,
   "metadata": {
    "slideshow": {
     "slide_type": "subslide"
    }
   },
   "outputs": [
    {
     "name": "stdout",
     "output_type": "stream",
     "text": [
      "6\n",
      "99\n",
      "21\n",
      "33\n",
      "44\n",
      "33\n",
      "188\n",
      "Pour bien noter la différence entre readline() et read() : \n",
      "--> bien identifier l'effet des sauts de ligne '\\n' du  readline(): \n",
      "readline numero: 0 on a lu v: 6\n",
      "...readline numero****1****on a lu v:****99\n",
      "---readline numero****2****on a lu v:****21\n",
      "---readline numero****3****on a lu v:****33\n",
      "---readline numero****4****on a lu v:****44\n",
      "---readline numero****5****on a lu v:****33\n",
      "---readline numero****6****on a lu v:****188\n",
      "---readline numero****7****on a lu v:****---@@@\n",
      "--> des read() maintenant ... mais peu en fait : \n",
      "read numero:  0 on a lu v = 6\n",
      "99\n",
      "21\n",
      "33\n",
      "44\n",
      "33\n",
      "188\n",
      "---read numero:****1****on a lu v=****---Fini!\n"
     ]
    }
   ],
   "source": [
    "!cat ./tmp/fichier_entrees.txt\n",
    "\n",
    "print(\"Pour bien noter la différence entre readline() et read() : \")\n",
    "print(\"--> bien identifier l'effet des sauts de ligne '\\\\n' du  readline(): \")\n",
    "\n",
    "with open(\"./tmp/fichier_entrees.txt\",\"r\", encoding=\"utf8\") as f:\n",
    "    i = 0\n",
    "    v = f.readline() # sans 's' à la fin : laisse le `\\n` de saut de ligne sauf ''\n",
    "    print(\"readline numero:\", i, \"on a lu v:\", v, end=\"...\")\n",
    "    while (v != ''):\n",
    "        i = i + 1\n",
    "        v = f.readline() # sans 's' à la fin : laisse le `\\n` de saut de ligne sauf ''\n",
    "        print(\"readline numero\", i, \"on a lu v:\", v, sep=\"****\", end=\"---\")\n",
    "    print(\"@@@\")\n",
    "\n",
    "print(\"--> des read() maintenant ... mais peu en fait : \")  \n",
    "with open(\"./tmp/fichier_entrees.txt\",\"r\", encoding=\"utf8\") as f:\n",
    "    i = 0\n",
    "    v = f.read() # lit tout f comme une str\n",
    "    #print(\"-\",v[-1],\"-\") # pour le quizz\n",
    "    print(\"read numero: \", i, \"on a lu v =\", v, end=\"---\")\n",
    "    while (v != ''): # si la dernière ligne est vide ... attention ! \\n n'est pas une ligne vide :)\n",
    "        i = i + 1\n",
    "        v = f.read() # lit tout comme une str\n",
    "        #v = f.read(4) # lit 8 octets et ne rajoute rien à v  \n",
    "        print(\"read numero:\", i, \"on a lu v=\", v, sep=\"****\", end=\"---\")\n",
    "    f.closed   \n",
    "print(\"Fini!\")\n"
   ]
  },
  {
   "cell_type": "markdown",
   "metadata": {
    "slideshow": {
     "slide_type": "subslide"
    }
   },
   "source": [
    "**Quizzz**  \n",
    "\n",
    "Quelle est la dernière ligne du fichier `./tmp/fichier_entrees.txt` ?\n",
    "1. 188\n",
    "2. 188\\n\n",
    "3. \\n\n",
    "4. \n",
    "\n",
    "Réponse. Enlever le commentaire de l'instruction ad-hoc du code au dessus."
   ]
  },
  {
   "cell_type": "markdown",
   "metadata": {
    "slideshow": {
     "slide_type": "slide"
    }
   },
   "source": [
    "### Ce qu'il restera à voir\n",
    "\n",
    "Les traitements précédents permettent de créer et d'exploiter des fichiers, et ce indépendamment de leur stockage dans le _système de fichiers_ de l'environnement utiisé (Linux, w\\*\\*\\* ou m\\*\\*\\*).\n",
    "Il est utile de compléter ces traitements par de la _manipulation_ de fichiers de façon similaire à celle vue en cours de Système au semestre 1. Pour celà, python propose les modules suivants :  \n",
    "- `os` qui permet de se déplacer dans l'arborescence du système de fichiers  \n",
    "- `os.path`, sous-module du précédent, qui permet de lister des fichiers, des répertoires et certaines de leurs caractéristiques  \n",
    "- `shutil` qui permet de copier, déplacer et supprimer des fichiers ou des parties d'arborescence.  \n"
   ]
  },
  {
   "cell_type": "markdown",
   "metadata": {
    "slideshow": {
     "slide_type": "slide"
    }
   },
   "source": [
    "## Les formats d'affichage\n",
    "\n",
    "Il s'agit de _définir la façon dont s'affiche_ les informations textuelles (chaînes de caractères).  \n",
    "Exemple : combien de chiffres après la virgule d'un `float`, utiliser une notation scientifique ($\\pm 1.xxxx \\cdot 10^E$), insérer ou non des caractères avant la `str` à afficher, ...  \n",
    "\n",
    "Ces __formats__ d'affichage s'appliquent à aux entrées-sorties textuelles `print()` à l'écran, mais aussi aux fichiers par `write()` et `read()`"
   ]
  },
  {
   "cell_type": "markdown",
   "metadata": {
    "slideshow": {
     "slide_type": "subslide"
    }
   },
   "source": [
    "### Ce qu'il faut savoir\n",
    "\n",
    "La syntaxe est un peu compliquée au début : \n",
    "> `st_format.format(arg)`\n",
    "\n",
    "- `.format()` est la méthode dédiée à ce travail (de formatage)  \n",
    "- `st_format` définit **le format d'affichage** voulu : c'est une chaîne de caractères qui contient des zones délimitées par des `{ }`, ces zones intégrant éventuellement des __codes__ de formatage.  \n",
    "- `arg` est un conteneur `tuple` ou `dict` ou `str` qui va être (affichée de façon) formatée.  \n",
    "- `st_format.format(arg)` applique à `arg`, les traitements définies entre **`{ }`** de la chaîne de _définition du format_ `st_format`. \n",
    "- `st_format.format(arg)` retourne une chaîne de caractères `str` formatée. "
   ]
  },
  {
   "cell_type": "markdown",
   "metadata": {
    "slideshow": {
     "slide_type": "slide"
    }
   },
   "source": [
    "### Remplacements \n",
    "\n",
    "Une première utilité de `st_format.format(arg)` est de paramétrer certaines zones de la chaîne de caractères `st_format` avec ceux de `arg`.   \n",
    "En pratique, il s'agit de _remplacer_ les zones définies avec des `{ }` dans la chaîne `st_format` (le formatage) par les valeurs de `arg`.   \n",
    "Ce remplacement peut être défini par position ou par nommage des valeurs du conteneur `arg`. "
   ]
  },
  {
   "cell_type": "markdown",
   "metadata": {
    "slideshow": {
     "slide_type": "subslide"
    }
   },
   "source": [
    "#### Par position"
   ]
  },
  {
   "cell_type": "code",
   "execution_count": 15,
   "metadata": {
    "slideshow": {
     "slide_type": "fragment"
    }
   },
   "outputs": [
    {
     "name": "stdout",
     "output_type": "stream",
     "text": [
      "Le premier mot est très important ....\n",
      "Le {} mot est {} {}\n"
     ]
    }
   ],
   "source": [
    "# formatage avec remplacement par st\n",
    "le_format =  \"Le {} mot est {} {}\"\n",
    "st_formatee = le_format.format(\"premier\", \"très important\", \"....\")\n",
    "\n",
    "# affichage\n",
    "print(st_formatee)\n",
    "print(le_format)\n",
    "\n",
    "# ecriture fichier\n",
    "st1 = \"capital, \"\n",
    "st2 = \"assurément\"\n",
    "with open(\"./tmp/format1.txt\", \"w\", encoding=\"utf8\") as f:\n",
    "    f.write(st_formatee)\n",
    "    f.write(\"\\n\")    \n",
    "    f.write(le_format.format(\"dernier\", st1 + st2, \"!\"))\n",
    "    f.close()"
   ]
  },
  {
   "cell_type": "code",
   "execution_count": 16,
   "metadata": {
    "slideshow": {
     "slide_type": "fragment"
    }
   },
   "outputs": [
    {
     "name": "stdout",
     "output_type": "stream",
     "text": [
      "Le premier mot est très important ....\r\n",
      "Le dernier mot est capital, assurément !"
     ]
    }
   ],
   "source": [
    "!cat tmp/format1.txt "
   ]
  },
  {
   "cell_type": "markdown",
   "metadata": {
    "slideshow": {
     "slide_type": "slide"
    }
   },
   "source": [
    "**Attention.** On rappelle que le type `str` est **non-muable**.\n",
    "\n",
    "**Rmq.** Il est commode de voir la chaîne `st_format` comme un masque de mise en forme qui va s'appliquer aux valeurs de l'argument `arg`. \n",
    "Cette première utilisation par remplacement peut faire penser (à tort) à un rôle inversé de l'argument à formater `arg` et de la chaîne `st_format` qui définit le formatage.     "
   ]
  },
  {
   "cell_type": "markdown",
   "metadata": {
    "slideshow": {
     "slide_type": "subslide"
    }
   },
   "source": [
    "#### Par position explicite ou nommage ou liste/dictionnaire\n",
    "\n",
    "La **position** des valeurs du conteneur argument de `format(arg)` est précisée dans les `{ }` de `st_format` :    \n",
    "- de façon **explicite** avec **`{pos}`**  \n",
    "- de façon **nommée** avec **`{nom}`**   \n",
    "- en correspondance avec l'item `i` d'un _argument `lst`_ avec **`{0[i]}`**  \n",
    "- en correspondance avec la valeur de `clé`  d'un un _argument `dict`_  avec **`{0[clé]}`**  \n",
    "\n",
    "Ces positions peuvent être complétées d'un _code de formatage_.  "
   ]
  },
  {
   "cell_type": "code",
   "execution_count": 17,
   "metadata": {
    "slideshow": {
     "slide_type": "fragment"
    }
   },
   "outputs": [
    {
     "name": "stdout",
     "output_type": "stream",
     "text": [
      "le ciel est bleu\n",
      "la mer est calme\n",
      "la montagne est violette\n",
      "le soleil est chaud\n"
     ]
    }
   ],
   "source": [
    "st_pos =  \"{1} {0} est {2}\"\n",
    "st_nom =  \"{article} {sujet} est {complement}\"\n",
    "st_lst = \"{0[0]} {0[1]} est {0[2]}\"\n",
    "st_dict = \"{0[article]} {0[sujet]} est {0[complement]}\"\n",
    "\n",
    "\n",
    "print(st_pos.format(\"ciel\", \"le\", \"bleu\"))\n",
    "print(st_nom.format(article=\"la\", sujet=\"mer\", complement=\"calme\"))\n",
    "print(st_lst.format( [\"la\", \"montagne\", \"violette\"] ))\n",
    "d = dict(complement=\"chaud\", article=\"le\", sujet=\"soleil\") # syntaxe dictionnaire param. nommés\n",
    "print(st_dict.format(d))"
   ]
  },
  {
   "cell_type": "markdown",
   "metadata": {
    "slideshow": {
     "slide_type": "slide"
    }
   },
   "source": [
    "### Formatages de chaînes de caractères et de nombres\n",
    "\n",
    "C'est l'utilisation plus courante de `.format()`.  \n",
    "Elle permet de définir le __format__ d'écriture ou de lecture souhaité selon le type de valeur à traiter.\n",
    "- le format est défini par un **code de formatage** \n",
    "- ce code de formatage est spécifié dans les `{ }` de `st_format`\n",
    "- la définition du format `st_format` est une `str` \n",
    "\n",
    "**Syntaxe :** `code.format(arg)`  \n",
    "- La chaîne objet `code` définit le format par un code : `code.format()` \n",
    "- La valeur traitée est l'argument `arg` de `.format(arg)`  "
   ]
  },
  {
   "cell_type": "markdown",
   "metadata": {
    "slideshow": {
     "slide_type": "subslide"
    }
   },
   "source": [
    "#### Formatages de chaînes de caractères\n",
    "type | code (`str`) | format  \n",
    "-----|--------|------\n",
    "  str | `{:nb}`| chaîne justifiée à gauche sur `nb` caractères (complétée d'espaces _à droite_ si besoin)\n",
    "  str | `{:>nb}`| chaîne justifiée à droite sur `nb` caractères (complétée d'espaces _à gauche_ si besoin)\n",
    "  str | `{:^nb}`| chaîne _centrée_ sur `nb` caractères (complétée d'espaces si besoin)\n",
    "  str | `{:-^nb}`| chaîne _centrée_ sur `nb` caractères, complétée de `-` si besoin\n",
    "str | `{:.<nb}`| chaîne justifiée à gauche  sur `nb` caractères, complétée de `.` _à droite_ si besoin"
   ]
  },
  {
   "cell_type": "code",
   "execution_count": 18,
   "metadata": {
    "slideshow": {
     "slide_type": "fragment"
    }
   },
   "outputs": [
    {
     "name": "stdout",
     "output_type": "stream",
     "text": [
      "28\n",
      "[un texte formaté avec {:35}        ]\n",
      "[       un texte formaté avec {:>35}]\n",
      "[***un texte formaté avec {:^35}****]\n",
      "[un texte formaté avec {:^35}-------]\n"
     ]
    }
   ],
   "source": [
    "s = \"un texte formaté avec \"\n",
    "f = \"{:xxx}\"\n",
    "print(len(s+f))\n",
    "print(\"[{:35}]\".format(s + \"{:35}\"))\n",
    "print(\"[{:>35}]\".format(s + \"{:>35}\"))\n",
    "print(\"[{:*^35}]\".format(s + \"{:^35}\"))\n",
    "print(\"[{:-<35}]\".format(s + \"{:^35}\"))"
   ]
  },
  {
   "cell_type": "markdown",
   "metadata": {
    "slideshow": {
     "slide_type": "subslide"
    }
   },
   "source": [
    "#### Caractère lisible ou repésentation littérale\n",
    "\n",
    "On rappelle que les _caractères_ ou _séquences d'échappement_ sont l'association du \"backslash\" `\\` et de certains symboles (ou  suite de symboles) qui prennent un sens particulier dans une chaîne de caractères.   \n",
    "Cela permet d'interpréter différemment les symboles `'` ou `\"` ou ` `.  \n",
    "\n",
    "Cette notion se retrouve dans d'autres langages de programmation : C, ...\n",
    "\n",
    "Rappels:  \n",
    "- `\\'` ou `\\\"` ou `\\\\` ou `\\/` : les symboles `'` ou `\"` ou `\\` ou `/`   \n",
    "- `\\b` : _backspace_ \n",
    "- `\\t` `\\v`: tabulation horizontale ou verticale\n",
    "- `\\n` : _new_line_ saut de ligne  \n",
    "- `\\f` : _form feed_  saut de page  \n",
    "- `\\r` : retour en début de ligne \n",
    "\n",
    "On a vu que :\n",
    "- le `\\` évite d'évaluer \"normalement\" le symbole qui le suit,  \n",
    "- donc  `\\\\` s'évalue comme le caractère `\\`, \n",
    "- et `\\\\n` comme la chaîne de **2** caractères non évalués `\\n`."
   ]
  },
  {
   "cell_type": "code",
   "execution_count": 19,
   "metadata": {
    "slideshow": {
     "slide_type": "subslide"
    }
   },
   "outputs": [
    {
     "name": "stdout",
     "output_type": "stream",
     "text": [
      "a\\nb\n"
     ]
    }
   ],
   "source": [
    "print(\"a\\\\nb\")"
   ]
  },
  {
   "cell_type": "markdown",
   "metadata": {
    "slideshow": {
     "slide_type": "fragment"
    }
   },
   "source": [
    "**Comment afficher ces caractères d'échappement ?** \n",
    "sans qu'ils soient traités comme tels !  \n",
    "On distingue :\n",
    "- __la chaîne évaluée__, en particulier les séquences avec le `\\`, qui est donnée par le format `!s` (pour str)\n",
    "- __ sa représentation littérale__ non évaluée, en particulier les séquences avec le `\\`, qui est donnée par le format `!a` (pour ascii) ou `!r` (pour repr)  "
   ]
  },
  {
   "cell_type": "code",
   "execution_count": 20,
   "metadata": {
    "slideshow": {
     "slide_type": "fragment"
    }
   },
   "outputs": [
    {
     "name": "stdout",
     "output_type": "stream",
     "text": [
      "Bonjour, \n",
      " bonjour !\n",
      "Bonjour, \n",
      " bonjour !\n",
      "'Bonjour, \\n bonjour !'\n",
      "'Bonjour, \\n bonjour !'\n"
     ]
    }
   ],
   "source": [
    "st = \"Bonjour, \\n bonjour !\"\n",
    "print(st)\n",
    "print(\"{!s}\".format(st))\n",
    "print(\"{!a}\".format(st))\n",
    "print(\"{!r}\".format(st))"
   ]
  },
  {
   "cell_type": "markdown",
   "metadata": {
    "slideshow": {
     "slide_type": "slide"
    }
   },
   "source": [
    "Plus généralement, il existe des fonctions qui retournent une `str` dans la représentation  souhaitée : `str()`, `ascii()` ou `repr()`.  \n",
    "Il suffit de choisir la représentation souhaitée (évaluation ou non des séquences d'échappement) et d'effectuer une ES de `str`.  "
   ]
  },
  {
   "cell_type": "code",
   "execution_count": 21,
   "metadata": {
    "slideshow": {
     "slide_type": "fragment"
    }
   },
   "outputs": [
    {
     "name": "stdout",
     "output_type": "stream",
     "text": [
      "hel \n",
      " lo\n",
      "hel \\n lo\n",
      "'hel \\n lo'\n",
      "hel \n",
      " lo\n",
      "\n",
      "False\n",
      "<class 'str'> <class 'str'>\n"
     ]
    }
   ],
   "source": [
    "print(\"hel \\n lo\")\n",
    "print(\"hel \\\\n lo\")\n",
    "print(ascii(\"hel \\n lo\"))\n",
    "print(str(\"hel \\n lo\"))\n",
    "print()\n",
    "\n",
    "print(ascii(\"hel \\n lo\") == 'hel \\n lo')\n",
    "print(type(ascii(\"hel \\n lo\")), type(\"hel \\n lo\"))"
   ]
  },
  {
   "cell_type": "code",
   "execution_count": 22,
   "metadata": {
    "slideshow": {
     "slide_type": "subslide"
    }
   },
   "outputs": [
    {
     "name": "stdout",
     "output_type": "stream",
     "text": [
      "Bonjour, \n",
      " bonjour !\n",
      "<class 'str'> 'Bonjour, \\n bonjour !'\n",
      "<class 'str'> 'Bonjour, \\n bonjour !'\n",
      "\n",
      "<class 'str'> 3\n",
      "<class 'str'> 3\n",
      "False\n",
      "<class 'tuple'> <class 'str'>\n"
     ]
    }
   ],
   "source": [
    "st = \"Bonjour, \\n bonjour !\"\n",
    "print(st)\n",
    "st2 = ascii(st)\n",
    "print(type(st2), st2)\n",
    "st3 = repr(st)\n",
    "print(type(st3), st3)\n",
    "print() \n",
    "\n",
    "print(type(str(3)), str(3))\n",
    "print(type(ascii(3)), ascii(3))\n",
    "print( (\"un\", 2, '\\/') == str((\"un\", 2, '\\/')) )\n",
    "print(type((\"un\", 2, '\\/')), type(str((\"un\", 2, '\\/'))))"
   ]
  },
  {
   "cell_type": "markdown",
   "metadata": {
    "slideshow": {
     "slide_type": "subslide"
    }
   },
   "source": [
    "Les formatages suivants d'`int` et de `float` apparaissent classiquement dans d'autres langages de programmation.   \n",
    "\n",
    "#### Formatage de nombres `int` \n",
    "\n",
    "type | code (`str`) | format  \n",
    "-----|--------|------\n",
    "int | `{0:d}` | entier en base 10 (décimal)\n",
    "int | `{0:x}` | entier en base 16 (hexa-décimal)\n",
    "int | `{0:o}` | entier en base 8 (octal)\n",
    "int | `{0:b}` | entier en base 2 (binaire)\n",
    "int | `{0:+d}` | entier en base 10 avec signe `+` explicite \n",
    "int | `{0:#x}` | entier en base 16 avec `#`\n",
    "int | `{0:#o}` | entier en base 8 avec `o`\n",
    "int | `{0:#b}` | entier en base 2 avec `b`\n",
    "int | `{0:0=nb}` | entier en base 10 écrit avec `nb` chiffres, complétés de `0` si besoin"
   ]
  },
  {
   "cell_type": "code",
   "execution_count": 23,
   "metadata": {
    "slideshow": {
     "slide_type": "fragment"
    }
   },
   "outputs": [
    {
     "name": "stdout",
     "output_type": "stream",
     "text": [
      "22\n",
      "[     22]\n",
      "{0:3} -> [     22]\n",
      "{0:b} -> [10110]\n",
      "{0:o} -> [26]\n",
      "{0:x} -> [16]\n",
      "  {0:x} et {0:#x} de  9 -> [9] et [0x9]\n",
      "  {0:x} et {0:#x} de  10 -> [a] et [0xa]\n",
      "  {0:x} et {0:#x} de  11 -> [b] et [0xb]\n",
      "  {0:x} et {0:#x} de  12 -> [c] et [0xc]\n",
      "  {0:x} et {0:#x} de  13 -> [d] et [0xd]\n",
      "  {0:x} et {0:#x} de  14 -> [e] et [0xe]\n",
      "  {0:x} et {0:#x} de  15 -> [f] et [0xf]\n",
      "  {0:x} et {0:#x} de  16 -> [10] et [0x10]\n",
      "  {0:x} et {0:#x} de  17 -> [11] et [0x11]\n"
     ]
    }
   ],
   "source": [
    "print(22)\n",
    "print(\"[{0:7}]\".format(22))\n",
    "\n",
    "print(\"{0:3} -> \" + \"[{0:7}]\".format(22))\n",
    "print(\"{0:b} -> \" + \"[{0:b}]\".format(22))\n",
    "print(\"{0:o} -> \" + \"[{0:o}]\".format(22))\n",
    "print(\"{0:x} -> \" + \"[{0:x}]\".format(22))\n",
    "for i in range(9,18):\n",
    "    print(\"  {0:x} et {0:#x} de \", i, \"-> \" + \"[{0:x}] et [{0:#x}]\".format(i,i))"
   ]
  },
  {
   "cell_type": "code",
   "execution_count": 24,
   "metadata": {
    "slideshow": {
     "slide_type": "fragment"
    }
   },
   "outputs": [
    {
     "name": "stdout",
     "output_type": "stream",
     "text": [
      "mélange de formats :\n",
      "22=16\n",
      "22=0x16=0b10110\n"
     ]
    }
   ],
   "source": [
    "print(\"mélange de formats :\")\n",
    "print(\"{0:d}={0:x}\".format(22, 22))\n",
    "print(\"{:d}={:#x}={:#b}\".format(22, 22, 22)) # les 0 sont optionnels"
   ]
  },
  {
   "cell_type": "markdown",
   "metadata": {
    "slideshow": {
     "slide_type": "subslide"
    }
   },
   "source": [
    "#### Formatage de nombres `float`   \n",
    "\n",
    "type | code (`str`) | format  \n",
    "-----|--------|------\n",
    "float | `{0:2.4f}`|  2 chiffres avant la virgule et 4 après\n",
    "float | `{0:.5e}`| notation scientifique avec 5 chiffres après la virgule\n",
    "float | `{0:g}`|  un format générique \"qui va bien\"\n",
    "float | `{0:.2%}`| pourcentage avec 2 décimales"
   ]
  },
  {
   "cell_type": "code",
   "execution_count": 25,
   "metadata": {
    "slideshow": {
     "slide_type": "fragment"
    }
   },
   "outputs": [
    {
     "name": "stdout",
     "output_type": "stream",
     "text": [
      "pi= 3.141592653589793\n",
      "{0:2.3f} -> 3.142\n",
      "{0:2.5f} de 100 * pi -> 314.15927\n",
      "{0:g} -> 3.14159\n",
      "{0:+.4e} -> +3.1416e+00\n",
      "{0:.1%} de -2/3 -> -66.7%\n"
     ]
    }
   ],
   "source": [
    "from math import pi as pi\n",
    "print(\"pi=\", pi)\n",
    "print(\"{0:2.3f} -> \" + \"{0:2.3f}\".format(pi))\n",
    "print(\"{0:2.5f} de 100 * pi -> \" + \"{0:2.5f}\".format(100*pi))\n",
    "print(\"{0:g} -> \" + \"{0:g}\".format(pi))\n",
    "print(\"{0:+.4e} -> \" + \"{0:+.4e}\".format(pi))\n",
    "print(\"{0:.1%} de -2/3 -> \" + \"{0:.1%}\".format(-2./3.))"
   ]
  },
  {
   "cell_type": "markdown",
   "metadata": {
    "slideshow": {
     "slide_type": "slide"
    }
   },
   "source": [
    "### Méthodes spécifiques (sans `.format()`)\n",
    "\n",
    "On rappelle que certains traitements peuvent être obtenus avec des méthodes spécifiques aux `str`.\n",
    "\n",
    "méthode | effet\n",
    "--------|------\n",
    "`str.center(nb)` | centre `str`sur `nb`caractères\n",
    "`str.rjust(nb)` | justifie `str` _à droite_ sur `nb` caractères \n",
    "`str.ljust(nb)` | justifie `str` _à gauche_ sur `nb` caractères \n",
    "`str.zfill(nb)` | ajoute des zéros à gauche de `str` pour obtenir `nb` caractères \n"
   ]
  },
  {
   "cell_type": "markdown",
   "metadata": {
    "slideshow": {
     "slide_type": "slide"
    }
   },
   "source": [
    "\n",
    "## Synthèse \n",
    "\n",
    "* Les fichiers pour conserver les données d'entrée, les résultats et aussi les résultats intermédiaires de traitements volumineux ou répartis dans le temps.    \n",
    "\n",
    "<div class=\"alert alert-block alert-warning\">\n",
    "    \n",
    "**ouvrir ET fermer.** Tout fichier ouvert doit être fermé.\n",
    "\n",
    "</div>\n",
    "\n",
    "* Le formatage pour obtenir l'affichage et le stockage que l'on souhaite.\n",
    "\n",
    "\n",
    "<div class=\"alert alert-block alert-warning\">\n",
    "    \n",
    "**ES formatées et fichiers.** La lecture de données formatées et stockées dans un fichier doit être effectuée avec le format adéquat : celui qui a donné le format d'écriture dans le fichier.\n",
    "\n",
    "</div>"
   ]
  },
  {
   "cell_type": "raw",
   "metadata": {
    "slideshow": {
     "slide_type": "skip"
    }
   },
   "source": [
    "jupyter nbconvert --to html_embed --template toc2 3-ES"
   ]
  },
  {
   "cell_type": "raw",
   "metadata": {
    "slideshow": {
     "slide_type": "skip"
    }
   },
   "source": [
    "jupyter nbconvert 5p-ES.ipynb --to slides --SlidesExporter.reveal_scroll=True --SlidesExporter.reveal_transition=none --SlidesExporter.reveal_theme=solarized"
   ]
  }
 ],
 "metadata": {
  "celltoolbar": "Diaporama",
  "kernelspec": {
   "display_name": "Python 3",
   "language": "python",
   "name": "python3"
  },
  "language_info": {
   "codemirror_mode": {
    "name": "ipython",
    "version": 3
   },
   "file_extension": ".py",
   "mimetype": "text/x-python",
   "name": "python",
   "nbconvert_exporter": "python",
   "pygments_lexer": "ipython3",
   "version": "3.7.7"
  },
  "latex_envs": {
   "LaTeX_envs_menu_present": true,
   "autoclose": false,
   "autocomplete": true,
   "bibliofile": "biblio.bib",
   "cite_by": "apalike",
   "current_citInitial": 1,
   "eqLabelWithNumbers": true,
   "eqNumInitial": 1,
   "hotkeys": {
    "equation": "Ctrl-E",
    "itemize": "Ctrl-I"
   },
   "labels_anchors": false,
   "latex_user_defs": false,
   "report_style_numbering": true,
   "user_envs_cfg": false
  },
  "toc": {
   "nav_menu": {},
   "number_sections": true,
   "sideBar": true,
   "skip_h1_title": false,
   "title_cell": "Table of Contents",
   "title_sidebar": "Contents",
   "toc_cell": true,
   "toc_position": {},
   "toc_section_display": true,
   "toc_window_display": false
  }
 },
 "nbformat": 4,
 "nbformat_minor": 4
}
