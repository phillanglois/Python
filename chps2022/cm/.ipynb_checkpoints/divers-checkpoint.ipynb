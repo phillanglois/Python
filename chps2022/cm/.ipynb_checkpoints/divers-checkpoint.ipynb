{
 "cells": [
  {
   "cell_type": "markdown",
   "metadata": {
    "toc": true
   },
   "source": [
    "<h1>Table des matières<span class=\"tocSkip\"></span></h1>\n",
    "<div class=\"toc\"><ul class=\"toc-item\"><li><span><a href=\"#Bonjour,-on-commence.\" data-toc-modified-id=\"Bonjour,-on-commence.-1\"><span class=\"toc-item-num\">1&nbsp;&nbsp;</span>Bonjour, on commence.</a></span><ul class=\"toc-item\"><li><span><a href=\"#niveau-2\" data-toc-modified-id=\"niveau-2-1.1\"><span class=\"toc-item-num\">1.1&nbsp;&nbsp;</span>niveau 2</a></span><ul class=\"toc-item\"><li><span><a href=\"#niveau-3\" data-toc-modified-id=\"niveau-3-1.1.1\"><span class=\"toc-item-num\">1.1.1&nbsp;&nbsp;</span>niveau 3</a></span></li></ul></li></ul></li><li><span><a href=\"#Encore-des-affectations-...\" data-toc-modified-id=\"Encore-des-affectations-...-2\"><span class=\"toc-item-num\">2&nbsp;&nbsp;</span>Encore des affectations ...</a></span><ul class=\"toc-item\"><li><span><a href=\"#Affectations-et-mutables\" data-toc-modified-id=\"Affectations-et-mutables-2.1\"><span class=\"toc-item-num\">2.1&nbsp;&nbsp;</span>Affectations et mutables</a></span></li></ul></li></ul></div>"
   ]
  },
  {
   "cell_type": "code",
   "execution_count": null,
   "metadata": {},
   "outputs": [],
   "source": [
    "print(\"Bonjour à toutes et tous\")"
   ]
  },
  {
   "cell_type": "code",
   "execution_count": null,
   "metadata": {},
   "outputs": [],
   "source": [
    "n = 100"
   ]
  },
  {
   "cell_type": "markdown",
   "metadata": {},
   "source": [
    "print(\"Bonjour\")\n",
    "\n",
    "# Bonjour, on commence.\n",
    "\n",
    "## niveau 2\n",
    "\n",
    "### niveau 3\n",
    "\n",
    "Une boucle `for`\n",
    "\n",
    "```python\n",
    "for i in range(3):\n",
    "    print(i)\n",
    "```\n",
    "\n",
    "\n"
   ]
  },
  {
   "cell_type": "code",
   "execution_count": null,
   "metadata": {},
   "outputs": [],
   "source": [
    "for i in range(3):\n",
    "    print(i)"
   ]
  },
  {
   "cell_type": "markdown",
   "metadata": {},
   "source": [
    "Une boucle while"
   ]
  },
  {
   "cell_type": "code",
   "execution_count": null,
   "metadata": {},
   "outputs": [],
   "source": [
    "i = 0\n",
    "while i < 3:\n",
    "    print(i)\n",
    "    i = i + 1"
   ]
  },
  {
   "cell_type": "markdown",
   "metadata": {},
   "source": [
    "Un lien [UPVD](http://www.univ-perp.fr)\n",
    "\n",
    "Une équation du 2nd degré : $x^2 + 2x + 1 = 0$\n"
   ]
  },
  {
   "cell_type": "code",
   "execution_count": null,
   "metadata": {},
   "outputs": [],
   "source": [
    "n = n + 1"
   ]
  },
  {
   "cell_type": "code",
   "execution_count": null,
   "metadata": {},
   "outputs": [],
   "source": [
    "print(n)"
   ]
  },
  {
   "cell_type": "code",
   "execution_count": 6,
   "metadata": {},
   "outputs": [
    {
     "ename": "NameError",
     "evalue": "name 'jupyter_data_dir' is not defined",
     "output_type": "error",
     "traceback": [
      "\u001b[0;31m---------------------------------------------------------------------------\u001b[0m",
      "\u001b[0;31mNameError\u001b[0m                                 Traceback (most recent call last)",
      "\u001b[0;32m<ipython-input-6-d8bea2b85a3b>\u001b[0m in \u001b[0;36m<module>\u001b[0;34m\u001b[0m\n\u001b[0;32m----> 1\u001b[0;31m \u001b[0mprint\u001b[0m\u001b[0;34m(\u001b[0m\u001b[0mjupyter_data_dir\u001b[0m\u001b[0;34m(\u001b[0m\u001b[0;34m)\u001b[0m\u001b[0;34m)\u001b[0m\u001b[0;34m\u001b[0m\u001b[0;34m\u001b[0m\u001b[0m\n\u001b[0m",
      "\u001b[0;31mNameError\u001b[0m: name 'jupyter_data_dir' is not defined"
     ]
    }
   ],
   "source": [
    "print(jupyter_data_dir())"
   ]
  },
  {
   "cell_type": "markdown",
   "metadata": {},
   "source": [
    "# Encore des affectations ..."
   ]
  },
  {
   "cell_type": "markdown",
   "metadata": {},
   "source": [
    "## Affectations et mutables"
   ]
  },
  {
   "cell_type": "code",
   "execution_count": 7,
   "metadata": {},
   "outputs": [
    {
     "name": "stdout",
     "output_type": "stream",
     "text": [
      "4402695376 4402695376\n"
     ]
    }
   ],
   "source": [
    "s = [1,2,3]\n",
    "t = s\n",
    "print(id(s), id(t))"
   ]
  },
  {
   "cell_type": "code",
   "execution_count": 9,
   "metadata": {},
   "outputs": [
    {
     "name": "stdout",
     "output_type": "stream",
     "text": [
      "4402699312 4402697232\n",
      "4402699312 4402697232\n",
      "4402699312 4402697232 4402959136\n"
     ]
    }
   ],
   "source": [
    "def conc(a, b) :\n",
    "    res = a+b\n",
    "    print(id(a), id(b))\n",
    "    return res\n",
    "\n",
    "s = [1,2,3]\n",
    "t = [4,5,6]\n",
    "print(id(s), id(t))\n",
    "v = conc(s, t)\n",
    "print(id(s), id(t), id(v))"
   ]
  },
  {
   "cell_type": "code",
   "execution_count": 10,
   "metadata": {},
   "outputs": [
    {
     "name": "stdout",
     "output_type": "stream",
     "text": [
      "4403439488 4403439488\n",
      "4403181520 4403439488\n"
     ]
    }
   ],
   "source": [
    "s = [1,2,3]\n",
    "t = s\n",
    "print(id(s), id(t))\n",
    "s = s + [4,5,6] # modif complète = nouvelle variable\n",
    "print(id(s), id(t))"
   ]
  },
  {
   "cell_type": "code",
   "execution_count": 11,
   "metadata": {},
   "outputs": [
    {
     "name": "stdout",
     "output_type": "stream",
     "text": [
      "4402883472 4402883472\n",
      "4402883472 4402883472\n"
     ]
    }
   ],
   "source": [
    "s = [1,2,3]\n",
    "t = s\n",
    "print(id(s), id(t))\n",
    "s[0] = 0 # modif partielle = effet de bord\n",
    "print(id(s), id(t))"
   ]
  },
  {
   "cell_type": "code",
   "execution_count": 17,
   "metadata": {},
   "outputs": [
    {
     "name": "stdout",
     "output_type": "stream",
     "text": [
      "4412519920 4412519920\n",
      "4412519920 4412519920\n",
      "4402970208 4412519920\n",
      "4402970208 4412519920\n",
      "4402970208 4412519920\n",
      "4412520640 4412519920\n",
      "4402970208 4412519920 4412520640\n"
     ]
    }
   ],
   "source": [
    "def conc(a, b) :\n",
    "    print(id(a), id(b))\n",
    "    a = a + b\n",
    "    print(id(a), id(b))\n",
    "    return a\n",
    "\n",
    "s = [1,2,3]\n",
    "t = s\n",
    "print(id(s), id(t))\n",
    "s = conc(s, t)\n",
    "print(id(s), id(t))\n",
    "v = conc(s, t)\n",
    "print(id(s), id(t), id(v))"
   ]
  },
  {
   "cell_type": "code",
   "execution_count": 5,
   "metadata": {},
   "outputs": [
    {
     "name": "stdout",
     "output_type": "stream",
     "text": [
      "4402970128 4402974960\n",
      "4402970128 4402974960\n",
      "True 4402975040\n",
      "False 4403580192\n"
     ]
    }
   ],
   "source": [
    "b = (u == v)\n",
    "print(b, id(u))\n",
    "u = u[:2]\n",
    "b = (u == v)\n",
    "print(b, id(u))"
   ]
  },
  {
   "cell_type": "markdown",
   "metadata": {},
   "source": [
    "## Affectations et non mutables"
   ]
  },
  {
   "cell_type": "code",
   "execution_count": 1,
   "metadata": {},
   "outputs": [
    {
     "name": "stdout",
     "output_type": "stream",
     "text": [
      "4403186224 4403186224\n"
     ]
    }
   ],
   "source": [
    "a = \"toto\"\n",
    "b = a\n",
    "print(id(a), id(b))"
   ]
  },
  {
   "cell_type": "code",
   "execution_count": 2,
   "metadata": {},
   "outputs": [
    {
     "name": "stdout",
     "output_type": "stream",
     "text": [
      "4403186224 4403187632\n",
      "4403186224 4403187632\n"
     ]
    }
   ],
   "source": [
    "def conc(s, t) :\n",
    "    res = s + t\n",
    "    print(id(s), id(t))\n",
    "    return res\n",
    "\n",
    "a = \"toto\"\n",
    "b = \"titi\"\n",
    "print(id(a), id(b))\n",
    "c = conc(a, b)"
   ]
  },
  {
   "cell_type": "code",
   "execution_count": 3,
   "metadata": {},
   "outputs": [
    {
     "name": "stdout",
     "output_type": "stream",
     "text": [
      "4403187632 4403187632\n",
      "4403187632 4403187632\n"
     ]
    }
   ],
   "source": [
    "a = \"toto\"\n",
    "a = b\n",
    "print(id(a), id(b))\n",
    "a = \"titi\"\n",
    "print(id(a), id(b))"
   ]
  },
  {
   "cell_type": "code",
   "execution_count": 4,
   "metadata": {},
   "outputs": [
    {
     "name": "stdout",
     "output_type": "stream",
     "text": [
      "4403187632 4403187632\n",
      "4403569776 4403187632\n"
     ]
    }
   ],
   "source": [
    "a = \"toto\"\n",
    "a = b\n",
    "print(id(a), id(b))\n",
    "a = a + \"titi\"\n",
    "print(id(a), id(b))"
   ]
  },
  {
   "cell_type": "code",
   "execution_count": null,
   "metadata": {},
   "outputs": [],
   "source": []
  }
 ],
 "metadata": {
  "kernelspec": {
   "display_name": "Python 3",
   "language": "python",
   "name": "python3"
  },
  "language_info": {
   "codemirror_mode": {
    "name": "ipython",
    "version": 3
   },
   "file_extension": ".py",
   "mimetype": "text/x-python",
   "name": "python",
   "nbconvert_exporter": "python",
   "pygments_lexer": "ipython3",
   "version": "3.7.7"
  },
  "latex_envs": {
   "LaTeX_envs_menu_present": true,
   "autoclose": false,
   "autocomplete": true,
   "bibliofile": "biblio.bib",
   "cite_by": "apalike",
   "current_citInitial": 1,
   "eqLabelWithNumbers": true,
   "eqNumInitial": 1,
   "hotkeys": {
    "equation": "Ctrl-E",
    "itemize": "Ctrl-I"
   },
   "labels_anchors": false,
   "latex_user_defs": false,
   "report_style_numbering": true,
   "user_envs_cfg": false
  },
  "toc": {
   "nav_menu": {},
   "number_sections": true,
   "sideBar": false,
   "skip_h1_title": false,
   "title_cell": "Table des matières",
   "title_sidebar": "TdM",
   "toc_cell": true,
   "toc_position": {},
   "toc_section_display": true,
   "toc_window_display": false
  }
 },
 "nbformat": 4,
 "nbformat_minor": 4
}
