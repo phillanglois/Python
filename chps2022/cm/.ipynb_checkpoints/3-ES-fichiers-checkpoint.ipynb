{
 "cells": [
  {
   "cell_type": "markdown",
   "metadata": {
    "slideshow": {
     "slide_type": "slide"
    }
   },
   "source": [
    "(ch:ES-fichiers)=\n",
    "# Entrées-sorties simples avec des fichiers"
   ]
  },
  {
   "cell_type": "markdown",
   "metadata": {
    "slideshow": {
     "slide_type": "slide"
    }
   },
   "source": [
    "Mis à jour : {sub-ref}`today`, lecture : {sub-ref}`wordcount-minutes` minutes minimum, PhL."
   ]
  },
  {
   "cell_type": "markdown",
   "metadata": {
    "slideshow": {
     "slide_type": "slide"
    }
   },
   "source": [
    "Chapitre où on étudie comment effectuer des entrées-sorties (E/S) simples à l'aide de fichiers.\n",
    "\n",
    "Jusqu'à présent les entrées-sorties ont été générées à grands coups de `print()` et d'` input()` pour interagir avec l'écran ou le clavier.\n",
    "Les entrées-sorties ne sont pas limitées au couple écran-clavier.\n",
    "Bien au contraire, ces derniers ne sont que des cas particuliers d'une notion plus générale : celle de _fichier_. "
   ]
  },
  {
   "cell_type": "markdown",
   "metadata": {
    "slideshow": {
     "slide_type": "slide"
    }
   },
   "source": [
    "## Notions générales et vocabulaire important\n",
    "\n",
    "### Fichier, fichier texte et fichier binaire\n",
    "\n",
    "A la différence de la mémoire de l'ordinateur, le fichier (_file_ en anglais) permet de stocker de l'information et la retrouver si l'alimentation électrique de l'ordinateur est interrompue.  \n",
    "Par information, on entend des données de tout type (nombres, sons, images,...), des programmes, des bibliothèques de composants du logiciel, ...  \n",
    "\"Physiquement\", les [supports matériels de ces fichiers](https://fr.wikipedia.org/wiki/Mémoire_de_masse) sont variés et évoluent selon les technologies disponibles : cartes perforées, bandes magnétiques, disques optiques, mémoires flash ... "
   ]
  },
  {
   "cell_type": "markdown",
   "metadata": {
    "slideshow": {
     "slide_type": "slide"
    }
   },
   "source": [
    "En pratique, il faut distinguer les _fichiers_ dits **texte** (ou fichiers textuels) des _fichiers_ (dits) **binaires**. \n",
    "\n",
    "- Les fichiers texte  contiennent de l'information exploitable par l'humain \n",
    "- Les fichiers binaire contiennent de l'information uniquement exploitable par l'ordinateur\n",
    "\n",
    "Bien sûr, ces deux familles de fichiers sont au final une suite de bits stockés sur un support physique.   \n",
    "Dans ce chapitre, l'accent sera surtout mis sur les fichiers de texte utiles pour nos développements de taille modeste."
   ]
  },
  {
   "cell_type": "markdown",
   "metadata": {
    "slideshow": {
     "slide_type": "slide"
    }
   },
   "source": [
    "### Programmer avec des fichier : principes\n",
    "\n",
    "La plupart des langages de programmation distinguent les fichiers (dits) logiques des fichiers (dits) physiques.\n",
    "\n",
    "- Les __fichiers logiques__ sont des variables manipulées par le programme  \n",
    "    - Ce sont des variables d'un nouveau type : le type _fichier_\n",
    "- Les __fichiers physiques__ sont les supports effectifs du stockage de l'information (en mémoire, sur disque, sur clé, ...). \n",
    "    - Ils sont identifiés par le \"chemin\" système de leur localisation (le _path_)(`/home/mon_user_id/work/le_fichier.txt`)   \n",
    "    - Ils ne sont manipulés qu'une seule fois : lors de l'association fichier logique $\\to$ fichier physique"
   ]
  },
  {
   "cell_type": "markdown",
   "metadata": {
    "slideshow": {
     "slide_type": "subslide"
    }
   },
   "source": [
    "__Utiliser un fichier__ (en lecture, écriture ou lecture-écriture) consiste en les 4 étapes suivantes.\n",
    "1. __associer le fichier logique__ à __un fichier physique__\n",
    "2. __ouvrir__ le fichier logique  \n",
    "3. effectuer les __traitements__ désirés sur le fichier logique  \n",
    "4. __fermer__ le fichier logique  \n",
    "\n",
    "L'étape d'ouverture du fichier précise le __type des traitements__ qui seront effectués en distinguant :\n",
    "- la lecture : _read_\n",
    "- l'écriture : _write_\n",
    "- la lecture + l'écriture : _readwrite_  "
   ]
  },
  {
   "cell_type": "markdown",
   "metadata": {
    "slideshow": {
     "slide_type": "subslide"
    }
   },
   "source": [
    "__Organisation :__ \n",
    "\n",
    "- Un fichier est décomposé en **lignes** et se termine par un symbole de fin de fichier : _EOF (end of file)_     \n",
    "- Une ligne est une **suite de caractères** et se termine par un symbole de fin de ligne : _EOL (end of line)_  \n",
    "- Les traitements correspondent à un _accès séquentiel_ du fichier, en commençant à ligne 1.   "
   ]
  },
  {
   "cell_type": "markdown",
   "metadata": {},
   "source": [
    "**Remarque.**\n",
    "\n",
    "Le symbole de fin de ligne varie selon les systèmes d'exploitation [lien wikipedia](https://fr.wikipedia.org/wiki/Fin_de_ligne) ou, en mieux, la [version en anglais](https://en.wikipedia.org/wiki/Newline). \n",
    "Il en est de même pour le [symbole de fin de fichier](https://en.wikipedia.org/wiki/End-of-file).\n",
    "\n",
    "Dans ce qui suit, on identifiera le symbole de fin de ligne avec **le caractère spécial `\\n`**.\n"
   ]
  },
  {
   "cell_type": "markdown",
   "metadata": {
    "slideshow": {
     "slide_type": "subslide"
    }
   },
   "source": [
    ":::{dropdown} Aspect historique\n",
    "\n",
    "**Fichier à accès direct _vs._ à accès séquentiel.**\n",
    "\n",
    "On distingue :\n",
    "-  les fichiers qui permettent d'accéder _directement_ à une ligne (et l'enregistrement) quelconque de leur contenu,   \n",
    "- les fichiers qui nécessitent un parcours systématique et _séquentiel_ à partir de la dernière ligne accédée (et donc depuis le début du fichier lors de la première opération).\n",
    "\n",
    "Ces différents comportements sont essentiellement dues à des aspects matériels.\n",
    "Historiquement, les fichiers stockés sur des bandes magnétiques (!) étaient à accès séquentiel.\n",
    "\n",
    "La plupart des fichiers utilisables aujourd'hui sont à accès direct -- ce qui sera le cas dans ce qui suit.\n",
    "\n",
    ":::"
   ]
  },
  {
   "cell_type": "markdown",
   "metadata": {
    "slideshow": {
     "slide_type": "slide"
    }
   },
   "source": [
    "## Trois exemples simples pour savoir faire"
   ]
  },
  {
   "cell_type": "markdown",
   "metadata": {
    "slideshow": {
     "slide_type": "subslide"
    }
   },
   "source": [
    "<div class=\"alert alert-info\">\n",
    "\n",
    "Objectif 10 : On se limite à des manipulations simples (lecture ou écriture) de fichier de texte.\n",
    "    \n",
    "</div>"
   ]
  },
  {
   "cell_type": "markdown",
   "metadata": {
    "slideshow": {
     "slide_type": "slide"
    }
   },
   "source": [
    "Un premier objectif de ce chapitre est de faciliter les tests de vos développements en limitant la perte de temps liée à la saisie au clavier, perte de temps qui est d'autant plus élevée que le nombre de saisies est élevé (nombreuses valeurs ou nombreux essais).   \n",
    "\n",
    "La forme des fichiers dépend des valeurs stockées mais aussi des facilités de lecture-écriture du langage.\n",
    "Un fichier structuré de façon simple, voire simpliste, fera l'objet de procédures d'entrée-sortie faciles à écrire.  \n",
    "Inversement, les traitements d'un fichier structuré de façon plus complexe seront vite plus techniques à écrire.\n",
    "En contre-partie, le fichier simple sera souvent moins commode à manipuler via l'éditeur de texte qu'un fichier dont la structure reflète déjà celle de l'information qu'il contient.\n",
    "\n",
    "Face à ce compromis, nos premiers exemples visent des procédures d'entrées-sorties simples pour python. \n",
    "- Le premier manipule _uniquement_ des chaînes de caractères et se limite à des lectures\n",
    "- Le deuxième effectue des lectures et traitements sur des entiers et des flottants\n",
    "- Le troisième effectue des écritures d'entiers et de flottants"
   ]
  },
  {
   "cell_type": "markdown",
   "metadata": {},
   "source": [
    "### Premier exemple : lectures de `str` \n",
    "\n",
    "\n",
    "#### Objectif\n",
    "\n",
    "Je veux tester la fonction `nb_occ()` qui compte le nombre d'occurrences d'une lettre dans une chaîne de caractères. "
   ]
  },
  {
   "cell_type": "code",
   "execution_count": 1,
   "metadata": {},
   "outputs": [],
   "source": [
    "def nb_occ (char: str, texte: str) -> int:\n",
    "    '''calcule et retourne le nombre d'occurrences de char dans texte'''\n",
    "    nb = 0\n",
    "    for i in range(len(texte)):\n",
    "        if texte[i] == char:\n",
    "            nb = nb + 1\n",
    "    return nb"
   ]
  },
  {
   "cell_type": "markdown",
   "metadata": {},
   "source": [
    "#### Deux fichiers de test\n",
    "\n",
    "Je décide de compléter plusieurs fichiers texte composés de 2 lignes selon le modèle suivant :\n",
    "\n",
    "> le caractère cherché  \n",
    "> la chaîne de caractères à explorer\n",
    "\n",
    "Les fichiers `test_nb_occ0.txt` et `test_nb_occ1.txt` sont deux exemples de tels fichiers. "
   ]
  },
  {
   "cell_type": "code",
   "execution_count": 2,
   "metadata": {},
   "outputs": [
    {
     "name": "stdout",
     "output_type": "stream",
     "text": [
      "z\n",
      "anticonstitutionnellement\n"
     ]
    }
   ],
   "source": [
    "!cat tmp/test_nb_occ0.txt"
   ]
  },
  {
   "cell_type": "code",
   "execution_count": 3,
   "metadata": {},
   "outputs": [
    {
     "name": "stdout",
     "output_type": "stream",
     "text": [
      "n\n",
      "anticonstitutionnellement\n"
     ]
    }
   ],
   "source": [
    "!cat tmp/test_nb_occ1.txt"
   ]
  },
  {
   "cell_type": "markdown",
   "metadata": {},
   "source": [
    "#### Lecture ligne à ligne avec `.readline()` qui fournit une `str` par ligne \n",
    "\n",
    "La fonction-méthode python `.readline()` permet :\n",
    "- de parcourir séquentiellement le fichier ligne après ligne,\n",
    "- et chaque ligne lue est fournie comme une `str`."
   ]
  },
  {
   "cell_type": "markdown",
   "metadata": {},
   "source": [
    "Chaque ligne des fichiers de test contient une chaîne de caractères.\n",
    "Cette lecture avec `.readline()` est donc tout à fait adaptée."
   ]
  },
  {
   "cell_type": "markdown",
   "metadata": {},
   "source": [
    ":::{important} \n",
    "\n",
    "La fonction-méthode `.readline()` est une fonction particulière. \n",
    "Il s'agit en fait d'une _méthode_. \n",
    "Une méthode est une fonction dont l'appel est préfixé par l'identifiant d'une variable (un objet en fait) suivi d'un `.` \n",
    "On parlera donc de _fonction-méthode_.\n",
    "\n",
    "Exemple. `mon_fichier.readline()` pour indiquer que `readline()` s'applique au fichier (logique) de nom `mon_fichier`.\n",
    "\n",
    "On pourrait se demander pourquoi `mon_fichier` n'est pas un paramètre de l'appel de `readline()`, c-a-d. que `mon_fichier` pourrait apparaître entre `( )` lors de l'appel. Ce point sera clarifié ultérieurement. Ce n'est certainement pas la première fois que vous rencontrez cette **notation préfixée pointée**. Ce ne sera pas la dernière. Ce n'est pas le cas ici avec `.readline()` mais des paramètres autres que celui préfixé peuvent apparaître entre `( )` lors de l'appel. \n",
    ":::"
   ]
  },
  {
   "cell_type": "code",
   "execution_count": 4,
   "metadata": {
    "slideshow": {
     "slide_type": "subslide"
    },
    "tags": []
   },
   "outputs": [],
   "source": [
    "# association et ouverture du fichier -- noter le mode \"r\" pour read\n",
    "f = open(\"./tmp/test_nb_occ0.txt\", \"r\", encoding=\"utf8\")\n",
    "\n",
    "# lecture séquentielle par ligne. \n",
    "c = f.readline() # lecture du caractère \n",
    "m = f.readline() # lecture du mot\n",
    "\n",
    "# fermeture    \n",
    "f.close()"
   ]
  },
  {
   "cell_type": "markdown",
   "metadata": {},
   "source": [
    ":::{note}\n",
    "Notez le préfixe `f` devant `.readline()` où `f` est le nom du fichier logique défini à l'association/ouverture.\n",
    ":::"
   ]
  },
  {
   "cell_type": "markdown",
   "metadata": {},
   "source": [
    "Les 4 étapes association/ouverture/lecture/fermeture de ce fichier sont effectuées. \n",
    "\n",
    "Le traitement des entrées n'est pourtant **pas terminé**. "
   ]
  },
  {
   "cell_type": "markdown",
   "metadata": {},
   "source": [
    "#### Nettoyage des caractères spéciaux de fin de ligne\n",
    "\n",
    "Observons plus en détail ce qui a été _effectivement_ lu.  \n",
    "Un focus sur le caractère `c` lu à la première ligne du fichier suffit à comprendre."
   ]
  },
  {
   "cell_type": "code",
   "execution_count": 5,
   "metadata": {},
   "outputs": [
    {
     "name": "stdout",
     "output_type": "stream",
     "text": [
      "z\n",
      "\n",
      "<class 'str'>\n",
      "2\n"
     ]
    }
   ],
   "source": [
    "print(c)\n",
    "print(type(c))\n",
    "print(len(c))"
   ]
  },
  {
   "cell_type": "markdown",
   "metadata": {},
   "source": [
    "Surprise : `c` est un caractère de longueur 2 !?\n",
    "\n",
    "En effet, la première ligne du fichier est composé d'un caractère (ici `z`). Mais elle est aussi terminée par le caractère spécial d'EOL, ici `\\n`. Ce qui fait 2 caractères au total lus par `.readline()`.\n",
    "\n",
    "On peut le vérifier en convertissant `c` en `lst` :"
   ]
  },
  {
   "cell_type": "code",
   "execution_count": 6,
   "metadata": {},
   "outputs": [
    {
     "name": "stdout",
     "output_type": "stream",
     "text": [
      "['z', '\\n']\n"
     ]
    }
   ],
   "source": [
    "print(list(c))"
   ]
  },
  {
   "cell_type": "markdown",
   "metadata": {},
   "source": [
    "Il faut donc \"nettoyer\" chaque ligne lue de ce caractère spécial si le traitement à effectuer le nécessite.\n",
    "C'est très souvent le cas.\n",
    "\n",
    "Les tranches de `str` ou de `lst`  python (_slice_) rendent ce nettoyage facile : on rappelle que le dernier élément d'un tableau est d'indice -1."
   ]
  },
  {
   "cell_type": "code",
   "execution_count": 7,
   "metadata": {},
   "outputs": [
    {
     "name": "stdout",
     "output_type": "stream",
     "text": [
      "z\n"
     ]
    }
   ],
   "source": [
    "c = c[:-1] # tranche de tableau qui \"supprime\" la dernière valeur de c \n",
    "print(c)"
   ]
  },
  {
   "cell_type": "markdown",
   "metadata": {},
   "source": [
    "Et de même pour le mot lu en seconde ligne du fichier :"
   ]
  },
  {
   "cell_type": "code",
   "execution_count": 8,
   "metadata": {},
   "outputs": [
    {
     "name": "stdout",
     "output_type": "stream",
     "text": [
      "anticonstitutionnellement\n"
     ]
    }
   ],
   "source": [
    "if m[-1] == '\\n':\n",
    "    m = m[:-1]\n",
    "print(m)"
   ]
  },
  {
   "cell_type": "markdown",
   "metadata": {},
   "source": [
    "**Remarque.** \n",
    "On a ajouté un test de la présence du _EOL_ car la dernière ligne d'un fichier ne se termine pas nécessairement ainsi."
   ]
  },
  {
   "cell_type": "markdown",
   "metadata": {},
   "source": [
    "#### Traitement : le premier test de `nb_occ()`\n",
    "\n",
    "Passons enfin au traitement proprement dit, ici le test le la fonction `nb_occ()`."
   ]
  },
  {
   "cell_type": "code",
   "execution_count": 9,
   "metadata": {
    "tags": []
   },
   "outputs": [],
   "source": [
    "assert nb_occ(c, m) == 0"
   ]
  },
  {
   "cell_type": "markdown",
   "metadata": {},
   "source": [
    "On a donc lu le premier fichier de test de `nb_occ`. La fonction a passé avec succès le test défini par les paramètres lus dans ce fichier. L'exécution sans erreur de l'instruction `assert` permet de continuer.  "
   ]
  },
  {
   "cell_type": "markdown",
   "metadata": {
    "slideshow": {
     "slide_type": "subslide"
    }
   },
   "source": [
    "**Rmq.** Les fichiers _physiques_ doivent exister pour être ouverts, lus, modifiés, fermés.  "
   ]
  },
  {
   "cell_type": "markdown",
   "metadata": {},
   "source": [
    "#### Exploitation du second fichier\n",
    "\n",
    "On recommence lecture et test pour le second fichier de test où 5 occurrences de la lettre `n` sont attendus."
   ]
  },
  {
   "cell_type": "code",
   "execution_count": 10,
   "metadata": {},
   "outputs": [
    {
     "name": "stdout",
     "output_type": "stream",
     "text": [
      "n\n",
      "anticonstitutionnellement\n"
     ]
    }
   ],
   "source": [
    "!cat tmp/test_nb_occ1.txt"
   ]
  },
  {
   "cell_type": "markdown",
   "metadata": {},
   "source": [
    "On supprime directement le _EOL_ à chaque lecture à l'aide de la tranche `[:-1]`."
   ]
  },
  {
   "cell_type": "code",
   "execution_count": 11,
   "metadata": {
    "slideshow": {
     "slide_type": "subslide"
    },
    "tags": []
   },
   "outputs": [],
   "source": [
    "# association et ouverture du fichier -- noter le mode \"r\" pour read\n",
    "f = open(\"./tmp/test_nb_occ1.txt\", \"r\", encoding=\"utf8\")\n",
    "\n",
    "# lecture séquentielle par ligne\n",
    "c = f.readline()[:-1] # lecture du caractère \n",
    "m = f.readline()[:-1] # lecture du mot\n",
    "\n",
    "# fermeture    \n",
    "f.close()\n",
    "\n",
    "# affichage par curiosité\n",
    "#print(list(c), m, nb_occ(c, m))\n",
    "\n",
    "# test\n",
    "assert nb_occ(c, m) == 5"
   ]
  },
  {
   "cell_type": "markdown",
   "metadata": {},
   "source": [
    "Ce second test de `nb_occ()` est aussi validé."
   ]
  },
  {
   "cell_type": "markdown",
   "metadata": {},
   "source": [
    "**Extensions possibles.**\n",
    "\n",
    "Il vient naturellement à l'idée de rassembler dans un seul fichier plusieurs cas tests, voire même les résultats attendus de chacun de ces tests. Même dans ce cas simple, de telles extensions sont vite plus compliquées qu'il y parait. En effet, ajouter par exemple les résultats attendus revient à ajouter des valeurs entières (les nombres d'occurrences attendus) dans un traitement pour l'instant limité à de la manipulation de `str`.\n",
    "\n",
    "L'exemple suivant permet d'illustrer un cas similaire."
   ]
  },
  {
   "cell_type": "markdown",
   "metadata": {
    "slideshow": {
     "slide_type": "subslide"
    },
    "tags": []
   },
   "source": [
    "### Deuxième exemple : lecture `.readline()` avec conversion de type et effets dynamiques\n",
    "\n",
    "#### Objectif\n",
    "\n",
    "Je veux tester la fonction de produit scalaire suivante."
   ]
  },
  {
   "cell_type": "code",
   "execution_count": 12,
   "metadata": {
    "tags": []
   },
   "outputs": [],
   "source": [
    "def prod_scal(u : list[float], v : list[float], n : int) -> float:\n",
    "    '''calcule et retourne le produit scalaire u^t.v où u et v sont de taille n'''\n",
    "    assert len(u) == len(v) == n\n",
    "    res = 0.0\n",
    "    for i in range(n):\n",
    "        res = res + u[i]*v[i]\n",
    "    return res"
   ]
  },
  {
   "cell_type": "markdown",
   "metadata": {
    "slideshow": {
     "slide_type": "subslide"
    },
    "tags": []
   },
   "source": [
    "#### La forme d'un fichier de test\n",
    "\n",
    "Je décide de compléter un fichier texte selon le modèle suivant :\n",
    "\n",
    "> $n$  \n",
    "> $u$   \n",
    "> $v$   \n",
    "> $u^t v$ \n",
    "\n",
    "Ainsi :\n",
    "\n",
    "1. la première donne la taille $n$ des vecteurs,  \n",
    "2. les $n$ lignes suivantes donne les composantes de $u$,\n",
    "3. les $n$ lignes suivantes celles de $v$,\n",
    "3. enfin la dernière indique la valeur du produit scalaire (calculée \"à la main\").\n",
    "\n",
    "Ainsi, je vais pouvoir comparer le résultat de `prod_scal()` et celui attendu, et ce sur des vecteurs de tailles arbitraire. Chaque choix ($n$, $u$, $v$, $u^t v$) est un _cas test_ pour `prod_scal()`.\n",
    "\n",
    "`test_prod_scal.txt` est un exemple d'un premier cas test : 2 vecteurs de taille 4 de produit scalaire égal à 2."
   ]
  },
  {
   "cell_type": "code",
   "execution_count": 13,
   "metadata": {},
   "outputs": [
    {
     "name": "stdout",
     "output_type": "stream",
     "text": [
      "4\n",
      "1.\n",
      "1.\n",
      "1.\n",
      "1.\n",
      "1.\n",
      "1.\n",
      "-1.\n",
      "1.\n",
      "2.\n"
     ]
    }
   ],
   "source": [
    "!cat ./tmp/test_prod_scal.txt"
   ]
  },
  {
   "cell_type": "markdown",
   "metadata": {},
   "source": [
    "#### Conversions et effets dynamiques\n",
    "\n",
    "**Analyse préliminaire**\n",
    "\n",
    "1. Conversions `str` $\\to$ valeurs numériques\n",
    "    - Le fichier de texte contient _uniquement_ des caractères, des `str` en python.\n",
    "    - Pourtant, ces `str` correspondent à un `int` ou des `float`\n",
    "    - Ainsi, des conversions adaptées devront être effectuées pendant (ou après) la lecture :\n",
    "        - conversion en `int` pour la ligne 1\n",
    "        - conversions en `float` pour les autres\n",
    "\n",
    "2. Conséquences dynamiques \n",
    "    - La taille des vecteurs est connue _après_ avoir lu la valeur pour `n` (ligne 1) \n",
    "    - Les vecteurs devront être créés une fois `n` connu\n",
    "    - La lecture de la suite du fichier (composantes des 2 vecteurs, résultat attendu) dépend aussi de la valeur lue pour $n$\n",
    "    \n",
    "\n",
    "3. Rappel : la gestion des fins de ligne\n",
    "    - Chaque ligne du fichier se termine par un caractère spécial _EOL_, ici `\\n`\n",
    "    - Comme précédemment, ces caractères spéciaux seront lus aussi et un traitement adapté sera défini -- par exemple, les supprimer. "
   ]
  },
  {
   "cell_type": "markdown",
   "metadata": {},
   "source": [
    "On va profiter de cet exemple pour donner **une autre construction** python des 4 étapes association/ouverture/lecture/fermeture de ce fichier.\n",
    "\n",
    "- La lecture est toujours effectuée ligne après ligne avec `.readline()` \n",
    "- mais la construction avec la clause de contexte `with` permet de se dégager de l'ouverture et la fermeture au préalable obligatoires."
   ]
  },
  {
   "cell_type": "markdown",
   "metadata": {},
   "source": [
    "#### Lecture avec la clause `with` \n",
    "\n",
    "Cette lecture de la première ligne uniquement pour commencer en illustrant cette nouvelle construction très utile en pratique."
   ]
  },
  {
   "cell_type": "code",
   "execution_count": 14,
   "metadata": {
    "slideshow": {
     "slide_type": "subslide"
    },
    "tags": []
   },
   "outputs": [],
   "source": [
    "# association/ouverture/lecture/fermeture avec clause with\n",
    "with open(\"./tmp/test_prod_scal.txt\", \"r\", encoding=\"utf8\") as f:\n",
    "    # la taille n : lecture et nettoyage du EOL\n",
    "    n = f.readline()[:-1]"
   ]
  },
  {
   "cell_type": "code",
   "execution_count": 15,
   "metadata": {},
   "outputs": [
    {
     "name": "stdout",
     "output_type": "stream",
     "text": [
      "4 1 <class 'str'>\n"
     ]
    }
   ],
   "source": [
    "print(n, len(n), type(n))"
   ]
  },
  {
   "cell_type": "markdown",
   "metadata": {},
   "source": [
    "On retrouve la configuration de l'exemple précédent sans à avoir à utiliser les instructions `open()`et `.close()`.\n",
    "\n",
    "Occupons-nous maintenant du typage des valeurs lues.\n"
   ]
  },
  {
   "cell_type": "markdown",
   "metadata": {},
   "source": [
    "#### Lecture `.readline()` avec `with` et typage \n",
    "\n",
    "Le nettoyage de chaque ligne étant effectué après la lecture et avant l'affectation, le typage est aisé : d'abord un `int` puis des `float`."
   ]
  },
  {
   "cell_type": "code",
   "execution_count": 16,
   "metadata": {
    "slideshow": {
     "slide_type": "subslide"
    },
    "tags": []
   },
   "outputs": [],
   "source": [
    "# association/ouverture/fermeture avec clause with\n",
    "with open(\"./tmp/test_prod_scal.txt\", \"r\", encoding=\"utf8\") as f:\n",
    "    # la taille n : lecture\n",
    "    n = int(f.readline()[:-1])\n",
    "    \n",
    "    # premier vecteur : création et lecture\n",
    "    x = [0. for i in range(n)]\n",
    "    for j in range(n):\n",
    "        x[j] = float(f.readline()[:-1])\n",
    "    # second vecteur : création et lecture\n",
    "    y = [0. for i in range(n)]\n",
    "    for j in range(n):\n",
    "        y[j] = float(f.readline()[:-1])\n",
    "    # produit scalaire : resultat attendu \n",
    "    ps_exact = float(f.readline()[:-1])  "
   ]
  },
  {
   "cell_type": "markdown",
   "metadata": {},
   "source": [
    "**Remarque.** Ne pas oublier le nettoyage de _EOL_ lors de chaque `readline()`. \n",
    "\n",
    "Il ne reste plus qu'à tester."
   ]
  },
  {
   "cell_type": "markdown",
   "metadata": {},
   "source": [
    "#### Test unitaire de `prod_scal()`"
   ]
  },
  {
   "cell_type": "code",
   "execution_count": 17,
   "metadata": {},
   "outputs": [],
   "source": [
    "assert prod_scal(x, y, n) == ps_exact"
   ]
  },
  {
   "cell_type": "markdown",
   "metadata": {},
   "source": [
    "Le test ainsi validé nous rassure sur la correction de `prod_scal()`. \n",
    "\n",
    "Bien sûr, des extensions similaires à celles explicitées à l'exemple précédent sont tentantes. \n",
    "On vous invite à continuer en ce sens en exercice."
   ]
  },
  {
   "cell_type": "markdown",
   "metadata": {},
   "source": [
    "### Troisième exemple : écritures simples avec `.write()`\n",
    "\n",
    "\n",
    "On termine en montrant comment l'écriture simple _dans_ des fichiers textes s'obtient de façon très similaire avec la fonction méthode `.write()`.\n",
    "\n",
    "Toujours les 4 étapes mais :\n",
    "- l'ouverture du fichier s'effectue en mode `w` (_write_) ou `a` (_append_ : ajouter à la fin)\n",
    "- la fonction-méthode `.write()` permet l'écriture d'une `str` \n",
    "- la conversion vers des `str` sera donc un préalable\n",
    "- ainsi que la gestion des _EOL_, ici `\\n` pour effectuer les sauts de lignes souhaités dans le fichier\n",
    "    - en effet, `.write()` écrit la `str` à la suite de la dernière écriture effectuée."
   ]
  },
  {
   "cell_type": "markdown",
   "metadata": {},
   "source": [
    "#### Construction d'un cas test de `nb_occ()`"
   ]
  },
  {
   "cell_type": "code",
   "execution_count": 18,
   "metadata": {},
   "outputs": [],
   "source": [
    "# Préparation des données à stocker\n",
    "from random import randint\n",
    "\n",
    "# une taille de vecteurs au hasard\n",
    "n = randint(1, 10)\n",
    "\n",
    "# un choix de composantes tel que ps_exact == n\n",
    "x = [float(i) for i in range(1, n+1)]\n",
    "y = [1./float(i) for i in range(1, n+1)]"
   ]
  },
  {
   "cell_type": "code",
   "execution_count": 19,
   "metadata": {},
   "outputs": [
    {
     "name": "stdout",
     "output_type": "stream",
     "text": [
      "9 [1.0, 2.0, 3.0, 4.0, 5.0, 6.0, 7.0, 8.0, 9.0] [1.0, 0.5, 0.3333333333333333, 0.25, 0.2, 0.16666666666666666, 0.14285714285714285, 0.125, 0.1111111111111111] 9.0\n"
     ]
    }
   ],
   "source": [
    "## vérifications\n",
    "print(n, x, y, prod_scal(x, y, n))"
   ]
  },
  {
   "cell_type": "markdown",
   "metadata": {},
   "source": [
    "#### Enregistrement dans un fichier de test"
   ]
  },
  {
   "cell_type": "code",
   "execution_count": 20,
   "metadata": {},
   "outputs": [],
   "source": [
    "# association/ouverture/fermeture avec clause with\n",
    "with open(\"./tmp/test_prod_scal_write.txt\", \"w\", encoding=\"utf8\") as f:\n",
    "    f.write( str(n) + '\\n' )\n",
    "    for i in range(n):\n",
    "        f.write( str(x[i]) + '\\n' )\n",
    "    for i in range(n):\n",
    "        f.write( str(y[i]) + '\\n' )\n",
    "    f.write( str(float(n))  + '\\n' )  # ==ps_exact        "
   ]
  },
  {
   "cell_type": "markdown",
   "metadata": {},
   "source": [
    "On vérifie que le fichier `\n",
    "./tmp/test_prod_scal_write.txt` a bien été créé et son contenu."
   ]
  },
  {
   "cell_type": "code",
   "execution_count": 21,
   "metadata": {},
   "outputs": [
    {
     "name": "stdout",
     "output_type": "stream",
     "text": [
      "-rw-r--r--  1 langlois  staff   30  7 fév 19:50 tmp/test_prod_scal.txt\n",
      "-rw-r--r--  1 langlois  staff   91  7 fév 19:50 tmp/test_prod_scal2.txt\n",
      "-rw-r--r--  1 langlois  staff   97  8 fév 11:25 tmp/test_prod_scal3.txt\n",
      "-rw-r--r--  1 langlois  staff  143  8 fév 12:11 tmp/test_prod_scal_write.txt\n"
     ]
    }
   ],
   "source": [
    "!ls -l tmp/test_prod_scal*.txt"
   ]
  },
  {
   "cell_type": "code",
   "execution_count": 22,
   "metadata": {},
   "outputs": [
    {
     "name": "stdout",
     "output_type": "stream",
     "text": [
      "9\n",
      "1.0\n",
      "2.0\n",
      "3.0\n",
      "4.0\n",
      "5.0\n",
      "6.0\n",
      "7.0\n",
      "8.0\n",
      "9.0\n",
      "1.0\n",
      "0.5\n",
      "0.3333333333333333\n",
      "0.25\n",
      "0.2\n",
      "0.16666666666666666\n",
      "0.14285714285714285\n",
      "0.125\n",
      "0.1111111111111111\n",
      "9.0\n"
     ]
    }
   ],
   "source": [
    "!cat tmp/test_prod_scal_write.txt"
   ]
  },
  {
   "cell_type": "markdown",
   "metadata": {},
   "source": [
    ":::{warning} \n",
    "L'ouverture en écriture (mode `w`) écrase éventuellement un fichier physique existant et de même nom.  \n",
    ":::"
   ]
  },
  {
   "cell_type": "markdown",
   "metadata": {},
   "source": [
    "#### Exploitation du fichier de test\n",
    "\n",
    ":::{dropdown}\n",
    "\n",
    "Il suffit maintenant de lire ce fichier et d'effectuer le test.\n",
    "\n",
    "```python\n",
    "# association/ouverture/fermeture avec clause with\n",
    "with open(\"./tmp/test_prod_scal_write.txt\", \"r\", encoding=\"utf8\") as f:\n",
    "    # la taille n : lecture\n",
    "    n = int(f.readline()[:-1])\n",
    "    \n",
    "    # premier vecteur : création et lecture\n",
    "    x = [0. for i in range(n)]\n",
    "    for j in range(n):\n",
    "        x[j] = float(f.readline()[:-1])\n",
    "    # second vecteur : création et lecture\n",
    "    y = [0. for i in range(n)]\n",
    "    for j in range(n):\n",
    "        y[j] = float(f.readline()[:-1])\n",
    "    # produit scalaire : resultat attendu \n",
    "    ps_exact = float(f.readline()[:-1])  \n",
    "    \n",
    "assert ps_exact == prod_scal(x, y, n)\n",
    "```\n",
    "\n",
    "On est rassuré.\n",
    "\n",
    ":::"
   ]
  },
  {
   "cell_type": "markdown",
   "metadata": {},
   "source": [
    "### Synthèse et minimum à savoir-faire\n",
    "\n",
    "Pour ce qui concerne les entrées en se limitant à des fichiers où chaque valeur est stockée sur une ligne, on a vu :\n",
    "- les 4 étapes classiques association/ouverture/lecture/fermeture,\n",
    "- la construction simplifiée avec la clause `with`,\n",
    "- la lecture séquentielle ligne après ligne avec `.readline()`,\n",
    "- l'écriture simple avec `.write()`,\n",
    "- la gestion des caractères spéciaux _EOL_,\n",
    "- la conversion des lectures `str` vers des types adaptés aux traitements à effectuer,\n",
    "- et inversement pour les écritures.\n",
    "\n",
    "On a naturellement complété cette présentation par l'écriture de tests unitaires à l'aide d'instructions `assert`.\n",
    "\n",
    "Bien maîtriser le `print()` peut faire gagner du temps. Se reporter à [cette section](sec:print) si besoin. "
   ]
  },
  {
   "cell_type": "markdown",
   "metadata": {},
   "source": [
    "(sec:EScomplements)\n",
    "\n",
    "## Compléments"
   ]
  },
  {
   "cell_type": "markdown",
   "metadata": {
    "slideshow": {
     "slide_type": "subslide"
    }
   },
   "source": [
    "<div class=\"alert alert-warning\">\n",
    "\n",
    "A lire en seconde lecture    \n",
    "</div>"
   ]
  },
  {
   "cell_type": "markdown",
   "metadata": {
    "slideshow": {
     "slide_type": "subslide"
    }
   },
   "source": [
    "Cette section pour introduire d'autres fonctions de lecture-écriture que `.readline()`et `.write()`.\n",
    "\n",
    "* Des lectures complètes du fichier\n",
    "    - `.read()`: lit tout le fichier et retourne un `str`  \n",
    "    - `.readlines()`: lit tout le fichier et retourne une `list` de `str`  \n",
    "    \n",
    "* Une autre lecture partielle  \n",
    "    - `.read(oct)`: lit `oct` octets dans le fichier et retourne un `str`\n",
    "\n",
    "* Ecriture ligne à ligne\n",
    "    - `.writelines()`: écrit une `list` de `str`, ligne après ligne dans le fichier \n",
    "    \n",
    "Selon les besoins, ces fonctions facilitent l'écriture des entrées-sorties sur fichier."
   ]
  },
  {
   "cell_type": "markdown",
   "metadata": {},
   "source": [
    ":::{note} Noter le `s` dans `.readlines()`, et de façon symétrique dans `.writelines()`.\n",
    ":::"
   ]
  },
  {
   "cell_type": "markdown",
   "metadata": {
    "tags": []
   },
   "source": [
    "### Lecture complète : `.read()` fournit une `str` \n",
    "\n",
    "Les fichiers de test précédents peuvent bien sûr être \"lu d'une seule fois\" : lecture complète _vs._ lecture ligne à ligne. \n",
    "\n",
    "#### Principe \n",
    "\n",
    "La fonction-méthode `.read()` effectue cette lecture complète et retourne une chaîne de caractères _unique_.\n",
    "\n",
    "Un exemple sur un de nos précédents fichiers."
   ]
  },
  {
   "cell_type": "code",
   "execution_count": 23,
   "metadata": {
    "slideshow": {
     "slide_type": "subslide"
    },
    "tags": []
   },
   "outputs": [],
   "source": [
    "# association et ouverture du fichier -- noter le mode \"r\" pour read\n",
    "f = open(\"./tmp/test_prod_scal.txt\", \"r\", encoding=\"utf8\")\n",
    "\n",
    "# lecture complète du fichier et maj d'un string\n",
    "s = f.read()    \n",
    "\n",
    "# fermeture    \n",
    "f. close()"
   ]
  },
  {
   "cell_type": "markdown",
   "metadata": {
    "slideshow": {
     "slide_type": "subslide"
    }
   },
   "source": [
    ":::{attention} **ATTENTION au `read()` !**  \n",
    "\n",
    "Comme le dit le manuel (7.2.1):  \n",
    "> it’s your problem if the file is twice as large as your machine’s memory."
   ]
  },
  {
   "cell_type": "code",
   "execution_count": 24,
   "metadata": {},
   "outputs": [
    {
     "name": "stdout",
     "output_type": "stream",
     "text": [
      "30\n"
     ]
    }
   ],
   "source": [
    "print(len(s))"
   ]
  },
  {
   "cell_type": "code",
   "execution_count": 25,
   "metadata": {},
   "outputs": [
    {
     "name": "stdout",
     "output_type": "stream",
     "text": [
      "4\n",
      "1.\n",
      "1.\n",
      "1.\n",
      "1.\n",
      "1.\n",
      "1.\n",
      "-1.\n",
      "1.\n",
      "2.\n",
      "\n"
     ]
    }
   ],
   "source": [
    "print(s)"
   ]
  },
  {
   "cell_type": "markdown",
   "metadata": {},
   "source": [
    ":::{important}\n",
    "La lecture complète du fichier ne fait pas disparaître la structuration du fichier en lignes.\n",
    "Les caractères spéciaux _EOL_ sont toujours présents dans la chaîne de caractères issue du `.read()`.\n",
    "Un `print()` trop naïf peut être trompeur.\n",
    ":::\n",
    "\n",
    "Se reporter à la [section](sec:print) pour re-visiter le `print` si besoin était."
   ]
  },
  {
   "cell_type": "markdown",
   "metadata": {},
   "source": [
    "Bien sûr, nos précédents fichiers et traitements ne sont pas adaptés à cette lecture complète et la `str` unique qui en découle. En revanche, un exemple classique de l'intérêt de `.read()` est la lecture complète d'un fichier qui contient un texte (même long) enregistré dans un format brut : utf-8 par exemple, voir [cet article facile à lire](https://zestedesavoir.com/tutoriels/1114/comprendre-les-encodages/2-histoire/) pour plus de détails.\n",
    "\n",
    "#### Exemple classique \n",
    "\n",
    "L'exemple suivant illustre l'utilisation classique du `.read().`\n",
    "\n",
    "Le roman _La disparition_ de G. Perec (1968) est \n",
    "[bien connu](https://fr.wikipedia.org/wiki/La_Disparition_(roman)) \n",
    "pour l'absence de la lettre `e` dans ses 300 pages -- [entre autres](https://jazlebontemps.com/2016/12/15/la-disparition-roman-de-georges-perec-1968/) .\n",
    "\n",
    "Hélas, je n'ai pas réussi à trouver un fichier texte contenant une version parfaite de ce roman (n'hésitez-pas à combler ce manque). `./tmp/ladisparition.txt` est un exemple d'un tel fichier \"imparfait\". \n",
    "\n",
    "Vérifions-le en utilisant la fonction-méthode [`.count`](https://docs.python.org/fr/3.9/library/stdtypes.html?highlight=str.count#str.count) qui s'applique à une `str` et retourne le nombre d'occurrences de son argument."
   ]
  },
  {
   "cell_type": "code",
   "execution_count": 26,
   "metadata": {},
   "outputs": [
    {
     "name": "stdout",
     "output_type": "stream",
     "text": [
      "400233\n",
      "9\n"
     ]
    }
   ],
   "source": [
    "with open(\"./tmp/ladisparition.txt\", \"r\") as f:\n",
    "    full_roman = f.read()\n",
    "    \n",
    "print(len(full_roman))\n",
    "print( full_roman.count('e') )"
   ]
  },
  {
   "cell_type": "markdown",
   "metadata": {},
   "source": [
    "En effet, il y a 5 occurrences de trop de la lettre `e` dans ce roman (j'ai laissé le titre et le nom de l'auteur en début de fichier)."
   ]
  },
  {
   "cell_type": "code",
   "execution_count": 27,
   "metadata": {},
   "outputs": [
    {
     "name": "stdout",
     "output_type": "stream",
     "text": [
      "Georges Perec \n",
      "La disparition \n",
      "\n"
     ]
    }
   ],
   "source": [
    "!head -3 ./tmp/ladisparition.txt"
   ]
  },
  {
   "cell_type": "markdown",
   "metadata": {
    "tags": []
   },
   "source": [
    "### Lecture complète : `readlines()` fournit une `list` de  `str` \n",
    "\n",
    "#### Principe\n",
    "\n",
    "De façon similaire, `.readlines()` (avec un 's' à la fin) effectue une lecture complète du fichier et retourne une liste de `str`, liste composée de chaque ligne du fichier.\n",
    "\n",
    "L'exemple suivant nous aide à exhiber les caractère spéciaux `\\n` non encore \"nettoyés\". "
   ]
  },
  {
   "cell_type": "code",
   "execution_count": 28,
   "metadata": {
    "slideshow": {
     "slide_type": "subslide"
    },
    "tags": []
   },
   "outputs": [],
   "source": [
    "# association et ouverture du fichier -- noter le mode \"r\" pour read\n",
    "f = open(\"./tmp/test_prod_scal.txt\", \"r\", encoding=\"utf8\")\n",
    "\n",
    "# lecture complète et maj d'une liste de str\n",
    "l = f.readlines()    \n",
    "\n",
    "# fermeture    \n",
    "f. close()"
   ]
  },
  {
   "cell_type": "code",
   "execution_count": 29,
   "metadata": {},
   "outputs": [
    {
     "name": "stdout",
     "output_type": "stream",
     "text": [
      "10\n"
     ]
    }
   ],
   "source": [
    "print(len(l))"
   ]
  },
  {
   "cell_type": "code",
   "execution_count": 30,
   "metadata": {},
   "outputs": [
    {
     "name": "stdout",
     "output_type": "stream",
     "text": [
      "['4\\n', '1.\\n', '1.\\n', '1.\\n', '1.\\n', '1.\\n', '1.\\n', '-1.\\n', '1.\\n', '2.\\n']\n"
     ]
    }
   ],
   "source": [
    "print(l)"
   ]
  },
  {
   "cell_type": "markdown",
   "metadata": {},
   "source": [
    "**Exercice.**\n",
    "Expliquer les résultats obtenus par :\n",
    "> `len(s)` issu de `.read()`  \n",
    "\n",
    "et  \n",
    "\n",
    "> `len(l)` issu de `.readlines()`"
   ]
  },
  {
   "cell_type": "markdown",
   "metadata": {},
   "source": [
    ":::{dropdown} Réponse.\n",
    "\n",
    "```python\n",
    "for elem in l: \n",
    "    print(elem[:-1], len(elem), sep=\"->\")\n",
    "```\n",
    "```shell\n",
    "4->2\n",
    "1.->3\n",
    "1.->3\n",
    "1.->3\n",
    "1.->3\n",
    "1.->3\n",
    "1.->3\n",
    "-1.->4\n",
    "1.->3\n",
    "2.->3\n",
    "``` \n",
    ":::"
   ]
  },
  {
   "cell_type": "markdown",
   "metadata": {},
   "source": [
    "#### ($\\star$) Exemple classique\n",
    "\n",
    "On peut maintenant traiter des fichiers plus commodes pour tester `prod_scal()`.\n",
    "\n",
    "Plusieurs cas-tests sont regroupés dans le suivant de façon plus lisible :\n",
    "- comme précédemment, chaque cas test est défini par le quadruplet $(n, x, y, x^t y).$ \n",
    "- chacun de ces paramètres est écrit sur une ligne\n",
    "- chaque cas test est terminé par une ligne vide."
   ]
  },
  {
   "cell_type": "code",
   "execution_count": 31,
   "metadata": {},
   "outputs": [
    {
     "name": "stdout",
     "output_type": "stream",
     "text": [
      "1\n",
      "1.\n",
      "1.\n",
      "1.\n",
      "\n",
      "2\n",
      "1. 1.\n",
      "1. 1.\n",
      "2.\n",
      "\n",
      "2\n",
      "-1. 1.\n",
      "1. 1.\n",
      "0.\n",
      "\n",
      "2\n",
      "0. 0.\n",
      "1. 1.\n",
      "0.\n",
      "\n",
      "4\n",
      "1. 1. 1. 1.\n",
      "1. 1. 1. 1.\n",
      "4.\n",
      "\n"
     ]
    }
   ],
   "source": [
    "!cat ./tmp/test_prod_scal3.txt"
   ]
  },
  {
   "cell_type": "markdown",
   "metadata": {},
   "source": [
    "Cette procédure d'ES (un peu technique) nécessite des transformations de `str`, par exemple la fonction-méthode `.split()`, qui sont présentées au chapitre [_Types composés_](ch:typescomposes)."
   ]
  },
  {
   "cell_type": "code",
   "execution_count": 32,
   "metadata": {},
   "outputs": [
    {
     "name": "stdout",
     "output_type": "stream",
     "text": [
      "data nettoyées:  ['1', '1.', '1.', '1.', '', '2', '1. 1.', '1. 1.', '2.', '', '2', '-1. 1.', '1. 1.', '0.', '', '2', '0. 0.', '1. 1.', '0.', '', '4', '1. 1. 1. 1.', '1. 1. 1. 1.', '4.', '']\n",
      "les cas tests [[1, [1.0], [1.0], 1.0], [2, [1.0, 1.0], [1.0, 1.0], 2.0], [2, [-1.0, 1.0], [1.0, 1.0], 0.0], [2, [0.0, 0.0], [1.0, 1.0], 0.0], [4, [1.0, 1.0, 1.0, 1.0], [1.0, 1.0, 1.0, 1.0], 4.0]]\n"
     ]
    }
   ],
   "source": [
    "# lecture du fichier de données cas-test\n",
    "# et préparation des données pour tests\n",
    "\n",
    "with open(\"./tmp/test_prod_scal3.txt\", 'r') as f:\n",
    "    l_data = f.readlines()\n",
    "\n",
    "#print(l_data)\n",
    "\n",
    "# nettoyage en place\n",
    "l_data = [e[:-1] for e in l_data]\n",
    "print(\"data nettoyées: \", l_data)\n",
    "\n",
    "# décompte du nombre de cas-test\n",
    "nbcastest = 0\n",
    "for elem in l_data:\n",
    "    if elem == '': # chaque cas-test se termine par une ligne vide\n",
    "        nbcastest = nbcastest + 1\n",
    "#print(nbcastest)\n",
    "\n",
    "# tab_castest pour stocker les paramètres de chaque cas test\n",
    "tab_castest = [0 for i in range(nbcastest) ]\n",
    "# maj paramètres : n, x[n], y[n], x^t.y exact soit 4 valeurs dont 2 listes de float\n",
    "\n",
    "i_elem = 0 # indice dans l_data\n",
    "for numtest in range(nbcastest):\n",
    "    n = int(l_data[i_elem])\n",
    "    # les parametres sont rangés dans un vecteur de taille 4 (un objet/struct serait mieux)\n",
    "    tab_castest[numtest] = [0 for i in range(4)]\n",
    "    tab_castest[numtest][0] = n # n du cas test\n",
    "    tab_castest[numtest][3] = float(l_data[i_elem + 3]) # prod scal exact du cas test\n",
    "    tab_castest[numtest][1] = [float(val) for val in l_data[i_elem + 1].split(' ')] # x[n] du cas test\n",
    "    tab_castest[numtest][2] = [float(val) for val in l_data[i_elem + 2].split(' ')] # y[n] du cas test\n",
    "    i_elem = i_elem + 5 # +1 final pour ligne vide\n",
    "\n",
    "print(\"les cas tests: \", tab_castest)"
   ]
  },
  {
   "cell_type": "code",
   "execution_count": 33,
   "metadata": {},
   "outputs": [],
   "source": [
    "# la vérification de `prod_scal()`\n",
    "for nb in range(len(tab_castest)):\n",
    "    castest = tab_castest[nb]\n",
    "    assert prod_scal(castest[1], castest[2], castest[0]) == castest[3]"
   ]
  },
  {
   "cell_type": "markdown",
   "metadata": {},
   "source": [
    "Et voilà le travail ! \n",
    "Il est maintenant facile d'étendre les cas tests de `prod_scal()` en complétant le fichier `./tmp/test_prod_scal3.txt` selon le format adopté`"
   ]
  },
  {
   "cell_type": "markdown",
   "metadata": {
    "slideshow": {
     "slide_type": "subslide"
    }
   },
   "source": [
    "### Origine classique des problèmes d'ES \n",
    "\n",
    "La gestion des caractères spéciaux, `\\n` entre autres.\n",
    "\n",
    "- `f.read()` peut lire et retourner le caractère `\\n` ou  la chaîne vide `''`, ce qui est différent :\n",
    "    - `\\n` = une ligne vide ... de caractères \"classiques\" : elle est réduite au caractère spécial qui désigne _EOL_\n",
    "    - `''` = pas de ligne : on a atteint la fin du fichier _EOF_  \n",
    "- `f.readlines()` (comme `f.readline()`) lit une ligne complète, caractère spécial (`\\n`) compris.\n",
    "    - il retourne donc _aussi_ ce `\\n` de _EOL_ \n",
    "    - sauf dans le cas de la dernière ligne si celle-ci n'en comporte pas ! \n",
    "\n",
    "En pratique, on retiendra :\n",
    "- que la dernière ligne d'un fichier peut être source de problème,\n",
    "- entre autres car les éditeurs de texte (et les systèmes d'exploitation) peuvent ajouter certains caractères non entrés par l'utilisateur lors de l'enregistrement et de la fermeture du fichier."
   ]
  },
  {
   "cell_type": "markdown",
   "metadata": {
    "slideshow": {
     "slide_type": "subslide"
    }
   },
   "source": [
    "(sec:print)=\n",
    "### Bien contrôler ses `print()`\n",
    "\n",
    "Deux exemples pour :\n",
    "1. rappeler comment utiliser `sep` et `end` \n",
    "2. expliciter l'effet du caractère spécial `\\n` (nouvelle ligne) dans l'affichage d'une chaîne de caractères avec `print()`."
   ]
  },
  {
   "cell_type": "code",
   "execution_count": 34,
   "metadata": {
    "slideshow": {
     "slide_type": "fragment"
    }
   },
   "outputs": [
    {
     "name": "stdout",
     "output_type": "stream",
     "text": [
      "azertyuiop*azertyuiop*azertyuiop--@@\n",
      "azertyuiop\n",
      "*azertyuiop\n",
      "*azertyuiop\n",
      "--"
     ]
    }
   ],
   "source": [
    "#rappel : sep, end\n",
    "s = \"azertyuiop\"\n",
    "print(s, s, s, sep=\"*\", end=\"--\")\n",
    "print(\"@@\") # par defaut : end='\\n'\n",
    "\n",
    "s = \"azertyuiop\\n\"\n",
    "print(s, s, s, sep=\"*\", end=\"--\")\n"
   ]
  },
  {
   "cell_type": "code",
   "execution_count": 35,
   "metadata": {
    "slideshow": {
     "slide_type": "fragment"
    }
   },
   "outputs": [
    {
     "name": "stdout",
     "output_type": "stream",
     "text": [
      "azer\n",
      "tyuiop\n",
      "azer\n",
      "tyuiop\n",
      "azer\n",
      "tyuiop--"
     ]
    }
   ],
   "source": [
    "# s est _une_ chaine de caractères\n",
    "s = \"azer\\ntyuiop\"\n",
    "print(s)\n",
    "print(s, sep=\"*\")\n",
    "print(s, end=\"--\")"
   ]
  },
  {
   "cell_type": "markdown",
   "metadata": {
    "slideshow": {
     "slide_type": "subslide"
    }
   },
   "source": [
    "Nous reviendrons sur les caractères spéciaux dans le chapitre sur les chaînes de caratères. "
   ]
  },
  {
   "cell_type": "markdown",
   "metadata": {
    "slideshow": {
     "slide_type": "subslide"
    }
   },
   "source": [
    "**Quiz**  \n",
    "\n",
    "Quelle est la dernière ligne du fichier `./tmp/fichier_entrees.txt` ?\n",
    "1. 188\n",
    "2. 188\\n\n",
    "3. \\n\n",
    "4. '' (ligne vide) "
   ]
  },
  {
   "cell_type": "code",
   "execution_count": 36,
   "metadata": {},
   "outputs": [
    {
     "name": "stdout",
     "output_type": "stream",
     "text": [
      "6\n",
      "99\n",
      "21\n",
      "33\n",
      "44\n",
      "33\n",
      "188\n"
     ]
    }
   ],
   "source": [
    "!cat ./tmp/fichier_entrees.txt"
   ]
  },
  {
   "cell_type": "markdown",
   "metadata": {
    "slideshow": {
     "slide_type": "subslide"
    }
   },
   "source": [
    ":::{dropdown}\n",
    "Réponse. `.readlines()` est votre ami. \n",
    "\n",
    "```python\n",
    "with open(\"./tmp/fichier_entrees.txt\", 'r') as f:\n",
    "    l_st = f.readlines()\n",
    "    \n",
    "print(l_st)\n",
    "```\n",
    "```shell\n",
    "['6\\n', '99\\n', '21\\n', '33\\n', '44\\n', '33\\n', '188\\n']\n",
    "```\n",
    ":::"
   ]
  },
  {
   "cell_type": "code",
   "execution_count": null,
   "metadata": {},
   "outputs": [],
   "source": []
  },
  {
   "cell_type": "markdown",
   "metadata": {
    "slideshow": {
     "slide_type": "slide"
    }
   },
   "source": [
    "## Synthèse "
   ]
  },
  {
   "cell_type": "markdown",
   "metadata": {
    "slideshow": {
     "slide_type": "subslide"
    }
   },
   "source": [
    "### Avoir les idées claires\n",
    "\n",
    "- Distinguer fichier logique _vs._ physique, texte _vs._ binaire, mode lecture _vs._ écriture (_vs._ lecture-écriture) \n",
    "- Connaître les 4 étapes de manipulation d'un fichier : association/ouverture/lecture-écriture/fermeture\n",
    "- Distinguer représentation textuelle et valeur (numérique)   \n",
    "\n",
    "\n",
    "### Savoir-faire\n",
    "\n",
    "- Savoir écrire les lectures-écritures simples de fichier texte avec `.readline()` et `.write()`\n",
    "- Comprendre et gérer l'effet des caractères spéciaux \n",
    "- ($\\star $) Savoir écrire les lectures-écritures de fichiers texte avec les instructions python adaptées   \n"
   ]
  },
  {
   "cell_type": "markdown",
   "metadata": {
    "slideshow": {
     "slide_type": "subslide"
    }
   },
   "source": [
    "### Un dernier conseil\n",
    "\n",
    "- Le risque d'erreur lors de la mise au point du traitement d'ES sur fichier est important.  \n",
    "- Il n'est pas rare de perdre tout ou partie d'un fichier à lire.\n",
    "- On ne peut donc que conseiller :\n",
    "1. de **commencer par** effectuer une copie de sauvegarde des fichiers originaux avant tout développement de code d'ES\n",
    "2. de vérifier pas à pas la mise au point de ces traitement avec des `print()` bien choisis -- qui seront bien sûr commentés une fois le traitement validé."
   ]
  },
  {
   "cell_type": "markdown",
   "metadata": {
    "slideshow": {
     "slide_type": "slide"
    }
   },
   "source": [
    "### Ce qu'il restera à voir\n",
    "\n",
    "Ce chapitre s'est limité à la manipulation de fichiers texte.\n",
    "Lorsque les données à sauvegarder sont volumineuses et souvent accédées, il est classique d'avoir recours à des **fichiers binaires**. En python, ces fichiers sont définis en ajoutant la caractéristique `b`  au mode `r`, `w`, ou `a` lors de l'association/ouverture du fichier. Ensuite, les traitements décrits dans ce chapitre s'appliquent globalement. \n",
    "\n",
    "Le chapitre [ES avancées](ch:ES-avancees) complète celui-ci en présentant comment _formater_ les données lues ou écrites dans les fichiers.\n",
    "\n",
    "On peut se déplacer dans un fichier pour accéder à un enregistrement quelconque (une ligne ou une fraction de ligne). Ce type de traitement nécessite de caractériser comment la position de ces enregistrements  est définie -- par le langage de programmation et en général en nombre d'octets depuis le début du fichier. Le lecteur intéressé se reportera à la documentation (de python) pour ces manipulations un peu techniques. \n",
    "\n",
    "Les traitements précédents permettent de créer et d'exploiter des fichiers, et ce indépendamment de leur stockage dans le _système de fichiers_ de l'environnement utilisé (Linux, w\\*\\*\\* ou m\\*\\*\\*).\n",
    "Il est utile de compléter ces traitements par de la _manipulation_ de fichiers de façon similaire à celle vue en cours de Système au semestre 1. Pour cela, python propose les modules suivants :  \n",
    "- `os` qui permet de se déplacer dans l'arborescence du système de fichiers  \n",
    "- `os.path`, sous-module du précédent, qui permet de lister des fichiers, des répertoires et certaines de leurs caractéristiques  \n",
    "- `shutil` qui permet de copier, déplacer et supprimer des fichiers ou des parties d'arborescence.  \n"
   ]
  },
  {
   "cell_type": "code",
   "execution_count": null,
   "metadata": {},
   "outputs": [],
   "source": []
  }
 ],
 "metadata": {
  "celltoolbar": "Diaporama",
  "kernelspec": {
   "display_name": "Python 3 (ipykernel)",
   "language": "python",
   "name": "python3"
  },
  "language_info": {
   "codemirror_mode": {
    "name": "ipython",
    "version": 3
   },
   "file_extension": ".py",
   "mimetype": "text/x-python",
   "name": "python",
   "nbconvert_exporter": "python",
   "pygments_lexer": "ipython3",
   "version": "3.9.6"
  },
  "latex_envs": {
   "LaTeX_envs_menu_present": true,
   "autoclose": false,
   "autocomplete": true,
   "bibliofile": "biblio.bib",
   "cite_by": "apalike",
   "current_citInitial": 1,
   "eqLabelWithNumbers": true,
   "eqNumInitial": 1,
   "hotkeys": {
    "equation": "Ctrl-E",
    "itemize": "Ctrl-I"
   },
   "labels_anchors": false,
   "latex_user_defs": false,
   "report_style_numbering": true,
   "user_envs_cfg": false
  },
  "toc": {
   "nav_menu": {},
   "number_sections": true,
   "sideBar": true,
   "skip_h1_title": false,
   "title_cell": "Table of Contents",
   "title_sidebar": "Contents",
   "toc_cell": true,
   "toc_position": {},
   "toc_section_display": true,
   "toc_window_display": false
  },
  "toc-autonumbering": true,
  "toc-showmarkdowntxt": false,
  "toc-showtags": true
 },
 "nbformat": 4,
 "nbformat_minor": 4
}
