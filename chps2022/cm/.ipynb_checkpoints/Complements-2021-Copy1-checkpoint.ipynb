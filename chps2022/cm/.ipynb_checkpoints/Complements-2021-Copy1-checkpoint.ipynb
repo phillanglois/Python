{
 "cells": [
  {
   "cell_type": "markdown",
   "metadata": {},
   "source": [
    "version 2021, PhL."
   ]
  },
  {
   "cell_type": "code",
   "execution_count": null,
   "metadata": {},
   "outputs": [],
   "source": [
    "# -*- coding : utf8 -*-\n",
    "from typing import List"
   ]
  },
  {
   "cell_type": "markdown",
   "metadata": {
    "toc": true
   },
   "source": [
    "<h1>Table des matières<span class=\"tocSkip\"></span></h1>\n",
    "<div class=\"toc\"><ul class=\"toc-item\"><li><span><a href=\"#Des-QCM-et-autres-sites-à-exploiter\" data-toc-modified-id=\"Des-QCM-et-autres-sites-à-exploiter-1\"><span class=\"toc-item-num\">1&nbsp;&nbsp;</span>Des QCM et autres sites à exploiter</a></span></li><li><span><a href=\"#Examen-CT2-2020\" data-toc-modified-id=\"Examen-CT2-2020-2\"><span class=\"toc-item-num\">2&nbsp;&nbsp;</span>Examen CT2 2020</a></span><ul class=\"toc-item\"><li><span><a href=\"#Exercice-7\" data-toc-modified-id=\"Exercice-7-2.1\"><span class=\"toc-item-num\">2.1&nbsp;&nbsp;</span>Exercice 7</a></span><ul class=\"toc-item\"><li><span><a href=\"#Écrire-une-programme-qui\" data-toc-modified-id=\"Écrire-une-programme-qui-2.1.1\"><span class=\"toc-item-num\">2.1.1&nbsp;&nbsp;</span>Écrire une programme qui</a></span></li></ul></li></ul></li><li><span><a href=\"#Fonctions\" data-toc-modified-id=\"Fonctions-3\"><span class=\"toc-item-num\">3&nbsp;&nbsp;</span>Fonctions</a></span><ul class=\"toc-item\"><li><span><a href=\"#Ce-qu'il-faut-savoir\" data-toc-modified-id=\"Ce-qu'il-faut-savoir-3.1\"><span class=\"toc-item-num\">3.1&nbsp;&nbsp;</span>Ce qu'il faut savoir</a></span></li><li><span><a href=\"#Ce-qu'il-faut-savoir-faire\" data-toc-modified-id=\"Ce-qu'il-faut-savoir-faire-3.2\"><span class=\"toc-item-num\">3.2&nbsp;&nbsp;</span>Ce qu'il faut savoir faire</a></span></li><li><span><a href=\"#Pré-requis-technique\" data-toc-modified-id=\"Pré-requis-technique-3.3\"><span class=\"toc-item-num\">3.3&nbsp;&nbsp;</span>Pré-requis technique</a></span></li><li><span><a href=\"#QCM-fonctions\" data-toc-modified-id=\"QCM-fonctions-3.4\"><span class=\"toc-item-num\">3.4&nbsp;&nbsp;</span>QCM fonctions</a></span></li><li><span><a href=\"#Compléments-de-séance\" data-toc-modified-id=\"Compléments-de-séance-3.5\"><span class=\"toc-item-num\">3.5&nbsp;&nbsp;</span>Compléments de séance</a></span></li></ul></li><li><span><a href=\"#Boucles-avancées\" data-toc-modified-id=\"Boucles-avancées-4\"><span class=\"toc-item-num\">4&nbsp;&nbsp;</span>Boucles avancées</a></span><ul class=\"toc-item\"><li><span><a href=\"#Ce-qu'il-faut-savoir\" data-toc-modified-id=\"Ce-qu'il-faut-savoir-4.1\"><span class=\"toc-item-num\">4.1&nbsp;&nbsp;</span>Ce qu'il faut savoir</a></span></li><li><span><a href=\"#Ce-qu'il-faut-savoir-faire\" data-toc-modified-id=\"Ce-qu'il-faut-savoir-faire-4.2\"><span class=\"toc-item-num\">4.2&nbsp;&nbsp;</span>Ce qu'il faut savoir faire</a></span></li><li><span><a href=\"#Compléments-en-séance\" data-toc-modified-id=\"Compléments-en-séance-4.3\"><span class=\"toc-item-num\">4.3&nbsp;&nbsp;</span>Compléments en séance</a></span></li></ul></li><li><span><a href=\"#Complexité\" data-toc-modified-id=\"Complexité-5\"><span class=\"toc-item-num\">5&nbsp;&nbsp;</span>Complexité</a></span><ul class=\"toc-item\"><li><span><a href=\"#Avoir-les-idées-claires\" data-toc-modified-id=\"Avoir-les-idées-claires-5.1\"><span class=\"toc-item-num\">5.1&nbsp;&nbsp;</span>Avoir les idées claires</a></span></li><li><span><a href=\"#Savoir-faire\" data-toc-modified-id=\"Savoir-faire-5.2\"><span class=\"toc-item-num\">5.2&nbsp;&nbsp;</span>Savoir-faire</a></span></li></ul></li><li><span><a href=\"#(P)-Entrées-Sorties-:-fichiers\" data-toc-modified-id=\"(P)-Entrées-Sorties-:-fichiers-6\"><span class=\"toc-item-num\">6&nbsp;&nbsp;</span>(P) Entrées-Sorties : fichiers</a></span><ul class=\"toc-item\"><li><span><a href=\"#Compléments\" data-toc-modified-id=\"Compléments-6.1\"><span class=\"toc-item-num\">6.1&nbsp;&nbsp;</span>Compléments</a></span><ul class=\"toc-item\"><li><span><a href=\"#Fonction-avec-paramètre-fichier\" data-toc-modified-id=\"Fonction-avec-paramètre-fichier-6.1.1\"><span class=\"toc-item-num\">6.1.1&nbsp;&nbsp;</span>Fonction avec paramètre fichier</a></span><ul class=\"toc-item\"><li><span><a href=\"#Cas-du-fichier-physique\" data-toc-modified-id=\"Cas-du-fichier-physique-6.1.1.1\"><span class=\"toc-item-num\">6.1.1.1&nbsp;&nbsp;</span>Cas du fichier physique</a></span></li><li><span><a href=\"#Cas-du-fichier-logique\" data-toc-modified-id=\"Cas-du-fichier-logique-6.1.1.2\"><span class=\"toc-item-num\">6.1.1.2&nbsp;&nbsp;</span>Cas du fichier logique</a></span></li></ul></li></ul></li><li><span><a href=\"#Avoir-les-idées-claires\" data-toc-modified-id=\"Avoir-les-idées-claires-6.2\"><span class=\"toc-item-num\">6.2&nbsp;&nbsp;</span>Avoir les idées claires</a></span></li><li><span><a href=\"#Savoir-faire\" data-toc-modified-id=\"Savoir-faire-6.3\"><span class=\"toc-item-num\">6.3&nbsp;&nbsp;</span>Savoir-faire</a></span></li></ul></li><li><span><a href=\"#Types-composés-(P),-structures-de-données\" data-toc-modified-id=\"Types-composés-(P),-structures-de-données-7\"><span class=\"toc-item-num\">7&nbsp;&nbsp;</span>Types composés (P), structures de données</a></span><ul class=\"toc-item\"><li><span><a href=\"#Tableau\" data-toc-modified-id=\"Tableau-7.1\"><span class=\"toc-item-num\">7.1&nbsp;&nbsp;</span>Tableau</a></span></li><li><span><a href=\"#Liste\" data-toc-modified-id=\"Liste-7.2\"><span class=\"toc-item-num\">7.2&nbsp;&nbsp;</span>Liste</a></span></li><li><span><a href=\"#Dictionnaire\" data-toc-modified-id=\"Dictionnaire-7.3\"><span class=\"toc-item-num\">7.3&nbsp;&nbsp;</span>Dictionnaire</a></span></li><li><span><a href=\"#Spécification-de-fonctions-et-types-composés\" data-toc-modified-id=\"Spécification-de-fonctions-et-types-composés-7.4\"><span class=\"toc-item-num\">7.4&nbsp;&nbsp;</span>Spécification de fonctions et types composés</a></span></li><li><span><a href=\"#Avoir-les-idées-claires\" data-toc-modified-id=\"Avoir-les-idées-claires-7.5\"><span class=\"toc-item-num\">7.5&nbsp;&nbsp;</span>Avoir les idées claires</a></span></li><li><span><a href=\"#Savoir-faire\" data-toc-modified-id=\"Savoir-faire-7.6\"><span class=\"toc-item-num\">7.6&nbsp;&nbsp;</span>Savoir-faire</a></span></li></ul></li><li><span><a href=\"#(P)-Entrées-Sorties-:-aspects-avancés\" data-toc-modified-id=\"(P)-Entrées-Sorties-:-aspects-avancés-8\"><span class=\"toc-item-num\">8&nbsp;&nbsp;</span>(P) Entrées-Sorties : aspects avancés</a></span><ul class=\"toc-item\"><li><span><a href=\"#Avoir-les-idées-claires\" data-toc-modified-id=\"Avoir-les-idées-claires-8.1\"><span class=\"toc-item-num\">8.1&nbsp;&nbsp;</span>Avoir les idées claires</a></span></li><li><span><a href=\"#Savoir-faire\" data-toc-modified-id=\"Savoir-faire-8.2\"><span class=\"toc-item-num\">8.2&nbsp;&nbsp;</span>Savoir-faire</a></span></li></ul></li></ul></div>"
   ]
  },
  {
   "cell_type": "markdown",
   "metadata": {
    "slideshow": {
     "slide_type": "skip"
    }
   },
   "source": [
    "# Des QCM et autres sites à exploiter\n",
    "\n",
    "Le net est riche de ressources à exploiter. \n",
    "En voici quelques-unes sélectionnées et à exploiter en plus de ceux proposés à chaque fin de chapitre.\n",
    "\n",
    "- [Site](https://www.bernon.fr/index.php?page=exercice-banque-e3c-thème-a) de M. Bernon : QCMs interactifs issus de la banque de données des E3C  \n",
    "\n",
    "- [Site](http://fabrice.sincere.free.fr/qcm/qcm.php?nom=qcm_python_function) de Fabrice Sincere (lien sur le qcm sur les fonctions) \n",
    "\n",
    "- Objectif 20 : [France IOI]\n",
    "(http://www.france-ioi.org/algo/chapter.php?idChapter=509)"
   ]
  },
  {
   "cell_type": "markdown",
   "metadata": {},
   "source": [
    "# Examen CT2 2020\n",
    "\n",
    "## Exercice 7\n",
    "\n",
    "Soit T un tableau de n valeurs réelles. On souhaite normaliser les valeurs de T , c’est-à-dire, remplacer T [i] par (T [i] − min)/(max − min), où min et max sont la plus petite et plus grande valeur de T , respectivement.\n",
    "􏰀\n",
    "\n",
    "### Écrire une programme qui\n",
    "— lit la taille n et la valeur des éléments de T ,  \n",
    "— affiche le contenu de T,  \n",
    "— normalise les valeurs de T,  \n",
    "— et affiche à nouveau le contenu de T ."
   ]
  },
  {
   "cell_type": "code",
   "execution_count": null,
   "metadata": {},
   "outputs": [],
   "source": [
    "# entrées\n",
    "n = int(input(\"n:\"))\n",
    "T = [0 for i in range(n)]\n",
    "for i in range(n):\n",
    "    T[i] = float(input(\"T()\"))\n",
    "    \n",
    "#afficher T\n",
    "print(T)\n",
    "\n",
    "# normaliser T\n",
    "min = T[0]\n",
    "max = T[0]\n",
    "for i in range(1, len(T)):\n",
    "    if T[i] < min:\n",
    "        min = T[i]      \n",
    "    if T[i] > max:\n",
    "        max = T[i]\n",
    "\n",
    "for i in range(len(T)):      \n",
    "    T[i] = (T[i] - min) / (max - min)    \n",
    "        \n",
    "        \n",
    "print(min)\n",
    "print(max) \n",
    "\n",
    "\n",
    "#afficher T\n",
    "print(T)\n",
    "\n"
   ]
  },
  {
   "cell_type": "markdown",
   "metadata": {
    "slideshow": {
     "slide_type": "skip"
    }
   },
   "source": [
    "# Fonctions"
   ]
  },
  {
   "cell_type": "markdown",
   "metadata": {},
   "source": [
    "## Ce qu'il faut savoir\n",
    "\n",
    "- définition et paramètres formels vs. appel et paramètres effectifs\n",
    "- spécification, en-tête, signature : spécifier pour utiliser, pour vérifier  vs. corps : implémentation du traitement  \n",
    "- appel = changement de contexte : trace de l'exécution vs. séquentialité des instructions écrites \n",
    "    - dynamique vs. statique  \n",
    "- appelant vs. appelé : le rôle de l'appel, le rôle du return\n",
    "- portée des variables : variables locales vs. variables plus globales  \n",
    "- l'effet de bord est indésirable  \n",
    "\n",
    "\n",
    "## Ce qu'il faut savoir faire \n",
    "\n",
    "**Cadre** : en/pour python \n",
    "\n",
    "- définir et écrire la spécification d'une fonction qui réalise un traitement décrit en français, ou qui résoud un problème (simple) décrit en français  \n",
    "- définir et écrire des appels simples (tests unitaires) \n",
    "- définir et écrire l'implémentation d'une fonction associée à une spécification \n",
    "\n",
    "## Pré-requis technique\n",
    "\n",
    "Dans/avec un notebook jupyter :\n",
    "- savoir mettre en oeuvre de la programmation simple en python (niveau semestre 1) dans un notebook jupyter \n",
    "- savoir documenter cette programmation (énoncés, descriptions, ...) avec markdown\n",
    "\n",
    "\n",
    "## QCM fonctions\n",
    "\n",
    "- [Site](http://fabrice.sincere.free.fr/qcm/qcm.php?nom=qcm_python_function) de Fabrice Sincere \n",
    "\n",
    "- Objectif 20 : [France IOI](http://www.france-ioi.org/algo/chapter.php?idChapter=509)"
   ]
  },
  {
   "cell_type": "markdown",
   "metadata": {},
   "source": [
    "## Compléments de séance "
   ]
  },
  {
   "cell_type": "code",
   "execution_count": null,
   "metadata": {
    "jupyter": {
     "source_hidden": true
    },
    "slideshow": {
     "slide_type": "skip"
    }
   },
   "outputs": [],
   "source": [
    "def puissance(x : float, n : int) -> float:\n",
    "    '''calcule x**n pour :\n",
    "    x, n : int (entrées) \n",
    "    retourne res : int\n",
    "    - traite les cas particulier : x==0, n==0, n<0 '''\n",
    "    if x == 0:\n",
    "        return 0\n",
    "    if n == 0:\n",
    "        return 1\n",
    "    elif n > 0:\n",
    "        res = 1\n",
    "        for i in range(n):\n",
    "            res = res * x\n",
    "        return res\n",
    "    else: # n < 0 \n",
    "        return None\n",
    "\n",
    "#des appels \n",
    "r1 = puissance(0, 1)\n",
    "print(\"r1=\", r1)\n",
    "\n",
    "un = 1\n",
    "encore_un = puissance(un, 3)\n",
    "print(\"encore_un=\", encore_un)\n",
    "\n",
    "for i in range(10):\n",
    "    r = puissance(2, i)\n",
    "    print(\"2 **\", i, \"=\", r)\n",
    "\n",
    "bof = puissance(3, -1)\n",
    "print(bof)"
   ]
  },
  {
   "cell_type": "code",
   "execution_count": null,
   "metadata": {},
   "outputs": [],
   "source": [
    "def perm(a : int, b : int) -> None:\n",
    "    '''procedure de permutation\n",
    "    avec variable supplémentaire'''\n",
    "    t = a\n",
    "    a = b\n",
    "    b = t\n",
    "    return None\n",
    "\n",
    "def perm2(a : int, b : int) -> None:\n",
    "    '''procedure de permutation\n",
    "    solution avec des entiers et sans variable intermédiaire'''\n",
    "    a = a + b\n",
    "    b = a - b\n",
    "    a = a - b\n",
    "    return None\n",
    "\n",
    "x = 5\n",
    "y = 10\n",
    "print(x, y)\n",
    "perm(x, y)\n",
    "print(x, y)\n",
    "perm2(x, y)\n",
    "print(x, y)"
   ]
  },
  {
   "cell_type": "code",
   "execution_count": null,
   "metadata": {},
   "outputs": [],
   "source": [
    "def f(n : int) -> int:\n",
    "    '''je vais vite'''\n",
    "    return n + 2"
   ]
  },
  {
   "cell_type": "code",
   "execution_count": null,
   "metadata": {},
   "outputs": [],
   "source": [
    "help(f)"
   ]
  },
  {
   "cell_type": "code",
   "execution_count": null,
   "metadata": {},
   "outputs": [],
   "source": [
    "z = f(3)\n",
    "print(z)"
   ]
  },
  {
   "cell_type": "code",
   "execution_count": null,
   "metadata": {},
   "outputs": [],
   "source": [
    "f(3)"
   ]
  },
  {
   "cell_type": "markdown",
   "metadata": {
    "slideshow": {
     "slide_type": "skip"
    }
   },
   "source": [
    "# Boucles avancées"
   ]
  },
  {
   "cell_type": "markdown",
   "metadata": {},
   "source": [
    "## Ce qu'il faut savoir\n",
    "\n",
    "- Structure de données : représentation d'un tableau multidimensionnel comme une liste de listes  \n",
    "- Structure de contrôle de type boucles imbriquées indépendantes et dépendantes : \n",
    "    - intérêt et exemples simples, \n",
    "    - dénombrer les itérations de ces constructions."
   ]
  },
  {
   "cell_type": "markdown",
   "metadata": {},
   "source": [
    "## Ce qu'il faut savoir faire \n",
    "\n",
    "**Cadre** : en/pour python \n",
    "\n",
    "- Définir et écrire un traitement classique de tableau multidimensionnel  : parcours simple, parcours conditionnel \n",
    "- Ecrire une initialisation de tableau multidimensionnel en python (représenté par des listes)\n",
    "- Définir et écrire une spécification de fonction avec des paramètres de type tableau  \n",
    "- Identifier les cas particuliers liés à la structure de tableau : tableau de dimension 0, tableau vide"
   ]
  },
  {
   "cell_type": "markdown",
   "metadata": {},
   "source": [
    "## Compléments en séance"
   ]
  },
  {
   "cell_type": "code",
   "execution_count": null,
   "metadata": {},
   "outputs": [],
   "source": [
    "def exemple(t : int):\n",
    "    '''exemple de docstring'''\n",
    "    return None\n",
    "\n",
    "exemple(3)\n",
    "\n",
    "help(exemple)"
   ]
  },
  {
   "cell_type": "code",
   "execution_count": null,
   "metadata": {},
   "outputs": [],
   "source": [
    "l = [0 for _ in range(3)]\n",
    "print(l)"
   ]
  },
  {
   "cell_type": "code",
   "execution_count": null,
   "metadata": {},
   "outputs": [],
   "source": [
    "c = ''\n",
    "type(c)"
   ]
  },
  {
   "cell_type": "code",
   "execution_count": null,
   "metadata": {},
   "outputs": [],
   "source": [
    "for i in range(0):\n",
    "    print(\"XX\")\n",
    "    "
   ]
  },
  {
   "cell_type": "code",
   "execution_count": null,
   "metadata": {},
   "outputs": [],
   "source": [
    "for i in range(-1):\n",
    "    print(\"XX\")    "
   ]
  },
  {
   "cell_type": "markdown",
   "metadata": {},
   "source": [
    "# Complexité"
   ]
  },
  {
   "cell_type": "markdown",
   "metadata": {},
   "source": [
    "## Avoir les idées claires\n",
    "\n",
    "- Principes de l'analyse de la complexité en temps : modèle de calcul RAM, paramètres de complexité, meilleur et pire cas\n",
    "- Complexité asymptotique : notations de Landau, principales classes de complexité des algorithmes, interprétation pratique de ces classes\n",
    "- Complexité, pire-meilleurs cas des algorithmes vus ce semestre\n",
    "- Savoir établir la complexité d'algorithmes itératifs simples ou récursifs terminaux.\n"
   ]
  },
  {
   "cell_type": "markdown",
   "metadata": {},
   "source": [
    "## Savoir-faire\n",
    "\n",
    "- Exemples d'algorithme des principales classes de complexité \n",
    "- Savoir identifier (sans nécessairement le prouver) la complexité, les meilleur-pire cas d'un algorithme  "
   ]
  },
  {
   "cell_type": "markdown",
   "metadata": {},
   "source": [
    "# (P) Entrées-Sorties : fichiers"
   ]
  },
  {
   "cell_type": "markdown",
   "metadata": {},
   "source": [
    "## Compléments\n",
    "\n",
    "### Fonction avec paramètre fichier\n",
    "\n",
    "Comment spécifier fonctions qui manipulent des fichiers de texte arbitraire via un (ou des) paramètre d'entrée ?\n",
    "\n",
    "Plusieurs solutions:\n",
    "1. se limiter au passage de paramètre du fichier physique. dans ce cas, le type du paramètre est `str`. \n",
    "2. TODO : utiliser le type des fichiers logiques défini par python\n",
    "    - on l'identifie grace à la fonction `type()`."
   ]
  },
  {
   "cell_type": "code",
   "execution_count": null,
   "metadata": {},
   "outputs": [],
   "source": [
    "! ls ./tmp"
   ]
  },
  {
   "cell_type": "markdown",
   "metadata": {},
   "source": [
    "#### Cas du fichier physique"
   ]
  },
  {
   "cell_type": "code",
   "execution_count": null,
   "metadata": {},
   "outputs": [],
   "source": [
    "def f_avec_fichier_physique(file : str) -> None:\n",
    "    with open(\"./tmp/exemple.txt\", \"r\", encoding = \"utf8\") as f:\n",
    "        for val in f:\n",
    "            print(val)\n",
    "        f.close()"
   ]
  },
  {
   "cell_type": "code",
   "execution_count": null,
   "metadata": {},
   "outputs": [],
   "source": [
    "f_avec_fichier_physique(\"./tmp/fichier_entrees.txt\")"
   ]
  },
  {
   "cell_type": "markdown",
   "metadata": {},
   "source": [
    "#### Cas du fichier logique"
   ]
  },
  {
   "cell_type": "code",
   "execution_count": null,
   "metadata": {},
   "outputs": [],
   "source": [
    "with open(\"./tmp/exemple.txt\", \"r\", encoding = \"utf8\") as f:\n",
    "    print(type(f))\n",
    "    f.close()"
   ]
  },
  {
   "cell_type": "code",
   "execution_count": null,
   "metadata": {},
   "outputs": [],
   "source": [
    "def f_avec_fichier_logique(file : _io.TextIOWrapper) -> None:\n",
    "    assert f.open == True \n",
    "    for val in f:\n",
    "        print(val)\n",
    "        "
   ]
  },
  {
   "cell_type": "code",
   "execution_count": null,
   "metadata": {},
   "outputs": [],
   "source": []
  },
  {
   "cell_type": "markdown",
   "metadata": {},
   "source": [
    "## Avoir les idées claires\n",
    "\n",
    "- Distinguer fichier logique _vs._ physique, texte _vs._ binaire, mode lecture _vs._ écriture (_vs._ lecture-écriture) \n",
    "- Connaître les étapes de manipulation d'un fichier : association/ouverture/lecture-écriture/fermeture\n",
    "- Distinguer valeur (numérique) et sa représentation textuelle \n",
    "\n",
    "## Savoir-faire\n",
    "\n",
    "- Savoir écrire les lectures-écritures simples de fichier texte avec les instructions python adaptées  \n",
    "- Comprendre et gérer l'effet des caractères spéciaux "
   ]
  },
  {
   "cell_type": "markdown",
   "metadata": {},
   "source": [
    "# Types composés (P), structures de données\n",
    "\n",
    "Bien comprendre l'intérêt de telle ou telle autre type composé python, ou la structure de données sous-jacente (algorithmique).\n",
    "\n",
    "## Tableau\n",
    "\n",
    "Tableau = valeurs de même type, en nombre connu, stockées de façon consécutives en mémoire\n",
    "\n",
    "**Conséquences**\n",
    "- taille _statique_ : risque de dépassement de la taille maximale    \n",
    "- temps d'accès en lecture = constant vs. taille du tableau, position de la valeur dans le tableau\n",
    "\n",
    "- temps d'accès en écriture (modification/ajout) de valeur = constant\n"
   ]
  },
  {
   "cell_type": "markdown",
   "metadata": {},
   "source": [
    "## Liste\n",
    "\n",
    "Liste = valeurs de type quelconque, en nombre quelconque\n",
    "\n",
    "**Conséquences.**\n",
    "- taille _dynamique_     \n",
    "- temps d'accès en lecture = ?\n",
    "- temps d'accès en écriture = ?\n"
   ]
  },
  {
   "cell_type": "code",
   "execution_count": 1,
   "metadata": {},
   "outputs": [],
   "source": [
    "i = 3\n",
    "j = 5\n",
    "tab = [17.0, 12.0]\n",
    "liste = [1, 2]\n",
    "k = 7\n",
    "j = k\n",
    "l = 9\n",
    "liste.append(5)"
   ]
  },
  {
   "cell_type": "markdown",
   "metadata": {},
   "source": [
    "**Une représentation :**\n",
    "> liste :  (valeur, -> suivante), (valeur, -> suivante), (valeur, -> suivante), (valeur, fin)\n",
    "\n",
    "- temps accès en lecture dépend de la position de la valeur cherchée, ie. longueur de la liste\n",
    "    - pire cas = dernière valeur, \n",
    "    - **linéaire** en la taille de la liste.\n",
    "- temps accès en écriture ou ajout/suppression de valeur : \n",
    "    - même raison : **linéaire** en la taille de la liste.  \n",
    "    \n",
    "**Rmq** . Temps accès d'ajout **constant** en stockant aussi la position du dernier élément de la liste.\n",
    "> liste : (dernière position) + (valeur, -> suivante), (valeur, -> suivante), (valeur, -> suivante), (valeur, fin)\n",
    "\n",
    "    "
   ]
  },
  {
   "cell_type": "markdown",
   "metadata": {},
   "source": [
    "## Dictionnaire\n",
    "\n",
    "Dictionnaire\n",
    "- valeurs de type quelconque, en nombre quelconque, \n",
    "- **clé** -> valeur\n",
    "\n",
    "La donnée de cette **clé** permet **une représentation** telle que :\n",
    "- temps d'accès en lecture = (presque) constant vs. taille du tableau, position de la valeur dans le tableau \n",
    "- temps d'accès en écriture ou ajout/suppression = (presque) constant\n",
    "\n",
    "Une telle représentation s'appuie sur une fonction (dite fonction de hashage) qui transforme une clé en une position unique (en mémoire). \n",
    "\n",
    "**Rmq.**\n",
    "- \"presque\" car : risque de collision et temps de calcul de la fonction de hashage (pour une clé donnée)"
   ]
  },
  {
   "cell_type": "markdown",
   "metadata": {},
   "source": [
    "## Spécification de fonctions et types composés"
   ]
  },
  {
   "cell_type": "code",
   "execution_count": null,
   "metadata": {},
   "outputs": [],
   "source": [
    "'''\n",
    "Ceci fonctionne en python 3.9 !!!\n",
    "\n",
    "# list[int] n'est pas reconnu\n",
    "# TypeError: 'type' object is not subscriptable\n",
    "def f(l : list[int], n: int) -> int:\n",
    "    l = [i for i in range(n)]\n",
    "    return len(l)\n",
    "    \n",
    "# idem pour dict[]    \n",
    "def f(d : dict[str, int], n: int) -> int:\n",
    "    d = [i for i in range(n)]\n",
    "    return len(l)\n",
    "    \n",
    "vector = list[float]\n",
    "def somme(v : vector) -> flaot:\n",
    "    s = 0\n",
    "    for val in v:\n",
    "        s = s + val\n",
    "        return s\n",
    "'''"
   ]
  },
  {
   "cell_type": "code",
   "execution_count": null,
   "metadata": {},
   "outputs": [],
   "source": [
    "from typing import List, Dict\n",
    "\n",
    "def f(l : List[int], n: int) -> int:\n",
    "    ll = l[:n]\n",
    "    return len(ll)\n",
    "\n",
    "def f(d : Dict[str, int], n: int) -> int:\n",
    "    d = [i for i in range(n)]\n",
    "return len(l)"
   ]
  },
  {
   "cell_type": "code",
   "execution_count": 10,
   "metadata": {},
   "outputs": [
    {
     "ename": "TypeError",
     "evalue": "'type' object is not subscriptable",
     "output_type": "error",
     "traceback": [
      "\u001b[0;31m---------------------------------------------------------------------------\u001b[0m",
      "\u001b[0;31mTypeError\u001b[0m                                 Traceback (most recent call last)",
      "\u001b[0;32m<ipython-input-10-79ff36f53a98>\u001b[0m in \u001b[0;36m<module>\u001b[0;34m\u001b[0m\n\u001b[1;32m     22\u001b[0m     \u001b[0;32mreturn\u001b[0m \u001b[0mlen\u001b[0m\u001b[0;34m(\u001b[0m\u001b[0ml\u001b[0m\u001b[0;34m)\u001b[0m\u001b[0;34m\u001b[0m\u001b[0;34m\u001b[0m\u001b[0m\n\u001b[1;32m     23\u001b[0m \u001b[0;34m\u001b[0m\u001b[0m\n\u001b[0;32m---> 24\u001b[0;31m \u001b[0mvector\u001b[0m \u001b[0;34m=\u001b[0m \u001b[0mlist\u001b[0m\u001b[0;34m[\u001b[0m\u001b[0mfloat\u001b[0m\u001b[0;34m]\u001b[0m\u001b[0;34m\u001b[0m\u001b[0;34m\u001b[0m\u001b[0m\n\u001b[0m\u001b[1;32m     25\u001b[0m \u001b[0;32mdef\u001b[0m \u001b[0msomme\u001b[0m\u001b[0;34m(\u001b[0m\u001b[0mv\u001b[0m \u001b[0;34m:\u001b[0m \u001b[0mvector\u001b[0m\u001b[0;34m)\u001b[0m \u001b[0;34m->\u001b[0m \u001b[0mflaot\u001b[0m\u001b[0;34m:\u001b[0m\u001b[0;34m\u001b[0m\u001b[0;34m\u001b[0m\u001b[0m\n\u001b[1;32m     26\u001b[0m     \u001b[0ms\u001b[0m \u001b[0;34m=\u001b[0m \u001b[0;36m0\u001b[0m\u001b[0;34m\u001b[0m\u001b[0;34m\u001b[0m\u001b[0m\n",
      "\u001b[0;31mTypeError\u001b[0m: 'type' object is not subscriptable"
     ]
    }
   ],
   "source": []
  },
  {
   "cell_type": "markdown",
   "metadata": {},
   "source": [
    "## Avoir les idées claires\n",
    "\n",
    "voir cours \n",
    "\n",
    "## Savoir-faire\n",
    "\n",
    "voir cours"
   ]
  },
  {
   "cell_type": "markdown",
   "metadata": {},
   "source": [
    "# (P) Entrées-Sorties : aspects avancés"
   ]
  },
  {
   "cell_type": "markdown",
   "metadata": {},
   "source": [
    "## Avoir les idées claires\n",
    "\n",
    "- Connaitre les principes du formatage des données pour pouvoir retrouver rapidement dans la documentation (de cours ou de référence) les commandes pour effectuer ce traitement.\n",
    "\n",
    "## Savoir-faire\n",
    "\n",
    "- Utiliser les formatages de base des types `int` et `float` de python\n",
    "- En s'appuyant sur les documents de cours ou de référence, définir et appliquer des formatages évolués et adaptés aux données manipulées avec python"
   ]
  },
  {
   "cell_type": "code",
   "execution_count": null,
   "metadata": {},
   "outputs": [],
   "source": []
  }
 ],
 "metadata": {
  "kernelspec": {
   "display_name": "Python 3",
   "language": "python",
   "name": "python3"
  },
  "language_info": {
   "codemirror_mode": {
    "name": "ipython",
    "version": 3
   },
   "file_extension": ".py",
   "mimetype": "text/x-python",
   "name": "python",
   "nbconvert_exporter": "python",
   "pygments_lexer": "ipython3",
   "version": "3.7.7"
  },
  "latex_envs": {
   "LaTeX_envs_menu_present": true,
   "autoclose": false,
   "autocomplete": true,
   "bibliofile": "biblio.bib",
   "cite_by": "apalike",
   "current_citInitial": 1,
   "eqLabelWithNumbers": true,
   "eqNumInitial": 1,
   "hotkeys": {
    "equation": "Ctrl-E",
    "itemize": "Ctrl-I"
   },
   "labels_anchors": false,
   "latex_user_defs": false,
   "report_style_numbering": true,
   "user_envs_cfg": false
  },
  "toc": {
   "nav_menu": {},
   "number_sections": true,
   "sideBar": false,
   "skip_h1_title": false,
   "title_cell": "Table des matières",
   "title_sidebar": "TdM",
   "toc_cell": true,
   "toc_position": {},
   "toc_section_display": true,
   "toc_window_display": false
  }
 },
 "nbformat": 4,
 "nbformat_minor": 4
}
