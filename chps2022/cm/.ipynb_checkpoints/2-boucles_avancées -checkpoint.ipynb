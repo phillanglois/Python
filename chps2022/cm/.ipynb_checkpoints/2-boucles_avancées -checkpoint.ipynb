{
 "cells": [
  {
   "cell_type": "markdown",
   "metadata": {
    "toc": true
   },
   "source": [
    "<h1>Table des matières<span class=\"tocSkip\"></span></h1>\n",
    "<div class=\"toc\"><ul class=\"toc-item\"><li><span><a href=\"#Tableaux,--fonctions-et-boucles-:-compléments\" data-toc-modified-id=\"Tableaux,--fonctions-et-boucles-:-compléments-1\"><span class=\"toc-item-num\">1&nbsp;&nbsp;</span>Tableaux,  fonctions et boucles : compléments</a></span><ul class=\"toc-item\"><li><span><a href=\"#Tableaux\" data-toc-modified-id=\"Tableaux-1.1\"><span class=\"toc-item-num\">1.1&nbsp;&nbsp;</span>Tableaux</a></span><ul class=\"toc-item\"><li><span><a href=\"#Vocabulaire\" data-toc-modified-id=\"Vocabulaire-1.1.1\"><span class=\"toc-item-num\">1.1.1&nbsp;&nbsp;</span>Vocabulaire</a></span></li><li><span><a href=\"#Tableaux-en-python\" data-toc-modified-id=\"Tableaux-en-python-1.1.2\"><span class=\"toc-item-num\">1.1.2&nbsp;&nbsp;</span>Tableaux en python</a></span></li><li><span><a href=\"#Tableaux-multidimentionnels-représentés-avec-des-listes\" data-toc-modified-id=\"Tableaux-multidimentionnels-représentés-avec-des-listes-1.1.3\"><span class=\"toc-item-num\">1.1.3&nbsp;&nbsp;</span>Tableaux multidimentionnels représentés avec des listes</a></span></li></ul></li><li><span><a href=\"#Spécifications-de-fonctions-avec-paramètre-List--en-python\" data-toc-modified-id=\"Spécifications-de-fonctions-avec-paramètre-List--en-python-1.2\"><span class=\"toc-item-num\">1.2&nbsp;&nbsp;</span>Spécifications de fonctions avec paramètre <code>List</code>  en python</a></span><ul class=\"toc-item\"><li><span><a href=\"#Comment-indiquer-le-type-d'un-paramètre-formel-d'une-fonction-lorsque-celui-ci-est-une-liste-?\" data-toc-modified-id=\"Comment-indiquer-le-type-d'un-paramètre-formel-d'une-fonction-lorsque-celui-ci-est-une-liste-?-1.2.1\"><span class=\"toc-item-num\">1.2.1&nbsp;&nbsp;</span>Comment indiquer le type d'un paramètre formel d'une fonction lorsque celui-ci est une liste ?</a></span></li><li><span><a href=\"#Comment-spécifier-une-fonction-avec-des-paramètres-formels-de-type-tableau-?\" data-toc-modified-id=\"Comment-spécifier-une-fonction-avec-des-paramètres-formels-de-type-tableau-?-1.2.2\"><span class=\"toc-item-num\">1.2.2&nbsp;&nbsp;</span>Comment spécifier une fonction avec des paramètres formels de type tableau ?</a></span></li></ul></li><li><span><a href=\"#Boucles-imbriquées\" data-toc-modified-id=\"Boucles-imbriquées-1.3\"><span class=\"toc-item-num\">1.3&nbsp;&nbsp;</span>Boucles imbriquées</a></span><ul class=\"toc-item\"><li><span><a href=\"#Le-contexte\" data-toc-modified-id=\"Le-contexte-1.3.1\"><span class=\"toc-item-num\">1.3.1&nbsp;&nbsp;</span>Le contexte</a></span></li><li><span><a href=\"#min1()\" data-toc-modified-id=\"min1()-1.3.2\"><span class=\"toc-item-num\">1.3.2&nbsp;&nbsp;</span><code>min1()</code></a></span></li><li><span><a href=\"#min2()\" data-toc-modified-id=\"min2()-1.3.3\"><span class=\"toc-item-num\">1.3.3&nbsp;&nbsp;</span><code>min2()</code></a></span></li></ul></li><li><span><a href=\"#Boucles-imbriquées-:-comptons--1,-2,-3,-...\" data-toc-modified-id=\"Boucles-imbriquées-:-comptons--1,-2,-3,-...-1.4\"><span class=\"toc-item-num\">1.4&nbsp;&nbsp;</span>Boucles imbriquées : comptons  1, 2, 3, ...</a></span><ul class=\"toc-item\"><li><span><a href=\"#Imbriquons-des-boucles-!\" data-toc-modified-id=\"Imbriquons-des-boucles-!-1.4.1\"><span class=\"toc-item-num\">1.4.1&nbsp;&nbsp;</span>Imbriquons des boucles !</a></span></li><li><span><a href=\"#Pas-de-symbole-*-pour-définir-une-liste-multi-dimentionnelle\" data-toc-modified-id=\"Pas-de-symbole-*-pour-définir-une-liste-multi-dimentionnelle-1.4.2\"><span class=\"toc-item-num\">1.4.2&nbsp;&nbsp;</span>Pas de symbole <code>*</code> pour définir une liste multi-dimentionnelle</a></span></li><li><span><a href=\"#Boucles-imbriquées-sur-des-tableaux-1D\" data-toc-modified-id=\"Boucles-imbriquées-sur-des-tableaux-1D-1.4.3\"><span class=\"toc-item-num\">1.4.3&nbsp;&nbsp;</span>Boucles imbriquées sur des tableaux 1D</a></span><ul class=\"toc-item\"><li><span><a href=\"#Solution-avec-deux-boucles-imbriquées-indépendantes\" data-toc-modified-id=\"Solution-avec-deux-boucles-imbriquées-indépendantes-1.4.3.1\"><span class=\"toc-item-num\">1.4.3.1&nbsp;&nbsp;</span>Solution avec deux boucles imbriquées indépendantes</a></span></li></ul></li><li><span><a href=\"#Boucles-imbriquées-dépendantes\" data-toc-modified-id=\"Boucles-imbriquées-dépendantes-1.4.4\"><span class=\"toc-item-num\">1.4.4&nbsp;&nbsp;</span>Boucles imbriquées dépendantes</a></span><ul class=\"toc-item\"><li><span><a href=\"#Solution-avec-deux-boucles-imbriquées-dépendantes\" data-toc-modified-id=\"Solution-avec-deux-boucles-imbriquées-dépendantes-1.4.4.1\"><span class=\"toc-item-num\">1.4.4.1&nbsp;&nbsp;</span>Solution avec deux boucles imbriquées dépendantes</a></span></li></ul></li><li><span><a href=\"#Autres-imbrications-de-boucles\" data-toc-modified-id=\"Autres-imbrications-de-boucles-1.4.5\"><span class=\"toc-item-num\">1.4.5&nbsp;&nbsp;</span>Autres imbrications de boucles</a></span></li></ul></li><li><span><a href=\"#Synthèse\" data-toc-modified-id=\"Synthèse-1.5\"><span class=\"toc-item-num\">1.5&nbsp;&nbsp;</span>Synthèse</a></span><ul class=\"toc-item\"><li><span><a href=\"#Que-retenir-?\" data-toc-modified-id=\"Que-retenir-?-1.5.1\"><span class=\"toc-item-num\">1.5.1&nbsp;&nbsp;</span>Que retenir ?</a></span></li><li><span><a href=\"#($\\star$)-Exercice-de-synthèse\" data-toc-modified-id=\"($\\star$)-Exercice-de-synthèse-1.5.2\"><span class=\"toc-item-num\">1.5.2&nbsp;&nbsp;</span>($\\star$) Exercice de synthèse</a></span></li></ul></li><li><span><a href=\"#($\\star$)-Quelle-spécification-pour-une-fonction-générique-?\" data-toc-modified-id=\"($\\star$)-Quelle-spécification-pour-une-fonction-générique-?-1.6\"><span class=\"toc-item-num\">1.6&nbsp;&nbsp;</span>($\\star$) Quelle spécification pour une fonction générique ?</a></span><ul class=\"toc-item\"><li><span><a href=\"#Généricité\" data-toc-modified-id=\"Généricité-1.6.1\"><span class=\"toc-item-num\">1.6.1&nbsp;&nbsp;</span>Généricité</a></span></li><li><span><a href=\"#Union-dans-le-module-typing\" data-toc-modified-id=\"Union-dans-le-module-typing-1.6.2\"><span class=\"toc-item-num\">1.6.2&nbsp;&nbsp;</span><code>Union</code> dans le module <code>typing</code></a></span></li><li><span><a href=\"#A-lire\" data-toc-modified-id=\"A-lire-1.6.3\"><span class=\"toc-item-num\">1.6.3&nbsp;&nbsp;</span>A lire</a></span></li></ul></li></ul></li></ul></div>"
   ]
  },
  {
   "cell_type": "markdown",
   "metadata": {},
   "source": [
    "# Tableaux,  fonctions et boucles : compléments"
   ]
  },
  {
   "cell_type": "markdown",
   "metadata": {},
   "source": [
    "Dans ce chapitre, nous revisitons trois notions déjà connues :\n",
    "- les structures de données de type tableau, \n",
    "- les fonctions, et\n",
    "- les structures de répétition (les boucles), \n",
    "\n",
    "en (re-)présentant les compléments algorithmiques et de programmation que sont :\n",
    "- les tableaux multi-dimentionnels, \n",
    "- la spécification des fonctions avec paramètre de type tableau, et\n",
    "- les boucles imbriquées, voire dépendantes."
   ]
  },
  {
   "cell_type": "markdown",
   "metadata": {},
   "source": [
    "Ce chapitre nous permet aussi d'expliciter les _annotations de type_   la notion importante de _vérification d'assertion_ entre autres utile pour tester expérimentalement _la correction_ de nos fonctions grâce à _des tests (dits) unitaires_."
   ]
  },
  {
   "cell_type": "markdown",
   "metadata": {},
   "source": [
    "## Tableaux"
   ]
  },
  {
   "cell_type": "markdown",
   "metadata": {},
   "source": [
    "### Vocabulaire"
   ]
  },
  {
   "cell_type": "markdown",
   "metadata": {},
   "source": [
    "<div class=\"alert alert-block alert-info\">\n",
    "<b>Vocabulaire.</b> distinguer la dimension d'un tableau <em>vs.</em> la taille d'un tableau\n",
    "</div>"
   ]
  },
  {
   "cell_type": "markdown",
   "metadata": {},
   "source": [
    "**Dimension.** \n",
    "\n",
    "* Un tableau peut être uni-dimentionnel (un vecteur), bi-dimentionnel (une matrice), tri-dimentionnel (une image 2D en couleurs (R,G,B)), ... \n",
    "* Sa dimension est donc le _nombre d'indices_ nécessaires pour localiser une de ses valeurs.\n",
    "\n",
    "**Taille.**\n",
    "* Chacune des dimensions d'un tableau est composée d'un certain nombre de _valeurs de l'indice de cette dimension_.\n",
    "* La taille de ce tableau est _l'ensemble ordonné_ de chacun de ces nombres pour chacune de ses dimensions.\n",
    "\n",
    "**Exemples et conventions.**\n",
    "\n",
    "- Le vecteur $(2, 4, 6)$ est de dimension 1 et de taille 3.\n",
    "- La matrice \n",
    "$$\\begin{pmatrix}\n",
    "    1 & 2 & 3 \\\\\n",
    "    1 & 4 & 9 \\\\\n",
    "\\end{pmatrix}$$\n",
    "est de dimension 2 et de taille (2, 3) : elle contient 6 valeurs organisées en 2 lignes et 3 colonnes. \n",
    "    - La première valeur de sa taille est son nombre de lignes.\n",
    "    - La seconde valeur de sa taille correspond à son nombre de colonnes.\n",
    "    - Ce choix ligne, puis colonne, (puis ...) est arbitraire mais usuel en maths, en algo, ...\n",
    "- Le vecteur colonne \n",
    "$$\\begin{pmatrix}\n",
    "    1 \\\\\n",
    "    0 \\\\\n",
    "    0 \\\\\n",
    "\\end{pmatrix}$$\n",
    "qui représente souvent le premier vecteur de la base orthonormée $(i, j, k)$ de $\\mathbb{R}^ 3$ est (donc) de taille (3, 1).  \n",
    "\n",
    "Remarquons que ces notions sont (présentées de façon) indépendantes de tout choix informatique excepté l'utilisation du terme _tableau_.         "
   ]
  },
  {
   "cell_type": "markdown",
   "metadata": {},
   "source": [
    "### Tableaux en python\n",
    "\n",
    "Il y a différentes façons de représenter et manipuler des tableaux _en python_. \n",
    "Les deux principales sont :\n",
    "\n",
    "- les listes (type natif `list`) comme au semestre 1,  \n",
    "- les `ndarray` fournis par la bibliothèque `numpy` et qui font l'objet d'un chapitre à venir.\n",
    "\n",
    "**Tableaux _vs._ listes**\n",
    "\n",
    "- En général, un tableau est une structure de dimension et de taille connue et _fixée_ de façon invariable une fois pour toute, et composé de _valeurs de même type_. Ces deux points techniques (taille fixée et unicité du type de ses valeurs) seront expliqués plus tard. \n",
    "\n",
    "- En algorithmique et en python, une liste  est une structure de données _dynamique_ (sa taille peut varier au fur et à mesure de son existence) de _valeurs de type quelconque_.\n",
    "\n",
    "Dans la continuité du semestre 1, nous continuons avec **des tableaux représentés avec des listes**.\n",
    "Cependant nous nous forcerons (un peu) à distinguer _cette représentation avec des liste(s)_ de la notion de \"liste quelconque\". "
   ]
  },
  {
   "cell_type": "markdown",
   "metadata": {},
   "source": [
    "### Tableaux multidimentionnels représentés avec des listes"
   ]
  },
  {
   "cell_type": "markdown",
   "metadata": {},
   "source": [
    "Un tableau 2D peut-être défini en python par une liste de listes.\n",
    "Dans ce cas, une matrice n'est pas exactement un bloc de valeurs, de forme rectangulaire ou carrée, mais **une liste de lignes**, chacune accessible comme une tableau 1D : chaque ligne est représentée par la liste des ses valeurs.\n",
    "\n",
    "Dans les 2 cas, il faut bien 2 indices `[ligne][colonne]` pour accéder à chaque valeur d'un tel tableau 2D.\n",
    "\n",
    "On rappelle que la convention de numérotation des indices des listes python commencent à 0, et se finit à `len(liste)-1`.  \n",
    "\n",
    "**Exemple.**"
   ]
  },
  {
   "cell_type": "code",
   "execution_count": 1,
   "metadata": {},
   "outputs": [
    {
     "name": "stdout",
     "output_type": "stream",
     "text": [
      "3\n"
     ]
    }
   ],
   "source": [
    "tab = [[1, 2, 3], [4, 5, 6]]\n",
    "print(tab[0][2])"
   ]
  },
  {
   "cell_type": "markdown",
   "metadata": {},
   "source": [
    "**Exercice.**\n",
    "- Quel indice utiliser pour accéder à la valeur `5` dans `tab` ?"
   ]
  },
  {
   "cell_type": "markdown",
   "metadata": {},
   "source": [
    "La représentation des trois tableaux 2D  :\n",
    "\n",
    "```python\n",
    "tab23 = [[1, 2, 3], [4, 5, 6]]\n",
    "tab32 = [[1, 0], [0, 1], [1, 1]]\n",
    "m_id3 = [ [1, 0, 0], [0, 1, 0], [0, 0, 1]]\n",
    "```\n",
    "est illustrée par pythontutor comme :\n",
    "\n",
    "![](./img/t2d-2.png)"
   ]
  },
  {
   "cell_type": "markdown",
   "metadata": {},
   "source": [
    "**Remarque.** \n",
    "\n",
    "On a choisi arbitrairement une représentation par liste de _lignes_. On aurait pu représenter ce tableau 2D comme une liste de colonnes.\n",
    "**Algorithmiquement**, dans l'un ou l'autre de ces choix, un tableau donné aura _les mêmes valeurs_ désignées par _les mêmes indices_ : (numéro de ligne, numéro de colonne).  En revanche, nous verrons que le stockage en mémoire de l'un ou l'autre de ces choix est différent -- ce qui sera source de problèmes car ce choix varie selon _les langages de programmation_.   "
   ]
  },
  {
   "cell_type": "markdown",
   "metadata": {},
   "source": [
    "## Spécifications de fonctions avec paramètre `List`  en python\n",
    "\n",
    "La spécification d'une fonction doit comporter le type de ses paramètres formels.  \n",
    "On s'était limité aux paramètres formels de types scalaires.\n",
    "\n",
    "### Comment indiquer le type d'un paramètre formel d'une fonction lorsque celui-ci est une liste ?\n",
    "\n",
    "Deux approches sont possibles.\n",
    "\n",
    "- La première consiste à utiliser le type prédéfini `list` de façon similaire aux autres types scalaires de python. Hélas cette solution ne permet pas d'expliciter le type des _valeurs_ contenues par la liste. Rappelons qu'une liste python, à la différence d'un tableau, peut contenir des valeurs de type quelconque. \n",
    "- **La solution** que nous retiendrons **pour les tableaux représentés avec des listes** s'appuie sur type `List` (avec un L majuscule) importé du module `typing`. Cette solution nous permettra d'expliciter les deux spécificités d'un tableau : l'unicité du type des valeurs qu'il contient et sa dimension fixée une fois pour toute.  "
   ]
  },
  {
   "cell_type": "code",
   "execution_count": 2,
   "metadata": {},
   "outputs": [],
   "source": [
    "from typing import List"
   ]
  },
  {
   "cell_type": "markdown",
   "metadata": {},
   "source": [
    "**Noter le L majuscule** de `List` obligatoire avec `typing` (et avant python3.9)\n",
    "\n",
    "Le type d'un tableau (représenté par une liste) sera décrit avec la syntaxe `List[type_val]` où `type_val` est le type des valeurs du tableau. \n",
    "\n",
    "_Exemples._\n",
    "\n",
    "- `List[int]` : un tableau 1D d'entiers\n",
    "- `List[float]` : un tableau 1D de flottants  \n",
    "- `List[List[int]]` : un tableau 2D d'entiers représenté par une liste de listes  \n",
    "\n",
    "Cette syntaxe permet d'expliciter le type (unique) des valeurs contenues dans un tableau.  \n",
    "Le paragraphe suivant indique comment préciser la dimension (fixe) d'un tableau.   "
   ]
  },
  {
   "cell_type": "markdown",
   "metadata": {},
   "source": [
    "### Comment spécifier une fonction avec des paramètres formels de type tableau ?\n",
    "\n",
    "Pour chaque paramètre formel de type tableau (représenté par une liste python), on _complète_ la spécification de la fonction _avec_ autant de _paramètres_ nécessaires à la définition de _la dimension du tableau_ : un paramètre supplémentaire pour un tableau 1D, deux pour un tableau 2D, ...  \n",
    "\n",
    "**Exemple :**\n",
    "la fonction `min1` doit retourner la valeur minimale d'un tableau 1 D $t$, d'entiers (par exemple) et de taille $n$ quelconque. \n",
    "\n",
    "La spécification de cette fonction s'écrira :\n",
    "\n",
    "```python\n",
    "def min1(t: List[int], n: int) -> int:\n",
    "    '''retourne la valeur minimale du tableau d'entiers t de taille n'''\n",
    "\n",
    "```\n",
    "**Convention.** \n",
    "- La taille `n` est définie comme second paramètre de cette fonction.  \n",
    "- Ce n'est pas nécessaire en python.\n",
    "- **C'est obligatoire dans cet enseignement** \n",
    "\n",
    "On convient que les paramètres de taille d'un tableau suivent sa définition : si il y a 2 paramètres tableaux 1D, on écrit dans l'ordre les types de : `tab1, taille_de_tab1, tab2, taille_de_tab2`. "
   ]
  },
  {
   "cell_type": "markdown",
   "metadata": {},
   "source": [
    "Nous étendons cette pratique aux tableaux multi-dimentionnels.  \n",
    "\n",
    "Par exemple pour la spécification de la fonction qui identifie et retourne la valeur minimale dans un tableau 2D s'écrit par exemple (pour un tabelae 2D d'entiers) :\n",
    "\n",
    "```python\n",
    "def min2(t: List[List[int]], n: int, m: int) -> int:\n",
    "    '''retourne la valeur minimale du tableau 2D d'entiers t de taille n x m'''\n",
    "```\n",
    "Remarquons :\n",
    "- l'annotation du type de `t`, paramètre formel de \"type tableau 2D\", comme une liste de listes d'entiers,\n",
    "- et les 2 paramètres de taille `n` et `m`, qui désignent respectivement le nombre de lignes et de colonnes de `t`.  \n"
   ]
  },
  {
   "cell_type": "markdown",
   "metadata": {},
   "source": [
    "($\\star$) **Compléments sur les annotations de type en python.** Se référer à  [annotations python](https://mypy.readthedocs.io/en/stable/cheat_sheet_py3.html) ou à [cette page](https://inventwithpython.com/blog/2019/11/24/type-hints-for-busy-python-programmers/) très bien faite ."
   ]
  },
  {
   "cell_type": "markdown",
   "metadata": {},
   "source": [
    "## Boucles imbriquées\n",
    "\n",
    "### Le contexte\n",
    "\n",
    "Les boucles sont classiquement utilisées pour parcourir des tableaux de dimension quelconque.\n",
    "Si le nombre de valeurs à parcourir dans tableau  est connu alors la boucle `for` est la plus naturelle.\n",
    "Un exemple est le parcours complet d'un tableau de taille connue.  "
   ]
  },
  {
   "cell_type": "markdown",
   "metadata": {},
   "source": [
    "**Selon le traitement à effectuer, un ou plusieurs parcours d'un même tableau sont nécessaires**.\n",
    "\n",
    "1. Par exemple :\n",
    "\n",
    "> Identifier la valeur minimale dans un tableau _de dimension quelconque_ \n",
    "\n",
    "nécessite de **parcourir toutes ses valeurs une seule fois**. \n",
    "\n",
    "Selon sa dimension, ce parcours complet nécessite _une_ ou _plusieurs boucles imbriquées_ : une boucle pour une tableau 1D, 2 boucles imbriquées pour parcourir successivement chaque ligne, puis chaque colonne _de chacune de ces lignes_, ... Ainsi, un **seul** parcours peut nécessiter **plusieurs boucles imbriquées**.\n",
    "\n",
    "2. On veut maintenant :\n",
    "\n",
    "> identifier si un tableau 1D contient au moins une valeur répétée.\n",
    "\n",
    "Remarquons que la réponse à cette question est un booléen. \n",
    "\n",
    "Une telle valeur répétée s'appelle un _doublon_. \n",
    "Notre question s'écrit (mathématiquement) pour le tableau $t$ :\n",
    "\n",
    "- existe-t-il deux indices $i$ et $j$ avec $i \\neq j$ tels que $t(i) = t(j)$ ?\n",
    "\n",
    "\n",
    "\n",
    "_Dans certains cas_, il est nécessaire de parcourir deux fois le tableau $t$ pour pouvoir répondre à cette question.  \n",
    "- Par exemple pour `t1 = [1, 2, 3, 4, 5]`, mais aussi pour `t2 = [1, 2, 3, 4, 4]`.\n",
    "\n",
    "**Exercice.** Expliciter un exemple de tableau où la réponse peut être obtenue sans parcourir deux fois la très grande partie de ses valeurs.  \n",
    "\n",
    "Un algorithme _correct_, cad. un algorithme qui répond correctement à cette question _pour n'importe quel tableau_,  devra donc effectuer ces deux parcours. \n",
    "Pour ce traitement, les deux parcours du tableau ne sont pas identiques.\n",
    "Ils sont même _dépendants l'un de l'autre_, et selon la question ils peuvent même être interrompus en cours de traitement.\n",
    "Cette dépendance des parcours se traduit par l'imbrication de deux _boucles dépendantes l'une de l'autre_.  \n",
    "\n",
    "**Exercice.** Modifier la question précédente de façon à ce son traitement demande alors que les deux parcours du tableau ne soient pas être interrompus.   \n",
    "\n",
    "On retiendra cependant que certains traitements de tableaux 1D peuvent nécessiter plusieurs parcours de ce tableau mises en oeuvre par **plusieurs boucles imbriquées dépendantes**.  "
   ]
  },
  {
   "cell_type": "markdown",
   "metadata": {},
   "source": [
    "Des exemples valent mieux que de longs discours. On commence avec des traitements où un seul parcours du tabelau est nécessaire."
   ]
  },
  {
   "cell_type": "markdown",
   "metadata": {},
   "source": [
    "### `min1()`"
   ]
  },
  {
   "cell_type": "markdown",
   "metadata": {},
   "source": [
    "La fonction `min1` qui retourne la valeur minimale d'un tableau 1 D d'entiers (par exemple) et de taille $n$ quelconque. "
   ]
  },
  {
   "cell_type": "code",
   "execution_count": 3,
   "metadata": {},
   "outputs": [],
   "source": [
    "def min1(t: List[int], n: int) -> int:\n",
    "    '''retourne la valeur minimale du tableau d'entiers t de taille n'''\n",
    "    val_min = t[0]\n",
    "    for i in range(1, n):\n",
    "        if t[i] < val_min:\n",
    "            val_min = t[i]\n",
    "    return val_min"
   ]
  },
  {
   "cell_type": "code",
   "execution_count": 4,
   "metadata": {},
   "outputs": [
    {
     "name": "stdout",
     "output_type": "stream",
     "text": [
      "1\n"
     ]
    }
   ],
   "source": [
    "#un appel de test sur un tableau de taille 3\n",
    "u = [3, 1, 2]\n",
    "un = min1(u, 3)\n",
    "print(un)"
   ]
  },
  {
   "cell_type": "markdown",
   "metadata": {},
   "source": [
    "**Obligation _pédagogique_ de définir le(s) paramètre(s) pour la taille d'un paramètre tableau.**\n",
    "\n",
    "python permet en effet de se dégager de cette obligation, entre autres grâce à la fonction prédéfinie `len()`. "
   ]
  },
  {
   "cell_type": "code",
   "execution_count": 5,
   "metadata": {},
   "outputs": [],
   "source": [
    "def min1_bis_moche(t: List[int]) -> int:\n",
    "    '''retourne la valeur minimale du tableau d'entiers t de taille n'''\n",
    "    val_min = t[0]\n",
    "    for i in range(1, len(t)):\n",
    "        if t[i] < val_min:\n",
    "            val_min = t[i]\n",
    "    return val_min"
   ]
  },
  {
   "cell_type": "markdown",
   "metadata": {},
   "source": [
    "Ce qui n'empêche pas de se servir de `len()` _dans l'appel_. Et c'est ce qu'on fera en général."
   ]
  },
  {
   "cell_type": "code",
   "execution_count": 6,
   "metadata": {},
   "outputs": [
    {
     "name": "stdout",
     "output_type": "stream",
     "text": [
      "True\n"
     ]
    }
   ],
   "source": [
    "u = [3, 1, 2]\n",
    "\n",
    "print(min1(u, len(u)) == min1(u, 3))"
   ]
  },
  {
   "cell_type": "markdown",
   "metadata": {},
   "source": [
    "**Exercice.** \n",
    "- Ecrire la spécification et le corps d'une fonction qui retourne la valeur minimale d'un tableau de `float`. \n",
    "- ($\\star$)  Qu'en pensez-vous ?  \n",
    "- ($\\star$) Quelles conditions satisfaire pour une généralisation (correcte) de ce traitement ?\n",
    "    - La fin de ce chapitre aborde cette question.  "
   ]
  },
  {
   "cell_type": "markdown",
   "metadata": {},
   "source": [
    "### `min2()` \n",
    "\n",
    "Le cas d'un tableau 2D maintenant illustre une deux boucles imbriquées indépendantes."
   ]
  },
  {
   "cell_type": "code",
   "execution_count": 7,
   "metadata": {},
   "outputs": [],
   "source": [
    "def min2(t: List[List[int]], n: int, m: int) -> int:\n",
    "    '''retourne la valeur minimale du tableau 2D d'entiers t de taille n x m'''\n",
    "    val_min = t[0][0]\n",
    "    for i in range(0, n):\n",
    "        for j in range(0, m): \n",
    "            if t[i][j] < val_min:\n",
    "                val_min = t[i][j]\n",
    "    return val_min"
   ]
  },
  {
   "cell_type": "code",
   "execution_count": 8,
   "metadata": {},
   "outputs": [
    {
     "name": "stdout",
     "output_type": "stream",
     "text": [
      "[[1, 2, 3], [4, 5, 6]] 1\n"
     ]
    }
   ],
   "source": [
    "# appel sur un tableau de taille 2 x 3 \n",
    "res = min2(tab, 2, 3)\n",
    "print(tab, res)"
   ]
  },
  {
   "cell_type": "markdown",
   "metadata": {},
   "source": [
    "**Exercice.**\n",
    "- Dans `tab`, remplacer la valeur `6` par une valeur négative et vérifier que `min2()` retourne bien la valeur attendue. "
   ]
  },
  {
   "cell_type": "markdown",
   "metadata": {},
   "source": [
    "Remarquons aussi que la syntaxe de deux indices `[ligne][colonne]` est significativement différente d'une syntaxe \"double indice\" `[ligne, colonne]` plus habituelle en mathématiques.  \n",
    "\n",
    "On peut ainsi écrire le code suivant qui manipule chaque ligne de `t` comme un tableau 1D -- pour lequel la fonction `min1()` a un sens. "
   ]
  },
  {
   "cell_type": "code",
   "execution_count": 9,
   "metadata": {},
   "outputs": [
    {
     "name": "stdout",
     "output_type": "stream",
     "text": [
      "True\n"
     ]
    }
   ],
   "source": [
    "min_ligne_0 = min1(tab[0], 3)\n",
    "min_ligne_1 = min1(tab[1], 3)\n",
    "print(min2(tab, 2, 3) == min(min_ligne_0, min_ligne_1))"
   ]
  },
  {
   "cell_type": "markdown",
   "metadata": {},
   "source": [
    "**Manipuler les paramètres de taille avec les fonctions prédéfinis.**\n",
    "\n",
    "Dans le cas 1D, on a vu l'intérêt d'utiliser la fonction prédéfinie `len()` qui retourne la longueur d'un tableau-liste 1D.\n",
    "\n",
    "Compte-tenu de la remarque précédente (tableau 2D représenté par liste de tableaux 1D), on peut utiliser cette fonction comme suit :"
   ]
  },
  {
   "cell_type": "code",
   "execution_count": 10,
   "metadata": {},
   "outputs": [
    {
     "name": "stdout",
     "output_type": "stream",
     "text": [
      "2 3\n",
      "1\n"
     ]
    }
   ],
   "source": [
    "nb_lignes = len(tab) \n",
    "nb_colonnes = len(tab[0])\n",
    "print(nb_lignes, nb_colonnes)\n",
    "\n",
    "# et donc dans l'appel\n",
    "res = min2(tab, len(tab), len(tab[0]))\n",
    "print(res)"
   ]
  },
  {
   "cell_type": "markdown",
   "metadata": {},
   "source": [
    "## Boucles imbriquées : comptons  1, 2, 3, ...\n",
    "\n",
    "Il est important de saisir les répétitions \"cachées\" par l'écriture synthétique de boucles imbriquées.\n",
    "\n",
    "**Questions.**\n",
    "Combien de fois est exécuté le test de la ligne 5 de `min2()` :\n",
    "- pour `tab` ?\n",
    "- pour un `t` quelconque ?\n",
    "\n",
    "La fonction `min2()` possède deux boucles imbriquées **indépendantes**, cad. la boucle interne fait varier l'indice de colonne  `j` pour des valeurs (d'indices) qui ne dépendent pas de la valeur de `i`, l'indice de ligne.\n",
    "- `j` prend successivement les valeurs `0, 1, ..., m-1` pour n'importe quelle valeur de l'indice `i` de la boucle extérieure.\n",
    "- Et cet indice `i` prend aussi successivement les valeurs `0, 1, ..., n-1`.\n",
    "\n",
    "**Réponses.** Respectivement 6 et $m \\times n$ fois."
   ]
  },
  {
   "cell_type": "markdown",
   "metadata": {},
   "source": [
    "### Imbriquons des boucles !\n",
    "\n",
    "Des traitements un petit peu plus complexes nécessitent d'imbriquer _plus que deux boucles_. \n",
    "\n",
    "Un exemple classique est le calcul de la matrice $C$ résultat du produit de deux matrices $A$ et $B$ : $C = A \\times B$.\n",
    "\n",
    "Expliquons d'abord sans formule de maths, pourquoi **on a besoin de 3 boucles imbriquées**.\n",
    "\n",
    "On simplifie le discours en prenant $A$ et $B$ deux matrices carrées de taille $(n, n)$.  \n",
    "On détaille les étapes de l'algorithme en identifiant les répétitions : boucles et imbrications. \n",
    "\n",
    "\n",
    "1. On veut calculer **toutes** les valeurs de la matrice produit $C$,\n",
    "    - il faut donc parcourir _toutes_ les lignes de $C$, ligne par ligne \n",
    "        - une boucle 1 : _pour chaque ligne, ..._ \n",
    "    - et parcourir _toutes_ les colonnes \n",
    "        - une boucle 2 : _pour chaque colonne, ..._ \n",
    "    - de _chacune_ de ces lignes \n",
    "        - imbrication dans la boucle 1.\n",
    "\n",
    "\n",
    "2. Et **chacune** de ces valeurs \n",
    "   - imbrication dans la boucle 2  \n",
    "   \n",
    "est obtenue de la \"façon coordonnée\" suivante.\n",
    "\n",
    "3. Cette \"façon coordonnée\" consiste à \n",
    "    - prendre _certains couples de valeurs_ et\n",
    "    - effectuer un traitement sur _tous ces couples_ de valeurs : une multiplication suivie d'une addition cumulative)\n",
    "        - une troisième boucle.\n",
    "\n",
    "**Pause.** A ce niveau, on a identifié 3 boucles imbriquées les unes dans les autres."
   ]
  },
  {
   "cell_type": "markdown",
   "metadata": {},
   "source": [
    "4. Ces couples des valeurs sont donnés par le choix d'une _certaine_ ligne de $A$ et d'une _certaine_ colonne de $B$,\n",
    "    - le choix de ces \"_certaines_ lignes et colonnes_\" est imposé par les boucles 1 et 2 précédentes ;\n",
    "    - un parcours complet mais unique (la troisième dernière boucle) et simultané de cette ligne de $A$ _et_ cette colonne de $B$ suffit pour effectuer le choix \"coordonné\" des \"_certains couples_\". \n",
    "    "
   ]
  },
  {
   "cell_type": "markdown",
   "metadata": {},
   "source": [
    "Certains mots de ce pseudo-algorithme (pseudo car incomplet) en français permet d'identifier ce qui nous intéresse ici :\n",
    "- _toutes_ = répétition = boucle  \n",
    "- _chacune_ (de _toutes_) = répétition (boucle) imbriquée dans la boucle du _toutes_  \n",
    "- _certaines_ = choix qui utilise les indices des boucles  \n",
    "\n",
    "On a donc trois boucles imbriquées pour calculer toutes les valeurs de $C$ :\n",
    "- une première boucle (extérieure) pour parcourir ses lignes,\n",
    "    - cette boucle définit donc _l'indice des lignes_;\n",
    "- une deuxième boucle, imbriquée dans la précédente, pour parcourir ses colonnes,\n",
    "    - cette boucle définit donc _l'indice des colonnes_;\n",
    "- une troisième boucle, imbriquée dans la précédente, pour le traitement \"coordonné\" (sur certaines valeurs de $A$ et $B$).\n",
    "    - cette boucle définit donc _l'indice du parcours coordonné de la ligne et de la colonne_.\n",
    "\n",
    "Ce qui correspond à l'ecriture mathématique, à la fois explicite et synthétique :\n",
    "$$C(i,j) = \\sum_{k=0}^{n-1} A(i,k) \\times B(k,j), \\text{pour} (i,j) \\in [0, n-1] \\times [0, n-1].$$\n",
    "\n",
    "Et au code suivant -- pour des matrices entières et carrées de taille `n` par exemple :"
   ]
  },
  {
   "cell_type": "code",
   "execution_count": 31,
   "metadata": {},
   "outputs": [],
   "source": [
    "def prod_mat_carrees(a : List[List[int]], b : List[List[int]], n : int) -> List[List[int]]:\n",
    "    '''retourne C = AxB ou A,B,C sont des matrices entières carrees de taille nxn'''\n",
    "    c = [[0 for i in range(n)] for j in range(n)] # bien lire cette ligne\n",
    "    for i in range(n):\n",
    "        for j in range(n):\n",
    "            for k in range(n):\n",
    "                c[i][j] = c[i][j] + (a[i][k] * b[k][j])\n",
    "    return c"
   ]
  },
  {
   "cell_type": "markdown",
   "metadata": {},
   "source": [
    "Appliquons cette fonction pour `n = 2`."
   ]
  },
  {
   "cell_type": "code",
   "execution_count": 32,
   "metadata": {},
   "outputs": [
    {
     "name": "stdout",
     "output_type": "stream",
     "text": [
      "[[1, 2], [3, 4]]\n"
     ]
    }
   ],
   "source": [
    "m = [[1, 2], [3, 4]]\n",
    "m_id = [[1, 0], [0, 1]] # matrice identité\n",
    "\n",
    "res1 = prod_mat_carrees(m, m_id, 2)\n",
    "#res2 = prod_mat_carrees(m_id, m, 2)\n",
    "\n",
    "print(res1)\n",
    "#print(res2)"
   ]
  },
  {
   "cell_type": "markdown",
   "metadata": {},
   "source": [
    "**Remarques.**\n",
    "- L'accumulation dans `c[i][j]` de la ligne 6 nécessite l'initialisation à zéro de la matrice résultat `c`.\n",
    "La ligne 2 crée cette matrice `c` et l'initialise à zéro -- nous reviendrons très vite sur cette _pythonerie_. D'autres codages ou hypothèses sont possibles à ce sujet.   \n",
    "\n",
    "- Par souci de lisibilité, la spécification de cette fonction ne suit pas les règles indiquées plus haut pour la spécification de paramètre de type tableau.\n",
    "On aurait du écrire 6 paramètres d'entrée car il en faut 3 pour définir chaque matrice : son identifiant, son nombre de lignes, son nombres de colonnes. Ici, on a profité du caractère carré de toutes ces matrices pour uniquement spécifier ce nombre commun $n$."
   ]
  },
  {
   "cell_type": "markdown",
   "metadata": {},
   "source": [
    "**Exercices.**\n",
    "1. - Que cache la ligne 3 de la fonction `prod_mat()` ?\n",
    "   - Proposer d'autres écritures de ce traitement.\n",
    "2. - Combien de fois est exécuté le calcul de la ligne 6 de `prod_mat()` :\n",
    "       - pour obtenir `res1` ?\n",
    "       - pour obtenir une matrice résultat `c` quelconque ?\n",
    "2. - Justifier qu'on peut effectuer la première boucle en parcourant les colonnes (de `c`) ? Comment ?\n",
    "   - ($\\star$) Peut-on effectuer la première boucle avec la boucle sur `k` ? Expliquer."
   ]
  },
  {
   "cell_type": "markdown",
   "metadata": {},
   "source": [
    "### Pas de symbole `*` pour définir une liste multi-dimentionnelle"
   ]
  },
  {
   "cell_type": "markdown",
   "metadata": {},
   "source": [
    "<div class=\"alert alert-warning\">\n",
    "\n",
    "Sauter cette section en première lecture. \n",
    "\n",
    "</div>"
   ]
  },
  {
   "cell_type": "markdown",
   "metadata": {},
   "source": [
    "On revient sur la _pythonerie_ signalée à la ligne 2 de la fonction `prod_mat`.\n",
    "\n",
    "On pourrait être tenté de remplacer : \n",
    "\n",
    "```python \n",
    "c = [[0 for i in range(n)] for j in range(n)]\n",
    "```\n",
    "par :\n",
    "\n",
    "```python \n",
    "c = [[0] * n] * n\n",
    "```\n",
    "\n",
    "La première construction est la _construction d'une liste par compréhension_.\n",
    "La seconde construction eutilise le sens particulier du symbole `*`  appliqué à des listes 1D qui correspond à la répétition de _concaténation de listes_. \n",
    "La concaténation de deux listes peut s'écrire en python avec le symbole `+`."
   ]
  },
  {
   "cell_type": "code",
   "execution_count": 33,
   "metadata": {},
   "outputs": [
    {
     "name": "stdout",
     "output_type": "stream",
     "text": [
      "[0, 0, 0]\n",
      "[1, 1, 1]\n",
      "[3, 4, 5]\n"
     ]
    }
   ],
   "source": [
    "l3_zeros = [0] * 3\n",
    "print(l3_zeros)\n",
    "\n",
    "l3_uns = [1] * 3\n",
    "print(l3_uns)\n",
    "\n",
    "l1 = [3]\n",
    "l2 = [4, 5]\n",
    "l = l1 + l2\n",
    "print(l)"
   ]
  },
  {
   "cell_type": "markdown",
   "metadata": {},
   "source": [
    "En attendant de revenir en détail sur ces opérations dans un prochain chapitre, retenons dès maintenant comment procéder pour définir un tableau multi-dimentionnel représenté avec des listes.\n",
    "\n",
    "Le code suivant **à éviter** reprend la construction d'une liste 1D par concaténation et le fait qu'un tableau 2D est une liste de listes.  "
   ]
  },
  {
   "cell_type": "code",
   "execution_count": 34,
   "metadata": {},
   "outputs": [
    {
     "name": "stdout",
     "output_type": "stream",
     "text": [
      "[[0, 0, 0], [0, 0, 0], [0, 0, 0], [0, 0, 0]]\n",
      "[[1, 1, 1], [1, 1, 1], [1, 1, 1], [1, 1, 1]]\n"
     ]
    }
   ],
   "source": [
    "l34_zeros = [[0] * 3] * 4\n",
    "print(l34_zeros)\n",
    "\n",
    "l34_uns = [l3_uns] * 4\n",
    "print(l34_uns)"
   ]
  },
  {
   "cell_type": "markdown",
   "metadata": {},
   "source": [
    "  **Très mauvaise idée** pourtant encore invisible avec des affichages ou des tests trop naifs !"
   ]
  },
  {
   "cell_type": "code",
   "execution_count": 35,
   "metadata": {},
   "outputs": [
    {
     "name": "stdout",
     "output_type": "stream",
     "text": [
      "[[0, 0, 0], [0, 0, 0], [0, 0, 0], [0, 0, 0]]\n",
      "True\n"
     ]
    }
   ],
   "source": [
    "oui_comme_ca = [[0 for _ in range(3)] for _ in range(4)]\n",
    "print(oui_comme_ca)\n",
    "print(oui_comme_ca == l34_zeros)"
   ]
  },
  {
   "cell_type": "markdown",
   "metadata": {},
   "source": [
    "Il y a pourtant danger :"
   ]
  },
  {
   "cell_type": "code",
   "execution_count": 36,
   "metadata": {},
   "outputs": [
    {
     "name": "stdout",
     "output_type": "stream",
     "text": [
      "[[0, 0, 1], [0, 0, 1], [0, 0, 1], [0, 0, 1]]\n",
      "Aie ! \n"
     ]
    }
   ],
   "source": [
    "l34_zeros[1][2] = 1 # je modifie UNE valeur de ce tableau\n",
    "\n",
    "print(l34_zeros)\n",
    "print(\"Aie ! \")"
   ]
  },
  {
   "cell_type": "markdown",
   "metadata": {},
   "source": [
    "Il y a bien **DANGER !** : les quatre ont été modifiées alors que la modification (était supposée) s'appliquer à une seule valeur.\n",
    "\n",
    "Pour continuer à s'en convaincre, reprendre `prod_mat()` avec cette \"très mauvaise idée\" de définir un tableau n-dim par concaténation."
   ]
  },
  {
   "cell_type": "code",
   "execution_count": 37,
   "metadata": {},
   "outputs": [],
   "source": [
    "def faux_prod_mat_carrees(a : List[List[int]], b : List[List[int]], n : int) -> List[List[int]]:\n",
    "    c = [[0] * n ] * n # NE PLUS JAMAIS ECRIRE CA\n",
    "    for i in range(n):\n",
    "        for j in range(n):\n",
    "            for k in range(n):\n",
    "                c[i][j] = c[i][j] + (a[i][k] * b[k][j])\n",
    "    return c"
   ]
  },
  {
   "cell_type": "code",
   "execution_count": 38,
   "metadata": {},
   "outputs": [
    {
     "name": "stdout",
     "output_type": "stream",
     "text": [
      "False\n"
     ]
    }
   ],
   "source": [
    "m = [[1, 2], [3, 4]]\n",
    "m_id = [[1, 0], [0, 1]] # matrice identité\n",
    "\n",
    "faux = faux_prod_mat_carrees(m, m_id, 2)\n",
    "bon = prod_mat_carrees(m, m_id, 2)\n",
    "\n",
    "print(faux == bon)\n"
   ]
  },
  {
   "cell_type": "markdown",
   "metadata": {},
   "source": [
    "Aie, aie, aie ! C'est vraiment piégeux et particulièrement long à débugger dans ce genre de cas ...\n",
    "\n",
    "Moralité :\n",
    "1. Comprendre : 1 fois\n",
    "2. S'interdire tout risque : tout le temps\n",
    "\n",
    "**Comprendre :** merci pythontutor !\n",
    "- [tableau 1D](http://pythontutor.com/visualize.html#code=v%20%3D%20%5B1,%202,%203%5D%0Anon%20%3D%20%5B0%5D%20*%203%0Aoui%20%3D%20%5B0%20for%20_%20in%20range%283%29%5D&cumulative=false&heapPrimitives=nevernest&mode=edit&origin=opt-frontend.js&py=3&rawInputLstJSON=%5B%5D&textReferences=false) : OK par concaténation et compréhension.\n",
    "- [tableau 2D](http://pythontutor.com/visualize.html#code=%23%20tableau%202D%0Am%20%3D%20%5B%5B1,%202%5D,%20%5B3,%204%5D,%20%5B5,%206%5D%5D%0Anon2%20%3D%20%5B%5B0%5D%20*%202%5D%20*%203%0Aoui2%20%3D%20%5B%5B0%20for%20i%20in%20range%282%29%5D%20for%20j%20in%20range%283%29%5D&cumulative=false&heapPrimitives=nevernest&mode=edit&origin=opt-frontend.js&py=3&rawInputLstJSON=%5B%5D&textReferences=false) : Oui par compréhension, NON par concaténation de listes !\n",
    "\n",
    "Il vaut mieux s'interdire toute mauvaise habitude même dans l'exception liste 1D ou tableau 1D."
   ]
  },
  {
   "cell_type": "markdown",
   "metadata": {},
   "source": [
    "<div class=\"alert alert-block alert-danger\">\n",
    "    \n",
    "<ul>\n",
    "<li>Ne pas utiliser le symbole `*` pour créer et initialiser une liste.</li>\n",
    "    <ul>\n",
    "    <li> NON à `[[0] * 3] * 5`</li>\n",
    "    </ul>\n",
    "<li>Utiliser la définition de <b>listes en compréhension</b></li>\n",
    "    <ul>\n",
    "    <li> OUI à `[[0 for i in range(3)] for j in range(5)]` en 2D</li>\n",
    "    <li> OUI à `[i for i in range(3)]` et même en 1D</li>\n",
    "    </ul>\n",
    "</ul>    \n",
    "\n",
    "</div>"
   ]
  },
  {
   "cell_type": "markdown",
   "metadata": {},
   "source": [
    "### Boucles imbriquées sur des tableaux 1D\n",
    "\n",
    "Maintenant qu'on est plus à l'aise avec les boucles imbriquées, rappelons que ce début de section était limité à un seul parcours d'un tableau -- d'où des tableaux multi-dimentionnels. \n",
    "\n",
    "Nous avons déjà indiqué qu'il est classique de devoir utiliser des boucles imbriquées pour certains traitements de tableaux (seulement) 1D. Nous verrons plusieurs fois le cas avec les _algorithmes de tri_. \n",
    "\n",
    "Revenons sur l'exemple de la recherche de valeurs en double dans un tableau 1D.\n",
    "On peut imaginer plusieurs variations autour de cette question : \n",
    "- existe-t-il au moins un doublon dans un tableau donné ?\n",
    "- expliciter une valeur présente au moins 2 fois dans un tableau donné\n",
    "- lister toutes les valeurs au moins en double dans un tableau donné\n",
    "- expliciter les indices d'une valeur en double dans un tableau donné\n",
    "- lister les indices des valeurs au moins en double dans un tableau donné\n",
    "- ...\n",
    "\n",
    "**Exercice.**\n",
    "- Qu'est ce qui différencie ces différentes variations autour de la notion de doublon ?\n",
    "\n",
    "Cependant tous ces traitements nécessitent des boucles imbriquées.\n",
    "\n",
    "Intéressons-nous au problème indiqué en début de chapitre :\n",
    ">  existe-t-il au moins un doublon dans un tableau donné  ?\n",
    "\n",
    "On rappelle qu'un doublon est une valeur répétée à deux endroits différents du tableau. \n",
    "Soit pour ce problème et un tableau $t$ :\n",
    "> existe-t-il 2 indices $i$ et $j$ tels que $i \\neq j$ et $t[i] = t[j]$. \n",
    "\n",
    "**Exercice.**\n",
    "En s'inspirant de l'exemple du produit matriciel, décrire un (pseudo-)algorithme en français qui (vous) aide à identifier le répétitions, les imbrications et les éventuelles contraintes sur les indices.  "
   ]
  },
  {
   "cell_type": "markdown",
   "metadata": {},
   "source": [
    "#### Solution avec deux boucles imbriquées indépendantes"
   ]
  },
  {
   "cell_type": "code",
   "execution_count": 39,
   "metadata": {},
   "outputs": [],
   "source": [
    "def existe_doublon(t : List[int], n : int) -> bool:\n",
    "    res = False \n",
    "    for i in range(n):\n",
    "        val = t[i]\n",
    "        for j in range(n):\n",
    "            if i != j and t[i] == t[j]:\n",
    "                res = True\n",
    "    return res"
   ]
  },
  {
   "cell_type": "code",
   "execution_count": 40,
   "metadata": {},
   "outputs": [
    {
     "name": "stdout",
     "output_type": "stream",
     "text": [
      "[0, 1, 2, 3, 0, 1, 2, 3] [0, 1, 2, 3, 4, 5, 6, 7]\n",
      "True False\n"
     ]
    }
   ],
   "source": [
    "petit_tab = [i for i in range(4)]\n",
    "tab1 = petit_tab + petit_tab # concatenation de listes\n",
    "tab2 = [i for i in range(8)]\n",
    "print(tab1, tab2)\n",
    "\n",
    "oui = existe_doublon(tab1, 8)\n",
    "non = existe_doublon(tab2, 8)\n",
    "print(oui, non)"
   ]
  },
  {
   "cell_type": "markdown",
   "metadata": {},
   "source": [
    "**Comptons !**\n",
    "\n",
    "1. Combien de fois le test de la ligne 6 de la fonction `existe_doublon()` est exécuté pour :\n",
    "- l'exemple avec `tab1` ? (ou `tab2` ?)\n",
    "- dans le cas général : pour un tableau `t` quelconque ?\n",
    "\n",
    "2. Qu'en pensez-vous ?\n",
    "3. _Souvenir, souvenir !_ Pourquoi dit-on que l'opérateur `and` (ou `&&`) est paresseux ? Quelles conséquences ici ?  "
   ]
  },
  {
   "cell_type": "markdown",
   "metadata": {},
   "source": [
    "### Boucles imbriquées dépendantes\n",
    "\n",
    "Dans l'exemple précédent, la boucle intérieure peut être limitée au sous-tableau des zones non encore explorées pour la valeur testée avec la boucle extérieure. \n",
    "\n",
    "En l'occurrence, à l'itération `i`, il suffit d'explorer le sous-tableau droit à partir de l'indice `i+1`, cad. pour les indices `i+1, i+2, ..., n-1`. \n",
    "\n",
    "Ainsi le test `i != j` est toujours satisfait donc inutile."
   ]
  },
  {
   "cell_type": "markdown",
   "metadata": {},
   "source": [
    "#### Solution avec deux boucles imbriquées dépendantes"
   ]
  },
  {
   "cell_type": "code",
   "execution_count": 41,
   "metadata": {},
   "outputs": [],
   "source": [
    "def existe_doublon_2(t : List[int], n : int) -> bool:\n",
    "    res = False \n",
    "    for i in range(n):\n",
    "        val = t[i]\n",
    "        for j in range(i+1, n):\n",
    "            if t[i] == t[j]:\n",
    "                res = True\n",
    "    return res"
   ]
  },
  {
   "cell_type": "code",
   "execution_count": 46,
   "metadata": {},
   "outputs": [
    {
     "name": "stdout",
     "output_type": "stream",
     "text": [
      "True False\n"
     ]
    }
   ],
   "source": [
    "oui = existe_doublon_2(tab1, 8)\n",
    "non = existe_doublon_2(tab2, 8)\n",
    "print(oui, non)"
   ]
  },
  {
   "cell_type": "markdown",
   "metadata": {},
   "source": [
    "**Exercice.** Comptons !\n",
    "\n",
    "1. Combien de fois le test de la ligne 6 de la fonction `existe_doublon_2()` est exécuté pour :\n",
    "- l'exemple avec `tab1` ? (ou `tab2` ?)\n",
    "- dans le cas général : pour un tableau `t` quelconque ?\n",
    "\n",
    "2. Qu'en pensez-vous ? "
   ]
  },
  {
   "cell_type": "markdown",
   "metadata": {},
   "source": [
    "### Autres imbrications de boucles \n",
    "\n",
    "La boucle `while ... :` est l'autre structure de répétition disponible en python.\n",
    "\n",
    "Il est bien sûr possible d'imbriquer, extérieurement et intérieurement, des boucles `while`.\n",
    "Et aussi des combinaisons de boucles `while` et `for`.\n",
    "\n",
    "L'exemple suivant illustre une telle construction."
   ]
  },
  {
   "cell_type": "code",
   "execution_count": 53,
   "metadata": {},
   "outputs": [
    {
     "name": "stdout",
     "output_type": "stream",
     "text": [
      "0 0 : 1\n",
      "*\n",
      "1 0 : 1\n",
      "1 1 : 2\n",
      "*\n"
     ]
    }
   ],
   "source": [
    "t = [1, 2, 3, 1, 2, 3]\n",
    "\n",
    "i = 0\n",
    "while t[i] < t[i+1]:\n",
    "        for j in range(i+1):\n",
    "            print(i, j, \":\", t[j])\n",
    "        i = i+1\n",
    "        print(\"*\")"
   ]
  },
  {
   "cell_type": "markdown",
   "metadata": {},
   "source": [
    "**Exercice.** \n",
    "\n",
    "3. On continue avec l'existence de doublon dans un tableau 1D. \n",
    "\n",
    "- ($\\star$) Proposez une autre version qui effectue **au plus** le même nombre de tests qu'`existe_doublon_2()`?\n",
    "- Expliciter des cas où le nombre de tests effectué n'est pas amélioré.\n",
    "- Expliciter des cas où le nombre de tests effectué est amélioré.\n",
    "- Expliciter des cas où le nombre de tests effectué est minimal.\n",
    "- Qu'en pensez-vous ?"
   ]
  },
  {
   "cell_type": "markdown",
   "metadata": {},
   "source": [
    "## Synthèse\n",
    "\n",
    "### Que retenir ?\n",
    "\n",
    "- Les tableaux de dimension quelconque peuvent être représentés en python par des listes, des listes de listes, des listes de listes de listes ... Avec comme conséquences :\n",
    "    - indices `[][]...[]`  \n",
    "    - définition-initialisation par compréhension : `[ ... [ 0 for i in range(5)] for j in range(3) ... ]`\n",
    "- Spécification de fonction avec de paramètre de type tableau : \n",
    "    - `from typing import List` \n",
    "    - `t : [List[List[int]]` avec un `L` majuscule  \n",
    "    - ajouter les paramètres de dimension \n",
    "        - appel avec la fonction préféfinie `len()` \n",
    "- Boucles imbriquées\n",
    "    - indépendantes _vs._ dépendantes  \n",
    "    - un parcours _vs._ plusieurs parcours _vs._ plusieurs parcours dépendant les uns des autres_   \n",
    "    - comprendre le déroulement de ces boucles pour compter\n",
    "\n",
    "### ($\\star$) Exercice de synthèse\n",
    "\n",
    "Dans un notebook jupyter dédié, s'intéresser aux problèmes de l'égalité, de la similarité et de la comparaison de deux tableaux 1D.  \n",
    "\n",
    "**Définitions**\n",
    "\n",
    "- Deux tableaux sont _égaux_ si ils contiennent les mêmes valeurs aux mêmes positions.  \n",
    "- Deux tableaux sont _similaires_  si ils contiennent les mêmes valeurs avec le même nombre d'occurrences -- indépendamment de leurs positions.  \n",
    "- Deux tableaux sont comparables si ils contiennent les mêmes valeurs   si ils contiennent les mêmes valeurs avec le même nombre d'occurrences -- indépendamment de leurs nombres d'occurrences et de leurs positions.  \n"
   ]
  },
  {
   "cell_type": "markdown",
   "metadata": {},
   "source": [
    "## ($\\star$) Quelle spécification pour une fonction générique ?"
   ]
  },
  {
   "cell_type": "markdown",
   "metadata": {},
   "source": [
    "<div class=\"alert alert-info\">\n",
    "\n",
    "Objectif 20 : compléments. \n",
    "\n",
    "</div>"
   ]
  },
  {
   "cell_type": "markdown",
   "metadata": {},
   "source": [
    "### Généricité\n",
    "\n",
    "Cette section s'est d'abord appelée : \n",
    "\n",
    "> \"Comment spécifier un traitement générique ?\"\n",
    "\n",
    "Commençons par expliquer cette formulation un peu plus compliquée que le titre actuel.\n",
    "\n",
    "- _spécifier_ : écrire la spécification (d'une fonction)\n",
    "- _spécifier un traitement_ : suppose que le traitement est réalisé par une fonction dont on doit écrire la spécification \n",
    "- _un traitement générique_, ou une fonction générique : un traitement qui **s'applique** de façon similaire à des valeurs de **types différents**.\n",
    "\n",
    "Exemple : \n",
    "\n",
    "- les _corps_ des fonctions qui retournent le min de deux entiers ou deux flottants, sont identiques. OK ?\n",
    "- en revanche leurs spécifications sont, jusqu'à présent, différentes :\n",
    "    ```python\n",
    "    def min_int(a : int, b: int) -> int:\n",
    "    def min_float(a : float, b: float) -> float:\n",
    "    ```\n",
    "    \n",
    "En python, on peut écrire une _seule_ fonction `mon_min()` qui accepte indifféremment des paramètres entiers ou flottants.  \n",
    "Cette fonction `mon_min()` est générique.  \n",
    "Il est facile de l'écrire avec une seule fonction _python_ mais sans indication de spécification -- ce qui est _mal_ :) "
   ]
  },
  {
   "cell_type": "markdown",
   "metadata": {},
   "source": [
    "### `Union` dans le module `typing` \n",
    "\n",
    "**Question.** Comment écrire sa spécification sans perdre d'information par rapport aux deux spécifications ci-dessus ?\n",
    "\n",
    "**Réponse.** \n",
    "On a besoin d'un autre contenu du module `typing`: `Union`, qui a le sens de l'union d'ensembles en mathématique."
   ]
  },
  {
   "cell_type": "code",
   "execution_count": 43,
   "metadata": {},
   "outputs": [],
   "source": [
    "from typing import Union"
   ]
  },
  {
   "cell_type": "markdown",
   "metadata": {},
   "source": [
    "Ainsi `Union[int, str]` permet de désigner toute valeur de type `int`  ou de type `str`.\n",
    "\n",
    "De façon similaire, on peut utiliser `Union[int, float]`  pour spécifier notre fonction  générique `mon_min` qui traite indifféremment des paramètres entiers ou flottants."
   ]
  },
  {
   "cell_type": "code",
   "execution_count": 44,
   "metadata": {},
   "outputs": [
    {
     "name": "stdout",
     "output_type": "stream",
     "text": [
      "2 2.0 2\n"
     ]
    }
   ],
   "source": [
    "def mon_min(a : Union[int, float], b : Union[int, float]) -> Union[int, float]:\n",
    "    if a < b:\n",
    "        return a\n",
    "    else:\n",
    "        return b\n",
    "\n",
    "res1 = mon_min(3, 2)\n",
    "res2 = mon_min(3.0, 2.0)\n",
    "res3 = mon_min(3.0, 2)\n",
    "\n",
    "print(res1, res2, res3)"
   ]
  },
  {
   "cell_type": "markdown",
   "metadata": {},
   "source": [
    "**Syntaxe.** Attention aux `[ ]` --et non pas des `( )`-- dans l'annotation de types --comme pour `List`.\n",
    "\n",
    "**($\\star$) Attention.** \n",
    "- Pourquoi je n'ai pas écrit que `Union[int, float]` avait le sens l'union (mathématique) des ensembles  d'entiers et de flottants ?\n",
    "- Parce qu'en python (et plus généralement en informatique avec _la notion de type_ ) :  \n",
    "```python\n",
    "Union[int, float] != float\n",
    "```\n",
    "On le vérifie :"
   ]
  },
  {
   "cell_type": "code",
   "execution_count": 45,
   "metadata": {},
   "outputs": [
    {
     "name": "stdout",
     "output_type": "stream",
     "text": [
      "False\n"
     ]
    }
   ],
   "source": [
    "print(Union[int, float] == float)"
   ]
  },
  {
   "cell_type": "markdown",
   "metadata": {},
   "source": [
    "### A lire\n",
    "\n",
    "- Sur les annotations de types : cet [article](https://inventwithpython.com/blog/2019/11/24/type-hints-for-busy-python-programmers/) (déjà mentionné plus haut) est l'un des plus intéressants que j'ai rencontré sur le web en préparant ce cours.  En effet, la documentation de réference de python est assez peu commode à exploiter dans ce cas.   "
   ]
  },
  {
   "cell_type": "raw",
   "metadata": {},
   "source": [
    "jupyter nbconvert --to html_embed --template toc2 2-boucles-avancees.ipynb"
   ]
  }
 ],
 "metadata": {
  "kernelspec": {
   "display_name": "Python 3",
   "language": "python",
   "name": "python3"
  },
  "language_info": {
   "codemirror_mode": {
    "name": "ipython",
    "version": 3
   },
   "file_extension": ".py",
   "mimetype": "text/x-python",
   "name": "python",
   "nbconvert_exporter": "python",
   "pygments_lexer": "ipython3",
   "version": "3.7.7"
  },
  "latex_envs": {
   "LaTeX_envs_menu_present": true,
   "autoclose": false,
   "autocomplete": true,
   "bibliofile": "biblio.bib",
   "cite_by": "apalike",
   "current_citInitial": 1,
   "eqLabelWithNumbers": true,
   "eqNumInitial": 1,
   "hotkeys": {
    "equation": "Ctrl-E",
    "itemize": "Ctrl-I"
   },
   "labels_anchors": false,
   "latex_user_defs": false,
   "report_style_numbering": true,
   "user_envs_cfg": false
  },
  "toc": {
   "nav_menu": {},
   "number_sections": true,
   "sideBar": true,
   "skip_h1_title": false,
   "title_cell": "Table des matières",
   "title_sidebar": "TdM",
   "toc_cell": true,
   "toc_position": {
    "height": "calc(100% - 180px)",
    "left": "10px",
    "top": "150px",
    "width": "272.390625px"
   },
   "toc_section_display": true,
   "toc_window_display": true
  }
 },
 "nbformat": 4,
 "nbformat_minor": 4
}
