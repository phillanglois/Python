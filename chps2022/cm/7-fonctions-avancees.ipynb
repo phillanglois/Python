{
 "cells": [
  {
   "cell_type": "markdown",
   "metadata": {},
   "source": [
    "# Sous-programme et affectation -- aspects avancés\n",
    "\n",
    "version 2021, PhL (v2.2)"
   ]
  },
  {
   "cell_type": "markdown",
   "metadata": {},
   "source": [
    "Nous abordons maintenant les aspects des fonctions qui dépendent des langages de programmation. Nous insistons surtout sur les choix de python3.\n",
    "\n",
    "**Rappel.**  Le terme _paramètre effectif_, et son compagnon _paramètre formel_, sont des termes \"langage-indépendant\". En python, le terme _argument_ est utilisé à la place du terme _paramètre effectif_. Ainsi argument et paramètre effectif sont des synonymes, et seront utilisés comme tel dans ce qui suit.\n"
   ]
  },
  {
   "cell_type": "markdown",
   "metadata": {},
   "source": [
    "## Le passage des paramètres : un problème générique\n",
    "\n",
    "Le corps de la fonction ne connaît que les paramètres formels.  \n",
    "L'appel de la fonction définit les paramètres effectifs . \n",
    "- Comment le paramètre effectif devient-il connu par la fonction appelée ?   \n",
    "- Qu'est-ce qui est connu dans l'appel, en particulier _lorsque le paramètre effectif est une variable_ ?\n",
    "    - _la valeur_ du paramètre effectif  ? \n",
    "    - _la variable_ paramètre effectif  ?  \n",
    "    \n",
    "Se sont les questions du passage de paramètres appelant->appelé\n",
    "\n",
    "### Comment est transmis un paramètre effectif ?\n",
    "\n",
    " * Si c'est une constante :  `y = f(3)`  \n",
    "    OK : la valeur constante est connue et utilisée dans l'appel  \n",
    "    \n",
    " * Si c'est une variable : `x = 3 ; y = f(x)`  \n",
    "    - `f` connaît la valeur de `x` et seulement sa valeur ?\n",
    "    - `f` connaît la variable `x`, ce qui permet de _lire_ sa valeur et aussi de _la modifier_ a priori ?\n",
    "    \n",
    " * Cette distinction s'étend aux paramètres (formels et effectifs) de type composé comme les tableaux, les listes, les chaînes de caractères, les enregistrements (ou structures) ... \n",
    " \n",
    "\n",
    "### Deux modes _matériels_ de passage des paramètres\n",
    "\n",
    "1. __passage par valeur__ ou __copie__ :  seules les _valeurs_ des paramètres effectifs sont connus par la fonction.  \n",
    "Ainsi, **les paramètres effectifs**, qui sont des variables dans le programme appelant, **ne sont pas modifiés**. Bien sûr, ce n'est pas le cas du/des paramètre/s de sortie).\n",
    "\n",
    "2. __passage par adresse__ ou __référence__ : les _adresses_ des paramètres effectifs sont connues et sont manipulées par la fonction.  \n",
    "Ces paramètres effectifs sont donc _les_ variables de l'appelant -- et aussi de l'appel.  \n",
    "La fonction peut donc **modifier les variables de l'appelant _indépendamment_ du `return`**.\n",
    "\n",
    "<div class=\"alert alert-block alert-info\">\n",
    "Pros/cons : la copie de la valeur d'une \"grosse\" variable coûte plus cher que la copie de son adresse (c'est un `int`)  \n",
    "</div>\n",
    "\n",
    "Les modes appliqués dépendent :   \n",
    "- des langages de programmation \n",
    "- du _type_ des paramètres\n",
    "\n",
    "C-a-d. que les 2 modes peuvent coexister dans un même langage.  \n"
   ]
  },
  {
   "cell_type": "markdown",
   "metadata": {},
   "source": [
    "### Trois modes _logiques_ de passage des paramètres\n",
    "\n",
    "Certains langages (Ada par exemple) se sont dégagés des aspects matériels pour définir des modes _logiques_.  \n",
    "Bien sûr, l'implantation de ces modes logiques repose sur l'une ou l'autre des 2 modes physiques.  \n",
    "\n",
    "1. mode `in` : le paramètre est uniquement utilisé en lecture, c-a-d. seule la transmission de sa valeur est nécessaire\n",
    "2. mode `in-out` : le paramètre est utilisé en lecture et en écriture, ici encore son adresse est nécessaire dans l'appel  \n",
    "3. mode `out` : le paramètre est uniquement utilisé en écriture, c-a-d. sa valeur est (formellement) inconnue dans la fonction ; cette dernière détermine sa valeur et la transmet (par valeur ou par adresse) à l'appelant.\n",
    "\n",
    "Ces modes sont facilement vérifiables lors de la compilation. \n",
    "Le mode `in` correspond aux paramètres d'entrée d'une fonction.\n",
    "Le mode `out` correspond à la valeur retournée par une fonction.\n",
    "le mode `in-out` correspond aux paramètres d'une _procédure_ : les paramètres effectifs existent avant l'appel, celui-ci les modifient et ils subsistent au retour dans l'appelant."
   ]
  },
  {
   "cell_type": "markdown",
   "metadata": {},
   "source": [
    "## Et pour python ?\n",
    "\n",
    "Le [tutoriel python.org](https://docs.python.org/fr/3/tutorial/controlflow.html#id2) dit :\n",
    "> Les paramètres effectifs (arguments) d'une fonction sont introduits dans la table de symboles locale de la fonction appelée lorsqu'elle est appelée ; par conséquent, __les passages de paramètres__ se font par valeur, la valeur étant toujours une __référence à un objet__, et non la valeur de l'objet lui-même.\n",
    "\n",
    "Rassurez-vous : cette définition est difficile à comprendre _en l'état_. \n",
    "La suite de ce chapitre va permettre de mieux voir de quoi il s'agit.  \n",
    "\n",
    "Mentionnons qu'**en python**, le passage de paramètres est en fait similaire à celui de l'_affectation_. \n",
    "Il nous faut donc détailler ce qu'il y a \"derrière\" l'affectation en python.\n",
    "C'est l'objet de la [section suivante](#revisiter_les_variables_et_l'affectation).\n",
    "\n",
    "Cependant indiquons dès maintenant **ce qu'il faut retenir** concernant le passage de paramètres."
   ]
  },
  {
   "cell_type": "markdown",
   "metadata": {},
   "source": [
    "<div class=\"alert alert-block alert-info\">\n",
    "    \n",
    "Le passage des paramètres ( et de l'affectation ) en python <b>dépend</b> du caractère <b>mutable</b> ou <b>non mutable de l'argument</b> (i.e. paramètre effectif) concerné.\n",
    "\n",
    "</div>"
   ]
  },
  {
   "cell_type": "markdown",
   "metadata": {},
   "source": [
    "<div class=\"alert alert-block alert-info\">\n",
    "\n",
    "Un paramètre effectif <b>non mutable</b> est traité comme une <b>variable locale</b> à la fonction. \n",
    "\n",
    "<ul>\n",
    "<li> Ainsi la variable argument est connue dans la fonction mais elle <b>n'est pas modifiée dans l'appelant</b> par le traitement de la fonction\n",
    "</li>\n",
    "    <li> Il n'y a <b>pas d'effet de bord</b> de la fonction sur un paramètre effectif <b>non mutable</b>. \n",
    "</li>\n",
    "    </ul>\n",
    "    \n",
    "</div>\n",
    "    "
   ]
  },
  {
   "cell_type": "markdown",
   "metadata": {},
   "source": [
    "<div class=\"alert alert-block alert-info\">\n",
    "    \n",
    "    \n",
    "Un paramètre effectif <b>mutable</b> est \"entièrement et directement accessible\" par la fonction, comme une variable globale de l'appelant.     \n",
    "    \n",
    "<ul>    \n",
    "<li>  Ainsi une variable-argument mutable <b>pourra être modifiée dans l'appelant</b> par le traitement de la fonction appelée.</li>\n",
    "<li> Un paramètre effectif <b>mutable d'une fonction est susceptible d'un <em>effet de bord</em></b> suite à l'appel de la fonction. </li>\n",
    "</ul>    \n",
    "\n",
    "</div>"
   ]
  },
  {
   "cell_type": "markdown",
   "metadata": {},
   "source": [
    "Dans ce dernier cas (argument mutable), une variable-argument peut être modifiée partiellement ou complètement. Par exemple, une liste peut-être allongée, écourtée, concaténée, ses valeurs peuvent être modifiées globalement ; ce qui sera différent de modifications ponctuelles de certaines de ses valeurs.  "
   ]
  },
  {
   "cell_type": "markdown",
   "metadata": {},
   "source": [
    "<div class=\"alert alert-block alert-info\">\n",
    "\n",
    "<ul> \n",
    "<li>Une <b>modification partielle</b> d'une variable-argument mutable et <em>non concernée par le `return`</em>  provoquera un <b>effet de bord</b> malvenu dans l'appelant.</li>\n",
    "<li> Une modification complète de cet argument mutable n'aura pas un tel effet.</li>\n",
    "</ul>    \n",
    "\n",
    "</div>   "
   ]
  },
  {
   "cell_type": "markdown",
   "metadata": {},
   "source": [
    "En pratique, il est très fortement conseillé d'éviter tout effet de bord d'une fonction _qui n'est pas une procédure_. \n",
    "**Il appartient au programmeur d'être attentif au caractère mutable ou non mutable des paramètres des appels de fonctions** -- surtout dans le contexte de typage dynamique de python : rappelons que les annotations de type des paramètres ne sont que des indications pour le lecteur ou des outils spécialisés mais sont ignorées de l'interpréteur python.   "
   ]
  },
  {
   "cell_type": "markdown",
   "metadata": {},
   "source": [
    "## ($\\star$) Variable et affection : aspects avancés \n",
    "\n",
    "<div class=\"alert alert-block alert-success\">\n",
    "    Cette section relève de <b>l'objectif 20</b>\n",
    "</div>\n",
    "\n",
    "Commençons par revenir sur les notions de __variable__ et d'__affectation__.\n",
    "Puis comment ces notions existent en python.\n",
    "\n",
    "### Notions importantes\n",
    "\n",
    "#### Variable, valeur, espace de stockage, adresse en mémoire, référence\n",
    "\n",
    "- une _variable_ permet d'accéder, en lecture ou en écriture, à une _valeur_ qui est stockée en mémoire\n",
    "    - une _variable_ est définie par son _identifiant_ : son nom de variable : `n, t, ma_liste, ...`  \n",
    "- une _valeur_ est stockée à un emplacement en mémoire aussi appelé _espace de stockage_\n",
    "    - il est unique et test repéré par son _adresse_  \n",
    "    - une adresse est (similaire à) un `int`\n",
    "    - la taille de l'espace mémoire dépend du type des valeurs à stocker : `int` (par exemple 32 bits) vs `float`(64 bits) vs. une `list` de `float` \n",
    "\n",
    "Ainsi l'identifiant d'une variable peut-être vue comme un symbole associé à un espace de stockage.  \n",
    "L'identifiant de la variable est ainsi **une référence** à un espace de stockage.\n",
    "\n",
    "Attention :\n",
    "\n",
    "- la difficulté de la notion de variable vient du fait que ce terme désigne, selon les cas, la valeur stockée en mémoire ou l'espace de stockage lui-même.  \n",
    "- la notion de _référence_ prend des sens différemment subtils selon les langage de programmation.  \n",
    "  "
   ]
  },
  {
   "cell_type": "markdown",
   "metadata": {},
   "source": [
    "#### Affectation et évaluation  \n",
    "\n",
    "L'_affectation d'une valeur à une variable_ correspond à une modification de l'espace de stockage associé à la variable.  \n",
    "\n",
    "- La _valeur_ affectée est le résultat de l'_évaluation_ du membre du droite de l'affectation.  \n",
    "- Ce membre de droite peut être :\n",
    "    - une valeur d'initialisation : `x = 3` ou `t = [1,2,3]`, \n",
    "    - une variable : `x = y`, \n",
    "    - une expression : `x = y + 5`, \n",
    "    - un appel de fonction `x = cos(alpha)`\n",
    "    - ou d'autres combinaisons plus compliquées.  \n",
    "\n",
    "Dans tous les cas, l'évaluation retourne _une valeur_.\n",
    "\n",
    "Mais cette valeur peut prendre deux formes très différentes que nous introduisons avec l'exemple de l'affectation  \n",
    "> `x = y` où `x` et `y` sont deux variables.\n",
    "\n",
    "\n",
    "L'association variable `x` <-> variable `y` peut être en effet réalisée de 2 façons :\n",
    "- par **copie** : la variable `x` prend comme valeur _la valeur_ de `y` (la répétition de \"valeur\" est voulue)  \n",
    "    - la valeur de `y` est dupliquée à une nouvelle adresse mémoire\n",
    "    - la valeur à cette nouvelle adresse est maintenant accessible par l'identifiant `x`.  \n",
    "- par **référence** : la variable `x` prend comme valeur _l'adresse de la valeur de `y`_ (emplacement mémoire où est stockée la valeur de `y`)  \n",
    "    - la valeur de `y` n'est _pas dupliquée_  \n",
    "    - `x` et `y` référencent _le même endroit en mémoire._\n",
    "\n",
    "Dans les 2 cas :  \n",
    "- la valeur de `x` avant l'affectation, si il y en avait une, est perdue.  \n"
   ]
  },
  {
   "cell_type": "markdown",
   "metadata": {},
   "source": [
    "#### Déclaration _vs._ affectation\n",
    "\n",
    "Dans la plupart des langages de programmation **mais pas en Python**, une variable doit être déclarée _avant_ d'être utilisée.  \n",
    "\n",
    "Typiquement, la déclaration d'une variable contient la définition de son identifiant, _de son type_, d'une valeur initiale (l'initialisation) et éventuellement d'autres propriétés diverses.  \n",
    "\n",
    "Une fois déclarée, la variable existe.\n",
    "_Affecter une valeur à cette variable_ est une des premières actions que l'on effectue avec cette variable.\n",
    "\n",
    "**En python** : \n",
    "> Pas de déclaration    \n",
    "> Une variable est définie (elle commence à exister) par sa première affectation.   \n",
    "> Cette première affectation définit le type de cette variable et sa valeur (et donc son caractère mutable ou non mutable).\n",
    "\n",
    "Une variable python _est donc créée par l'affectation d'une valeur_.  "
   ]
  },
  {
   "cell_type": "markdown",
   "metadata": {},
   "source": [
    "### Variables et affectation en python\n",
    "\n",
    "#### Variables en python : mutable ou non mutable ?\n",
    "\n",
    "On a écrit qu'une variable python est une référence. \n",
    "Mais une référence à quoi ? A une valeur ? A une adresse de la mémoire ?\n",
    "\n",
    "Les deux cas existent en python et dépendent du caractère mutable ou non mutable de la variable.  \n",
    "\n",
    "<div class=\"alert alert-block alert-info\">\n",
    "\n",
    "<ul> \n",
    "<li>Une variable non mutable est une référence à une valeur.  </li>\n",
    "<li>Une variable mutable est une référence à l'adresse d'un espace de stockage. </li>\n",
    "</ul>\n",
    "\n",
    "</div> \n",
    "\n",
    "> python : \n",
    "> - les types non-mutables : `int, float, string, tuple `  \n",
    "> - les types mutables : `list, set, dict(ionnaire)`\n"
   ]
  },
  {
   "cell_type": "markdown",
   "metadata": {},
   "source": [
    "**pythontutor.** Illustrons cette importante différence avec cet \n",
    "[exemple](http://pythontutor.com/visualize.html#code=x%20%3D%203%0At%20%3D%20%5B1,%202,%203%5D%0A&cumulative=false&curInstr=2&heapPrimitives=nevernest&mode=display&origin=opt-frontend.js&py=3&rawInputLstJSON=%5B%5D&textReferences=false).\n",
    "\n",
    "- `x` est une variable non mutable (c'est un `int`) et son identifiant correspond bien à la valeur d'initialisation, ici `3`. `x` est bien une (référence à) une valeur : la valeur `3`.\n",
    "- En revanche, `t`  est une liste python qui représente le tableau 1D de longueur 3 initialisé par les valeurs entières '1, 2, 3'. _Une liste python est une variable mutable_. Ainsi, on voit que la variable `t` est représentée par une flèche qui désigne une (la) zone mémoire où sont stockés les 3 valeurs du tableau `t`.  `t` est encore une valeur mais cette fois, cette valeur est une adresse (vers les valeurs de la variable mutable).\n",
    "\n",
    "Cette différence va prendre tout son sens avec l'affectation (et le passage de paramètre pour les fonctions).  "
   ]
  },
  {
   "cell_type": "code",
   "execution_count": 1,
   "metadata": {},
   "outputs": [
    {
     "name": "stdout",
     "output_type": "stream",
     "text": [
      "bonjour\n"
     ]
    }
   ],
   "source": [
    "# à essayer aussi dans pythontutor\n",
    "x = 3\n",
    "s = \"bonjour\"\n",
    "e0 = (1, 2, 3) # un tuple est non mutable\n",
    "l0 = [1, 2, 3] # une liste est mutable\n",
    "\n",
    "\n",
    "print(s)"
   ]
  },
  {
   "cell_type": "markdown",
   "metadata": {},
   "source": [
    "#### Dupliquer des valeurs par référence :  mutable _vs._ non mutable\n",
    "\n",
    "<div class=\"alert alert-block alert-info\">\n",
    "\n",
    "**Cas mutable :** l'affectation par référence **ne duplique pas la valeur**.  \n",
    "    \n",
    "</div>"
   ]
  },
  {
   "cell_type": "markdown",
   "metadata": {},
   "source": [
    "Ainsi si cette valeur est déjà associée à une autre variable (cas de l'affectation `x = y` où `y` a été initialisée précédemment) alors `x` **et** `y` référencent le même emplacement en mémoire.  \n",
    "La modification ultérieure de l'une ou de l'autre des variables nécessite de lever l'ambiguïté suivante.   "
   ]
  },
  {
   "cell_type": "markdown",
   "metadata": {},
   "source": [
    "<div class=\"alert alert-block alert-info\">\n",
    "\n",
    "**Effet de bord :**\n",
    "    \n",
    "`x` est une variable introduite par l'affectation `x = y` où `y` est une autre variable pré-existante.\n",
    " \n",
    "- Modifier <b>ultérieurement</b> `x`  a-t-il aussi un effet sur `y` ?\n",
    "    \n",
    "- Modifier <b>ultérieurement</b> `y`  a-t-il aussi un effet sur `x` ?\n",
    "</div>"
   ]
  },
  {
   "cell_type": "markdown",
   "metadata": {},
   "source": [
    "Un tel effet est appelé un **effet de bord** ; ce qui peut être choquant d'un point de vue algorithmique.    \n",
    "\n",
    "En python, il est clair maintenant que la réponse à cette question dépend du caractère _mutable_ ou _non mutable_ du type de la variable."
   ]
  },
  {
   "cell_type": "markdown",
   "metadata": {},
   "source": [
    "**Rmq.** La fonction prédéfinie `id()` est définie au paragraphe suivant.  Elle retourne l'adresse \"en mémoire\" de son argument."
   ]
  },
  {
   "cell_type": "code",
   "execution_count": 2,
   "metadata": {},
   "outputs": [
    {
     "name": "stdout",
     "output_type": "stream",
     "text": [
      "3 3 emplacements mémoire identiques\n",
      "3 5 emplacements mémoire différents\n",
      "6 5 emplacements mémoire différents\n",
      "\n",
      "aa aa emplacements mémoire identiques\n",
      "aa bb emplacements mémoire différents\n",
      "ab bb emplacements mémoire différents\n",
      "\n",
      "[1, 1] [1, 1] emplacements mémoire identiques\n",
      "je modifie complètement m :\n",
      "[1, 1] [2, 2] emplacements mémoire différents\n",
      "\n",
      "je recommence avec l = [1,1] et m = l \n",
      "mais je modifie partiellement m sans penser à l :\n",
      "[0, 1] [0, 1] emplacements mémoire identiques\n"
     ]
    }
   ],
   "source": [
    "def aff(v1, v2 : None) -> None:\n",
    "    '''affichage adapté\n",
    "    Rmq : l'annotation None pour v1 et v2 veut dire Any\n",
    "    '''\n",
    "    CAS_VRAI = \"emplacements mémoire identiques\"\n",
    "    CAS_FAUX = \"emplacements mémoire différents\"\n",
    "\n",
    "    if id(v1) == id(v2):\n",
    "        print(v1, v2, CAS_VRAI)\n",
    "    else:\n",
    "        print(v1, v2, CAS_FAUX)\n",
    "\n",
    "# les int sont non mutables\n",
    "x = 3\n",
    "y = x\n",
    "aff(x, y)\n",
    "y = 5\n",
    "aff(x, y)\n",
    "x = 6\n",
    "aff(x, y)\n",
    "# gardons ce cas particulier pour plus tard\n",
    "#x = 5\n",
    "#aff(x, y)\n",
    "print()\n",
    "\n",
    "# les strings sont non mutables\n",
    "s1 = \"aa\"\n",
    "s2 = s1\n",
    "aff(s1, s2)\n",
    "s2 = \"bb\"\n",
    "aff(s1, s2)\n",
    "s1 = \"ab\"\n",
    "aff(s1, s2)\n",
    "print() \n",
    "\n",
    "# les listes sont mutables\n",
    "l = [1,1]\n",
    "m = l\n",
    "aff(l, m)\n",
    "m = [2,2]\n",
    "print(\"je modifie complètement m :\")\n",
    "aff(l, m)\n",
    "print()\n",
    "\n",
    "print(\"je recommence avec l = [1,1] et m = l \")\n",
    "l = [1,1]\n",
    "m = l\n",
    "print(\"mais je modifie partiellement m sans penser à l :\")\n",
    "m[0] = 0 \n",
    "aff(l, m)\n",
    "\n"
   ]
  },
  {
   "cell_type": "markdown",
   "metadata": {},
   "source": [
    "Comme déjà évoqué, le dernier résultat (modification partielle de mutable) est assez surprenant.\n",
    "Je vous laisse imaginer la recherche de bug ..."
   ]
  },
  {
   "cell_type": "markdown",
   "metadata": {},
   "source": [
    "<div class=\"alert alert-block alert-danger\">\n",
    "    \n",
    "L'affectation python `x = y` avec des variables <b>mutables</b> <em>ne crée pas</em> un nouvel emplacement mémoire pour `x`.  \n",
    "    \n",
    "Elle créée <em>une nouvelle référence</em> pour `x` (ou met à jour une référence existante) <em>vers un emplacement qui existait précédemment</em> : celui de `y`.  \n",
    "    \n",
    "Ainsi cet emplacement est accessible par plusieurs références -- ici `x` et `y` sont des références vers le <b>même emplacement mémoire</b>.\n",
    "    \n",
    "</div>"
   ]
  },
  {
   "cell_type": "markdown",
   "metadata": {},
   "source": [
    "En pratique, l'environnement python connaît le nombre de références qui désignent le même emplacement mémoire. \n",
    "Ce qui lui permet le cas échéant de récupérer les zones qui ne sont plus désignées (mécanisme de _garbage collector_ ou _ramasse miettes_ en français)."
   ]
  },
  {
   "cell_type": "markdown",
   "metadata": {},
   "source": [
    "### Approfondissons par _introspection_\n",
    "\n",
    "Nous verrons plus tard que les \"entités python\" sont des _objets_.  \n",
    "python fait partie des langages de programmation appelés __langage objet__ ou __langage orienté objet__.  \n",
    "Un _objet_ est un ensemble d'_attributs_ (des valeurs nommées) et de _méthodes_ (des fonctions qui s'appliquent à _tout_ ou _partie_ de cet objet), cet ensemble étant accessible par un _identifiant_ (le nom de l'objet).  \n",
    "Nous verrons qu'en fait un objet est (très souvent) associé à une notion plus générale, la notion de _classe d'objets_.  \n",
    "Une _classe_ d'objets est un modèle d'objets et ainsi un objet d'une classe donnée est aussi appelé _une instance_ de cette classe.  \n",
    "\n",
    "**Rmq.** Pour l'instant, pas d'énorme différence entre objet et variable telle que présentée jusqu'à présent.   \n",
    "\n",
    "#### Les fonctions  `type( )` et `id( )`\n",
    "\n",
    "Parmi les méthodes de tout objet python, certaines permettent _l'introspection_, c-a-d. permettent d'obtenir des informations sur l'objet et sur son état.  \n",
    "\n",
    "Nous allons présenter ici :\n",
    "- les fonctions  `type()` et `id()` qui retournent, respectivement, le type et l'adresse (mémoire) unique  de l'argument.  \n"
   ]
  },
  {
   "cell_type": "code",
   "execution_count": 3,
   "metadata": {},
   "outputs": [
    {
     "name": "stdout",
     "output_type": "stream",
     "text": [
      "1 <class 'int'> 4479916960\n",
      "1.1 <class 'float'> 4512571792\n",
      "[0, 0, 0, 0, 0, 0, 0, 0, 0, 0] <class 'list'> 4514120160\n",
      "[1, 1] <class 'list'> 4513520048\n",
      "4479916928 4479916928\n"
     ]
    }
   ],
   "source": [
    "a = 1\n",
    "b = 1.1\n",
    "\n",
    "l = [0]*10\n",
    "t = [1,1]\n",
    "\n",
    "print(a, type(a), id(a))\n",
    "print(b, type(b), id(b))\n",
    "print(l, type(l), id(l))\n",
    "print(t, type(t), id(t))\n",
    "print(id(l[0]), id(l[1]))\n"
   ]
  },
  {
   "cell_type": "markdown",
   "metadata": {},
   "source": [
    "**Autres fonctions d'introspection**\n",
    "\n",
    "D'autres fonctions d'introspection très utiles existent. Essayez-les ! \n",
    "- la fonction `help()`  déjà connue  \n",
    "- les fonctions  `locals()` et `globals()` qui retournent la liste des variables locales, resp. globales, au contexte de leur appel ;\n",
    "- la fonction `dir()`"
   ]
  },
  {
   "cell_type": "code",
   "execution_count": 4,
   "metadata": {},
   "outputs": [
    {
     "name": "stdout",
     "output_type": "stream",
     "text": [
      "Help on built-in function locals in module builtins:\n",
      "\n",
      "locals()\n",
      "    Return a dictionary containing the current scope's local variables.\n",
      "    \n",
      "    NOTE: Whether or not updates to this dictionary will affect name lookups in\n",
      "    the local scope and vice-versa is *implementation dependent* and not\n",
      "    covered by any backwards compatibility guarantees.\n",
      "\n",
      "Help on built-in function globals in module builtins:\n",
      "\n",
      "globals()\n",
      "    Return the dictionary containing the current scope's global variables.\n",
      "    \n",
      "    NOTE: Updates to this dictionary *will* affect name lookups in the current\n",
      "    global scope and vice-versa.\n",
      "\n",
      "Help on built-in function dir in module builtins:\n",
      "\n",
      "dir(...)\n",
      "    dir([object]) -> list of strings\n",
      "    \n",
      "    If called without an argument, return the names in the current scope.\n",
      "    Else, return an alphabetized list of names comprising (some of) the attributes\n",
      "    of the given object, and of attributes reachable from it.\n",
      "    If the object supplies a method named __dir__, it will be used; otherwise\n",
      "    the default dir() logic is used and returns:\n",
      "      for a module object: the module's attributes.\n",
      "      for a class object:  its attributes, and recursively the attributes\n",
      "        of its bases.\n",
      "      for any other object: its attributes, its class's attributes, and\n",
      "        recursively the attributes of its class's base classes.\n",
      "\n"
     ]
    }
   ],
   "source": [
    "help(locals)\n",
    "help(globals)\n",
    "help(dir)"
   ]
  },
  {
   "cell_type": "code",
   "execution_count": 5,
   "metadata": {},
   "outputs": [
    {
     "data": {
      "text/plain": [
       "True"
      ]
     },
     "execution_count": 5,
     "metadata": {},
     "output_type": "execute_result"
    }
   ],
   "source": [
    "locals() == globals()\n",
    "#print(locals())"
   ]
  },
  {
   "cell_type": "code",
   "execution_count": 6,
   "metadata": {},
   "outputs": [
    {
     "name": "stdout",
     "output_type": "stream",
     "text": [
      "False\n"
     ]
    }
   ],
   "source": [
    "dir()\n",
    "a = 1\n",
    "#print(dir(a))\n",
    "l = [1]\n",
    "#print(dir(l))\n",
    "print(dir(a) == dir(l))"
   ]
  },
  {
   "cell_type": "markdown",
   "metadata": {},
   "source": [
    "#### Introspection de l'affectation"
   ]
  },
  {
   "cell_type": "markdown",
   "metadata": {},
   "source": [
    "Dans les traitements suivants, retrouvons les comportements décrits précédemment.\n",
    "Etonné ?"
   ]
  },
  {
   "cell_type": "code",
   "execution_count": 7,
   "metadata": {},
   "outputs": [
    {
     "name": "stdout",
     "output_type": "stream",
     "text": [
      "a: 1 <class 'int'> 4479916960\n",
      "b: 1 <class 'int'> 4479916960\n",
      "b: 2 <class 'int'> 4479916992 \n",
      "\n",
      "s: aagskjhdsqgf qkdhqhq  <class 'str'> 4513249280\n",
      "s2 aagskjhdsqgf qkdhqhq  <class 'str'> 4513249280\n",
      "s2 a <class 'str'> 4481779312 \n",
      "\n",
      "[0, 0] <class 'list'> 4514183280\n",
      "[0, 0] <class 'list'> 4514183280\n",
      "[1, 0] <class 'list'> 4513520048\n",
      "[0, 0] <class 'list'> 4514183280\n",
      "[1, 1] <class 'list'> 4513931008\n",
      "[0, 1] <class 'list'> 4513931008 \n",
      "\n"
     ]
    }
   ],
   "source": [
    "# affectation de non-mutables\n",
    "a = 1\n",
    "print(\"a:\", a, type(a), id(a))\n",
    "b = a\n",
    "print(\"b:\", b, type(b), id(b))\n",
    "b = 2\n",
    "print(\"b:\", b, type(b), id(b), \"\\n\")\n",
    "\n",
    "# affectation de non-mutables\n",
    "s = \"aagskjhdsqgf qkdhqhq \"\n",
    "print('s:', s, type(s), id(s))\n",
    "s2 = s\n",
    "print('s2', s2, type(s2), id(s2))\n",
    "s2 = \"a\"\n",
    "print('s2', s2, type(s2), id(s2), \"\\n\")\n",
    "\n",
    "# affectation et modification de mutables\n",
    "l = [0,0]\n",
    "print(l, type(l), id(l))\n",
    "t = l\n",
    "print(t, type(t), id(t))\n",
    "l = [1, 0]\n",
    "print(l, type(l), id(l))\n",
    "print(t, type(t), id(t))\n",
    "t = [1,1]\n",
    "print(t, type(t), id(t))\n",
    "t[0] = 0\n",
    "print(t, type(t), id(t), \"\\n\")\n",
    "\n"
   ]
  },
  {
   "cell_type": "markdown",
   "metadata": {},
   "source": [
    "**Remarque.**\n",
    "Les premiers traitements (repris ici) :"
   ]
  },
  {
   "cell_type": "code",
   "execution_count": 8,
   "metadata": {},
   "outputs": [],
   "source": [
    "# affectation de non-mutables\n",
    "a = 1\n",
    "b = a\n",
    "\n",
    "s = \"aagskjhdsqgf qkdhqhq \"\n",
    "s2 = s\n",
    "\n",
    "# affectation de mutables\n",
    "l = [0,0]\n",
    "t = l"
   ]
  },
  {
   "cell_type": "markdown",
   "metadata": {},
   "source": [
    "vérifient :"
   ]
  },
  {
   "cell_type": "code",
   "execution_count": 9,
   "metadata": {},
   "outputs": [
    {
     "name": "stdout",
     "output_type": "stream",
     "text": [
      "True True True\n"
     ]
    }
   ],
   "source": [
    "print(\n",
    "    id(a) == id(b), \n",
    "    id(s) == id(s2),\n",
    "    id(l) == id(t)\n",
    "     )"
   ]
  },
  {
   "cell_type": "markdown",
   "metadata": {},
   "source": [
    "Ah ?!! Ca ne correspond pas à ce qui avait été décrit : l'affectation de non-mutable `x = y` était supposée créer un nouvel espace mémoire pour stocker la valeur pour `x` ... ???? "
   ]
  },
  {
   "cell_type": "markdown",
   "metadata": {},
   "source": [
    "Ici l'environnement _choisit d'économiser de la place en mémoire_ en ne dupliquant pas les valeurs non mutables : après affectation de l'une vers l'autre, elles ont la même valeur !  \n",
    "Une seule valeur est stockée et elle est référencée par 2 variables :  \n",
    "- la valeur non modifiée (à droite de l'affectation) est toujours référencée par \"sa\" variable  \n",
    "- la valeur modifiée (à gauche de l'affectation) référence aussi cette valeur.  \n",
    "\n",
    "Cette optimisation, similaire au traitement du cas non mutable, est un peu piégeuse pour la compréhension.  \n",
    "Cependant, elle est sans effet sur les instructions suivantes, comme cet exemple l'illustre. \n"
   ]
  },
  {
   "cell_type": "code",
   "execution_count": 10,
   "metadata": {},
   "outputs": [
    {
     "name": "stdout",
     "output_type": "stream",
     "text": [
      "a= 1 4479916960\n",
      "b= 1 4479916960\n",
      "pas de nouvel espace mémoire suite à b = a. \n",
      "\n",
      "a= 2 4479916992\n",
      "b= 1 4479916960\n",
      "a est modifié donc un nouvel espace mémoire est créé pour a. \n",
      "\n",
      "a= 3 4479917024\n",
      "a est encore modifié et un nouvel espace mémoire est encore créé.\n",
      "Un autre choix aurait été possible mais celui-ci est en cohérence avec le premier traitement observé.\n",
      "\n",
      "a= 5 4479917088\n",
      "a= 6 4479917120 bizarre : a += 1 devrait être effectué en place : cf. plus loin\n",
      "\n",
      "a= 3 4479917024\n",
      "b= 1 4479916960\n",
      "pas de surprise\n"
     ]
    }
   ],
   "source": [
    "# affectations de non-mutables -- épisode 2\n",
    "a = 1\n",
    "b = a\n",
    "print(\"a=\", a, id(a))\n",
    "print(\"b=\", b, id(b))\n",
    "print(\"pas de nouvel espace mémoire suite à b = a. \\n\")\n",
    "\n",
    "a = 2\n",
    "print(\"a=\", a, id(a))\n",
    "print(\"b=\", b, id(b))\n",
    "print(\"a est modifié donc un nouvel espace mémoire est créé pour a. \\n\")\n",
    "\n",
    "a = a + 1\n",
    "print(\"a=\", a, id(a))\n",
    "print(\"a est encore modifié et un nouvel espace mémoire est encore créé.\")\n",
    "print(\"Un autre choix aurait été possible mais celui-ci est en cohérence avec le premier traitement observé.\\n\")\n",
    "\n",
    "a = 5\n",
    "print(\"a=\", a, id(a))\n",
    "a += 1\n",
    "print(\"a=\", a, id(a), \"bizarre : a += 1 devrait être effectué en place : cf. plus loin\")\n",
    "print()\n",
    "\n",
    "a = b + 2\n",
    "print(\"a=\", a, id(a))\n",
    "print(\"b=\", b, id(b))\n",
    "print(\"pas de surprise\")"
   ]
  },
  {
   "cell_type": "markdown",
   "metadata": {},
   "source": [
    "### Affectation en python : compléments"
   ]
  },
  {
   "cell_type": "markdown",
   "metadata": {},
   "source": [
    "#### Modification partielle _vs._ modification complète d'un mutable\n",
    "\n",
    "<div class=\"alert alert-block alert-info\">\n",
    "\n",
    "On retiendra que la modification totale d'un objet mutable conduit à la création d'un nouvel emplacement en mémoire. \n",
    "    \n",
    "En revanche, <b>une modification partielle d'un objet mutable provoque un effet de bord</b>. \n",
    "\n",
    "</div>   "
   ]
  },
  {
   "cell_type": "markdown",
   "metadata": {},
   "source": [
    "Si l'objet est mutable alors sa modification **partielle** :\n",
    "* est effectuée \"en place\", c-a-d. à l'adresse mémoire occupée par l'objet.\n",
    "* Cette modification __est visible__ \"depuis\" les autres variables qui référencent (le cas échéant) cet objet. \n",
    "* C'est un **effet de bord**. "
   ]
  },
  {
   "cell_type": "code",
   "execution_count": 11,
   "metadata": {},
   "outputs": [
    {
     "name": "stdout",
     "output_type": "stream",
     "text": [
      "t = l\n",
      "[0, 0] 4514309856\n",
      "[0, 0] 4514309856\n",
      "modification partielle de l\n",
      "[2, 0] 4514309856\n",
      "[2, 0] 4514309856\n",
      "modification totale de l\n",
      "[4, 3] 4514310256\n",
      "[2, 0] 4514309856\n",
      "modifications de l par ses méthodes (aspects POO)\n",
      "[3, 4] 4514310256\n",
      "[3, 4] 4514310256\n",
      "[4, 3] 4514310256\n",
      "[4, 3] 4514310256\n",
      "[4, 11, 3] 4514310256\n",
      "[4, 11, 3] 4514310256\n"
     ]
    }
   ],
   "source": [
    "# affectation de mutables\n",
    "l = [0,0]\n",
    "t = l\n",
    "\n",
    "print(\"t = l\")\n",
    "print(l, id(l))\n",
    "print(t, id(t))\n",
    "\n",
    "print(\"modification partielle de l\")\n",
    "l[0] = 2\n",
    "print(l, id(l))\n",
    "print(t, id(t))\n",
    "\n",
    "print(\"modification totale de l\")\n",
    "l = [4,3]\n",
    "print(l, id(l))\n",
    "print(t, id(t))\n",
    "\n",
    "print(\"modifications de l par ses méthodes (aspects POO)\")\n",
    "t = l\n",
    "l.sort()\n",
    "print(l, id(l))\n",
    "print(t, id(t))\n",
    "l.reverse()\n",
    "print(l, id(l))\n",
    "print(t, id(t))\n",
    "l.insert(1,11)\n",
    "print(l, id(l))\n",
    "print(t, id(t))\n",
    "\n",
    "\n"
   ]
  },
  {
   "cell_type": "markdown",
   "metadata": {},
   "source": [
    "#### Comment dupliquer (re-copier) un objet mutable et obtenir 2 objets différents en mémoire ?\n",
    "\n",
    "Il faut :\n",
    "- réaliser une copie avec la fonction `copy()` du module `copy`\n",
    "- modifier _l'ensemble_ de l'objet :\n",
    "    - en créant des tranches complètes de listes : `m[:] = l` ou `m[0,len(l)] = l` \n",
    "    \n",
    "La duplication est motivée pour distinguer des traitements différents de l'un ou de l'autre objet.  \n",
    "\n"
   ]
  },
  {
   "cell_type": "code",
   "execution_count": 12,
   "metadata": {},
   "outputs": [
    {
     "name": "stdout",
     "output_type": "stream",
     "text": [
      "par référence\n",
      "l= [1, 2, 3]  == m= [1, 2, 3]\n",
      "l= [5, 2, 3]  == m= [5, 2, 3]\n",
      "l= [5, 2, 3]  =/ m= [5, 5, 5]\n",
      "par copie\n",
      "l= [5, 2, 3] == m= [5, 2, 3]  == mm= [5, 2, 3]  == m_copy= [5, 2, 3]\n",
      "l= [0, 2, 3] =/ m= [5, 2, 3]  == mm= [5, 2, 3]  == m_copy= [5, 2, 3]\n",
      "l= [0, 0, 0] =/ m= [5, 2, 3]  == mm= [5, 2, 3]  == m_copy= [5, 2, 3]\n"
     ]
    }
   ],
   "source": [
    "import copy\n",
    "# affectations et modifications d'objets mutables\n",
    "# une liste est mutable\n",
    "l = [1, 2, 3]\n",
    "\n",
    "# initialisation par référence -> pas de duplication\n",
    "print(\"par référence\")\n",
    "m = l\n",
    "print(\"l=\",l, \" == m=\",m)\n",
    "\n",
    "# la modification (partielle) de l impacte aussi m\n",
    "l[0] = 5\n",
    "print(\"l=\",l, \" == m=\",m)\n",
    "\n",
    "# la modification complète de l n'impacte pas m\n",
    "# rmq: c'est une initialisation qui créé un nouvel emplacement mémoire\n",
    "m = [5, 5, 5]\n",
    "print(\"l=\",l, \" =/ m=\",m)\n",
    "\n",
    "\n",
    "# affectation avec copie explicite \n",
    "print(\"par copie\")\n",
    "# par tranches complètes\n",
    "m = l[0:len(l)]\n",
    "mm = l[:]\n",
    "\n",
    "# par copy\n",
    "m_copy = copy.copy(l)\n",
    "\n",
    "print(\"l=\",l,\"== m=\",m,\" == mm=\",mm,\" == m_copy=\",m_copy)\n",
    "\n",
    "l[0]=0\n",
    "print(\"l=\", l,\"=/ m=\",m,\" == mm=\",mm,\" == m_copy=\",m_copy)\n",
    "l = [0, 0, 0]\n",
    "print(\"l=\",l, \"=/ m=\",m,\" == mm=\",mm,\" == m_copy=\",m_copy)"
   ]
  },
  {
   "cell_type": "code",
   "execution_count": 13,
   "metadata": {},
   "outputs": [
    {
     "name": "stdout",
     "output_type": "stream",
     "text": [
      "4513638512 Jo\n",
      "\n",
      "4514241664 ['Jo']\n",
      "4513638512 Jo\n",
      "\n",
      "affectation par référence (pas de duplication)\n",
      "4514241664 ['Jo', 'Jack']\n",
      "4514241664 ['Jo', 'Jack']\n",
      "4513636720 Averell\n",
      "\n",
      "Averell ['Jo', 'Jack'] ['Jo', 'Jack']\n"
     ]
    }
   ],
   "source": [
    "# les strings sont non-mutables\n",
    "# les lists sont mutables\n",
    "\n",
    "un_dalton = \"Jo\" #string\n",
    "print(id(un_dalton), un_dalton)\n",
    "print()\n",
    "\n",
    "les_dalton = []    #list\n",
    "les_dalton.append(un_dalton)\n",
    "print(id(les_dalton), les_dalton)\n",
    "print(id(les_dalton[0]), les_dalton[0])\n",
    "print()\n",
    "\n",
    "print(\"affectation par référence (pas de duplication)\")\n",
    "les_freres_dalton = les_dalton #affectation par reference (pas de duplication)\n",
    "les_freres_dalton.append('Jack')\n",
    "un_dalton = 'Averell'\n",
    "\n",
    "print(id(les_dalton), les_dalton)\n",
    "#print(id(les_dalton[0]), les_dalton[0])\n",
    "print(id(les_freres_dalton), les_freres_dalton)\n",
    "print(id(un_dalton), un_dalton)\n",
    "print()\n",
    "\n",
    "print (un_dalton, les_dalton, les_freres_dalton)"
   ]
  },
  {
   "cell_type": "code",
   "execution_count": 14,
   "metadata": {},
   "outputs": [
    {
     "name": "stdout",
     "output_type": "stream",
     "text": [
      "4513638512 Jo\n",
      "4514309056 ['Jo']\n",
      "4513638512 Jo\n",
      "\n",
      "affectation avec duplication\n",
      "4514309056 ['Jo']\n",
      "4514241664 ['Jo']\n",
      "\n",
      "4514309056 ['Jo', 'Averell']\n",
      "4514241664 ['Jo', 'Jack']\n",
      "Averell ['Jo', 'Averell'] ['Jo', 'Jack']\n"
     ]
    }
   ],
   "source": [
    "un_dalton = \"Jo\" #string\n",
    "print(id(un_dalton), un_dalton)\n",
    "les_dalton = []    #list\n",
    "les_dalton.append(un_dalton)  # rmq : modification SANS d'affectation\n",
    "print(id(les_dalton), les_dalton)\n",
    "print(id(les_dalton[0]), les_dalton[0])\n",
    "print()\n",
    "\n",
    "print(\"affectation avec duplication\")\n",
    "les_freres_dalton[:] = les_dalton # [:] permet de dupliquer !\n",
    "print(id(les_dalton), les_dalton)\n",
    "print(id(les_freres_dalton), les_freres_dalton)\n",
    "print()\n",
    "\n",
    "les_freres_dalton.append('Jack')\n",
    "un_dalton = \"Averell\"\n",
    "les_dalton.append(un_dalton) # rmq : modification SANS d'affectation\n",
    "print(id(les_dalton), les_dalton)\n",
    "print(id(les_freres_dalton), les_freres_dalton)\n",
    "\n",
    "print (un_dalton, les_dalton, les_freres_dalton)"
   ]
  },
  {
   "cell_type": "markdown",
   "metadata": {},
   "source": [
    "#### Des subtilités pour `x += 1` _vs._ `x = x + 1` \n",
    "\n",
    "La composition d'une affectation et d'un opérateur binaire (ici celui associé au symbole '+')  est appelé une _affectation augmentée_.  \n",
    "\n",
    "Le [manuel de référence du python3](https://docs.python.org/fr/3/reference/simple_stmts.html#index-6) indique en **section 7.2.1** : \n",
    "> An augmented assignment expression like x += 1 can be rewritten as x = x + 1 to achieve a __similar, but not exactly equal effect__. In the augmented version, x is only evaluated once. Also, when possible, the actual operation is performed __in-place__, meaning that rather than creating a new object and assigning that to the target, the old object is modified instead.\n",
    "\n",
    "Nous n'avons pourtant pas pu constater cette modification en place pour `a += 1`  dans l'exemple plus haut. \n",
    "Mystère ? \n",
    "\n",
    "L'exemple suivant montre encore que le caractère mutable ou non d'une variable modifie tout ce qui comporte une affectation."
   ]
  },
  {
   "cell_type": "code",
   "execution_count": 15,
   "metadata": {},
   "outputs": [
    {
     "name": "stdout",
     "output_type": "stream",
     "text": [
      "4479916928 4479917280\n",
      "4479916960 4479917312\n",
      "4514308336 4514182160\n",
      "4514308336 4514308736\n"
     ]
    }
   ],
   "source": [
    "# a et b non mutables\n",
    "a = 0\n",
    "b = 11\n",
    "print(id(a), id(b))\n",
    "\n",
    "a += 1\n",
    "b = b + 1\n",
    "print(id(a), id(b))\n",
    "\n",
    "# a et b mutables\n",
    "a = [0]\n",
    "b = [11]\n",
    "print(id(a), id(b))\n",
    "\n",
    "a += [1]\n",
    "b = b + [1]\n",
    "print(id(a), id(b))"
   ]
  },
  {
   "cell_type": "markdown",
   "metadata": {},
   "source": [
    "L'affectation augmentée de la liste (mutable) `a` est bien effectuée en place.\n",
    "Le traitement sur la liste `b`, \"similaire mais pas exactement égal\" (!) utilise un nouvel espace de stockage pour la nouvelle valeur de `b`.\n",
    "\n",
    "Ces traitements sont \"exactement égaux\" (!) lorsqu'ils sont appliqués à des entiers (non mutables) : création d'un nouvel espace de stockage. \n",
    "\n",
    "Et tout ceci est bien cohérent si on relit **bien** ce qu'indique le manuel : \n",
    "> _Also, **when possible**, the actual operation is performed in-place, ..._\n",
    "\n",
    "Comme nous l'avons rappelé en Section 1.3.2, la modification d'une variable _non mutable_ implique la création d'un nouvel emplacement mémoire, _i.e._ d'une nouvelle variable mais de même identifiant. Ce qui n'est pas le cas pour une modification partielle d'une variable mutable."
   ]
  },
  {
   "cell_type": "markdown",
   "metadata": {},
   "source": [
    "**($\\star)$ Rmq.** Il faudrait aller encore un peu plus loin dans l'analyse de l'affectation augmentée. \n",
    "\n",
    "En effet, que penser de `x += f(x)` où `f(x)` lui-même peut modifier `x`, voire même le modifier avec une affectation augmentée ?\n",
    "\n",
    "Les exemples suivants illustrent différents cas de ce type. Attendre la section 1.4 suivante qui clarifie le passage de paramètres selon le caractère mutable ou non de l'argument avant de les regarder plus en détail. \n",
    "\n",
    "On retiendra surtout cet extrait de la documentation python (version française, section 1.7.2) :\n",
    "> Au contraire des assignations normales, les assignations augmentées **évaluent la partie gauche avant d'évaluer la partie droite**. Par exemple, a[i] += f(x) commence par s'intéresser à a[i], puis Python évalue f(x), effectue l'addition et, enfin, écrit le résultat dans a[i]."
   ]
  },
  {
   "cell_type": "code",
   "execution_count": 16,
   "metadata": {},
   "outputs": [
    {
     "name": "stdout",
     "output_type": "stream",
     "text": [
      "2 4479916992\n",
      "id dans f -- t: 4479917056 , u:  4479916992\n",
      "4 4479917056\n",
      "[10] 4514308336\n",
      "id dans f -- t: 4514238544 , u:  4514308336\n",
      "[10, 10] 4514308336\n"
     ]
    }
   ],
   "source": [
    "def f(t : int or list) -> int or list:\n",
    "    '''t en modifié localement mais pas \"returné\"'''\n",
    "    u = t\n",
    "    t = t + t\n",
    "    print(\"id dans f -- t:\", id(t), \", u: \", id(u) )\n",
    "    return u\n",
    "\n",
    "a = 2\n",
    "print(a, id(a))\n",
    "a += f(a)\n",
    "print(a, id(a))\n",
    "\n",
    "l = [10]\n",
    "print(l, id(l))\n",
    "l += f(l)\n",
    "print(l, id(l))\n"
   ]
  },
  {
   "cell_type": "code",
   "execution_count": 17,
   "metadata": {},
   "outputs": [
    {
     "name": "stdout",
     "output_type": "stream",
     "text": [
      "2 4479916992\n",
      "id dans f -- t: 4479917056 , u:  4479916992\n",
      "6 4479917120\n",
      "[10] 4514120640\n",
      "id dans f -- t: 4514308336 , u:  4514120640\n",
      "[10, 10, 10] 4514120640\n"
     ]
    }
   ],
   "source": [
    "def f(t : int or list) -> int or list:\n",
    "    '''t en modifié localement et renvoyé'''\n",
    "    u = t\n",
    "    t = t + t\n",
    "    print(\"id dans f -- t:\", id(t), \", u: \", id(u) )\n",
    "    return t\n",
    "\n",
    "a = 2\n",
    "print(a, id(a))\n",
    "a += f(a)\n",
    "print(a, id(a))\n",
    "\n",
    "l = [10]\n",
    "print(l, id(l))\n",
    "l += f(l)\n",
    "print(l, id(l))\n"
   ]
  },
  {
   "cell_type": "code",
   "execution_count": null,
   "metadata": {},
   "outputs": [],
   "source": []
  },
  {
   "cell_type": "markdown",
   "metadata": {},
   "source": [
    "## ($\\star$) Fonctions : aspects avancés"
   ]
  },
  {
   "cell_type": "markdown",
   "metadata": {},
   "source": [
    "<div class=\"alert alert-block alert-success\">\n",
    "    Cette section relève de <b>l'objectif 20</b>\n",
    "</div>"
   ]
  },
  {
   "cell_type": "markdown",
   "metadata": {},
   "source": [
    "Nous allons étudier plus en détail le passage des paramètres de fonction en python.  \n",
    "\n",
    "On a écrit :\n",
    "\n",
    ">python : passage $\\Leftrightarrow$ **affectation**\n",
    "\n",
    "En effet, le passage de paramètre correspond à l'affectation :\n",
    "> `paramètre formel = paramètre effectif`  \n",
    "\n",
    "On a détaillé que le mécanisme de ce type d'affectation (copie vs. référence) dépendait du caratère mutable (référence) ou non-mutable (copie) des objets. "
   ]
  },
  {
   "cell_type": "markdown",
   "metadata": {},
   "source": [
    "**Rappel** \n",
    "\n",
    "Le [tutoriel python.org](https://docs.python.org/fr/3/tutorial/controlflow.html#id2) dit :\n",
    "> Les paramètres effectifs (arguments) d'une fonction sont introduits dans la table de symboles locale de la fonction appelée lorsqu'elle est appelée ; par conséquent, __les passages de paramètres__ se font par valeur, la valeur étant toujours une __référence à un objet__, et non la valeur de l'objet lui-même.\n",
    "\n",
    "Ce traitement est similaire à celui de l'_affectation_ en python décrit\n",
    "[plus haut](#revisiter_les_variables_et_l_'_affectation).\n",
    "Ce qui donne les 2 cas suivants."
   ]
  },
  {
   "cell_type": "markdown",
   "metadata": {},
   "source": [
    "### Le paramètre est de type non-mutable\n",
    "\n",
    " * transmission de la _valeur_ de l'argument effectif \n",
    " * argument formel _similaire à_ une variable locale de la fonction\n",
    " * à l'extérieur de la fonction : pas de modification de la variable passée en argument "
   ]
  },
  {
   "cell_type": "code",
   "execution_count": 18,
   "metadata": {},
   "outputs": [
    {
     "name": "stdout",
     "output_type": "stream",
     "text": [
      "avant les appels: u= 0 , y= 0.0\n",
      "\n",
      "f(u)= 1\n",
      "g(y)= 1.0\n",
      "\n",
      "après les appels: u= 0 , y= 0.0\n",
      "\n"
     ]
    }
   ],
   "source": [
    "# fonctions et paramètres de type non-mutable\n",
    "def f(x : int) -> int:\n",
    "    '''retourne une variable locale'''\n",
    "    r = x + 1 \n",
    "    return r\n",
    "\n",
    "def g(x : float) -> float:\n",
    "    '''retourne le paramètre formel modifié'''\n",
    "    x = x + 1\n",
    "    return x\n",
    "\n",
    "u = 0\n",
    "y = 0.0\n",
    "\n",
    "print(\"avant les appels:\", \"u=\",u, \", y=\", y)\n",
    "print()\n",
    "\n",
    "print(\"f(u)=\", f(u))\n",
    "print(\"g(y)=\", g(y))\n",
    "print()\n",
    "\n",
    "print(\"après les appels:\", \"u=\",u, \", y=\", y)\n",
    "print()\n"
   ]
  },
  {
   "cell_type": "markdown",
   "metadata": {},
   "source": [
    "- Les valeurs de `u` et `y` sont bien inchangées dans l'appelant bien que `y` soit un paramètre d'entrée modifié et retourné dans `g`.  Il faut voir ces paramètres formels comme des variables locales.  \n",
    "\n",
    "- Bien sûr, il manque dans l'appelant une affectation du retour de la fonction."
   ]
  },
  {
   "cell_type": "code",
   "execution_count": 19,
   "metadata": {},
   "outputs": [
    {
     "name": "stdout",
     "output_type": "stream",
     "text": [
      "0.0\n",
      "1.0\n",
      "False\n"
     ]
    }
   ],
   "source": [
    "y = 0.0\n",
    "print(y)\n",
    "y = g(y)\n",
    "print(y)\n",
    "print(y == g(y))"
   ]
  },
  {
   "cell_type": "markdown",
   "metadata": {},
   "source": [
    "- **Attention au `print(appel de f)` !** \n",
    "\n",
    "**Exercice**. Expliquer pourquoi c'est normal !"
   ]
  },
  {
   "cell_type": "markdown",
   "metadata": {},
   "source": [
    "### Le paramètre de type mutable\n",
    "\n",
    " * transmission de _l'adresse_ de l'argument effectif \n",
    " * l'argument effectif est _ainsi_ la variable extérieure à la fonction\n",
    "     * il _peut_ donc y avoir modification de la valeur dans l'appelant de la variable passée en argument même si celle-ci n'est pas retournée par la fonction. C'est un _effet de bord._\n"
   ]
  },
  {
   "cell_type": "code",
   "execution_count": 20,
   "metadata": {},
   "outputs": [
    {
     "name": "stdout",
     "output_type": "stream",
     "text": [
      "avant appel:\n",
      "l= [0, 1] ll= [0, 1] , m= [0, 1] mm= [0, 1]\n",
      "id : l= 4514182880 , ll= 4514182880 , m= 4513252368 , mm= 4514024736\n",
      "\n",
      "appel avec affectation l = f(l):\n",
      "l= [0, 1, 0, 1] ll= [0, 1] , m= [0, 1]\n",
      "id : l= 4514309696 , ll= 4514182880 , m= 4513252368\n",
      "\n"
     ]
    }
   ],
   "source": [
    "# fonction et paramètres de type mutable\n",
    "def f(x : list) -> list:\n",
    "    '''extension d'une liste avec duplication de ses valeurs\n",
    "    l'utilisation pythonique du symbole * est quand même maladroite pour ce type de traitement\n",
    "    '''\n",
    "    x = x * 2\n",
    "    return x\n",
    "\n",
    "l = [0,1]\n",
    "ll = l   # même référence\n",
    "#m = []  # création\n",
    "m[:] = l # duplication \n",
    "mm = l[:] # création+duplication\n",
    "\n",
    "print(\"avant appel:\")\n",
    "print(\"l=\",l, \"ll=\",ll, \", m=\", m,  \"mm=\", mm)\n",
    "print(\"id : l=\", id(l), \", ll=\",id(ll), \", m=\", id(m), \", mm=\", id(mm))\n",
    "print()\n",
    "\n",
    "l = [0,1]\n",
    "print(\"appel avec affectation l = f(l):\")\n",
    "l = f(l)\n",
    "print(\"l=\",l, \"ll=\",ll, \", m=\", m)\n",
    "print(\"id : l=\",id(l), \", ll=\",id(ll), \", m=\", id(m))\n",
    "print()\n"
   ]
  },
  {
   "cell_type": "markdown",
   "metadata": {},
   "source": [
    "**Exercice**\n",
    "\n",
    "1. Dans le premier appel (avec affectation vers `l`), pourquoi `ll` qui est (était) une référence vers `l` n'est pas modifiée ?\n"
   ]
  },
  {
   "cell_type": "markdown",
   "metadata": {},
   "source": [
    "L'appel avec affectation (dans `l`) n'a pas eu d'effet (de bord) sur l'autre référence (`ll`), ni bien sûr sur les variables dupliquées.\n",
    "C'est pourtant bien la référence de l'argument effectif qui est connue de l'appel de la fonction. \n",
    "\n",
    "Ici, la fonction **modifie complètement** ce paramètre mutable. Une nouvelle variable locale est donc créée et renvoyée. L'affectation (même dans la variable fournie comme argument d'entrée) effectue la mise à jour de la variable affectée.   "
   ]
  },
  {
   "cell_type": "markdown",
   "metadata": {},
   "source": [
    "**Attention**\n",
    "\n",
    "Les écritures approximatives de fonction (sans `return`) ou les appels sans affectation du résultat (à la procédure) peuvent être dangereux. \n",
    "\n",
    "**pythontutor.** [L'exécution suivante](http://pythontutor.com/visualize.html#code=%23%20fonctions%20sans%20annotation%20de%20type%20pour%20l'exemple%0Adef%20f%28x%29%20%3A%0A%20%20%20%20x%20%3D%20x%20*%202%0A%20%20%20%20return%20x%0A%0Adef%20g%28x%29%20%3A%0A%20%20%20%20x%20%3D%20x%20*%202%0A%0Adef%20h%28x%29%3A%0A%20%20%20%20x%5B0%5D%20%3D%20777%0A%20%20%20%20%20%20%20%20%0Au%20%3D%203%0At%20%3D%20%5B1,%202%5D%0A%0A%23%20appel%20f%20%28modification%20complete%20avec%20return%29%20sans%20affectation%0Af%28u%29%0Af%28t%29%0A%0A%23%20appel%20g%20%28sans%20return%20explicite%29%20et%20sans%20affectation%0Ag%28u%29%0Ag%28t%29%0A%0A%23%20appel%20h%20%28modification%20partielle%29%20sans%20affectation%0Ah%28t%29&cumulative=false&heapPrimitives=nevernest&mode=edit&origin=opt-frontend.js&py=3&rawInputLstJSON=%5B%5D&textReferences=false)\n",
    "est une fois de plus instructive. "
   ]
  },
  {
   "cell_type": "markdown",
   "metadata": {},
   "source": [
    "Un comportement similaire est obtenu lorsque la fonction manipule un paramètre objet par ses méthodes. L'exemple suivant illustre ce cas."
   ]
  },
  {
   "cell_type": "code",
   "execution_count": 21,
   "metadata": {},
   "outputs": [
    {
     "name": "stdout",
     "output_type": "stream",
     "text": [
      "l, ll, m\n",
      "[0, 0] <class 'list'> 4514371136\n",
      "[0, 0] <class 'list'> 4514371136\n",
      "[0, 0] <class 'list'> 4514309696\n",
      "\n",
      "appel sans affectation du retour: g(l)\n",
      "print g(l)= None\n",
      "l= [0, 0, 1] ll= [0, 0, 1] , m= [0, 0]\n",
      "id= 4514371136 id= 4514371136 , id= 4514309696\n",
      "\n",
      "appel avec affectation: l = g(l)\n",
      "l= None ll= [0, 0, 1, 1] , m= [0, 0]\n",
      "id= 4479614392 id= 4514371136 , id= 4514309696\n",
      "\n",
      "appel avec affectation m = g(l):\n",
      "l= [0, 0, 1] ll= [0, 0, 1, 1] , m= None\n",
      "id= 4514371536 id= 4514371136 , id= 4479614392\n",
      "\n"
     ]
    }
   ],
   "source": [
    "# procedure : methode et paramètres de type mutable\n",
    "def g(x : list) -> None:\n",
    "    '''appel d'une méthode sur un objet mutable'''\n",
    "    x.append(1)\n",
    "    #return None\n",
    "\n",
    "l = [0,0]\n",
    "ll = l   # même objet\n",
    "m = l[:] # duplication\n",
    "\n",
    "#observons\n",
    "s = (l,ll,m)\n",
    "print(\"l, ll, m\")\n",
    "for x in iter(s):\n",
    "    print(x, type(x), id(x))\n",
    "print()\n",
    "\n",
    "print(\"appel sans affectation du retour: g(l)\")\n",
    "print(\"print g(l)=\", g(l))\n",
    "print(\"l=\",l, \"ll=\",ll,\", m=\", m)\n",
    "print(\"id=\",id(l), \"id=\",id(ll), \", id=\", id(m))\n",
    "print()\n",
    "\n",
    "print(\"appel avec affectation: l = g(l)\")\n",
    "l = g(l)\n",
    "print(\"l=\",l, \"ll=\",ll, \", m=\", m)\n",
    "print(\"id=\",id(l), \"id=\",id(ll), \", id=\", id(m))\n",
    "print()\n",
    "\n",
    "\n",
    "print(\"appel avec affectation m = g(l):\")\n",
    "l = [0,0]\n",
    "m = g(l)\n",
    "print(\"l=\",l, \"ll=\",ll, \", m=\", m)\n",
    "print(\"id=\",id(l), \"id=\",id(ll), \", id=\", id(m))\n",
    "print()\n"
   ]
  },
  {
   "cell_type": "markdown",
   "metadata": {},
   "source": [
    "ATTENTION : c'est bien piégeux ! \n",
    "    \n",
    "Retenons pour l'instant, c-a-d. tant qu'on ne manipule pas d'objet.\n",
    "    \n",
    "- Le passage de paramètre s'effectue : \n",
    "    - par valeur pour des non-mutables  \n",
    "    - par adresse  pour des mutables,    \n",
    "- et ce conformément aux mécanismes d'affectation :  \n",
    "    - copie pour des non-mutables  \n",
    "    - référence pour des mutables. \n",
    "- Les paramètres formels sont équivalents à des variables locales.  \n",
    "- L'affectation avec `return` **doit** (devrait) être le seul effet dans l'appelant."
   ]
  },
  {
   "cell_type": "markdown",
   "metadata": {},
   "source": [
    "<div class=\"alert alert-danger\">\n",
    "    \n",
    "<b>Attention</b> aux modifications partielles de paramètres effectifs mutables.  \n",
    "    \n",
    "</div>"
   ]
  },
  {
   "cell_type": "markdown",
   "metadata": {},
   "source": [
    "**Rmq.** Sur ce point, on trouve de tout sur internet et même les ouvrages (dont certains sont dispos à la BU). J'ai lu :\n",
    "\n",
    "- c'est du passage par référence  \n",
    "- c'est du passage par valeur\n",
    "- c'est un mélange des 2 \n",
    "- c'est aucun des deux ...  \n",
    "\n",
    "\n",
    "**Exemple.** Retour sur une fonction de permutation de 2 entiers ... ? "
   ]
  },
  {
   "cell_type": "code",
   "execution_count": 22,
   "metadata": {},
   "outputs": [
    {
     "name": "stdout",
     "output_type": "stream",
     "text": [
      "avant : a,b = 1 11\n",
      "après : a,b = 11 1\n",
      "avant fonction : a,b = 1 11\n",
      "dans permuter, avant x,y : 1 11\n",
      "dans permuter, après x,y : 11 1\n",
      "après fonction : a,b = 1 11\n"
     ]
    }
   ],
   "source": [
    "a = 1\n",
    "b = 11\n",
    "\n",
    "print(\"avant : a,b =\", a, b)\n",
    "t = a\n",
    "a = b\n",
    "b = t\n",
    "print(\"après : a,b =\", a, b)\n",
    "\n",
    "def permuter(x, y: int) -> None:\n",
    "    ''' attention : \n",
    "    les print dans cette fonction sont uniquement à but pédagogique\n",
    "    '''\n",
    "    print(\"dans permuter, avant x,y :\", x, y)\n",
    "    t = x\n",
    "    x = y\n",
    "    y = t\n",
    "    print(\"dans permuter, après x,y :\", x, y)\n",
    "    #return x, y\n",
    "    \n",
    "# marche pas !\n",
    "a = 1\n",
    "b = 11\n",
    "print(\"avant fonction : a,b =\", a, b)\n",
    "permuter(a, b)\n",
    "print(\"après fonction : a,b =\", a, b)\n"
   ]
  },
  {
   "cell_type": "markdown",
   "metadata": {},
   "source": [
    "### (Optionnel) Avoir les `id ` claires !\n",
    "\n",
    "Reprenons les observations précédentes effectuées grâce à pythontutor avec un focus particulier sur cette fonction `id()`. \n",
    "Cette fonction peut être très utile pour _debugger_ un développement qui ne fonctionne pas correctement. \n",
    "\n",
    "#### Utilisons les `id()` avec les mutables"
   ]
  },
  {
   "cell_type": "code",
   "execution_count": 23,
   "metadata": {},
   "outputs": [
    {
     "name": "stdout",
     "output_type": "stream",
     "text": [
      "avant les appels:\n",
      "l= [0, 0] ll= [0, 0] m= [0, 0]\n",
      "@l= 4514239504 @ll= 4514239504 @m= 4514371536\n",
      "\n",
      "appel sans affectation du retour:\n",
      "main: @l= 4514239504\n",
      "  f avant : @= 4514239504\n",
      "  f après : @=  4514238704\n",
      "  f avant : @= 4514239504\n",
      "  f après : @=  4514241904\n",
      "print f(l)= [0, 0, 0, 0] @f(l)= 4514241904\n",
      "l= [0, 0] ll= [0, 0] , m= [0, 0]\n",
      "@l= 4514239504 @ll= 4514239504 @m= 4514371536\n",
      "\n",
      "appel avec affectation l = f(l):\n",
      "  f avant : @= 4514239504\n",
      "  f après : @=  4514242224\n",
      "main: @l(après l=f(l))= 4514242224\n",
      "l= [0, 0, 0, 0] ll= [0, 0] , m= [0, 0]\n",
      "@l= 4514242224 @ll= 4514239504 @m= 4514371536\n",
      "\n"
     ]
    }
   ],
   "source": [
    "# fonction et paramètres de type mutable\n",
    "def f(x: int) -> int:\n",
    "    print(\"  f avant : @=\", id(x))\n",
    "    x = x * 2\n",
    "    print(\"  f après : @= \", id(x))\n",
    "    return x\n",
    "\n",
    "l = [0,0]\n",
    "ll = l   # même référence\n",
    "m = l[:] # duplication\n",
    "\n",
    "print(\"avant les appels:\")\n",
    "print(\"l=\",l, \"ll=\",ll, \"m=\", m)\n",
    "print(\"@l=\",id(l), \"@ll=\",id(ll), \"@m=\",id(m))\n",
    "print()\n",
    "\n",
    "print(\"appel sans affectation du retour:\")\n",
    "print(\"main: @l=\", id(l))\n",
    "print(\"print f(l)=\", f(l), \"@f(l)=\", id(f(l)))\n",
    "print(\"l=\",l, \"ll=\",ll,\", m=\", m)\n",
    "print(\"@l=\",id(l), \"@ll=\",id(ll), \"@m=\",id(m))\n",
    "print()\n",
    "\n",
    "print(\"appel avec affectation l = f(l):\")\n",
    "l = f(l)\n",
    "print(\"main: @l(après l=f(l))=\", id(l))\n",
    "print(\"l=\",l, \"ll=\",ll, \", m=\", m)\n",
    "print(\"@l=\",id(l), \"@ll=\",id(ll), \"@m=\",id(m))\n",
    "print()\n"
   ]
  },
  {
   "cell_type": "markdown",
   "metadata": {},
   "source": [
    "#### Utilisons les `id()` avec les non mutables "
   ]
  },
  {
   "cell_type": "code",
   "execution_count": 24,
   "metadata": {},
   "outputs": [
    {
     "name": "stdout",
     "output_type": "stream",
     "text": [
      "avant les appels:\n",
      "u= 0 @u= 4479916928\n",
      "\n",
      "appel sans affectation du retour:\n",
      "  f_r: avant @= 4479916928\n",
      "  f_r: après @= 4479916928\n",
      "  f_r: avant @= 4479916928\n",
      "  f_r: après @= 4479916928\n",
      "f(u)= 2 @f(u)= 4479916992\n",
      "u= 0 @u= 4479916928\n",
      "\n",
      "appel avec affectation du retour:\n",
      "  f_r: avant @= 4479916928\n",
      "  f_r: après @= 4479916928\n",
      "u après u=f(u)= 2 @u= 4479916992\n"
     ]
    }
   ],
   "source": [
    "# fonctions et paramètres de type non-mutable\n",
    "# f avec variable intermédiaire explicite\n",
    "u = 0\n",
    "\n",
    "def f(x: int) -> int:\n",
    "    print(\"  f_r: avant @=\", id(x))\n",
    "    r = x + 2\n",
    "    print(\"  f_r: après @=\", id(x))\n",
    "    return r\n",
    "\n",
    "def g(x: int) -> int:\n",
    "    print(\"  f_x: avant @=\", id(x))\n",
    "    x = x + 2\n",
    "    print(\"  f_x: après @=\", id(x))\n",
    "    return x\n",
    "\n",
    "def h(x: int) -> int:\n",
    "    print(\"  f_=: avant @=\", id(x))\n",
    "    x += 2\n",
    "    print(\"  f_=: après @=\", id(x))\n",
    "    return x\n",
    "\n",
    "print(\"avant les appels:\")\n",
    "print(\"u=\",u, \"@u=\", id(u))\n",
    "print()\n",
    "\n",
    "print(\"appel sans affectation du retour:\")\n",
    "print(\"f(u)=\", f(u), \"@f(u)=\", id(f(u)))\n",
    "print(\"u=\", u, \"@u=\", id(u))\n",
    "print()\n",
    "\n",
    "print(\"appel avec affectation du retour:\")\n",
    "u = f(u)\n",
    "print(\"u après u=f(u)=\", u, \"@u=\", id(u))\n"
   ]
  },
  {
   "cell_type": "code",
   "execution_count": 25,
   "metadata": {},
   "outputs": [
    {
     "name": "stdout",
     "output_type": "stream",
     "text": [
      "avant les appels:\n",
      "u= 1 @u= 4479916960\n",
      "\n",
      "appel sans affectation du retour:\n",
      "  f_x: avant @= 4479916960\n",
      "  f_x: après @= 4479917024\n",
      "  f_x: avant @= 4479916960\n",
      "  f_x: après @= 4479917024\n",
      "f(u)= 3 @f(u)= 4479917024\n",
      "u= 1 @u= 4479916960\n",
      "\n",
      "appel avec affectation du retour:\n",
      "  f_x: avant @= 4479916960\n",
      "  f_x: après @= 4479917024\n",
      "u après u=f(u)= 3 @u= 4479917024\n"
     ]
    }
   ],
   "source": [
    "# fonctions et paramètres de type non-mutable\n",
    "# f sans variable locale explicite\n",
    "u = 1\n",
    "\n",
    "def f(x: int) -> int:\n",
    "    print(\"  f_x: avant @=\", id(x))\n",
    "    x = x + 2\n",
    "    print(\"  f_x: après @=\", id(x))\n",
    "    return x\n",
    "\n",
    "print(\"avant les appels:\")\n",
    "print(\"u=\",u, \"@u=\", id(u))\n",
    "print()\n",
    "\n",
    "print(\"appel sans affectation du retour:\")\n",
    "print(\"f(u)=\", f(u), \"@f(u)=\", id(f(u)))\n",
    "print(\"u=\", u, \"@u=\", id(u))\n",
    "print()\n",
    "\n",
    "print(\"appel avec affectation du retour:\")\n",
    "u = f(u)\n",
    "print(\"u après u=f(u)=\", u, \"@u=\", id(u))\n"
   ]
  },
  {
   "cell_type": "code",
   "execution_count": 26,
   "metadata": {},
   "outputs": [
    {
     "name": "stdout",
     "output_type": "stream",
     "text": [
      "avant les appels:\n",
      "u= 0 @u= 4479916928\n",
      "\n",
      "appel sans affectation du retour:\n",
      "  f_=: avant @= 4479916928\n",
      "  f_=: après @= 4479916992\n",
      "  f_=: avant @= 4479916928\n",
      "  f_=: après @= 4479916992\n",
      "f(u)= 2 @f(u)= 4479916992\n",
      "u= 0 @u= 4479916928\n",
      "\n",
      "appel avec affectation du retour:\n",
      "  f_=: avant @= 4479916928\n",
      "  f_=: après @= 4479916992\n",
      "u après u=f(u)= 2 @u= 4479916992\n"
     ]
    }
   ],
   "source": [
    "# fonctions et paramètres de type non-mutable\n",
    "# f avec affectation composée\n",
    "u = 0\n",
    "\n",
    "def f(x : int) -> int:\n",
    "    print(\"  f_=: avant @=\", id(x))\n",
    "    x += 2\n",
    "    print(\"  f_=: après @=\", id(x))\n",
    "    return x\n",
    "\n",
    "print(\"avant les appels:\")\n",
    "print(\"u=\",u, \"@u=\", id(u))\n",
    "print()\n",
    "\n",
    "print(\"appel sans affectation du retour:\")\n",
    "print(\"f(u)=\", f(u), \"@f(u)=\", id(f(u)))\n",
    "print(\"u=\", u, \"@u=\", id(u))\n",
    "print()\n",
    "\n",
    "print(\"appel avec affectation du retour:\")\n",
    "u = f(u)\n",
    "print(\"u après u=f(u)=\", u, \"@u=\", id(u))\n"
   ]
  },
  {
   "cell_type": "markdown",
   "metadata": {},
   "source": [
    "## Les fonctions en python : derniers compléments faciles\n",
    "\n",
    "Deux compléments faciles (arguments nommés et argument avec valeur par défaut) ainsi qu'une courte liste de ce qu'il reste à découvrir ... pour les plus curieux.  "
   ]
  },
  {
   "cell_type": "markdown",
   "metadata": {},
   "source": [
    "###  Arguments nommés\n",
    "\n",
    "Lors de l'_appel_, nommer les paramètres _formels_ et la valeur correspondante de l'argument (effectif), permet un ordre quelconque de ceux-ci."
   ]
  },
  {
   "cell_type": "code",
   "execution_count": 27,
   "metadata": {},
   "outputs": [
    {
     "name": "stdout",
     "output_type": "stream",
     "text": [
      "Bonjour étudiantes et étudiants !\n",
      "Bonjour étudiantes et étudiants !\n"
     ]
    }
   ],
   "source": [
    "def trois_mots(mot1, mot2, mot3 : str) -> str:\n",
    "    return mot1 + mot2 + mot3\n",
    "\n",
    "m1 = 'Bonjour '\n",
    "m2 = 'étudiantes et '\n",
    "m3 = 'étudiants !'\n",
    "\n",
    "#appel par position\n",
    "m_classique = trois_mots(m1,m2,m3)\n",
    "\n",
    "# appel par nom\n",
    "m = trois_mots(mot3=m3, mot1=m1, mot2=m2) \n",
    "\n",
    "print(m_classique)\n",
    "print(m)"
   ]
  },
  {
   "cell_type": "markdown",
   "metadata": {},
   "source": [
    "###  Argument avec valeur par défaut\n",
    "\n",
    "Les _derniers_ paramètres formels peuvent bénéficier de valeurs par défaut  \n",
    "* derniers : tous à partir d'un rang arbitraire \n",
    "* les précédents sont sans valeur par défaut  \n",
    "\n",
    "Lors de l'_appel_, ces valeurs sont utilisées en cas d'absence des paramètres effectifs.\n",
    "\n",
    "Syntaxe : \n",
    "* Ces valeurs sont définies avec une affectation _après_ l'annotation de type.  \n",
    "* L'annotation raccourcie de types (une annotation commune à tous les paramètres)  ne peuvent être utilisées en cas d'argument avec valeur par défaut.\n",
    "\n",
    "<div class=\"alert alert-block alert-warning\">\n",
    "    \n",
    "En pratique, limiter les valeurs par défaut à des paramètres _non-mutables_ : `int`, `bool`, `float`, `str`,  `tuple`  \n",
    "\n",
    "</div>"
   ]
  },
  {
   "cell_type": "code",
   "execution_count": 28,
   "metadata": {},
   "outputs": [
    {
     "name": "stdout",
     "output_type": "stream",
     "text": [
      "a= 0\n",
      "a= 1\n",
      "2\n",
      "8\n",
      "Bonjour Madame, Monsieur.\n",
      "Au revoir très cher Monsieur.\n",
      "Au revoir Madame, et très cher Monsieur\n",
      "Au revoir les uns, et les autres.\n"
     ]
    }
   ],
   "source": [
    "def incrementer(x : int, y : int = 1) -> int:\n",
    "    return x + y\n",
    "\n",
    "def tournure_polie(mot1 : str, mot2 : str = \" Madame, \", mot3 : str = \"Monsieur.\" ) -> str:\n",
    "    return mot1 + mot2 + mot3\n",
    "\n",
    "a = 0\n",
    "print(\"a=\",a)\n",
    "a = incrementer(a)\n",
    "print(\"a=\",a)\n",
    "\n",
    "print(incrementer(a))\n",
    "print(incrementer(a, 7))\n",
    "\n",
    "print(tournure_polie('Bonjour'))\n",
    "print(tournure_polie('Au revoir', ' très cher '))\n",
    "print(tournure_polie('Au revoir', mot3 ='et très cher Monsieur'))\n",
    "print(tournure_polie('Au revoir ', \"les uns,\", ' et les autres.'))"
   ]
  },
  {
   "cell_type": "markdown",
   "metadata": {},
   "source": [
    "### Ce qu'il reste à voir sur les fonctions en python\n",
    "\n",
    " \n",
    "* Argument de type fonction  \n",
    "* Nombre variable d'arguments (tuple et dictionnaire)\n",
    "* Fonction comme valeur de première classe : `lambda` fonction\n"
   ]
  },
  {
   "cell_type": "markdown",
   "metadata": {},
   "source": [
    "## Synthèse\n",
    "\n",
    "### Avoir les idées claires \n",
    "\n",
    "- Les principes du passage de paramètres appelant <-> appelé   \n",
    "    * \"matériel\" : par valeur _vs._ par adresse\n",
    "    * logique : in _vs._ out _vs._ inout\n",
    "    * aide : différencier fonction _vs._ procédure \n",
    "- L'effet de bord est néfaste \n",
    "    - possible pour le passage par adresse, et les variables globales (à proscrire)\n",
    "- L'affectation et le passage de paramètres **en python**\n",
    "    - pas de surprise pour les non-mutables (= variables locales)  \n",
    "    - **attention aux mutables** : danger d'effet de bord _si modification partielle_ \n",
    "    - ne pas prendre de risque : `return` dans la fonction et affectation dans l'appelant \n",
    " \n",
    "### Savoir-faire en python \n",
    "    \n",
    "* Fonctions avec arguments nommés, avec paramètres par défaut.\n",
    "\n",
    "**Objectif 20**\n",
    "\n",
    "* Affectation en python   \n",
    "    - non-mutables : (référence à) la valeur\n",
    "    - mutables : (référence à) l'adresse\n",
    "    - attention aux mutables  : \n",
    "        modification partielles _vs._ duplication (par `copy.copy` ou par \"tranches complètes\") \n",
    "    - penser \"objet\" aide pour le comportement des mutables\n",
    "* Fonction et passage d'argument appelant/appelé en python : \n",
    "    - similaire à l'affectation : distinguer mutable _vs._ non mutable  \n",
    "* Savoir effectuer des introspections (fonction `id()`)\n"
   ]
  },
  {
   "cell_type": "raw",
   "metadata": {},
   "source": [
    "jupyter nbconvert --to html_embed --template toc2 7-fonctions-avancees.ipynb"
   ]
  }
 ],
 "metadata": {
  "kernelspec": {
   "display_name": "Python 3 (ipykernel)",
   "language": "python",
   "name": "python3"
  },
  "language_info": {
   "codemirror_mode": {
    "name": "ipython",
    "version": 3
   },
   "file_extension": ".py",
   "mimetype": "text/x-python",
   "name": "python",
   "nbconvert_exporter": "python",
   "pygments_lexer": "ipython3",
   "version": "3.9.6"
  },
  "latex_envs": {
   "LaTeX_envs_menu_present": true,
   "autoclose": false,
   "autocomplete": true,
   "bibliofile": "biblio.bib",
   "cite_by": "apalike",
   "current_citInitial": 1,
   "eqLabelWithNumbers": true,
   "eqNumInitial": 1,
   "hotkeys": {
    "equation": "Ctrl-E",
    "itemize": "Ctrl-I"
   },
   "labels_anchors": false,
   "latex_user_defs": false,
   "report_style_numbering": true,
   "user_envs_cfg": false
  },
  "toc": {
   "base_numbering": 1,
   "nav_menu": {
    "height": "341px",
    "width": "341px"
   },
   "number_sections": true,
   "sideBar": true,
   "skip_h1_title": false,
   "title_cell": "Table of Contents",
   "title_sidebar": "Contents",
   "toc_cell": true,
   "toc_position": {
    "height": "428px",
    "left": "75px",
    "right": "20px",
    "top": "110px",
    "width": "280px"
   },
   "toc_section_display": true,
   "toc_window_display": true
  }
 },
 "nbformat": 4,
 "nbformat_minor": 2
}
