{
 "cells": [
  {
   "cell_type": "markdown",
   "id": "ba12fa07",
   "metadata": {},
   "source": [
    "# Test de `pyplot` avec matrices de pixels\n",
    "\n",
    "On suit [realpython.com](https://realpython.com/python-matplotlib-guide/#a-burst-of-color-imshow-and-matshow)"
   ]
  },
  {
   "cell_type": "code",
   "execution_count": 39,
   "id": "ec8f8e59",
   "metadata": {
    "jupyter": {
     "source_hidden": true
    },
    "tags": []
   },
   "outputs": [
    {
     "name": "stdout",
     "output_type": "stream",
     "text": [
      "[[0, 21, 42, 63], [84, 105, 126, 147], [168, 189, 210, 231]]\n"
     ]
    }
   ],
   "source": [
    "l = 3\n",
    "c = 4\n",
    "\n",
    "t0 = [[0 for i in range(c)] for j in range(l)]\n",
    "t127 = [[127 for i in range(c)] for j in range(l)]\n",
    "t255 = [[255 for i in range(c)] for j in range(l)]\n",
    "\n",
    "# degradé de valeurs de 0 à 255\n",
    "unit = 255//(l*c) \n",
    "t = [[ (i + j*c) * unit for i in range(c)] for j in range(l)] \n",
    "print(t)"
   ]
  },
  {
   "cell_type": "code",
   "execution_count": 18,
   "id": "3773cacb",
   "metadata": {
    "jupyter": {
     "source_hidden": true
    },
    "tags": []
   },
   "outputs": [],
   "source": [
    "import matplotlib.pyplot as plt"
   ]
  },
  {
   "cell_type": "markdown",
   "id": "e15cbf4d",
   "metadata": {},
   "source": [
    "> toggle “off” all axis labels and ticks by using a dictionary comprehension and passing the result to ax.tick_params()"
   ]
  },
  {
   "cell_type": "code",
   "execution_count": 19,
   "id": "d848a0d6",
   "metadata": {
    "jupyter": {
     "source_hidden": true
    },
    "tags": []
   },
   "outputs": [
    {
     "name": "stdout",
     "output_type": "stream",
     "text": [
      "{'left': False, 'right': False, 'top': False, 'bottom': False, 'labelleft': False, 'labelright': False, 'labeltop': False, 'labelbottom': False}\n"
     ]
    }
   ],
   "source": [
    "sides = ('left', 'right', 'top', 'bottom')\n",
    "nolabels = {s: False for s in sides}\n",
    "nolabels.update({'label%s' % s: False for s in sides})\n",
    "print(nolabels)"
   ]
  },
  {
   "cell_type": "code",
   "execution_count": 44,
   "id": "2d4517f9",
   "metadata": {
    "jupyter": {
     "source_hidden": true
    },
    "tags": []
   },
   "outputs": [
    {
     "data": {
      "image/png": "[encoded data removed]",
      "text/plain": [
       "<Figure size 576x288 with 4 Axes>"
      ]
     },
     "metadata": {},
     "output_type": "display_data"
    }
   ],
   "source": [
    "fig, (ax1, ax2, ax3, ax4) = plt.subplots(1, 4, figsize=(8, 4))\n",
    "\n",
    "ax1.matshow(t0, cmap=\"gray\", vmin=0, vmax=255)\n",
    "ax2.matshow(t127, cmap=\"gray\", vmin=0, vmax=255)\n",
    "ax3.matshow(t255, cmap=\"gray\", vmin=0, vmax=255)\n",
    "ax4.matshow(t, cmap=\"gray_r\", vmin=0, vmax=255)\n",
    "\n",
    "for ax in (ax1, ax2, ax3, ax4):\n",
    "    ax.tick_params(axis='both', which='both', **nolabels)"
   ]
  },
  {
   "cell_type": "code",
   "execution_count": 27,
   "id": "0f387741",
   "metadata": {},
   "outputs": [
    {
     "name": "stdout",
     "output_type": "stream",
     "text": [
      "['Solarize_Light2', '_classic_test_patch', 'bmh', 'classic', 'dark_background', 'fast', 'fivethirtyeight', 'ggplot', 'grayscale', 'seaborn', 'seaborn-bright', 'seaborn-colorblind', 'seaborn-dark', 'seaborn-dark-palette', 'seaborn-darkgrid', 'seaborn-deep', 'seaborn-muted', 'seaborn-notebook', 'seaborn-paper', 'seaborn-pastel', 'seaborn-poster', 'seaborn-talk', 'seaborn-ticks', 'seaborn-white', 'seaborn-whitegrid', 'tableau-colorblind10']\n"
     ]
    }
   ],
   "source": [
    "print(plt.style.available)"
   ]
  },
  {
   "cell_type": "code",
   "execution_count": null,
   "id": "4b913afd",
   "metadata": {},
   "outputs": [],
   "source": []
  },
  {
   "cell_type": "code",
   "execution_count": 34,
   "id": "a554a403",
   "metadata": {},
   "outputs": [
    {
     "data": {
      "image/png": "[encoded data removed]",
      "text/plain": [
       "<Figure size 576x288 with 3 Axes>"
      ]
     },
     "metadata": {},
     "output_type": "display_data"
    }
   ],
   "source": [
    "fig, (ax1, ax2, ax3) = plt.subplots(1, 3, figsize=(8, 4))\n",
    "\n",
    "ax1.matshow(t0, cmap=\"gray\")\n",
    "ax2.matshow(t127, cmap=\"gray\")\n",
    "ax3.matshow(t255, cmap=\"gray\")\n",
    "\n",
    "\n",
    "for ax in (ax1, ax2, ax3):\n",
    "    ax.tick_params(axis='both', which='both', **nolabels)"
   ]
  },
  {
   "cell_type": "code",
   "execution_count": null,
   "id": "c93769f0",
   "metadata": {},
   "outputs": [],
   "source": [
    "plt.style.use('grayscale')"
   ]
  },
  {
   "cell_type": "markdown",
   "id": "d62a7a87",
   "metadata": {},
   "source": [
    "> use a context manager to disable the grid, and call matshow() on each Axes. \n",
    "> Lastly, we need to put the colorbar in what is technically a new Axes within fig. \n",
    "> For this, we can use a bit of an esoteric function from deep within matplotlib:"
   ]
  },
  {
   "cell_type": "code",
   "execution_count": null,
   "id": "f0a4706e",
   "metadata": {},
   "outputs": [],
   "source": [
    "from mpl_toolkits.axes_grid1.axes_divider import make_axes_locatable\n",
    "\n",
    "with plt.rc_context(rc={'axes.grid': False}):\n",
    "    fig, (ax1, ax2) = plt.subplots(1, 2, figsize=(8, 4))\n",
    "    ax1.matshow(t0)\n",
    "    img2 = ax2.matshow(t1, cmap='RdYlGn_r')\n",
    "    for ax in (ax1, ax2):\n",
    "        ax.tick_params(axis='both', which='both', **nolabels)\n",
    "    for i, j in zip(*x.nonzero()):\n",
    "        ax1.text(j, i, x[i, j], color='white', ha='center', va='center')\n",
    "\n",
    "    divider = make_axes_locatable(ax2)\n",
    "    cax = divider.append_axes(\"right\", size='5%', pad=0)\n",
    "    plt.colorbar(img2, cax=cax, ax=[ax1, ax2])\n",
    "    fig.suptitle('Heatmaps with `Axes.matshow`', fontsize=16)"
   ]
  }
 ],
 "metadata": {
  "kernelspec": {
   "display_name": "venv",
   "language": "python",
   "name": "venv"
  },
  "language_info": {
   "codemirror_mode": {
    "name": "ipython",
    "version": 3
   },
   "file_extension": ".py",
   "mimetype": "text/x-python",
   "name": "python",
   "nbconvert_exporter": "python",
   "pygments_lexer": "ipython3",
   "version": "3.9.6"
  }
 },
 "nbformat": 4,
 "nbformat_minor": 5
}
