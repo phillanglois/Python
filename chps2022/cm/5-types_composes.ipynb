{
 "cells": [
  {
   "cell_type": "markdown",
   "metadata": {
    "slideshow": {
     "slide_type": "slide"
    }
   },
   "source": [
    "(ch:typescomposes)=\n",
    "# Les types composés\n",
    "\n",
    "Mis à jour : {sub-ref}`today`, lecture : {sub-ref}`wordcount-minutes`\n",
    "minutes minimum, PhL."
   ]
  },
  {
   "cell_type": "markdown",
   "metadata": {
    "slideshow": {
     "slide_type": "subslide"
    }
   },
   "source": [
    "Les types composés ou _conteneurs_ de python sont  introduits  dans ce chapitre :  \n",
    "- les types _non mutables_ de python : `tuple` et `str`\n",
    "- les types _mutables_ de python : `list`, `set` et `dict`\n",
    "\n",
    "**Rmq de vocabulaire :** \n",
    "\n",
    "J'utilise les termes _mutable_ et _non mutable_.  \n",
    "La version française de la documentation de python préfère les termes _muable_ et _immuable_."
   ]
  },
  {
   "cell_type": "markdown",
   "metadata": {
    "slideshow": {
     "slide_type": "slide"
    }
   },
   "source": [
    "## Les types composés ou _conteneurs_ en python\n",
    "\n",
    "Les types scalaires permettent de manipuler des _valeurs scalaires_ comme les :  \n",
    "- `bool` \n",
    "- `int`  \n",
    "- `float`  \n",
    "- `complex` \n",
    "- les caractères (souvent dénotés de type _char_ mais absent en python)  \n",
    "\n",
    "Un type composé permet de **regrouper plusieurs valeurs**, de même type ou non, scalaire ou non, **dans une seule variable** (ou un seul objet).  \n",
    "\n",
    "**Vocabulaire.**\n",
    "Ces types composés sont appelés des _conteneurs_ en python.\n",
    "Ce sont aussi des premiers exemples de _structures de données_ en algorithmique.\n",
    "\n",
    "**Exercice.** Vous en connaissaissez déjà au moins un. Lequel ?"
   ]
  },
  {
   "cell_type": "markdown",
   "metadata": {
    "slideshow": {
     "slide_type": "subslide"
    }
   },
   "source": [
    "### Les questions abordées dans ce chapitre\n",
    "\n",
    "- Comment créer un conteneur ?\n",
    "- Comment accéder à une valeur dans un conteneur ?\n",
    "- Comment modifier un conteneur ?\n",
    "    - Comment modifier une de ses valeurs ?\n",
    "    - Comment ajouter ou supprimer une valeur ?\n",
    "- Comment parcourir (toutes) les valeurs d'un conteneur ?\n",
    "\n",
    "Les réponses à ces questions dépendent :\n",
    "- du type de conteneur, \n",
    "- de son caratère mutable ou non, \n",
    "- de son caractère itérable ou non, \n",
    "- de son caractère séquençable ou non.\n",
    "\n",
    "($\\star$) Les deux dernières caractéristiques (itérable, séquençable) seront abordées en seconde lecture. \n",
    "\n",
    "($\\star$) On analysera aussi la complexité des ces différents traitements selon les principaux types composés.\n"
   ]
  },
  {
   "cell_type": "markdown",
   "metadata": {
    "slideshow": {
     "slide_type": "subslide"
    }
   },
   "source": [
    "### La vision classique  \n",
    "\n",
    "Dans la plupart des langages de programmation, les types composés _classiques_ sont les suivants.\n",
    "\n",
    "**Les tableaux**, déjà revus dans ce [chapitre](ch:boucles), sont définis comme des ensembles de valeurs _de même type_ et de nombre _connu et fixé_ \"une fois pour toute\" lors de leur définition (ce nombre est la _taille_ ou la _dimension_ du tableau) et dont les valeurs sont _ainsi stockées de façon contigüe en mémoire_.   \n",
    "    - les valeurs sont accédées par un ou des _indice_ indiqué entre un ou plusieurs `[]`   \n",
    "\n",
    "**Les enregistrements** ou **structures** sont définis comme un ensemble de valeurs de _types quelconques_. Le nombre de valeurs est défini \"une fois pour toutes\" mais sans hypothèse  sur le mode de stockage.   \n",
    "    - les enregistrements sont composés de _champs nommés_ aussi appelés _attributs_  \n",
    "    - la valeur stockée dans le champ d'un enregistrement est accessible en _notation pointée_ : `id_de_variable.nom_du_champ`.  \n",
    "    "
   ]
  },
  {
   "cell_type": "markdown",
   "metadata": {
    "slideshow": {
     "slide_type": "subslide"
    }
   },
   "source": [
    "Aucun type composé natif de python ne correspond exactement aux 2 types composés classiques tableau et enregistrement. \n",
    "Le module `numpy` définit  \"de vrais\" tableaux, les `ndarray`, que nous abordons dans cette [annexe](ann:ndarray)."
   ]
  },
  {
   "cell_type": "markdown",
   "metadata": {
    "slideshow": {
     "slide_type": "subslide"
    }
   },
   "source": [
    "Exemple : Une structure `etudiant` pourrait être définie à partir des 4 champs suivants :\n",
    "- `etudiant.numero_etud`, \n",
    "- `etudiant.nom`, \n",
    "- `etudiant.prenom` et \n",
    "- `etudiant.diplome`.  "
   ]
  },
  {
   "cell_type": "markdown",
   "metadata": {
    "slideshow": {
     "slide_type": "subslide"
    }
   },
   "source": [
    "### Les conteneurs python \n",
    "\n",
    "**Vocabulaire python :**  un _conteneur_ est une variable (un objet) de type composé \n",
    "\n",
    "Les conteneurs python sont répartis en 2 familles. \n",
    "\n",
    "1. Les conteneurs **non mutables** dont _la forme et les valeurs_ sont _fixées_ une fois pour toute lors de leur définition :\n",
    "    - les chaines de caractères : `str` écrits avec des `\" ... \"` ou des ` ... ` \n",
    "    - les t-uplets ou `tuple` : des valeurs écrites entre `(  )` et séparées par des `,` \n",
    "    - les ensembles ou `set` : des valeurs écrites avec des `{   }` et séparées par des `,`    \n",
    "    \n",
    "2. Les conteneurs **mutables** qui peuvent changer de forme et de valeurs.\n",
    "    - des listes ou `list` : des valeurs écrits entre `[  ]` et séparées par des `,`  \n",
    "    - des dictionnaires (tableaux associatifs) ou `dict` : des couples de valeurs écrits entre `{ }` et séparées par des `,`  \n",
    "    - les fichiers de texte "
   ]
  },
  {
   "cell_type": "markdown",
   "metadata": {
    "slideshow": {
     "slide_type": "subslide"
    }
   },
   "source": [
    "Les fichiers (le type `file`) sont aussi des conteneurs. \n",
    "Ils ne sont pas abordés ici et font l'objet de ce [chapitre](ch:ES-fichiers).    "
   ]
  },
  {
   "cell_type": "markdown",
   "metadata": {
    "slideshow": {
     "slide_type": "slide"
    }
   },
   "source": [
    "## Ce qui est commun aux conteneurs python\n",
    "\n",
    "### Opérations communes aux conteneurs python \n",
    "\n",
    "**Accès à l'élément** par indexation :\n",
    "\n",
    "> `v[1]`,`m[3][2]`, `st[-1]`, `tuple[-len(tuple)]`, `d[clé]`  \n",
    "\n",
    "- L'\"indice\" est indiqué entre `[ ]`\n",
    "- Un conteneur _ordonné par des indices entiers_ est appelé une **séquence**.\n",
    "\n",
    "**Tranche** d'un conteneur (_slice_): \n",
    "\n",
    "> `conteneur[i:j]` est composé des valeurs de l'indice `i` à `j-1` \n",
    "\n",
    "Des fonctions de base qui s'appliquent à une variable conteneur:\n",
    "* `len()` qui renvoie le nombre de valeurs du conteneur\n",
    "* `min()`, `max()`, `sorted()` si une relation d'ordre s'applique _aux éléments_\n",
    "    - Rmq: `sorted()` modifie l'état du conteneur.\n",
    "* **itération sur les _valeurs_** d'un conteneur :\n",
    "    > `for val in conteneur:`  \n",
    "    - pythonerie utile en pratique pour parcourir les valeurs d'un conteneur sans se soucier de son \"indice\" \n",
    "    - cette itération s'effectue indépendamment de l'existence ou non d'un ordre sur les _valeurs_ du conteneur, ie. séquence ou non séquence. \n",
    "    - tous les conteneurs sont ainsi des **itérables**.\n",
    "\n",
    "     "
   ]
  },
  {
   "cell_type": "markdown",
   "metadata": {
    "slideshow": {
     "slide_type": "subslide"
    }
   },
   "source": [
    "**Exercice.** Que pensez-vous de la variable `v` définie par `v = range(10)` par exemple ?"
   ]
  },
  {
   "cell_type": "code",
   "execution_count": 3,
   "metadata": {
    "slideshow": {
     "slide_type": "fragment"
    }
   },
   "outputs": [
    {
     "name": "stdout",
     "output_type": "stream",
     "text": [
      "range(0, 10)\n",
      "0,1,2,3,4,5,6,7,8,9,\n",
      "<class 'range'> <class 'int'>\n"
     ]
    }
   ],
   "source": [
    "v = range(10)\n",
    "print(v)\n",
    "\n",
    "for val in v:\n",
    "    print(val, end=\",\")\n",
    "print()\n",
    "\n",
    "print(type(v), type(val))"
   ]
  },
  {
   "cell_type": "markdown",
   "metadata": {},
   "source": [
    "_Réponse :_ `v` peut être vue comme un ensemble ordonné itérable de valeurs entières. Ici le terme _ensemble_ est à comprendre au sens mathématique ; il ne s'agit pas des ensembles `set` de python présentés plus loin.\n",
    "\n",
    "L'exemple suivant illustre la différence entre un tableau et un conteneur de type `list`."
   ]
  },
  {
   "cell_type": "code",
   "execution_count": 4,
   "metadata": {
    "slideshow": {
     "slide_type": "subslide"
    }
   },
   "outputs": [
    {
     "name": "stdout",
     "output_type": "stream",
     "text": [
      "<class 'list'> 10\n"
     ]
    }
   ],
   "source": [
    "from math import exp\n",
    "\n",
    "en_vrac = ['a','z','e','r','t', 1, 2, 3, 3.14159, exp(1.0)]\n",
    "print(type(en_vrac), len(en_vrac))"
   ]
  },
  {
   "cell_type": "markdown",
   "metadata": {},
   "source": [
    "Et maintenant quelques manipulations avec les opérations de base sur ces conteneurs."
   ]
  },
  {
   "cell_type": "code",
   "execution_count": 6,
   "metadata": {
    "slideshow": {
     "slide_type": "subslide"
    }
   },
   "outputs": [
    {
     "name": "stdout",
     "output_type": "stream",
     "text": [
      "['a', 'z', 'e', 'r', 't', 1, 2, 3, 3.14159, 2.718281828459045]\n",
      "(3.14159, 2.718281828459045) 2 2.718281828459045 3.14159\n"
     ]
    }
   ],
   "source": [
    "print(en_vrac)\n",
    "\n",
    "# conversion de type : list -> tuple\n",
    "des_float = tuple(en_vrac[-2:]) \n",
    "\n",
    "# len, min, max\n",
    "print(des_float, len(des_float), min(des_float), max(des_float), end=\"\\n\")"
   ]
  },
  {
   "cell_type": "code",
   "execution_count": 21,
   "metadata": {
    "slideshow": {
     "slide_type": "subslide"
    }
   },
   "outputs": [
    {
     "name": "stdout",
     "output_type": "stream",
     "text": [
      "['a', 'z', 'e', 'r', 't', 1, 2, 3, 3.14159, 2.718281828459045] (3.14159, 2.718281828459045)\n",
      "<class 'str'> <class 'int'> <class 'float'> <class 'tuple'>\n"
     ]
    }
   ],
   "source": [
    "# accès par indexation et tranche\n",
    "print(en_vrac, des_float)\n",
    "print(type(en_vrac[0]), type(en_vrac[-3]), type(des_float[1]), type(des_float[1:3]))"
   ]
  },
  {
   "cell_type": "code",
   "execution_count": 22,
   "metadata": {
    "slideshow": {
     "slide_type": "subslide"
    }
   },
   "outputs": [
    {
     "name": "stdout",
     "output_type": "stream",
     "text": [
      "['z', 'e', 'r', 't', 1, 2, 3, 3.14159]\n",
      "(2.718281828459045,)\n"
     ]
    }
   ],
   "source": [
    "# les tranches de conteneurs sont souvent très utiles.\n",
    "print(en_vrac[1:-1])\n",
    "print(des_float[1:3])"
   ]
  },
  {
   "cell_type": "code",
   "execution_count": 23,
   "metadata": {
    "slideshow": {
     "slide_type": "subslide"
    }
   },
   "outputs": [
    {
     "name": "stdout",
     "output_type": "stream",
     "text": [
      "['a', 'z', 'e', 'r', 't', 1, 2, 3, 3.14159, 2.718281828459045]\n",
      "azert123 <class 'str'>\n"
     ]
    }
   ],
   "source": [
    "# conversion en `str` et concaténations\n",
    "print(en_vrac)\n",
    "st = ''\n",
    "for c in en_vrac[0:-2]:\n",
    "    #st = st + c     # non : normal !\n",
    "    st = st + str(c)  # concatenation de chaines de caractères\n",
    "print(st, type(st))"
   ]
  },
  {
   "cell_type": "markdown",
   "metadata": {},
   "source": [
    "Le caractère non mutable d'une `str` explique le comportement suivant."
   ]
  },
  {
   "cell_type": "code",
   "execution_count": 24,
   "metadata": {
    "slideshow": {
     "slide_type": "subslide"
    }
   },
   "outputs": [
    {
     "name": "stdout",
     "output_type": "stream",
     "text": [
      "['1', '2', '3', 'a', 'e', 'r', 't', 'z'] <class 'list'>\n",
      "['1', '2', '3', 'a', 'e', 'r', 't', 'z'] <class 'str'>\n",
      "8 40\n"
     ]
    }
   ],
   "source": [
    "# sorted sur `str` retourne une `list` \n",
    "print(sorted(st), type(sorted(st)))\n",
    "\n",
    "st2 = str(sorted(st))\n",
    "print(st2, type (st2))\n",
    "\n",
    "print( len(sorted(st)), len(st2) )"
   ]
  },
  {
   "cell_type": "markdown",
   "metadata": {
    "slideshow": {
     "slide_type": "subslide"
    }
   },
   "source": [
    "    \n",
    "### Conteneurs itérables et séquences \n",
    "\n",
    "Tous les conteneurs sont (des) _itérables_.\n",
    "\n",
    "- la construction suivante a du sens et permet le parcours des _valeurs_ du conteneur\n",
    "> `for val in cont:`  \n",
    ">  `   ...`\n",
    "\n",
    "Mais tous les conteneurs ne sont pas des _séquences_.\n",
    "\n",
    "Une **séquence** est un conteneur indexé par des entiers \n",
    "- types python : `tuple`, `list` et `str`\n",
    "- les valeurs sont ainsi _ordonnées_ dans le conteneur\n",
    "\n",
    "Les dictionnaires `dict` et les ensembles `set` sont itérables mais pas des séquences."
   ]
  },
  {
   "cell_type": "markdown",
   "metadata": {
    "slideshow": {
     "slide_type": "subslide"
    }
   },
   "source": [
    "**Fonctions supplémentaires**  \n",
    "\n",
    "`cont` est un conteneur.\n",
    "\n",
    "* concaténation : `cont1 + cont2`\n",
    "* duplication : `cont * cst`\n",
    "* `reversed(cont)` renvoie le conteneur _itérable_ en ordre inverse\n",
    "\n",
    "Et aussi les 2 fonctions-méthodes suivantes dont on n'oubliera pas qu'elle peuvent \"coûter très cher\" : \n",
    "* correspondance valeur -> indice  : \n",
    "`cont.index(val)` \n",
    "retourne le plus petit (ou premier) indice d'une valeur argument présente dans le conteneur `cont`, génère une exception si la valeur est absente  \n",
    "\n",
    "* décompte :\n",
    "`cont.count(val)` \n",
    "retourne le nombre d'occurrences de `val` dans le conteneur `cont` "
   ]
  },
  {
   "cell_type": "code",
   "execution_count": 27,
   "metadata": {
    "slideshow": {
     "slide_type": "subslide"
    }
   },
   "outputs": [
    {
     "name": "stdout",
     "output_type": "stream",
     "text": [
      "['a', 'z', 'e', 'r', 't', 1, 2, 3]\n"
     ]
    }
   ],
   "source": [
    "print(en_vrac[0:-2]) "
   ]
  },
  {
   "cell_type": "code",
   "execution_count": 28,
   "metadata": {
    "slideshow": {
     "slide_type": "fragment"
    }
   },
   "outputs": [
    {
     "name": "stdout",
     "output_type": "stream",
     "text": [
      "321treza ['1', '2', '3', 'a', 'e', 'r', 't', 'z']\n"
     ]
    }
   ],
   "source": [
    "st = ''\n",
    "for c in reversed(en_vrac[0:-2]):\n",
    "    st = st + str(c)  # concatenation de chaines de caractères\n",
    "print(st, sorted(st))"
   ]
  },
  {
   "cell_type": "code",
   "execution_count": 29,
   "metadata": {
    "slideshow": {
     "slide_type": "fragment"
    }
   },
   "outputs": [
    {
     "name": "stdout",
     "output_type": "stream",
     "text": [
      "321treza 321treza321treza True\n",
      "1\n",
      "7\n"
     ]
    }
   ],
   "source": [
    "st1 = st + st\n",
    "st2 = st * 2\n",
    "print(st, st1, st1 == st2)\n",
    "\n",
    "print(st.count('a'))\n",
    "print(st.index('a'))"
   ]
  },
  {
   "cell_type": "markdown",
   "metadata": {
    "slideshow": {
     "slide_type": "slide"
    }
   },
   "source": [
    "## Les `tuple` \n",
    "\n",
    "**`tuple`** ( ou t-uplets) : _conteneur_ _non mutable_ de valeurs _écrites entre `(  )`_ ,  séparées par des `,`, et _indexées de 0 à `len(tuple)-1`_.\n",
    "\n",
    "> (3, \"bonjour\", 7, 1.32)\n",
    "\n",
    "- Bien identifier les 4 aspects qui définissent un tuple  \n",
    "- En pratique, les parenthèses sont facultatives  \n",
    "    * donc un tuple singleton peut être noté : `a,`  \n",
    "    * __Ne pas oublier la `,`!!__ \n",
    "    "
   ]
  },
  {
   "cell_type": "code",
   "execution_count": 7,
   "metadata": {
    "slideshow": {
     "slide_type": "subslide"
    }
   },
   "outputs": [
    {
     "name": "stdout",
     "output_type": "stream",
     "text": [
      "<class 'tuple'>\n",
      "<class 'int'>\n",
      "<class 'tuple'>\n"
     ]
    }
   ],
   "source": [
    "t = (3,)\n",
    "print(type(t))\n",
    "\n",
    "# ATTENTION !\n",
    "t = (3)\n",
    "print(type(t))\n",
    "t = 3,  \n",
    "print(type(t))"
   ]
  },
  {
   "cell_type": "markdown",
   "metadata": {
    "slideshow": {
     "slide_type": "subslide"
    }
   },
   "source": [
    "<div class=\"alert alert-block alert-info\">\n",
    "    \n",
    "On préférera donc écrire les tuples systématiquement entre parenthèses. \n",
    "    \n",
    "</div>"
   ]
  },
  {
   "cell_type": "code",
   "execution_count": 41,
   "metadata": {
    "slideshow": {
     "slide_type": "fragment"
    }
   },
   "outputs": [
    {
     "name": "stdout",
     "output_type": "stream",
     "text": [
      "(1, 2, 3, 1, 2, 3)\n",
      "(1, 2, 3, 4) (1, 2, 3, 1, 2, 3, 1, 2, 3)\n"
     ]
    }
   ],
   "source": [
    "# premières manipulations de tuple\n",
    "c = (1,2,3)\n",
    "c2 = c + c\n",
    "print(c2)\n",
    "d1 = c * 3\n",
    "c = c + (4,)\n",
    "print(c, d1)"
   ]
  },
  {
   "cell_type": "markdown",
   "metadata": {},
   "source": [
    "**Attention.** \n",
    "\n",
    "- Les `tuple` sont non mutables donc modifier `c` (ici par concaténation à l'avant-dernière ligne) créé en fait une _nouvelle_ variable `c`.  \n",
    "- L'exécution [pythontutor](https://pythontutor.com/visualize.html#code=c%20%3D%20%281,2,3%29%0Ac2%20%3D%20c%20%2B%20c%0Ad1%20%3D%20c%20*%203%0Ac%20%3D%20c%20%2B%20%284,%29&cumulative=false&curInstr=4&heapPrimitives=nevernest&mode=display&origin=opt-frontend.js&py=3&rawInputLstJSON=%5B%5D&textReferences=false)\n",
    "illustre bien ce point important."
   ]
  },
  {
   "cell_type": "markdown",
   "metadata": {
    "slideshow": {
     "slide_type": "subslide"
    }
   },
   "source": [
    "**Exercice.** Que penser de la fonction à la spécification incomplète suivante ?"
   ]
  },
  {
   "cell_type": "code",
   "execution_count": 42,
   "metadata": {
    "slideshow": {
     "slide_type": "fragment"
    }
   },
   "outputs": [
    {
     "name": "stdout",
     "output_type": "stream",
     "text": [
      "3 7 <class 'int'> <class 'int'>\n",
      "7 3 <class 'int'> <class 'int'>\n",
      "3 7 <class 'int'> <class 'tuple'> <class 'int'>\n"
     ]
    }
   ],
   "source": [
    "def permuter(a : int, b : int) :\n",
    "    '''il manque la spécification de la sortie'''\n",
    "    return b, a\n",
    "\n",
    "x, y = 3, 7\n",
    "print(x, y, type(x), type(y))\n",
    "x, y = permuter(x, y)\n",
    "print(x, y, type(x), type(y))\n",
    "(u, v) = permuter(x, y)\n",
    "print(u, v, type(u), type( (u, v) ), type( (u, v)[0] ) )"
   ]
  },
  {
   "cell_type": "code",
   "execution_count": 43,
   "metadata": {
    "slideshow": {
     "slide_type": "fragment"
    }
   },
   "outputs": [],
   "source": [
    "#d1[2] = 7 lève TypeError: 'tuple' object does not support item assignment"
   ]
  },
  {
   "cell_type": "code",
   "execution_count": 44,
   "metadata": {
    "slideshow": {
     "slide_type": "fragment"
    }
   },
   "outputs": [
    {
     "name": "stdout",
     "output_type": "stream",
     "text": [
      "(1, 2, 3, 4) (1, 2, 3, 1, 2, 3, 1, 2, 3)\n",
      "2 2\n",
      "3\n",
      "(1, 2, 3, 4) (1, 2, 3, 4, 1, 2, 3, 4)\n",
      "2 2\n",
      "2\n"
     ]
    }
   ],
   "source": [
    "# manipulations de tuple avec les fonctions de base\n",
    "print(c, d1)\n",
    "print(d1[1], d1.index(3))\n",
    "print(d1.count(3))\n",
    "d1 = c * 2\n",
    "print(c, d1)\n",
    "print(d1[1], d1.index(3))\n",
    "print(d1.count(3))"
   ]
  },
  {
   "cell_type": "markdown",
   "metadata": {
    "slideshow": {
     "slide_type": "fragment"
    }
   },
   "source": [
    "Le code suivant :\n",
    "\n",
    "```python\n",
    "print(\"on a dit _non_ mutable !\")\n",
    "c[1] = 11\n",
    "```\n",
    "\n",
    "déclenche l'erreur suivante:\n",
    "\n",
    "```python\n",
    "TypeError                                 Traceback (most recent call last)\n",
    "<ipython-input-10-b869b5ab11d8> in <module>\n",
    "      1 print(\"on a dit _non_ mutable !\")\n",
    "----> 2 c[1] = 11\n",
    "\n",
    "TypeError: 'tuple' object does not support item assignment\n",
    "```    "
   ]
  },
  {
   "cell_type": "markdown",
   "metadata": {
    "slideshow": {
     "slide_type": "slide"
    }
   },
   "source": [
    "## Les listes `list`\n",
    "\n",
    "**`list`** : _conteneur_ __mutable__ de valeurs _écrites entre `[  ]`_,  séparées par des `,`, et _indexées de 0 à `len(lst)-1`_\n",
    "\n",
    "> [3, \"bonjour\", 7, 1.32]\n",
    "\n",
    "* Les valeurs sont de type quelconque -- non nécessairement unique.\n",
    "\n",
    "En pratique, les listes python sont des structures de données sophistiquées, très souples d'utilisation.  "
   ]
  },
  {
   "cell_type": "markdown",
   "metadata": {
    "slideshow": {
     "slide_type": "subslide"
    }
   },
   "source": [
    "### Créer une liste\n",
    "\n",
    "Une liste peut être construite comme suit : \n",
    "* à partir d'une liste vide notée : `[]`  \n",
    "* explicitement (ou aussi dit _en extension_) avec des valeurs séparées par des `,` et entre `[ ]`: `[a]`, `[a, b, c]`\n",
    "* **en compréhension** : `[x for x in iterable]`\n",
    "* avec le constructeur de type : `list()` ou `list(iterable)`"
   ]
  },
  {
   "cell_type": "code",
   "execution_count": 12,
   "metadata": {
    "slideshow": {
     "slide_type": "subslide"
    }
   },
   "outputs": [
    {
     "name": "stdout",
     "output_type": "stream",
     "text": [
      "[1, 2, 3, 4, 5, 6, 7] [1, 2, 3] [1, 2, 3]\n",
      "False True\n",
      "[1, 4, 9, 16, 25, 36, 49]\n",
      "[2, 4, 6]\n",
      "[4, 16, 36]\n"
     ]
    }
   ],
   "source": [
    "# une liste explicite\n",
    "liste = [1, 2, 3, 4, 5, 6, 7]\n",
    "sous_liste = liste[:3]\n",
    "un_a_trois = (1, 2, 3)\n",
    "autre = list(un_a_trois)\n",
    "\n",
    "print(liste, sous_liste, autre)\n",
    "print(un_a_trois == autre, autre == sous_liste)\n",
    "\n",
    "# les carres des elements\n",
    "les_carres = [x ** 2 for x in liste]\n",
    "print(les_carres)\n",
    "\n",
    "# Afficher les nombres pairs\n",
    "print([x for x in liste if x % 2 == 0])\n",
    "# Plus simple que filtrer, egalement :)\n",
    "\n",
    "#Affiche les carres pairs (combinaison des deux)\n",
    "print([x**2 for x in liste if x ** 2 % 2 == 0])\n",
    "# ou print([x for x in [a ** 2 for a in liste] if x % 2 == 0])\n",
    "  "
   ]
  },
  {
   "cell_type": "markdown",
   "metadata": {
    "slideshow": {
     "slide_type": "subslide"
    }
   },
   "source": [
    "### Méthodes sur des listes\n",
    "\n",
    "**Rappel :** Une _méthode_ est une fonction qui s'applique à _une_ variable (un objet) avec une notation pointée -- et non des parenthèses.   \n",
    "\n",
    "**Compléments :** \n",
    "\n",
    "- Une méthode peut être une fonction de plusieurs paramètres. \n",
    "- Le paramètre indispensable est celui mis devant le `.` de _la notation pointée obligatoire_. \n",
    "- Les paramètres supplémentaires sont des arguments entre parenthèses en plus de la notation pointée.   \n",
    "- Remarquer que les méthodes suivantes modifient la liste à laquelle elles s'appliquent.\n",
    "\n",
    "Syntaxe | Effet\n",
    "--------|------\n",
    "`une_lst.append(val)` | ajoute la valeur `val` à la fin de `une_lst`  \n",
    "`une_lst.extend(seq)` | ajoute la séquence `seq` à la fin de `une_lst`  \n",
    "`une_lst.insert(idx,val)` | _insère_ la valeur `val` en position `idx` dans `une_lst`  \n",
    "`une_lst.remove(val)` | supprime la valeur `val` de `une_lst`  \n",
    "`une_lst.pop()` | supprime la __dernière valeur__ de `une_lst` (s'utilise comme procédure)\n",
    "`une_lst.pop(idx)` | supprime la valeur d'indice `idx` de `une_lst`     \n",
    "`une_lst.sort()` | trie `une_lst` __en place__ (s'utilise comme procédure) \n",
    "`une_lst.reverse()` | inverse `une_lst` __en place__ (s'utilise comme procédure) \n",
    "\n",
    "**Rmq.**\n",
    "\n",
    "- Les accès, modifications (ajout/suppression de valeur) et parcours d'une liste sont des opérations simples (et optimisées) grâce à ces méthodes.\n",
    "- Ainsi comme déjà indiqué, les listes en python sont des structures de données qui cachent une importante sophistication. \n"
   ]
  },
  {
   "cell_type": "code",
   "execution_count": 13,
   "metadata": {
    "slideshow": {
     "slide_type": "fragment"
    }
   },
   "outputs": [
    {
     "name": "stdout",
     "output_type": "stream",
     "text": [
      "['Jo', 'Jack', 'William', 'Averell']\n",
      "['le méchant', 'Jack', 'William', 'Averell']\n",
      "['le méchant', 'Jack', 'William', 'Averell', 'Ma Dalton']\n",
      "\n"
     ]
    }
   ],
   "source": [
    "les_daltons = [\"Jo\", \"Jack\", \"William\", \"Averell\"]\n",
    "print(les_daltons)\n",
    "les_daltons[0] = \"le méchant\"\n",
    "print(les_daltons)\n",
    "les_daltons.append(\"Ma Dalton\")\n",
    "print(les_daltons)\n",
    "print()"
   ]
  },
  {
   "cell_type": "code",
   "execution_count": 14,
   "metadata": {
    "slideshow": {
     "slide_type": "fragment"
    }
   },
   "outputs": [
    {
     "name": "stdout",
     "output_type": "stream",
     "text": [
      "<class 'str'>\n",
      "['le méchant', 'Jack', 'William', 'Averell', 'Ma Dalton', 'rantanplan']\n",
      "on comprend :\n",
      "lst: ['r', 'a', 'n', 't', 'a', 'n', 'p', 'l', 'a', 'n']\n",
      "\n"
     ]
    }
   ],
   "source": [
    "# Voir les différences de comportement des 2 cas suivants\n",
    "#chien_stupide = (\"rantanplan\",)   # c'est un tuple\n",
    "chien_stupide = (\"rantanplan\")    # c'est une str\n",
    "\n",
    "print(type(chien_stupide))\n",
    "les_daltons.append(chien_stupide)\n",
    "print(les_daltons)\n",
    "print(\"on comprend :\")\n",
    "lst = list(chien_stupide)\n",
    "print(\"lst:\",lst)\n",
    "print()"
   ]
  },
  {
   "cell_type": "code",
   "execution_count": 15,
   "metadata": {
    "slideshow": {
     "slide_type": "fragment"
    }
   },
   "outputs": [
    {
     "name": "stdout",
     "output_type": "stream",
     "text": [
      "on corrige : ['le méchant', 'Jack', 'William', 'Averell', 'Ma Dalton', 'rantanplan']\n",
      "['le méchant', 'Jack', 'William', 'Averell']\n",
      "['Jack', 'William', 'Averell']\n"
     ]
    }
   ],
   "source": [
    "print(\"on corrige :\", les_daltons)\n",
    "while les_daltons[-1] != \"Averell\":\n",
    "    les_daltons.pop()\n",
    "print(les_daltons)\n",
    "les_daltons.pop(0)\n",
    "print(les_daltons)"
   ]
  },
  {
   "cell_type": "code",
   "execution_count": 16,
   "metadata": {
    "slideshow": {
     "slide_type": "fragment"
    }
   },
   "outputs": [
    {
     "name": "stdout",
     "output_type": "stream",
     "text": [
      "['Averell', 'William', 'Jack']\n",
      "['Averell', 'Jack', 'William']\n"
     ]
    }
   ],
   "source": [
    "les_daltons.reverse()\n",
    "print(les_daltons)\n",
    "les_daltons.sort() \n",
    "print(les_daltons)"
   ]
  },
  {
   "cell_type": "markdown",
   "metadata": {
    "slideshow": {
     "slide_type": "subslide"
    }
   },
   "source": [
    "### Affectation entre listes\n",
    "\n",
    "<div class=\"alert alert-block alert-danger\">\n",
    "    \n",
    "**ATTENTION** : l'affectation `liste_destination = liste_source` __ne crée pas une nouvelle__ `liste_destination`.\n",
    "\n",
    "</div> \n",
    "\n",
    "* L'effet de cette affectation est la création d'un nouveau _nom de liste_ qui désigne _le même ensemble de valeurs en mémoire_ que celui désignés par l'autre nom `liste_source`.  \n",
    "\n",
    "* Ainsi la modification de ces valeurs, qui est possible ici car les listes sont _mutables_, en utilisant un des deux noms (identifiant) _source_ ou _destination_, agira _indifféremment_ de l'identifiant utilisé : il n'y a qu'un seul ensemble de valeurs stockées en mémoire.\n",
    "\n",
    "* Il est bien sûr possible de _dupliquer_ ces valeurs et les désigner effectivement avec deux identificateurs différents. Plusieurs solutions existent en python dont :\n",
    "    * la fonction `copy`du module `copy`\n",
    "    * l'affectation de tranches complètes.\n",
    "\n",
    "Ce comportement, commun aux _types composés mutables_ et qui peut surprendre, sera étudié en détail dans le chapitre _\"Fonctions : aspects avancés\"_.  \n",
    "\n",
    "Si besoin, l'utilisation de `copy.copy` (importé du module `copy`) sera la solution.  "
   ]
  },
  {
   "cell_type": "markdown",
   "metadata": {
    "slideshow": {
     "slide_type": "subslide"
    }
   },
   "source": [
    "Cette particularité permet d'introduire les deux notions importantes suivantes qui sont classiques en programmation -- au delà de python.\n",
    "\n",
    "* Notion d'**effet de bord** : la modification par un identifiant agit sur les valeurs \"de\" l'autre identifiant.  \n",
    "* Notion de **référence** : l'identifiant d'une variable (mutable) est une _référence_ vers un espace de mémoire. "
   ]
  },
  {
   "cell_type": "markdown",
   "metadata": {
    "slideshow": {
     "slide_type": "subslide"
    }
   },
   "source": [
    "[Illustration avec python tutor](https://goo.gl/GK6Gc7)"
   ]
  },
  {
   "cell_type": "code",
   "execution_count": 17,
   "metadata": {
    "slideshow": {
     "slide_type": "subslide"
    }
   },
   "outputs": [
    {
     "name": "stdout",
     "output_type": "stream",
     "text": [
      "True\n",
      "[3, 1, 2] [3, 1, 2]\n",
      "4336209824 4336209824\n",
      "\n",
      "duplication avec copy.copy : \n",
      "False\n",
      "[3, 1, 2] [999, 1, 2]\n",
      "duplication par affectation de tranche complète : \n",
      "False True\n",
      "4336127264 4336209824\n"
     ]
    }
   ],
   "source": [
    "import copy \n",
    "\n",
    "liste1 = [1, 1, 2]\n",
    "liste2 = liste1\n",
    "liste2[0] = 3\n",
    "print(liste1 == liste2)\n",
    "print(liste1, liste2)\n",
    "print(id(liste1), id(liste2))\n",
    "print()\n",
    "\n",
    "print(\"duplication avec copy.copy : \")\n",
    "new_liste = copy.copy(liste1)\n",
    "new_liste[0] = 999\n",
    "print(new_liste == liste1)\n",
    "print(liste1, new_liste)\n",
    "\n",
    "print(\"duplication par affectation de tranche complète : \")\n",
    "liste3 = liste1[:]\n",
    "liste1[0] = -5\n",
    "print(liste3 == liste1, liste1==liste2)\n",
    "print(id(liste3), id(liste1))"
   ]
  },
  {
   "cell_type": "markdown",
   "metadata": {
    "slideshow": {
     "slide_type": "slide"
    }
   },
   "source": [
    "## Les dictionnaires  `dict`\n",
    "\n",
    "Les dictionnaires python sont des _tableaux associatifs_.\n",
    "\n",
    "### Tableau associatif \n",
    "\n",
    "Structure de données classique (hors python)\n",
    "\n",
    "* type de donnée _composé_ \n",
    "* formé par les _couples_ `clé -> valeur`\n",
    "* la `clé` est unique dans le tableau associatif : \n",
    "    * `clé` permet de désigner (d'atteindre) `valeur` dans le dictionnaire\n",
    "    * Dans un tableau associatif, la clé joue même rôle que l'indice dans un tableau. \n",
    "* cette `clé` n'induit pas un ordre sur les valeurs du tableau associatif -- même si la clé est un entier !"
   ]
  },
  {
   "cell_type": "markdown",
   "metadata": {
    "slideshow": {
     "slide_type": "subslide"
    }
   },
   "source": [
    "### Dictionnaire `dict` en python\n",
    "\n",
    "**Syntaxe.** \n",
    "* des couples `clé : valeur` -- bien noter la séparation avec `:`  \n",
    "* écrits entre `{  }` et \n",
    "* séparées par des `,` \n",
    "> `{clé1: val1, clé2: val2, ...}`  \n",
    "\n",
    "* _Mutable_, itérable mais non séquençable  \n",
    "\n",
    "* **Accès** à la valeur : `un_dict[clé]` \n",
    "    - similaire à l'accès à la valeur dans une liste, dans une chaîne de caractères, ...  \n"
   ]
  },
  {
   "cell_type": "code",
   "execution_count": 18,
   "metadata": {
    "slideshow": {
     "slide_type": "fragment"
    }
   },
   "outputs": [
    {
     "name": "stdout",
     "output_type": "stream",
     "text": [
      "False\n"
     ]
    }
   ],
   "source": [
    "h_lever_WE = {'samedi': 8, 'dimanche': 9 }\n",
    "print(h_lever_WE['samedi'] > h_lever_WE['dimanche'])"
   ]
  },
  {
   "cell_type": "markdown",
   "metadata": {
    "slideshow": {
     "slide_type": "fragment"
    }
   },
   "source": [
    "**Rmq.**\n",
    "* Un dictionnaire n'est pas \"ordonné par ses indices\" : \n",
    "    * Cette absence d'ordre justifie le caractère _non séquençable_ de cette structure.\n",
    "    * Différent des `str`, `tuple` et `list` qui sont des conteneurs _séquençables_.  \n",
    "* Les valeurs peuvent être de _type quelconque_  \n",
    "    * voir exemple suivant\n",
    "* L'**accès `clé -> valeur`** s'effectue en temps constant (très court en pratique : technique de _hachage_ ) "
   ]
  },
  {
   "cell_type": "code",
   "execution_count": 19,
   "metadata": {
    "slideshow": {
     "slide_type": "fragment"
    }
   },
   "outputs": [
    {
     "name": "stdout",
     "output_type": "stream",
     "text": [
      "{2: 3, '': 'bonjour', 'nombre': 7, 'toto': 1.32}\n"
     ]
    }
   ],
   "source": [
    "jour = 2\n",
    "res = \"toto\"\n",
    "message = ''\n",
    "\n",
    "# ce dictionnaire utilise comme clés les valeurs des 3 variables précédentes\n",
    "d = {jour:3, message:\"bonjour\", \"nombre\":7, res:1.32}\n",
    "\n",
    "print(d)"
   ]
  },
  {
   "cell_type": "markdown",
   "metadata": {
    "slideshow": {
     "slide_type": "subslide"
    }
   },
   "source": [
    "**Opérateurs, fonctions et méthodes.**\n",
    "* `len()` : retourne le nombre de valeurs de l'argument"
   ]
  },
  {
   "cell_type": "code",
   "execution_count": 45,
   "metadata": {
    "slideshow": {
     "slide_type": "fragment"
    }
   },
   "outputs": [
    {
     "name": "stdout",
     "output_type": "stream",
     "text": [
      "4 {'le_mechant': 'Jo', '2': 'Jack', 3: 'William', 'le_cretin': 'Averell'}\n",
      "non: False\n"
     ]
    }
   ],
   "source": [
    "les_daltons = { \"le_mechant\": \"Jo\", '2': \"Jack\",  3: \"William\", \"le_cretin\": \"Averell\"}\n",
    "print(len(les_daltons), les_daltons)\n",
    "non = (les_daltons[\"le_mechant\"] == les_daltons[3])\n",
    "print(\"non:\", non)"
   ]
  },
  {
   "cell_type": "markdown",
   "metadata": {
    "slideshow": {
     "slide_type": "fragment"
    }
   },
   "source": [
    "**Rmq.**\n",
    "- Les clés d'un dictionnaire sont de type quelconque et non constant.  \n",
    "- En pratique, préférer des clés qui donnent un sens à la valeur correspondante et au dictionnaire.  "
   ]
  },
  {
   "cell_type": "markdown",
   "metadata": {
    "slideshow": {
     "slide_type": "subslide"
    }
   },
   "source": [
    "**Méthodes introspectives**\n",
    "* `.keys()` : fonction-méthode qui retourne la liste des `clé`  de l'argument  \n",
    "* `.values()` : fonction-méthode qui retourne la liste des `val` de l'argument  \n",
    "* `.items()` : fonction-méthode qui retourne la liste des couples `clé:val` de l'argument  "
   ]
  },
  {
   "cell_type": "code",
   "execution_count": 21,
   "metadata": {
    "slideshow": {
     "slide_type": "subslide"
    }
   },
   "outputs": [
    {
     "name": "stdout",
     "output_type": "stream",
     "text": [
      "{'le_mechant': 'Jo', '2': 'Jack', 3: 'William', 'le_cretin': 'Averell'}\n",
      "dict_keys(['le_mechant', '2', 3, 'le_cretin'])\n",
      "<class 'dict_keys'>\n",
      "dict_values(['Jo', 'Jack', 'William', 'Averell']) <class 'dict_values'>\n",
      "dict_items([('le_mechant', 'Jo'), ('2', 'Jack'), (3, 'William'), ('le_cretin', 'Averell')]) <class 'dict_items'>\n",
      "\n"
     ]
    }
   ],
   "source": [
    "print(les_daltons)\n",
    "\n",
    "les_cles = les_daltons.keys()\n",
    "print(les_cles)\n",
    "print(type(les_cles))\n",
    "# type(les_cles[0]) produit TypeError: 'dict_keys' object is not subscriptable\n",
    "\n",
    "les_noms = les_daltons.values()\n",
    "print(les_noms, type(les_noms))\n",
    "\n",
    "tout = les_daltons.items()\n",
    "print(tout, type(tout))\n",
    "print()"
   ]
  },
  {
   "cell_type": "markdown",
   "metadata": {
    "slideshow": {
     "slide_type": "subslide"
    }
   },
   "source": [
    "**Parcourir** un dictionnaire\n",
    "\n",
    "* `cle in un_dict`: appartenance d'une clé \n",
    "    * utilisable dans `for ...` et produit un parcours _sur les clés_.\n",
    "* On peut itérer sur les`_valeurs_ du dictionnaire mais selon un ordre aléatoire.  \n",
    "    * `iter(un_dict)` retourne un tuple (séquence) qui sert d'itérateur     "
   ]
  },
  {
   "cell_type": "code",
   "execution_count": 22,
   "metadata": {
    "slideshow": {
     "slide_type": "subslide"
    }
   },
   "outputs": [
    {
     "name": "stdout",
     "output_type": "stream",
     "text": [
      "Attention : l'itération simple suivante parcourt les clés\n",
      "le_mechant\n",
      "2\n",
      "3\n",
      "le_cretin\n"
     ]
    }
   ],
   "source": [
    "print(\"Attention : l'itération simple suivante parcourt les clés\")\n",
    "for c in les_daltons:\n",
    "    print(c)"
   ]
  },
  {
   "cell_type": "code",
   "execution_count": 23,
   "metadata": {
    "slideshow": {
     "slide_type": "subslide"
    }
   },
   "outputs": [
    {
     "name": "stdout",
     "output_type": "stream",
     "text": [
      "le_mechant\n",
      "2\n",
      "3\n",
      "le_cretin\n",
      "--\n",
      "Jo\n",
      "Jack\n",
      "William\n",
      "Averell\n",
      "--\n",
      "('le_mechant', 'Jo') <class 'tuple'>\n",
      "('2', 'Jack') <class 'tuple'>\n",
      "(3, 'William') <class 'tuple'>\n",
      "('le_cretin', 'Averell') <class 'tuple'>\n"
     ]
    }
   ],
   "source": [
    "for c in iter(les_daltons.keys()):\n",
    "    print(c)\n",
    "print(\"--\")\n",
    "for v in iter(les_daltons.values()):\n",
    "    print(v)\n",
    "print(\"--\")\n",
    "for v in iter(les_daltons.items()):\n",
    "    print(v, type(v)) "
   ]
  },
  {
   "cell_type": "markdown",
   "metadata": {
    "slideshow": {
     "slide_type": "subslide"
    }
   },
   "source": [
    "**Modifier un dictionnaire**\n",
    "\n",
    "* `.pop(cle)` : _efface_ `(cle:val)` et retourne `val`\n",
    "* `del un_dic[cle]` détruit l'entrée `cle : val` du dictionnaire `un_dic` \n",
    "* `.update(autre_dict)` :  ajout ou maj avec un `autre_dict` (et écrasement si clé commune)    \n",
    "* `.clear()` : efface le dictionnaire"
   ]
  },
  {
   "cell_type": "code",
   "execution_count": 24,
   "metadata": {
    "scrolled": true,
    "slideshow": {
     "slide_type": "subslide"
    }
   },
   "outputs": [
    {
     "name": "stdout",
     "output_type": "stream",
     "text": [
      "mutable : ajout, retrait, modification\n",
      "{'le_mechant': 'Jo', '2': 'Jack', 3: 'William', 'le_cretin': 'Averell', 'la_maman': 'Ma Dalton'}\n",
      "{'2': 'Jack', 3: 'William', 'le_cretin': 'Averell', 'la_maman': 'Ma Dalton'}\n",
      "False 4\n",
      "\n",
      "{'le_cretin': 'Rantanplan'}\n",
      "changement de cretin :  {'2': 'Jack', 3: 'William', 'le_cretin': 'Rantanplan', 'la_maman': 'Ma Dalton'}\n"
     ]
    }
   ],
   "source": [
    "print(\"mutable : ajout, retrait, modification\")\n",
    "les_daltons[\"la_maman\"] = \"Ma Dalton\" #ajout\n",
    "print(les_daltons)\n",
    "del les_daltons[\"le_mechant\"] #retrait\n",
    "print(les_daltons)\n",
    "print(\"le_mechant\" in les_daltons, len(les_daltons))\n",
    "print() \n",
    "\n",
    "animaux_fideles = {\"le_cretin\":\"Rantanplan\", \"la_classe\": \"Jolly Jumper\"}\n",
    "animaux_fideles.pop(\"la_classe\") #retrait\n",
    "print(animaux_fideles)\n",
    "les_daltons.update(animaux_fideles) # ajout-réduction de dictionnaires\n",
    "print(\"changement de cretin : \", les_daltons)"
   ]
  },
  {
   "cell_type": "markdown",
   "metadata": {
    "slideshow": {
     "slide_type": "slide"
    }
   },
   "source": [
    "## Les chaînes de caractères `str`\n",
    "\n",
    "Leur importance pratique mériterait presque un chapitre dédié.\n",
    "Bien relire cette section plusieurs fois.\n",
    "\n",
    "**`str` (string) ou chaîne de caractères :** type de donnée _non mutable_ composé d'une suite ordonnée de caractères  (_séquence_) \n",
    "* syntaxe : s'écrit indifféremment avec `' '` et `\" \"` "
   ]
  },
  {
   "cell_type": "markdown",
   "metadata": {
    "slideshow": {
     "slide_type": "subslide"
    }
   },
   "source": [
    "### Opérations \n",
    "* `len()`, concaténation, répétition\n",
    "\n",
    "**Accès** \n",
    "* par indexation : `s[i]`, `s[0]`, `s[-1]`\n",
    "* par extraction de sous-chaînes ou tranches de `str` : `s[i:j]`, `s[:]`, `s[i:]`, `s[-2:]`, `s[1:10:2]`      "
   ]
  },
  {
   "cell_type": "code",
   "execution_count": 26,
   "metadata": {
    "slideshow": {
     "slide_type": "fragment"
    }
   },
   "outputs": [
    {
     "name": "stdout",
     "output_type": "stream",
     "text": [
      "! 9\n",
      "bnor! 5\n"
     ]
    }
   ],
   "source": [
    "hello = 'bonjour !'\n",
    "print(hello[-1], len(hello))\n",
    "s = hello[0:len(hello):2]\n",
    "print(s, len(s))"
   ]
  },
  {
   "cell_type": "markdown",
   "metadata": {
    "slideshow": {
     "slide_type": "subslide"
    }
   },
   "source": [
    "**Modification**\n",
    "\n",
    "* Une `str` est _**non** mutable_\n",
    "* Toute modification de sa valeur \n",
    "    * créé une nouvelle `str` \n",
    "    * et détruit la précédente ;\n",
    "    * ce qui justifie que la nouvelle `str` puisse être désignée par le même identifiant.\n",
    "    * Se souvenir des illustrations pythontutor déjà vues (copie de `list`, concaténation de `str`)."
   ]
  },
  {
   "cell_type": "code",
   "execution_count": 27,
   "metadata": {},
   "outputs": [
    {
     "name": "stdout",
     "output_type": "stream",
     "text": [
      "abc 4303084336\n",
      "abc 4303084336\n",
      "abcdef 4345532592\n"
     ]
    }
   ],
   "source": [
    "s = 'abc'\n",
    "print(s, id(s))\n",
    "\n",
    "t = s\n",
    "print(t, id(t))\n",
    "\n",
    "s = s + 'def'\n",
    "print(s, id(s))\n"
   ]
  },
  {
   "cell_type": "markdown",
   "metadata": {
    "slideshow": {
     "slide_type": "subslide"
    }
   },
   "source": [
    "### Fonctions-méthodes \n",
    "\n",
    "Ces fonctions-méthodes spécifiques aux `str` sont utiles en pratique.  \n",
    "Savoir qu'elles existent est suffisant dans le cadre de ce cours.  \n",
    "Les identifiants sont en général bien explicites.  \n",
    "\n",
    "On distingue surtout deux types de fonctions-méthodes. \n",
    "     \n",
    "Celles qui retournent un `bool`: \n",
    "\n",
    "- `.isupper()`, `.istitle()`,  \n",
    "- `.isalnum()` (comprendre _is alpha and num_),  `.isalpha()`, `.isdigit()`, `.isspace()`,  \n",
    "- `.startswith()`, `.endswith()`  \n",
    "\n",
    "\n",
    "Celles qui modifient l'argument `arg` :\n",
    "\n",
    "- la casse des caractères : `.upper()`, `.lower()`, `.capitalize()`, `.swapcase()`  \n",
    "- la justification : `.expantabs(nb)`, `.center(width)`, `.ljust()`, `.rjust()`, `.zfill(width)` (comprendre _zero fill_),  \n",
    "\n",
    "ou aussi : \n",
    "\n",
    "- `.replace(old, new, count)` où `count` est le nombre de remplacements à effectuer, \n",
    "- `.join(cont)` concatène les chaînes du conteneur `cont` en intercalant `arg`,  \n",
    "- `.split(seps)` partage la chaîne `arg` selons `seps` et retourne le tout sous forme de `list` de `str` ; \n",
    "     - **très utile en pratique** pour manipuler les mots d'un texte par exemple.  \n",
    "\n",
    "On finit en mentionnant cette dernière méthode de recherche :\n",
    "\n",
    "- `.find(substr, deb, fin)` qui retourne l'indice de `substr` dans `arg[deb,fin]`.    \n",
    "\n",
    "\n"
   ]
  },
  {
   "cell_type": "code",
   "execution_count": 28,
   "metadata": {
    "slideshow": {
     "slide_type": "fragment"
    }
   },
   "outputs": [
    {
     "name": "stdout",
     "output_type": "stream",
     "text": [
      "False True\n",
      "['b', 'nj', 'ur !']\n",
      "bonjour ! False\n",
      "BONJOUR ! True False \n",
      "\n",
      ".split: ['BONJOUR', '!'] <class 'list'> <class 'str'> \n",
      "\n",
      ".join: BONJOURzz!zz! <class 'str'> \n",
      "\n",
      ".replace: BONJOURzz@BONJOURzz!zz!@zz!\n",
      ".replace: BONJOURzz@BONJOURzz!zz!@zz@BONJOURzz!zz!@\n"
     ]
    }
   ],
   "source": [
    "hello = 'bonjour !'\n",
    "\n",
    "t = hello.split('o')\n",
    "print('z' in t, 'b' in t)\n",
    "print(t)\n",
    "\n",
    "plus_fort = hello.upper()\n",
    "print(hello, hello.isupper())\n",
    "print(plus_fort, plus_fort.isupper(), plus_fort.isalpha(), '\\n')\n",
    "\n",
    "liste_de_deux = plus_fort.split()\n",
    "print(\".split:\", liste_de_deux, type(liste_de_deux), type(liste_de_deux[0]), '\\n')\n",
    "\n",
    "liste_de_deux = 'zz!zz'.join(liste_de_deux)\n",
    "print(\".join:\", liste_de_deux, type(liste_de_deux), '\\n')\n",
    "\n",
    "deux_fois_plus_fort = liste_de_deux.replace('!', '@'+str(liste_de_deux)+'@', 1)\n",
    "print(\".replace:\", deux_fois_plus_fort)\n",
    "\n",
    "deux_fois_plus_fort = liste_de_deux.replace('!', '@'+str(liste_de_deux)+'@', 2)\n",
    "print(\".replace:\", deux_fois_plus_fort)"
   ]
  },
  {
   "cell_type": "markdown",
   "metadata": {},
   "source": [
    "**Rappel sur les fonctions-méthodes qui \"modifient\" une `str`**\n",
    "\n",
    "- Le caractère _non mutable_ des `str` n'est pas mis en défaut par les méthodes de _modification_\n",
    "- Celles-ci créent de _nouvelles_ `str` "
   ]
  },
  {
   "cell_type": "code",
   "execution_count": 29,
   "metadata": {},
   "outputs": [
    {
     "name": "stdout",
     "output_type": "stream",
     "text": [
      "4345511856\n",
      "4345511856\n",
      "4336343152\n",
      "4336343152\n"
     ]
    }
   ],
   "source": [
    "hello = 'bonjour !'\n",
    "print(id(hello))\n",
    "\n",
    "bjr = hello\n",
    "print(id(bjr))\n",
    "\n",
    "plus_fort = hello.upper()\n",
    "print(id(plus_fort))\n",
    "\n",
    "hello = plus_fort\n",
    "print(id(hello))"
   ]
  },
  {
   "cell_type": "markdown",
   "metadata": {
    "slideshow": {
     "slide_type": "subslide"
    }
   },
   "source": [
    "(sec:echappement)=\n",
    "### Les caractères spéciaux ou caractères/séquences d'échappement\n",
    "\n",
    "**Caractère d'échappement :** \"backslash\" `\\`\n",
    "\n",
    "**Caractères spéciaux ou séquences d'échappement :** l'association du \"backslash\" `\\` et de certains symboles (ou  suite de symboles) a un sens particulier dans une chaîne de caractères.   \n",
    "Cela permet par exemple d'interpréter différemment les symboles `'` ou `\"` ou ` `.  \n",
    "\n",
    "**Quelques exemples ($\\star$) à connaitre :**\n",
    "- `\\'` ou `\\\"` ou `\\\\` ou `\\/` : les symboles `'` ou `\"` ou `\\` ou `/`   \n",
    "- `\\b` : _backspace_ \n",
    "- `\\t` `\\v`: tabulation horizontale ou verticale\n",
    "- `\\n` : _new line_ saut de ligne  \n",
    "- `\\f` : _form feed_  saut de page  \n",
    "- `\\r` : retour en début de ligne \n",
    "\n",
    "**Remarques.**\n",
    "- Cette notion se retrouve dans d'autres langages de programmation : C, ...   \n",
    "- On parle aussi de _séquence d'échappement_ mais retenons que l'association _`\\` suivie d'un caractère_ est \"comptée\" comme un seul caractère : un caractère spécial.    \n",
    "\n",
    "**Exemples.**"
   ]
  },
  {
   "cell_type": "code",
   "execution_count": 30,
   "metadata": {
    "slideshow": {
     "slide_type": "fragment"
    }
   },
   "outputs": [
    {
     "name": "stdout",
     "output_type": "stream",
     "text": [
      "bonjour\n",
      "\tbonjour\n",
      "s1: 7\n",
      "s2: 8\n",
      "[ b ]\n",
      "[ \t ]\n"
     ]
    }
   ],
   "source": [
    "s1 = 'bonjour'\n",
    "s2 = '\\tbonjour'\n",
    "\n",
    "print(s1)\n",
    "print(s2)\n",
    "print('s1:', len(s1))\n",
    "print('s2:', len(s2))\n",
    "print('[', s1[0], ']')\n",
    "print('[', s2[0], ']')"
   ]
  },
  {
   "cell_type": "markdown",
   "metadata": {
    "slideshow": {
     "slide_type": "subslide"
    }
   },
   "source": [
    "**Comment utiliser le symbole `\\` sans qu'il s'évalue comme l'annonce d'une séquence d'échappement ?**\n",
    "- avec lui même !\n",
    "- ainsi `\\\\` s'évalue comme le caractère `\\` \n",
    "- et `\\\\n` comme la chaîne de **2** caractères non évalués `\\n` (piégeux !)."
   ]
  },
  {
   "cell_type": "code",
   "execution_count": 31,
   "metadata": {
    "slideshow": {
     "slide_type": "fragment"
    }
   },
   "outputs": [
    {
     "name": "stdout",
     "output_type": "stream",
     "text": [
      "\\ texte avec '\\' au début et à la fin \\\n",
      "\n",
      "Bo\n",
      "jour\n",
      "Bo\\njour\n",
      "Bonjour\n"
     ]
    }
   ],
   "source": [
    "print(\"\\\\ texte avec '\\\\' au début et à la fin \\\\\")\n",
    "print()\n",
    "\n",
    "print(\"Bo\\njour\")\n",
    "print(\"Bo\\\\njour\")\n",
    "print(\"Bo\\\\n\\b\\bnjour\")"
   ]
  },
  {
   "cell_type": "markdown",
   "metadata": {
    "slideshow": {
     "slide_type": "subslide"
    }
   },
   "source": [
    "Ainsi le `\\` évite d'évaluer \"normalement\" le symbole qui le suit.  \n",
    "\n",
    "**Rmq.**  \n",
    "Dans l'exemple suivant, expliquer pourquoi `va` (aux lignes affichées 2 et 4) n'est pas à la même colonne entre le premier et le second `print` ?  "
   ]
  },
  {
   "cell_type": "code",
   "execution_count": 32,
   "metadata": {
    "slideshow": {
     "slide_type": "fragment"
    }
   },
   "outputs": [
    {
     "name": "stdout",
     "output_type": "stream",
     "text": [
      "Bonjour \"mon ami\" ! \n",
      " \t \t  Ca va ?\n",
      "Bonjour \"mon ami\" ! \n",
      " Comment va ? \n"
     ]
    }
   ],
   "source": [
    "print('Bonjour \\\"mon ami\\\" ! \\n \\t \\t  Ca va ?')\n",
    "print('Bonjour \\\"mon ami\\\" ! \\n \\t \\t  Ca va ? \\r Comment')"
   ]
  },
  {
   "cell_type": "markdown",
   "metadata": {
    "slideshow": {
     "slide_type": "fragment"
    }
   },
   "source": [
    "_Réponse :_\n",
    "1. **Analyse du premier `print()`** : on s'intéresse à l'_interprétation_ par le `print()` de la chaîne de caractère argument.   \n",
    "    - `\\n` et `\\t` sont resp. les symboles du _saut à la ligne_ et de la _tabulation_    \n",
    "    - la tabulation est interprétée _dans mon environnement_ comme 7 (caractères) espaces  \n",
    "    - __lors de l'affichage__, la chaîne à afficher à partir du `\\n` est donc _interprétée_ comme :\n",
    "        - 1 espace\n",
    "        - 7 espaces (1 tabulation)\n",
    "        - 1 espace\n",
    "        - 7 espaces (1 tabulation)\n",
    "        - 2 espaces\n",
    "        - les 7 caractères `Ca va ?`.  \n",
    "    - Soit donc au total 25 caractères affichés sur la seconde ligne (après le `\\n`).      "
   ]
  },
  {
   "cell_type": "markdown",
   "metadata": {
    "slideshow": {
     "slide_type": "fragment"
    }
   },
   "source": [
    "2. **Analyse de second `print()`** : on va expliciter la valeur de la chaîne de caractères sans se soucier dans un premier temps de son interprétation à l'affichage, cad. lors de l'exécution du `print()`.  \n",
    "    - `\\t` est une chaîne de caractères de longueur 1, cad. un caractère : \n",
    "        - essayer `type('\\t')` et `len('\\t')` \n",
    "    - à partir du `\\n`, la chaîne de caractères ` \\t \\t  Ca va ?`  est de longueur 13\n",
    "        - essayer `len(' \\t \\t  Ca va ?')` \n",
    "    - `\\r` revient en début de ligne dans _cette chaîne de caractères_\n",
    "        - cad. juste après le `\\n` \n",
    "        - et donc \"recule\" (la position d'entrée) de 13 caractères sur cette ligne  \n",
    "    - ` Comment` est un chaîne de caractères de longueur 8 \n",
    "        - elle est placée aux 8 premiers caractères à partir de la position du curseur, cad. du début de la ligne\n",
    "        - et ainsi _écrase_ les 8 premiers caractères de la chaîne ` \\t \\t  Ca va ?`\n",
    "        - ces 8 premiers caractères sont : ` \\t \\t  Ca`  \n",
    "    - donc la chaîne de caractètes à afficher devient, à partir du `\\n`: ` Comment va ?`\n",
    "        - on peut vérifier que `len(\" Comment va ?\")` retourne 13. \n",
    "    - L'affichage obtenu est conforme à l'analyse.  "
   ]
  },
  {
   "cell_type": "code",
   "execution_count": 33,
   "metadata": {
    "slideshow": {
     "slide_type": "fragment"
    }
   },
   "outputs": [
    {
     "name": "stdout",
     "output_type": "stream",
     "text": [
      "[\t]\n",
      "[xxxxxxx]\n",
      "\n",
      "Bonjour \"collègue\" ! \n",
      " \t \t  Ca va ?\n",
      ".........................\n",
      "Bonjour \"collègue\" ! \n",
      " Comment va ? \n",
      ".............\n"
     ]
    }
   ],
   "source": [
    "print('[\\t]')\n",
    "tab = '[' + 'x'*7 + ']'  # sept x entre crochets\n",
    "print(tab)\n",
    "print()\n",
    "print('Bonjour \\\"collègue\\\" ! \\n \\t \\t  Ca va ?')\n",
    "s = '.'*25\n",
    "print(s)\n",
    "print('Bonjour \\\"collègue\\\" ! \\n \\t \\t  Ca va ? \\r Comment')\n",
    "s = '.'*13\n",
    "print(s)"
   ]
  },
  {
   "cell_type": "code",
   "execution_count": 34,
   "metadata": {
    "slideshow": {
     "slide_type": "fragment"
    }
   },
   "outputs": [
    {
     "name": "stdout",
     "output_type": "stream",
     "text": [
      "13\n"
     ]
    }
   ],
   "source": [
    "print(len(' Comment va ?'))"
   ]
  },
  {
   "cell_type": "markdown",
   "metadata": {
    "slideshow": {
     "slide_type": "slide"
    },
    "tags": []
   },
   "source": [
    "## Les ensembles   `set` et `frozenset`\n",
    "\n",
    "**`set`** (ensemble) : type composé de valeurs **uniques** écrites entre `{ }` et séparées par des `,`. \n",
    "\n",
    "> {3, \"bonjour\", 7, 1.32}\n",
    "\n",
    "* `set`: ensemble _mutable_  \n",
    "* ($\\star$) `frozenset` : ensemble _non mutable_ \n",
    "\n",
    "La fonction `set()` permet de créer un ensemble à partir d'un tuple ou d'une chaîne de caractères.  \n",
    "\n",
    "**Opérations :**\n",
    "- opérations ensemblistes (des maths) : \n",
    "    * `in` et `not in` :  appartenance ou non \n",
    "    * `|` : union\n",
    "    * `&` : intersection\n",
    "    * `-`: différence\n",
    "    * `^`: différence symétrique  (complémentaire de l'intersection)\n",
    "    * `<=` ou `<` : inclusion ensembliste, resp. _est un sous-ensemble de_ vs. _est inclus strictement dans_; `A < B` == `A <= B` and `A != B` (et de même : `>=` `>`)"
   ]
  },
  {
   "cell_type": "code",
   "execution_count": 46,
   "metadata": {
    "slideshow": {
     "slide_type": "subslide"
    }
   },
   "outputs": [
    {
     "name": "stdout",
     "output_type": "stream",
     "text": [
      "{'u', 'i', 'a', 'y', 'o', 'e'} 6\n",
      "True\n",
      "False\n",
      "aie : {'e', 'i', 'a'}\n",
      "voyelles : {'u', 'i', 'a', 'y', 'o', 'e'}\n",
      "union : {'u', 'i', 'a', 'y', 'o', 'e'}\n",
      "autre union : {'u', 'b', 'i', 'a', 'y', 'o', 'f', 'e'}\n",
      "intersection : {'e', 'i', 'a'}\n",
      "difference :  set() {'b', 'f'}\n",
      "difference symétrique:  {'u', 'y', 'o'}\n",
      "inclusions : True True False False\n"
     ]
    }
   ],
   "source": [
    "bof = {'b', 'o', 'f'}\n",
    "voyelles = set('aeiouy')\n",
    "aie = set('aie')\n",
    "\n",
    "print(voyelles, len(voyelles))\n",
    "\n",
    "print('a' in voyelles)\n",
    "print('a' in bof)\n",
    "\n",
    "print(\"aie :\", aie)\n",
    "print(\"voyelles :\", voyelles)\n",
    "\n",
    "print(\"union :\", voyelles | aie)\n",
    "print(\"autre union :\", voyelles | bof)\n",
    "print(\"intersection :\", voyelles & aie)\n",
    "print(\"difference : \", aie - voyelles, bof - voyelles)\n",
    "print(\"difference symétrique: \", aie ^ voyelles)\n",
    "print(\"inclusions :\", aie < voyelles, aie <= voyelles, aie >= voyelles, bof < voyelles)\n",
    " \n",
    "#print(aie[1])  # déclenche une erreur : l'accès indexé n'est pas possible dans un ensemble"
   ]
  },
  {
   "cell_type": "markdown",
   "metadata": {
    "slideshow": {
     "slide_type": "slide"
    }
   },
   "source": [
    "## Spécifier des fonctions avec des types composés\n",
    "\n",
    "\n",
    "Les fonctions peuvent manipuler des arguments de type composé.\n",
    "\n",
    "On a déjà vu beaucoup d'exemples avec les tableaux.\n",
    "Ces derniers ayant été représentés en python par le type (composé) _liste_, on sait expliciter le _type_ de tels paramètres à l'aide de `List` (avec une majuscule) du module `typing`.\n",
    "\n",
    "On va étendre cette approche aux type composés vus dans ce chapitre."
   ]
  },
  {
   "cell_type": "markdown",
   "metadata": {},
   "source": [
    "<div class=\"alert alert-block alert-info\">\n",
    "\n",
    "Depuis python **3.9**, il est possible de paramètrer les types prédéfinis avec des `[ ]` de façon similaire à celle décrite dans la section 2 de cette partie.\n",
    "\n",
    "Il n'est donc plus nécessaire de passer par les types \"avec majuscule\" de `typing`.\n",
    "\n",
    "</div>"
   ]
  },
  {
   "cell_type": "markdown",
   "metadata": {
    "slideshow": {
     "slide_type": "subslide"
    }
   },
   "source": [
    "### Paramètres de type composé prédéfini\n",
    "\n",
    "Les types composés prédéfinis de python sont renvoyés par la fonction `type()` (appliquée à une variable). \n",
    "\n",
    "- `list`\n",
    "- `dict`\n",
    "- `tuple`\n",
    "- `set`\n",
    "- `str`"
   ]
  },
  {
   "cell_type": "code",
   "execution_count": 35,
   "metadata": {
    "slideshow": {
     "slide_type": "fragment"
    }
   },
   "outputs": [
    {
     "name": "stdout",
     "output_type": "stream",
     "text": [
      "<class 'tuple'>\n",
      "<class 'list'>\n",
      "<class 'dict'>\n",
      "<class 'set'>\n",
      "<class 'str'>\n"
     ]
    }
   ],
   "source": [
    "unTuple = (1,2,3)\n",
    "uneListe = [1, 'a', 1.3]\n",
    "unDictionnaire = { \"le_mechant\":\"Jo\", '2':\"Jack\",  3:\"William\", \"le_cretin\": \"Averell\"}\n",
    "unEnsemble = {'b', 'o', 'f'}\n",
    "uneChaineDeCaracteres = \"bof\"\n",
    "\n",
    "for v in (unTuple, uneListe, unDictionnaire, unEnsemble, uneChaineDeCaracteres):\n",
    "    print(type(v))"
   ]
  },
  {
   "cell_type": "markdown",
   "metadata": {
    "slideshow": {
     "slide_type": "subslide"
    }
   },
   "source": [
    "**Solution minimale.** On peut donc **utiliser ces types prédéfinis** pour spécifier le type des paramètres d'une fonction.\n",
    "\n",
    "\n",
    "<div class=\"alert alert-block alert-info\">\n",
    "    \n",
    "Par la suite, on utilisera au moins cette solution minimale pour toutes les spécifications de fonction avec des paramètres de type composé.\n",
    "\n",
    "</div>\n"
   ]
  },
  {
   "cell_type": "code",
   "execution_count": 36,
   "metadata": {
    "slideshow": {
     "slide_type": "fragment"
    }
   },
   "outputs": [
    {
     "name": "stdout",
     "output_type": "stream",
     "text": [
      "3\n",
      "4\n",
      "3\n",
      "13\n",
      "13\n"
     ]
    }
   ],
   "source": [
    "def nb_caracteres(s : str) -> int:\n",
    "    return len(s)\n",
    "\n",
    "def nb_entrees(d : dict) -> int:\n",
    "    return len(d)\n",
    "\n",
    "def card(s : set) -> int:\n",
    "    return len(s)\n",
    "\n",
    "# exemple de 2 fonctions d'identifiant identiques \n",
    "# mais de signature différentes grâce au typage de\n",
    "# ses paramètres formels\n",
    "# On appelle aussi cette homonymie de la \"surcharge de fonctions\"\n",
    "def nb_val(l : list) -> int:\n",
    "    return len(s)\n",
    "\n",
    "def nb_val(t : tuple) -> int:\n",
    "    return len(s)\n",
    "  \n",
    "print(nb_caracteres(uneChaineDeCaracteres))\n",
    "print(nb_entrees(unDictionnaire))\n",
    "print(card(unEnsemble))\n",
    "for v in (uneListe, unTuple):\n",
    "    print(nb_val(v))    "
   ]
  },
  {
   "cell_type": "markdown",
   "metadata": {
    "slideshow": {
     "slide_type": "subslide"
    }
   },
   "source": [
    "**Rmq.** Dans l'exemple précédent, on a 2 fonctions d'identifiant identique `nb_val()` mais de signatures différentes grâce au typage de leurs paramètres formels.\n",
    "\n",
    "On a par exemple déjà signalé cette caractéristique avec les différents sens du symbole `+` selon qu'il s'applique à des entiers, des flottants, des chaînes de caractères, ...\n",
    "\n",
    "\n",
    "On appelle aussi cette homonymie de la _surcharge de fonctions_."
   ]
  },
  {
   "cell_type": "markdown",
   "metadata": {
    "slideshow": {
     "slide_type": "slide"
    }
   },
   "source": [
    "### ($\\star$) Mieux expliciter le type composé \n",
    "\n",
    "Comme on l'a fait pour _mieux_ expliciter les tableaux, on peut utiliser le module `typing` pour aussi expliciter \"l'intérieur\" d'un type composé, cad. le type de ses composants.\n",
    "\n",
    "Par exemple, le type d'un tableau 2D de valeurs entières (type composé qui regroupe des valeurs de même type)  a été spécifié par :\n",
    "> `List[List[int]]`\n",
    "\n",
    "\n",
    "On a ainsi explicité :\n",
    "- la dimension du tableau : ici 2 et la représentation comme une liste de listes\n",
    "- le type de ses valeurs  : ici des entiers, _ie._ des `int` \n",
    "\n",
    "Ce qui n'était pas possible avec le seul type prédéfini `list` (avec un `l`)."
   ]
  },
  {
   "cell_type": "code",
   "execution_count": 37,
   "metadata": {
    "slideshow": {
     "slide_type": "subslide"
    }
   },
   "outputs": [
    {
     "name": "stdout",
     "output_type": "stream",
     "text": [
      "2\n"
     ]
    }
   ],
   "source": [
    "from typing import List\n",
    "\n",
    "def maxTab2D( t : List[List[int]], d1 : int, d2 : int) -> int:\n",
    "    m = t[0][0]\n",
    "    for i in range(d1):\n",
    "        for j in range(d2):\n",
    "            if t[i][j] > m:\n",
    "                m = t[i][j] \n",
    "    return m\n",
    "\n",
    "print(maxTab2D([[1,0],[1,2]], 2, 2))"
   ]
  },
  {
   "cell_type": "markdown",
   "metadata": {
    "slideshow": {
     "slide_type": "subslide"
    }
   },
   "source": [
    "**Une solution satisfaisante.**\n",
    "Le module `typing` introduit les types prédéfinis \"avec majuscule\" suivants  :\n",
    "\n",
    ">  `List` , `Dict`, `Tuple`, `Set`\n",
    "\n",
    "et\n",
    "\n",
    "> `Union`\n",
    "\n",
    "Ces types permettent d'expliciter \"l'intérieur\" des arguments de type composé. La syntaxe s'appuie sur les crochets `[ ]` déjà rencontrés pour les tableaux-listes.\n",
    "\n",
    "**Exemples.**\n",
    "\n",
    "- `Tuple[int, float, str]` est un _tuple_ triplet composé d'un entier, d'un flottant et d'une chaîne de caractères.\n",
    "\n",
    "- `Dict[str, int]` est un dictionnaire de couples _clés:valeur_ de types  `str:int`  \n",
    "\n",
    "- `Union`\n",
    "    - `Union[int, float]` est un paramètre de type `int` ou `float`.\n",
    "    - Il convient par exemple pour écrire une seule version de la fonction `nb_val()`. "
   ]
  },
  {
   "cell_type": "markdown",
   "metadata": {
    "slideshow": {
     "slide_type": "subslide"
    }
   },
   "source": [
    "Ces types paramètrables pourront être utiles pour  spécifier au mieux des paramètres de fonctions de type composé.\n",
    "\n",
    "On y accède après l'importation suivante.\n",
    "\n",
    "**Rmq.** Depuis python 3.9, une approche similaire est possible avec les types prédéfinis python (sans majuscule). \n"
   ]
  },
  {
   "cell_type": "code",
   "execution_count": 38,
   "metadata": {
    "slideshow": {
     "slide_type": "subslide"
    }
   },
   "outputs": [],
   "source": [
    "from typing import List, Dict, Tuple, Set, Union"
   ]
  },
  {
   "cell_type": "code",
   "execution_count": 39,
   "metadata": {
    "slideshow": {
     "slide_type": "fragment"
    }
   },
   "outputs": [
    {
     "name": "stdout",
     "output_type": "stream",
     "text": [
      "4\n",
      "3\n",
      "3\n",
      "3\n"
     ]
    }
   ],
   "source": [
    "def nb_entrees(d : Dict[str, str]) -> int:\n",
    "    return len(d)\n",
    "\n",
    "def card(s : Set[str]) -> int:\n",
    "    return len(s)\n",
    "\n",
    "# exemple d'Union pour la surcharge\n",
    "def nb_val(cont : Union[List[int], Tuple[int]]) -> int:\n",
    "    return len(cont)\n",
    "\n",
    "unTuple = (1,2,3)\n",
    "uneListe = [1, 'a', 1.3]\n",
    "unDictionnaire = { \"le_mechant\":\"Jo\", '2':\"Jack\",  3:\"William\", \"le_cretin\": \"Averell\"}\n",
    "unEnsemble = {'b', 'o', 'f'}\n",
    "uneChaineDeCaracteres = \"bof\"\n",
    "\n",
    "print(nb_entrees(unDictionnaire))\n",
    "print(card(unEnsemble))\n",
    "for v in (uneListe, unTuple):\n",
    "    print(nb_val(v))    "
   ]
  },
  {
   "cell_type": "code",
   "execution_count": 40,
   "metadata": {
    "slideshow": {
     "slide_type": "fragment"
    }
   },
   "outputs": [
    {
     "name": "stdout",
     "output_type": "stream",
     "text": [
      "2 2.2\n"
     ]
    }
   ],
   "source": [
    "# autre exmple avec Union\n",
    "def maxListe( l : List[Union[int, float]]) -> int:\n",
    "    m = l[0]\n",
    "    for i in range(len(l)):\n",
    "        if l[i]> m:\n",
    "            m = l[i] \n",
    "    return m\n",
    "\n",
    "resI = maxListe([1, 0, 1, 2, 2, 2])\n",
    "resF = maxListe([1.0, 1.2, 2.2])\n",
    "\n",
    "print(resI, resF)"
   ]
  },
  {
   "cell_type": "markdown",
   "metadata": {
    "slideshow": {
     "slide_type": "subslide"
    }
   },
   "source": [
    "Consulter la [documentation](https://docs.python.org/fr/3/library/typing.html?highlight=typing#typing.Union)\n",
    "pour d'autres constructions plus avancées et très utiles."
   ]
  },
  {
   "cell_type": "markdown",
   "metadata": {
    "slideshow": {
     "slide_type": "slide"
    }
   },
   "source": [
    "## Synthèse \n",
    "\n",
    "* Conteneurs non mutables : `str`, `tuple` (et `frozenset`)\n",
    "* Conteneurs  mutables : `list`, `dict`, `set`\n",
    "* Création, accès aux valeurs, parcours et modification\n",
    "* Des fonctions (pour les non mutables) et des fonction-méthodes\n",
    "* **Attention** : la modification de non mutable cache une recopie en mémoire \n",
    "* **Attention** : bien que très simples à utiliser, certaines fonctions-méthodes sont d'un coût algorithmique élevé (complexité non constante)\n",
    "* Quels mutables choisir ?\n",
    "    - les `list` pour des tableaux 1D de valeurs de type qcq et où le traitement demande de la souplesse \n",
    "    - les `dict` pour des clés `str` \n",
    "    - ($\\star$) mais aussi les `ndarray` pour du calcul numérique type algèbre linéaire ou les tableaux multi-dimensionnels de valeurs numériques -- voir [cette annexe](ann:ndarray).\n",
    "* La spécification d'arguments de type composé avec le module `typing` ou plus directement en python>=3.9"
   ]
  },
  {
   "cell_type": "markdown",
   "metadata": {},
   "source": [
    "### Avoir les idées claires\n",
    "\n",
    "\n",
    "Distinguer les  caractéristiques des structures de données :\n",
    "tuple, liste, dictionnaire, ensemble, et chaîne de caractères\n",
    "-- aussi appelés type composé ou conteneur en python :\n",
    "\n",
    "- pour une représentation,un stockage des données et des traitements adaptés au problème  \n",
    "- pour effectuer l'accès aux valeurs, le parcours (séquences, itérateur), et la modification ou la copie (mutabilité) de ces SD\n",
    "- ($\\star$) Connaître les complexités de ces traitements \n",
    "\n",
    "\n",
    "\n",
    "### Savoir faire\n",
    "\n",
    "- Connaitre la syntaxe python de définition et manipulation de ces SD\n",
    "- Créer des listes et dictionnaires en compréhension\n",
    "- Connaître les méthodes (prédéfinies) utiles au traitement, en particulier des chaînes de caractères \n",
    "- Définir des spécifications de fonctions avec un ou des paramètres de type composé\n"
   ]
  }
 ],
 "metadata": {
  "celltoolbar": "Diaporama",
  "kernelspec": {
   "display_name": "Python 3 (ipykernel)",
   "language": "python",
   "name": "python3"
  },
  "language_info": {
   "codemirror_mode": {
    "name": "ipython",
    "version": 3
   },
   "file_extension": ".py",
   "mimetype": "text/x-python",
   "name": "python",
   "nbconvert_exporter": "python",
   "pygments_lexer": "ipython3",
   "version": "3.9.6"
  },
  "latex_envs": {
   "LaTeX_envs_menu_present": true,
   "autoclose": false,
   "autocomplete": true,
   "bibliofile": "biblio.bib",
   "cite_by": "apalike",
   "current_citInitial": 1,
   "eqLabelWithNumbers": true,
   "eqNumInitial": 1,
   "hotkeys": {
    "equation": "Ctrl-E",
    "itemize": "Ctrl-I"
   },
   "labels_anchors": false,
   "latex_user_defs": false,
   "report_style_numbering": true,
   "user_envs_cfg": false
  },
  "toc": {
   "base_numbering": 1,
   "nav_menu": {},
   "number_sections": true,
   "sideBar": false,
   "skip_h1_title": false,
   "title_cell": "Table of Contents",
   "title_sidebar": "Contents",
   "toc_cell": true,
   "toc_position": {
    "height": "517.2291870117188px",
    "left": "1120.640625px",
    "top": "0px",
    "width": "352.6041564941406px"
   },
   "toc_section_display": true,
   "toc_window_display": true
  }
 },
 "nbformat": 4,
 "nbformat_minor": 4
}
