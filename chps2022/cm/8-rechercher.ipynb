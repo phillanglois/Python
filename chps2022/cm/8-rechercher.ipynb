{
 "cells": [
  {
   "cell_type": "markdown",
   "metadata": {
    "slideshow": {
     "slide_type": "slide"
    }
   },
   "source": [
    "(ch:rechercher)=\n",
    "# Rechercher\n",
    "\n",
    "Mis à jour : {sub-ref}`today`, lecture : {sub-ref}`wordcount-minutes`\n",
    "minutes minimum, PhL."
   ]
  },
  {
   "cell_type": "code",
   "execution_count": 1,
   "metadata": {
    "slideshow": {
     "slide_type": "slide"
    }
   },
   "outputs": [],
   "source": [
    "# pour python<3.9\n",
    "#from typing import list"
   ]
  },
  {
   "cell_type": "markdown",
   "metadata": {
    "slideshow": {
     "slide_type": "slide"
    }
   },
   "source": [
    "## Objectif du chapitre\n",
    "\n",
    "Ce chapitre présente des versions de deux algorithmes (déjà connus) pour _rechercher si une valeur est présente ou non dans un ensemble de valeurs_.\n",
    "Cet ensemble de valeurs est stocké dans _un tableau_ (1D ou nD selon le type de valeurs).\n",
    "\n",
    "Au delà de la question de la recherche de valeur dans un ensemble, l'objectif est ici de _construire des versions itératives et récursives d'un **même algorithme**_.  \n",
    "\n",
    "L'analyse de la complexité de ces traitements sera aussi réalisée ainsi ($\\star$) qu'une illustration de preuve de terminaison et de correction de ces traitements.\n",
    "\n",
    "Les algorithmes concernés sont :\n",
    "- la recherche séquentielle  \n",
    "- la recherche dichotomique -- lorsque les valeurs sont préalablement triées."
   ]
  },
  {
   "cell_type": "markdown",
   "metadata": {
    "slideshow": {
     "slide_type": "slide"
    }
   },
   "source": [
    "## Recherche séquentielle\n",
    "\n",
    "### Principes\n",
    "\n",
    "**Objectif**  \n",
    "Rechercher si une valeur apparait dans un tableau de valeurs  \n",
    "Répondre _vrai_ si la valeur est dans le tableau, _faux_ sinon\n",
    "\n",
    "**Hypothèse de départ**  \n",
    "Il existe une relation de comparaison entre deux valeurs : égalité. \n",
    "    - on la note `==`  \n",
    "Aucune hypothèse sur les valeurs"
   ]
  },
  {
   "cell_type": "markdown",
   "metadata": {
    "slideshow": {
     "slide_type": "subslide"
    }
   },
   "source": [
    "**Principe de la recherche séquentielle**  \n",
    "Parcourir _séquentiellement_ le tableau de valeurs et comparer à la valeur cherchée.\n",
    "\n",
    "- séquentiellement : \"valeur après valeur\" selon un ordre simple induit par les indices des valeurs dans le t\n",
    "    - exemple : du début à la fin du tableau donc pour un ordre croissant des indices \n",
    "- parcours complet : de 0 à `len(t)-1` \n",
    "- parcours optimal : arrêt du parcours dès la valeur trouvée"
   ]
  },
  {
   "cell_type": "markdown",
   "metadata": {
    "slideshow": {
     "slide_type": "subslide"
    }
   },
   "source": [
    "**Exemple pour la suite**.\n",
    "\n",
    "Un tableau de 10 entiers aléatoirement compris entre 0 et 10 va illustrer notre propos."
   ]
  },
  {
   "cell_type": "code",
   "execution_count": 2,
   "metadata": {
    "slideshow": {
     "slide_type": "fragment"
    }
   },
   "outputs": [
    {
     "name": "stdout",
     "output_type": "stream",
     "text": [
      "[0, 1, 1, 5, 2, 10, 4, 4, 9, 3]\n"
     ]
    }
   ],
   "source": [
    "from random import randint, seed\n",
    "\n",
    "n = 10\n",
    "t = [0 for i in range(n)]\n",
    "\n",
    "seed(2)\n",
    "for i in range(n):\n",
    "    t[i] = randint(0, n)\n",
    "print(t)"
   ]
  },
  {
   "cell_type": "markdown",
   "metadata": {
    "slideshow": {
     "slide_type": "subslide"
    }
   },
   "source": [
    "#### En-tête \"modèle\" de la fonction"
   ]
  },
  {
   "cell_type": "markdown",
   "metadata": {
    "slideshow": {
     "slide_type": "fragment"
    }
   },
   "source": [
    "```python\n",
    "def rech_seq(val: int, tab: list[int], dim: int) -> bool:\n",
    "```\n",
    "- entrées : \n",
    "    - _val_ : la valeur à chercher -- ici un `int`\n",
    "    - _tab_ : le tableau 1D qui contient les valeurs -- ici un tableau 1D représenté par une liste python \n",
    "    - _dim_ : `len(tab)` le nombre de valeurs  \n",
    "\n",
    "- sortie :\n",
    "    - booléen : _True_ ou _False_ "
   ]
  },
  {
   "cell_type": "markdown",
   "metadata": {
    "slideshow": {
     "slide_type": "subslide"
    }
   },
   "source": [
    "Cet en-tête de fonction fixe certaines caractéristiques des paramètres du problème. \n",
    "En effet, la recherche s'effectue ici dans _un ensemble_ représenté par un tableau et _la valeur cherchée_ est un entier. \n",
    "Ces paramètres ensemble et valeur pourraient être différents : par exemple la recherche peut s'effectuer dans une liste de nombres flottants, une chaîne de caractères, un dictionnaire ... \n",
    "Il faudrait alors modifier l'en-tête pour ces types de données."
   ]
  },
  {
   "cell_type": "markdown",
   "metadata": {
    "slideshow": {
     "slide_type": "fragment"
    }
   },
   "source": [
    "Cet en-tête est donc un _modèle_ d'en-tête pour une fonction de recherche. \n",
    "On peut voir _le type des valeurs_ et _la structure de stockage_ comme des paramètres de plus haut niveau d'abstraction de ce traitement. \n",
    "Ceci correspond à la notion de _généricité_ ou de certaines formes de la notion d'héritage dans les langages (dits) objet. "
   ]
  },
  {
   "cell_type": "markdown",
   "metadata": {
    "slideshow": {
     "slide_type": "slide"
    }
   },
   "source": [
    "### Algorithmes itératifs"
   ]
  },
  {
   "cell_type": "markdown",
   "metadata": {
    "slideshow": {
     "slide_type": "subslide"
    }
   },
   "source": [
    "#### Parcours complet\n",
    "\n",
    "**Principe du parcours séquentiel \"naif\"**:  \n",
    "- On parcourt toutes les valeurs `tab[i]` pour `i = 0,.., dim-1`  \n",
    "- on compare à la valeur cherchée `val`  \n",
    "- on met à jour une variable booléenne `trouve` qui marque la présence ou non de `val`dans `tab`\n",
    "- A la fin du parcours, `trouve` indique si `val`a été trouvée ou non\n",
    "    - donc on initialise `trouve`à `False` avant de commencer le parcours  "
   ]
  },
  {
   "cell_type": "code",
   "execution_count": 3,
   "metadata": {
    "slideshow": {
     "slide_type": "fragment"
    }
   },
   "outputs": [],
   "source": [
    "def rech_seq_for(val: int, tab: list[int], dim: int) -> bool:\n",
    "    trouve = False\n",
    "    for i in range(dim):\n",
    "        if tab[i] == val:\n",
    "            trouve = True\n",
    "    return trouve"
   ]
  },
  {
   "cell_type": "markdown",
   "metadata": {
    "slideshow": {
     "slide_type": "subslide"
    }
   },
   "source": [
    "Application :"
   ]
  },
  {
   "cell_type": "code",
   "execution_count": 4,
   "metadata": {
    "slideshow": {
     "slide_type": "fragment"
    }
   },
   "outputs": [
    {
     "name": "stdout",
     "output_type": "stream",
     "text": [
      "1 dans  [0, 1, 1, 5, 2, 10, 4, 4, 9, 3] ? True\n",
      "3 dans  [0, 1, 1, 5, 2, 10, 4, 4, 9, 3] ? True\n",
      "7 dans  [0, 1, 1, 5, 2, 10, 4, 4, 9, 3] ? False\n"
     ]
    }
   ],
   "source": [
    "v = 1\n",
    "print(v, \"dans \", t, \"?\", rech_seq_for(v, t, len(t)))\n",
    "v = 3\n",
    "print(v, \"dans \", t, \"?\", rech_seq_for(v, t, len(t)))\n",
    "v = 7\n",
    "print(v, \"dans \", t, \"?\", rech_seq_for(v, t, len(t)))"
   ]
  },
  {
   "cell_type": "markdown",
   "metadata": {
    "slideshow": {
     "slide_type": "subslide"
    }
   },
   "source": [
    "**Commentaires.** \n",
    "\n",
    "- Le parcours complet du tableau est d'autant plus inefficace que le nombre de valeurs inutilement parcourues est important : valeur cherchée trouvée tôt dans ce parcours et/ou taille du tableau élevée.   \n",
    "\n",
    "- D'un point de vue de complexité, on identifie un meilleur cas (valeur présente tôt) qui n'est pas traité différemment d'un pire cas (valeur absente). \n",
    "\n",
    "- C'est une faiblesse de cette première solution."
   ]
  },
  {
   "cell_type": "markdown",
   "metadata": {
    "slideshow": {
     "slide_type": "subslide"
    }
   },
   "source": [
    "#### Parcours minimal\n",
    "\n",
    "Même principe excepté :\n",
    "- la mise à jour de `trouve` permet d'arrêter le parcours _dès que_ `val`a été trouvée\n",
    "\n",
    "Voilà une première version qui découle de la construction avec `for`."
   ]
  },
  {
   "cell_type": "code",
   "execution_count": 5,
   "metadata": {
    "slideshow": {
     "slide_type": "fragment"
    }
   },
   "outputs": [],
   "source": [
    "def rech_seq_while_v0(val: int, tab: list[int], dim: int) -> bool:\n",
    "    trouve = False\n",
    "    i = 0\n",
    "    while i < dim and trouve == False:\n",
    "        if tab[i] == val:\n",
    "            trouve = True\n",
    "        i = i + 1 \n",
    "    return trouve"
   ]
  },
  {
   "cell_type": "markdown",
   "metadata": {
    "slideshow": {
     "slide_type": "subslide"
    }
   },
   "source": [
    "Application :"
   ]
  },
  {
   "cell_type": "code",
   "execution_count": 6,
   "metadata": {
    "slideshow": {
     "slide_type": "fragment"
    }
   },
   "outputs": [
    {
     "name": "stdout",
     "output_type": "stream",
     "text": [
      "1 dans  [0, 1, 1, 5, 2, 10, 4, 4, 9, 3] ? True\n",
      "3 dans  [0, 1, 1, 5, 2, 10, 4, 4, 9, 3] ? True\n",
      "7 dans  [0, 1, 1, 5, 2, 10, 4, 4, 9, 3] ? False\n"
     ]
    }
   ],
   "source": [
    "v = 1\n",
    "print(v, \"dans \", t, \"?\", rech_seq_while_v0(v, t, len(t)))\n",
    "v = 3\n",
    "print(v, \"dans \", t, \"?\", rech_seq_while_v0(v, t, len(t)))\n",
    "v = 7\n",
    "print(v, \"dans \", t, \"?\", rech_seq_while_v0(v, t, len(t)))"
   ]
  },
  {
   "cell_type": "markdown",
   "metadata": {
    "slideshow": {
     "slide_type": "slide"
    }
   },
   "source": [
    "La variable `trouve` n'est pas nécessaire comme l'illustre la version plus simple suivante."
   ]
  },
  {
   "cell_type": "code",
   "execution_count": 7,
   "metadata": {
    "slideshow": {
     "slide_type": "fragment"
    }
   },
   "outputs": [],
   "source": [
    "def rech_seq_while(val: int, tab: list[int], dim: int) -> bool:\n",
    "    i = 0\n",
    "    while i < dim:\n",
    "        if tab[i] == val:\n",
    "            return True\n",
    "        i = i + 1 \n",
    "    return False"
   ]
  },
  {
   "cell_type": "code",
   "execution_count": 8,
   "metadata": {
    "slideshow": {
     "slide_type": "fragment"
    }
   },
   "outputs": [
    {
     "name": "stdout",
     "output_type": "stream",
     "text": [
      "1 dans  [0, 1, 1, 5, 2, 10, 4, 4, 9, 3] ? True\n",
      "3 dans  [0, 1, 1, 5, 2, 10, 4, 4, 9, 3] ? True\n",
      "7 dans  [0, 1, 1, 5, 2, 10, 4, 4, 9, 3] ? False\n"
     ]
    }
   ],
   "source": [
    "v = 1\n",
    "print(v, \"dans \", t, \"?\", rech_seq_while(v, t, len(t)))\n",
    "v = 3\n",
    "print(v, \"dans \", t, \"?\", rech_seq_while(v, t, len(t)))\n",
    "v = 7\n",
    "print(v, \"dans \", t, \"?\", rech_seq_while(v, t, len(t)))"
   ]
  },
  {
   "cell_type": "markdown",
   "metadata": {
    "slideshow": {
     "slide_type": "subslide"
    }
   },
   "source": [
    "**Autre écriture de la condition du `while` où il faut être prudent** :\n",
    "Attention à l'ordre des tests dans la condition de la ligne 4"
   ]
  },
  {
   "cell_type": "code",
   "execution_count": 9,
   "metadata": {
    "slideshow": {
     "slide_type": "fragment"
    }
   },
   "outputs": [],
   "source": [
    "def autre_rech_seq_while(val, tab, dim):\n",
    "    i = 0\n",
    "    # ordre incorrect qui va déclancher IndexError\n",
    "    # while  (tab[i] != val) and (i < dim):\n",
    "    #\n",
    "    # ordre correct où la validité de l'indice est vérifiée avant de l'utiliser\n",
    "    while (i < dim) and (tab[i] != val):\n",
    "        i = i + 1 \n",
    "    if i < dim:\n",
    "        return True\n",
    "    else:\n",
    "        return False"
   ]
  },
  {
   "cell_type": "code",
   "execution_count": 10,
   "metadata": {
    "slideshow": {
     "slide_type": "fragment"
    }
   },
   "outputs": [
    {
     "name": "stdout",
     "output_type": "stream",
     "text": [
      "[0, 1, 1, 5, 2, 10, 4, 4, 9, 3]\n",
      "1 dans  [0, 1, 1, 5, 2, 10, 4, 4, 9, 3] ? True\n",
      "3 dans  [0, 1, 1, 5, 2, 10, 4, 4, 9, 3] ? True\n",
      "7 dans  [0, 1, 1, 5, 2, 10, 4, 4, 9, 3] ? False\n"
     ]
    }
   ],
   "source": [
    "print(t)\n",
    "v = 1\n",
    "print(v, \"dans \", t, \"?\", autre_rech_seq_while(v, t, len(t)))\n",
    "v = 3\n",
    "print(v, \"dans \", t, \"?\", autre_rech_seq_while(v, t, len(t)))\n",
    "v = 7\n",
    "print(v, \"dans \", t, \"?\", autre_rech_seq_while(v, t, len(t)))"
   ]
  },
  {
   "cell_type": "markdown",
   "metadata": {
    "slideshow": {
     "slide_type": "subslide"
    }
   },
   "source": [
    "**Ecriture équivalente avec une boucle `for`**\n",
    "\n",
    "La construction suivante permet le même traitement minimal au sein d'une boucle `for` "
   ]
  },
  {
   "cell_type": "code",
   "execution_count": 11,
   "metadata": {
    "slideshow": {
     "slide_type": "fragment"
    }
   },
   "outputs": [],
   "source": [
    "def rech_seq_for_ecourtee(val: int, tab: list[int], dim: int) -> bool:\n",
    "    trouve = False\n",
    "    for i in range(dim):\n",
    "        if tab[i] == val:\n",
    "            return True\n",
    "    return trouve"
   ]
  },
  {
   "cell_type": "code",
   "execution_count": 12,
   "metadata": {
    "slideshow": {
     "slide_type": "fragment"
    }
   },
   "outputs": [
    {
     "name": "stdout",
     "output_type": "stream",
     "text": [
      "[0, 1, 1, 5, 2, 10, 4, 4, 9, 3]\n",
      "1 dans  [0, 1, 1, 5, 2, 10, 4, 4, 9, 3] ? True\n",
      "3 dans  [0, 1, 1, 5, 2, 10, 4, 4, 9, 3] ? True\n",
      "7 dans  [0, 1, 1, 5, 2, 10, 4, 4, 9, 3] ? False\n"
     ]
    }
   ],
   "source": [
    "print(t)\n",
    "v = 1\n",
    "print(v, \"dans \", t, \"?\", rech_seq_for_ecourtee(v, t, len(t)))\n",
    "v = 3\n",
    "print(v, \"dans \", t, \"?\", rech_seq_for_ecourtee(v, t, len(t)))\n",
    "v = 7\n",
    "print(v, \"dans \", t, \"?\", rech_seq_for_ecourtee(v, t, len(t)))"
   ]
  },
  {
   "cell_type": "markdown",
   "metadata": {
    "slideshow": {
     "slide_type": "subslide"
    }
   },
   "source": [
    "#### Cas du tableau vide\n",
    "\n",
    "Ce cas extrême mérite souvent une attention particulière.\n",
    "\n",
    "- Les versions avec la boucle `for` avec la borne `len(t)` s'adaptent \"automatiquement\" à ce cas grâce à la fonction `range()` -- et retournent `False`.\n",
    "- En revanche, les écritures avec `while` ne sont pas satisfaisantes en l'état :\n",
    "    - la condition d'arrêt `i < dim` n'est jamais satisfaite si `dim == 0`.\n",
    "    - un traitement spécifique du tableau vide est toujours possible\n",
    "\n",
    "On verra que l'analyse de la correction de cet algorithme donne une autre solution."
   ]
  },
  {
   "cell_type": "code",
   "execution_count": 13,
   "metadata": {
    "slideshow": {
     "slide_type": "fragment"
    }
   },
   "outputs": [],
   "source": [
    "def rech_seq_while_2(val: int, tab: list[int], dim: int) -> bool:\n",
    "    '''traite le cas du tableau vide'''\n",
    "    assert dim == len(tab)\n",
    "\n",
    "    # cas du tableau vide\n",
    "    if dim == 0:\n",
    "        return False\n",
    "    \n",
    "    # autres cas\n",
    "    i = 0\n",
    "    while i < dim:\n",
    "        if tab[i] == val:\n",
    "            return True\n",
    "        i = i + 1 \n",
    "    return False"
   ]
  },
  {
   "cell_type": "code",
   "execution_count": 14,
   "metadata": {
    "slideshow": {
     "slide_type": "fragment"
    }
   },
   "outputs": [
    {
     "name": "stdout",
     "output_type": "stream",
     "text": [
      "1 dans  [] ? False\n"
     ]
    }
   ],
   "source": [
    "v = 1\n",
    "t_vide = []\n",
    "print(v, \"dans \", t_vide , \"?\", rech_seq_while_2(v, t_vide, len(t_vide)))\n"
   ]
  },
  {
   "cell_type": "markdown",
   "metadata": {
    "slideshow": {
     "slide_type": "slide"
    }
   },
   "source": [
    "### Algorithme récursif"
   ]
  },
  {
   "cell_type": "markdown",
   "metadata": {
    "slideshow": {
     "slide_type": "fragment"
    }
   },
   "source": [
    "**Principe**  \n",
    "\n",
    "- _Récursion_ : Rechercher `val` dans `tab` de `0` à `dim-1`, c'est :\n",
    "    1. regarder si `val` est en première position du tableau `tab`, cad. en `tab[0]`,   \n",
    "    2. si c'est le cas, on a trouvé et on peut répondre : _terminaison_\n",
    "    3. si ce n'est pas le cas, on recommence _récursivement_ en 1. avec la partie restante de `tab`, cad. le sous-tableau \"à droite\" de la première position.  "
   ]
  },
  {
   "cell_type": "markdown",
   "metadata": {
    "slideshow": {
     "slide_type": "subslide"
    }
   },
   "source": [
    "- _Syntaxe plus générale pour un traitement récursif_ :  \n",
    "On va introduire `g` (pour gauche) et `d` (pour droite) pour désigner le premier et le dernier+1 indice de `tab`, cad. `tab[g, d[`   \n",
    "On reprend la description précédente :\n",
    "    - Récursion : Rechercher `val` dans `tab` de `g` à `d` exclus, c'est :\n",
    "    1. regarder si `val` est en première position du tableau `tab`, c-a-d. en `tab[g]`,   \n",
    "    2. si c'est le cas, on a trouvé et on peut répondre : : _terminaison_\n",
    "    3. si ce n'est pas le cas, on recommence _récursivement_ (en 1.) avec le sous-tableau \"à droite\" de la première position, cad. `tab[g+1, d[`.   \n",
    "    "
   ]
  },
  {
   "cell_type": "markdown",
   "metadata": {
    "slideshow": {
     "slide_type": "fragment"
    }
   },
   "source": [
    "- _Terminaison_ : 2 cas  \n",
    "    1. on a trouvé : item 2.  \n",
    "    2. si `tab` est vide, c-a-d. si `g >= dim` : on n'a pas trouvé\n",
    "\n",
    "\n",
    "- _Initialisation_ :   \n",
    "    1. `g = 0` et `d = dim` ou `len(tab)` en python"
   ]
  },
  {
   "cell_type": "markdown",
   "metadata": {
    "slideshow": {
     "slide_type": "subslide"
    }
   },
   "source": [
    "**Mise en oeuvre**  \n",
    "\n",
    "- On traite les terminaisons (`return` des lignes 4 et 6) avant l'appel récursif (avec le `return` de la ligne 8)   \n",
    "- L'initialisation correspond à l'appel récursif principal qui \"passe\" le problème à résoudre à l'algorithme de résolution.\n",
    "    - remarquons ici qu'on définit une fonction dont l'en-tête est similaire à celle des versions itératives : 3 paramètres (la valeur, le nom du tableau et sa taille)\n",
    "    - cette fonction _encapsule_ l'appel principal à la fonction récursive"
   ]
  },
  {
   "cell_type": "code",
   "execution_count": 15,
   "metadata": {
    "slideshow": {
     "slide_type": "fragment"
    }
   },
   "outputs": [],
   "source": [
    "def rech_seq_rec_gd(val: int, tab: list[int], g: int, d:int) -> bool:\n",
    "    '''recherche val dans tab[g,d['''\n",
    "    if g == d:\n",
    "        return False\n",
    "    if t[g] == val:\n",
    "        return True\n",
    "    else:\n",
    "        return rech_seq_rec_gd(val, tab, g+1, d)\n",
    "    \n",
    "def rech_seq_rec(val: int, tab: list[int], dim: int) -> bool:\n",
    "    return rech_seq_rec_gd(val, tab, 0, len(tab))"
   ]
  },
  {
   "cell_type": "code",
   "execution_count": 16,
   "metadata": {
    "slideshow": {
     "slide_type": "fragment"
    }
   },
   "outputs": [
    {
     "name": "stdout",
     "output_type": "stream",
     "text": [
      "1 dans  [0, 1, 1, 5, 2, 10, 4, 4, 9, 3] ? True\n",
      "3 dans  [0, 1, 1, 5, 2, 10, 4, 4, 9, 3] ? True\n",
      "7 dans  [0, 1, 1, 5, 2, 10, 4, 4, 9, 3] ? False\n"
     ]
    }
   ],
   "source": [
    "v = 1\n",
    "print(v, \"dans \", t, \"?\", rech_seq_rec(v, t, len(t)))\n",
    "v = 3\n",
    "print(v, \"dans \", t, \"?\", rech_seq_rec(v, t, len(t)))\n",
    "v = 7\n",
    "print(v, \"dans \", t, \"?\", rech_seq_rec(v, t, len(t)))"
   ]
  },
  {
   "cell_type": "markdown",
   "metadata": {
    "slideshow": {
     "slide_type": "subslide"
    }
   },
   "source": [
    "<div class=\"alert alert-block alert-warning\">\n",
    "L'ordre du traitement des terminaisons (lignes 3 et 5) est important : ici l'accès `t[g]` est susceptible de lever une exception (débordement de tableau). \n",
    "</div>"
   ]
  },
  {
   "cell_type": "markdown",
   "metadata": {
    "slideshow": {
     "slide_type": "subslide"
    }
   },
   "source": [
    "**Remarques :** \n",
    "- Quelle version de recherche séquentielle (parcours complet vs. minimal) correspond à l'écriture récursive ici proposée ?  \n",
    "    - Ecrire l'autre version de façon récursive.  "
   ]
  },
  {
   "cell_type": "markdown",
   "metadata": {
    "slideshow": {
     "slide_type": "slide"
    }
   },
   "source": [
    "## Recherche dichotomique dans un tableau trié  \n",
    "\n",
    "Dans le cas où **les valeurs sont triées**, on peut introduire un traitement plus efficace.  \n",
    "Ce traitement, _par dichotomie_, peut s'écrire de façon itérative ou récursive.  \n",
    "On va ainsi illustrer l'application du principe _diviser pour régner_.  "
   ]
  },
  {
   "cell_type": "markdown",
   "metadata": {
    "slideshow": {
     "slide_type": "slide"
    }
   },
   "source": [
    "### Principes \n",
    "\n",
    "**Objectif**  \n",
    "Rechercher si une valeur apparait dans un tableau de valeurs **triées**  \n",
    "Répondre _vrai_ si la valeur est dans le tableau, _faux_ sinon\n",
    "\n",
    "**Hypothèse de départ**  \n",
    "Les valeurs sont rangées de façon **triée** (on ne le dira jamais assez !)  \n",
    "par ordre croissant par exemple "
   ]
  },
  {
   "cell_type": "markdown",
   "metadata": {
    "slideshow": {
     "slide_type": "subslide"
    }
   },
   "source": [
    "Trions `t` pour continuer selon ces hypothèses."
   ]
  },
  {
   "cell_type": "code",
   "execution_count": 17,
   "metadata": {
    "slideshow": {
     "slide_type": "fragment"
    }
   },
   "outputs": [
    {
     "name": "stdout",
     "output_type": "stream",
     "text": [
      "[0, 1, 1, 2, 3, 4, 4, 5, 9, 10]\n"
     ]
    }
   ],
   "source": [
    "# En attendant le chapitre suivant, utilisosn les fonctions prédéfinies de python\n",
    "t.sort()\n",
    "print(t)"
   ]
  },
  {
   "cell_type": "markdown",
   "metadata": {
    "slideshow": {
     "slide_type": "subslide"
    }
   },
   "source": [
    "**Principe**  \n",
    "Un algorithme _diviser pour régner_ où chaque division réduit la recherche à un ensemble de taille moitié, l'autre ensemble n'étant plus considéré  \n",
    "\n",
    "1. diviser :\n",
    "  -  on partage en 2 par la moitié le tableau trié\n",
    " \n",
    "1. régner :\n",
    "    - on compare la valeur cherchée à la valeur médiane du tableau \n",
    "    - si besoin, on en déduit la moitié gauche ou droite du tableau qui contient la valeur cherchée \n",
    "    - on recommence la recherche sur la \"bonne moitié\" "
   ]
  },
  {
   "cell_type": "markdown",
   "metadata": {
    "slideshow": {
     "slide_type": "slide"
    }
   },
   "source": [
    "### Algorithme itératif\n",
    "\n",
    "**Analyse**\n",
    "\n",
    "Il faut :\n",
    "1. _itérer_ :\n",
    "    - le test de la valeur de l'indice milieu \n",
    "    - le découpage en 2 du tableau  \n",
    "\n",
    "2. _arrêter_ :\n",
    "    - quand on a trouvé la valeur cherchée\n",
    "    - ou si la taille du tableau est égale à zéro (tableau vide) \n",
    "\n",
    "3. _retourner_ un booléen"
   ]
  },
  {
   "cell_type": "markdown",
   "metadata": {
    "slideshow": {
     "slide_type": "subslide"
    }
   },
   "source": [
    "**Codage**\n",
    "\n",
    "- L'appel s'effectue en indiquant :  \n",
    "    * la valeur cherchée  \n",
    "    * le tableau  \n",
    "    * sa taille  \n",
    "\n",
    "- Le nombre d'itérations n'est a priori pas connu (il est borné en revanche)  donc boucle `while`\n",
    "- L'indice milieu est obtenu avec une division entière `//` sachant que le milieu entre $a$ et $b$ est $(a+b)//2$  \n",
    "    - Rappel : la division entière `//` retourne le quotient de la division euclidienne  \n",
    "- D'une itération à l'autre :\n",
    "    * choisir la partie gauche ou droite du tableau revient à changer l'indice de début et de fin du prochain tableau à traiter : on introduit des indices `g`, `d` et `m` pour désigner les indices de gauche, de droite et du milieu   \n",
    "    * la taille est divisée par 2  "
   ]
  },
  {
   "cell_type": "code",
   "execution_count": 18,
   "metadata": {
    "slideshow": {
     "slide_type": "slide"
    }
   },
   "outputs": [],
   "source": [
    "def dichotomie_iterative(val, t, dim_t):\n",
    "    '''recherche dichotomique : version itérative\n",
    "    entrées - val :int cherché\n",
    "            - t : tableau d'int de taille dim_t, trié par ordre croissant\n",
    "    sortie : vrai si val est dans t, faux sinon\n",
    "            \n",
    "    '''\n",
    "    g = 0          # indice de gauche du tableau exploré\n",
    "    d = dim_t - 1  # indice de droite du tableau exploré\n",
    "    \n",
    "    while g <= d:\n",
    "        m = (g + d)//2   # indice milieu de t[g,d]\n",
    "        if t[m] == val:\n",
    "            return True\n",
    "        elif t[m] > val: # val est dans la partie gauche : t[g,m-1]\n",
    "            d = m - 1\n",
    "        else:            # val est dans la partie droite : t[m+1,d]\n",
    "            g = m + 1\n",
    "    return False               "
   ]
  },
  {
   "cell_type": "markdown",
   "metadata": {
    "slideshow": {
     "slide_type": "subslide"
    }
   },
   "source": [
    "<div class=\"alert alert-block alert-warning\">\n",
    "Ici aussi, l'ordre du traitement des terminaisons (lignes 14 et 16) est important : l'accès `t[m]` est susceptible de lever une exception (débordement de tableau). \n",
    "</div>"
   ]
  },
  {
   "cell_type": "code",
   "execution_count": 19,
   "metadata": {
    "slideshow": {
     "slide_type": "subslide"
    }
   },
   "outputs": [
    {
     "name": "stdout",
     "output_type": "stream",
     "text": [
      "1 dans  [0, 1, 1, 2, 3, 4, 4, 5, 9, 10] ? True\n",
      "3 dans  [0, 1, 1, 2, 3, 4, 4, 5, 9, 10] ? True\n",
      "7 dans  [0, 1, 1, 2, 3, 4, 4, 5, 9, 10] ? False\n"
     ]
    }
   ],
   "source": [
    "v = 1\n",
    "print(v, \"dans \", t, \"?\", dichotomie_iterative(v, t, len(t)))\n",
    "v = 3\n",
    "print(v, \"dans \", t, \"?\", dichotomie_iterative(v, t, len(t)))\n",
    "v = 7\n",
    "print(v, \"dans \", t, \"?\", dichotomie_iterative(v, t, len(t)))"
   ]
  },
  {
   "cell_type": "markdown",
   "metadata": {
    "slideshow": {
     "slide_type": "slide"
    }
   },
   "source": [
    "### Algorithme récursif\n",
    "\n",
    "**Analyse**  \n",
    "\n",
    "1. Récursion \n",
    "    * il faut appeler récursivement la recherche sur le **sous-**tableau (gauche ou droite) qui va bien  \n",
    "    \n",
    "2. Terminaison : 2 cas  \n",
    "    * on a trouvé la valeur cherchée\n",
    "    * le tableau est vide  "
   ]
  },
  {
   "cell_type": "markdown",
   "metadata": {
    "slideshow": {
     "slide_type": "subslide"
    }
   },
   "source": [
    "**Codage**\n",
    "\n",
    "Récursion : \"le sous-tableau (gauche ou droite) qui va bien\"\n",
    "\n",
    "* il faut pouvoir préciser les indices gauche et droit du sous-tableau traité\n",
    "    - donc paramètres formels : `g` et `d`\n",
    "* et sa taille (parce qu'on manipule un tableau)\n",
    "    - donc paramètre formel `n` \n",
    "    \n",
    "Rmq.: A la place de `n`,  on pourrait déduire la taille effective du tableau traité à partir de `g`et `d`. Mais on convenu d'ajouter systématiquement la taille d'un tableau passé en argument d'un sous-programme.  "
   ]
  },
  {
   "cell_type": "code",
   "execution_count": 20,
   "metadata": {
    "slideshow": {
     "slide_type": "subslide"
    }
   },
   "outputs": [],
   "source": [
    "def dichotomie(val: int, t: list[int], dim_t: int, g: int, d: int) -> bool:\n",
    "    '''recherche dichotomique : version récursive\n",
    "    recherche val dans t[g, d] et retourne True ou False\n",
    "    entrées. val : int, t: tableau d'int de taille n,\n",
    "    g, d : int indices gauche et droite\n",
    "    '''\n",
    "    if g > d:\n",
    "        return False # t est vide\n",
    "    m = (g + d) // 2 \n",
    "    if t[m] == val:\n",
    "        return True\n",
    "    elif val < t[m]: # val est dans la partie gauche\n",
    "        dim_t = (m-1) - g + 1 \n",
    "        return dichotomie(val, t, dim_t, g, m-1)\n",
    "    else:            # val est dans la partie droite\n",
    "        dim_t = d - m\n",
    "        return dichotomie(val, t, dim_t, m+1, d)\n",
    "        \n",
    "def dichotomie_recursive(val: int, t: list[int], dim_t: int) -> 0:\n",
    "    '''recherche dichotomique de val dans t de taille dim_t\n",
    "    pour ressembler ) la version iterative en utilisant dichotomie\n",
    "    '''\n",
    "    return dichotomie(val, t, dim_t, 0, dim_t-1)\n",
    "    "
   ]
  },
  {
   "cell_type": "markdown",
   "metadata": {
    "slideshow": {
     "slide_type": "subslide"
    }
   },
   "source": [
    "<div class=\"alert alert-block alert-warning\">\n",
    "Ici encore, l'ordre du traitement des terminaisons (lignes 10 et 12) est important : l'accès `t[m]` est susceptible de lever une exception (débordement de tableau). \n",
    "</div>"
   ]
  },
  {
   "cell_type": "code",
   "execution_count": 21,
   "metadata": {
    "slideshow": {
     "slide_type": "subslide"
    }
   },
   "outputs": [
    {
     "name": "stdout",
     "output_type": "stream",
     "text": [
      "1 dans  [0, 1, 1, 2, 3, 4, 4, 5, 9, 10] ? True\n",
      "3 dans  [0, 1, 1, 2, 3, 4, 4, 5, 9, 10] ? True\n",
      "7 dans  [0, 1, 1, 2, 3, 4, 4, 5, 9, 10] ? False\n"
     ]
    }
   ],
   "source": [
    "v = 1\n",
    "print(v, \"dans \", t, \"?\", dichotomie_recursive(v, t, len(t)))\n",
    "v = 3\n",
    "print(v, \"dans \", t, \"?\", dichotomie_recursive(v, t, len(t)))\n",
    "v = 7\n",
    "print(v, \"dans \", t, \"?\", dichotomie_recursive(v, t, len(t)))"
   ]
  },
  {
   "cell_type": "markdown",
   "metadata": {
    "slideshow": {
     "slide_type": "subslide"
    }
   },
   "source": [
    "**Remarque**\n",
    "* Observer et bien comprendre pourquoi le traitement récursif `dichotomie` comporte 4 `return`\n",
    "    - Essayer par exemple de supprimer les 2 derniers\n",
    "* L'_encapsulation_ de `dichotomie` dans `dichotomie_recursive` permet un appel de plus haut niveau similaire à la version itérative. Dans l'absolu, il n'est pas nécessaire : c'est l'_appel principal_ de `dichotomie` qui résout le problème..\n",
    "\n",
    "\n",
    "**Exercices**\n",
    "* Instrumenter le code (ajouter des `print()` :) pour exhiber l'évalution de `g`, `d` et `m`\n",
    "* Effectuer les 2 recherches précédentes sans utiliser `dichotomie_recursive` mais seulement `dichotomie`\n"
   ]
  },
  {
   "cell_type": "markdown",
   "metadata": {
    "slideshow": {
     "slide_type": "slide"
    }
   },
   "source": [
    "## Complexité des algorithmes de recherche\n",
    "\n",
    "Nous allons montrer que la recherche séquentielle est un algorithme de complexité linéaire tandis que la recherche dichotomique est de complexité logarithmique. Ce qui justifie l'intérêt l'approche dichotomique pour des tableaux **triés** de grande taille.   "
   ]
  },
  {
   "cell_type": "markdown",
   "metadata": {
    "slideshow": {
     "slide_type": "slide"
    }
   },
   "source": [
    "### Les paramètres de l'analyse de la complexité\n",
    "\n",
    "**Paramètre de complexité :** le nombre de valeurs présentes, c-a-d. la taille `dim` du tableau de stockage. \n",
    "\n",
    "Notons **$n$** ce paramètre et `t` ce tableau.\n",
    "\n",
    "**Mesure de la complexité :** la comparaison `t[i] == val` dans le cas séquentiel itératif, ou  `t[g] == val` dans le cas séquentiel récursif ou enfin `t[m] == val` dans le cas dichotomique.\n",
    "\n",
    "On va donc chercher la quantité $C(n)$  qui compte le nombre de ces comparaisons comme une fonction de la taille $n$ du tableau de stockage. "
   ]
  },
  {
   "cell_type": "markdown",
   "metadata": {
    "slideshow": {
     "slide_type": "slide"
    }
   },
   "source": [
    "### Analyse de la recherche séquentielle itérative\n",
    "\n",
    "Le nombre de comparaisons dépend de la position de `val` dans `t` : \n",
    "-  meilleur cas : `val` est présent à l'indice 0 et 1 comparaison suffit\n",
    "-  pire cas : `val` est absent de `t` donc le parcours du tableau est complet (quelque soit l'écriture) et comporte $n$ comparaisons\n",
    "-  dans le cas général : traitement effectué avec un nombre de comparaisons inférieur ou égal à $n$\n",
    "\n",
    "Donc $C(n) \\le n$.\n",
    "\n",
    "La complexité en temps de la recherche séquentielle dans un tableau de $n$ valeurs est au pire **linéaire en $n$**.\n",
    "\n",
    "Sa complexité asymptotique est telle que : $C(n) = \\cal{O}(n)$."
   ]
  },
  {
   "cell_type": "markdown",
   "metadata": {
    "slideshow": {
     "slide_type": "slide"
    }
   },
   "source": [
    "### Analyse de la recherche dichotomique, version itérative\n",
    "\n",
    "La dichotomie effectue des divisions successives de la taille du tableau dans laquelle la recherche est effectuée. Il est _commode_ de commencer l'analyse avec $n = 2^p$ pour obtenir des tailles successives entières.\n",
    "\n",
    "Remarquons dès maintenant :\n",
    "- si $n = 2^p$ alors $p = \\log_2(n)$\n",
    "- si $2^p \\le n < 2^{p+1}$ alors $p =$ `int`($\\log_2(n)$).\n",
    "\n",
    "Cette dernière ligne explicite l'intérêt de commencer avec $n = 2^p$. "
   ]
  },
  {
   "cell_type": "markdown",
   "metadata": {
    "slideshow": {
     "slide_type": "subslide"
    }
   },
   "source": [
    "**Principe de l'analyse**.\n",
    "\n",
    "Le nombre de comparaisons dépend de la position de `val` dans `t` : \n",
    "\n",
    "Meilleur cas : `val` est présent à l'indice `m == n//2` et 1 comparaison suffit\n",
    "\n",
    "Pire cas : `val` est absent de `t`\n",
    "- la recherche s'effectue successivement sur des tableaux de taille $n, n/2, n/4, \\dots, 4, 2, 1$ jusqu'à terminaison avec `g == d`, c-a-d. un tableau vide, soit donc $p = \\log_2(n)$ divisions par 2 avant terminaison\n",
    "- pour chacune de ces tailles, une comparaison `t[m] == val` est effectuée\n",
    "\n",
    "Donc $C(n) = p = \\log_2(n)$ dans le pire des cas pour $n = 2^p$.\n",
    "\n",
    "Et pour le pire cas d'une taille $n$ quelconque, `int`$(\\log_2(n)) \\le C(n) <$  `int`$(\\log_2(n))+1$. \n",
    "\n",
    "La complexité en temps de la recherche séquentielle dans un tableau de $n$ valeurs est au pire majorée par le **logarithme de $n$**.\n",
    "\n",
    "Sa complexité asymptotique est telle que : $C(n) = \\cal{O}(\\log(n))$.\n"
   ]
  },
  {
   "cell_type": "markdown",
   "metadata": {
    "slideshow": {
     "slide_type": "subslide"
    }
   },
   "source": [
    "**Rmq.** \n",
    "Les valeurs successives de la taille des tableaux traités sont celles de la suite géométrique de raison $1/2$  et de premier terme $n$.\n",
    "Une telle suite converge vers 0. \n",
    "Ce qui permettra de prouver la terminaison de l'algorithme. "
   ]
  },
  {
   "cell_type": "markdown",
   "metadata": {
    "slideshow": {
     "slide_type": "subslide"
    }
   },
   "source": [
    "**Exercice.** \n",
    "\n",
    "La complexité logarithmique de la recherche dichotomique en version itérative peut aussi se démontrer en prouvant (par récurrence) que la taille de l'intervalle après $k$ itération de $[g, d[$, $|d - g| < n / 2^k$. "
   ]
  },
  {
   "cell_type": "markdown",
   "metadata": {
    "slideshow": {
     "slide_type": "slide"
    }
   },
   "source": [
    "### Analyse de la recherche dichotomique, version récursive\n",
    "\n",
    "On retrouve facilement la complexité logarithmique de la recherche dichotomique dans sa version récursive. \n",
    "\n",
    "On simplifie l'analyse en observant un pire cas et $n = 2^p$.\n",
    "\n",
    "Soit $C(n)$ le nombre de comparaisons effectuées par la recherche dichotomique dans $n$ valeurs.\n",
    "\n",
    "Une étape de récursion de cette recherche :\n",
    "- effectue une comparaison : `t[m] == val`\n",
    "- \"appelle\" la récursion pour $n/2$.\n",
    "\n",
    "La terminaison est obtenue dans le pire cas pour $C(1) = 1$ (ou $C(0) = 0$).\n",
    "\n",
    "Soit donc, directement :\n",
    "$C(n) = 1 + C(n/2)$ et $C(1) = 1$.\n",
    "\n",
    "On développe cette relation de récurrence pour $n, n/2, ..., 1$. \n",
    "\n",
    "Ce qui donne :\n",
    "$C(n) = 1 + 1 + \\dots + 1 = \\log_2(n)$.\n",
    "\n",
    "On remarque que l'analyse de la version récursive conduit naturellement à une relation de récurrence."
   ]
  },
  {
   "cell_type": "markdown",
   "metadata": {},
   "source": [
    "**Exercice**. \n",
    "\n",
    "De façon similaire, retrouver la complexité linéaire de la recherche séquentielle en version récursive. "
   ]
  },
  {
   "cell_type": "markdown",
   "metadata": {
    "slideshow": {
     "slide_type": "slide"
    }
   },
   "source": [
    "## ($\\star$) Preuves de terminaison et de correction \n",
    "\n",
    "Nous illustrons comment prouver :\n",
    "- qu'un algorithme termine\n",
    "- qu'un algorithme est correct, c-a-d. qu'il termine en trouvant bien la solution du problème.\n"
   ]
  },
  {
   "cell_type": "markdown",
   "metadata": {
    "slideshow": {
     "slide_type": "slide"
    }
   },
   "source": [
    "### Terminaison de la recherche séquentielle : version itérative\n",
    "\n",
    "Il s'agit de montrer que l'exécution de l'algorithme termine son exécution quelques soient les entrées de l'instance. Dans un premier temps, on ne s'intéresse pas à la validité de la solution ainsi trouvée.\n",
    "\n",
    "Dans le cas d'un algorithme itératif, une technique classique pour prouver la terminaison de l'algorithme est d'identifier **un variant de boucle** ou _variant de l'itération_.\n",
    "\n",
    "**Variant de boucle** : une quantité _entière_ et _positive_ qui _décroît_ strictement à chaque itération de la boucle.\n",
    "\n",
    "La terminaison de l'algorithme itératif est prouvé si ce _variant arrête la répétition_ (la boucle) -- et ce quelques soient les entrées de la répétition.\n"
   ]
  },
  {
   "cell_type": "markdown",
   "metadata": {
    "slideshow": {
     "slide_type": "subslide"
    }
   },
   "source": [
    "Reprenons une version itérative de la recherche séquentielle.\n",
    "\n",
    "Celle avec le `while` est la plus simple pour commencer.\n",
    "\n",
    "```python\n",
    "def rech_seq_while(val: int, tab: list[int], dim: int) -> bool:\n",
    "    i = 0\n",
    "    while i < dim:\n",
    "        if tab[i] == val:\n",
    "            return True\n",
    "        i = i + 1 \n",
    "    return False\n",
    "```"
   ]
  },
  {
   "cell_type": "markdown",
   "metadata": {
    "slideshow": {
     "slide_type": "subslide"
    }
   },
   "source": [
    "**Exemple de preuve de terminaison**\n",
    "\n",
    "Aucune quantité de l'algo ainsi écrit est _explicitement_ un variant.\n",
    "\n",
    "Cependant  La condition d'arrêt `i < dim` permet de ré-écrire une variable d'itération **`j = dim - i`** que l'on va prouver être un variant de la boucle.\n",
    "- avant la première itération boucle : l'entier `j == dim` qui est positif si le tableau `t` n'est pas vide\n",
    "- chaque itération de la boucle décrémente `j` de 1 (car elle incrémente `i` de 1)\n",
    "- `j` est donc un entier, positif qui décroît par pas de 1 à partir de `dim`,\n",
    "- **donc, à terme** (i.e. à un certain moment), `j` vaut  0.\n",
    "    - mathématiquement les valeurs de `j` suivent une suite arithmétique de raison -1 et de premier terme  `dim` > 0. \n",
    "- Quand `j == 0`, `i == dim`, valeur qui ne vérifie pas la condition de test de la ligne 5 et qui arrête donc la répétition.\n",
    "    \n",
    "On a bien identifié un variant qui prouve la terminaison de cette recherche séquentielle (version itérative `while`).   \n",
    "    \n",
    "**Rmq.** \n",
    "- Ceci est aussi vrai pour un tableau vide : `dim == 0`.\n",
    "- Ce qui permet d'écrire une solution valide avec tout tableau même vide, sans traitement spécifique de ce cas."
   ]
  },
  {
   "cell_type": "markdown",
   "metadata": {
    "slideshow": {
     "slide_type": "subslide"
    }
   },
   "source": [
    "Ainsi, on écrit l'algorithme avec une répétition `while` contrôlée par ce variant `j` : c-a-d. en prenant `j` comme indice, initialisé à `dim` et la condition d'arrêt `j > 0`. \n",
    "Cette ré-écriture est un changement de variable \"classique\".  "
   ]
  },
  {
   "cell_type": "code",
   "execution_count": 22,
   "metadata": {
    "slideshow": {
     "slide_type": "fragment"
    }
   },
   "outputs": [
    {
     "name": "stdout",
     "output_type": "stream",
     "text": [
      "0 dans  [0, 1, 1, 2, 3, 4, 4, 5, 9, 10] ? True\n",
      "7 dans  [0, 1, 1, 2, 3, 4, 4, 5, 9, 10] ? False\n",
      "10 dans  [0, 1, 1, 2, 3, 4, 4, 5, 9, 10] ? True\n",
      "1 dans  [] ? False\n"
     ]
    }
   ],
   "source": [
    "def rech_seq_while_variant(val: int, tab: list[int], dim: int) -> bool:\n",
    "    '''recherche équentielle itérative : s'il fallait n'en garder qu'une !'''\n",
    "    assert dim == len(tab)\n",
    "\n",
    "    j = dim\n",
    "    while j > 0:\n",
    "        if tab[j - 1] == val:\n",
    "            return True\n",
    "        j = j - 1 \n",
    "    return False\n",
    "\n",
    "\n",
    "v = 0\n",
    "print(v, \"dans \", t, \"?\", rech_seq_while_variant(v, t, len(t)))\n",
    "v = 7\n",
    "print(v, \"dans \", t, \"?\", rech_seq_while_variant(v, t, len(t)))\n",
    "v = 10\n",
    "print(v, \"dans \", t, \"?\", rech_seq_while_variant(v, t, len(t)))\n",
    "\n",
    "# cas du tableau vide\n",
    "v = 1 # par exemple\n",
    "t_vide = []\n",
    "print(v, \"dans \", t_vide, \"?\", rech_seq_while_variant(v, t_vide, len(t_vide)))\n"
   ]
  },
  {
   "cell_type": "markdown",
   "metadata": {
    "slideshow": {
     "slide_type": "subslide"
    }
   },
   "source": [
    "**Exercice** \n",
    "\n",
    "- Adapter cette preuve de terminaison à la version avec une boucle `for`.\n"
   ]
  },
  {
   "cell_type": "markdown",
   "metadata": {
    "slideshow": {
     "slide_type": "slide"
    }
   },
   "source": [
    "### Correction de la recherche séquentielle :  version itérative\n",
    "\n",
    "Il s'agit maintenant de prouver que l'algorithme (qui termine) calcule la solution attendue -- et ce quelques soient les instances de problèmes concernées. \n",
    "\n",
    "La preuve de la correction d'un algorithme itératif repose souvent sur la notion **d'invariant de boucle**.\n",
    "\n",
    "Un **invariant de boucle** est une propriété vérifiée tout au long de l'exécution d'une boucle et qui exhibe la correction de l'algorithme à la terminaison de la boucle.\n",
    "\n",
    "La preuve s'effectue en 3 étapes.\n",
    "En notant (P) cette propriété :\n",
    "1. **initialisation** : (P) est vraie avant la première itération du corps de la boucle\n",
    "2. **conservation** : On suppose (P) vraie avant la i-ème itération. On montre que la i-ème itération conserve (P).\t\n",
    "C-a-d. que (P) vraie avant la i-ème itération reste vraie avant la (i+1)-ème itération.\n",
    "3. **terminaison** : (P) est vraie après la dernière itération. "
   ]
  },
  {
   "cell_type": "markdown",
   "metadata": {
    "slideshow": {
     "slide_type": "subslide"
    }
   },
   "source": [
    "En pratique :\n",
    "- la propriété appliquée à la sortie de boucle (terminaison) prouve que celle-ci a effectué le traitement prévu \n",
    "    - exemple : la recherche séquentielle étant \"réduite\" à une boucle, son invariant prouvera que la solution retournée par le traitement est exacte : soit `True` si la valeur est présente dans `t` et `False` sinon.\n",
    "- l'initialisation, c-a-d. avant la boucle, prouve que les variables sont correctement initialisées\n",
    "- la conservation et la terminaison prouvent que l'indice de boucle et le nombre d'itérations sont corrects.\n",
    "- initialisation et conservation constituent une preuve par récurrence \"classique\""
   ]
  },
  {
   "cell_type": "markdown",
   "metadata": {
    "slideshow": {
     "slide_type": "subslide"
    }
   },
   "source": [
    "Prouvons que la propriété suivante :\n",
    "> (P) Avant l'itération `i`, si `val` est présent dans `t`, il est présent dans `t[i, dim-1]`\n",
    "\n",
    "est un invariant de la boucle de la recherche séquentielle :\n",
    "```python\n",
    "    i = 0\n",
    "    while i < dim:\n",
    "        if t[i] == val:\n",
    "            return True\n",
    "        i = i + 1 \n",
    "    return False\n",
    "```\n",
    "La contraposée de (P) est :\n",
    "> (P) Avant l'itération `i`, si `val` est absent de `t[i, dim-1]`, il est absent de `t`."
   ]
  },
  {
   "cell_type": "markdown",
   "metadata": {
    "slideshow": {
     "slide_type": "subslide"
    }
   },
   "source": [
    "1. Initialisation.\n",
    "Avant la première itération, `i==0` et `t[0,dim-1]` est le tableau tout entier. Donc (P) est trivialement vraie.\n",
    "\n",
    "2. Conservation.\n",
    "D'après (P), avant la i-ième itération pour `val` présent dans `t`, `val` est dans `t[i, dim-1]`.\n",
    "Donc `val == t[i]` ou `val = t[j]` pour `i+1 <= j < dim`.    \n",
    "- si `i < dim`, l'itération s'effectue et `t[i]` est valide.\n",
    "    - si `t[i] != val`, `val` est donc dans `t[i+1, dim-1]` d'après (P). \n",
    "    `i` est incrémenté donc (P) est bien conservée après l'itération `i`.   \n",
    "    - si `t[i] == val`, `val` est bien dans `t[i, dim-1]`. `i` n'est pas modifié, l'itération s'arrête  et (P) reste vrai.\n",
    "\n",
    "    \n",
    "3. Terminaison : 2 cas.\n",
    "- Si  `i==dim` alors la conservation de (P) à l'itération précédente dit que si `val` est présent dans `t`, il est présent dans `t[dim, dim-1]`, ce qui est impossible car `t[dim, dim-1]` est vide. \n",
    "Donc `val` est absent dans `t` selon la contraposée de (P). \n",
    "- Sinon (cas déjà vu), `val` est présent en position `i` dans `t` (et est bien dans `t[i, dim-1]`).   "
   ]
  },
  {
   "cell_type": "markdown",
   "metadata": {
    "slideshow": {
     "slide_type": "subslide"
    }
   },
   "source": [
    "**Rmq.** \n",
    "- L'identification de l'invariant est plus difficile que sa preuve. \n",
    "- **L'invariant est une propriété caractéristique de l'algorithme itératif**. \n",
    "    - Dit simplement, _l'invariant formalise \"ce qui fait marcher\" l'algorithme_.  \n",
    "    - Il n'y a pas qu'un seul invariant possible, bien sûr."
   ]
  },
  {
   "cell_type": "markdown",
   "metadata": {
    "slideshow": {
     "slide_type": "slide"
    }
   },
   "source": [
    "### Terminaison de la recherche dichotomique\n",
    "\n",
    "Lors de l'analyse de complexité de la recherche dichotomique, on a indiqué **pour le pire cas** :\n",
    "- que la condition d'arrêt `g >= d` _commune aux formulations itérative et récursive_\n",
    " correspond à un tableau vide, i.e. de taille 0,\n",
    "- que la taille `d - g` des tableaux successifs de la dichotomie suivaient la suite géométrique de raison $1/2$  et de premier terme $n$.\n",
    "\n",
    "Cette suite de termes positifs converge vers 0. \n",
    "Ce qui prouve la terminaison de l'algorithme par vérification de la condition d'arrêt :\n",
    "- de façon explicite dans le cas récursif\n",
    "- en considérant `d-g` (entier positif) comme variant dans le cas itératif. \n"
   ]
  },
  {
   "cell_type": "markdown",
   "metadata": {
    "slideshow": {
     "slide_type": "slide"
    }
   },
   "source": [
    "### ($\\star\\star$) Correction de la recherche dichotomique : version itérative\n",
    "\n",
    "Prouvons que la propriété suivante est un invariant de la boucle de la recherche dichotomique.\n",
    "\n",
    "Invariant (P) : \n",
    "> si `val` est présent dans `t` alors il est dans `t[g,d]`.\n",
    "\n",
    "Avant de prouver (P), énonçons _sa contraposée_ :\n",
    "> si `val` n'est pas dans `t[g,d]` alors `val` n'est pas présent dans `t`.   \n",
    "\n",
    "Par commodité, on rappelle l'algorithme concerné (sans la spécification de la fonction).\n",
    "\n",
    "```python\n",
    "    g = 0          # indice de gauche du tableau exploré\n",
    "    d = dim_t - 1  # indice de droite du tableau exploré    \n",
    "    while g <= d:\n",
    "        m = (g + d)//2   # indice milieu de t[g,d]\n",
    "        if t[m] == val:\n",
    "            return True\n",
    "        elif t[m] > val: # val est dans la partie gauche : t[g,m-1]\n",
    "            d = m - 1\n",
    "        else:            # val est dans la partie droite : t[m+1,d]\n",
    "            g = m + 1\n",
    "    return False   \n",
    "\n",
    "```\n",
    "\n",
    "Dans l'énoncé de (P), \"est présent\" correspond à la valeur renvoyée `True`, et inversement pour la contraposée.  "
   ]
  },
  {
   "cell_type": "markdown",
   "metadata": {
    "slideshow": {
     "slide_type": "slide"
    }
   },
   "source": [
    "Sans perdre de généralité, on facilite l'écriture de la preuve en supposant que toutes les valeurs de `t` sont différentes (ce qui donne des inégalités strictes) et on note `n = dim_t`.\n",
    "\n",
    "Appelons _pivot_ la valeur de `t[m]` où `m = (g+d)//2`.   \n",
    "Chaque itération effectuée teste donc si la valeur du pivot est celle cherchée, et sinon continue le traitement sur une des deux parties à droite ou à gauche du pivot (d'où son nom).\n",
    "\n",
    "La preuve de l'invariant repose sur la propriété simple suivante :\n",
    "- les valeurs \"à gauche\" du pivot sont inférieures au pivot,\n",
    "- et inversement pour celles \"à droite\" du pivot.\n",
    "\n",
    "Ce qui ce formalise comme suit :\n",
    "- `t[i] < pivot` pour `g <= i < m`\n",
    "- `t[i] > pivot` pour `m < i <= d`\n",
    "\n",
    "![](./fig/dichotomie.png)"
   ]
  },
  {
   "cell_type": "markdown",
   "metadata": {
    "slideshow": {
     "slide_type": "subslide"
    }
   },
   "source": [
    "**Preuve de (P).**\n",
    "\n",
    "Globalement, l'algorithme met à jour `g` ou `d` jusqu'à avoir trouvé `val` ou ... être sûr de ne plus pouvoir le trouver. Ces 4 aspects sont les clés de la preuve de : \n",
    "> (P) si `val` est présent dans `t` alors il est dans `t[g,d]`.\n",
    "\n",
    "1. Initialisation \n",
    "- Avant la première itération, `g==0` et `d==n-1`donc `t[g,d] == t[0,n-1]`, c-a-d. le tableau `t` (en entier). Donc (P) est (trivialement) vraie.\n",
    "\n",
    "2. Conservation : \n",
    "Au début d'une itération donnée, (P) assure que si `val` est présent, il existe `j` tel que `t[j]==val` avec `g <= j <= d`.\n",
    "- si `j == (g+d)//2 == m` alors ni `g` ni `d` sont modifiés par l'itération et (P) reste donc vraie au début de l'itération suivante avec `g <= m <= d`. \n",
    "- si `val < pivot (== t[m])` alors `d=m-1`. Montrons que `val` présent est dans `t[g, m-1]`. On sait que `t[i] < pivot` pour `g <= i < m` et `t[i] > pivot` sinon. Donc `val < pivot` présent est bien dans `t[g,m-1]==t[g,d]` et non dans le reste de `t`.\n",
    "(P) reste vraie au début de l'itération suivante.\n",
    "- si `val > pivot (== t[m])` alors `g=m+1` et cette fois `val` est présent dans `t[m+1,d]`. En effet, `t[i] > pivot` pour `m < i <= d` et `t[i] < pivot` sinon.\n",
    "Donc `val > pivot` est présent dans `t[m+1,d] == t[g,d]` et non dans le reste de `t`. (P) reste aussi vraie au début de l'itération suivante.\n",
    "\n",
    "3. Terminaison : La boucle `while` se termine dans 2 cas.\n",
    "- cas a : on a trouvé `m` dans tel que `val == t[m]` sans modifier `g` et `d` depuis l'itération précédente. Donc `val` est présent en `t[m]` avec `g <= m <= d` donc (P) est vrai pour `t[g,d]` après la dernière itération.\n",
    "- cas b : si `g > d`, `t[g,d]` est vide donc `val` n'est pas dans `t[g,d]`. La conservation de la contraposée de (P) prouve que `val` n'est pas présente dans `t` après la dernière itération. Ce qui prouve (P) dans ce cas de terminaison aussi."
   ]
  },
  {
   "cell_type": "markdown",
   "metadata": {
    "slideshow": {
     "slide_type": "subslide"
    }
   },
   "source": [
    "**Conclusion**.\n",
    "Les 2 cas de la terminaison prouvent la correction de l'algorithme étudié."
   ]
  },
  {
   "cell_type": "markdown",
   "metadata": {
    "slideshow": {
     "slide_type": "subslide"
    }
   },
   "source": [
    "**Rmq.** \n",
    "\n",
    "- Dans la preuve précédente, la validité de (tous les) `t[g,d]` est implicite :  aucun indice ne se trouve à l'extérieur du tableau `t[0, dim_t]`. Si besoin, on peut compléter chaque encadrement avec `0 <= g` et `d < dim_t`, se convaincre que `0 <= g <= m <= d < dim_t` et compléter la formulation de l'invariant comme suit :\n",
    "> (P) si `val` est présent dans `t` alors il est dans `t[g,d]` avec `0 <= g` et `d < dim_t`."
   ]
  },
  {
   "cell_type": "markdown",
   "metadata": {
    "slideshow": {
     "slide_type": "slide"
    }
   },
   "source": [
    "## Synthèse\n",
    "\n",
    "- Deux algorithmes simples de recherche : séquentielle et dichotomique sur tableau trié\n",
    "    - complexité linéaire vs. logarithmique  \n",
    "    - meilleurs cas, pire cas  \n",
    "- Exemples d'écritures itératives ou récursives du même algorithme  \n",
    "    - en-têtes identiques par encapsulation de l'appel récursif principal\n",
    "- Exemples d'analyse de complexité\n",
    "- ($\\star$) Exemples de preuve de terminaison et de correction\n",
    "    - algo itératif : variant et invariant de boucle \n"
   ]
  }
 ],
 "metadata": {
  "celltoolbar": "Diaporama",
  "kernelspec": {
   "display_name": "venv",
   "language": "python",
   "name": "venv"
  },
  "language_info": {
   "codemirror_mode": {
    "name": "ipython",
    "version": 3
   },
   "file_extension": ".py",
   "mimetype": "text/x-python",
   "name": "python",
   "nbconvert_exporter": "python",
   "pygments_lexer": "ipython3",
   "version": "3.9.6"
  },
  "latex_envs": {
   "LaTeX_envs_menu_present": true,
   "autoclose": false,
   "autocomplete": true,
   "bibliofile": "biblio.bib",
   "cite_by": "apalike",
   "current_citInitial": 1,
   "eqLabelWithNumbers": true,
   "eqNumInitial": 1,
   "hotkeys": {
    "equation": "Ctrl-E",
    "itemize": "Ctrl-I"
   },
   "labels_anchors": false,
   "latex_user_defs": false,
   "report_style_numbering": false,
   "user_envs_cfg": false
  },
  "toc": {
   "base_numbering": 1,
   "nav_menu": {
    "height": "503px",
    "width": "521px"
   },
   "number_sections": true,
   "sideBar": true,
   "skip_h1_title": false,
   "title_cell": "Table of Contents",
   "title_sidebar": "Contents",
   "toc_cell": true,
   "toc_position": {
    "height": "47.20000076293945px",
    "left": "848px",
    "right": "20px",
    "top": "109.4000015258789px",
    "width": "241px"
   },
   "toc_section_display": true,
   "toc_window_display": true
  }
 },
 "nbformat": 4,
 "nbformat_minor": 4
}
